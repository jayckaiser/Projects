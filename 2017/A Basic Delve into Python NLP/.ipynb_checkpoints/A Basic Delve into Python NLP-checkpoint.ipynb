{
 "cells": [
  {
   "cell_type": "markdown",
   "metadata": {},
   "source": [
    "# A Basic Delve into Python NLP\n",
    "### *~ According to the Majestic Whims of Jay Kaiser ~*\n",
    "\n",
    "**Note**: A vast majority of the code and methodologies found here has been taken directly from [Modern NLP in Python](http://nbviewer.jupyter.org/github/skipgram/modern-nlp-in-python/blob/master/executable/Modern_NLP_in_Python.ipynb). This is merely a way for me to practice these topics myself in my own environment, using the most recent dataset as provided by Yelp. I do not claim original creation of anything found here, and all credit belongs with the authors of that Jupyter notebook. I am merely striving to learn these concepts myself in a manner that is most conductive to my own research...\n",
    "\n",
    "With that in mind, let's get started."
   ]
  },
  {
   "cell_type": "markdown",
   "metadata": {},
   "source": [
    "## Introduction\n",
    "\n",
    "Hi. My name is Jay Kaiser, and I am in my final semester of grad school at Indiana University Bloomington, where I am receiving my M.S. in Computational Linguistics. Naturally, this has consisted mostly of classes of linguistics and of computer science separately, but occasionally a class that cleverly combines the two appears. Classes like these have slowly migrated me into the world of syntax and syntactic parsing. Moreover, such classes have taken me as well to the wonderful world of data science and data analytics, and my interest for such was only expanded upon following an internship with Kingfisher Systems, Inc. as a data scientist in Washington D.C. over the summer of 2017.\n",
    "\n",
    "However, I must continue in my studies if I ever hope to succeed. In order to rapidly acclimate myself to data science and its many aspects, I have invested in a range of resources to assist me with my learning. Nothing, though, will teach me better than merely getting my hands dirty and doing it myself, so here it goes..."
   ]
  },
  {
   "cell_type": "markdown",
   "metadata": {},
   "source": [
    "### Project: Yelp Dataset\n",
    "\n",
    "I have downloaded on my computer the entirety of the JSON portion of the [Yelp Dataset](https://www.yelp.com/dataset/challenge), which unzipped into six separate JSON files, each of which is outlined below.\n",
    "\n",
    "| Dataset File | Description |\n",
    "|-------------:|:------------|\n",
    "| business.json | information on each business reviewed on Yelp |\n",
    "| checkin.json | each business' hours |\n",
    "| photos.json | photos found on Yelp with their captions |\n",
    "| review.json | text reviews of each business |\n",
    "| tip.json | small quotes of advice for future visitors of the business |\n",
    "| user.json | Yelp reviewers and information describing them |\n",
    "\n",
    "However, only *business.json* and *review.json* will be used here."
   ]
  },
  {
   "cell_type": "markdown",
   "metadata": {},
   "source": [
    "### Step 1: A tour of the dataset\n",
    "\n",
    "First, the files need to loaded into python."
   ]
  },
  {
   "cell_type": "code",
   "execution_count": 2,
   "metadata": {
    "scrolled": true
   },
   "outputs": [
    {
     "name": "stdout",
     "output_type": "stream",
     "text": [
      "{\"business_id\": \"YDf95gJZaq05wvo7hTQbbQ\", \"name\": \"Richmond Town Square\", \"neighborhood\": \"\", \"address\": \"691 Richmond Rd\", \"city\": \"Richmond Heights\", \"state\": \"OH\", \"postal_code\": \"44143\", \"latitude\": 41.5417162, \"longitude\": -81.4931165, \"stars\": 2.0, \"review_count\": 17, \"is_open\": 1, \"attributes\": {\"RestaurantsPriceRange2\": 2, \"BusinessParking\": {\"garage\": false, \"street\": false, \"validated\": false, \"lot\": true, \"valet\": false}, \"BikeParking\": true, \"WheelchairAccessible\": true}, \"categories\": [\"Shopping\", \"Shopping Centers\"], \"hours\": {\"Monday\": \"10:00-21:00\", \"Tuesday\": \"10:00-21:00\", \"Friday\": \"10:00-21:00\", \"Wednesday\": \"10:00-21:00\", \"Thursday\": \"10:00-21:00\", \"Sunday\": \"11:00-18:00\", \"Saturday\": \"10:00-21:00\"}}\n",
      "\n"
     ]
    }
   ],
   "source": [
    "import os\n",
    "import codecs\n",
    "\n",
    "data_directory = os.path.join(r'C:\\Users\\jayka\\Documents', 'Datasets', 'yelp')\n",
    "business_filepath = os.path.join(data_directory, 'business.json')\n",
    "review_filepath = os.path.join(data_directory, 'review.json')\n",
    "\n",
    "with codecs.open(business_filepath, encoding='utf_8') as f:\n",
    "    first_business_record = f.readline()\n",
    "    \n",
    "print(first_business_record)"
   ]
  },
  {
   "cell_type": "markdown",
   "metadata": {},
   "source": [
    "Of these, **text** is the field I will use. However, any one of these fields could be used as well for other types of analysis.\n",
    "\n",
    "This JSON data is not easily navigable, so it'll have to be converted into a more-usable format."
   ]
  },
  {
   "cell_type": "code",
   "execution_count": 3,
   "metadata": {},
   "outputs": [
    {
     "name": "stdout",
     "output_type": "stream",
     "text": [
      "51,613 restaurants in the dataset.\n"
     ]
    }
   ],
   "source": [
    "import json\n",
    "\n",
    "restaurant_ids = set()\n",
    "\n",
    "with codecs.open(business_filepath, encoding='utf_8') as f:\n",
    "    for business_json in f:\n",
    "        business = json.loads(business_json)\n",
    "        \n",
    "        if u'Restaurants' not in business[u'categories']:\n",
    "            continue\n",
    "        \n",
    "        restaurant_ids.add(business[u'business_id'])\n",
    "    \n",
    "    restaurant_ids = frozenset(restaurant_ids)\n",
    "    \n",
    "    print('{:,}'.format(len(restaurant_ids)), u'restaurants in the dataset.')"
   ]
  },
  {
   "cell_type": "markdown",
   "metadata": {},
   "source": [
    "There are 51,613 registered restaurants in the dataset, over twice as many as there had been in 2016.\n",
    "\n",
    "Separately, I'll need to find the reviews for each of the restaurants, based on their ID. This will be placed in a separate file that's easier to parse."
   ]
  },
  {
   "cell_type": "code",
   "execution_count": 4,
   "metadata": {
    "collapsed": true
   },
   "outputs": [],
   "source": [
    "intermediate_directory = os.path.join(r'C:\\Users\\jayka\\Documents\\Datasets', 'intermediate')\n",
    "review_text_filepath = os.path.join(intermediate_directory, 'yelp_review_text.txt')"
   ]
  },
  {
   "cell_type": "code",
   "execution_count": 5,
   "metadata": {
    "scrolled": true
   },
   "outputs": [
    {
     "name": "stdout",
     "output_type": "stream",
     "text": [
      "Text from 2,929,512 restaurant reviews written to the new txt file.\n",
      "Wall time: 45.6 s\n"
     ]
    }
   ],
   "source": [
    "%%time\n",
    "\n",
    "review_count = 0\n",
    "\n",
    "if False: # Once this is run once it does not need to be run again.\n",
    "    \n",
    "    with codecs.open(review_text_filepath, 'w', encoding='utf_8') as review_text_file:\n",
    "        with codecs.open(review_filepath, encoding='utf_8') as review_json_file:\n",
    "            for review_json in review_json_file:\n",
    "                review = json.loads(review_json)\n",
    "\n",
    "                if review[u'business_id'] not in restaurant_ids:\n",
    "                    continue\n",
    "\n",
    "                review_text_file.write(review[u'text'].replace('\\n', '\\\\n') + '\\n')\n",
    "                review_count += 1\n",
    "            \n",
    "    print(u'Text from {:,} restaurant reviews written to the new text file.'.format(review_count))\n",
    "\n",
    "else:\n",
    "    with codecs.open(review_text_filepath, encoding='utf_8') as review_text_file:\n",
    "        for review_count, line in enumerate(review_text_file):\n",
    "            pass\n",
    "\n",
    "    print(u'Text from {:,} restaurant reviews written to the new txt file.'.format(review_count + 1))"
   ]
  },
  {
   "cell_type": "markdown",
   "metadata": {},
   "source": [
    "This process takes me about 2.5 minutes on my dual-core i5 laptop. Moreover, ther are a total of 2,927,731 reviews found, over three times as many as in 2016. I now have the IDs and review texts in separate files, and real parsing of the text can now begin."
   ]
  },
  {
   "cell_type": "markdown",
   "metadata": {},
   "source": [
    "### Step 2: Introduction to text processing with spaCy"
   ]
  },
  {
   "cell_type": "markdown",
   "metadata": {},
   "source": [
    "spaCy is a means to perform NLP tasks on these reviews just collected. It is both free-to-use and incredibly efficient and fast, much moreso than NLTK. It has been designed not for research, but for commerical and industrial usage. Below, a sample review has been printed. With it, I can get a better idea of what kind of data I'm working with."
   ]
  },
  {
   "cell_type": "code",
   "execution_count": 6,
   "metadata": {},
   "outputs": [
    {
     "name": "stdout",
     "output_type": "stream",
     "text": [
      "The staff here is great and they're nice,  wonderful and quick. People were ranting in raving about pei wei, I had to try it.  Even good yelp reviews.  I'm highly dissatisfied with the flavor of the food. This  should be labeled Asian inspired and not Asian. I've tried a variety of Chinese restaurants, this doesn't taste close to anything I've had at other Asian restaurants. Their Mongolian beef  was 5 pieces of beef and large mushrooms cut into thirds in a thick sauce. You eat the rice to wash off the nasty flavor. My shrimp was thickly coated in an overpowering  sauce as well.  I only ate some of the veggies that take center stage on a meat dish.  The center of my pork egg roll was cold. The hot N sour soup was a much thicker consistency almost like that of a chili instead of being brothy. Worst of all was the price.  This was not worth it to us. Neither me or my husband enjoyed either of  our dishes.  We didn't even eat half of our plates.  We even refused to take it home with us.  If you like and enjoy what typical Asian food tastes like,  don't waste your time here.\n",
      "\n"
     ]
    }
   ],
   "source": [
    "import spacy\n",
    "import pandas as pd\n",
    "import itertools as it\n",
    "\n",
    "nlp = spacy.load('en')\n",
    "\n",
    "with codecs.open(review_text_filepath, encoding='utf_8') as f:\n",
    "    sample_review = list(it.islice(f, 8, 9))[0]\n",
    "    sample_review = sample_review.replace('\\\\n', '\\n')\n",
    "\n",
    "print(sample_review)"
   ]
  },
  {
   "cell_type": "code",
   "execution_count": 7,
   "metadata": {},
   "outputs": [
    {
     "name": "stdout",
     "output_type": "stream",
     "text": [
      "Wall time: 24 ms\n"
     ]
    }
   ],
   "source": [
    "%%time\n",
    "parsed_review = nlp(sample_review)"
   ]
  },
  {
   "cell_type": "markdown",
   "metadata": {},
   "source": [
    "Parsing this entire thing with state-of-the-art NLP technology only took 23.2 milliseconds on my computer. Super fast!\n",
    "\n",
    "For listing all of the sentences in the sample review:"
   ]
  },
  {
   "cell_type": "code",
   "execution_count": 8,
   "metadata": {
    "scrolled": true
   },
   "outputs": [
    {
     "name": "stdout",
     "output_type": "stream",
     "text": [
      "Sentence 1:\n",
      "The staff here is great and they're nice,  wonderful and quick.\n",
      "\n",
      "Sentence 2:\n",
      "People were ranting in raving about pei wei, I had to try it.  \n",
      "\n",
      "Sentence 3:\n",
      "Even good yelp reviews.  \n",
      "\n",
      "Sentence 4:\n",
      "I'm highly dissatisfied with the flavor of the food.\n",
      "\n",
      "Sentence 5:\n",
      "This  should be labeled Asian inspired and not Asian.\n",
      "\n",
      "Sentence 6:\n",
      "I've tried a variety of Chinese restaurants, this doesn't taste close to anything I've had at other Asian restaurants.\n",
      "\n",
      "Sentence 7:\n",
      "Their Mongolian beef  was 5 pieces of beef and large mushrooms cut into thirds in a thick sauce.\n",
      "\n",
      "Sentence 8:\n",
      "You eat the rice to wash off the nasty flavor.\n",
      "\n",
      "Sentence 9:\n",
      "My shrimp was thickly coated in an overpowering  sauce as well.  \n",
      "\n",
      "Sentence 10:\n",
      "I only ate some of the veggies that take center stage on a meat dish.  \n",
      "\n",
      "Sentence 11:\n",
      "The center of my pork egg roll was cold.\n",
      "\n",
      "Sentence 12:\n",
      "The hot N sour soup was a much thicker consistency almost like that of a chili instead of being brothy.\n",
      "\n",
      "Sentence 13:\n",
      "Worst of all was the price.  \n",
      "\n",
      "Sentence 14:\n",
      "This was not worth it to us.\n",
      "\n",
      "Sentence 15:\n",
      "Neither me or my husband enjoyed either of  our dishes.  \n",
      "\n",
      "Sentence 16:\n",
      "We didn't even eat half of our plates.  \n",
      "\n",
      "Sentence 17:\n",
      "We even refused to take it home with us.  \n",
      "\n",
      "Sentence 18:\n",
      "If you like and enjoy what typical Asian food tastes like,  don't waste your time here.\n",
      "\n",
      "\n"
     ]
    }
   ],
   "source": [
    "for num, sentence in enumerate(parsed_review.sents):\n",
    "    print('Sentence {}:'.format(num + 1))\n",
    "    print(sentence)\n",
    "    print('')"
   ]
  },
  {
   "cell_type": "markdown",
   "metadata": {},
   "source": [
    "For listing all of the named entities:"
   ]
  },
  {
   "cell_type": "code",
   "execution_count": 9,
   "metadata": {},
   "outputs": [
    {
     "name": "stdout",
     "output_type": "stream",
     "text": [
      "Entity 1: Asian - NORP\n",
      "\n",
      "Entity 2: Asian - NORP\n",
      "\n",
      "Entity 3: Chinese - NORP\n",
      "\n",
      "Entity 4: Asian - NORP\n",
      "\n",
      "Entity 5: Mongolian - NORP\n",
      "\n",
      "Entity 6: 5 - CARDINAL\n",
      "\n",
      "Entity 7: half - CARDINAL\n",
      "\n",
      "Entity 8: Asian - NORP\n",
      "\n"
     ]
    }
   ],
   "source": [
    "for num, entity in enumerate(parsed_review.ents):\n",
    "    print('Entity {}:'.format(num + 1), entity, '-', entity.label_)\n",
    "    print('')"
   ]
  },
  {
   "cell_type": "markdown",
   "metadata": {},
   "source": [
    "For listing each word's POS tag:\n",
    "\n",
    "(We'll be using *pandas* for this for its easy displaying and further parsing.)"
   ]
  },
  {
   "cell_type": "code",
   "execution_count": 10,
   "metadata": {},
   "outputs": [
    {
     "data": {
      "text/html": [
       "<div>\n",
       "<style>\n",
       "    .dataframe thead tr:only-child th {\n",
       "        text-align: right;\n",
       "    }\n",
       "\n",
       "    .dataframe thead th {\n",
       "        text-align: left;\n",
       "    }\n",
       "\n",
       "    .dataframe tbody tr th {\n",
       "        vertical-align: top;\n",
       "    }\n",
       "</style>\n",
       "<table border=\"1\" class=\"dataframe\">\n",
       "  <thead>\n",
       "    <tr style=\"text-align: right;\">\n",
       "      <th></th>\n",
       "      <th>token_text</th>\n",
       "      <th>part_of_speech</th>\n",
       "    </tr>\n",
       "  </thead>\n",
       "  <tbody>\n",
       "    <tr>\n",
       "      <th>0</th>\n",
       "      <td>The</td>\n",
       "      <td>DET</td>\n",
       "    </tr>\n",
       "    <tr>\n",
       "      <th>1</th>\n",
       "      <td>staff</td>\n",
       "      <td>NOUN</td>\n",
       "    </tr>\n",
       "    <tr>\n",
       "      <th>2</th>\n",
       "      <td>here</td>\n",
       "      <td>ADV</td>\n",
       "    </tr>\n",
       "    <tr>\n",
       "      <th>3</th>\n",
       "      <td>is</td>\n",
       "      <td>VERB</td>\n",
       "    </tr>\n",
       "    <tr>\n",
       "      <th>4</th>\n",
       "      <td>great</td>\n",
       "      <td>ADJ</td>\n",
       "    </tr>\n",
       "    <tr>\n",
       "      <th>5</th>\n",
       "      <td>and</td>\n",
       "      <td>CCONJ</td>\n",
       "    </tr>\n",
       "    <tr>\n",
       "      <th>6</th>\n",
       "      <td>they</td>\n",
       "      <td>PRON</td>\n",
       "    </tr>\n",
       "    <tr>\n",
       "      <th>7</th>\n",
       "      <td>'re</td>\n",
       "      <td>VERB</td>\n",
       "    </tr>\n",
       "    <tr>\n",
       "      <th>8</th>\n",
       "      <td>nice</td>\n",
       "      <td>ADJ</td>\n",
       "    </tr>\n",
       "    <tr>\n",
       "      <th>9</th>\n",
       "      <td>,</td>\n",
       "      <td>PUNCT</td>\n",
       "    </tr>\n",
       "    <tr>\n",
       "      <th>10</th>\n",
       "      <td></td>\n",
       "      <td>SPACE</td>\n",
       "    </tr>\n",
       "    <tr>\n",
       "      <th>11</th>\n",
       "      <td>wonderful</td>\n",
       "      <td>ADJ</td>\n",
       "    </tr>\n",
       "    <tr>\n",
       "      <th>12</th>\n",
       "      <td>and</td>\n",
       "      <td>CCONJ</td>\n",
       "    </tr>\n",
       "    <tr>\n",
       "      <th>13</th>\n",
       "      <td>quick</td>\n",
       "      <td>ADJ</td>\n",
       "    </tr>\n",
       "    <tr>\n",
       "      <th>14</th>\n",
       "      <td>.</td>\n",
       "      <td>PUNCT</td>\n",
       "    </tr>\n",
       "    <tr>\n",
       "      <th>15</th>\n",
       "      <td>People</td>\n",
       "      <td>NOUN</td>\n",
       "    </tr>\n",
       "    <tr>\n",
       "      <th>16</th>\n",
       "      <td>were</td>\n",
       "      <td>VERB</td>\n",
       "    </tr>\n",
       "    <tr>\n",
       "      <th>17</th>\n",
       "      <td>ranting</td>\n",
       "      <td>VERB</td>\n",
       "    </tr>\n",
       "    <tr>\n",
       "      <th>18</th>\n",
       "      <td>in</td>\n",
       "      <td>ADP</td>\n",
       "    </tr>\n",
       "    <tr>\n",
       "      <th>19</th>\n",
       "      <td>raving</td>\n",
       "      <td>VERB</td>\n",
       "    </tr>\n",
       "    <tr>\n",
       "      <th>20</th>\n",
       "      <td>about</td>\n",
       "      <td>ADP</td>\n",
       "    </tr>\n",
       "    <tr>\n",
       "      <th>21</th>\n",
       "      <td>pei</td>\n",
       "      <td>PROPN</td>\n",
       "    </tr>\n",
       "    <tr>\n",
       "      <th>22</th>\n",
       "      <td>wei</td>\n",
       "      <td>PROPN</td>\n",
       "    </tr>\n",
       "    <tr>\n",
       "      <th>23</th>\n",
       "      <td>,</td>\n",
       "      <td>PUNCT</td>\n",
       "    </tr>\n",
       "    <tr>\n",
       "      <th>24</th>\n",
       "      <td>I</td>\n",
       "      <td>PRON</td>\n",
       "    </tr>\n",
       "    <tr>\n",
       "      <th>25</th>\n",
       "      <td>had</td>\n",
       "      <td>VERB</td>\n",
       "    </tr>\n",
       "    <tr>\n",
       "      <th>26</th>\n",
       "      <td>to</td>\n",
       "      <td>PART</td>\n",
       "    </tr>\n",
       "    <tr>\n",
       "      <th>27</th>\n",
       "      <td>try</td>\n",
       "      <td>VERB</td>\n",
       "    </tr>\n",
       "    <tr>\n",
       "      <th>28</th>\n",
       "      <td>it</td>\n",
       "      <td>PRON</td>\n",
       "    </tr>\n",
       "    <tr>\n",
       "      <th>29</th>\n",
       "      <td>.</td>\n",
       "      <td>PUNCT</td>\n",
       "    </tr>\n",
       "    <tr>\n",
       "      <th>...</th>\n",
       "      <td>...</td>\n",
       "      <td>...</td>\n",
       "    </tr>\n",
       "    <tr>\n",
       "      <th>218</th>\n",
       "      <td>refused</td>\n",
       "      <td>VERB</td>\n",
       "    </tr>\n",
       "    <tr>\n",
       "      <th>219</th>\n",
       "      <td>to</td>\n",
       "      <td>PART</td>\n",
       "    </tr>\n",
       "    <tr>\n",
       "      <th>220</th>\n",
       "      <td>take</td>\n",
       "      <td>VERB</td>\n",
       "    </tr>\n",
       "    <tr>\n",
       "      <th>221</th>\n",
       "      <td>it</td>\n",
       "      <td>PRON</td>\n",
       "    </tr>\n",
       "    <tr>\n",
       "      <th>222</th>\n",
       "      <td>home</td>\n",
       "      <td>ADV</td>\n",
       "    </tr>\n",
       "    <tr>\n",
       "      <th>223</th>\n",
       "      <td>with</td>\n",
       "      <td>ADP</td>\n",
       "    </tr>\n",
       "    <tr>\n",
       "      <th>224</th>\n",
       "      <td>us</td>\n",
       "      <td>PRON</td>\n",
       "    </tr>\n",
       "    <tr>\n",
       "      <th>225</th>\n",
       "      <td>.</td>\n",
       "      <td>PUNCT</td>\n",
       "    </tr>\n",
       "    <tr>\n",
       "      <th>226</th>\n",
       "      <td></td>\n",
       "      <td>SPACE</td>\n",
       "    </tr>\n",
       "    <tr>\n",
       "      <th>227</th>\n",
       "      <td>If</td>\n",
       "      <td>ADP</td>\n",
       "    </tr>\n",
       "    <tr>\n",
       "      <th>228</th>\n",
       "      <td>you</td>\n",
       "      <td>PRON</td>\n",
       "    </tr>\n",
       "    <tr>\n",
       "      <th>229</th>\n",
       "      <td>like</td>\n",
       "      <td>VERB</td>\n",
       "    </tr>\n",
       "    <tr>\n",
       "      <th>230</th>\n",
       "      <td>and</td>\n",
       "      <td>CCONJ</td>\n",
       "    </tr>\n",
       "    <tr>\n",
       "      <th>231</th>\n",
       "      <td>enjoy</td>\n",
       "      <td>VERB</td>\n",
       "    </tr>\n",
       "    <tr>\n",
       "      <th>232</th>\n",
       "      <td>what</td>\n",
       "      <td>NOUN</td>\n",
       "    </tr>\n",
       "    <tr>\n",
       "      <th>233</th>\n",
       "      <td>typical</td>\n",
       "      <td>ADJ</td>\n",
       "    </tr>\n",
       "    <tr>\n",
       "      <th>234</th>\n",
       "      <td>Asian</td>\n",
       "      <td>ADJ</td>\n",
       "    </tr>\n",
       "    <tr>\n",
       "      <th>235</th>\n",
       "      <td>food</td>\n",
       "      <td>NOUN</td>\n",
       "    </tr>\n",
       "    <tr>\n",
       "      <th>236</th>\n",
       "      <td>tastes</td>\n",
       "      <td>NOUN</td>\n",
       "    </tr>\n",
       "    <tr>\n",
       "      <th>237</th>\n",
       "      <td>like</td>\n",
       "      <td>ADP</td>\n",
       "    </tr>\n",
       "    <tr>\n",
       "      <th>238</th>\n",
       "      <td>,</td>\n",
       "      <td>PUNCT</td>\n",
       "    </tr>\n",
       "    <tr>\n",
       "      <th>239</th>\n",
       "      <td></td>\n",
       "      <td>SPACE</td>\n",
       "    </tr>\n",
       "    <tr>\n",
       "      <th>240</th>\n",
       "      <td>do</td>\n",
       "      <td>VERB</td>\n",
       "    </tr>\n",
       "    <tr>\n",
       "      <th>241</th>\n",
       "      <td>n't</td>\n",
       "      <td>ADV</td>\n",
       "    </tr>\n",
       "    <tr>\n",
       "      <th>242</th>\n",
       "      <td>waste</td>\n",
       "      <td>VERB</td>\n",
       "    </tr>\n",
       "    <tr>\n",
       "      <th>243</th>\n",
       "      <td>your</td>\n",
       "      <td>ADJ</td>\n",
       "    </tr>\n",
       "    <tr>\n",
       "      <th>244</th>\n",
       "      <td>time</td>\n",
       "      <td>NOUN</td>\n",
       "    </tr>\n",
       "    <tr>\n",
       "      <th>245</th>\n",
       "      <td>here</td>\n",
       "      <td>ADV</td>\n",
       "    </tr>\n",
       "    <tr>\n",
       "      <th>246</th>\n",
       "      <td>.</td>\n",
       "      <td>PUNCT</td>\n",
       "    </tr>\n",
       "    <tr>\n",
       "      <th>247</th>\n",
       "      <td>\\n</td>\n",
       "      <td>SPACE</td>\n",
       "    </tr>\n",
       "  </tbody>\n",
       "</table>\n",
       "<p>248 rows × 2 columns</p>\n",
       "</div>"
      ],
      "text/plain": [
       "    token_text part_of_speech\n",
       "0          The            DET\n",
       "1        staff           NOUN\n",
       "2         here            ADV\n",
       "3           is           VERB\n",
       "4        great            ADJ\n",
       "5          and          CCONJ\n",
       "6         they           PRON\n",
       "7          're           VERB\n",
       "8         nice            ADJ\n",
       "9            ,          PUNCT\n",
       "10                      SPACE\n",
       "11   wonderful            ADJ\n",
       "12         and          CCONJ\n",
       "13       quick            ADJ\n",
       "14           .          PUNCT\n",
       "15      People           NOUN\n",
       "16        were           VERB\n",
       "17     ranting           VERB\n",
       "18          in            ADP\n",
       "19      raving           VERB\n",
       "20       about            ADP\n",
       "21         pei          PROPN\n",
       "22         wei          PROPN\n",
       "23           ,          PUNCT\n",
       "24           I           PRON\n",
       "25         had           VERB\n",
       "26          to           PART\n",
       "27         try           VERB\n",
       "28          it           PRON\n",
       "29           .          PUNCT\n",
       "..         ...            ...\n",
       "218    refused           VERB\n",
       "219         to           PART\n",
       "220       take           VERB\n",
       "221         it           PRON\n",
       "222       home            ADV\n",
       "223       with            ADP\n",
       "224         us           PRON\n",
       "225          .          PUNCT\n",
       "226                     SPACE\n",
       "227         If            ADP\n",
       "228        you           PRON\n",
       "229       like           VERB\n",
       "230        and          CCONJ\n",
       "231      enjoy           VERB\n",
       "232       what           NOUN\n",
       "233    typical            ADJ\n",
       "234      Asian            ADJ\n",
       "235       food           NOUN\n",
       "236     tastes           NOUN\n",
       "237       like            ADP\n",
       "238          ,          PUNCT\n",
       "239                     SPACE\n",
       "240         do           VERB\n",
       "241        n't            ADV\n",
       "242      waste           VERB\n",
       "243       your            ADJ\n",
       "244       time           NOUN\n",
       "245       here            ADV\n",
       "246          .          PUNCT\n",
       "247         \\n          SPACE\n",
       "\n",
       "[248 rows x 2 columns]"
      ]
     },
     "execution_count": 10,
     "metadata": {},
     "output_type": "execute_result"
    }
   ],
   "source": [
    "token_text = [token.orth_ for token in parsed_review]\n",
    "token_pos = [token.pos_ for token in parsed_review]\n",
    "\n",
    "pd.DataFrame(list(zip(token_text, token_pos)),\n",
    "             columns=['token_text', 'part_of_speech'])"
   ]
  },
  {
   "cell_type": "markdown",
   "metadata": {},
   "source": [
    "For lemmas and shape analysis:"
   ]
  },
  {
   "cell_type": "code",
   "execution_count": 11,
   "metadata": {},
   "outputs": [
    {
     "data": {
      "text/html": [
       "<div>\n",
       "<style>\n",
       "    .dataframe thead tr:only-child th {\n",
       "        text-align: right;\n",
       "    }\n",
       "\n",
       "    .dataframe thead th {\n",
       "        text-align: left;\n",
       "    }\n",
       "\n",
       "    .dataframe tbody tr th {\n",
       "        vertical-align: top;\n",
       "    }\n",
       "</style>\n",
       "<table border=\"1\" class=\"dataframe\">\n",
       "  <thead>\n",
       "    <tr style=\"text-align: right;\">\n",
       "      <th></th>\n",
       "      <th>token_text</th>\n",
       "      <th>token_lemma</th>\n",
       "      <th>token_shape</th>\n",
       "    </tr>\n",
       "  </thead>\n",
       "  <tbody>\n",
       "    <tr>\n",
       "      <th>0</th>\n",
       "      <td>The</td>\n",
       "      <td>the</td>\n",
       "      <td>Xxx</td>\n",
       "    </tr>\n",
       "    <tr>\n",
       "      <th>1</th>\n",
       "      <td>staff</td>\n",
       "      <td>staff</td>\n",
       "      <td>xxxx</td>\n",
       "    </tr>\n",
       "    <tr>\n",
       "      <th>2</th>\n",
       "      <td>here</td>\n",
       "      <td>here</td>\n",
       "      <td>xxxx</td>\n",
       "    </tr>\n",
       "    <tr>\n",
       "      <th>3</th>\n",
       "      <td>is</td>\n",
       "      <td>be</td>\n",
       "      <td>xx</td>\n",
       "    </tr>\n",
       "    <tr>\n",
       "      <th>4</th>\n",
       "      <td>great</td>\n",
       "      <td>great</td>\n",
       "      <td>xxxx</td>\n",
       "    </tr>\n",
       "    <tr>\n",
       "      <th>5</th>\n",
       "      <td>and</td>\n",
       "      <td>and</td>\n",
       "      <td>xxx</td>\n",
       "    </tr>\n",
       "    <tr>\n",
       "      <th>6</th>\n",
       "      <td>they</td>\n",
       "      <td>-PRON-</td>\n",
       "      <td>xxxx</td>\n",
       "    </tr>\n",
       "    <tr>\n",
       "      <th>7</th>\n",
       "      <td>'re</td>\n",
       "      <td>be</td>\n",
       "      <td>'xx</td>\n",
       "    </tr>\n",
       "    <tr>\n",
       "      <th>8</th>\n",
       "      <td>nice</td>\n",
       "      <td>nice</td>\n",
       "      <td>xxxx</td>\n",
       "    </tr>\n",
       "    <tr>\n",
       "      <th>9</th>\n",
       "      <td>,</td>\n",
       "      <td>,</td>\n",
       "      <td>,</td>\n",
       "    </tr>\n",
       "    <tr>\n",
       "      <th>10</th>\n",
       "      <td></td>\n",
       "      <td></td>\n",
       "      <td></td>\n",
       "    </tr>\n",
       "    <tr>\n",
       "      <th>11</th>\n",
       "      <td>wonderful</td>\n",
       "      <td>wonderful</td>\n",
       "      <td>xxxx</td>\n",
       "    </tr>\n",
       "    <tr>\n",
       "      <th>12</th>\n",
       "      <td>and</td>\n",
       "      <td>and</td>\n",
       "      <td>xxx</td>\n",
       "    </tr>\n",
       "    <tr>\n",
       "      <th>13</th>\n",
       "      <td>quick</td>\n",
       "      <td>quick</td>\n",
       "      <td>xxxx</td>\n",
       "    </tr>\n",
       "    <tr>\n",
       "      <th>14</th>\n",
       "      <td>.</td>\n",
       "      <td>.</td>\n",
       "      <td>.</td>\n",
       "    </tr>\n",
       "    <tr>\n",
       "      <th>15</th>\n",
       "      <td>People</td>\n",
       "      <td>people</td>\n",
       "      <td>Xxxxx</td>\n",
       "    </tr>\n",
       "    <tr>\n",
       "      <th>16</th>\n",
       "      <td>were</td>\n",
       "      <td>be</td>\n",
       "      <td>xxxx</td>\n",
       "    </tr>\n",
       "    <tr>\n",
       "      <th>17</th>\n",
       "      <td>ranting</td>\n",
       "      <td>rant</td>\n",
       "      <td>xxxx</td>\n",
       "    </tr>\n",
       "    <tr>\n",
       "      <th>18</th>\n",
       "      <td>in</td>\n",
       "      <td>in</td>\n",
       "      <td>xx</td>\n",
       "    </tr>\n",
       "    <tr>\n",
       "      <th>19</th>\n",
       "      <td>raving</td>\n",
       "      <td>rave</td>\n",
       "      <td>xxxx</td>\n",
       "    </tr>\n",
       "    <tr>\n",
       "      <th>20</th>\n",
       "      <td>about</td>\n",
       "      <td>about</td>\n",
       "      <td>xxxx</td>\n",
       "    </tr>\n",
       "    <tr>\n",
       "      <th>21</th>\n",
       "      <td>pei</td>\n",
       "      <td>pei</td>\n",
       "      <td>xxx</td>\n",
       "    </tr>\n",
       "    <tr>\n",
       "      <th>22</th>\n",
       "      <td>wei</td>\n",
       "      <td>wei</td>\n",
       "      <td>xxx</td>\n",
       "    </tr>\n",
       "    <tr>\n",
       "      <th>23</th>\n",
       "      <td>,</td>\n",
       "      <td>,</td>\n",
       "      <td>,</td>\n",
       "    </tr>\n",
       "    <tr>\n",
       "      <th>24</th>\n",
       "      <td>I</td>\n",
       "      <td>-PRON-</td>\n",
       "      <td>X</td>\n",
       "    </tr>\n",
       "    <tr>\n",
       "      <th>25</th>\n",
       "      <td>had</td>\n",
       "      <td>have</td>\n",
       "      <td>xxx</td>\n",
       "    </tr>\n",
       "    <tr>\n",
       "      <th>26</th>\n",
       "      <td>to</td>\n",
       "      <td>to</td>\n",
       "      <td>xx</td>\n",
       "    </tr>\n",
       "    <tr>\n",
       "      <th>27</th>\n",
       "      <td>try</td>\n",
       "      <td>try</td>\n",
       "      <td>xxx</td>\n",
       "    </tr>\n",
       "    <tr>\n",
       "      <th>28</th>\n",
       "      <td>it</td>\n",
       "      <td>-PRON-</td>\n",
       "      <td>xx</td>\n",
       "    </tr>\n",
       "    <tr>\n",
       "      <th>29</th>\n",
       "      <td>.</td>\n",
       "      <td>.</td>\n",
       "      <td>.</td>\n",
       "    </tr>\n",
       "    <tr>\n",
       "      <th>...</th>\n",
       "      <td>...</td>\n",
       "      <td>...</td>\n",
       "      <td>...</td>\n",
       "    </tr>\n",
       "    <tr>\n",
       "      <th>218</th>\n",
       "      <td>refused</td>\n",
       "      <td>refuse</td>\n",
       "      <td>xxxx</td>\n",
       "    </tr>\n",
       "    <tr>\n",
       "      <th>219</th>\n",
       "      <td>to</td>\n",
       "      <td>to</td>\n",
       "      <td>xx</td>\n",
       "    </tr>\n",
       "    <tr>\n",
       "      <th>220</th>\n",
       "      <td>take</td>\n",
       "      <td>take</td>\n",
       "      <td>xxxx</td>\n",
       "    </tr>\n",
       "    <tr>\n",
       "      <th>221</th>\n",
       "      <td>it</td>\n",
       "      <td>-PRON-</td>\n",
       "      <td>xx</td>\n",
       "    </tr>\n",
       "    <tr>\n",
       "      <th>222</th>\n",
       "      <td>home</td>\n",
       "      <td>home</td>\n",
       "      <td>xxxx</td>\n",
       "    </tr>\n",
       "    <tr>\n",
       "      <th>223</th>\n",
       "      <td>with</td>\n",
       "      <td>with</td>\n",
       "      <td>xxxx</td>\n",
       "    </tr>\n",
       "    <tr>\n",
       "      <th>224</th>\n",
       "      <td>us</td>\n",
       "      <td>-PRON-</td>\n",
       "      <td>xx</td>\n",
       "    </tr>\n",
       "    <tr>\n",
       "      <th>225</th>\n",
       "      <td>.</td>\n",
       "      <td>.</td>\n",
       "      <td>.</td>\n",
       "    </tr>\n",
       "    <tr>\n",
       "      <th>226</th>\n",
       "      <td></td>\n",
       "      <td></td>\n",
       "      <td></td>\n",
       "    </tr>\n",
       "    <tr>\n",
       "      <th>227</th>\n",
       "      <td>If</td>\n",
       "      <td>if</td>\n",
       "      <td>Xx</td>\n",
       "    </tr>\n",
       "    <tr>\n",
       "      <th>228</th>\n",
       "      <td>you</td>\n",
       "      <td>-PRON-</td>\n",
       "      <td>xxx</td>\n",
       "    </tr>\n",
       "    <tr>\n",
       "      <th>229</th>\n",
       "      <td>like</td>\n",
       "      <td>like</td>\n",
       "      <td>xxxx</td>\n",
       "    </tr>\n",
       "    <tr>\n",
       "      <th>230</th>\n",
       "      <td>and</td>\n",
       "      <td>and</td>\n",
       "      <td>xxx</td>\n",
       "    </tr>\n",
       "    <tr>\n",
       "      <th>231</th>\n",
       "      <td>enjoy</td>\n",
       "      <td>enjoy</td>\n",
       "      <td>xxxx</td>\n",
       "    </tr>\n",
       "    <tr>\n",
       "      <th>232</th>\n",
       "      <td>what</td>\n",
       "      <td>what</td>\n",
       "      <td>xxxx</td>\n",
       "    </tr>\n",
       "    <tr>\n",
       "      <th>233</th>\n",
       "      <td>typical</td>\n",
       "      <td>typical</td>\n",
       "      <td>xxxx</td>\n",
       "    </tr>\n",
       "    <tr>\n",
       "      <th>234</th>\n",
       "      <td>Asian</td>\n",
       "      <td>asian</td>\n",
       "      <td>Xxxxx</td>\n",
       "    </tr>\n",
       "    <tr>\n",
       "      <th>235</th>\n",
       "      <td>food</td>\n",
       "      <td>food</td>\n",
       "      <td>xxxx</td>\n",
       "    </tr>\n",
       "    <tr>\n",
       "      <th>236</th>\n",
       "      <td>tastes</td>\n",
       "      <td>taste</td>\n",
       "      <td>xxxx</td>\n",
       "    </tr>\n",
       "    <tr>\n",
       "      <th>237</th>\n",
       "      <td>like</td>\n",
       "      <td>like</td>\n",
       "      <td>xxxx</td>\n",
       "    </tr>\n",
       "    <tr>\n",
       "      <th>238</th>\n",
       "      <td>,</td>\n",
       "      <td>,</td>\n",
       "      <td>,</td>\n",
       "    </tr>\n",
       "    <tr>\n",
       "      <th>239</th>\n",
       "      <td></td>\n",
       "      <td></td>\n",
       "      <td></td>\n",
       "    </tr>\n",
       "    <tr>\n",
       "      <th>240</th>\n",
       "      <td>do</td>\n",
       "      <td>do</td>\n",
       "      <td>xx</td>\n",
       "    </tr>\n",
       "    <tr>\n",
       "      <th>241</th>\n",
       "      <td>n't</td>\n",
       "      <td>not</td>\n",
       "      <td>x'x</td>\n",
       "    </tr>\n",
       "    <tr>\n",
       "      <th>242</th>\n",
       "      <td>waste</td>\n",
       "      <td>waste</td>\n",
       "      <td>xxxx</td>\n",
       "    </tr>\n",
       "    <tr>\n",
       "      <th>243</th>\n",
       "      <td>your</td>\n",
       "      <td>-PRON-</td>\n",
       "      <td>xxxx</td>\n",
       "    </tr>\n",
       "    <tr>\n",
       "      <th>244</th>\n",
       "      <td>time</td>\n",
       "      <td>time</td>\n",
       "      <td>xxxx</td>\n",
       "    </tr>\n",
       "    <tr>\n",
       "      <th>245</th>\n",
       "      <td>here</td>\n",
       "      <td>here</td>\n",
       "      <td>xxxx</td>\n",
       "    </tr>\n",
       "    <tr>\n",
       "      <th>246</th>\n",
       "      <td>.</td>\n",
       "      <td>.</td>\n",
       "      <td>.</td>\n",
       "    </tr>\n",
       "    <tr>\n",
       "      <th>247</th>\n",
       "      <td>\\n</td>\n",
       "      <td>\\n</td>\n",
       "      <td>\\n</td>\n",
       "    </tr>\n",
       "  </tbody>\n",
       "</table>\n",
       "<p>248 rows × 3 columns</p>\n",
       "</div>"
      ],
      "text/plain": [
       "    token_text token_lemma token_shape\n",
       "0          The         the         Xxx\n",
       "1        staff       staff        xxxx\n",
       "2         here        here        xxxx\n",
       "3           is          be          xx\n",
       "4        great       great        xxxx\n",
       "5          and         and         xxx\n",
       "6         they      -PRON-        xxxx\n",
       "7          're          be         'xx\n",
       "8         nice        nice        xxxx\n",
       "9            ,           ,           ,\n",
       "10                                    \n",
       "11   wonderful   wonderful        xxxx\n",
       "12         and         and         xxx\n",
       "13       quick       quick        xxxx\n",
       "14           .           .           .\n",
       "15      People      people       Xxxxx\n",
       "16        were          be        xxxx\n",
       "17     ranting        rant        xxxx\n",
       "18          in          in          xx\n",
       "19      raving        rave        xxxx\n",
       "20       about       about        xxxx\n",
       "21         pei         pei         xxx\n",
       "22         wei         wei         xxx\n",
       "23           ,           ,           ,\n",
       "24           I      -PRON-           X\n",
       "25         had        have         xxx\n",
       "26          to          to          xx\n",
       "27         try         try         xxx\n",
       "28          it      -PRON-          xx\n",
       "29           .           .           .\n",
       "..         ...         ...         ...\n",
       "218    refused      refuse        xxxx\n",
       "219         to          to          xx\n",
       "220       take        take        xxxx\n",
       "221         it      -PRON-          xx\n",
       "222       home        home        xxxx\n",
       "223       with        with        xxxx\n",
       "224         us      -PRON-          xx\n",
       "225          .           .           .\n",
       "226                                   \n",
       "227         If          if          Xx\n",
       "228        you      -PRON-         xxx\n",
       "229       like        like        xxxx\n",
       "230        and         and         xxx\n",
       "231      enjoy       enjoy        xxxx\n",
       "232       what        what        xxxx\n",
       "233    typical     typical        xxxx\n",
       "234      Asian       asian       Xxxxx\n",
       "235       food        food        xxxx\n",
       "236     tastes       taste        xxxx\n",
       "237       like        like        xxxx\n",
       "238          ,           ,           ,\n",
       "239                                   \n",
       "240         do          do          xx\n",
       "241        n't         not         x'x\n",
       "242      waste       waste        xxxx\n",
       "243       your      -PRON-        xxxx\n",
       "244       time        time        xxxx\n",
       "245       here        here        xxxx\n",
       "246          .           .           .\n",
       "247         \\n          \\n          \\n\n",
       "\n",
       "[248 rows x 3 columns]"
      ]
     },
     "execution_count": 11,
     "metadata": {},
     "output_type": "execute_result"
    }
   ],
   "source": [
    "token_lemma = [token.lemma_ for token in parsed_review]\n",
    "token_shape = [token.shape_ for token in parsed_review]\n",
    "\n",
    "pd.DataFrame(list(zip(token_text, token_lemma, token_shape)),\n",
    "            columns=['token_text', 'token_lemma', 'token_shape'])"
   ]
  },
  {
   "cell_type": "markdown",
   "metadata": {},
   "source": [
    "As you can see, each lemma is its token, minus inflections or tenses. Also note that all pronouns have been converted to *-PRON-*. (I can only guess this is because all pronouns can be see as identical information-wise, so there's no reason to save them as separate lemmas.)\n",
    "\n",
    "For listing tokens and their analytics (like what kind of named entity they are and where a token lies within a named entity phrase):"
   ]
  },
  {
   "cell_type": "code",
   "execution_count": 12,
   "metadata": {},
   "outputs": [
    {
     "data": {
      "text/html": [
       "<div>\n",
       "<style>\n",
       "    .dataframe thead tr:only-child th {\n",
       "        text-align: right;\n",
       "    }\n",
       "\n",
       "    .dataframe thead th {\n",
       "        text-align: left;\n",
       "    }\n",
       "\n",
       "    .dataframe tbody tr th {\n",
       "        vertical-align: top;\n",
       "    }\n",
       "</style>\n",
       "<table border=\"1\" class=\"dataframe\">\n",
       "  <thead>\n",
       "    <tr style=\"text-align: right;\">\n",
       "      <th></th>\n",
       "      <th>token_text</th>\n",
       "      <th>entity_type</th>\n",
       "      <th>inside_outside_begin</th>\n",
       "    </tr>\n",
       "  </thead>\n",
       "  <tbody>\n",
       "    <tr>\n",
       "      <th>0</th>\n",
       "      <td>The</td>\n",
       "      <td></td>\n",
       "      <td>O</td>\n",
       "    </tr>\n",
       "    <tr>\n",
       "      <th>1</th>\n",
       "      <td>staff</td>\n",
       "      <td></td>\n",
       "      <td>O</td>\n",
       "    </tr>\n",
       "    <tr>\n",
       "      <th>2</th>\n",
       "      <td>here</td>\n",
       "      <td></td>\n",
       "      <td>O</td>\n",
       "    </tr>\n",
       "    <tr>\n",
       "      <th>3</th>\n",
       "      <td>is</td>\n",
       "      <td></td>\n",
       "      <td>O</td>\n",
       "    </tr>\n",
       "    <tr>\n",
       "      <th>4</th>\n",
       "      <td>great</td>\n",
       "      <td></td>\n",
       "      <td>O</td>\n",
       "    </tr>\n",
       "    <tr>\n",
       "      <th>5</th>\n",
       "      <td>and</td>\n",
       "      <td></td>\n",
       "      <td>O</td>\n",
       "    </tr>\n",
       "    <tr>\n",
       "      <th>6</th>\n",
       "      <td>they</td>\n",
       "      <td></td>\n",
       "      <td>O</td>\n",
       "    </tr>\n",
       "    <tr>\n",
       "      <th>7</th>\n",
       "      <td>'re</td>\n",
       "      <td></td>\n",
       "      <td>O</td>\n",
       "    </tr>\n",
       "    <tr>\n",
       "      <th>8</th>\n",
       "      <td>nice</td>\n",
       "      <td></td>\n",
       "      <td>O</td>\n",
       "    </tr>\n",
       "    <tr>\n",
       "      <th>9</th>\n",
       "      <td>,</td>\n",
       "      <td></td>\n",
       "      <td>O</td>\n",
       "    </tr>\n",
       "    <tr>\n",
       "      <th>10</th>\n",
       "      <td></td>\n",
       "      <td></td>\n",
       "      <td>O</td>\n",
       "    </tr>\n",
       "    <tr>\n",
       "      <th>11</th>\n",
       "      <td>wonderful</td>\n",
       "      <td></td>\n",
       "      <td>O</td>\n",
       "    </tr>\n",
       "    <tr>\n",
       "      <th>12</th>\n",
       "      <td>and</td>\n",
       "      <td></td>\n",
       "      <td>O</td>\n",
       "    </tr>\n",
       "    <tr>\n",
       "      <th>13</th>\n",
       "      <td>quick</td>\n",
       "      <td></td>\n",
       "      <td>O</td>\n",
       "    </tr>\n",
       "    <tr>\n",
       "      <th>14</th>\n",
       "      <td>.</td>\n",
       "      <td></td>\n",
       "      <td>O</td>\n",
       "    </tr>\n",
       "    <tr>\n",
       "      <th>15</th>\n",
       "      <td>People</td>\n",
       "      <td></td>\n",
       "      <td>O</td>\n",
       "    </tr>\n",
       "    <tr>\n",
       "      <th>16</th>\n",
       "      <td>were</td>\n",
       "      <td></td>\n",
       "      <td>O</td>\n",
       "    </tr>\n",
       "    <tr>\n",
       "      <th>17</th>\n",
       "      <td>ranting</td>\n",
       "      <td></td>\n",
       "      <td>O</td>\n",
       "    </tr>\n",
       "    <tr>\n",
       "      <th>18</th>\n",
       "      <td>in</td>\n",
       "      <td></td>\n",
       "      <td>O</td>\n",
       "    </tr>\n",
       "    <tr>\n",
       "      <th>19</th>\n",
       "      <td>raving</td>\n",
       "      <td></td>\n",
       "      <td>O</td>\n",
       "    </tr>\n",
       "    <tr>\n",
       "      <th>20</th>\n",
       "      <td>about</td>\n",
       "      <td></td>\n",
       "      <td>O</td>\n",
       "    </tr>\n",
       "    <tr>\n",
       "      <th>21</th>\n",
       "      <td>pei</td>\n",
       "      <td></td>\n",
       "      <td>O</td>\n",
       "    </tr>\n",
       "    <tr>\n",
       "      <th>22</th>\n",
       "      <td>wei</td>\n",
       "      <td></td>\n",
       "      <td>O</td>\n",
       "    </tr>\n",
       "    <tr>\n",
       "      <th>23</th>\n",
       "      <td>,</td>\n",
       "      <td></td>\n",
       "      <td>O</td>\n",
       "    </tr>\n",
       "    <tr>\n",
       "      <th>24</th>\n",
       "      <td>I</td>\n",
       "      <td></td>\n",
       "      <td>O</td>\n",
       "    </tr>\n",
       "    <tr>\n",
       "      <th>25</th>\n",
       "      <td>had</td>\n",
       "      <td></td>\n",
       "      <td>O</td>\n",
       "    </tr>\n",
       "    <tr>\n",
       "      <th>26</th>\n",
       "      <td>to</td>\n",
       "      <td></td>\n",
       "      <td>O</td>\n",
       "    </tr>\n",
       "    <tr>\n",
       "      <th>27</th>\n",
       "      <td>try</td>\n",
       "      <td></td>\n",
       "      <td>O</td>\n",
       "    </tr>\n",
       "    <tr>\n",
       "      <th>28</th>\n",
       "      <td>it</td>\n",
       "      <td></td>\n",
       "      <td>O</td>\n",
       "    </tr>\n",
       "    <tr>\n",
       "      <th>29</th>\n",
       "      <td>.</td>\n",
       "      <td></td>\n",
       "      <td>O</td>\n",
       "    </tr>\n",
       "    <tr>\n",
       "      <th>...</th>\n",
       "      <td>...</td>\n",
       "      <td>...</td>\n",
       "      <td>...</td>\n",
       "    </tr>\n",
       "    <tr>\n",
       "      <th>218</th>\n",
       "      <td>refused</td>\n",
       "      <td></td>\n",
       "      <td>O</td>\n",
       "    </tr>\n",
       "    <tr>\n",
       "      <th>219</th>\n",
       "      <td>to</td>\n",
       "      <td></td>\n",
       "      <td>O</td>\n",
       "    </tr>\n",
       "    <tr>\n",
       "      <th>220</th>\n",
       "      <td>take</td>\n",
       "      <td></td>\n",
       "      <td>O</td>\n",
       "    </tr>\n",
       "    <tr>\n",
       "      <th>221</th>\n",
       "      <td>it</td>\n",
       "      <td></td>\n",
       "      <td>O</td>\n",
       "    </tr>\n",
       "    <tr>\n",
       "      <th>222</th>\n",
       "      <td>home</td>\n",
       "      <td></td>\n",
       "      <td>O</td>\n",
       "    </tr>\n",
       "    <tr>\n",
       "      <th>223</th>\n",
       "      <td>with</td>\n",
       "      <td></td>\n",
       "      <td>O</td>\n",
       "    </tr>\n",
       "    <tr>\n",
       "      <th>224</th>\n",
       "      <td>us</td>\n",
       "      <td></td>\n",
       "      <td>O</td>\n",
       "    </tr>\n",
       "    <tr>\n",
       "      <th>225</th>\n",
       "      <td>.</td>\n",
       "      <td></td>\n",
       "      <td>O</td>\n",
       "    </tr>\n",
       "    <tr>\n",
       "      <th>226</th>\n",
       "      <td></td>\n",
       "      <td></td>\n",
       "      <td>O</td>\n",
       "    </tr>\n",
       "    <tr>\n",
       "      <th>227</th>\n",
       "      <td>If</td>\n",
       "      <td></td>\n",
       "      <td>O</td>\n",
       "    </tr>\n",
       "    <tr>\n",
       "      <th>228</th>\n",
       "      <td>you</td>\n",
       "      <td></td>\n",
       "      <td>O</td>\n",
       "    </tr>\n",
       "    <tr>\n",
       "      <th>229</th>\n",
       "      <td>like</td>\n",
       "      <td></td>\n",
       "      <td>O</td>\n",
       "    </tr>\n",
       "    <tr>\n",
       "      <th>230</th>\n",
       "      <td>and</td>\n",
       "      <td></td>\n",
       "      <td>O</td>\n",
       "    </tr>\n",
       "    <tr>\n",
       "      <th>231</th>\n",
       "      <td>enjoy</td>\n",
       "      <td></td>\n",
       "      <td>O</td>\n",
       "    </tr>\n",
       "    <tr>\n",
       "      <th>232</th>\n",
       "      <td>what</td>\n",
       "      <td></td>\n",
       "      <td>O</td>\n",
       "    </tr>\n",
       "    <tr>\n",
       "      <th>233</th>\n",
       "      <td>typical</td>\n",
       "      <td></td>\n",
       "      <td>O</td>\n",
       "    </tr>\n",
       "    <tr>\n",
       "      <th>234</th>\n",
       "      <td>Asian</td>\n",
       "      <td>NORP</td>\n",
       "      <td>B</td>\n",
       "    </tr>\n",
       "    <tr>\n",
       "      <th>235</th>\n",
       "      <td>food</td>\n",
       "      <td></td>\n",
       "      <td>O</td>\n",
       "    </tr>\n",
       "    <tr>\n",
       "      <th>236</th>\n",
       "      <td>tastes</td>\n",
       "      <td></td>\n",
       "      <td>O</td>\n",
       "    </tr>\n",
       "    <tr>\n",
       "      <th>237</th>\n",
       "      <td>like</td>\n",
       "      <td></td>\n",
       "      <td>O</td>\n",
       "    </tr>\n",
       "    <tr>\n",
       "      <th>238</th>\n",
       "      <td>,</td>\n",
       "      <td></td>\n",
       "      <td>O</td>\n",
       "    </tr>\n",
       "    <tr>\n",
       "      <th>239</th>\n",
       "      <td></td>\n",
       "      <td></td>\n",
       "      <td>O</td>\n",
       "    </tr>\n",
       "    <tr>\n",
       "      <th>240</th>\n",
       "      <td>do</td>\n",
       "      <td></td>\n",
       "      <td>O</td>\n",
       "    </tr>\n",
       "    <tr>\n",
       "      <th>241</th>\n",
       "      <td>n't</td>\n",
       "      <td></td>\n",
       "      <td>O</td>\n",
       "    </tr>\n",
       "    <tr>\n",
       "      <th>242</th>\n",
       "      <td>waste</td>\n",
       "      <td></td>\n",
       "      <td>O</td>\n",
       "    </tr>\n",
       "    <tr>\n",
       "      <th>243</th>\n",
       "      <td>your</td>\n",
       "      <td></td>\n",
       "      <td>O</td>\n",
       "    </tr>\n",
       "    <tr>\n",
       "      <th>244</th>\n",
       "      <td>time</td>\n",
       "      <td></td>\n",
       "      <td>O</td>\n",
       "    </tr>\n",
       "    <tr>\n",
       "      <th>245</th>\n",
       "      <td>here</td>\n",
       "      <td></td>\n",
       "      <td>O</td>\n",
       "    </tr>\n",
       "    <tr>\n",
       "      <th>246</th>\n",
       "      <td>.</td>\n",
       "      <td></td>\n",
       "      <td>O</td>\n",
       "    </tr>\n",
       "    <tr>\n",
       "      <th>247</th>\n",
       "      <td>\\n</td>\n",
       "      <td></td>\n",
       "      <td>O</td>\n",
       "    </tr>\n",
       "  </tbody>\n",
       "</table>\n",
       "<p>248 rows × 3 columns</p>\n",
       "</div>"
      ],
      "text/plain": [
       "    token_text entity_type inside_outside_begin\n",
       "0          The                                O\n",
       "1        staff                                O\n",
       "2         here                                O\n",
       "3           is                                O\n",
       "4        great                                O\n",
       "5          and                                O\n",
       "6         they                                O\n",
       "7          're                                O\n",
       "8         nice                                O\n",
       "9            ,                                O\n",
       "10                                            O\n",
       "11   wonderful                                O\n",
       "12         and                                O\n",
       "13       quick                                O\n",
       "14           .                                O\n",
       "15      People                                O\n",
       "16        were                                O\n",
       "17     ranting                                O\n",
       "18          in                                O\n",
       "19      raving                                O\n",
       "20       about                                O\n",
       "21         pei                                O\n",
       "22         wei                                O\n",
       "23           ,                                O\n",
       "24           I                                O\n",
       "25         had                                O\n",
       "26          to                                O\n",
       "27         try                                O\n",
       "28          it                                O\n",
       "29           .                                O\n",
       "..         ...         ...                  ...\n",
       "218    refused                                O\n",
       "219         to                                O\n",
       "220       take                                O\n",
       "221         it                                O\n",
       "222       home                                O\n",
       "223       with                                O\n",
       "224         us                                O\n",
       "225          .                                O\n",
       "226                                           O\n",
       "227         If                                O\n",
       "228        you                                O\n",
       "229       like                                O\n",
       "230        and                                O\n",
       "231      enjoy                                O\n",
       "232       what                                O\n",
       "233    typical                                O\n",
       "234      Asian        NORP                    B\n",
       "235       food                                O\n",
       "236     tastes                                O\n",
       "237       like                                O\n",
       "238          ,                                O\n",
       "239                                           O\n",
       "240         do                                O\n",
       "241        n't                                O\n",
       "242      waste                                O\n",
       "243       your                                O\n",
       "244       time                                O\n",
       "245       here                                O\n",
       "246          .                                O\n",
       "247         \\n                                O\n",
       "\n",
       "[248 rows x 3 columns]"
      ]
     },
     "execution_count": 12,
     "metadata": {},
     "output_type": "execute_result"
    }
   ],
   "source": [
    "token_entity_type = [token.ent_type_ for token in parsed_review]\n",
    "token_entity_iob = [token.ent_iob_ for token in parsed_review]\n",
    "\n",
    "pd.DataFrame(list(zip(token_text, token_entity_type, token_entity_iob)),\n",
    "            columns=['token_text', 'entity_type', 'inside_outside_begin'])"
   ]
  },
  {
   "cell_type": "markdown",
   "metadata": {},
   "source": [
    "For listing stopwords, punctuation, whitespace, numbers, unstandard vocab words, probability of appearance in the corpus, etc:"
   ]
  },
  {
   "cell_type": "code",
   "execution_count": 13,
   "metadata": {},
   "outputs": [
    {
     "data": {
      "text/html": [
       "<div>\n",
       "<style>\n",
       "    .dataframe thead tr:only-child th {\n",
       "        text-align: right;\n",
       "    }\n",
       "\n",
       "    .dataframe thead th {\n",
       "        text-align: left;\n",
       "    }\n",
       "\n",
       "    .dataframe tbody tr th {\n",
       "        vertical-align: top;\n",
       "    }\n",
       "</style>\n",
       "<table border=\"1\" class=\"dataframe\">\n",
       "  <thead>\n",
       "    <tr style=\"text-align: right;\">\n",
       "      <th></th>\n",
       "      <th>text</th>\n",
       "      <th>log_probability</th>\n",
       "      <th>stop?</th>\n",
       "      <th>punctuation?</th>\n",
       "      <th>whitespace?</th>\n",
       "      <th>number?</th>\n",
       "      <th>out of vocab.?</th>\n",
       "    </tr>\n",
       "  </thead>\n",
       "  <tbody>\n",
       "    <tr>\n",
       "      <th>0</th>\n",
       "      <td>The</td>\n",
       "      <td>-5.774222</td>\n",
       "      <td>Yes</td>\n",
       "      <td></td>\n",
       "      <td></td>\n",
       "      <td></td>\n",
       "      <td></td>\n",
       "    </tr>\n",
       "    <tr>\n",
       "      <th>1</th>\n",
       "      <td>staff</td>\n",
       "      <td>-10.720455</td>\n",
       "      <td></td>\n",
       "      <td></td>\n",
       "      <td></td>\n",
       "      <td></td>\n",
       "      <td></td>\n",
       "    </tr>\n",
       "    <tr>\n",
       "      <th>2</th>\n",
       "      <td>here</td>\n",
       "      <td>-7.175437</td>\n",
       "      <td>Yes</td>\n",
       "      <td></td>\n",
       "      <td></td>\n",
       "      <td></td>\n",
       "      <td></td>\n",
       "    </tr>\n",
       "    <tr>\n",
       "      <th>3</th>\n",
       "      <td>is</td>\n",
       "      <td>-4.329765</td>\n",
       "      <td>Yes</td>\n",
       "      <td></td>\n",
       "      <td></td>\n",
       "      <td></td>\n",
       "      <td></td>\n",
       "    </tr>\n",
       "    <tr>\n",
       "      <th>4</th>\n",
       "      <td>great</td>\n",
       "      <td>-7.822114</td>\n",
       "      <td></td>\n",
       "      <td></td>\n",
       "      <td></td>\n",
       "      <td></td>\n",
       "      <td></td>\n",
       "    </tr>\n",
       "    <tr>\n",
       "      <th>5</th>\n",
       "      <td>and</td>\n",
       "      <td>-4.195279</td>\n",
       "      <td>Yes</td>\n",
       "      <td></td>\n",
       "      <td></td>\n",
       "      <td></td>\n",
       "      <td></td>\n",
       "    </tr>\n",
       "    <tr>\n",
       "      <th>6</th>\n",
       "      <td>they</td>\n",
       "      <td>-5.429816</td>\n",
       "      <td>Yes</td>\n",
       "      <td></td>\n",
       "      <td></td>\n",
       "      <td></td>\n",
       "      <td></td>\n",
       "    </tr>\n",
       "    <tr>\n",
       "      <th>7</th>\n",
       "      <td>'re</td>\n",
       "      <td>-6.377125</td>\n",
       "      <td></td>\n",
       "      <td></td>\n",
       "      <td></td>\n",
       "      <td></td>\n",
       "      <td></td>\n",
       "    </tr>\n",
       "    <tr>\n",
       "      <th>8</th>\n",
       "      <td>nice</td>\n",
       "      <td>-8.462502</td>\n",
       "      <td></td>\n",
       "      <td></td>\n",
       "      <td></td>\n",
       "      <td></td>\n",
       "      <td></td>\n",
       "    </tr>\n",
       "    <tr>\n",
       "      <th>9</th>\n",
       "      <td>,</td>\n",
       "      <td>-3.391480</td>\n",
       "      <td></td>\n",
       "      <td>Yes</td>\n",
       "      <td></td>\n",
       "      <td></td>\n",
       "      <td></td>\n",
       "    </tr>\n",
       "    <tr>\n",
       "      <th>10</th>\n",
       "      <td></td>\n",
       "      <td>-4.612954</td>\n",
       "      <td></td>\n",
       "      <td></td>\n",
       "      <td>Yes</td>\n",
       "      <td></td>\n",
       "      <td></td>\n",
       "    </tr>\n",
       "    <tr>\n",
       "      <th>11</th>\n",
       "      <td>wonderful</td>\n",
       "      <td>-10.470794</td>\n",
       "      <td></td>\n",
       "      <td></td>\n",
       "      <td></td>\n",
       "      <td></td>\n",
       "      <td></td>\n",
       "    </tr>\n",
       "    <tr>\n",
       "      <th>12</th>\n",
       "      <td>and</td>\n",
       "      <td>-4.195279</td>\n",
       "      <td>Yes</td>\n",
       "      <td></td>\n",
       "      <td></td>\n",
       "      <td></td>\n",
       "      <td></td>\n",
       "    </tr>\n",
       "    <tr>\n",
       "      <th>13</th>\n",
       "      <td>quick</td>\n",
       "      <td>-9.907201</td>\n",
       "      <td></td>\n",
       "      <td></td>\n",
       "      <td></td>\n",
       "      <td></td>\n",
       "      <td></td>\n",
       "    </tr>\n",
       "    <tr>\n",
       "      <th>14</th>\n",
       "      <td>.</td>\n",
       "      <td>-3.072948</td>\n",
       "      <td></td>\n",
       "      <td>Yes</td>\n",
       "      <td></td>\n",
       "      <td></td>\n",
       "      <td></td>\n",
       "    </tr>\n",
       "    <tr>\n",
       "      <th>15</th>\n",
       "      <td>People</td>\n",
       "      <td>-8.621843</td>\n",
       "      <td></td>\n",
       "      <td></td>\n",
       "      <td></td>\n",
       "      <td></td>\n",
       "      <td></td>\n",
       "    </tr>\n",
       "    <tr>\n",
       "      <th>16</th>\n",
       "      <td>were</td>\n",
       "      <td>-6.634815</td>\n",
       "      <td>Yes</td>\n",
       "      <td></td>\n",
       "      <td></td>\n",
       "      <td></td>\n",
       "      <td></td>\n",
       "    </tr>\n",
       "    <tr>\n",
       "      <th>17</th>\n",
       "      <td>ranting</td>\n",
       "      <td>-19.579313</td>\n",
       "      <td></td>\n",
       "      <td></td>\n",
       "      <td></td>\n",
       "      <td></td>\n",
       "      <td></td>\n",
       "    </tr>\n",
       "    <tr>\n",
       "      <th>18</th>\n",
       "      <td>in</td>\n",
       "      <td>-4.585874</td>\n",
       "      <td>Yes</td>\n",
       "      <td></td>\n",
       "      <td></td>\n",
       "      <td></td>\n",
       "      <td></td>\n",
       "    </tr>\n",
       "    <tr>\n",
       "      <th>19</th>\n",
       "      <td>raving</td>\n",
       "      <td>-19.579313</td>\n",
       "      <td></td>\n",
       "      <td></td>\n",
       "      <td></td>\n",
       "      <td></td>\n",
       "      <td></td>\n",
       "    </tr>\n",
       "    <tr>\n",
       "      <th>20</th>\n",
       "      <td>about</td>\n",
       "      <td>-5.880750</td>\n",
       "      <td>Yes</td>\n",
       "      <td></td>\n",
       "      <td></td>\n",
       "      <td></td>\n",
       "      <td></td>\n",
       "    </tr>\n",
       "    <tr>\n",
       "      <th>21</th>\n",
       "      <td>pei</td>\n",
       "      <td>-19.579313</td>\n",
       "      <td></td>\n",
       "      <td></td>\n",
       "      <td></td>\n",
       "      <td></td>\n",
       "      <td></td>\n",
       "    </tr>\n",
       "    <tr>\n",
       "      <th>22</th>\n",
       "      <td>wei</td>\n",
       "      <td>-19.579313</td>\n",
       "      <td></td>\n",
       "      <td></td>\n",
       "      <td></td>\n",
       "      <td></td>\n",
       "      <td></td>\n",
       "    </tr>\n",
       "    <tr>\n",
       "      <th>23</th>\n",
       "      <td>,</td>\n",
       "      <td>-3.391480</td>\n",
       "      <td></td>\n",
       "      <td>Yes</td>\n",
       "      <td></td>\n",
       "      <td></td>\n",
       "      <td></td>\n",
       "    </tr>\n",
       "    <tr>\n",
       "      <th>24</th>\n",
       "      <td>I</td>\n",
       "      <td>-4.064181</td>\n",
       "      <td>Yes</td>\n",
       "      <td></td>\n",
       "      <td></td>\n",
       "      <td></td>\n",
       "      <td></td>\n",
       "    </tr>\n",
       "    <tr>\n",
       "      <th>25</th>\n",
       "      <td>had</td>\n",
       "      <td>-6.679681</td>\n",
       "      <td>Yes</td>\n",
       "      <td></td>\n",
       "      <td></td>\n",
       "      <td></td>\n",
       "      <td></td>\n",
       "    </tr>\n",
       "    <tr>\n",
       "      <th>26</th>\n",
       "      <td>to</td>\n",
       "      <td>-3.838520</td>\n",
       "      <td>Yes</td>\n",
       "      <td></td>\n",
       "      <td></td>\n",
       "      <td></td>\n",
       "      <td></td>\n",
       "    </tr>\n",
       "    <tr>\n",
       "      <th>27</th>\n",
       "      <td>try</td>\n",
       "      <td>-7.992982</td>\n",
       "      <td></td>\n",
       "      <td></td>\n",
       "      <td></td>\n",
       "      <td></td>\n",
       "      <td></td>\n",
       "    </tr>\n",
       "    <tr>\n",
       "      <th>28</th>\n",
       "      <td>it</td>\n",
       "      <td>-4.506450</td>\n",
       "      <td>Yes</td>\n",
       "      <td></td>\n",
       "      <td></td>\n",
       "      <td></td>\n",
       "      <td></td>\n",
       "    </tr>\n",
       "    <tr>\n",
       "      <th>29</th>\n",
       "      <td>.</td>\n",
       "      <td>-3.072948</td>\n",
       "      <td></td>\n",
       "      <td>Yes</td>\n",
       "      <td></td>\n",
       "      <td></td>\n",
       "      <td></td>\n",
       "    </tr>\n",
       "    <tr>\n",
       "      <th>...</th>\n",
       "      <td>...</td>\n",
       "      <td>...</td>\n",
       "      <td>...</td>\n",
       "      <td>...</td>\n",
       "      <td>...</td>\n",
       "      <td>...</td>\n",
       "      <td>...</td>\n",
       "    </tr>\n",
       "    <tr>\n",
       "      <th>218</th>\n",
       "      <td>refused</td>\n",
       "      <td>-10.914844</td>\n",
       "      <td></td>\n",
       "      <td></td>\n",
       "      <td></td>\n",
       "      <td></td>\n",
       "      <td></td>\n",
       "    </tr>\n",
       "    <tr>\n",
       "      <th>219</th>\n",
       "      <td>to</td>\n",
       "      <td>-3.838520</td>\n",
       "      <td>Yes</td>\n",
       "      <td></td>\n",
       "      <td></td>\n",
       "      <td></td>\n",
       "      <td></td>\n",
       "    </tr>\n",
       "    <tr>\n",
       "      <th>220</th>\n",
       "      <td>take</td>\n",
       "      <td>-7.310444</td>\n",
       "      <td>Yes</td>\n",
       "      <td></td>\n",
       "      <td></td>\n",
       "      <td></td>\n",
       "      <td></td>\n",
       "    </tr>\n",
       "    <tr>\n",
       "      <th>221</th>\n",
       "      <td>it</td>\n",
       "      <td>-4.506450</td>\n",
       "      <td>Yes</td>\n",
       "      <td></td>\n",
       "      <td></td>\n",
       "      <td></td>\n",
       "      <td></td>\n",
       "    </tr>\n",
       "    <tr>\n",
       "      <th>222</th>\n",
       "      <td>home</td>\n",
       "      <td>-8.329909</td>\n",
       "      <td></td>\n",
       "      <td></td>\n",
       "      <td></td>\n",
       "      <td></td>\n",
       "      <td></td>\n",
       "    </tr>\n",
       "    <tr>\n",
       "      <th>223</th>\n",
       "      <td>with</td>\n",
       "      <td>-5.363765</td>\n",
       "      <td>Yes</td>\n",
       "      <td></td>\n",
       "      <td></td>\n",
       "      <td></td>\n",
       "      <td></td>\n",
       "    </tr>\n",
       "    <tr>\n",
       "      <th>224</th>\n",
       "      <td>us</td>\n",
       "      <td>-7.434524</td>\n",
       "      <td>Yes</td>\n",
       "      <td></td>\n",
       "      <td></td>\n",
       "      <td></td>\n",
       "      <td></td>\n",
       "    </tr>\n",
       "    <tr>\n",
       "      <th>225</th>\n",
       "      <td>.</td>\n",
       "      <td>-3.072948</td>\n",
       "      <td></td>\n",
       "      <td>Yes</td>\n",
       "      <td></td>\n",
       "      <td></td>\n",
       "      <td></td>\n",
       "    </tr>\n",
       "    <tr>\n",
       "      <th>226</th>\n",
       "      <td></td>\n",
       "      <td>-4.612954</td>\n",
       "      <td></td>\n",
       "      <td></td>\n",
       "      <td>Yes</td>\n",
       "      <td></td>\n",
       "      <td></td>\n",
       "    </tr>\n",
       "    <tr>\n",
       "      <th>227</th>\n",
       "      <td>If</td>\n",
       "      <td>-6.505217</td>\n",
       "      <td>Yes</td>\n",
       "      <td></td>\n",
       "      <td></td>\n",
       "      <td></td>\n",
       "      <td></td>\n",
       "    </tr>\n",
       "    <tr>\n",
       "      <th>228</th>\n",
       "      <td>you</td>\n",
       "      <td>-4.547973</td>\n",
       "      <td>Yes</td>\n",
       "      <td></td>\n",
       "      <td></td>\n",
       "      <td></td>\n",
       "      <td></td>\n",
       "    </tr>\n",
       "    <tr>\n",
       "      <th>229</th>\n",
       "      <td>like</td>\n",
       "      <td>-5.808349</td>\n",
       "      <td></td>\n",
       "      <td></td>\n",
       "      <td></td>\n",
       "      <td></td>\n",
       "      <td></td>\n",
       "    </tr>\n",
       "    <tr>\n",
       "      <th>230</th>\n",
       "      <td>and</td>\n",
       "      <td>-4.195279</td>\n",
       "      <td>Yes</td>\n",
       "      <td></td>\n",
       "      <td></td>\n",
       "      <td></td>\n",
       "      <td></td>\n",
       "    </tr>\n",
       "    <tr>\n",
       "      <th>231</th>\n",
       "      <td>enjoy</td>\n",
       "      <td>-9.455478</td>\n",
       "      <td></td>\n",
       "      <td></td>\n",
       "      <td></td>\n",
       "      <td></td>\n",
       "      <td></td>\n",
       "    </tr>\n",
       "    <tr>\n",
       "      <th>232</th>\n",
       "      <td>what</td>\n",
       "      <td>-5.972965</td>\n",
       "      <td>Yes</td>\n",
       "      <td></td>\n",
       "      <td></td>\n",
       "      <td></td>\n",
       "      <td></td>\n",
       "    </tr>\n",
       "    <tr>\n",
       "      <th>233</th>\n",
       "      <td>typical</td>\n",
       "      <td>-10.238110</td>\n",
       "      <td></td>\n",
       "      <td></td>\n",
       "      <td></td>\n",
       "      <td></td>\n",
       "      <td></td>\n",
       "    </tr>\n",
       "    <tr>\n",
       "      <th>234</th>\n",
       "      <td>Asian</td>\n",
       "      <td>-11.071413</td>\n",
       "      <td></td>\n",
       "      <td></td>\n",
       "      <td></td>\n",
       "      <td></td>\n",
       "      <td></td>\n",
       "    </tr>\n",
       "    <tr>\n",
       "      <th>235</th>\n",
       "      <td>food</td>\n",
       "      <td>-8.707296</td>\n",
       "      <td></td>\n",
       "      <td></td>\n",
       "      <td></td>\n",
       "      <td></td>\n",
       "      <td></td>\n",
       "    </tr>\n",
       "    <tr>\n",
       "      <th>236</th>\n",
       "      <td>tastes</td>\n",
       "      <td>-11.151585</td>\n",
       "      <td></td>\n",
       "      <td></td>\n",
       "      <td></td>\n",
       "      <td></td>\n",
       "      <td></td>\n",
       "    </tr>\n",
       "    <tr>\n",
       "      <th>237</th>\n",
       "      <td>like</td>\n",
       "      <td>-5.808349</td>\n",
       "      <td></td>\n",
       "      <td></td>\n",
       "      <td></td>\n",
       "      <td></td>\n",
       "      <td></td>\n",
       "    </tr>\n",
       "    <tr>\n",
       "      <th>238</th>\n",
       "      <td>,</td>\n",
       "      <td>-3.391480</td>\n",
       "      <td></td>\n",
       "      <td>Yes</td>\n",
       "      <td></td>\n",
       "      <td></td>\n",
       "      <td></td>\n",
       "    </tr>\n",
       "    <tr>\n",
       "      <th>239</th>\n",
       "      <td></td>\n",
       "      <td>-4.612954</td>\n",
       "      <td></td>\n",
       "      <td></td>\n",
       "      <td>Yes</td>\n",
       "      <td></td>\n",
       "      <td></td>\n",
       "    </tr>\n",
       "    <tr>\n",
       "      <th>240</th>\n",
       "      <td>do</td>\n",
       "      <td>-5.300070</td>\n",
       "      <td>Yes</td>\n",
       "      <td></td>\n",
       "      <td></td>\n",
       "      <td></td>\n",
       "      <td></td>\n",
       "    </tr>\n",
       "    <tr>\n",
       "      <th>241</th>\n",
       "      <td>n't</td>\n",
       "      <td>-4.883962</td>\n",
       "      <td></td>\n",
       "      <td></td>\n",
       "      <td></td>\n",
       "      <td></td>\n",
       "      <td></td>\n",
       "    </tr>\n",
       "    <tr>\n",
       "      <th>242</th>\n",
       "      <td>waste</td>\n",
       "      <td>-9.453293</td>\n",
       "      <td></td>\n",
       "      <td></td>\n",
       "      <td></td>\n",
       "      <td></td>\n",
       "      <td></td>\n",
       "    </tr>\n",
       "    <tr>\n",
       "      <th>243</th>\n",
       "      <td>your</td>\n",
       "      <td>-5.868531</td>\n",
       "      <td>Yes</td>\n",
       "      <td></td>\n",
       "      <td></td>\n",
       "      <td></td>\n",
       "      <td></td>\n",
       "    </tr>\n",
       "    <tr>\n",
       "      <th>244</th>\n",
       "      <td>time</td>\n",
       "      <td>-6.559485</td>\n",
       "      <td></td>\n",
       "      <td></td>\n",
       "      <td></td>\n",
       "      <td></td>\n",
       "      <td></td>\n",
       "    </tr>\n",
       "    <tr>\n",
       "      <th>245</th>\n",
       "      <td>here</td>\n",
       "      <td>-7.175437</td>\n",
       "      <td>Yes</td>\n",
       "      <td></td>\n",
       "      <td></td>\n",
       "      <td></td>\n",
       "      <td></td>\n",
       "    </tr>\n",
       "    <tr>\n",
       "      <th>246</th>\n",
       "      <td>.</td>\n",
       "      <td>-3.072948</td>\n",
       "      <td></td>\n",
       "      <td>Yes</td>\n",
       "      <td></td>\n",
       "      <td></td>\n",
       "      <td></td>\n",
       "    </tr>\n",
       "    <tr>\n",
       "      <th>247</th>\n",
       "      <td>\\n</td>\n",
       "      <td>-6.179879</td>\n",
       "      <td></td>\n",
       "      <td></td>\n",
       "      <td>Yes</td>\n",
       "      <td></td>\n",
       "      <td></td>\n",
       "    </tr>\n",
       "  </tbody>\n",
       "</table>\n",
       "<p>248 rows × 7 columns</p>\n",
       "</div>"
      ],
      "text/plain": [
       "          text  log_probability stop? punctuation? whitespace? number?  \\\n",
       "0          The        -5.774222   Yes                                    \n",
       "1        staff       -10.720455                                          \n",
       "2         here        -7.175437   Yes                                    \n",
       "3           is        -4.329765   Yes                                    \n",
       "4        great        -7.822114                                          \n",
       "5          and        -4.195279   Yes                                    \n",
       "6         they        -5.429816   Yes                                    \n",
       "7          're        -6.377125                                          \n",
       "8         nice        -8.462502                                          \n",
       "9            ,        -3.391480                Yes                       \n",
       "10                    -4.612954                            Yes           \n",
       "11   wonderful       -10.470794                                          \n",
       "12         and        -4.195279   Yes                                    \n",
       "13       quick        -9.907201                                          \n",
       "14           .        -3.072948                Yes                       \n",
       "15      People        -8.621843                                          \n",
       "16        were        -6.634815   Yes                                    \n",
       "17     ranting       -19.579313                                          \n",
       "18          in        -4.585874   Yes                                    \n",
       "19      raving       -19.579313                                          \n",
       "20       about        -5.880750   Yes                                    \n",
       "21         pei       -19.579313                                          \n",
       "22         wei       -19.579313                                          \n",
       "23           ,        -3.391480                Yes                       \n",
       "24           I        -4.064181   Yes                                    \n",
       "25         had        -6.679681   Yes                                    \n",
       "26          to        -3.838520   Yes                                    \n",
       "27         try        -7.992982                                          \n",
       "28          it        -4.506450   Yes                                    \n",
       "29           .        -3.072948                Yes                       \n",
       "..         ...              ...   ...          ...         ...     ...   \n",
       "218    refused       -10.914844                                          \n",
       "219         to        -3.838520   Yes                                    \n",
       "220       take        -7.310444   Yes                                    \n",
       "221         it        -4.506450   Yes                                    \n",
       "222       home        -8.329909                                          \n",
       "223       with        -5.363765   Yes                                    \n",
       "224         us        -7.434524   Yes                                    \n",
       "225          .        -3.072948                Yes                       \n",
       "226                   -4.612954                            Yes           \n",
       "227         If        -6.505217   Yes                                    \n",
       "228        you        -4.547973   Yes                                    \n",
       "229       like        -5.808349                                          \n",
       "230        and        -4.195279   Yes                                    \n",
       "231      enjoy        -9.455478                                          \n",
       "232       what        -5.972965   Yes                                    \n",
       "233    typical       -10.238110                                          \n",
       "234      Asian       -11.071413                                          \n",
       "235       food        -8.707296                                          \n",
       "236     tastes       -11.151585                                          \n",
       "237       like        -5.808349                                          \n",
       "238          ,        -3.391480                Yes                       \n",
       "239                   -4.612954                            Yes           \n",
       "240         do        -5.300070   Yes                                    \n",
       "241        n't        -4.883962                                          \n",
       "242      waste        -9.453293                                          \n",
       "243       your        -5.868531   Yes                                    \n",
       "244       time        -6.559485                                          \n",
       "245       here        -7.175437   Yes                                    \n",
       "246          .        -3.072948                Yes                       \n",
       "247         \\n        -6.179879                            Yes           \n",
       "\n",
       "    out of vocab.?  \n",
       "0                   \n",
       "1                   \n",
       "2                   \n",
       "3                   \n",
       "4                   \n",
       "5                   \n",
       "6                   \n",
       "7                   \n",
       "8                   \n",
       "9                   \n",
       "10                  \n",
       "11                  \n",
       "12                  \n",
       "13                  \n",
       "14                  \n",
       "15                  \n",
       "16                  \n",
       "17                  \n",
       "18                  \n",
       "19                  \n",
       "20                  \n",
       "21                  \n",
       "22                  \n",
       "23                  \n",
       "24                  \n",
       "25                  \n",
       "26                  \n",
       "27                  \n",
       "28                  \n",
       "29                  \n",
       "..             ...  \n",
       "218                 \n",
       "219                 \n",
       "220                 \n",
       "221                 \n",
       "222                 \n",
       "223                 \n",
       "224                 \n",
       "225                 \n",
       "226                 \n",
       "227                 \n",
       "228                 \n",
       "229                 \n",
       "230                 \n",
       "231                 \n",
       "232                 \n",
       "233                 \n",
       "234                 \n",
       "235                 \n",
       "236                 \n",
       "237                 \n",
       "238                 \n",
       "239                 \n",
       "240                 \n",
       "241                 \n",
       "242                 \n",
       "243                 \n",
       "244                 \n",
       "245                 \n",
       "246                 \n",
       "247                 \n",
       "\n",
       "[248 rows x 7 columns]"
      ]
     },
     "execution_count": 13,
     "metadata": {},
     "output_type": "execute_result"
    }
   ],
   "source": [
    "token_attributes = [(token.orth_,\n",
    "                    token.prob,\n",
    "                    token.is_stop,\n",
    "                    token.is_punct,\n",
    "                    token.is_space,\n",
    "                    token.like_num,\n",
    "                    token.is_oov)\n",
    "                   for token in parsed_review]\n",
    "\n",
    "df = pd.DataFrame(token_attributes,\n",
    "                 columns=['text',\n",
    "                         'log_probability',\n",
    "                         'stop?',\n",
    "                         'punctuation?',\n",
    "                         'whitespace?',\n",
    "                         'number?',\n",
    "                         'out of vocab.?'])\n",
    "\n",
    "df.loc[:, 'stop?':'out of vocab.?'] = (df.loc[:, 'stop?':'out of vocab.?']\n",
    "                                      .applymap(lambda x: u'Yes' if x else u''))\n",
    "\n",
    "df"
   ]
  },
  {
   "cell_type": "markdown",
   "metadata": {},
   "source": [
    "### Step 3: Automatic Phrase Modeling"
   ]
  },
  {
   "cell_type": "markdown",
   "metadata": {},
   "source": [
    "The problem with these tokens is that independently, they do not properly reflect the relationships between one another. For example, above, *do* and *n't* are considered separate tokens, but they would be better reflected as a single collocation since *n't* will never appear apart from *do* (or alternative modal verbs).\n",
    "\n",
    "From the *gensim* library, I will be able to complete phrase modeling over the current list of tokens to find such relationships."
   ]
  },
  {
   "cell_type": "code",
   "execution_count": 14,
   "metadata": {
    "collapsed": true
   },
   "outputs": [],
   "source": [
    "import warnings\n",
    "# Because of Windows Anaconda, a warning appears without this filter.\n",
    "warnings.filterwarnings(action='ignore', category=UserWarning, module='gensim')\n",
    "\n",
    "from gensim.models import Phrases\n",
    "from gensim.models.word2vec import LineSentence"
   ]
  },
  {
   "cell_type": "markdown",
   "metadata": {},
   "source": [
    "There are four steps that must be done in data preparation here:\n",
    "- a) Segment text of complete reviews into sentences and normalize text\n",
    "- b) First-order phrase modeling\n",
    "- c) Second-order phrase modeling\n",
    "- d) Apply text normalization and second-order phrase model to text of complete reviews\n",
    "\n",
    "#### a) Segment text of complete reviews into sentences & normalize text\n",
    "\n",
    "Three helper functions will be used for this step. They will, respectively, find punctuation and whitespace, line breaks, and word lemmas."
   ]
  },
  {
   "cell_type": "code",
   "execution_count": 15,
   "metadata": {
    "collapsed": true
   },
   "outputs": [],
   "source": [
    "def punct_space(token):\n",
    "    \"\"\" eliminates purely punctuation and whitespace tokens\"\"\"\n",
    "    return token.is_punct or token.is_space\n",
    "\n",
    "def line_review(filename):\n",
    "    \"\"\"reads in each review and unescapes the line-breaks\"\"\"\n",
    "    with codecs.open(filename, encoding='utf_8') as f:\n",
    "        for review in f:\n",
    "            yield review.replace('\\\\n', '\\n')\n",
    "            \n",
    "def lemmatized_sentence_corpus(filename):\n",
    "    \"\"\"uses spaCy to parse reviews, lemmatize, and tokenize sentences\"\"\"\n",
    "    for parsed_review in nlp.pipe(line_review(filename),\n",
    "                                 batch_size=10000, n_threads=4):\n",
    "        \n",
    "        for sent in parsed_review.sents:\n",
    "            yield u' '.join([token.lemma_ for token in sent\n",
    "                            if not punct_space(token)])"
   ]
  },
  {
   "cell_type": "markdown",
   "metadata": {},
   "source": [
    "*lemmatized_sentence_corpus* loops over the original review text and outputs it to *unigram_sentences_all* one normalized sentence at a time, with one per line."
   ]
  },
  {
   "cell_type": "code",
   "execution_count": 16,
   "metadata": {
    "collapsed": true
   },
   "outputs": [],
   "source": [
    "unigram_sentences_filepath = os.path.join(intermediate_directory,\n",
    "                                         'unigram_sentences_all.txt')"
   ]
  },
  {
   "cell_type": "code",
   "execution_count": 17,
   "metadata": {},
   "outputs": [
    {
     "name": "stdout",
     "output_type": "stream",
     "text": [
      "Wall time: 0 ns\n"
     ]
    }
   ],
   "source": [
    "%%time\n",
    "if False: # Once this is run once it does not need to be run again.\n",
    "    \n",
    "    with codecs.open(unigram_sentences_filepath, 'w', encoding='utf_8') as f:\n",
    "        for sentence in lemmatized_sentence_corpus(review_text_filepath):\n",
    "            f.write(sentence + '\\n')"
   ]
  },
  {
   "cell_type": "markdown",
   "metadata": {},
   "source": [
    "This process took me 2 hours and 48 minutes to complete on my modest computer.\n",
    "\n",
    "The Gensim library provides a LineSentence class that streams documents of this format from disk, allowing massive scaling for huge amounts of data that now does not need to be saved in whole into memory. "
   ]
  },
  {
   "cell_type": "code",
   "execution_count": 18,
   "metadata": {
    "collapsed": true
   },
   "outputs": [],
   "source": [
    "unigram_sentences = LineSentence(unigram_sentences_filepath)"
   ]
  },
  {
   "cell_type": "markdown",
   "metadata": {},
   "source": [
    "What do these sentences look like now?"
   ]
  },
  {
   "cell_type": "code",
   "execution_count": 19,
   "metadata": {},
   "outputs": [
    {
     "name": "stdout",
     "output_type": "stream",
     "text": [
      "this place be clean the staff be wonderful and go out of -PRON- way to help -PRON-\n",
      "\n",
      "-PRON- stay a step ahead of -PRON- and get what what -PRON- ne the food be perfect\n",
      "\n",
      "-PRON- have eat here many many time and -PRON- have always be fresh hot and delicious -PRON- highly recommend this place 100%\n",
      "\n",
      "service be a 4\n",
      "\n",
      "very sloppy also the hot and sour soup be not that bad if u add enough chile paste and salt and soy sauce the gentleman name pop -PRON- be the manager great service from -PRON- and this other lady do not get -PRON- name unfortunetly -PRON- have change -PRON- rating 2 time that be how impressed -PRON- be\n",
      "\n",
      "love the food but -PRON- be great at all location\n",
      "\n",
      "the customer service be horrible at this location\n",
      "\n",
      "only two table be occupy at the time -PRON- walk in for a carry out\n",
      "\n",
      "-PRON- walk in and -PRON- look at -PRON- like really\n",
      "\n",
      "go away\n",
      "\n"
     ]
    }
   ],
   "source": [
    "for unigram_sentence in it.islice(unigram_sentences, 450, 460):\n",
    "    print(u' '.join(unigram_sentence))\n",
    "    print(u'')"
   ]
  },
  {
   "cell_type": "markdown",
   "metadata": {},
   "source": [
    "Notice that these new sentences are far simpler grammatically than they would have been before. This presents a glimpse at what the final outcome of this stage will look like in the end.\n",
    "\n",
    "#### b) First-order phrase modeling\n",
    "\n",
    "From these normalized sentences, one can now use *gensim.models.Phrases* to find two-word collocations and link them together into single tokens. \n",
    "\n",
    "For example, in one of the sentences above are the words \"soy sauce\". Though they are technically separate words, when together as a bigram they act as a distinct entity. Hence, by training a model on frequent bigrams, one can disambiguate cases like these."
   ]
  },
  {
   "cell_type": "code",
   "execution_count": 20,
   "metadata": {
    "collapsed": true
   },
   "outputs": [],
   "source": [
    "bigram_model_filepath = os.path.join(intermediate_directory, 'bigram_model_all')"
   ]
  },
  {
   "cell_type": "code",
   "execution_count": 21,
   "metadata": {},
   "outputs": [
    {
     "name": "stdout",
     "output_type": "stream",
     "text": [
      "Wall time: 21.4 s\n"
     ]
    }
   ],
   "source": [
    "%%time\n",
    "if False: # Once this is run once it does not need to be run again.\n",
    "    \n",
    "    bigram_model = Phrases(unigram_sentences)\n",
    "    bigram_model.save(bigram_model_filepath)\n",
    "\n",
    "# load the finished model back in after it's been built\n",
    "bigram_model = Phrases.load(bigram_model_filepath)"
   ]
  },
  {
   "cell_type": "markdown",
   "metadata": {
    "collapsed": true
   },
   "source": [
    "This process took a little more than 14 minutes to complete on my computer. By saving the model to its filepath, it can be run on unrelated text. This process allows different models formed from different corpora to be cross-compared.\n",
    "\n",
    "I can now edit the original sentences to account for these bigrams."
   ]
  },
  {
   "cell_type": "code",
   "execution_count": 22,
   "metadata": {
    "collapsed": true
   },
   "outputs": [],
   "source": [
    "bigram_sentences_filepath = os.path.join(intermediate_directory,\n",
    "                                        'bigram_sentences_all.txt')"
   ]
  },
  {
   "cell_type": "code",
   "execution_count": 23,
   "metadata": {},
   "outputs": [
    {
     "name": "stdout",
     "output_type": "stream",
     "text": [
      "Wall time: 0 ns\n"
     ]
    }
   ],
   "source": [
    "%%time\n",
    "if False: # Once this is run once it does not need to be run again.\n",
    "    \n",
    "    with codecs.open(bigram_sentences_filepath, 'w', encoding='utf_8') as f:\n",
    "        for unigram_sentence in unigram_sentences:\n",
    "            bigram_sentence = u' '.join(bigram_model[unigram_sentence])\n",
    "            \n",
    "            f.write(bigram_sentence + '\\n')"
   ]
  },
  {
   "cell_type": "markdown",
   "metadata": {},
   "source": [
    "This took a little more than 26 minutes on my computer. Let's take a look at what I'm left with."
   ]
  },
  {
   "cell_type": "code",
   "execution_count": 24,
   "metadata": {},
   "outputs": [
    {
     "name": "stdout",
     "output_type": "stream",
     "text": [
      "nothing fantastic about -PRON- but -PRON- taste fine\n",
      "\n",
      "-PRON- come with a sweet mustard dip sauce which be pretty tasty\n",
      "\n",
      "usual filling of pork veggie etc\n",
      "\n",
      "deep_fried pot_stickers- -PRON- get 2 of these thing\n",
      "\n",
      "-PRON- be good\n",
      "\n",
      "small but good\n",
      "\n",
      "straight pork filling in the middle of -PRON-\n",
      "\n",
      "overall -PRON- be just alright\n",
      "\n",
      "-PRON- will say that -PRON- give -PRON- a grip of food\n",
      "\n",
      "the 2 entree -PRON- get could have easily_feed 1 2 more people\n",
      "\n"
     ]
    }
   ],
   "source": [
    "bigram_sentences = LineSentence(bigram_sentences_filepath)\n",
    "\n",
    "for bigram_sentence in it.islice(bigram_sentences, 230, 240):\n",
    "    print(u' '.join(bigram_sentence))\n",
    "    print(u'')"
   ]
  },
  {
   "cell_type": "markdown",
   "metadata": {},
   "source": [
    "So what has been achieved? Looking at the outputted sentences above, now two-word phrases like \"deep fried\" and \"pot stickers\" are now written out as \"deep\\_fried\" and \"pot\\_stickers\". This gives a better representation of what words co-occur together at a rate far greater than chance."
   ]
  },
  {
   "cell_type": "markdown",
   "metadata": {},
   "source": [
    "#### c) Second-order phrase modeling"
   ]
  },
  {
   "cell_type": "markdown",
   "metadata": {},
   "source": [
    "We now have concatenated bigrams, but having trigrams accounted for as well might be a good idea. This involves nearly the same exact code found in part (b), but this time instead of running the new trigram model over the unigram sentences, I'll run it over the just-made bigram ones."
   ]
  },
  {
   "cell_type": "code",
   "execution_count": 25,
   "metadata": {
    "collapsed": true
   },
   "outputs": [],
   "source": [
    "trigram_model_filepath = os.path.join(intermediate_directory,\n",
    "                                     'trigram_model_all')"
   ]
  },
  {
   "cell_type": "code",
   "execution_count": 26,
   "metadata": {},
   "outputs": [
    {
     "name": "stdout",
     "output_type": "stream",
     "text": [
      "Wall time: 21.8 s\n"
     ]
    }
   ],
   "source": [
    "%%time\n",
    "if False:  # Once this is run once it does not need to be run again.\n",
    "    \n",
    "    trigram_model = Phrases(bigram_sentences)\n",
    "    trigram_model.save(trigram_model_filepath)\n",
    "\n",
    "# load the finished model back in after it's been built\n",
    "trigram_model = Phrases.load(trigram_model_filepath)"
   ]
  },
  {
   "cell_type": "markdown",
   "metadata": {},
   "source": [
    "This process took almost 18 minutes to complete on my computer. Again, I'm saving this trigram model in its own file so that it could be used again in the future on other corpora. Now, this second-order phrase model can be applied to the first-order transformed sentences, and the results of such will be outputted to a third sentences file."
   ]
  },
  {
   "cell_type": "code",
   "execution_count": 27,
   "metadata": {
    "collapsed": true
   },
   "outputs": [],
   "source": [
    "trigram_sentences_filepath = os.path.join(intermediate_directory,\n",
    "                                         'trigram_sentences_all.txt')"
   ]
  },
  {
   "cell_type": "code",
   "execution_count": 28,
   "metadata": {},
   "outputs": [
    {
     "name": "stdout",
     "output_type": "stream",
     "text": [
      "Wall time: 0 ns\n"
     ]
    }
   ],
   "source": [
    "%%time\n",
    "if False:  # Once this is run once it does not need to be run again.\n",
    "    \n",
    "    with codecs.open(trigram_sentences_filepath, 'w', encoding='utf_8') as f:\n",
    "        for bigram_sentence in bigram_sentences:\n",
    "            trigram_sentence = u' '.join(trigram_model[bigram_sentence])\n",
    "            \n",
    "            f.write(trigram_sentence + '\\n')"
   ]
  },
  {
   "cell_type": "markdown",
   "metadata": {},
   "source": [
    "This took almost 27 minutes on my computer. Now there is a file consisting of every sentence marked with trigrams. "
   ]
  },
  {
   "cell_type": "code",
   "execution_count": 29,
   "metadata": {
    "collapsed": true
   },
   "outputs": [],
   "source": [
    "trigram_sentences = LineSentence(trigram_sentences_filepath)"
   ]
  },
  {
   "cell_type": "code",
   "execution_count": 30,
   "metadata": {},
   "outputs": [
    {
     "name": "stdout",
     "output_type": "stream",
     "text": [
      "definitely a second good to p.f._chang_'s\n",
      "\n",
      "service be fast and on time\n",
      "\n",
      "love the online_ordering very convenient food be always hot and delicious\n",
      "\n",
      "however\n",
      "\n",
      "no forks for take out\n",
      "\n",
      "that be poor management\n",
      "\n",
      "either -PRON- do not order in time or there be a problem with the order either way hustle -PRON- booty to walmart and buy a couple box unacceptable\n",
      "\n",
      "the food be fantastic -PRON- highly_recommend the lettuce_wraps\n",
      "\n",
      "then -PRON- go to dinner at pei_wei\n",
      "\n",
      "not bad for an asian_fusion place fill with senior_citizen\n",
      "\n"
     ]
    }
   ],
   "source": [
    "for trigram_sentence in it.islice(trigram_sentences, 270, 280):\n",
    "    print(u' '.join(trigram_sentence))\n",
    "    print(u'')"
   ]
  },
  {
   "cell_type": "markdown",
   "metadata": {},
   "source": [
    "Why did I do all this? Because now, instead of the phrase \"p.f. chang 's\" being represented as three separate words, it is now concatenated into \"p.f.\\_chang\\_'s\". This is now correctly marked as a single entity instead of as three.\n",
    "\n",
    "Technically, I could repeat this process indefinitely with higher and higher ngrams, but very little is gained information-wise after trigrams, so here I stop."
   ]
  },
  {
   "cell_type": "markdown",
   "metadata": {},
   "source": [
    "#### d) Apply text normalization and second-order phrase model to text of complete reviews"
   ]
  },
  {
   "cell_type": "markdown",
   "metadata": {},
   "source": [
    "Now what? I now have these useful models and lots of sentences, but I was originally looking at full reviews. Therefore, I can run the original texts through these models (and even remove imformation-poor stop-words to boot) and be left with a semantically-rich equivalent to our original text, ignoring most of grammar and focusing on the words themselves."
   ]
  },
  {
   "cell_type": "code",
   "execution_count": 31,
   "metadata": {
    "collapsed": true
   },
   "outputs": [],
   "source": [
    "trigram_reviews_filepath = os.path.join(intermediate_directory,\n",
    "                                       'trigram_tranformed_reviews_all.txt')"
   ]
  },
  {
   "cell_type": "code",
   "execution_count": 32,
   "metadata": {},
   "outputs": [
    {
     "name": "stdout",
     "output_type": "stream",
     "text": [
      "Wall time: 0 ns\n"
     ]
    }
   ],
   "source": [
    "%%time\n",
    "if False: # Once this is run once it does not need to be run again.\n",
    "    \n",
    "    with codecs.open(trigram_reviews_filepath, 'w', encoding='utf_8') as f:\n",
    "        for parsed_review in nlp.pipe(line_review(review_text_filepath),\n",
    "                                    batch_size=10000, n_threads=4):\n",
    "            \n",
    "            # lemmatize, and remove punctuation and whitespace\n",
    "            unigram_review = [token.lemma_ for token in parsed_review if not punct_space(token)]\n",
    "            \n",
    "            # apply the first- and second-order phrase models\n",
    "            bigram_review = bigram_model[unigram_review]\n",
    "            trigram_review = trigram_model[bigram_review]\n",
    "            \n",
    "            # remove stopwords, using SpaCy's nifty premade list\n",
    "            trigram_review = [term for term in trigram_review if term not in spacy.en.STOP_WORDS]\n",
    "            \n",
    "            # finally, output this to the new file, review by review as line by line\n",
    "            trigram_review = u' '.join(trigram_review)\n",
    "            f.write(trigram_review + '\\n')"
   ]
  },
  {
   "cell_type": "markdown",
   "metadata": {},
   "source": [
    "This took a little more than 3 hours and 47 minutes to complete on my computer.\n",
    "\n",
    "Thus, to compare the text from before and after NLP transformations:"
   ]
  },
  {
   "cell_type": "code",
   "execution_count": 33,
   "metadata": {},
   "outputs": [
    {
     "name": "stdout",
     "output_type": "stream",
     "text": [
      "Original:\n",
      "\n",
      "I love this place i'd recommend it to anyone ! We always order it togo and it never disappoints! The food always taste fresh and is always ready on time! Definitely our favorite lunch spot !\n",
      "\n",
      "----\n",
      "\n",
      "Transformed:\n",
      "\n",
      "-PRON- love place -PRON- recommend -PRON- -PRON- order -PRON- togo -PRON- disappoint food taste fresh ready time definitely -PRON- favorite lunch spot\n",
      "\n"
     ]
    }
   ],
   "source": [
    "print(u'Original:\\n')\n",
    "for review in it.islice(line_review(review_text_filepath), 11, 12):\n",
    "    print(review)\n",
    "    \n",
    "print(u'----\\n')\n",
    "print(u'Transformed:\\n')\n",
    "\n",
    "with codecs.open(trigram_reviews_filepath, encoding='utf_8') as f:\n",
    "    for review in it.islice(f, 11, 12):\n",
    "        print(review)"
   ]
  },
  {
   "cell_type": "markdown",
   "metadata": {},
   "source": [
    "It's obvious through a comparison of both of these that while a lot of content has been removed from the original text, the meat-and-potatoes remains. This information is far more useful for the semantic topic modelling that'll be applied next."
   ]
  },
  {
   "cell_type": "markdown",
   "metadata": {},
   "source": [
    "### Step 4: Visualizing topic models with pyLDAvis\n",
    "\n",
    "*Topic Modeling* is a set of techniques where given a large corpus, inferences can be made between words such that many clusters of words appearing in similar contexts, or 'topics', can be determined and extracted. These topics can then be compared to the contexts found in specific documents, such that each document can be classified according to these contexts. In this sense, the computer is able to understand semantic connections between words without actually understanding the words themselves.\n",
    "\n",
    "Here, [Latent Dirichlet Allocation](http://www.jmlr.org/papers/volume3/blei03a/blei03a.pdf), or [LDA](https://en.wikipedia.org/wiki/Latent_Dirichlet_allocation), is to be used. This approach was designed in 2003 and proves highly successful and easy to implement in Python (though there are of course other topic modeling techniques that too could be used as well).\n",
    "\n",
    "In LDA, documents are first analyzed not as massive strings, but merely as bags-of-words. A lexicon consisting of all the vocabulary found across all documents is created, then each document is described as a sparse matrix with the counts of each token found in each document. A massive and sparse *document-term matrix* results, and it is from here that analysis can be done.\n",
    "\n",
    "The *Latent* in LDA can be seen as synonymous to *hidden*. There are a number of hidden topics that the documents can be described by, and the total number of topics is determined by human inference. In the examples below, 50 topics are found, though more or less would yield denser but less accurate topics or sparser but more comprehensive topics, respectively.\n",
    "\n",
    "The [*Dirichlet*](https://en.wikipedia.org/wiki/Dirichlet_distribution) in LDA is a type of distribution discovered by Gustav Lejeune Dirichlet; this distribution is assumed to be the probability distribution that the documents, topics, and tokens jointly follow. Again, there are alternative options that could be utilized, but LDAs work quite well for instances like these.\n",
    "\n",
    "Finally, it is important to note that this is an instance of unsupervised learning. This means that the algorithm will discover these 50 topics on its own, with no previous knowledge of what each topic is. Because of this, I will have to label each topic myself in the end, as their true definitions will remain hidden to the computer and to me.\n",
    "\n",
    "Luckily, gensim again has modules that can be used for data processing and for LDA analysis."
   ]
  },
  {
   "cell_type": "code",
   "execution_count": 34,
   "metadata": {
    "collapsed": true
   },
   "outputs": [],
   "source": [
    "import warnings\n",
    "# Because of Windows Anaconda, a warning appears without this filter.\n",
    "warnings.filterwarnings(action='ignore', category=UserWarning, module='gensim')\n",
    "\n",
    "from gensim.corpora import Dictionary, MmCorpus\n",
    "from gensim.models.ldamulticore import LdaMulticore\n",
    "\n",
    "import pyLDAvis\n",
    "import pyLDAvis.gensim\n",
    "import _pickle as pickle"
   ]
  },
  {
   "cell_type": "markdown",
   "metadata": {},
   "source": [
    "Gensim's *Dictionary* class allows the full lexicon of the Yelp review corpus to be modeled. The trigram dictionary found in the previous section will be used in forming the dictionary."
   ]
  },
  {
   "cell_type": "code",
   "execution_count": 35,
   "metadata": {
    "collapsed": true
   },
   "outputs": [],
   "source": [
    "trigram_dictionary_filepath = os.path.join(intermediate_directory,\n",
    "                                          'trigram_dict_all.dict')"
   ]
  },
  {
   "cell_type": "code",
   "execution_count": 36,
   "metadata": {},
   "outputs": [
    {
     "name": "stdout",
     "output_type": "stream",
     "text": [
      "Wall time: 67.6 ms\n"
     ]
    }
   ],
   "source": [
    "%%time\n",
    "if False: # Once this is run once it does not need to be run again.\n",
    "    \n",
    "    trigram_reviews = LineSentence(trigram_reviews_filepath)\n",
    "    \n",
    "    # iterate the reviews and build a dictionary of trigrams\n",
    "    trigram_dictionary = Dictionary(trigram_reviews)\n",
    "    \n",
    "    # filter tokens that are too rare or common (so little information gain) from the dict\n",
    "    trigram_dictionary.filter_extremes(no_below=10, no_above=0.4)\n",
    "    \n",
    "    # reassign integer ids removed from the filtering to conserve space\n",
    "    trigram_dictionary.compactify()\n",
    "    \n",
    "    trigram_dictionary.save(trigram_dictionary_filepath)\n",
    "\n",
    "# load the finished dictionary back in after it's been built\n",
    "trigram_dictionary = Dictionary.load(trigram_dictionary_filepath)"
   ]
  },
  {
   "cell_type": "markdown",
   "metadata": {},
   "source": [
    "This process only about 5 minutes on my computer. The LDA utilizes a bag-of-words model to represent all the words and their counts, and this is now saved as a sparse matrix with the dimensions of the number of reviews by the number of total vocab words."
   ]
  },
  {
   "cell_type": "code",
   "execution_count": 37,
   "metadata": {
    "collapsed": true
   },
   "outputs": [],
   "source": [
    "trigram_bow_filepath = os.path.join(intermediate_directory,\n",
    "                                   'trigram_bow_corpus_all.mm')"
   ]
  },
  {
   "cell_type": "code",
   "execution_count": 38,
   "metadata": {
    "collapsed": true
   },
   "outputs": [],
   "source": [
    "def trigram_bow_generator(filepath):\n",
    "    \"\"\"\n",
    "    generator function that reads in a file and yields a bow representation from it\n",
    "    \"\"\"\n",
    "    \n",
    "    for review in LineSentence(filepath):\n",
    "        yield trigram_dictionary.doc2bow(review)"
   ]
  },
  {
   "cell_type": "code",
   "execution_count": 39,
   "metadata": {},
   "outputs": [
    {
     "name": "stdout",
     "output_type": "stream",
     "text": [
      "Wall time: 579 ms\n"
     ]
    }
   ],
   "source": [
    "%%time\n",
    "if False: # Once this is run once it does not need to be run again.\n",
    "    \n",
    "    #generate the bow representation for the reviews and save as a matrix\n",
    "    MmCorpus.serialize(trigram_bow_filepath,\n",
    "                      trigram_bow_generator(trigram_reviews_filepath))\n",
    "\n",
    "# load the finished corpus back in after it's been built\n",
    "trigram_bow_corpus = MmCorpus(trigram_bow_filepath)"
   ]
  },
  {
   "cell_type": "markdown",
   "metadata": {},
   "source": [
    "This took about 9.5 minutes on my computer. I pass into the LDA model the sparse matrix made above, the number of topics to be found (here 50), and the total lexicon."
   ]
  },
  {
   "cell_type": "code",
   "execution_count": 40,
   "metadata": {
    "collapsed": true
   },
   "outputs": [],
   "source": [
    "lda_model_filepath = os.path.join(intermediate_directory,\n",
    "                                 'lda_model_all')"
   ]
  },
  {
   "cell_type": "code",
   "execution_count": 41,
   "metadata": {},
   "outputs": [
    {
     "name": "stdout",
     "output_type": "stream",
     "text": [
      "Wall time: 700 ms\n"
     ]
    }
   ],
   "source": [
    "%%time\n",
    "if False: # Once this is run once it does not need to be run again.\n",
    "    \n",
    "    with warnings.catch_warnings():\n",
    "        warnings.simplefilter('ignore')\n",
    "        \n",
    "        lda = LdaMulticore(trigram_bow_corpus,\n",
    "                          num_topics=50,\n",
    "                          id2word=trigram_dictionary,\n",
    "                          workers=1)\n",
    "        \n",
    "    lda.save(lda_model_filepath)\n",
    "\n",
    "# load the finished model back in after it's been built\n",
    "lda = LdaMulticore.load(lda_model_filepath)"
   ]
  },
  {
   "cell_type": "markdown",
   "metadata": {},
   "source": [
    "This took a little over 2 hours to complete. With this now-finished LDA model, each topic's most influential words can be seen, and from this one can infer roughly what each topic represents."
   ]
  },
  {
   "cell_type": "code",
   "execution_count": 42,
   "metadata": {
    "collapsed": true
   },
   "outputs": [],
   "source": [
    "def explore_topic(topic_number, topn=25):\n",
    "    \"\"\"\n",
    "    prints out a formatted list of the top terms of a given topic number\n",
    "    \"\"\"\n",
    "    \n",
    "    print(u'{:20} {}\\n'.format(u'term', u'frequency'))\n",
    "    \n",
    "    for term, frequency in lda.show_topic(topic_number, topn=25):\n",
    "        print(u'{:20} {:.3f}'.format(term, round(frequency, 3)))"
   ]
  },
  {
   "cell_type": "code",
   "execution_count": 43,
   "metadata": {},
   "outputs": [
    {
     "name": "stdout",
     "output_type": "stream",
     "text": [
      "term                 frequency\n",
      "\n",
      "chicken              0.102\n",
      "sauce                0.037\n",
      "meat                 0.034\n",
      "bbq                  0.025\n",
      "wing                 0.025\n",
      "fry                  0.024\n",
      "order                0.022\n",
      "fried                0.018\n",
      "like                 0.016\n",
      "dry                  0.014\n",
      "flavor               0.013\n",
      "rib                  0.013\n",
      "taste                0.011\n",
      "tender               0.011\n",
      "smoke                0.010\n",
      "brisket              0.010\n",
      "try                  0.009\n",
      "cheese               0.009\n",
      "hot                  0.009\n",
      "come                 0.008\n",
      "mac                  0.007\n",
      "crispy               0.007\n",
      "pork                 0.006\n",
      "piece                0.006\n",
      "little               0.006\n"
     ]
    }
   ],
   "source": [
    "explore_topic(topic_number=15)"
   ]
  },
  {
   "cell_type": "markdown",
   "metadata": {},
   "source": [
    "Topic 15 contains words like *bbq*, *sauce*, *smoke*, and *brisket*, all of which relate to **BBQ**. A similar process of inference has been repeated for each of the topics, and these have been listed below."
   ]
  },
  {
   "cell_type": "code",
   "execution_count": 44,
   "metadata": {
    "collapsed": true
   },
   "outputs": [],
   "source": [
    "topic_names = {0: u'interior',\n",
    "              1: u'oriental',\n",
    "              2: u'breakfast',\n",
    "              3: u'service',\n",
    "              4: u'arrival',\n",
    "              5: u'cost',\n",
    "              6: u'nightlife',\n",
    "              7: u'alternative',\n",
    "              8: u'hip',\n",
    "              9: u'bar',\n",
    "              10: u'japanese',\n",
    "              11: u'pizza',\n",
    "              12: u'bistro',\n",
    "              13: u'steak',\n",
    "              14: u'overnight',\n",
    "              15: u'bbq',\n",
    "              16: u'family',\n",
    "              17: u'awesomesauce',\n",
    "              18: u'dessert',\n",
    "              19: u'selections',\n",
    "              20: u'mexican',\n",
    "              21: u'indian',\n",
    "              22: u'discount',\n",
    "              23: u'french',\n",
    "              24: u'lunch',\n",
    "              25: u'thai',\n",
    "              26: u'location',\n",
    "              27: u'parking/cajun/utensils',\n",
    "              28: u'terribad',\n",
    "              29: u'positive',\n",
    "              30: u'buffet',\n",
    "              31: u'tex-mex',\n",
    "              32: u'cajun',\n",
    "              33: u'burgers',\n",
    "              34: u'ramen',\n",
    "              35: u'fancy',\n",
    "              36: u'alcohol/south',\n",
    "              37: u'atmosphere',\n",
    "              38: u'crowdedness',\n",
    "              39: u'ice cream/delivery',\n",
    "              40: u'french',\n",
    "              41: u'management',\n",
    "              42: u'experience',\n",
    "              43: u'quality',\n",
    "              44: u'letters/numbers',\n",
    "              45: u'seafood',\n",
    "              46: u'upper-class',\n",
    "              47: u'celebration',\n",
    "              48: u'breakfast diner',\n",
    "              49: u'awesomesauce'}"
   ]
  },
  {
   "cell_type": "code",
   "execution_count": 45,
   "metadata": {
    "collapsed": true
   },
   "outputs": [],
   "source": [
    "topic_names_filepath = os.path.join(intermediate_directory,\n",
    "                                   'topic_names.pkl')\n",
    "\n",
    "with open(topic_names_filepath, 'wb') as f:\n",
    "    pickle.dump(topic_names, f)"
   ]
  },
  {
   "cell_type": "markdown",
   "metadata": {},
   "source": [
    "I've appended all of these topic names to the original file. Although not all topics are easy to infer, each can be roughly associated with some distinct aspect of restaurants and cuisine.\n",
    "\n",
    "However, being able to visually inspect how each topic relates to one another in a graphical format would help to better understand just how each topic relates to one another. Luckily, pyLDAvis allows one to easily do such."
   ]
  },
  {
   "cell_type": "code",
   "execution_count": 46,
   "metadata": {
    "collapsed": true
   },
   "outputs": [],
   "source": [
    "LDAvis_data_filepath = os.path.join(intermediate_directory,\n",
    "                                   'ldavis_prepared')"
   ]
  },
  {
   "cell_type": "code",
   "execution_count": 47,
   "metadata": {
    "scrolled": true
   },
   "outputs": [
    {
     "name": "stdout",
     "output_type": "stream",
     "text": [
      "Wall time: 12 ms\n"
     ]
    }
   ],
   "source": [
    "%%time\n",
    "if False: # Once this is run once it does not need to be run again\n",
    "    \n",
    "    LDAvis_prepared = pyLDAvis.gensim.prepare(lda,\n",
    "                                              trigram_bow_corpus,\n",
    "                                              trigram_dictionary)\n",
    "    \n",
    "    with open(LDAvis_data_filepath, 'wb') as f:\n",
    "        pickle.dump(LDAvis_prepared, f)\n",
    "\n",
    "# load the finished pyLDAvis data back in after it's been built       \n",
    "with open(LDAvis_data_filepath, 'rb') as f:\n",
    "    LDAvis_prepared = pickle.load(f)"
   ]
  },
  {
   "cell_type": "markdown",
   "metadata": {},
   "source": [
    "With pyLDAvis.display(pyLDAvisModel), a visualization can be displayed directly in Jupyter."
   ]
  },
  {
   "cell_type": "code",
   "execution_count": 48,
   "metadata": {},
   "outputs": [
    {
     "data": {
      "text/html": [
       "\n",
       "<link rel=\"stylesheet\" type=\"text/css\" href=\"https://cdn.rawgit.com/bmabey/pyLDAvis/files/ldavis.v1.0.0.css\">\n",
       "\n",
       "\n",
       "<div id=\"ldavis_el4493622418037125769790553145\"></div>\n",
       "<script type=\"text/javascript\">\n",
       "\n",
       "var ldavis_el4493622418037125769790553145_data = {\"mdsDat\": {\"Freq\": [7.331232039309842, 6.036327329074284, 5.91508212125388, 5.006942678690769, 4.676393261669219, 4.5763105665816495, 4.502691194952516, 3.8729205049362863, 3.5362041044980037, 3.4672752171000916, 3.1555267452393614, 2.997810841363107, 2.968365710409191, 2.9466556238907047, 2.647424929074954, 2.553074752111407, 2.505792635036185, 2.087760448104552, 1.7650320399451362, 1.6073611260308394, 1.5700108015554253, 1.5505783801729804, 1.5155688100046094, 1.510449416327247, 1.3981696035617808, 1.3208018310968765, 1.2839536627212245, 1.279054913981069, 1.1954589926676216, 1.187047105557695, 1.0923514471481426, 1.08189510560673, 0.8445193463756823, 0.7255461919130962, 0.6073319839634923, 0.606513886276498, 0.6053452031561954, 0.5835926987018035, 0.5654285623365815, 0.5649329901871131, 0.5287598729682397, 0.5261146560769899, 0.5079752835592276, 0.5063027647124357, 0.4767281561307327, 0.46586044656378933, 0.46563690565362725, 0.43901644645251214, 0.4276947630725589, 0.4111759022260703], \"cluster\": [1, 1, 1, 1, 1, 1, 1, 1, 1, 1, 1, 1, 1, 1, 1, 1, 1, 1, 1, 1, 1, 1, 1, 1, 1, 1, 1, 1, 1, 1, 1, 1, 1, 1, 1, 1, 1, 1, 1, 1, 1, 1, 1, 1, 1, 1, 1, 1, 1, 1], \"topics\": [1, 2, 3, 4, 5, 6, 7, 8, 9, 10, 11, 12, 13, 14, 15, 16, 17, 18, 19, 20, 21, 22, 23, 24, 25, 26, 27, 28, 29, 30, 31, 32, 33, 34, 35, 36, 37, 38, 39, 40, 41, 42, 43, 44, 45, 46, 47, 48, 49, 50], \"x\": [0.22342235824782944, 0.2165426776835688, 0.23662800854637295, 0.23032565262729923, 0.17299644501606037, 0.1649680780193365, 0.16455503435842184, 0.12968436796971022, 0.16890694553175933, 0.19386930347829429, 0.1422038048986104, 0.13772256871570823, 0.20025594340544495, 0.16082007598886489, 0.018861980954627294, 0.16775575149053218, 0.17809546900045375, 0.1430307435114242, 0.034273508655736196, 0.09277155884975763, 0.09716088862945382, -0.0347213414481766, -0.00895219031012622, 0.05447823757377958, 0.04901270262991522, -0.038597571641532144, -0.0411914880170079, -0.03262673883559257, -0.007800577829077814, -0.03234665611938426, -0.09280294948045335, 0.0025250192051021083, -0.15747804828226122, -0.14250679198212876, -0.1605554837251714, -0.17617094899999924, -0.158501196889047, -0.16976976120325668, -0.18325724229064655, -0.1712801883808088, -0.1864039320564896, -0.13033193832138962, -0.1751127598417099, -0.1815563525831946, -0.18470168863604222, -0.18640427656866054, -0.1658426088878269, -0.18675994914843483, -0.18726851619782775, -0.18792592731181726], \"y\": [0.15448479815067165, -0.14811750251325906, 0.11674565762845959, 0.06787446340303097, 0.14092990826265636, 0.17234901970366692, 0.10248915717613467, 0.09596418872283445, 0.11167995978142903, 0.0826964487862101, 0.15078791484508008, 0.12150097003538918, -0.17188429453652865, -0.21547533298623195, 0.06401223314316011, -0.04619441263776621, 0.150417091112834, -0.1955851542599451, -0.2288011644223065, -0.2227080996121236, -0.15061068115713802, 0.11236315387887755, -0.09038554523964107, -0.08837215879079849, -0.1841733698805639, -0.16692432072102362, -0.039868736807095295, 0.014304639079580411, 0.0366837479501268, -0.20432828453847016, 0.09445034951924185, -0.049455030000986215, 0.047011610176393305, 0.06512205896918784, -0.03195913138991136, 0.017056368841633376, 0.03896827932590644, -0.03444063047985033, 0.027332452747030396, 0.00923527375516046, 0.024222695302993646, 0.05113985464005992, 0.03406214188709775, 0.017884053543414862, 0.02260104096941937, 0.02631646349186917, 0.015962915608693107, 0.028551135343914097, 0.027534476344366548, 0.02654932784711544]}, \"tinfo\": {\"Category\": [\"Default\", \"Default\", \"Default\", \"Default\", \"Default\", \"Default\", \"Default\", \"Default\", \"Default\", \"Default\", \"Default\", \"Default\", \"Default\", \"Default\", \"Default\", \"Default\", \"Default\", \"Default\", \"Default\", \"Default\", \"Default\", \"Default\", \"Default\", \"Default\", \"Default\", \"Default\", \"Default\", \"Default\", \"Default\", \"Default\", \"Topic1\", \"Topic1\", \"Topic1\", \"Topic1\", \"Topic1\", \"Topic1\", \"Topic1\", \"Topic1\", \"Topic1\", \"Topic1\", \"Topic1\", \"Topic1\", \"Topic1\", \"Topic1\", \"Topic1\", \"Topic1\", \"Topic1\", \"Topic1\", \"Topic1\", \"Topic1\", \"Topic1\", \"Topic1\", \"Topic1\", \"Topic1\", \"Topic1\", \"Topic1\", \"Topic1\", \"Topic1\", \"Topic1\", \"Topic1\", \"Topic1\", \"Topic1\", \"Topic1\", \"Topic1\", \"Topic1\", \"Topic1\", \"Topic1\", \"Topic1\", \"Topic1\", \"Topic1\", \"Topic1\", \"Topic1\", \"Topic1\", \"Topic1\", \"Topic1\", \"Topic1\", \"Topic1\", \"Topic1\", \"Topic1\", \"Topic1\", \"Topic1\", \"Topic1\", \"Topic1\", \"Topic1\", \"Topic1\", \"Topic1\", \"Topic1\", \"Topic1\", \"Topic1\", \"Topic1\", \"Topic1\", \"Topic1\", \"Topic1\", \"Topic1\", \"Topic1\", \"Topic1\", \"Topic1\", \"Topic1\", \"Topic1\", \"Topic1\", \"Topic1\", \"Topic1\", \"Topic1\", \"Topic1\", \"Topic2\", \"Topic2\", \"Topic2\", \"Topic2\", \"Topic2\", \"Topic2\", \"Topic2\", \"Topic2\", \"Topic2\", \"Topic2\", \"Topic2\", \"Topic2\", \"Topic2\", \"Topic2\", \"Topic2\", \"Topic2\", \"Topic2\", \"Topic2\", \"Topic2\", \"Topic2\", \"Topic2\", \"Topic2\", \"Topic2\", \"Topic2\", \"Topic2\", \"Topic2\", \"Topic2\", \"Topic2\", \"Topic2\", \"Topic2\", \"Topic2\", \"Topic2\", \"Topic2\", \"Topic2\", \"Topic2\", \"Topic2\", \"Topic2\", \"Topic2\", \"Topic2\", \"Topic2\", \"Topic2\", \"Topic2\", \"Topic2\", \"Topic2\", \"Topic2\", \"Topic2\", \"Topic2\", \"Topic2\", \"Topic2\", \"Topic2\", \"Topic2\", \"Topic2\", \"Topic2\", \"Topic2\", \"Topic2\", \"Topic2\", \"Topic2\", \"Topic2\", \"Topic2\", \"Topic2\", \"Topic2\", \"Topic2\", \"Topic2\", \"Topic2\", \"Topic2\", \"Topic2\", \"Topic2\", \"Topic2\", \"Topic2\", \"Topic2\", \"Topic2\", \"Topic2\", \"Topic2\", \"Topic2\", \"Topic2\", \"Topic2\", \"Topic2\", \"Topic2\", \"Topic3\", \"Topic3\", \"Topic3\", \"Topic3\", \"Topic3\", \"Topic3\", \"Topic3\", \"Topic3\", \"Topic3\", \"Topic3\", \"Topic3\", \"Topic3\", \"Topic3\", \"Topic3\", \"Topic3\", \"Topic3\", \"Topic3\", \"Topic3\", \"Topic3\", \"Topic3\", \"Topic3\", \"Topic3\", \"Topic3\", \"Topic3\", \"Topic3\", \"Topic3\", \"Topic3\", \"Topic3\", \"Topic3\", \"Topic3\", \"Topic3\", \"Topic3\", \"Topic3\", \"Topic3\", \"Topic3\", \"Topic3\", \"Topic3\", \"Topic3\", \"Topic3\", \"Topic3\", \"Topic3\", \"Topic3\", \"Topic3\", \"Topic3\", \"Topic3\", \"Topic3\", \"Topic3\", \"Topic3\", \"Topic3\", \"Topic3\", \"Topic3\", \"Topic3\", \"Topic3\", \"Topic3\", \"Topic3\", \"Topic3\", \"Topic3\", \"Topic3\", \"Topic3\", \"Topic3\", \"Topic3\", \"Topic3\", \"Topic3\", \"Topic3\", \"Topic3\", \"Topic3\", \"Topic3\", \"Topic3\", \"Topic3\", \"Topic3\", \"Topic3\", \"Topic3\", \"Topic3\", \"Topic3\", \"Topic3\", \"Topic3\", \"Topic4\", \"Topic4\", \"Topic4\", \"Topic4\", \"Topic4\", \"Topic4\", \"Topic4\", \"Topic4\", \"Topic4\", \"Topic4\", \"Topic4\", \"Topic4\", \"Topic4\", \"Topic4\", \"Topic4\", \"Topic4\", \"Topic4\", \"Topic4\", \"Topic4\", \"Topic4\", \"Topic4\", \"Topic4\", \"Topic4\", \"Topic4\", \"Topic4\", \"Topic4\", \"Topic4\", \"Topic4\", \"Topic4\", \"Topic4\", \"Topic4\", \"Topic4\", \"Topic4\", \"Topic4\", \"Topic4\", \"Topic4\", \"Topic4\", \"Topic4\", \"Topic4\", \"Topic4\", \"Topic4\", \"Topic4\", \"Topic4\", \"Topic4\", \"Topic4\", \"Topic4\", \"Topic4\", \"Topic4\", \"Topic4\", \"Topic4\", \"Topic4\", \"Topic4\", \"Topic4\", \"Topic4\", \"Topic4\", \"Topic4\", \"Topic4\", \"Topic4\", \"Topic4\", \"Topic4\", \"Topic4\", \"Topic4\", \"Topic4\", \"Topic4\", \"Topic4\", \"Topic4\", \"Topic4\", \"Topic4\", \"Topic4\", \"Topic4\", \"Topic4\", \"Topic5\", \"Topic5\", \"Topic5\", \"Topic5\", \"Topic5\", \"Topic5\", \"Topic5\", \"Topic5\", \"Topic5\", \"Topic5\", \"Topic5\", \"Topic5\", \"Topic5\", \"Topic5\", \"Topic5\", \"Topic5\", \"Topic5\", \"Topic5\", \"Topic5\", \"Topic5\", \"Topic5\", \"Topic5\", \"Topic5\", \"Topic5\", \"Topic5\", \"Topic5\", \"Topic5\", \"Topic5\", \"Topic5\", \"Topic5\", \"Topic5\", \"Topic5\", \"Topic5\", \"Topic5\", \"Topic5\", \"Topic5\", \"Topic5\", \"Topic5\", \"Topic5\", \"Topic5\", \"Topic5\", \"Topic5\", \"Topic5\", \"Topic5\", \"Topic5\", \"Topic5\", \"Topic5\", \"Topic5\", \"Topic5\", \"Topic5\", \"Topic5\", \"Topic5\", \"Topic5\", \"Topic5\", \"Topic5\", \"Topic5\", \"Topic5\", \"Topic5\", \"Topic5\", \"Topic5\", \"Topic5\", \"Topic5\", \"Topic5\", \"Topic5\", \"Topic5\", \"Topic5\", \"Topic5\", \"Topic5\", \"Topic5\", \"Topic5\", \"Topic5\", \"Topic5\", \"Topic5\", \"Topic5\", \"Topic5\", \"Topic5\", \"Topic5\", \"Topic5\", \"Topic5\", \"Topic5\", \"Topic5\", \"Topic5\", \"Topic6\", \"Topic6\", \"Topic6\", \"Topic6\", \"Topic6\", \"Topic6\", \"Topic6\", \"Topic6\", \"Topic6\", \"Topic6\", \"Topic6\", \"Topic6\", \"Topic6\", \"Topic6\", \"Topic6\", \"Topic6\", \"Topic6\", \"Topic6\", \"Topic6\", \"Topic6\", \"Topic6\", \"Topic6\", \"Topic6\", \"Topic6\", \"Topic6\", \"Topic6\", \"Topic6\", \"Topic6\", \"Topic6\", \"Topic6\", \"Topic6\", \"Topic6\", \"Topic6\", \"Topic6\", \"Topic6\", \"Topic6\", \"Topic6\", \"Topic6\", \"Topic6\", \"Topic6\", \"Topic6\", \"Topic6\", \"Topic6\", \"Topic6\", \"Topic6\", \"Topic6\", \"Topic6\", \"Topic6\", \"Topic6\", \"Topic6\", \"Topic6\", \"Topic6\", \"Topic6\", \"Topic6\", \"Topic6\", \"Topic6\", \"Topic6\", \"Topic6\", \"Topic6\", \"Topic6\", \"Topic6\", \"Topic6\", \"Topic6\", \"Topic6\", \"Topic6\", \"Topic6\", \"Topic6\", \"Topic6\", \"Topic6\", \"Topic7\", \"Topic7\", \"Topic7\", \"Topic7\", \"Topic7\", \"Topic7\", \"Topic7\", \"Topic7\", \"Topic7\", \"Topic7\", \"Topic7\", \"Topic7\", \"Topic7\", \"Topic7\", \"Topic7\", \"Topic7\", \"Topic7\", \"Topic7\", \"Topic7\", \"Topic7\", \"Topic7\", \"Topic7\", \"Topic7\", \"Topic7\", \"Topic7\", \"Topic7\", \"Topic7\", \"Topic7\", \"Topic7\", \"Topic7\", \"Topic7\", \"Topic7\", \"Topic7\", \"Topic7\", \"Topic7\", \"Topic7\", \"Topic7\", \"Topic7\", \"Topic7\", \"Topic7\", \"Topic7\", \"Topic7\", \"Topic7\", \"Topic7\", \"Topic7\", \"Topic7\", \"Topic7\", \"Topic7\", \"Topic7\", \"Topic7\", \"Topic7\", \"Topic7\", \"Topic7\", \"Topic7\", \"Topic7\", \"Topic7\", \"Topic7\", \"Topic7\", \"Topic7\", \"Topic7\", \"Topic7\", \"Topic7\", \"Topic7\", \"Topic7\", \"Topic7\", \"Topic7\", \"Topic7\", \"Topic7\", \"Topic7\", \"Topic7\", \"Topic7\", \"Topic8\", \"Topic8\", \"Topic8\", \"Topic8\", \"Topic8\", \"Topic8\", \"Topic8\", \"Topic8\", \"Topic8\", \"Topic8\", \"Topic8\", \"Topic8\", \"Topic8\", \"Topic8\", \"Topic8\", \"Topic8\", \"Topic8\", \"Topic8\", \"Topic8\", \"Topic8\", \"Topic8\", \"Topic8\", \"Topic8\", \"Topic8\", \"Topic8\", \"Topic8\", \"Topic8\", \"Topic8\", \"Topic8\", \"Topic8\", \"Topic8\", \"Topic8\", \"Topic8\", \"Topic8\", \"Topic8\", \"Topic8\", \"Topic8\", \"Topic8\", \"Topic8\", \"Topic8\", \"Topic8\", \"Topic8\", \"Topic8\", \"Topic8\", \"Topic8\", \"Topic8\", \"Topic8\", \"Topic8\", \"Topic8\", \"Topic8\", \"Topic8\", \"Topic8\", \"Topic8\", \"Topic8\", \"Topic8\", \"Topic8\", \"Topic8\", \"Topic8\", \"Topic8\", \"Topic8\", \"Topic8\", \"Topic8\", \"Topic8\", \"Topic8\", \"Topic8\", \"Topic8\", \"Topic8\", \"Topic8\", \"Topic8\", \"Topic8\", \"Topic8\", \"Topic8\", \"Topic8\", \"Topic9\", \"Topic9\", \"Topic9\", \"Topic9\", \"Topic9\", \"Topic9\", \"Topic9\", \"Topic9\", \"Topic9\", \"Topic9\", \"Topic9\", \"Topic9\", \"Topic9\", \"Topic9\", \"Topic9\", \"Topic9\", \"Topic9\", \"Topic9\", \"Topic9\", \"Topic9\", \"Topic9\", \"Topic9\", \"Topic9\", \"Topic9\", \"Topic9\", \"Topic9\", \"Topic9\", \"Topic9\", \"Topic9\", \"Topic9\", \"Topic9\", \"Topic9\", \"Topic9\", \"Topic9\", \"Topic9\", \"Topic9\", \"Topic9\", \"Topic9\", \"Topic9\", \"Topic9\", \"Topic9\", \"Topic9\", \"Topic9\", \"Topic9\", \"Topic9\", \"Topic9\", \"Topic9\", \"Topic9\", \"Topic9\", \"Topic9\", \"Topic9\", \"Topic9\", \"Topic9\", \"Topic9\", \"Topic9\", \"Topic9\", \"Topic9\", \"Topic9\", \"Topic9\", \"Topic9\", \"Topic9\", \"Topic9\", \"Topic9\", \"Topic9\", \"Topic9\", \"Topic9\", \"Topic9\", \"Topic9\", \"Topic9\", \"Topic9\", \"Topic9\", \"Topic10\", \"Topic10\", \"Topic10\", \"Topic10\", \"Topic10\", \"Topic10\", \"Topic10\", \"Topic10\", \"Topic10\", \"Topic10\", \"Topic10\", \"Topic10\", \"Topic10\", \"Topic10\", \"Topic10\", \"Topic10\", \"Topic10\", \"Topic10\", \"Topic10\", \"Topic10\", \"Topic10\", \"Topic10\", \"Topic10\", \"Topic10\", \"Topic10\", \"Topic10\", \"Topic10\", \"Topic10\", \"Topic10\", \"Topic10\", \"Topic10\", \"Topic10\", \"Topic10\", \"Topic10\", \"Topic10\", \"Topic10\", \"Topic10\", \"Topic10\", \"Topic10\", \"Topic10\", \"Topic10\", \"Topic10\", \"Topic10\", \"Topic10\", \"Topic10\", \"Topic10\", \"Topic10\", \"Topic10\", \"Topic10\", \"Topic10\", \"Topic10\", \"Topic10\", \"Topic10\", \"Topic10\", \"Topic10\", \"Topic10\", \"Topic10\", \"Topic10\", \"Topic10\", \"Topic10\", \"Topic10\", \"Topic10\", \"Topic10\", \"Topic10\", \"Topic10\", \"Topic10\", \"Topic10\", \"Topic10\", \"Topic10\", \"Topic10\", \"Topic10\", \"Topic10\", \"Topic11\", \"Topic11\", \"Topic11\", \"Topic11\", \"Topic11\", \"Topic11\", \"Topic11\", \"Topic11\", \"Topic11\", \"Topic11\", \"Topic11\", \"Topic11\", \"Topic11\", \"Topic11\", \"Topic11\", \"Topic11\", \"Topic11\", \"Topic11\", \"Topic11\", \"Topic11\", \"Topic11\", \"Topic11\", \"Topic11\", \"Topic11\", \"Topic11\", \"Topic11\", \"Topic11\", \"Topic11\", \"Topic11\", \"Topic11\", \"Topic11\", \"Topic11\", \"Topic11\", \"Topic11\", \"Topic11\", \"Topic11\", \"Topic11\", \"Topic11\", \"Topic11\", \"Topic11\", \"Topic11\", \"Topic11\", \"Topic11\", \"Topic11\", \"Topic11\", \"Topic11\", \"Topic11\", \"Topic11\", \"Topic11\", \"Topic11\", \"Topic11\", \"Topic11\", \"Topic11\", \"Topic11\", \"Topic11\", \"Topic11\", \"Topic11\", \"Topic11\", \"Topic11\", \"Topic11\", \"Topic11\", \"Topic11\", \"Topic11\", \"Topic11\", \"Topic11\", \"Topic11\", \"Topic11\", \"Topic11\", \"Topic11\", \"Topic11\", \"Topic11\", \"Topic11\", \"Topic11\", \"Topic11\", \"Topic11\", \"Topic11\", \"Topic12\", \"Topic12\", \"Topic12\", \"Topic12\", \"Topic12\", \"Topic12\", \"Topic12\", \"Topic12\", \"Topic12\", \"Topic12\", \"Topic12\", \"Topic12\", \"Topic12\", \"Topic12\", \"Topic12\", \"Topic12\", \"Topic12\", \"Topic12\", \"Topic12\", \"Topic12\", \"Topic12\", \"Topic12\", \"Topic12\", \"Topic12\", \"Topic12\", \"Topic12\", \"Topic12\", \"Topic12\", \"Topic12\", \"Topic12\", \"Topic12\", \"Topic12\", \"Topic12\", \"Topic12\", \"Topic12\", \"Topic12\", \"Topic12\", \"Topic12\", \"Topic12\", \"Topic12\", \"Topic12\", \"Topic12\", \"Topic12\", \"Topic12\", \"Topic12\", \"Topic12\", \"Topic12\", \"Topic12\", \"Topic12\", \"Topic12\", \"Topic12\", \"Topic12\", \"Topic12\", \"Topic12\", \"Topic12\", \"Topic12\", \"Topic12\", \"Topic12\", \"Topic12\", \"Topic12\", \"Topic12\", \"Topic12\", \"Topic12\", \"Topic12\", \"Topic12\", \"Topic12\", \"Topic12\", \"Topic13\", \"Topic13\", \"Topic13\", \"Topic13\", \"Topic13\", \"Topic13\", \"Topic13\", \"Topic13\", \"Topic13\", \"Topic13\", \"Topic13\", \"Topic13\", \"Topic13\", \"Topic13\", \"Topic13\", \"Topic13\", \"Topic13\", \"Topic13\", \"Topic13\", \"Topic13\", \"Topic13\", \"Topic13\", \"Topic13\", \"Topic13\", \"Topic13\", \"Topic13\", \"Topic13\", \"Topic13\", \"Topic13\", \"Topic13\", \"Topic13\", \"Topic13\", \"Topic13\", \"Topic13\", \"Topic13\", \"Topic13\", \"Topic13\", \"Topic13\", \"Topic13\", \"Topic13\", \"Topic13\", \"Topic13\", \"Topic13\", \"Topic13\", \"Topic13\", \"Topic13\", \"Topic13\", \"Topic13\", \"Topic13\", \"Topic13\", \"Topic13\", \"Topic13\", \"Topic13\", \"Topic13\", \"Topic13\", \"Topic13\", \"Topic13\", \"Topic13\", \"Topic13\", \"Topic13\", \"Topic13\", \"Topic13\", \"Topic13\", \"Topic13\", \"Topic14\", \"Topic14\", \"Topic14\", \"Topic14\", \"Topic14\", \"Topic14\", \"Topic14\", \"Topic14\", \"Topic14\", \"Topic14\", \"Topic14\", \"Topic14\", \"Topic14\", \"Topic14\", \"Topic14\", \"Topic14\", \"Topic14\", \"Topic14\", \"Topic14\", \"Topic14\", \"Topic14\", \"Topic14\", \"Topic14\", \"Topic14\", \"Topic14\", \"Topic14\", \"Topic14\", \"Topic14\", \"Topic14\", \"Topic14\", \"Topic14\", \"Topic14\", \"Topic14\", \"Topic14\", \"Topic14\", \"Topic14\", \"Topic14\", \"Topic14\", \"Topic14\", \"Topic14\", \"Topic14\", \"Topic14\", \"Topic14\", \"Topic14\", \"Topic14\", \"Topic14\", \"Topic14\", \"Topic14\", \"Topic14\", \"Topic14\", \"Topic14\", \"Topic14\", \"Topic14\", \"Topic14\", \"Topic14\", \"Topic14\", \"Topic14\", \"Topic14\", \"Topic14\", \"Topic14\", \"Topic14\", \"Topic14\", \"Topic14\", \"Topic14\", \"Topic15\", \"Topic15\", \"Topic15\", \"Topic15\", \"Topic15\", \"Topic15\", \"Topic15\", \"Topic15\", \"Topic15\", \"Topic15\", \"Topic15\", \"Topic15\", \"Topic15\", \"Topic15\", \"Topic15\", \"Topic15\", \"Topic15\", \"Topic15\", \"Topic15\", \"Topic15\", \"Topic15\", \"Topic15\", \"Topic15\", \"Topic15\", \"Topic15\", \"Topic15\", \"Topic15\", \"Topic15\", \"Topic15\", \"Topic15\", \"Topic15\", \"Topic15\", \"Topic15\", \"Topic15\", \"Topic15\", \"Topic15\", \"Topic15\", \"Topic15\", \"Topic15\", \"Topic15\", \"Topic15\", \"Topic15\", \"Topic15\", \"Topic15\", \"Topic15\", \"Topic15\", \"Topic15\", \"Topic15\", \"Topic15\", \"Topic15\", \"Topic15\", \"Topic15\", \"Topic15\", \"Topic15\", \"Topic15\", \"Topic15\", \"Topic15\", \"Topic15\", \"Topic15\", \"Topic15\", \"Topic15\", \"Topic15\", \"Topic15\", \"Topic15\", \"Topic15\", \"Topic15\", \"Topic16\", \"Topic16\", \"Topic16\", \"Topic16\", \"Topic16\", \"Topic16\", \"Topic16\", \"Topic16\", \"Topic16\", \"Topic16\", \"Topic16\", \"Topic16\", \"Topic16\", \"Topic16\", \"Topic16\", \"Topic16\", \"Topic16\", \"Topic16\", \"Topic16\", \"Topic16\", \"Topic16\", \"Topic16\", \"Topic16\", \"Topic16\", \"Topic16\", \"Topic16\", \"Topic16\", \"Topic16\", \"Topic16\", \"Topic16\", \"Topic16\", \"Topic16\", \"Topic16\", \"Topic16\", \"Topic16\", \"Topic16\", \"Topic16\", \"Topic16\", \"Topic16\", \"Topic16\", \"Topic16\", \"Topic16\", \"Topic16\", \"Topic16\", \"Topic16\", \"Topic16\", \"Topic16\", \"Topic16\", \"Topic16\", \"Topic16\", \"Topic16\", \"Topic16\", \"Topic16\", \"Topic16\", \"Topic16\", \"Topic16\", \"Topic16\", \"Topic16\", \"Topic16\", \"Topic16\", \"Topic16\", \"Topic16\", \"Topic16\", \"Topic16\", \"Topic16\", \"Topic16\", \"Topic16\", \"Topic16\", \"Topic16\", \"Topic16\", \"Topic17\", \"Topic17\", \"Topic17\", \"Topic17\", \"Topic17\", \"Topic17\", \"Topic17\", \"Topic17\", \"Topic17\", \"Topic17\", \"Topic17\", \"Topic17\", \"Topic17\", \"Topic17\", \"Topic17\", \"Topic17\", \"Topic17\", \"Topic17\", \"Topic17\", \"Topic17\", \"Topic17\", \"Topic17\", \"Topic17\", \"Topic17\", \"Topic17\", \"Topic17\", \"Topic17\", \"Topic17\", \"Topic17\", \"Topic17\", \"Topic17\", \"Topic17\", \"Topic17\", \"Topic17\", \"Topic17\", \"Topic17\", \"Topic17\", \"Topic17\", \"Topic17\", \"Topic17\", \"Topic17\", \"Topic17\", \"Topic17\", \"Topic17\", \"Topic17\", \"Topic17\", \"Topic17\", \"Topic17\", \"Topic17\", \"Topic17\", \"Topic17\", \"Topic17\", \"Topic17\", \"Topic17\", \"Topic17\", \"Topic17\", \"Topic17\", \"Topic17\", \"Topic17\", \"Topic17\", \"Topic17\", \"Topic17\", \"Topic17\", \"Topic17\", \"Topic17\", \"Topic17\", \"Topic17\", \"Topic17\", \"Topic17\", \"Topic17\", \"Topic18\", \"Topic18\", \"Topic18\", \"Topic18\", \"Topic18\", \"Topic18\", \"Topic18\", \"Topic18\", \"Topic18\", \"Topic18\", \"Topic18\", \"Topic18\", \"Topic18\", \"Topic18\", \"Topic18\", \"Topic18\", \"Topic18\", \"Topic18\", \"Topic18\", \"Topic18\", \"Topic18\", \"Topic18\", \"Topic18\", \"Topic18\", \"Topic18\", \"Topic18\", \"Topic18\", \"Topic18\", \"Topic18\", \"Topic18\", \"Topic18\", \"Topic18\", \"Topic18\", \"Topic18\", \"Topic18\", \"Topic18\", \"Topic18\", \"Topic18\", \"Topic18\", \"Topic18\", \"Topic18\", \"Topic18\", \"Topic18\", \"Topic18\", \"Topic18\", \"Topic18\", \"Topic18\", \"Topic18\", \"Topic18\", \"Topic18\", \"Topic18\", \"Topic18\", \"Topic18\", \"Topic18\", \"Topic18\", \"Topic18\", \"Topic18\", \"Topic18\", \"Topic19\", \"Topic19\", \"Topic19\", \"Topic19\", \"Topic19\", \"Topic19\", \"Topic19\", \"Topic19\", \"Topic19\", \"Topic19\", \"Topic19\", \"Topic19\", \"Topic19\", \"Topic19\", \"Topic19\", \"Topic19\", \"Topic19\", \"Topic19\", \"Topic19\", \"Topic19\", \"Topic19\", \"Topic19\", \"Topic19\", \"Topic19\", \"Topic19\", \"Topic19\", \"Topic19\", \"Topic19\", \"Topic19\", \"Topic19\", \"Topic19\", \"Topic19\", \"Topic19\", \"Topic19\", \"Topic19\", \"Topic19\", \"Topic19\", \"Topic19\", \"Topic19\", \"Topic19\", \"Topic19\", \"Topic19\", \"Topic19\", \"Topic19\", \"Topic19\", \"Topic19\", \"Topic19\", \"Topic19\", \"Topic19\", \"Topic19\", \"Topic19\", \"Topic19\", \"Topic19\", \"Topic19\", \"Topic19\", \"Topic19\", \"Topic19\", \"Topic19\", \"Topic19\", \"Topic19\", \"Topic19\", \"Topic20\", \"Topic20\", \"Topic20\", \"Topic20\", \"Topic20\", \"Topic20\", \"Topic20\", \"Topic20\", \"Topic20\", \"Topic20\", \"Topic20\", \"Topic20\", \"Topic20\", \"Topic20\", \"Topic20\", \"Topic20\", \"Topic20\", \"Topic20\", \"Topic20\", \"Topic20\", \"Topic20\", \"Topic20\", \"Topic20\", \"Topic20\", \"Topic20\", \"Topic20\", \"Topic20\", \"Topic20\", \"Topic20\", \"Topic20\", \"Topic20\", \"Topic20\", \"Topic20\", \"Topic20\", \"Topic20\", \"Topic20\", \"Topic20\", \"Topic20\", \"Topic20\", \"Topic20\", \"Topic20\", \"Topic20\", \"Topic20\", \"Topic20\", \"Topic20\", \"Topic20\", \"Topic20\", \"Topic20\", \"Topic20\", \"Topic20\", \"Topic20\", \"Topic20\", \"Topic21\", \"Topic21\", \"Topic21\", \"Topic21\", \"Topic21\", \"Topic21\", \"Topic21\", \"Topic21\", \"Topic21\", \"Topic21\", \"Topic21\", \"Topic21\", \"Topic21\", \"Topic21\", \"Topic21\", \"Topic21\", \"Topic21\", \"Topic21\", \"Topic21\", \"Topic21\", \"Topic21\", \"Topic21\", \"Topic21\", \"Topic21\", \"Topic21\", \"Topic21\", \"Topic21\", \"Topic21\", \"Topic21\", \"Topic21\", \"Topic21\", \"Topic21\", \"Topic21\", \"Topic21\", \"Topic21\", \"Topic21\", \"Topic21\", \"Topic21\", \"Topic21\", \"Topic21\", \"Topic21\", \"Topic21\", \"Topic21\", \"Topic21\", \"Topic21\", \"Topic21\", \"Topic21\", \"Topic21\", \"Topic21\", \"Topic21\", \"Topic21\", \"Topic22\", \"Topic22\", \"Topic22\", \"Topic22\", \"Topic22\", \"Topic22\", \"Topic22\", \"Topic22\", \"Topic22\", \"Topic22\", \"Topic22\", \"Topic22\", \"Topic22\", \"Topic22\", \"Topic22\", \"Topic22\", \"Topic22\", \"Topic22\", \"Topic22\", \"Topic22\", \"Topic22\", \"Topic22\", \"Topic22\", \"Topic22\", \"Topic22\", \"Topic22\", \"Topic22\", \"Topic22\", \"Topic22\", \"Topic22\", \"Topic22\", \"Topic22\", \"Topic22\", \"Topic22\", \"Topic22\", \"Topic22\", \"Topic22\", \"Topic22\", \"Topic22\", \"Topic22\", \"Topic22\", \"Topic22\", \"Topic22\", \"Topic22\", \"Topic22\", \"Topic22\", \"Topic22\", \"Topic22\", \"Topic22\", \"Topic22\", \"Topic22\", \"Topic22\", \"Topic22\", \"Topic22\", \"Topic22\", \"Topic22\", \"Topic22\", \"Topic23\", \"Topic23\", \"Topic23\", \"Topic23\", \"Topic23\", \"Topic23\", \"Topic23\", \"Topic23\", \"Topic23\", \"Topic23\", \"Topic23\", \"Topic23\", \"Topic23\", \"Topic23\", \"Topic23\", \"Topic23\", \"Topic23\", \"Topic23\", \"Topic23\", \"Topic23\", \"Topic23\", \"Topic23\", \"Topic23\", \"Topic23\", \"Topic23\", \"Topic23\", \"Topic23\", \"Topic23\", \"Topic23\", \"Topic23\", \"Topic23\", \"Topic23\", \"Topic23\", \"Topic23\", \"Topic23\", \"Topic23\", \"Topic23\", \"Topic23\", \"Topic23\", \"Topic23\", \"Topic23\", \"Topic23\", \"Topic23\", \"Topic23\", \"Topic23\", \"Topic23\", \"Topic23\", \"Topic23\", \"Topic23\", \"Topic23\", \"Topic23\", \"Topic23\", \"Topic23\", \"Topic23\", \"Topic23\", \"Topic23\", \"Topic23\", \"Topic23\", \"Topic23\", \"Topic23\", \"Topic23\", \"Topic24\", \"Topic24\", \"Topic24\", \"Topic24\", \"Topic24\", \"Topic24\", \"Topic24\", \"Topic24\", \"Topic24\", \"Topic24\", \"Topic24\", \"Topic24\", \"Topic24\", \"Topic24\", \"Topic24\", \"Topic24\", \"Topic24\", \"Topic24\", \"Topic24\", \"Topic24\", \"Topic24\", \"Topic24\", \"Topic24\", \"Topic24\", \"Topic24\", \"Topic24\", \"Topic24\", \"Topic24\", \"Topic24\", \"Topic24\", \"Topic24\", \"Topic24\", \"Topic24\", \"Topic24\", \"Topic24\", \"Topic24\", \"Topic24\", \"Topic24\", \"Topic24\", \"Topic24\", \"Topic24\", \"Topic24\", \"Topic24\", \"Topic24\", \"Topic24\", \"Topic24\", \"Topic24\", \"Topic24\", \"Topic24\", \"Topic24\", \"Topic24\", \"Topic24\", \"Topic24\", \"Topic24\", \"Topic25\", \"Topic25\", \"Topic25\", \"Topic25\", \"Topic25\", \"Topic25\", \"Topic25\", \"Topic25\", \"Topic25\", \"Topic25\", \"Topic25\", \"Topic25\", \"Topic25\", \"Topic25\", \"Topic25\", \"Topic25\", \"Topic25\", \"Topic25\", \"Topic25\", \"Topic25\", \"Topic25\", \"Topic25\", \"Topic25\", \"Topic25\", \"Topic25\", \"Topic25\", \"Topic25\", \"Topic25\", \"Topic25\", \"Topic25\", \"Topic25\", \"Topic25\", \"Topic25\", \"Topic25\", \"Topic25\", \"Topic25\", \"Topic25\", \"Topic25\", \"Topic25\", \"Topic25\", \"Topic25\", \"Topic25\", \"Topic25\", \"Topic25\", \"Topic25\", \"Topic25\", \"Topic25\", \"Topic25\", \"Topic25\", \"Topic25\", \"Topic25\", \"Topic25\", \"Topic25\", \"Topic25\", \"Topic26\", \"Topic26\", \"Topic26\", \"Topic26\", \"Topic26\", \"Topic26\", \"Topic26\", \"Topic26\", \"Topic26\", \"Topic26\", \"Topic26\", \"Topic26\", \"Topic26\", \"Topic26\", \"Topic26\", \"Topic26\", \"Topic26\", \"Topic26\", \"Topic26\", \"Topic26\", \"Topic26\", \"Topic26\", \"Topic26\", \"Topic26\", \"Topic26\", \"Topic26\", \"Topic26\", \"Topic26\", \"Topic26\", \"Topic26\", \"Topic26\", \"Topic26\", \"Topic26\", \"Topic26\", \"Topic26\", \"Topic26\", \"Topic26\", \"Topic26\", \"Topic26\", \"Topic26\", \"Topic26\", \"Topic26\", \"Topic26\", \"Topic26\", \"Topic26\", \"Topic26\", \"Topic26\", \"Topic26\", \"Topic26\", \"Topic26\", \"Topic26\", \"Topic26\", \"Topic26\", \"Topic26\", \"Topic26\", \"Topic26\", \"Topic26\", \"Topic27\", \"Topic27\", \"Topic27\", \"Topic27\", \"Topic27\", \"Topic27\", \"Topic27\", \"Topic27\", \"Topic27\", \"Topic27\", \"Topic27\", \"Topic27\", \"Topic27\", \"Topic27\", \"Topic27\", \"Topic27\", \"Topic27\", \"Topic27\", \"Topic27\", \"Topic27\", \"Topic27\", \"Topic27\", \"Topic27\", \"Topic27\", \"Topic27\", \"Topic27\", \"Topic27\", \"Topic27\", \"Topic27\", \"Topic27\", \"Topic27\", \"Topic27\", \"Topic27\", \"Topic27\", \"Topic27\", \"Topic27\", \"Topic27\", \"Topic27\", \"Topic27\", \"Topic27\", \"Topic27\", \"Topic27\", \"Topic27\", \"Topic27\", \"Topic27\", \"Topic27\", \"Topic27\", \"Topic27\", \"Topic27\", \"Topic27\", \"Topic27\", \"Topic27\", \"Topic27\", \"Topic27\", \"Topic27\", \"Topic27\", \"Topic27\", \"Topic27\", \"Topic28\", \"Topic28\", \"Topic28\", \"Topic28\", \"Topic28\", \"Topic28\", \"Topic28\", \"Topic28\", \"Topic28\", \"Topic28\", \"Topic28\", \"Topic28\", \"Topic28\", \"Topic28\", \"Topic28\", \"Topic28\", \"Topic28\", \"Topic28\", \"Topic28\", \"Topic28\", \"Topic28\", \"Topic28\", \"Topic28\", \"Topic28\", \"Topic28\", \"Topic28\", \"Topic28\", \"Topic28\", \"Topic28\", \"Topic28\", \"Topic28\", \"Topic28\", \"Topic28\", \"Topic28\", \"Topic28\", \"Topic28\", \"Topic28\", \"Topic28\", \"Topic28\", \"Topic28\", \"Topic28\", \"Topic28\", \"Topic28\", \"Topic28\", \"Topic28\", \"Topic28\", \"Topic28\", \"Topic28\", \"Topic28\", \"Topic28\", \"Topic28\", \"Topic28\", \"Topic28\", \"Topic28\", \"Topic28\", \"Topic28\", \"Topic28\", \"Topic28\", \"Topic29\", \"Topic29\", \"Topic29\", \"Topic29\", \"Topic29\", \"Topic29\", \"Topic29\", \"Topic29\", \"Topic29\", \"Topic29\", \"Topic29\", \"Topic29\", \"Topic29\", \"Topic29\", \"Topic29\", \"Topic29\", \"Topic29\", \"Topic29\", \"Topic29\", \"Topic29\", \"Topic29\", \"Topic29\", \"Topic29\", \"Topic29\", \"Topic29\", \"Topic29\", \"Topic29\", \"Topic29\", \"Topic29\", \"Topic29\", \"Topic29\", \"Topic29\", \"Topic29\", \"Topic29\", \"Topic29\", \"Topic29\", \"Topic29\", \"Topic29\", \"Topic29\", \"Topic29\", \"Topic29\", \"Topic29\", \"Topic29\", \"Topic29\", \"Topic29\", \"Topic29\", \"Topic29\", \"Topic29\", \"Topic29\", \"Topic29\", \"Topic29\", \"Topic29\", \"Topic29\", \"Topic30\", \"Topic30\", \"Topic30\", \"Topic30\", \"Topic30\", \"Topic30\", \"Topic30\", \"Topic30\", \"Topic30\", \"Topic30\", \"Topic30\", \"Topic30\", \"Topic30\", \"Topic30\", \"Topic30\", \"Topic30\", \"Topic30\", \"Topic30\", \"Topic30\", \"Topic30\", \"Topic30\", \"Topic30\", \"Topic30\", \"Topic30\", \"Topic30\", \"Topic30\", \"Topic30\", \"Topic30\", \"Topic30\", \"Topic30\", \"Topic30\", \"Topic30\", \"Topic30\", \"Topic30\", \"Topic30\", \"Topic30\", \"Topic30\", \"Topic30\", \"Topic30\", \"Topic30\", \"Topic30\", \"Topic30\", \"Topic30\", \"Topic30\", \"Topic30\", \"Topic30\", \"Topic30\", \"Topic30\", \"Topic30\", \"Topic30\", \"Topic30\", \"Topic30\", \"Topic30\", \"Topic30\", \"Topic30\", \"Topic31\", \"Topic31\", \"Topic31\", \"Topic31\", \"Topic31\", \"Topic31\", \"Topic31\", \"Topic31\", \"Topic31\", \"Topic31\", \"Topic31\", \"Topic31\", \"Topic31\", \"Topic31\", \"Topic31\", \"Topic31\", \"Topic31\", \"Topic31\", \"Topic31\", \"Topic31\", \"Topic31\", \"Topic31\", \"Topic31\", \"Topic31\", \"Topic31\", \"Topic31\", \"Topic31\", \"Topic31\", \"Topic31\", \"Topic31\", \"Topic31\", \"Topic31\", \"Topic31\", \"Topic31\", \"Topic31\", \"Topic31\", \"Topic31\", \"Topic31\", \"Topic31\", \"Topic31\", \"Topic31\", \"Topic31\", \"Topic31\", \"Topic31\", \"Topic31\", \"Topic31\", \"Topic31\", \"Topic31\", \"Topic31\", \"Topic31\", \"Topic31\", \"Topic31\", \"Topic31\", \"Topic31\", \"Topic31\", \"Topic32\", \"Topic32\", \"Topic32\", \"Topic32\", \"Topic32\", \"Topic32\", \"Topic32\", \"Topic32\", \"Topic32\", \"Topic32\", \"Topic32\", \"Topic32\", \"Topic32\", \"Topic32\", \"Topic32\", \"Topic32\", \"Topic32\", \"Topic32\", \"Topic32\", \"Topic32\", \"Topic32\", \"Topic32\", \"Topic32\", \"Topic32\", \"Topic32\", \"Topic32\", \"Topic32\", \"Topic32\", \"Topic32\", \"Topic32\", \"Topic32\", \"Topic32\", \"Topic32\", \"Topic32\", \"Topic32\", \"Topic32\", \"Topic32\", \"Topic32\", \"Topic32\", \"Topic32\", \"Topic32\", \"Topic32\", \"Topic32\", \"Topic32\", \"Topic32\", \"Topic32\", \"Topic32\", \"Topic32\", \"Topic32\", \"Topic32\", \"Topic32\", \"Topic32\", \"Topic32\", \"Topic32\", \"Topic32\", \"Topic32\", \"Topic32\", \"Topic32\", \"Topic32\", \"Topic32\", \"Topic32\", \"Topic33\", \"Topic33\", \"Topic33\", \"Topic33\", \"Topic33\", \"Topic33\", \"Topic33\", \"Topic33\", \"Topic33\", \"Topic33\", \"Topic33\", \"Topic33\", \"Topic33\", \"Topic33\", \"Topic33\", \"Topic33\", \"Topic33\", \"Topic33\", \"Topic33\", \"Topic33\", \"Topic33\", \"Topic33\", \"Topic33\", \"Topic33\", \"Topic33\", \"Topic33\", \"Topic33\", \"Topic33\", \"Topic33\", \"Topic33\", \"Topic33\", \"Topic33\", \"Topic33\", \"Topic33\", \"Topic33\", \"Topic33\", \"Topic33\", \"Topic34\", \"Topic34\", \"Topic34\", \"Topic34\", \"Topic34\", \"Topic34\", \"Topic34\", \"Topic34\", \"Topic34\", \"Topic34\", \"Topic34\", \"Topic34\", \"Topic34\", \"Topic34\", \"Topic34\", \"Topic34\", \"Topic34\", \"Topic34\", \"Topic34\", \"Topic34\", \"Topic34\", \"Topic34\", \"Topic34\", \"Topic34\", \"Topic34\", \"Topic34\", \"Topic34\", \"Topic34\", \"Topic34\", \"Topic34\", \"Topic34\", \"Topic34\", \"Topic34\", \"Topic34\", \"Topic34\", \"Topic34\", \"Topic34\", \"Topic34\", \"Topic34\", \"Topic34\", \"Topic34\", \"Topic34\", \"Topic34\", \"Topic34\", \"Topic34\", \"Topic34\", \"Topic34\", \"Topic34\", \"Topic34\", \"Topic35\", \"Topic35\", \"Topic35\", \"Topic35\", \"Topic35\", \"Topic35\", \"Topic35\", \"Topic35\", \"Topic35\", \"Topic35\", \"Topic35\", \"Topic35\", \"Topic35\", \"Topic35\", \"Topic35\", \"Topic35\", \"Topic35\", \"Topic35\", \"Topic35\", \"Topic35\", \"Topic35\", \"Topic35\", \"Topic35\", \"Topic35\", \"Topic35\", \"Topic35\", \"Topic35\", \"Topic35\", \"Topic35\", \"Topic35\", \"Topic35\", \"Topic35\", \"Topic35\", \"Topic35\", \"Topic35\", \"Topic35\", \"Topic35\", \"Topic35\", \"Topic35\", \"Topic35\", \"Topic35\", \"Topic35\", \"Topic35\", \"Topic35\", \"Topic35\", \"Topic35\", \"Topic35\", \"Topic36\", \"Topic36\", \"Topic36\", \"Topic36\", \"Topic36\", \"Topic36\", \"Topic36\", \"Topic36\", \"Topic36\", \"Topic36\", \"Topic36\", \"Topic36\", \"Topic36\", \"Topic36\", \"Topic36\", \"Topic36\", \"Topic36\", \"Topic36\", \"Topic36\", \"Topic36\", \"Topic36\", \"Topic36\", \"Topic36\", \"Topic36\", \"Topic36\", \"Topic36\", \"Topic36\", \"Topic36\", \"Topic36\", \"Topic36\", \"Topic36\", \"Topic36\", \"Topic36\", \"Topic36\", \"Topic36\", \"Topic36\", \"Topic36\", \"Topic36\", \"Topic37\", \"Topic37\", \"Topic37\", \"Topic37\", \"Topic37\", \"Topic37\", \"Topic37\", \"Topic37\", \"Topic37\", \"Topic37\", \"Topic37\", \"Topic37\", \"Topic37\", \"Topic37\", \"Topic37\", \"Topic37\", \"Topic37\", \"Topic37\", \"Topic37\", \"Topic37\", \"Topic37\", \"Topic37\", \"Topic37\", \"Topic37\", \"Topic37\", \"Topic37\", \"Topic37\", \"Topic37\", \"Topic37\", \"Topic37\", \"Topic37\", \"Topic37\", \"Topic37\", \"Topic37\", \"Topic37\", \"Topic37\", \"Topic37\", \"Topic37\", \"Topic37\", \"Topic37\", \"Topic38\", \"Topic38\", \"Topic38\", \"Topic38\", \"Topic38\", \"Topic38\", \"Topic38\", \"Topic38\", \"Topic38\", \"Topic38\", \"Topic38\", \"Topic38\", \"Topic38\", \"Topic38\", \"Topic38\", \"Topic38\", \"Topic38\", \"Topic38\", \"Topic38\", \"Topic38\", \"Topic38\", \"Topic38\", \"Topic38\", \"Topic38\", \"Topic38\", \"Topic38\", \"Topic38\", \"Topic38\", \"Topic38\", \"Topic38\", \"Topic38\", \"Topic38\", \"Topic38\", \"Topic38\", \"Topic38\", \"Topic38\", \"Topic38\", \"Topic38\", \"Topic38\", \"Topic39\", \"Topic39\", \"Topic39\", \"Topic39\", \"Topic39\", \"Topic39\", \"Topic39\", \"Topic39\", \"Topic39\", \"Topic39\", \"Topic39\", \"Topic39\", \"Topic39\", \"Topic39\", \"Topic39\", \"Topic39\", \"Topic39\", \"Topic39\", \"Topic39\", \"Topic39\", \"Topic39\", \"Topic39\", \"Topic39\", \"Topic39\", \"Topic39\", \"Topic39\", \"Topic39\", \"Topic39\", \"Topic39\", \"Topic39\", \"Topic39\", \"Topic39\", \"Topic39\", \"Topic39\", \"Topic39\", \"Topic39\", \"Topic40\", \"Topic40\", \"Topic40\", \"Topic40\", \"Topic40\", \"Topic40\", \"Topic40\", \"Topic40\", \"Topic40\", \"Topic40\", \"Topic40\", \"Topic40\", \"Topic40\", \"Topic40\", \"Topic40\", \"Topic40\", \"Topic40\", \"Topic40\", \"Topic40\", \"Topic40\", \"Topic40\", \"Topic40\", \"Topic40\", \"Topic40\", \"Topic40\", \"Topic40\", \"Topic40\", \"Topic40\", \"Topic40\", \"Topic40\", \"Topic40\", \"Topic40\", \"Topic40\", \"Topic40\", \"Topic40\", \"Topic40\", \"Topic40\", \"Topic40\", \"Topic41\", \"Topic41\", \"Topic41\", \"Topic41\", \"Topic41\", \"Topic41\", \"Topic41\", \"Topic41\", \"Topic41\", \"Topic41\", \"Topic41\", \"Topic41\", \"Topic41\", \"Topic41\", \"Topic41\", \"Topic41\", \"Topic41\", \"Topic41\", \"Topic41\", \"Topic41\", \"Topic41\", \"Topic41\", \"Topic41\", \"Topic41\", \"Topic41\", \"Topic41\", \"Topic41\", \"Topic41\", \"Topic41\", \"Topic41\", \"Topic41\", \"Topic41\", \"Topic41\", \"Topic41\", \"Topic42\", \"Topic42\", \"Topic42\", \"Topic42\", \"Topic42\", \"Topic42\", \"Topic42\", \"Topic42\", \"Topic42\", \"Topic42\", \"Topic42\", \"Topic42\", \"Topic42\", \"Topic42\", \"Topic42\", \"Topic42\", \"Topic42\", \"Topic42\", \"Topic42\", \"Topic42\", \"Topic42\", \"Topic42\", \"Topic42\", \"Topic42\", \"Topic42\", \"Topic42\", \"Topic42\", \"Topic42\", \"Topic42\", \"Topic42\", \"Topic42\", \"Topic42\", \"Topic42\", \"Topic42\", \"Topic42\", \"Topic42\", \"Topic42\", \"Topic42\", \"Topic42\", \"Topic42\", \"Topic42\", \"Topic42\", \"Topic43\", \"Topic43\", \"Topic43\", \"Topic43\", \"Topic43\", \"Topic43\", \"Topic43\", \"Topic43\", \"Topic43\", \"Topic43\", \"Topic43\", \"Topic43\", \"Topic43\", \"Topic43\", \"Topic43\", \"Topic43\", \"Topic43\", \"Topic43\", \"Topic43\", \"Topic43\", \"Topic43\", \"Topic43\", \"Topic43\", \"Topic43\", \"Topic43\", \"Topic43\", \"Topic43\", \"Topic43\", \"Topic43\", \"Topic43\", \"Topic43\", \"Topic43\", \"Topic43\", \"Topic43\", \"Topic43\", \"Topic43\", \"Topic43\", \"Topic43\", \"Topic43\", \"Topic43\", \"Topic44\", \"Topic44\", \"Topic44\", \"Topic44\", \"Topic44\", \"Topic44\", \"Topic44\", \"Topic44\", \"Topic44\", \"Topic44\", \"Topic44\", \"Topic44\", \"Topic44\", \"Topic44\", \"Topic44\", \"Topic44\", \"Topic44\", \"Topic44\", \"Topic44\", \"Topic44\", \"Topic44\", \"Topic44\", \"Topic44\", \"Topic44\", \"Topic44\", \"Topic44\", \"Topic44\", \"Topic44\", \"Topic44\", \"Topic44\", \"Topic44\", \"Topic44\", \"Topic44\", \"Topic44\", \"Topic44\", \"Topic44\", \"Topic44\", \"Topic44\", \"Topic45\", \"Topic45\", \"Topic45\", \"Topic45\", \"Topic45\", \"Topic45\", \"Topic45\", \"Topic45\", \"Topic45\", \"Topic45\", \"Topic45\", \"Topic45\", \"Topic45\", \"Topic45\", \"Topic45\", \"Topic45\", \"Topic45\", \"Topic45\", \"Topic45\", \"Topic45\", \"Topic45\", \"Topic45\", \"Topic45\", \"Topic45\", \"Topic45\", \"Topic45\", \"Topic45\", \"Topic45\", \"Topic45\", \"Topic45\", \"Topic45\", \"Topic45\", \"Topic45\", \"Topic45\", \"Topic46\", \"Topic46\", \"Topic46\", \"Topic46\", \"Topic46\", \"Topic46\", \"Topic46\", \"Topic46\", \"Topic46\", \"Topic46\", \"Topic46\", \"Topic46\", \"Topic46\", \"Topic46\", \"Topic46\", \"Topic46\", \"Topic46\", \"Topic46\", \"Topic46\", \"Topic46\", \"Topic46\", \"Topic46\", \"Topic46\", \"Topic46\", \"Topic46\", \"Topic46\", \"Topic46\", \"Topic46\", \"Topic46\", \"Topic46\", \"Topic46\", \"Topic46\", \"Topic46\", \"Topic47\", \"Topic47\", \"Topic47\", \"Topic47\", \"Topic47\", \"Topic47\", \"Topic47\", \"Topic47\", \"Topic47\", \"Topic47\", \"Topic47\", \"Topic47\", \"Topic47\", \"Topic47\", \"Topic47\", \"Topic47\", \"Topic47\", \"Topic47\", \"Topic47\", \"Topic47\", \"Topic47\", \"Topic47\", \"Topic47\", \"Topic47\", \"Topic47\", \"Topic47\", \"Topic47\", \"Topic47\", \"Topic47\", \"Topic47\", \"Topic47\", \"Topic47\", \"Topic47\", \"Topic47\", \"Topic47\", \"Topic47\", \"Topic47\", \"Topic47\", \"Topic47\", \"Topic47\", \"Topic48\", \"Topic48\", \"Topic48\", \"Topic48\", \"Topic48\", \"Topic48\", \"Topic48\", \"Topic48\", \"Topic48\", \"Topic48\", \"Topic48\", \"Topic48\", \"Topic48\", \"Topic48\", \"Topic48\", \"Topic48\", \"Topic48\", \"Topic48\", \"Topic48\", \"Topic48\", \"Topic48\", \"Topic48\", \"Topic48\", \"Topic48\", \"Topic48\", \"Topic48\", \"Topic48\", \"Topic48\", \"Topic48\", \"Topic48\", \"Topic48\", \"Topic48\", \"Topic49\", \"Topic49\", \"Topic49\", \"Topic49\", \"Topic49\", \"Topic49\", \"Topic49\", \"Topic49\", \"Topic49\", \"Topic49\", \"Topic49\", \"Topic49\", \"Topic49\", \"Topic49\", \"Topic49\", \"Topic49\", \"Topic49\", \"Topic49\", \"Topic49\", \"Topic49\", \"Topic49\", \"Topic49\", \"Topic49\", \"Topic49\", \"Topic49\", \"Topic49\", \"Topic49\", \"Topic49\", \"Topic49\", \"Topic49\", \"Topic49\", \"Topic49\", \"Topic49\", \"Topic49\", \"Topic50\", \"Topic50\", \"Topic50\", \"Topic50\", \"Topic50\", \"Topic50\", \"Topic50\", \"Topic50\", \"Topic50\", \"Topic50\", \"Topic50\", \"Topic50\", \"Topic50\", \"Topic50\", \"Topic50\", \"Topic50\", \"Topic50\", \"Topic50\", \"Topic50\", \"Topic50\", \"Topic50\", \"Topic50\", \"Topic50\", \"Topic50\", \"Topic50\", \"Topic50\", \"Topic50\", \"Topic50\", \"Topic50\", \"Topic50\", \"Topic50\"], \"Freq\": [1193107.0, 1348517.0, 419038.0, 571593.0, 399238.0, 1192858.0, 648265.0, 660368.0, 354330.0, 387744.0, 371204.0, 265753.0, 607196.0, 474050.0, 379490.0, 371897.0, 1419650.0, 466535.0, 516886.0, 223032.0, 235863.0, 221337.0, 541169.0, 263575.0, 475398.0, 205633.0, 239451.0, 210048.0, 409393.0, 840721.0, 20080.94387610592, 8356.664636760883, 6878.767225997153, 6006.859003746866, 5944.230871556302, 5526.007684768242, 4843.5256329232125, 4471.645358807004, 4316.384481771024, 4255.387627428823, 3863.5981354039595, 3389.9909899138156, 3171.501333151743, 3151.457317085726, 3101.296688893113, 2982.510211601186, 2853.489137335208, 2763.153271615786, 2749.574093253624, 2471.38455539629, 2451.9069178175, 2375.0383563922323, 2286.546995374137, 2272.299376312085, 2226.082235214319, 2003.1355550304547, 1980.5994871118419, 1934.157544682165, 1915.338044259143, 2219.4569130894206, 6092.176571740039, 24254.125981295532, 62390.55236377201, 51152.614959634986, 300733.2285529859, 141343.7254055602, 7816.890130767009, 143356.92074872734, 64726.90780750987, 248863.67153091746, 4497.8239362942395, 128414.50846195067, 5450.885284982829, 15124.487267414963, 86048.12898514961, 275971.6517799595, 80741.47074600589, 13924.928250957608, 107178.18831208145, 10500.172219338201, 68056.08500529802, 39395.97748945726, 130217.03644491365, 427277.35644006106, 334687.8067625432, 50292.52118353805, 146690.46989655725, 26656.720795731624, 87537.0611133055, 84989.04201609835, 89820.13511374265, 28716.27699657439, 109214.48360555993, 176498.99393759694, 60669.79281599248, 54360.69903386828, 78157.54760644384, 81985.1904651971, 133162.142852129, 87097.14877654708, 75187.56346220021, 58087.581048152, 57020.84153661676, 55954.83541142694, 21594.210574026227, 18023.7264202438, 16174.42616863435, 15694.646635970023, 14448.071765805842, 13393.36832997215, 11758.748816992571, 11034.431115961632, 10316.989030800298, 9880.38945474655, 8698.19356316101, 8515.579551054936, 8325.865267545869, 8049.505172847451, 7508.2274495399215, 6840.524525783745, 6775.791774252115, 6741.760714880997, 6547.2572149403095, 6358.967520665835, 6061.536218218544, 6030.805160892477, 5307.5295181321135, 5236.582406368575, 5170.714082031967, 4918.691042050758, 4905.704862698162, 4868.023539391638, 4796.557309523254, 4542.350137124996, 8595.842443578003, 14222.763148639515, 40571.04310555759, 34244.80805489674, 16985.62399319551, 20184.7954961356, 17345.27361593426, 6821.215668805413, 14215.932139642653, 29710.840456014408, 46645.35729717115, 117474.34410203755, 30676.600224864316, 36325.042357282946, 45683.03634739069, 26711.1164910854, 78421.24390193072, 113195.0923324813, 46893.31755204234, 34984.78218163999, 71493.54211939799, 75946.57805578373, 124421.95446826074, 33590.78818377558, 29584.762103848814, 83748.17148943592, 41954.28903747056, 41239.224931690434, 52906.680634970166, 78659.24753844319, 72852.95781268885, 66660.35399208225, 27013.23660214867, 57177.40313571623, 55598.428729075014, 100421.73496208803, 52053.153684032586, 85531.47506879395, 72586.28639354702, 57255.38609471551, 72426.09296994073, 54809.42050836832, 49082.4357744757, 45731.18319843701, 49471.98277670423, 46141.4359187016, 42537.928170595835, 42182.17815058706, 28265.102555993883, 18321.871387761545, 15561.991501819592, 11701.626841660416, 11272.156572565435, 10379.093564024886, 9498.428442310505, 6661.885523531995, 5351.582445137541, 5139.773118070059, 4791.494971049301, 4037.4907036484396, 3844.4304593225083, 3825.9393877040266, 3747.885807595337, 3629.81236060582, 3565.1185820213236, 3456.6361118926548, 3385.8982267019624, 3367.946490204867, 3201.3440828860266, 3169.2703562127563, 3128.4915376930935, 3098.087065805771, 2990.078440911214, 2836.2244027337956, 2792.678183666872, 2761.2483138815014, 2759.030341201849, 2615.3418945648864, 2864.719686850638, 24093.546196632575, 8547.754045483556, 9381.49790564208, 33309.66346568629, 57760.12309060749, 6635.191911226462, 15090.53397112187, 11048.918267577776, 54354.716893045996, 53234.265832340054, 190075.36519502432, 11353.221770603534, 9513.69102259721, 111190.71340128907, 32617.949505801826, 37303.53041782009, 68230.12492101433, 313993.5809197102, 151842.01345303757, 212065.5388712193, 84707.05074449249, 117337.37782970535, 139220.28008637633, 43260.85123111442, 27479.019117226417, 162107.1162839534, 108140.10108283449, 34472.377856964704, 94635.85691245981, 74052.62659448209, 77291.2856665642, 76906.09151172011, 67462.32466787958, 48770.61231020168, 69136.73345584882, 59130.639179254475, 60366.54154376196, 105377.16090965217, 80117.71225118884, 60411.72140212485, 43132.332577283305, 66332.76092462498, 42445.73603459792, 49209.20372023651, 46465.086252572604, 74330.60459111515, 9929.993387114004, 9769.147036359876, 9288.027694870205, 9040.589174265102, 8193.231787394889, 6937.156966869896, 4722.250461801928, 4647.457681497922, 4090.5430102148557, 3148.641878766693, 2845.787097246628, 2718.3263215899506, 2581.755298009593, 2512.494095148004, 2361.519460087204, 2360.8090212400216, 2180.0075928571855, 2068.678981786725, 2027.9190670356325, 1929.0140633182045, 1884.418510117136, 1785.0778239427427, 1784.6420469948096, 1717.6770241350855, 1696.747082850491, 1577.8639554222211, 1512.6447369130256, 1494.0646699923789, 1464.9104644679715, 22793.076801710868, 12272.488542094365, 46027.68115399457, 92087.29066956119, 98735.71702006213, 55248.55107151151, 283568.0160856975, 6280.149466126762, 23247.206248852952, 203954.70875547084, 102206.61465957575, 111039.36720701607, 93119.26267039498, 93776.1076107419, 128197.62948366953, 52463.65418872625, 19558.198709115983, 14658.819288174727, 27876.20206398804, 133001.8356550195, 44187.22060416198, 33733.601726262634, 129271.07656705209, 71034.35680614917, 58037.956657367715, 69596.79316765066, 77302.39591341332, 176811.58527514365, 29613.739451679787, 90057.62146243702, 75250.53747565689, 146330.08321093267, 87758.84760330437, 95899.24170066365, 56585.642241537345, 88248.03779344489, 104571.07212670316, 46929.47183893389, 59794.42733818082, 75795.01388843133, 60252.66774492092, 7114.089162344536, 6871.355243556037, 6344.922431594182, 5734.821115820422, 5140.34143171914, 4813.675128999646, 4461.31482132346, 3839.82335992528, 3763.946461713512, 3556.483927576837, 3298.6033876151064, 3080.7360441678597, 2739.8113564570513, 2650.958824824596, 2612.3178826633275, 2554.1591607210594, 2450.2839008098626, 2427.8945245594446, 2406.819521007651, 2273.3610439749955, 2266.3154939991746, 2247.6592565575443, 2177.4266447761797, 2154.151636732921, 2142.831018082174, 2140.2329098063706, 2124.9086500018534, 2029.4590869876297, 2017.7263672570782, 1914.5786301045798, 3503.4029504637697, 19905.371812689475, 16745.683095505072, 6394.90065020837, 26323.832291539034, 27175.98137126907, 10244.377394020552, 6922.5538791443105, 9235.071150764494, 59565.526498324725, 8328.57626144374, 10857.406389594189, 6153.766001274338, 23745.538750139513, 135079.00299986897, 266663.30815770256, 12888.841948243806, 13341.399319071843, 19455.909935207008, 13226.33233318429, 78438.81987298581, 19902.268735478196, 39051.18810500111, 21054.38283168794, 99243.24515804087, 20076.352737293404, 19476.847714002088, 99555.60829234582, 107640.90992580791, 83115.38198946565, 22815.669602385482, 33323.82690866685, 50913.03609626548, 57164.21847908922, 22394.331224410213, 43466.68329905092, 54206.72889070081, 47806.69998499543, 32988.17025398908, 30650.96850427492, 82419.7095757044, 38141.38436452994, 30050.26666492566, 40281.443286629736, 35248.72564693118, 27153.562474284587, 24755.30329138146, 42308.09010198718, 27413.47818486586, 30268.182782266646, 29775.497252167235, 25368.99431659347, 39485.11100706876, 37833.93873367102, 59020.41989865067, 10488.493159691703, 10408.277937293613, 6947.427545560598, 6087.788470501486, 5546.657142679319, 4739.218087992198, 11237.326669408687, 4278.303320832003, 4004.7234013860116, 26676.05345675902, 3335.637430171072, 3325.7082858989515, 3178.897058444296, 3121.096990684611, 2863.4338564705104, 2819.194438517007, 2816.996850223265, 2789.083289360577, 2693.896891564831, 2663.7292295126117, 2634.9427524528533, 2632.6747924611304, 2627.1224737898383, 2566.41424985566, 2562.7302961153246, 2547.7904979710765, 2528.6926776055843, 12332.790158685693, 12846.584055441761, 16742.952886918887, 13375.967436234621, 48502.70917305826, 46874.92085127356, 24227.336556072914, 12772.479267007358, 82451.50377251966, 7746.976507693278, 130899.90080540453, 21687.17641669832, 31251.516918328176, 56851.7350381679, 18697.65157043213, 59252.76747542814, 100872.17886170589, 40616.86012898219, 98410.36268386696, 29432.819113415877, 35194.833341766636, 50652.13408505632, 31854.437091575415, 63336.23334874598, 94040.21104283501, 34251.058073922584, 34883.02673456788, 77588.67425306859, 63852.1262415619, 116504.90388003089, 32722.961124168985, 61860.04133117259, 44837.2086430233, 44694.58981695312, 59503.57056888479, 35302.31734249523, 37406.11706341604, 35220.08293931629, 32761.952349378877, 13806.809876623382, 7339.727977526422, 2852.5141072097254, 2712.4292225857325, 2420.8586893609668, 1623.2218261651, 1608.4132748818392, 1567.079150222935, 1473.5646611800667, 1433.270360450549, 1375.6361124507882, 1290.2816531661067, 1248.2836827422982, 5897.531535737389, 1194.119645272969, 1157.697007669398, 1140.7000390766852, 1088.0746831642584, 1077.7738633286613, 1031.2364017655154, 941.4697913666447, 931.9941048323964, 930.6773921056825, 920.1879577560369, 918.8406793923525, 852.2162735056411, 838.211290160765, 817.0608160236827, 753.1690072804652, 748.301210278033, 286644.6233659786, 51482.846924188016, 67858.05468470888, 9452.069570917825, 159995.18084154523, 723599.5291361078, 79601.82263583814, 220667.10352969271, 13792.393567072695, 4004.0232504924666, 119669.02320097722, 4073.3452760737937, 463612.8336356182, 107742.89401577589, 62297.39795300989, 168203.13059431213, 14569.830330699144, 13421.329612209885, 46661.7335493304, 24330.984396519772, 70474.49170707332, 150734.13522693413, 127942.06479753726, 14838.661398098115, 70358.37849344741, 134641.0341543317, 45438.89512503503, 41574.391721769294, 83728.32341578342, 108226.66574884392, 63451.72661876651, 75174.97478847338, 25367.185883009683, 28612.63935868625, 19963.685961244417, 51555.35368541311, 84728.18538317808, 37955.025789642554, 53119.13103291358, 56053.60625156919, 40491.76991588992, 52469.21843976977, 26667.873403102432, 18277.93005572915, 8448.814495226456, 7558.528831292583, 55734.58731975265, 7306.645538478929, 7044.427058196591, 6001.307098458966, 5293.946342812832, 5216.033758143114, 5130.341610510329, 5076.252151868264, 4566.718322632322, 4194.464454383187, 4131.904406211506, 4077.1981706402235, 4002.2905568533192, 3886.024135071144, 3785.481098394329, 3552.52909419505, 3476.566928538506, 3385.824285841716, 3369.7716917525026, 3333.7400870413203, 3316.7624484590324, 3158.426615059894, 3043.451969918577, 3012.8693080547673, 2991.8114343640004, 13835.945245289104, 24474.950800049523, 17729.19284380411, 8055.898129765086, 13745.074869835737, 55116.56086164896, 109338.35903006565, 97075.00743207456, 7358.377434310063, 14874.474024622888, 23162.479819583263, 26018.23790442318, 21123.01918129234, 25944.24857234569, 106161.58805117193, 33020.94143806356, 13146.445315859632, 32870.49459599237, 23256.08376410488, 53351.4147828259, 9876.413196673266, 147139.13656343758, 18954.120650984034, 51595.32521159024, 120896.25113912289, 75799.83564828552, 99392.96975850996, 76883.05246123706, 19130.840523389197, 65379.752042642795, 53068.85100054734, 77236.08926777894, 98858.92781478944, 45156.12363114774, 45998.38336034206, 96955.29533854827, 51858.336107898496, 44451.2247560092, 39063.91728186463, 38723.19646930077, 39326.6102740525, 35746.87971038014, 27779.733606659465, 65108.74389706996, 62909.491124157175, 33456.51231823438, 32636.247488548608, 15647.729642014325, 9738.311750735826, 9217.477628780713, 8624.167086967675, 6899.828225098299, 6346.2625418561665, 6267.928443401347, 4997.60505803861, 4461.008493888632, 36548.278091041844, 4342.676176624362, 4073.026221713631, 3776.086668856847, 3759.3131994734867, 3579.405228156153, 3525.919678328786, 3322.0579037012367, 3247.8019923797515, 2533.4136725723547, 2408.3360659266186, 2394.407171677433, 2128.0484666835982, 2046.0711401611072, 1985.8871871594429, 1963.417462553701, 1913.2122957846755, 25413.87625296309, 19768.50105842803, 34573.206777659616, 8790.4575361457, 5889.013318430898, 18483.32545998739, 11691.256873103513, 34744.72198459082, 224755.72091685652, 24509.131729523237, 9089.179795541408, 10965.411328665095, 64990.44352873052, 23002.25495320068, 29522.53764364459, 46593.672113527486, 7643.544973777245, 16860.80638070911, 35336.27594320482, 22672.079046613428, 40824.205344524235, 155237.24161145417, 86679.18656837601, 30260.17355978169, 97789.66142940416, 47819.48457870622, 107165.49699883828, 49577.82385258926, 17630.408801985162, 35776.566211907906, 25532.863213524426, 62728.27333931187, 58132.15199021979, 31367.59134201911, 32232.3110869021, 37966.98122697394, 33412.04994558948, 28754.672914835654, 28621.033568738047, 28689.264716038324, 30077.700318739342, 28441.633423088064, 20722.549775260017, 7966.476675762874, 4593.438657198661, 4026.009841686124, 2853.985164023687, 2631.616442564476, 2549.694535164999, 2259.515630840132, 2119.945318899724, 1734.7415865371916, 1596.0181106772354, 1593.0378710809669, 1570.3079845746558, 1567.9929651708267, 1561.70966605937, 1505.1034637021914, 1487.2642450382812, 1379.0067556587405, 1309.1357547728335, 1293.8978105449203, 1285.578088004397, 1281.9709577559506, 1224.8427090093658, 1166.9192848348023, 1162.5735591210118, 1154.4332215034942, 1122.4567260889235, 1094.3485503744548, 1060.5214591149156, 184159.35581447996, 18946.725517365754, 412892.30614531616, 99608.11526781009, 8792.527312217675, 85528.26287330607, 22445.888293948785, 20676.874253802005, 16088.620537185945, 151619.4455161677, 15595.301077672164, 18118.97084224726, 51444.17645487012, 15146.08127606356, 46241.80594500884, 8142.974609614813, 67393.49148380836, 8336.31533105194, 200280.9392155247, 131527.94845202856, 25747.614697334328, 17861.210560434345, 34187.889628514684, 33587.14800765645, 33413.86690222295, 80261.4631093261, 30049.706883378323, 151651.1550812978, 47627.42744718026, 98774.26799088872, 124271.92344166608, 30919.09174036848, 35000.243087993535, 44409.04441867837, 84129.55720023684, 71175.73432521406, 44744.525029427445, 32906.5558266359, 33686.34338902146, 36761.933366076824, 33343.70527024416, 37014.75964999317, 8472.266379030587, 8195.208004396689, 5986.356300695122, 5922.818731728156, 5644.778558789472, 5499.11170341542, 4782.106389591341, 4196.626903779511, 4185.276474738904, 4157.978321003767, 3053.392331881849, 2724.0353229138054, 2390.2542876128387, 2382.4146610639664, 2295.678408427349, 2232.3608351208945, 2178.2742260525306, 2168.2069095486954, 2154.0113813018916, 2106.0983446285873, 1933.6154120425383, 1891.9844335415025, 1861.7219949608682, 1812.274040943276, 1800.335140033459, 1672.069016627666, 1554.6922235245454, 1541.6719978688377, 1493.3070348236035, 1479.0992388810025, 496404.7048464347, 7516.392302454457, 124156.26986536456, 123577.63864287443, 5893.6089056314595, 5827.308847032192, 13931.89086223445, 140326.74648124864, 20560.937901881003, 3616.159879743165, 112986.0497221938, 44510.6073529148, 20089.48673180765, 5203.1469740038, 59084.961639244495, 31287.964636248827, 17940.645478928236, 30838.524548694648, 62808.79917183415, 5188.944730051031, 47507.32098916565, 18813.866826608868, 6413.382125407453, 12869.179428017393, 91316.00153116298, 67439.49089960464, 50392.512486026375, 131848.8386953384, 10479.327563396311, 35163.91499358656, 105297.79746966416, 32563.384531107986, 19381.134162002356, 21194.434295735973, 38939.15495244233, 25409.120639791814, 67777.27951309762, 37181.091090063535, 19288.84284327262, 20472.047650147506, 21302.823612429314, 22785.725326055628, 24760.070057712604, 20404.855572816177, 21461.931626627746, 20519.827730128087, 87692.18450219218, 64225.35166644448, 59294.570537785265, 14396.137622517183, 12813.288331164431, 11634.234133460703, 7720.370436552965, 7447.905901141642, 5888.639759448258, 5475.99961667161, 4424.344442587538, 4341.792169841558, 3790.3739842789873, 3756.219533776811, 3567.1693777342975, 3498.619620941437, 2864.205183761797, 2758.2095505569896, 2742.006961868679, 2723.2817067273354, 2641.0369198211506, 2504.9474634630105, 2421.3370616677407, 2398.950679984926, 2341.4496915296663, 2255.869451355019, 2026.840797891579, 1991.0781504755205, 1896.1586692901597, 1864.6723345105045, 6414.2363452801255, 15587.743464133106, 331851.7628637645, 10587.914716609417, 84574.41586705376, 12918.143780389408, 294438.7500628621, 70364.8092315388, 46562.38874208183, 14574.247814161216, 8040.163837044758, 23303.145986854903, 46810.12957483541, 21154.170248764756, 24922.06905996282, 21921.954094590805, 83965.84723790118, 27190.1658314178, 81694.47982848075, 12029.950419103421, 53783.45369953047, 119333.95392097227, 43479.22077704812, 10647.477657770163, 28645.33484934267, 41880.91666818587, 13715.950147183088, 22943.039278510743, 33847.55699077336, 29892.914653845288, 35638.93121398151, 25951.753992738904, 41790.27419813173, 24453.497209941746, 24215.712070911177, 21349.124127358984, 24498.32968753407, 87165.83944595979, 61255.58865394822, 36633.80977237775, 34576.56224854323, 11554.960025506854, 9186.632767054642, 8693.94385273899, 7100.083904190927, 7067.201878879613, 6826.377067143441, 5875.809111535446, 5615.8289254707315, 5350.570725658367, 5179.347667244468, 5098.43854063278, 4713.474459343283, 4489.504179394412, 4165.589034622238, 3970.248944095771, 3961.3835669629743, 3907.689563295991, 3576.714552062236, 3437.042825893215, 3396.841305926229, 3269.9139588088515, 3265.0310075106354, 3151.872135013747, 3142.0511341252395, 3138.12136729176, 2985.402998026727, 159112.16250200078, 6419.224549855885, 48406.56927225262, 28603.027322943628, 10894.376181650212, 108704.73606293334, 219479.62549887702, 13576.108249942024, 25918.38032591123, 145178.48886619706, 85472.09155862003, 17589.25815080318, 38871.83973467739, 48077.423055781146, 10207.004706514168, 120434.25830742098, 33942.743501017554, 13858.70097123942, 13588.130606250485, 19298.18963339328, 38298.11835661893, 61260.4913545546, 20015.29366475748, 22286.92996743104, 54993.27491502827, 42020.27668107952, 56877.579730280646, 41624.12705081921, 14674.918414770324, 25486.25129103296, 20044.395329513056, 22777.869668613417, 20753.16782153269, 19989.936484421658, 94325.32448164262, 93273.55717407972, 47385.16730769137, 36386.14579938934, 22793.36094256374, 17282.290854316627, 14393.454881026622, 14393.440110159296, 14204.309526832172, 11260.69683725015, 11250.861615006666, 8834.315313301722, 7088.864776288965, 5760.159921799596, 4456.684290733594, 3587.616109796995, 3517.637471687044, 3474.137713387364, 3463.8948685805494, 3168.148411841191, 3166.746351967758, 3096.4062897445783, 3042.8202202484335, 2987.3365131197056, 2655.3828972109627, 2332.7304442612513, 2243.1975361202904, 2114.132331348672, 2073.111344495866, 3343.6899038552215, 7181.249740510943, 12653.02907632045, 39013.35562046228, 381119.5066170916, 9887.538026326714, 65481.16642634556, 7589.713701644025, 12134.091576404626, 125505.65903678065, 50895.92318931619, 139503.10676473944, 41996.43753503638, 27811.697041956406, 16260.819845199056, 10578.36116757904, 91170.35034924706, 22241.562007770266, 27485.576137536376, 47760.58041508566, 83449.40381446018, 13044.645152742261, 32729.927746548914, 24196.529292668925, 22438.07664788159, 42732.52093892833, 58980.71155358814, 24157.696196264085, 33263.425459779595, 33613.884572913674, 22846.07817585873, 29041.761776902626, 22917.157068213193, 18465.57338864218, 19055.461486699467, 36615.619246998605, 13410.395022942708, 11815.64036729667, 7628.176462543581, 7620.1330775838605, 7426.60404403286, 5810.482972612498, 5140.009122849668, 4823.211289154452, 4513.0756665713, 4092.5472311867056, 3999.7278739534613, 3886.1302526763798, 3721.128910600627, 3616.660226762953, 3366.075581073364, 3223.0273517845335, 2994.8733028238144, 2792.853106273358, 2790.7140438217316, 2788.9988871928927, 2770.443512503048, 2759.2195574720604, 2680.607150528806, 2619.26282852176, 2594.1180575452663, 2454.004315231288, 2244.910920215114, 2185.0936732112327, 2135.847050752814, 262546.185931079, 47354.818247976385, 36070.98699575047, 113187.24649051826, 89625.04145136899, 45125.20273402549, 64422.60289930272, 205999.84281902784, 138926.8382422619, 42504.355625213546, 117578.37852293461, 18926.82552950131, 25883.041796772744, 156918.89733556547, 53471.48395077801, 7791.167710294662, 34994.225075020026, 8799.387046645103, 46947.49247118905, 10974.604745993001, 14841.135624490287, 22988.559907583032, 80197.29749580732, 15835.806235834321, 10510.227321471404, 62032.58349607141, 39045.57230160021, 72248.95678365586, 23809.455105410703, 26497.241106655256, 36586.93381726736, 22202.312467885306, 32870.30149629413, 27278.418547152236, 29860.70018160328, 22167.978058720273, 387743.4566876782, 25383.968129980352, 23028.794333030644, 22056.27667302056, 15044.895955610675, 12269.51140000509, 7389.038497412266, 5960.227868871575, 4451.114650595269, 3866.9372590373578, 3436.660224739074, 3258.08403197875, 2736.4350961161426, 2681.848089390691, 2665.0757366489943, 2501.5595718363306, 2485.5434469872152, 2244.2383452944305, 2190.3547969511237, 2168.2745982652414, 1834.0293261220243, 1784.9305141419438, 1718.888815580695, 1690.7910459668278, 1634.3242872044218, 1552.7649065848389, 1542.9702170982155, 1496.0220772394403, 1444.3850139238175, 1390.3832866812306, 6292.1687963783515, 11355.981228917524, 71850.79222583502, 19282.364097979324, 7984.361824773847, 90255.88137566295, 4147.6311833962745, 14324.142797376913, 3846.7261872318777, 7444.779159051445, 81530.22982243363, 11926.485231592367, 27262.873747761205, 10539.52004646676, 20662.045372980545, 53149.26915365595, 41888.33305322831, 12946.291863078259, 63696.979511024096, 37171.32327395052, 31352.862323913574, 76927.6215769475, 40961.81508328288, 52261.264777593344, 56197.72534920579, 36319.69286892412, 17002.377325930993, 31729.35960525708, 81255.45479490522, 51049.89046947028, 36634.97204133144, 52820.27335473461, 42942.03002011304, 29897.869122885833, 55263.55070519846, 43699.85028389047, 26492.72274058211, 24677.472342034416, 23711.274986564807, 22678.005251759874, 11581.898172953972, 10168.604280440379, 10093.373686252473, 4768.778475688779, 4145.745792820101, 3770.167161848182, 3706.4471634946876, 3627.2942860083986, 3558.7956597623506, 3501.252653975033, 3493.294209806599, 3345.1283022330567, 3329.964018626416, 3131.9692750829204, 3057.919665154474, 2878.5396843267517, 2434.8595518802395, 2419.808676135884, 2325.4724281993435, 2203.1997641632006, 2197.1869493397967, 2145.143184466195, 2113.4454534389897, 2109.5404816289556, 2060.10010321667, 2042.8518926300142, 2021.2323165026282, 2012.64639720029, 2003.5191244540385, 1908.9529811652149, 11392.960188023599, 12505.980835664388, 50697.19281385274, 66963.73738650906, 506958.9165357043, 57838.30233055839, 6238.46202513582, 108823.55629578631, 58979.656532139146, 66340.89167451112, 13248.186108767255, 22726.176952324266, 37512.07266483003, 8833.646241962942, 27602.164127011012, 34939.10879990281, 21020.062209767548, 8329.364128286776, 24492.463194725857, 125659.12204183519, 8124.202237063467, 33983.57208559147, 49592.74012338584, 41450.65787090134, 17567.799200728405, 10892.204787672807, 83910.54062366001, 40924.7524194055, 18759.90699418617, 32910.308698763074, 43906.29078201753, 41498.40693508541, 49592.59569596178, 29656.233167901795, 24916.60960409707, 25929.5875103028, 23396.55293565472, 23968.524028522705, 23306.52204329548, 26773.55979885522, 120604.32731272768, 73404.25107794434, 61538.406000936215, 54769.10961503289, 48796.397661231065, 29309.670246311376, 25610.81732207573, 25464.74015479432, 23956.85991593311, 9931.1915790825, 6878.003763567004, 5786.824754293211, 5448.5199422372525, 5304.82428399459, 5253.00855581466, 4865.213281516957, 4545.655869116678, 4110.136833473904, 3682.3388210988005, 3564.2285295585957, 3468.7067665007803, 3405.7352214343487, 3289.111906777415, 3252.034995461757, 3200.67929419263, 3170.6699063670217, 2616.8192556833164, 2569.910607031489, 2400.161140281559, 2314.2420162558997, 81119.74524333359, 149787.8222062819, 69069.72854868915, 8448.364137022498, 44274.93574782676, 17899.960954687023, 50399.08964089832, 5735.965931988149, 5272.40621614225, 39262.31613749096, 9309.396755905122, 9945.396224373984, 15777.979161300207, 9058.585185028569, 16397.29575654146, 23094.669975322384, 23954.8752357882, 21306.45019432281, 46600.929393054874, 12370.165048551571, 25217.68340600529, 32491.831238659866, 21521.523984511394, 24335.577207126866, 26112.933537448353, 27798.011328259556, 22563.48614346989, 15375.268738728782, 354329.90817665536, 17858.38235482567, 14294.652731155551, 10273.453183833524, 8016.460296040892, 7387.026037450567, 7290.61538749299, 6430.132914669778, 5289.2778965089055, 5073.427034404453, 4863.776488991262, 4680.087649503884, 4283.963014045443, 4181.998361128923, 3678.060789107902, 3204.6879832561485, 3164.492153552819, 2765.451640004791, 2582.4591265565246, 2525.403873456565, 2315.507558600816, 2177.9005720989844, 2073.602668381659, 1958.2240810359629, 1894.8902267618535, 1870.5086653233393, 1798.5488325953613, 1794.2205666396062, 1759.2097681577807, 1636.8088318471846, 30407.29634046303, 28899.701679933725, 5347.439776472353, 246604.89349063474, 7336.336374328299, 139010.46721505895, 23098.533794630817, 24385.12105686011, 38224.16456554824, 109325.32467102686, 25096.635600002177, 9784.969121384156, 7897.942052848699, 32211.82145177392, 46939.0830912282, 30778.18746484516, 27897.541001313322, 10204.983897556058, 9389.823181996333, 37195.060611032495, 12064.642584403658, 13917.709149457029, 15467.354925817886, 28160.210347167387, 40775.32720401591, 12545.814976967045, 13427.734483087419, 9751.774638451794, 15689.953983718155, 10865.024451036343, 10679.710956355066, 119594.10261850545, 97793.99908464863, 97061.20041374833, 94983.29185248745, 81306.43420196052, 77599.53157192236, 47526.36220168849, 33084.542193834386, 31256.18549716573, 30987.106908477537, 17959.244355057963, 13602.826955224094, 7892.328193439334, 6961.123408215511, 6943.935939478472, 6678.5487232786845, 6650.380609160699, 6599.8372498699055, 5916.8229463994, 5012.118187656905, 3641.312860777717, 3454.254130670539, 3119.7643767613213, 3013.810703808549, 2901.343196932892, 2899.5720007065324, 2748.203890891234, 2647.4354315663018, 2451.0189799708646, 2441.3858821866083, 5289.948763943774, 52378.206140949915, 11143.383072176008, 12666.565515348815, 9227.439767375932, 47376.39732121096, 19362.813237221417, 4046.207310667951, 28506.679952335307, 26521.26803650636, 15009.62784582014, 35342.20780277493, 22078.246886541514, 21054.06269226632, 18671.40747325547, 22474.850242037253, 12103.224045426423, 11801.61826243212, 13828.023421387119, 17253.236073326476, 13226.282566496084, 12012.138442970901, 235862.03937046914, 49687.5652190422, 31250.62854490862, 20282.447140061464, 17236.48815734167, 15602.994243437852, 12238.505870578458, 11635.69644896059, 10899.953355620219, 10142.241184231327, 9491.63030618753, 9274.558743122225, 8935.055112500228, 8764.082421760226, 8599.912773087157, 8465.301527141886, 6589.526469077039, 6552.277563866345, 5519.640934053145, 5360.242414534862, 5099.839363772087, 5025.3792552944615, 4713.027054623969, 4569.722759228271, 4557.202506218711, 4495.432564862779, 4377.02929301148, 3849.90856948114, 3468.455413509511, 3450.2056586709614, 9722.970073829043, 166434.36900170555, 39668.032126864055, 50101.89744361679, 68151.63850513291, 11373.916462824964, 36373.113215648315, 50134.45795825185, 26024.8530466523, 19057.62259514301, 31664.409462226467, 16845.318911459304, 18965.250280565826, 16357.524315136998, 16185.575867812835, 16039.947040512618, 12390.9252295971, 11396.3759151873, 10735.423521442946, 10234.424735994844, 9958.475608160163, 44925.89218457731, 37287.35244631696, 28989.068109388405, 13630.349480144794, 12354.020801726156, 10792.562147907096, 8314.333219461276, 7729.180595997868, 7457.864433124004, 6539.801096967832, 6037.273549416917, 5891.853198170782, 5221.903888932179, 5211.047213043329, 5077.850554345757, 4964.102243362147, 4708.800679071109, 4570.1088552032725, 4461.6872668082415, 4340.742750079415, 4125.9333986713145, 3877.233840469686, 3811.516195745509, 3317.5646528822344, 3131.250449685018, 3126.496193014267, 3065.439376448446, 3036.8975474500853, 3497.756437790507, 2834.190945403958, 57935.995087311596, 5832.205062815806, 31825.52244264186, 70695.53170251203, 15812.342594419928, 21769.381002607563, 54785.05112516437, 9429.931204064244, 13243.48344788513, 47335.06336548746, 12465.908212799139, 33318.91727680347, 23411.072463850363, 9459.935425234115, 11660.108292118357, 8142.61986863213, 17176.935617014777, 6792.195172975137, 52570.985022104265, 9621.676704338932, 8064.91611153613, 12395.571872156172, 13867.970828170643, 11810.27656514337, 10876.336636211669, 9216.22435553825, 8158.763012319183, 197855.14760181663, 66538.4929835966, 13851.421111336704, 11014.270567349568, 9204.166955423882, 6694.230555331128, 6604.137568013917, 5897.51240371826, 4647.008149611835, 3565.907437993293, 3133.7542176280704, 3127.1949081045527, 3062.706799909888, 2998.509794821762, 2857.628880101046, 2850.935611300805, 2630.143054586603, 2372.984626789473, 2227.5921261565377, 2027.1551356401956, 1977.034989260009, 1938.9225767497974, 1927.7435162767679, 1869.041005648855, 1798.5594875183651, 1742.1940269461081, 1594.0399671793623, 1584.5548933481623, 1569.5221018079192, 1531.8357859740959, 25338.443600154158, 69203.12526522663, 3573.973346975552, 61616.40282475289, 91238.71095200526, 72252.03988725775, 6014.80848834334, 220930.46444889446, 42510.22186609387, 20832.743750821897, 4147.55933293611, 11306.893823167882, 46363.97184481939, 5499.133143307016, 18603.64871707364, 11244.386938121981, 54677.67382371539, 14809.130329322965, 44745.30168587748, 35337.41461928452, 16950.144449730513, 7912.844246348075, 13891.375933986077, 15865.83208772829, 11606.979034793956, 16991.843367561087, 12570.59451130899, 11781.957657057326, 10997.124904370057, 9432.995397478908, 10892.581309020738, 210047.65568730116, 132644.53689163068, 128112.49641377153, 54370.30639473008, 26752.637614453306, 20171.64462747452, 17493.046746677024, 11273.623237403215, 9263.86632982311, 9091.998963980126, 7954.8077876738025, 7609.461486802842, 7528.608156115104, 6619.48796116434, 6420.920278535523, 4691.163788121665, 4296.205610700993, 4284.281281911384, 4246.004182803633, 3746.2648983866457, 3739.7394150542223, 3727.454638041152, 3550.587733533886, 3323.8235271963645, 3322.763554866388, 3205.3707371755872, 2936.0413358298624, 2837.910153491341, 2787.3816129630077, 2779.3836284125114, 111134.72274675194, 12280.880302004918, 34552.98684929209, 29535.884186099956, 11639.229577348344, 56774.891552547604, 6174.907548072937, 24459.61294871867, 33842.35793982444, 25434.17619382428, 19086.18226340935, 15734.914189805722, 8823.016586201498, 11884.311799291989, 16608.310295824856, 12188.381605708382, 19388.331573136915, 16473.760366838014, 11316.205419814623, 12305.210174963755, 16252.64976744944, 14143.170201346758, 12042.263629737998, 10737.757734317333, 399237.6596964179, 36307.30062299402, 27648.914700734178, 22879.07403824328, 23214.766700384684, 19160.780331708615, 14890.441517253632, 10871.975085510529, 10493.22109964898, 7821.343549161591, 4804.193249038316, 3757.1555251949335, 3612.2265628347554, 3411.238520893498, 3402.4313802074244, 3231.1064676425426, 2952.5784659673113, 2725.3341177015254, 2607.5784234192615, 2316.8672149430267, 1879.6020116878985, 1858.3476739132707, 1829.9885830464584, 1772.5449878501545, 1751.5338784324085, 1707.3474548557415, 1653.532907227423, 1507.667357395985, 1483.0350984044105, 1461.868139958226, 15570.107934360925, 280032.7977706897, 39758.50443908883, 24503.08287050724, 11608.885056618452, 2747.978529781325, 13954.37050428838, 23083.017582956767, 11274.107465267285, 28727.897205415822, 12395.450742545067, 10964.305577167914, 46105.28914946132, 9282.964195176219, 16760.21981118737, 9071.701743042942, 10760.262364471015, 5689.134882395522, 9312.416069849172, 9593.70857790373, 8635.98512557585, 9151.387957396782, 10304.792422285587, 10121.825394477957, 66564.21438139302, 40772.33541020499, 24270.78679031512, 16647.45696901487, 15308.040026188197, 9995.013068524593, 8800.788122618424, 6220.192902959008, 6175.394848743624, 5467.017355694051, 5442.993256452092, 4484.713800937666, 4333.5799974038955, 4299.18720132924, 3836.814413337196, 3794.306703044562, 3779.6402677514347, 3753.186261954915, 3716.9616249692717, 3673.6845130093106, 3538.134414841205, 3296.4888197400537, 3171.2292900346765, 3109.6330149992145, 2932.887654810994, 2865.36760744364, 2840.804149085735, 2825.9767926322224, 2768.7109547292694, 2767.0377903838616, 5101.122136131966, 141725.3718608958, 33936.233703127284, 13017.936357179666, 28937.417099448223, 16986.963939668913, 64276.356099631994, 67579.70753145363, 7423.784584294148, 9110.239494917543, 12009.89641437531, 10445.156456772702, 61978.728052028215, 10968.869028350427, 54785.172545432186, 5134.289082615535, 36947.68988372334, 65743.3917798854, 14912.17102809748, 14198.683595382561, 24802.105480232658, 21956.430166897488, 14011.923973055935, 10679.327059287583, 11586.651253273822, 9241.053347342724, 8868.9085852255, 221336.57105705136, 79686.43761293273, 22491.75468614094, 21368.391401447596, 13424.229017433254, 13226.109035453619, 11592.116909926564, 9103.527647313711, 8598.244462924547, 8036.39305313868, 7512.816571521578, 5534.034885027466, 4969.199980445124, 3712.8933200466736, 3478.97759476178, 3438.6171151590497, 3429.7854505520922, 3353.776487226188, 3192.4906984578965, 3074.5154009429048, 2871.6403272196767, 2694.462888578524, 2535.4546196074693, 2487.5919442594814, 2424.56485617371, 2383.5650358823077, 2287.0172248416197, 2271.5702615309433, 2248.3017835981564, 2157.357108242184, 10302.44175052767, 5163.99703576214, 20297.72741422425, 154225.60532093886, 17153.56684091578, 12693.163745592283, 15423.136056739051, 4340.281859106016, 18184.954562352803, 23131.482576172995, 25970.638001964362, 43481.80954133334, 5295.246654889448, 17539.112004625516, 8188.569371955651, 32089.99812061406, 27764.485802076782, 10646.785219414804, 13180.644409675462, 19287.706067908017, 7192.166387186116, 8700.04593972256, 12370.847540345294, 9877.687106907615, 10997.631256531875, 10315.934143228029, 10451.741484867272, 8948.61765968737, 154949.24664337205, 23513.149576865915, 17476.68264127708, 15824.131201477228, 13001.594666188379, 8659.26021662414, 7394.96373607885, 12192.75705799325, 6795.568481144753, 5523.196650456983, 4404.966557821531, 3957.818110419917, 3821.8064743896143, 3782.6314256268847, 3557.2713701409184, 3482.184358740422, 3298.2665379223085, 3168.9583908544573, 3139.4778817471642, 2965.412242667074, 2656.400548725498, 2637.581758122496, 2591.288475088187, 2543.769861620699, 2508.267733140219, 2495.040001285094, 2494.5100448464586, 2459.639334038707, 2361.8983778449424, 2207.4687471213942, 10452.18430893075, 11328.125763434233, 48686.83189744674, 46858.15912317114, 60850.830399519844, 19267.669613812996, 23298.230667574036, 27412.290816978883, 39136.13446498501, 9486.66549416651, 24874.21704473607, 10005.715627138683, 22202.93988681944, 57532.131541829964, 41868.66314561988, 19147.78473662736, 13873.78647083062, 19761.653177306005, 12353.518454191108, 15408.187555303644, 16031.26699799585, 15146.069214620973, 18497.956854746928, 13734.527015643025, 13471.328073907522, 11325.699294964226, 11532.33934835936, 11392.049854763678, 223031.20127392188, 28265.24795510102, 23129.919644388683, 18151.57507391063, 11879.576030729035, 10740.921021206907, 9228.326714769282, 8803.643927857142, 8511.005950528963, 8388.653889270681, 8228.322494584358, 7613.866243579128, 5724.546451250029, 4965.207002245364, 4917.826484759596, 4842.6965486914605, 4521.778258209384, 4509.160819468858, 4489.404211054394, 4147.50433450082, 4077.744201970375, 3958.602049913639, 3734.1680701673527, 3730.849870286241, 3545.1118024188436, 3418.2338965334866, 3416.5333085034376, 2934.453761845333, 2746.7043093124717, 2744.376862023247, 3257.633616451136, 15491.03189643287, 86903.24263085553, 10602.206334638458, 115237.98842987999, 7865.841926902907, 8812.290119125302, 18481.26154975104, 7612.374048599131, 9033.55570725724, 5821.480903856102, 8082.2785958536915, 19482.714909584585, 39868.00977012344, 65026.6854790227, 15488.354609900804, 15443.833537402657, 12478.710672513707, 15152.783077804885, 11983.876381940956, 10383.532892607223, 9039.573694341767, 8214.899913330826, 419037.42680655414, 67543.05624891617, 19673.174855884583, 16560.061625586502, 14430.859912480497, 12977.832054289327, 10584.258320569232, 7845.810453176402, 5961.7045724877935, 5934.538231476913, 5004.79853795716, 4787.613269814179, 3865.337287844721, 3256.9249611847854, 3203.7602255919874, 2934.2335637568635, 2916.6093559076344, 2683.1029074350663, 2440.0582081171847, 2392.832307882059, 2180.2170125813664, 2121.705281467326, 2092.126602279482, 2090.650300936772, 1947.2316049471317, 1897.8335473487737, 1841.4700421402695, 1731.0823196519684, 1592.456853265858, 1428.3148996591233, 49879.50161987698, 14247.456371213739, 29664.49036372489, 17861.223102394302, 33582.27047349832, 40462.08662629159, 12559.53576461945, 4715.693634650954, 23517.451583046222, 14117.580663508013, 41014.33334356837, 20136.945600975283, 37787.4598396051, 5105.2722785014785, 11935.705701292582, 41760.745586636454, 13466.792242035284, 11111.501615901334, 10512.582983418304, 16430.685876016203, 10929.1641082742, 8276.335194493586, 9271.268761080037, 8391.91223109888, 8253.633690291716, 20919.592669272948, 12244.699061616058, 9191.929143480822, 8167.035587565948, 7730.357775616306, 7162.304748292334, 6789.449334987582, 6317.683070811648, 6234.087585835151, 5991.944450109582, 5796.36842532512, 5637.607020768343, 5413.9814537633965, 4759.888885606902, 4477.031332729682, 4458.605401535169, 4368.894941208703, 4350.212584717821, 4266.010086615097, 4114.950920910044, 5338.06152268422, 4064.1983029754388, 3767.418045898614, 3603.431506147182, 3409.600027501682, 3311.2530292046536, 3047.3958787462025, 3028.190307731064, 3015.412844435888, 3005.9132888505837, 11579.328893537418, 6568.3293301992735, 4313.1372126897295, 4455.945259774972, 6397.494589771581, 53980.192928708835, 18309.504575702955, 87218.37732094576, 13936.120597643801, 19713.53549363572, 52182.858672992144, 10411.85699916671, 6890.430764310005, 15579.109272496124, 6954.932533776429, 12522.988394526461, 5431.3685466695215, 17502.2290323321, 13069.196336405215, 9172.410429482734, 6974.686210313364, 10434.953691537468, 6668.426144284418, 6483.38475417636, 6265.942615774708, 205632.6208734153, 24559.264254888993, 23617.25296677171, 6668.566886597747, 3471.9686102461797, 3422.6710768836892, 3182.3433131116767, 3144.320998951069, 2854.1461922145663, 2768.820170439784, 2719.5683992139643, 2707.860931721856, 2670.8072721180615, 2559.93749448324, 2475.912102206762, 2334.300265872384, 2293.528811336302, 2280.2326491286126, 2277.005240833785, 2205.601468268906, 1992.5740916749885, 1932.8880477304938, 1881.708464575774, 1881.0743913757642, 1780.4149522399168, 1761.161715714609, 1675.3565391670998, 1655.224858879539, 1652.6515244810332, 1604.285267224897, 28004.07057295043, 2627.9753748502403, 18637.12191618598, 22809.18026911378, 9561.666153265456, 94118.58631570019, 18662.433536830846, 25054.085068203676, 41896.601954580874, 26035.126879130923, 7164.448570871954, 3236.1869538535598, 11017.031483381064, 16084.460977884359, 14611.363561697384, 16257.755676593657, 8774.259140255883, 12158.811785949725, 20462.384134663476, 14829.903013174246, 6967.782568167222, 5757.694417198281, 15458.366498592799, 6463.355047751013, 11582.669390189025, 9224.15982430049, 13984.505710775924, 7642.167466075757, 9618.182964965463, 8218.81553706901, 7738.715153969637, 33944.71720501021, 24904.622340294343, 10994.918556003944, 10057.12826544941, 9686.84750648622, 9467.540416952885, 9277.562548556043, 7394.598878888867, 6821.861419637626, 6661.106391191956, 5978.792646508879, 5707.368189139758, 5250.988195701892, 5053.613863528799, 4855.736859441853, 4780.969334720583, 4649.985940885519, 4555.19793751413, 4441.545767067119, 4427.335735476856, 4319.628300511396, 4297.083156520069, 4125.006849989332, 3858.2665422287887, 3752.1499710290714, 3682.483093150974, 3420.828060153521, 3346.3296559926434, 3319.817670577819, 3198.576468834091, 10073.481450220424, 47209.388543528075, 4364.752932079122, 6342.767566777432, 8086.899063435366, 9331.790529272223, 6555.126965644468, 265752.58555862965, 42052.42810512445, 27457.15194993453, 14131.697363950485, 12240.239713430197, 10518.048261732267, 9616.234198265172, 7479.175072259131, 6826.571142324074, 6737.481847808331, 6486.643023364118, 3980.4267127335174, 3596.672896218365, 3379.840747301542, 3326.543298376775, 3305.730261218637, 3156.8921281623657, 2972.154396613486, 2841.9677424612073, 2719.5982694936292, 2686.40049647692, 2563.4484407223645, 22059.047705582725, 2438.3320804369782, 2273.4931995171187, 2246.227957148001, 2193.5726223617316, 2172.665839231183, 2025.0539977941883, 1918.5529642623173, 6621.986459854299, 3100.656710739425, 14987.754358584796, 5185.597531046218, 30994.603634975527, 8438.208048708255, 11346.446493299842, 13904.720760632828, 15082.91680346201, 3557.5026050875244, 8560.671107948312, 10122.517113176305, 6010.550084227242, 7443.88360885503, 6182.548627369727, 5882.507149001637, 4495.944689078233, 5183.161179279644, 3968.0267956540147, 45187.28350266132, 28175.13842247599, 17528.083479924902, 16125.647901043714, 14463.968231661644, 9229.850518483303, 8185.173886907647, 8039.17937833896, 6919.72562101942, 6761.055849981976, 5875.939564751388, 5416.530125418609, 5334.354467033103, 4853.311518000547, 4613.915823220379, 4515.510472837285, 4422.97995516153, 4393.186963425496, 4075.6176472227553, 4068.4479924397615, 3918.1308252285767, 3888.2141439268034, 3497.1783744035247, 3550.3589924640546, 3051.684021156316, 3009.183804537687, 2917.031161486219, 2809.322526910046, 2760.5473381198576, 2734.1488227692803, 7665.489671298504, 11271.26109932894, 15348.475350035462, 6529.211164052825, 8720.738654780618, 6930.466248030066, 20466.477430517432, 17051.155129255927, 27222.843983337363, 11672.53467909068, 10344.227714363335, 10598.238083038012, 8246.14371899372, 10318.212951653019, 4797.162149777905, 6399.353425459371, 5637.798118704619, 51897.65402296468, 12651.087108154801, 10591.291442317859, 35065.64504449677, 7528.6032469190895, 5988.240188142886, 5963.875899664834, 5762.765939139058, 5594.823896002016, 5378.29317936005, 5199.084705875093, 5151.781933781796, 5039.149793614759, 4970.550758711532, 4895.018048712932, 4563.735835561963, 4548.35179704041, 4300.9553343067755, 4220.361020909029, 4074.124888008891, 3998.3093309093333, 3926.8534369329427, 3889.1115492540603, 3848.6731814200757, 3820.158511291556, 3816.948146835055, 3749.8772144366085, 3725.868671609507, 4218.7265999410465, 3458.36025191788, 5921.214772218134, 29495.175855129517, 13317.125304700849, 7325.953660420134, 4606.1119166640265, 5773.8177561431585, 5130.733852373583, 4000.418265911553, 73632.84927236372, 29307.88198448377, 28890.82616784607, 25627.665214991204, 21524.886569341103, 18882.696849516098, 15728.561844354514, 14490.05521244866, 12878.996463439093, 12633.023442752741, 10707.528501130415, 9649.475410601732, 8167.978935909355, 7972.234187703401, 7225.48048007675, 6951.056373223551, 6298.086137242527, 5554.145060464722, 5379.6497299286375, 5218.444221893849, 4526.071097662929, 4041.408034486794, 3809.8828940596013, 3515.9813252766767, 3468.4419276946487, 3393.73544880869, 3337.5104364315575, 3159.58695839539, 3102.2793595271987, 2950.872521841849, 7241.512515161823, 23262.20722061151, 4549.373400357794, 65801.23425663347, 4216.130820251185, 4964.664919763596, 4053.985770823395, 6255.374080773865, 4992.9744150585275, 4060.920026750023, 87987.83195695106, 35291.573584462916, 20364.612644867786, 19725.401412617135, 14433.772145173762, 14348.849729093334, 10993.2960045665, 10673.267186919255, 10497.713772600513, 9150.605830973664, 8301.405565060757, 7595.97513174174, 7284.560275826566, 7081.335092596865, 5498.183773427176, 5365.770264663049, 4905.206005415445, 4811.025839772704, 4774.131757850606, 4508.738253302409, 4365.083708066195, 4119.16589873552, 4006.9545916059096, 3836.106063778447, 3832.9332422688603, 3503.5884491913794, 3159.962670526206, 2815.7183945255606, 2641.4967709637413, 2546.053617895265, 25549.479043623, 10459.549819271324, 13328.100552535378, 12555.694648608833, 12830.391738312372, 7673.456679916198, 18961.409989503703, 7512.724195818502, 15202.881176208406, 46746.836106872295, 15048.989735970334, 13869.790664360184, 13343.728586438818, 11751.405263208702, 9975.085877245327, 9256.138427160839, 9113.494247152783, 8039.697477071258, 7321.624813576546, 7012.480877453449, 6543.1184058847175, 6275.471026024876, 6167.467462576952, 5454.730668398726, 5363.814461295473, 5341.224186459464, 4324.813611436473, 4154.960623240543, 3958.5156975909076, 3839.1803079169918, 3801.385627233188, 5857.042387034895, 3784.8541245778906, 3650.7983447703264, 3622.3131007446036, 3470.276811538172, 3322.6149516493947, 3239.9972226195996, 3230.8509032510597, 3516.351866791243, 15645.07627984668, 3946.902532820203, 5106.81088718546, 3814.694427205176, 4066.8088938073897, 43679.294333770595, 34316.32167866955, 15902.391319983024, 14925.022228125445, 11771.693372400385, 10731.415381437699, 10232.463460743591, 9168.714339995919, 7604.170168900048, 7004.598151403154, 6164.290210975994, 6053.846534824151, 5636.873995848376, 5176.30837693061, 4811.630494152737, 4650.992297450038, 4569.982990820232, 4563.5293386856465, 4403.501098314148, 4187.394390476514, 4140.001452057462, 4095.6671748784674, 28105.03791390446, 3991.2074307641496, 3929.512373690333, 3485.5046999276396, 3388.1347860479405, 3265.117123055244, 3004.42663304793, 2868.5147028358315, 8098.110592611121, 20910.87485186991, 9361.63452155996, 20643.517613998098, 21250.899515897378, 11528.842410518799, 11031.874304444691, 5838.018401122817, 13669.835324984735, 7879.52645004206, 7624.564037351172, 7447.359021030878, 7203.485274760782, 6497.639520276755, 6186.320459332092, 5135.3203098116555, 4769.8553925264705, 4452.242744252937, 4364.130610313235, 4132.4199118526185, 4127.405442900593, 3725.2643754942933, 3650.639574464431, 3586.6479239754735, 3374.2064114502678, 3299.5586479744557, 3108.0481930817477, 3041.942515378858, 2979.971335178448, 2939.807174488205, 2939.1402856768436, 2717.7885133484806, 2704.4377828365386, 2693.9114415535287, 2666.1446527401154, 2545.7589380886943, 2477.8190946864224, 2434.8193475487788, 21617.13102876022, 4807.011291791106, 4486.302301705878, 3250.5853126285638, 16695.651754862032, 14938.220509947261, 9297.091965269243, 30446.669807755126, 6212.412032324304, 5635.888857505315, 5479.191494901351, 5474.3935988410585, 4786.574038956994, 5433.18010352395, 4175.769036041733, 3781.9934780603185, 3515.55357392829, 2762.9618599298346, 2752.749231088584, 2698.8420157980304, 2662.6939785924105, 2302.5613415126472, 2247.802404724453, 2212.6927894412106, 2139.194006641787, 2090.0877879381956, 1925.9852915017855, 1880.3259427922396, 1805.095400456387, 1771.72979828235, 1762.8641677063445, 1704.3647308625798, 1693.479362459977, 1647.870815978708, 7927.12943808152, 8228.0931872812, 4373.674625684684, 7140.777342581197, 5509.877796035932, 2072.3162329326838, 6976.910436284811, 4892.727111493194, 2817.916345796245, 2518.708051689015, 2208.3214463894515, 2252.990201252891, 21251.975023299754, 13606.374484143847, 12369.859650155833, 9347.209427199297, 8391.454155717493, 8307.216021561499, 8256.331556908654, 8196.63197805712, 7656.1674548468245, 7312.172197582299, 7124.859421930501, 6491.054162787127, 6422.869454234191, 6172.1926560295615, 5356.047380313156, 4893.308242019465, 4819.917429361024, 4502.750326226789, 4341.9847648880805, 4311.937653176293, 4301.909767801131, 4159.292670463657, 4078.670430042694, 3874.7520446351573, 3843.0701202346795, 3769.518896534423, 3756.736492225088, 3667.3963419961547, 3613.155074520788, 3555.442335456269, 7217.715250814869, 27858.573516930228, 12709.729535284427, 9216.975418234397, 6171.561698792969, 7529.743308875489, 6264.073442284728, 12184.587671520752, 5080.049457538127, 4539.901694036415, 35372.87949364287, 13774.6401288512, 12961.596634753345, 9836.477060678857, 9258.45587546957, 8620.101531151831, 7325.626971265609, 6631.81377195336, 5544.009527832977, 5083.659503097274, 4787.89202193604, 4350.385848652268, 4243.5026660721, 3764.2757559943257, 3514.6519415615603, 3384.41159035773, 3319.79075532774, 3270.6222210697706, 3228.8806143014035, 3226.1623277842536, 3230.59602710011, 3167.6234868560373, 3085.9620457267374, 3058.7222171880626, 3035.983300543747, 2973.836912471193, 2969.152933551073, 2961.1930321858667, 2934.4465731136493, 2885.650261444074, 60182.073296649454, 3682.6010460967104, 3484.867038756507, 11227.590668886827, 11027.593699682358, 6576.560846481599, 13889.003905994578, 4927.216063570898, 45721.541201985805, 31924.08803489447, 25185.130867854536, 19117.787614566456, 18796.84611500962, 13481.668369097566, 10512.939440102808, 9198.642449771363, 8841.311412184927, 8513.751151640552, 7124.276337887694, 6457.2879618016095, 5932.354187385324, 5711.445588661346, 5577.482089425179, 5419.925394118459, 5166.397717571367, 5099.277964373991, 4813.589264022967, 4772.963702573181, 4195.759201236897, 4031.0314981446, 3868.73621222892, 3615.2477772077536, 3516.472409763206, 3420.5810708266117, 3383.2321925533747, 3013.2662883901658, 2974.3901199819593, 2947.525068268635, 5476.459536482728, 4963.682023448985, 7973.002024153404, 5657.312824810439, 45615.582477889955, 16868.22978627432, 14695.593483817189, 13922.476875175164, 12764.515891639996, 10435.24696148579, 9715.347031896721, 8955.16639028772, 7366.757159687762, 6971.352482225046, 6511.538255520151, 6483.775552152767, 6284.553184362538, 6134.763928414788, 5615.02114092069, 5490.602259310425, 5318.588279963267, 4996.017696064845, 4745.6988952133, 4628.8112215541305, 4647.024335868988, 4347.488815973484, 4240.75163218602, 4238.00661389294, 4155.475050977967, 4120.635501008458, 4066.9473413265505, 4026.1436565077283, 3878.6316345441596, 3839.7237963975176, 4606.791608827767, 5033.475166836299, 4085.1585799513628, 56442.53718088881, 44671.25718659985, 25971.097925966806, 17874.510054407536, 16944.985109761958, 14775.37474571062, 9964.751003450836, 9197.618094943457, 5964.6521980339, 4928.891959783996, 4502.084923867202, 4081.324838071721, 3905.2327042705947, 3872.43166717913, 3826.512022230665, 3749.4587696457015, 3448.332698048122, 3446.8868862368527, 3046.4033123097356, 3044.4873138471185, 2944.550793550429, 2766.0164922131594, 2687.8280319877326, 2684.389990753643, 2627.096428703505, 2460.5696907290276, 2303.610240714053, 2148.0267767142523, 1980.2821018586992, 1976.459394917372, 22287.71025194528, 2889.934054366927, 5351.476448568525, 17405.357504598658, 7853.717312884456, 6090.5720349334215, 3387.7467695697633, 10233.050712302354, 4291.57090201516, 3185.5235397291362, 28629.664729205357, 22748.251907034453, 20796.32450706138, 14218.720702857734, 11336.268359964984, 11292.493334425373, 10452.005831718261, 8734.169652899847, 8129.5161866309, 8074.107717404064, 6966.789353333849, 6839.680845874689, 6476.29769920979, 5205.444715464994, 4753.700715248403, 4623.551415151763, 4466.212340021445, 4344.67908925997, 4256.30992904991, 4116.895101126199, 4057.636988558794, 3818.057726782566, 3768.985038373639, 3488.9394408409353, 3444.8179623013625, 3323.534904005962, 3243.763925932227, 3220.028296245014, 3130.446842110644, 3044.567771695237, 3938.638070462039, 4205.428170601703, 21240.206942954483, 20099.990189331045, 15867.333400231615, 15855.987644066505, 15107.486699356443, 10693.62769386403, 9412.838086818234, 9364.900333049512, 9118.695076215106, 8492.739553815722, 8313.505694937827, 8267.44167905699, 6390.537508006378, 5689.759381962881, 5580.94965917862, 5564.671558899934, 5494.901328200636, 5289.747093639384, 5287.328430493369, 5163.272613535201, 5102.747391613097, 4970.961004035118, 4751.846249435272, 4750.124356369154, 4706.229804232998, 4247.971682536093, 3990.2132995945526, 3744.208461050585, 3743.6096064833337, 3646.904537909274, 4928.069584591968, 7834.268969907747, 5550.020042520466, 4481.94540809315, 28044.92352035509, 23818.603727747446, 17935.70939276915, 12618.036832815867, 11257.561261575325, 10626.467680356807, 9518.090042420139, 8898.621340954624, 8652.859307378496, 8029.49895342255, 7967.5868033581455, 7625.298433494374, 7359.805753971241, 6143.834816243863, 7389.872642719923, 5681.156683305438, 5314.595885683566, 5022.779814800382, 5018.797544617331, 4544.116507759824, 9837.883574188096, 3986.647288961141, 3954.946336905033, 3942.844827279398, 3617.765748672031, 3317.2965674798, 3303.6472108425937, 3291.0002037278705, 3267.414076926848, 3237.2080611875126, 4062.3463743422144], \"Term\": [\"time\", \"great\", \"pizza\", \"wait\", \"burger\", \"service\", \"chicken\", \"love\", \"sandwich\", \"lunch\", \"fry\", \"location\", \"menu\", \"drink\", \"salad\", \"bar\", \"order\", \"dish\", \"'s\", \"beer\", \"sushi\", \"steak\", \"table\", \"$\", \"price\", \"buffet\", \"vegas\", \"breakfast\", \"amazing\", \"restaurant\", \"brio\", \"disappear\", \"silverware\", \"apologetic\", \"cancel\", \"decline\", \"driver\", \"flag_down\", \"politely\", \"busser\", \"runner\", \"pizza_hut\", \"rudely\", \"remake\", \"embarrassed\", \"escort\", \"incorrect\", \"7:30\", \"bachelorette_party\", \"communicate\", \"20%\", \"sun_dry_tomato\", \"frustrated\", \"notify\", \"resolve\", \"1.5_hour\", \"30min\", \"fifteen_minute\", \"9:30\", \"chicken_marsala\", \"flag\", \"apologize\", \"hostess\", \"refill\", \"ask\", \"waitress\", \"minute_later\", \"waiter\", \"bill\", \"server\", \"explanation\", \"bring\", \"delay\", \"promptly\", \"manager\", \"table\", \"water\", \"inform\", \"check\", \"comp\", \"arrive\", \"receive\", \"tell\", \"order\", \"come\", \"finally\", \"drink\", \"immediately\", \"seat\", \"leave\", \"sit\", \"greet\", \"want\", \"service\", \"plate\", \"decide\", \"friend\", \"meal\", \"time\", \"restaurant\", \"wait\", \"know\", \"experience\", \"menu\", \"strawberry\", \"cheesecake\", \"truffle\", \"banana\", \"goat_cheese\", \"gnocchi\", \"tart\", \"caramel\", \"bread_pudding\", \"sweetness\", \"bone_marrow\", \"heavenly\", \"whip_cream\", \"raspberry\", \"chocolate_cake\", \"flaky\", \"beet\", \"decadent\", \"peanut_butter\", \"escargot\", \"berry\", \"macaron\", \"brie\", \"polenta\", \"aioli\", \"chive\", \"french_laundry\", \"save_room\", \"pear\", \"sourdough\", \"foie_gra\", \"buttery\", \"creamy\", \"rich\", \"savory\", \"roasted\", \"ribeye\", \"drizzle\", \"balance\", \"texture\", \"perfectly\", \"dessert\", \"melt\", \"chocolate\", \"butter\", \"cream\", \"sweet\", \"flavor\", \"light\", \"mouth\", \"perfect\", \"bread\", \"delicious\", \"mushroom\", \"soft\", \"sauce\", \"bite\", \"share\", \"start\", \"taste\", \"dish\", \"meal\", \"cake\", \"serve\", \"cheese\", \"order\", \"bit\", \"like\", \"try\", \"little\", \"come\", \"nice\", \"amazing\", \"fresh\", \"love\", \"definitely\", \"salad\", \"great\", \"dog\", \"hot_dog\", \"ta\", \"chelsea_'s\", \"grow_up\", \"lola\", \"tempe\", \"earth\", \"=)\", \"a+\", \"darn\", \"dang\", \"freakin\", \"blues\", \"marshmallow\", \"mexico\", \"los_angeles\", \"health\", \"caesars\", \"dancing\", \"tune\", \"joy\", \"salsas\", \"benihana\", \"tacky\", \"tripe\", \"grateful\", \"costco\", \"wow_factor\", \"solo\", \"shall\", \"damn\", \"god\", \"secret\", \"lol\", \"yelp\", \"wanna\", \"yeah\", \"sooo\", \"yes\", \"oh\", \"know\", \"gon_na\", \"everyday\", \"review\", \"life\", \"read\", \"let\", \"like\", \"think\", \"eat\", \"vegas\", \"thing\", \"want\", \"mean\", \"seriously\", \"try\", \"'s\", \"stuff\", \"look\", \"feel\", \"way\", \"find\", \"right\", \"decide\", \"friend\", \"sure\", \"day\", \"come\", \"love\", \"people\", \"actually\", \"time\", \"maybe\", \"taste\", \"little\", \"average\", \"lago\", \"above_average\", \"echo_rig\", \"fajita\", \"grand_lux_cafe\", \"3.5\", \"filipino\", \"timely_manner\", \"iced_coffee\", \"food-\", \"freaking\", \"bay_area\", \"strongly_recommend\", \"cent\", \"karaage\", \"$_7.77\", \"prob\", \"ashamed\", \"ny_style_pizza\", \"slack\", \"high_class\", \"tk\", \"service-\", \"overcharge\", \"walking\", \"tivoli\", \"robert\", \"mirage\", \"college_student\", \"meh\", \"pricy\", \"pricey\", \"high\", \"decent\", \"expensive\", \"price\", \"underwhelming\", \"fair\", \"pretty\", \"expect\", \"quality\", \"ok\", \"overall\", \"bit\", \"okay\", \"overpriced\", \"alright\", \"compare\", \"little\", \"cheap\", \"reasonable\", \"think\", \"portion\", \"probably\", \"worth\", \"small\", \"like\", \"consider\", \"taste\", \"bad\", \"service\", \"nice\", \"restaurant\", \"lot\", \"try\", \"great\", \"pay\", \"thing\", \"come\", \"definitely\", \"lobster_tail\", \"culinary\", \"entertainment\", \"hospitality\", \"minimum\", \"45_min\", \"gracious\", \"absolute_favorite\", \"upon_arrival\", \"ethiopian\", \"sunset\", \"timely\", \"pei_wei\", \"formal\", \"substitution\", \"brian\", \"criticism\", \"tao\", \"dim_lighting\", \"perspective\", \"intrusive\", \"interior_design\", \"short_rib_hash\", \"attire\", \"courtesy\", \"joe_'s\", \"black_cod\", \"twenty_minute\", \"patronize\", \"graciously\", \"warrant\", \"professional\", \"detail\", \"colleague\", \"dining_experience\", \"din\", \"foodie\", \"preparation\", \"fine_dining\", \"chef\", \"highly\", \"impeccable\", \"ensure\", \"truly\", \"experience\", \"restaurant\", \"memorable\", \"present\", \"certainly\", \"event\", \"visit\", \"guest\", \"course\", \"establishment\", \"meal\", \"prepare\", \"provide\", \"'s\", \"menu\", \"dish\", \"dining\", \"wife\", \"review\", \"enjoy\", \"evening\", \"excellent\", \"dinner\", \"serve\", \"family\", \"high\", \"service\", \"quality\", \"group\", \"find\", \"staff\", \"return\", \"kitchen\", \"time\", \"offer\", \"know\", \"server\", \"special\", \"store\", \"phone\", \"employee\", \"15_min\", \"devil_egg\", \"bug\", \"mgm\", \"property\", \"panda_express\", \"hello\", \"catering\", \"lock\", \"cashier\", \"lesson\", \"race\", \"gosh\", \"google\", \"fox\", \"ad\", \"speaker\", \"professionalism\", \"apartment\", \"stall\", \"goodbye\", \"camelback\", \"pissed\", \"hahaha\", \"proof\", \"carpet\", \"human\", \"response\", \"register\", \"worker\", \"drive_thru\", \"counter\", \"lady\", \"woman\", \"restroom\", \"guy\", \"hire\", \"customer\", \"answer\", \"smile\", \"business\", \"bag\", \"owner\", \"work\", \"girl\", \"tell\", \"rude\", \"hand\", \"manager\", \"door\", \"walk\", \"ask\", \"talk\", \"help\", \"know\", \"people\", \"order\", \"pick\", \"want\", \"way\", \"staff\", \"like\", \"pay\", \"look\", \"time\", \"need\", \"bobby_flay\", \"matt\", \"vibes\", \"10/10\", \"pork_loin\", \"ashley\", \"delicous\", \"7/10\", \"attack\", \"definite_must\", \"salsa_verde\", \"tim\", \"5_stars\", \"relaxing\", \"scottsdale_quarter\", \"jay\", \"linda\", \"ruth_'s\", \"jen\", \"heather\", \"grand_canyon\", \"bowling\", \"goer\", \"unwind\", \"lookout\", \"roberto\", \"jordan\", \"ny_strip_steak\", \"involved\", \"madeira\", \"friendly\", \"helpful\", \"highly_recommend\", \"personable\", \"excellent\", \"great\", \"attentive\", \"staff\", \"accommodating\", \"chris\", \"atmosphere\", \"welcoming\", \"service\", \"awesome\", \"fantastic\", \"amazing\", \"knowledgeable\", \"prompt\", \"wonderful\", \"outstanding\", \"super\", \"delicious\", \"definitely\", \"top_notch\", \"recommend\", \"nice\", \"clean\", \"fast\", \"server\", \"love\", \"experience\", \"price\", \"reasonable\", \"thank\", \"welcome\", \"fresh\", \"come\", \"perfect\", \"restaurant\", \"time\", \"try\", \"wall\", \"nachos\", \"hole\", \"wood\", \"ceiling\", \"space\", \"stage\", \"church\", \"cramped\", \"unpleasant\", \"butcher_shop\", \"boot\", \"john\", \"high_ceiling\", \"metal\", \"wedge_salad\", \"inviting\", \"spotty\", \"furniture\", \"roof\", \"painting\", \"spirit\", \"stool\", \"wooden\", \"ac\", \"industrial\", \"boston\", \"sparse\", \"jus\", \"stranger\", \"spacious\", \"chair\", \"building\", \"layout\", \"design\", \"seating\", \"inside\", \"outside\", \"decorate\", \"entrance\", \"interior\", \"booth\", \"modern\", \"window\", \"area\", \"locate\", \"bright\", \"dining\", \"comfortable\", \"decor\", \"lighting\", \"table\", \"corner\", \"clean\", \"nice\", \"sit\", \"look\", \"small\", \"floor\", \"feel\", \"walk\", \"little\", \"restaurant\", \"open\", \"large\", \"like\", \"find\", \"bit\", \"seat\", \"lot\", \"right\", \"friendly\", \"big\", \"terrible\", \"horrible\", \"management\", \"awful\", \"disgusting\", \"worst\", \"20_min\", \"inedible\", \"min\", \"poorly\", \"poisoning\", \"filthy\", \"unfriendly\", \"waste\", \"frustrating\", \"badly\", \"zero_star\", \"lousy\", \"horrendous\", \"bus_boy\", \"general_manager\", \"nightmare\", \"towel\", \"nightclub\", \"internet\", \"umi\", \"sparkle\", \"disgusted\", \"experienced\", \"pale\", \"gross\", \"sick\", \"dirty\", \"microwave\", \"yuck\", \"tasteless\", \"stale\", \"poor\", \"bad\", \"suck\", \"edible\", \"flavorless\", \"cold\", \"burn\", \"mediocre\", \"money\", \"crappy\", \"mess\", \"bland\", \"disappointing\", \"dry\", \"service\", \"taste\", \"disappointed\", \"eat\", \"star\", \"like\", \"experience\", \"throw\", \"review\", \"slow\", \"order\", \"time\", \"cook\", \"leave\", \"restaurant\", \"look\", \"ok\", \"serve\", \"way\", \"come\", \"hand_down\", \"gluten_free\", \"oregano_'s\", \"garlic_knot\", \"wide_selection\", \"niece\", \"pot_roast\", \"gluten\", \"nephew\", \"lou_malnati_'s\", \"carne_asada_burrito\", \"antipasto\", \"tastey\", \"soft_opening\", \"live_closer\", \"tomato_basil\", \"outgoing\", \"frog_leg\", \"stephanie\", \"richmond_hill\", \"celiac\", \"scampi\", \"stomach_ache\", \"contest\", \"creme_brule\", \"barro_'s\", \"cave_creek\", \"parma\", \"baked_ziti\", \"lauren\", \"favorite\", \"charlotte\", \"love\", \"family\", \"fav\", \"husband\", \"daughter\", \"son\", \"delish\", \"amazing\", \"hubby\", \"fabulous\", \"town\", \"omg\", \"absolutely\", \"gf\", \"new\", \"soooo\", \"try\", \"delicious\", \"best\", \"yum\", \"live\", \"yummy\", \"kid\", \"definitely\", \"disappoint\", \"great\", \"awesome\", \"eat\", \"time\", \"far\", \"year\", \"visit\", \"come\", \"restaurant\", \"find\", \"home\", \"spot\", \"friend\", \"recommend\", \"menu\", \"30_min\", \"concert\", \"staff_member\", \"ten_minute\", \"faster\", \"starbucks\", \"sunday_afternoon\", \"eye_contact\", \"bubble_tea\", \"understandable\", \"dimsum\", \"oakland\", \"diet_coke\", \"11:30\", \"15_minute_later\", \"steve\", \"halfway\", \"around_noon\", \"patiently\", \"chaotic\", \"converse\", \"pile_high\", \"25_min\", \"hotcake\", \"pdq\", \"cockroach\", \"awkwardly\", \"nothing_extraordinary\", \"wynn_buffet\", \"chaos\", \"wait\", \"call_ahead\", \"line\", \"hour\", \"waiting\", \"7_pm\", \"45_minute\", \"long\", \"30_minute\", \"peak\", \"seat\", \"minute\", \"15_minute\", \"8_pm\", \"reservation\", \"early\", \"20_minute\", \"ready\", \"busy\", \"text\", \"arrive\", \"10_minute\", \"40_minute\", \"pm\", \"table\", \"people\", \"worth\", \"time\", \"ahead\", \"open\", \"order\", \"5\", \"pack\", \"stand\", \"sit\", \"party\", \"come\", \"2\", \"quickly\", \"finally\", \"half\", \"right\", \"try\", \"group\", \"pretty\", \"3\", \"bartender\", \"music\", \"loud\", \"lounge\", \"dance\", \"band\", \"song\", \"dj\", \"toby_keith\", \"volume\", \"martinis\", \"hangout\", \"dance_floor\", \"milk_tea\", \"kevin\", \"dive_bar\", \"downstair\", \"belly_dancer\", \"dress_code\", \"tapa\", \"alex\", \"foam\", \"tuesdays\", \"dancer\", \"fremont\", \"bro\", \"jazz\", \"belly_dance\", \"monti_'s\", \"spinach_artichoke_dip\", \"liquor\", \"whiskey\", \"bar\", \"live_music\", \"happy_hour\", \"hip\", \"drink\", \"fun\", \"cocktail\", \"chill\", \"drinking\", \"club\", \"cool\", \"hang\", \"play\", \"vibe\", \"night\", \"crowd\", \"friend\", \"alcohol\", \"sit\", \"great\", \"atmosphere\", \"trendy\", \"group\", \"pretty\", \"conversation\", \"patio\", \"people\", \"enjoy\", \"nice\", \"spot\", \"like\", \"area\", \"special\", \"awesome\", \"come\", \"thai\", \"curry\", \"korean\", \"pad_thai\", \"fusion\", \"korean_bbq\", \"stew\", \"green_curry\", \"hot_pot\", \"bulgogi\", \"spiciness\", \"baklava\", \"sour_soup\", \"spice_level\", \"lentil\", \"yellow_curry\", \"persian\", \"kalbi\", \"mississauga\", \"matcha\", \"peking_duck\", \"crab_rangoon\", \"cashew\", \"chili_oil\", \"sushi_fever\", \"eggroll\", \"free_wifi\", \"tiger_shrimp\", \"thai_iced_tea\", \"caribbean\", \"spicy\", \"brown_rice\", \"spice\", \"tofu\", \"peanut\", \"rice\", \"dish\", \"eggplant\", \"vegetable\", \"chicken\", \"sauce\", \"chili\", \"beef\", \"hot\", \"mild\", \"order\", \"sweet\", \"heat\", \"fried_rice\", \"authentic\", \"flavor\", \"try\", \"red\", \"veggie\", \"restaurant\", \"taste\", \"like\", \"come\", \"flavour\", \"delicious\", \"cook\", \"definitely\", \"serve\", \"eat\", \"bbq\", \"wing\", \"rib\", \"brisket\", \"pull_pork\", \"mac_n_cheese\", \"cornbread\", \"coleslaw\", \"buffalo\", \"skewer\", \"macaroni\", \"barbecue\", \"cole_slaw\", \"ribs\", \"waffles\", \"hush_puppy\", \"okra\", \"peach_cobbler\", \"southwestern\", \"kfc\", \"breast\", \"collard_green\", \"remodel\", \"thigh\", \"souvlaki\", \"slather\", \"tartar_sauce\", \"brine\", \"chimichurri\", \"celery\", \"texas\", \"smoked\", \"smoke\", \"chicken\", \"pasty\", \"fried\", \"chicken_breast\", \"finger\", \"meat\", \"dry\", \"sauce\", \"tender\", \"mac\", \"moist\", \"skin\", \"fry\", \"juicy\", \"crispy\", \"flavor\", \"order\", \"seasoning\", \"hot\", \"pork\", \"potato\", \"taste\", \"like\", \"piece\", \"cheese\", \"try\", \"cook\", \"come\", \"little\", \"grill\", \"eat\", \"dollar\", \"tax\", \"deep_dish\", \"bacchanal\", \"$_13\", \"$_18\", \"guu\", \"$_17\", \"bahn_mi\", \"taco_bell\", \"b_c\", \"linguine\", \"error\", \"bake_potato\", \"pathetic\", \"$_19\", \"0\", \"cat\", \"grill_octopus\", \"questionable\", \"sever\", \"jean\", \"outback\", \"shove\", \"hanger_steak\", \"impatient\", \"idk\", \"title\", \"50%\", \"grace\", \"$\", \"+\", \"12\", \"1\", \"10\", \"7\", \"6\", \"2\", \"4\", \"8\", \"5\", \"$_20\", \"buck\", \"3\", \"charge\", \"$_14\", \"cost\", \"$_9\", \"tip\", \"$_30\", \"$_15\", \"total\", \"star\", \"11\", \"$_50\", \"pay\", \"extra\", \"price\", \"spend\", \"deal\", \"small\", \"include\", \"drink\", \"worth\", \"people\", \"cheap\", \"lunch\", \"hummus\", \"greek\", \"gyro\", \"pita\", \"mediterranean\", \"orange_juice\", \"middle_eastern\", \"satay\", \"tom\", \"cuban\", \"chocolate_cover_strawberry\", \"favs\", \"torta\", \"hometown\", \"mama_ricotta_'s\", \"linq\", \"thumb_up\", \"restuarant\", \"spam\", \"nana\", \"alike\", \"$_1.99\", \"bodega\", \"aladdin_'s\", \"kbbq\", \"gift_shop\", \"tzatziki_sauce\", \"red_oak\", \"nowadays\", \"chandler\", \"coworker\", \"quick\", \"late_night\", \"co_worker\", \"portion\", \"feta\", \"affordable\", \"lunchtime\", \"office\", \"salad\", \"reasonably_price\", \"today\", \"snack\", \"grab\", \"special\", \"huge\", \"generous\", \"dinner\", \"stop\", \"fast\", \"chicken\", \"tasty\", \"fresh\", \"meal\", \"large\", \"combo\", \"spot\", \"great\", \"delicious\", \"day\", \"eat\", \"price\", \"plate\", \"order\", \"come\", \"small\", \"big\", \"definitely\", \"nice\", \"shawarma\", \"falafel\", \"cousin\", \"definately\", \"inattentive\", \"factory\", \"branch\", \"hashbrown\", \"bottomless\", \"weeknight\", \"somebody\", \"interaction\", \"stress\", \"master\", \"humor\", \"rotisserie_chicken\", \"downright\", \"descent\", \"path\", \"nestle\", \"turkey_club\", \"condition\", \"5th\", \"someday\", \"circus_circus\", \"october\", \"role\", \"corned_beef\", \"lentil_soup\", \"rob\", \"1st\", \"2nd\", \"twice\", \"slow\", \"time\", \"second\", \"3rd\", \"visit\", \"usually\", \"busy\", \"consistently\", \"month\", \"week\", \"occasion\", \"miss\", \"couple\", \"past\", \"every_single\", \"hit\", \"service\", \"courteous\", \"year\", \"day\", \"long\", \"haven't\", \"multiple\", \"come\", \"pretty\", \"remember\", \"thing\", \"try\", \"eat\", \"like\", \"friendly\", \"work\", \"bad\", \"sure\", \"think\", \"little\", \"order\", \"noodle\", \"pho\", \"raman\", \"broth\", \"ramen\", \"spring_roll\", \"vietnamese\", \"dim_sum\", \"dumpling\", \"wonton\", \"chinatown\", \"pot_sticker\", \"potsticker\", \"da_vang\", \"msg\", \"congee\", \"vermicelli\", \"china\", \"bobby\", \"chow_mein\", \"oxtail\", \"lo_mein\", \"mongolian_beef\", \"pad_see_ew\", \"jinya\", \"chashu\", \"viet\", \"pho_kim_long\", \"cherryblossom\", \"soupy\", \"chinese\", \"soup\", \"pork\", \"french_onion\", \"bowl\", \"fried_rice\", \"beef\", \"sesame\", \"bean_sprout\", \"egg\", \"steam\", \"pork_belly\", \"asian\", \"broccoli\", \"salty\", \"shrimp\", \"rice\", \"roll\", \"order\", \"thick\", \"dish\", \"come\", \"meat\", \"taste\", \"restaurant\", \"like\", \"chicken\", \"try\", \"sandwich\", \"spaghetti\", \"deli\", \"roast_beef\", \"meatloaf\", \"alfredo\", \"panini\", \"crouton\", \"loaf\", \"reuben\", \"chicken_parm\", \"olive_garden\", \"sandwhich\", \"summerlin\", \"busboy\", \"ur\", \"manhattan\", \"yum_yum\", \"culver_'s\", \"rigatoni\", \"saffron\", \"feta_cheese\", \"samy\", \"jumbo\", \"program\", \"diablo\", \"iceberg\", \"$_6.50\", \"disco\", \"texas_toast\", \"dressing\", \"meatball\", \"full_montagu\", \"salad\", \"philly\", \"bread\", \"lettuce\", \"turkey\", \"tomato\", \"cheese\", \"mac\", \"caesar_salad\", \"pesto\", \"italian\", \"soup\", \"grill\", \"pasta\", \"chop\", \"mustard\", \"meat\", \"dress\", \"avocado\", \"onion\", \"fresh\", \"order\", \"slice\", \"half\", \"toast\", \"like\", \"hot\", \"'s\", \"chip\", \"mexican\", \"tacos\", \"taco\", \"burrito\", \"salsa\", \"margarita\", \"chipotle\", \"tortilla\", \"guacamole\", \"tamale\", \"carne_asada\", \"queso\", \"chips\", \"green_chile\", \"authentic_mexican\", \"skirt_steak\", \"green_chili\", \"enchiladas\", \"horchata\", \"fuego\", \"mole\", \"chino_bandido\", \"fuego_bistro\", \"baja\", \"taiwanese\", \"al_pastor\", \"tucson\", \"europe\", \"rye_bread\", \"brazilian\", \"bean\", \"sour_cream\", \"black_bean\", \"cilantro\", \"fish\", \"corn\", \"ground_beef\", \"rice\", \"cheese\", \"pork\", \"order\", \"fresh\", \"sauce\", \"flavor\", \"chicken\", \"street\", \"red\", \"tasty\", \"like\", \"taste\", \"hot\", \"sushi\", \"japanese\", \"sashimi\", \"sake\", \"ayce\", \"tempura\", \"nigiri\", \"hibachi\", \"miso_soup\", \"teppanyaki\", \"edamame\", \"miso\", \"japan\", \"poke\", \"wasabi\", \"spicy_tuna\", \"ahi\", \"omakase\", \"california_roll\", \"uni\", \"surf\", \"turf\", \"eel\", \"kabuto\", \"bento_box\", \"yellowtail\", \"takoyaki\", \"tokyo\", \"shrimp_tempura\", \"seaweed_salad\", \"katsu\", \"roll\", \"tuna\", \"salmon\", \"fish\", \"teriyaki\", \"chef\", \"fresh\", \"rice\", \"piece\", \"order\", \"quality\", \"eat\", \"try\", \"come\", \"like\", \"taste\", \"menu\", \"special\", \"spicy\", \"favorite\", \"game\", \"venetian\", \"earl\", \"airport\", \"mesa_grill\", \"movie\", \"elevator\", \"sport\", \"tower\", \"entertain\", \"100\", \"entertaining\", \"corporate\", \"sale\", \"fuck\", \"setup\", \"gamble\", \"network\", \"sober\", \"screen\", \"uber\", \"celebrity_chef\", \"shoe\", \"70\", \"passable\", \"emeril\", \"id\", \"chose\", \"escape\", \"perform\", \"hotel\", \"school\", \"casino\", \"room\", \"pool\", \"tv\", \"stay\", \"tourist\", \"drunk\", \"kid\", \"wear\", \"watch\", \"play\", \"adult\", \"child\", \"buddy\", \"club\", \"80\", \"'s\", \"venue\", \"bed\", \"fun\", \"night\", \"day\", \"check\", \"free\", \"cheap\", \"option\", \"vegetarian\", \"enchilada\", \"condiment\", \"portobello\", \"thanksgiving\", \"cheese_curd\", \"custom\", \"chile_relleno\", \"lettuce_tomato\", \"pleasantly_surprise_by\", \"meat_eater\", \"root_beer\", \"genius\", \"carnivore\", \"honey_mustard\", \"burgers\", \"rely\", \"block_away\", \"spite\", \"hr\", \"injera\", \"haggis\", \"pulled_pork\", \"potentially\", \"consumption\", \"far_superior\", \"beau\", \"cuban_sandwich\", \"egg_benny\", \"poutine\", \"veggie\", \"specialize\", \"choose\", \"item\", \"choice\", \"wide_variety\", \"menu\", \"variety\", \"chili\", \"label\", \"limited\", \"offer\", \"veg\", \"available\", \"concept\", \"meat\", \"healthy\", \"lot\", \"different\", \"topping\", \"build\", \"unique\", \"include\", \"interesting\", \"add\", \"type\", \"plenty\", \"ingredient\", \"ton\", \"pick\", \"breakfast\", \"brunch\", \"coffee\", \"pancake\", \"french_toast\", \"hash\", \"croissant\", \"egg_benedict\", \"scramble_egg\", \"coffee_shop\", \"benedict\", \"denny_'s\", \"muffin\", \"sunday_morning\", \"schwartz_'s\", \"eggs_benedict\", \"ihop\", \"blueberry_pancake\", \"english_muffin\", \"study\", \"oatmeal\", \"cosmopolitan\", \"hollandaise_sauce\", \"barista\", \"oj\", \"eggs\", \"wifi\", \"mocha\", \"hollandaise\", \"24/7\", \"egg\", \"bakery\", \"morning\", \"pastry\", \"corn_beef\", \"bacon\", \"poached_egg\", \"toast\", \"potato\", \"sausage\", \"diner\", \"cafe\", \"jam\", \"ham\", \"cup\", \"fruit\", \"day\", \"serve\", \"weekend\", \"spot\", \"order\", \"come\", \"like\", \"home\", \"burger\", \"n\", \"shake\", \"patty\", \"slider\", \"onion_ring\", \"hamburger\", \"milkshake\", \"cheeseburger\", \"fries\", \"kobe_beef\", \"nugget\", \"overrate\", \"stack'd\", \"boo\", \"red_robin\", \"chino\", \"burgr\", \"buffalo_wing\", \"clueless\", \"vig\", \"dissatisfied\", \"ordering_process\", \"saimin\", \"gorge\", \"hero\", \"skirt\", \"=(\", \"burgatory\", \"kierland\", \"ketchup\", \"fry\", \"bun\", \"sweet_potato\", \"pickle\", \"grind\", \"juicy\", \"bacon\", \"medium\", \"cheese\", \"onion\", \"joint\", \"order\", \"greasy\", \"cook\", \"topping\", \"beef\", \"mayo\", \"grill\", \"fast\", \"crispy\", \"tasty\", \"'s\", \"like\", \"lobster\", \"calamari\", \"mussel\", \"lasagna\", \"clam\", \"tapas\", \"halibut\", \"kimchi\", \"cod\", \"sea\", \"prawn\", \"pita_bread\", \"ayce_sushi\", \"sexy\", \"crawfish\", \"pomegranate\", \"fern\", \"mousse\", \"napa\", \"aureole\", \"ph\", \"proportion\", \"braise_short_rib\", \"filler\", \"penne\", \"mound\", \"caramelize_onion\", \"tail\", \"fiesta\", \"plump\", \"clam_chowder\", \"shrimp\", \"crab\", \"crab_cake\", \"scallop\", \"grit\", \"seafood\", \"pasta\", \"rosemary\", \"octopus\", \"shell\", \"ravioli\", \"fish\", \"risotto\", \"appetizer\", \"trio\", \"entree\", \"dish\", \"cocktail\", \"salmon\", \"sauce\", \"dinner\", \"fried\", \"plate\", \"fresh\", \"cook\", \"order\", \"steak\", \"strip\", \"steakhouse\", \"filet\", \"rib_eye\", \"anniversary\", \"filet_mignon\", \"planet_hollywood\", \"delmonico\", \"craftsteak\", \"lv\", \"worth_every_penny\", \"sea_bass\", \"kobe\", \"conference\", \"sam\", \"cab\", \"mandalay_bay\", \"bellagio_fountain\", \"wagyu\", \"down_hill\", \"porterhouse\", \"new_york_strip\", \"cow\", \"ny_strip\", \"flawless\", \"morel\", \"$_70\", \"mr\", \"tartar\", \"lobster_bisque\", \"sommelier\", \"medium_rare\", \"vegas\", \"short_rib\", \"rare\", \"bone\", \"rack\", \"medium\", \"las_vegas\", \"cut\", \"cook\", \"prime\", \"trip\", \"mashed_potato\", \"dinner\", \"meat\", \"perfection\", \"wife\", \"meal\", \"asparagus\", \"casino\", \"night\", \"stay\", \"waiter\", \"house\", \"eat\", \"tender\", \"wine\", \"pittsburgh\", \"wine_list\", \"romantic\", \"intimate\", \"charming\", \"trout\", \"gorgeous\", \"lively\", \"tuck_away\", \"lou\", \"paella\", \"fireplace\", \"irish\", \"mildred_'s\", \"second_floor\", \"valentine_'s_day\", \"situate\", \"charcuterie\", \"schnitzel\", \"tom_colicchio\", \"casino_floor\", \"neglect\", \"few_month_ago\", \"resident\", \"pinot_noir\", \"quail\", \"edinburgh\", \"david\", \"arrange\", \"bistro\", \"champagne\", \"bottle\", \"date\", \"glass\", \"exceptional\", \"lovely\", \"view\", \"italian\", \"setting\", \"beautiful\", \"classy\", \"evening\", \"dinner\", \"night\", \"ambiance\", \"red\", \"selection\", \"cocktail\", \"appetizer\", \"dessert\", \"atmosphere\", \"restaurant\", \"excellent\", \"menu\", \"wonderful\", \"perfect\", \"reservation\", \"beer\", \"tap\", \"crepe\", \"weather\", \"mimosa\", \"draft\", \"pint\", \"valet\", \"craft_beer\", \"mimosas\", \"echo\", \"german\", \"kelly\", \"-the\", \"popcorn\", \"ipa\", \"mister\", \"5-star\", \"lineup\", \"ale\", \"brewery\", \"mug\", \"carving_station\", \"heater\", \"cider\", \"most_recent_visit\", \"zinc\", \"deter\", \"artichoke_dip\", \"plethora\", \"collection\", \"pub\", \"patio\", \"brew\", \"selection\", \"outdoor_patio\", \"pretzel\", \"summer\", \"sampler\", \"flight\", \"couch\", \"cleveland\", \"local\", \"bar\", \"great\", \"list\", \"cold\", \"outside\", \"nice\", \"menu\", \"enjoy\", \"sit\", \"decent\", \"pizza\", \"bouchon\", \"pepperoni\", \"thin_crust\", \"hawaiian\", \"ahi_tuna\", \"maggiano_'s\", \"butcher\", \"calzone\", \"grimaldi_'s\", \"rig\", \"pizzeria\", \"margherita_pizza\", \"pomme_frite\", \"wood_fire\", \"sicilian\", \"leek\", \"new_york_style\", \"peter\", \"breadstick\", \"$_7.50\", \"sauerkraut\", \"|\", \"participate\", \"spare_rib\", \"banana_pepper\", \"howie\", \"duck_donuts\", \"hilton\", \"ou\", \"crust\", \"dough\", \"pie\", \"chicago\", \"topping\", \"slice\", \"mozzarella\", \"marinara\", \"sausage\", \"thin\", \"cheese\", \"italian\", \"sauce\", \"prosciutto\", \"mushroom\", \"order\", \"pasta\", \"garlic\", \"ingredient\", \"fresh\", \"large\", \"tomato\", \"'s\", \"taste\", \"like\", \"groupon\", \"grease\", \"joey\", \"strike\", \"college\", \"smash\", \"bank\", \"lately\", \"garbage\", \"franchise\", \"unfortunate\", \"disgust\", \"new_orleans\", \"suffer\", \"exit\", \"tooth\", \"hilarious\", \"~\", \"flip\", \"ha\", \"skinny\", \"sloppy\", \"bucket\", \"voucher\", \"high_school\", \"fond\", \"oddly\", \"gym\", \"commercial\", \"ugly\", \"stay_away\", \"report\", \"bore\", \"hunger\", \"brand\", \"change\", \"year_ago\", \"use\", \"anymore\", \"sad\", \"year\", \"discount\", \"client\", \"longer\", \"nasty\", \"past\", \"convince\", \"new\", \"old\", \"recently\", \"company\", \"quality\", \"oil\", \"break\", \"update\", \"buffet\", \"gelato\", \"crab_leg\", \"latte\", \"goody\", \"whisky\", \"buttermilk\", \"wok\", \"angel\", \"aunt\", \"biryani\", \"winterlicious\", \"4.5\", \"truffle_oil\", \"department\", \"wings\", \"rainbow\", \"hike\", \"sugary\", \"carrot_cake\", \"include_tax\", \"chutney\", \"seal\", \"$_28\", \"mule\", \"samosa\", \"powdered_sugar\", \"bacchanal_buffet\", \"uncle\", \"que\", \"station\", \"self_serve\", \"prime_rib\", \"section\", \"per_person\", \"dessert\", \"asian\", \"variety\", \"selection\", \"seafood\", \"sugar\", \"peel\", \"desert\", \"item\", \"line\", \"plate\", \"ice_cream\", \"include\", \"dinner\", \"quality\", \"american\", \"mini\", \"fresh\", \"fruit\", \"worth\", \"offer\", \"eat\", \"free\", \"lot\", \"choice\", \"different\", \"banh_mi\", \"und\", \"da\", \"das\", \"war\", \"der\", \"mahi_mahi\", \"gut\", \"mit\", \"ist\", \"nicht\", \"bernard\", \"+_+\", \"ein\", \"den\", \"auch\", \"steaks\", \"yummm\", \"black_cherry\", \"portabello\", \"aber\", \"f\\u00fcr\", \"es\", \"carne_asada_tacos\", \"oder\", \"secluded\", \"romantic_date\", \"sind\", \"rail\", \"von\", \"al\", \"die\", \"er\", \"hi\", \"hat\", \"man\", \"restaurant\", \"location\", \"downtown\", \"scottsdale\", \"pro\", \"5/5\", \"wedding\", \"east\", \"west\", \"village\", \"itsy_bitsy\", \"exceed\", \"reception\", \"sujeo\", \"randomly\", \"vote\", \"explosion\", \"unreal\", \"quirky\", \"paul\", \"tonkotsu\", \"downtown_phoenix\", \"profiterole\", \"arizona\", \"zipps\", \"asian_cuisine\", \"barrio_queen\", \"surrounding\", \"north_scottsdale\", \"whoa\", \"lasagne\", \"henderson\", \"paradise\", \"con\", \"uptown\", \"original\", \"north\", \"valley\", \"chain\", \"new\", \"stumble_upon\", \"drive\", \"open\", \"near\", \"close\", \"live\", \"town\", \"expectation\", \"old\", \"support\", \"vegan\", \"juice\", \"watermelon\", \"sangria\", \"smoothie\", \"kale\", \"mojito\", \"knowledgable\", \"quinoa\", \"informative\", \"cappuccino\", \"drool\", \"gorgonzola\", \"bargain\", \"creme_br\\u00fbl\\u00e9e\", \"stuffy\", \"cherry_blossom\", \"tony\", \"sage\", \"blacken\", \"dear\", \"tilapia\", \"r\", \"rum\", \"red_velvet_cake\", \"white_sangria\", \"$_24\", \"pecan_pie\", \"melon\", \"sf\", \"craft\", \"protein\", \"ice\", \"diet\", \"pitcher\", \"alternative\", \"wrap\", \"healthy\", \"bowl\", \"mango\", \"refreshing\", \"fruit\", \"coconut\", \"green\", \"refresh\", \"raw\", \"mint\", \"tea\", \"cauliflower\", \"elegant\", \"duck\", \"pistachio\", \"moroccan\", \"amazed\", \"adorable\", \"windsor\", \"morels\", \"gigantic\", \"5church\", \"insanely\", \"creation\", \"france\", \"bannock\", \"amaze\", \"intend\", \"french_bistro\", \"duck_confit\", \"passion\", \"queen\", \"san\", \"wolfgang_puck\", \"beef_carpaccio\", \"french_dip\", \"sea_salt\", \"rise\", \"magic\", \"atop\", \"root\", \"french\", \"creative\", \"pot\", \"execute\", \"spectacular\", \"black\", \"cup\", \"birthday\", \"sister\", \"montreal\", \"celebrate\", \"cheesecake_factory\", \"mother\", \"brother\", \"new_york\", \"grand_lux\", \"ny\", \"law\", \"cart\", \"father\", \"daily_special\", \"kabob\", \"sing\", \"canadian\", \"afford\", \"grandma\", \"midnight\", \"san_francisco\", \"occasionally\", \"george\", \"tivoli_village\", \"reasonably\", \"venetian_hotel\", \"preserve\", \"tuck\", \"eve\", \"reward\", \"english\", \"cake\", \"canada\", \"'s\", \"candle\", \"special_occasion\", \"sirloin\", \"day\", \"party\", \"twist\", \"waffle\", \"biscuit\", \"omelette\", \"omelet\", \"hash_brown\", \"bellagio\", \"bagel\", \"sunday_brunch\", \"pastrami\", \"deville\", \"skillet\", \"fianc\\u00e9\", \"maple\", \"wynn\", \"saturday_morning\", \"tuna_melt\", \"front_desk\", \"went\", \"aria\", \"flan\", \"hash_house\", \"outlet\", \"churro\", \"lucky_enough\", \"overrated\", \"cobb_salad\", \"rye\", \"40_min\", \"carnival_world_buffet\", \"mmmmm\", \"gravy\", \"syrup\", \"ham\", \"country\", \"cream\", \"cheddar\", \"bacon\", \"fluffy\", \"cheese\", \"oyster\", \"chorizo\", \"art\", \"outdoor_seating\", \"madison\", \"garden\", \"fondue\", \"peach\", \"hh\", \"inspire\", \"kale_salad\", \"baked_potato\", \"mason_jar\", \"hub\", \"whip\", \"pretty_darn\", \"old_fashion\", \"bump\", \"prop\", \"courtyard\", \"pan_roast\", \"distract\", \"pure\", \"carnita\", \"wisconsin\", \"tenderloin\", \"terrace\", \"caliber\", \"varied\", \"entry\", \"peculiar_rabbit\", \"fountain\", \"trick\", \"five_star\", \"hasn't\", \"dozen\", \"donut\", \"toronto\", \"mall\", \"beignet\", \"yardbird\", \"flatbread\", \"paris\", \"roti\", \"farm\", \"doughnut\", \"endless\", \"ate\", \"macaroon\", \"neighbourhood\", \"thrilled\", \"extraordinary\", \"hazelnut\", \"apple_pie\", \"bday\", \"cafeteria\", \"mmmm\", \"chip_cookie\", \"cookie\", \"cupcake\", \"defiantly\", \"garlicky\", \"nicely_decorate\", \"bosa\", \"marry\", \"emeril_'s\", \"cuz\", \"favourite\", \"holiday\", \"shop\", \"chocolate\", \"city\", \"flavour\", \"milk\", \"wicked_spoon\", \"scone\", \"gumbo\", \"blast\", \"stair\", \"portuguese\", \"karaoke\", \"tot\", \"tater_tot\", \"caf\\u00e9\", \"sammy\", \"joe\", \"bird\", \"tex_mex\", \"ohio\", \"football\", \"mandarin\", \"emerald\", \"vast\", \"convention\", \"rotate\", \"dave\", \"significantly\", \"tostada\", \"vintage\", \"liberty_village\", \"shack\", \"player\", \"carve\", \"burgh\", \"cafe\", \"expand\", \"hawaii\", \"epic\", \"de\", \"le\", \"et\", \"la\", \"um\", \"en\", \"les\", \"c'est\", \"l\", \"first_timer\", \"\\u00e0\", \"du\", \"j\", \"playing\", \"est\", \"institution\", \"wifey\", \"entre\", \"extravagant\", \"qui\", \"amanda\", \"pa\", \"de_la\", \"bien\", \"ma\", \"montr\\u00e9al\", \"wake\", \"churros\", \"sont\", \"encore\", \"un\", \"y\", \"grand\", \"pour\", \"plus\", \"petite\", \"service\", \"restaurant\", \"ne\", \"menu\", \"par\", \"excellent\", \"park\", \"hair\", \"open_24_hour\", \"fool\", \"jerk_chicken\", \"jerk\", \"nutella\", \"tequila\", \"guarantee\", \"utensil\", \"unlimited\", \"insane\", \"minimal\", \"sleep\", \"unacceptable\", \"trek\", \"tree\", \"bustle\", \"tonkatsu\", \"proud\", \"rooftop\", \"sitting\", \"tortilla_chip\", \"cali\", \"sketchy\", \"munch\", \"dairy\", \"salt_cellar\", \"yup\", \"unimpressed\", \"scramble\", \"parking\", \"car\", \"parking_lot\", \"knife\", \"fork\", \"sat\", \"street\", \"plastic\", \"sooooo\", \"indian\", \"naan\", \"palazzo\", \"row\", \"pic\", \"truck\", \"yogurt\", \"island\", \"chilli\", \"pamela_'s\", \"basement\", \"bibimbap\", \"cosmo\", \"breaded\", \"habit\", \"partake\", \"india\", \"explode\", \"well_balanced\", \"11_pm\", \"under_season\", \"em\", \"halal\", \"flame\", \"fall_short\", \"garlic_naan\", \"2.5\", \"kebab\", \"underground\", \"paneer\", \"lamb\", \"esp\", \"boneless\", \"tuesday\", \"monday\", \"wednesday\", \"butter\", \"thursday\", \"mom\", \"pop\", \"consistent\", \"dad\", \"parent\", \"staple\", \"christmas\", \"dive\", \"budget\", \"careful\", \"tuesday_night\", \"jelly\", \"blue_corn\", \"flour\", \"tradition\", \"picky_eater\", \"michael\", \"chile\", \"accurate\", \"tent\", \"lake\", \"narrow\", \"pico_de_gallo\", \"cheat\", \"faf\", \"romaine\", \"frank\", \"flour_tortilla\", \"tavern\", \"$_1.50\", \"southwest\", \"i.e.\", \"cooking\", \"southern\", \"phoenix\", \"bloody_mary\", \"fly\", \"croque_madame\", \"lemonade\", \"mesa\", \"hook\", \"thai_basil\", \"soo\", \"ish\", \"jambalaya\", \"rough\", \"lil\", \"catfish\", \"gilbert\", \"beef_brisket\", \"shopping_center\", \"whim\", \"vs\", \"bottomless_mimosas\", \"empanada\", \"yelpers\", \"sriracha\", \"empanadas\", \"shade\", \"performance\", \"reminiscent\", \"chick\", \"magical\", \"phx\", \"buzz\", \"generous_portion\", \"cure\", \"deliver\", \"delivery\", \"coupon\", \"thomas_keller\", \"rio\", \"blt\", \"boba\", \"o\", \"d\", \"pas\", \"sundae\", \"cone\", \"soooooo\", \"c'\", \"sticky_rice\", \"yountville\", \"au\", \"slot\", \"dan\", \"keller\", \"24\", \"heard\", \"pregnant\", \"competitor\", \"bon\", \"oreo\", \"mais\", \"pinch\", \"nevada\", \"arrogant\", \"online\", \"mile_away\", \"email\", \"ice_cream\", \"website\", \"scoop\", \"plat\", \"free\", \"brownie\", \"order\", \"s\", \"quesadilla\", \"w\", \"b\", \"4/5\", \"guac\", \"alot\", \"only_downside\", \"feast\", \"18\", \"3/5\", \"press\", \"c\", \"thank_goodness\", \"central\", \"unbelievably\", \"bacon_wrap\", \"thrill\", \"west_side\", \"hob\", \"holy\", \"dissapoint\", \"native\", \"ah\", \"oreganos\", \"highly_suggest\", \"observe\", \"planet\", \"2/5\", \"2015\", \"max\", \"anywhere_else\", \"u\", \"bomb\", \"az\", \"def\", \"nyc\", \"everytime\", \"quiche\", \"killer\", \"tho\", \"ya\", \"meeting\", \"beware\", \"inconsistent\", \"tongue\", \"caprese\", \"open_24/7\", \"burrata\", \"wednesday_night\", \"customize\", \"sooner\", \"mind_blow\", \"mike\", \"carbonara\", \"addict\", \"shoot\", \"nail\", \"hotdog\", \"chicago_style\", \"conveniently_locate\", \"limp\", \"4th\", \"absolute\", \"hangover\", \"star_rating\", \"w/\", \"=\", \"sub\", \"weak\", \"organic\", \"subway\", \"coke\", \"pig\", \"fake\", \"amy\", \"town_square\", \"nothing_spectacular\", \"flamingo\", \"nacho\", \"jack\", \":d\", \"resturant\", \"thumbs_up\", \"corn_tortilla\", \"i.\", \"decoration\", \"equivalent\", \"cesar_salad\", \"cheesesteak\", \"specially\", \"british\", \"crystal\", \"miami\", \"2.5_star\", \"worthwhile\", \"day_ago\"], \"Total\": [1193107.0, 1348517.0, 419038.0, 571593.0, 399238.0, 1192858.0, 648265.0, 660368.0, 354330.0, 387744.0, 371204.0, 265753.0, 607196.0, 474050.0, 379490.0, 371897.0, 1419650.0, 466535.0, 516886.0, 223032.0, 235863.0, 221337.0, 541169.0, 263575.0, 475398.0, 205633.0, 239451.0, 210048.0, 409393.0, 840721.0, 20081.97291039524, 8357.693671050523, 6879.796260286471, 6007.888038036183, 5945.25990584562, 5527.03671905756, 4844.55466721253, 4472.674393096322, 4317.413516060342, 4256.416661718141, 3864.6271696932777, 3391.0200242031337, 3172.530367441061, 3152.4863513750443, 3102.325723182431, 2983.539245890504, 2854.518171624526, 2764.182305905104, 2750.6031275429423, 2472.413589686096, 2452.935952106818, 2376.0673906815505, 2287.5760297258917, 2273.328410601403, 2227.1112695036372, 2004.1645893197713, 1981.6285214011584, 1935.1865789714816, 1916.3670785484596, 2220.701714548978, 6096.800087341111, 25258.428098341526, 70991.15532629099, 58251.224563410695, 415168.3630708619, 185934.68027998257, 8530.25539767125, 198254.2878172618, 85391.04131647103, 381059.608391324, 4758.8165797638985, 203104.10650408233, 5922.982216103172, 18793.014658472133, 140301.38781417964, 541169.1575244006, 136502.29569135714, 18197.51077613248, 213894.27068755438, 13059.226703946479, 129151.11331922725, 66326.38925903806, 291830.1126865786, 1419650.52129289, 1185390.7633041542, 107509.40432995453, 474050.20574595965, 46359.55777936948, 239606.7495281433, 239998.748002454, 277802.85195218323, 55823.97402679455, 493352.4384970936, 1192858.8359878142, 210844.46862882018, 180093.46567768248, 370864.57445724483, 441868.73546087666, 1193107.7702303447, 840721.9253434482, 571593.2787391071, 417782.99107445276, 349522.59685113776, 607196.6456723833, 21595.241414403983, 18024.757260621554, 16175.4570090121, 15695.677476347772, 14449.102606183591, 13394.399170350136, 11759.77965737032, 11035.461956339386, 10318.019871281795, 9881.420295124986, 8699.22440353876, 8516.610391795784, 8326.896107923618, 8050.536013225206, 7509.258289917674, 6841.555366161498, 6776.822614629868, 6742.791555258749, 6548.288055318062, 6359.9983610435875, 6062.567058596296, 6031.83600127023, 5308.560358509877, 5237.613246746328, 5171.74492240972, 4919.721882428512, 4906.735703089233, 4869.054379769391, 4797.588149901007, 4543.380977502751, 8611.990262959756, 14322.894352722125, 43205.50703541763, 37985.53756716245, 18789.548008947346, 24121.43435549213, 21207.024320815155, 7129.538366929124, 17276.933415189742, 42893.31029234369, 74966.74402649653, 238857.09705995934, 45741.175063258, 57576.95293087177, 78743.37786750056, 39565.449648666974, 170830.80327991195, 291704.09414103546, 87583.9947554154, 63646.79275963589, 192147.46014305175, 214977.10369015366, 539912.2174538161, 68012.4940743522, 58227.01529395542, 414049.2132023211, 119696.6631754939, 120397.35569826406, 202637.4525873914, 481427.96349610726, 466535.4343859866, 441868.73546087666, 55216.34810854833, 316546.905772637, 309895.71182707796, 1419650.52129289, 295233.95633727073, 1222436.4250230934, 879617.3453137964, 465036.72364582826, 1185390.7633041542, 572812.3111861399, 409393.7000980544, 371432.8669924482, 660368.8946025079, 439280.83071708685, 379490.5561330627, 1348517.8510857653, 28266.13014690372, 18322.898978671383, 15563.019092729426, 11702.65443257025, 11273.184163475269, 10380.12115493472, 9499.45603322034, 6662.913114441832, 5352.610036047377, 5140.800708979896, 4792.522561959137, 4038.518294558277, 3845.4580502323456, 3826.966978613864, 3748.9133985051744, 3630.839951515657, 3566.146172931161, 3457.663702802492, 3386.9258176117996, 3368.9740811170086, 3202.371673795864, 3170.2979471225935, 3129.519128602931, 3099.1146567156084, 2991.106031821051, 2837.251993643633, 2793.7057745767092, 2762.2759047913387, 2760.057932111686, 2616.3694854747237, 2865.917389281701, 25902.68133320987, 9077.413236716158, 10554.546741357763, 44310.8672946123, 85110.08088999907, 7444.205662509022, 19423.74691802575, 13698.733198438213, 90450.23982521649, 88438.23204994589, 417782.99107445276, 14391.439507478504, 11689.3910692068, 236672.40942291147, 53954.28838270507, 66792.13957760282, 150792.9365992962, 1222436.4250230934, 489281.76926245505, 765569.581345414, 239451.76827220997, 381699.7731207621, 493352.4384970936, 97356.85710933294, 56421.9075221289, 879617.3453137964, 516886.2230512766, 84532.06044337341, 440530.8248653642, 300466.8503191392, 330219.4920998008, 346326.8069021433, 303250.0694641678, 180093.46567768248, 370864.57445724483, 277588.8292534983, 297573.102707798, 1185390.7633041542, 660368.8946025079, 367795.4266948796, 153327.3566059246, 1193107.7702303447, 150975.5234134801, 481427.96349610726, 465036.72364582826, 74331.63249832377, 9931.021294320402, 9770.174943566275, 9289.055602076603, 9041.6170814715, 8194.259694601287, 6938.184874076296, 4723.278369008329, 4648.485588704323, 4091.570917421257, 3149.6697859730943, 2846.8150044530294, 2719.354228796352, 2582.7832052159943, 2513.5220023544052, 2362.5473672936055, 2361.836928446423, 2181.035500063587, 2069.7068889931265, 2028.946974242032, 1930.041970524604, 1885.4464173235356, 1786.1057311491422, 1785.669954201209, 1718.704931341485, 1697.7749900568906, 1578.8918626286206, 1513.672644119425, 1495.0925771987784, 1465.938371674371, 25755.870797674732, 13459.063315037887, 58441.93773316233, 131378.8570637434, 143732.14705681647, 76982.4267494026, 475398.7202269417, 7421.854943175373, 33248.85938654536, 414949.2479729871, 201494.0555113551, 225010.33992067678, 190685.89311570404, 193146.27847774106, 295233.95633727073, 101274.7731804265, 30925.669892044763, 22833.03065354567, 53209.39365669138, 465036.72364582826, 106931.66350949252, 74607.70651417146, 489281.76926245505, 222287.08411068737, 176562.73898837334, 234761.30776719475, 297986.8330318913, 1222436.4250230934, 65408.82173060082, 481427.96349610726, 360523.49228093436, 1192858.8359878142, 572812.3111861399, 840721.9253434482, 282483.8376128717, 879617.3453137964, 1348517.8510857653, 189354.0873014915, 381699.7731207621, 1185390.7633041542, 439280.83071708685, 7115.118324357554, 6872.409623390693, 6345.9515936072, 5735.850279344045, 5141.370593732158, 4814.704291012665, 4462.343983354081, 3840.852521938299, 3764.975623726531, 3557.513089589856, 3299.6325496281256, 3081.765206180879, 2740.8405184700705, 2651.987986837615, 2613.3470449140655, 2555.1883227340786, 2451.3154752452297, 2428.923686572464, 2407.8486830206703, 2274.3902059901316, 2267.344656012194, 2248.6884185705635, 2178.455806789199, 2155.18079874594, 2143.860180096173, 2141.26207181939, 2125.9378120148726, 2030.4882490006473, 2018.7555292700958, 1915.6077921336287, 3534.173844047117, 23825.82642756774, 20466.086616812998, 7165.663270194365, 34908.627174344336, 36686.588722276756, 12751.54589224662, 8169.352555686212, 11802.191616912982, 109599.3685922786, 10608.494365586093, 14661.027945279331, 7465.552086027249, 39453.66152548306, 349522.59685113776, 840721.9253434482, 20003.426007061087, 21729.833470658254, 36203.56217899453, 22450.69432622868, 274329.4140617117, 40216.46748681111, 107132.96708665001, 44775.08808334761, 441868.73546087666, 42315.353423494285, 40501.79775996294, 516886.2230512766, 607196.6456723833, 466535.4343859866, 57096.828070081916, 112147.26694059413, 236672.40942291147, 299232.7428885123, 64234.79198356337, 243892.83991515372, 381351.1776190909, 316546.905772637, 148430.78686763762, 131378.8570637434, 1192858.8359878142, 225010.33992067678, 129386.2034846913, 346326.8069021433, 372600.3968320136, 137974.10775652548, 96109.50792085181, 1193107.7702303447, 161576.67670511358, 417782.99107445276, 381059.608391324, 249641.7957042147, 39486.13424126414, 37834.99113939485, 59023.93013362597, 10489.51639389113, 10409.30117148903, 6948.450779756018, 6088.8117046969055, 5547.680376874739, 4740.241322187618, 11239.907201843858, 4279.326555027423, 4005.746635581432, 26683.518621000883, 3336.6606643664927, 3326.731520094372, 3179.9202926397165, 3122.1202248800314, 2864.4570907416246, 2820.2176727124274, 2818.0200844186857, 2790.1065235559977, 2694.9201257602517, 2664.7524637080323, 2635.965986648274, 2633.698026656551, 2628.145707985259, 2567.4374840510804, 2563.753530310748, 2548.813732166497, 2529.723087307643, 12358.889511667483, 13200.336736414054, 17617.91859720271, 14386.08029176576, 60163.62682998132, 58777.31998137085, 28897.450973770094, 14701.833842262187, 118792.66808451583, 8637.268166696786, 200661.89272987162, 28049.24798879991, 43309.24489292241, 88199.5824277337, 25234.383336542887, 107867.67135864963, 220759.94410408818, 73946.10702283477, 291830.1126865786, 58750.58894991181, 80309.15138652414, 140301.38781417964, 72287.18226287613, 212813.86382900138, 415168.3630708619, 85783.6622716122, 89795.27920494252, 417782.99107445276, 367795.4266948796, 1419650.52129289, 100587.04034899246, 493352.4384970936, 330219.4920998008, 372600.3968320136, 1222436.4250230934, 189354.0873014915, 440530.8248653642, 1193107.7702303447, 161281.84934673403, 13807.838012657214, 7340.778060784445, 2853.5422432435585, 2713.4573586195656, 2421.8868253948, 1624.2503499527786, 1609.4414109156705, 1568.1072862567662, 1474.592797213898, 1434.2984964843804, 1376.6642484846195, 1291.309789199938, 1249.3118187761295, 5902.453338544308, 1195.1477813068002, 1158.7251437032294, 1141.7281751105165, 1089.1028191980897, 1078.8019993624926, 1032.2645377993467, 942.4979274004767, 933.0222408662283, 931.7055281395145, 921.2160937898689, 919.8688154261845, 853.244409539473, 839.239426194597, 818.0889520575147, 754.1971433142971, 749.3293463118649, 375267.34322970756, 64940.697753465625, 87388.02956328947, 11241.818014080029, 243892.83991515372, 1348517.8510857653, 120878.04880004041, 372600.3968320136, 18403.13349316704, 4731.195733760451, 220825.45682855416, 4969.373487347056, 1192858.8359878142, 218749.58870944497, 123538.95778542096, 409393.7000980544, 24850.848553559863, 22605.703419733785, 108087.9086123706, 48743.970138559256, 192423.9258515334, 539912.2174538161, 439280.83071708685, 28721.952418030836, 230631.40026204736, 572812.3111861399, 142377.5117642126, 137500.49155023997, 381059.608391324, 660368.8946025079, 349522.59685113776, 475398.7202269417, 74607.70651417146, 93779.58180616576, 48147.25564695547, 371432.8669924482, 1185390.7633041542, 192147.46014305175, 840721.9253434482, 1193107.7702303447, 879617.3453137964, 52470.24451943027, 26668.899482762976, 18278.956135389693, 8449.840574886995, 7559.554910953123, 55742.32840983361, 7307.671618139469, 7045.453137857131, 6002.333178119507, 5294.972422473372, 5217.059837803654, 5131.367690170869, 5077.278231528804, 4567.744402292862, 4195.49053404373, 4132.930485872046, 4078.224250300764, 4003.31663651386, 3887.0502147316847, 3786.5071780548697, 3553.555173855591, 3477.593008199047, 3386.850365502508, 3370.7977714130434, 3334.766166701861, 3317.7885281195736, 3159.452694720435, 3044.4780496366575, 3013.895387715308, 2992.837514024541, 14333.040731489653, 26942.197379595407, 19466.10602388537, 8513.861345564465, 15031.612135824438, 68266.3231525784, 156885.82323900313, 139119.59986831457, 8037.191161513476, 17794.13775165471, 29462.114535213732, 35085.258999418074, 30210.659001542706, 38897.21506258033, 227874.93770371066, 54455.49241124035, 17377.033584249337, 57096.828070081916, 37150.383465439685, 114518.39041202025, 12130.558349508177, 541169.1575244006, 30211.531845517027, 142377.5117642126, 572812.3111861399, 277802.85195218323, 440530.8248653642, 297986.8330318913, 33371.396001038185, 300466.8503191392, 212813.86382900138, 465036.72364582826, 840721.9253434482, 177893.95085650656, 203185.94175566017, 1222436.4250230934, 346326.8069021433, 295233.95633727073, 239606.7495281433, 282483.8376128717, 303250.0694641678, 375267.34322970756, 257645.02196657937, 65109.77029141304, 62910.517385696745, 33457.53857977395, 32637.27375008879, 15648.755903553934, 9739.338012275433, 9218.50389032032, 8625.193382415364, 6900.854486637906, 6347.288823822404, 6268.954704940954, 4998.631319612343, 4462.034755428239, 36556.83722772203, 4343.7024381639685, 4074.0524832532387, 3777.112930396455, 3760.339461014296, 3580.431489695761, 3526.9459398989375, 3323.0841652408444, 3248.828253919359, 2534.4399341119624, 2409.3623274662264, 2395.4334332170406, 2129.074728223206, 2047.0974017007136, 1986.9134486990492, 1964.4437240933082, 1914.2385573242818, 25588.121302096464, 20051.899050614138, 37006.406804068014, 9080.569556373202, 6036.295062535254, 19777.791325507747, 13048.866124648104, 44999.119872297044, 360523.49228093436, 31144.27773387522, 10638.966966259273, 13425.601769464995, 117862.7994440721, 33896.35993180893, 52819.86285570875, 102458.18025235621, 9210.414925001873, 28173.928863765384, 83768.30067321913, 44906.612599877044, 110771.76608128483, 1192858.8359878142, 481427.96349610726, 88350.07995068356, 765569.581345414, 212071.71483696558, 1222436.4250230934, 349522.59685113776, 38044.61050231423, 236672.40942291147, 99037.59324887562, 1419650.52129289, 1193107.7702303447, 208748.1171593853, 239998.748002454, 840721.9253434482, 440530.8248653642, 190685.89311570404, 316546.905772637, 330219.4920998008, 1185390.7633041542, 28442.66151616575, 20723.576803523392, 7967.503704026248, 4594.465685462034, 4027.0368699494984, 2855.012192287061, 2632.6434708278503, 2550.721563428373, 2260.542659103506, 2120.972347163098, 1735.7686148005644, 1597.0451389406082, 1594.0648993443397, 1571.3352161696612, 1569.0199934341995, 1562.7366943227428, 1506.1304919655643, 1488.291273301654, 1380.0337839221133, 1310.1627830362063, 1294.924838808293, 1286.6051162677697, 1282.9979860193234, 1225.8697372727386, 1167.946313098175, 1163.6005873843847, 1155.460249766867, 1123.4837543522963, 1095.3755786378276, 1061.5484873782884, 250298.95704358895, 23464.703762091896, 660368.8946025079, 148430.78686763762, 10829.540905770935, 148747.25032578025, 33586.89746624855, 31016.534142742246, 26739.728714465342, 409393.7000980544, 26255.400232594973, 31866.480256816238, 119021.6928452289, 26495.45134410652, 111664.4124629961, 12428.747224908482, 191060.10304574133, 13422.93097985263, 879617.3453137964, 539912.2174538161, 64115.84452268689, 38992.19950872489, 97092.22718720802, 95751.54209798005, 99593.07050256564, 439280.83071708685, 98342.94448030627, 1348517.8510857653, 218749.58870944497, 765569.581345414, 1193107.7702303447, 115218.10634926206, 148832.6734562376, 274329.4140617117, 1185390.7633041542, 840721.9253434482, 346326.8069021433, 156176.7721084539, 191424.29544140305, 370864.57445724483, 230631.40026204736, 607196.6456723833, 8473.294378124794, 8196.236003490896, 5987.384299789327, 5923.846730822362, 5645.806557883678, 5500.139702509626, 4783.134388685547, 4197.654902873716, 4186.304473833109, 4159.173240422304, 3054.420330976056, 2725.0633220080126, 2391.282286707046, 2383.4426601581736, 2296.7064075215562, 2233.3888342151017, 2179.302225146738, 2169.234954203599, 2155.0393803960987, 2107.126343723131, 1934.6434111367441, 1893.0124326357084, 1862.749994055074, 1813.302040037482, 1801.363139127665, 1673.097015721872, 1555.7202226187512, 1542.6999969630435, 1494.3350339178376, 1480.1275489522336, 571593.2787391071, 7993.352302508155, 148642.64545778403, 155027.84614853005, 6355.147051752864, 6540.919053820642, 17231.936817481277, 231935.61465943736, 27595.264297790334, 3979.1484563954023, 239606.7495281433, 87241.1636404942, 33284.12721456315, 6327.768503058521, 128904.47365121735, 59947.22048582184, 30309.199789065384, 60305.411116632305, 168158.07816135624, 6440.764434029374, 129151.11331922725, 37782.826152732756, 8579.213279329144, 24700.56775635227, 541169.1575244006, 367795.4266948796, 234761.30776719475, 1193107.7702303447, 18457.964845990315, 177893.95085650656, 1419650.52129289, 167671.94241225914, 60838.65294426864, 76116.69772015483, 277802.85195218323, 117760.05503525444, 1185390.7633041542, 296616.1964545437, 73716.09752110748, 107509.40432995453, 151494.93137715114, 303250.0694641678, 879617.3453137964, 129386.2034846913, 414949.2479729871, 253044.32817341035, 87693.21113925663, 64226.37830350889, 59295.610125826155, 14397.164259586587, 12814.314968228882, 11635.260770525143, 7721.397073617403, 7448.932538206081, 5889.666396512696, 5477.026612029608, 4425.371079651976, 4342.818806905996, 3791.4006213434272, 3757.246170841251, 3568.1960147987375, 3499.646258005877, 2865.231820826237, 2759.236187622187, 2743.033598933119, 2724.3083437917753, 2642.0635568855905, 2505.9741005274504, 2422.3636987321806, 2399.977317049366, 2342.4763285941062, 2256.896088419459, 2027.8674349560176, 1992.104787539959, 1897.1853063545982, 1865.6989716006478, 6422.525583644899, 16238.1671374094, 371897.55345805385, 11262.794035327179, 99174.26336464603, 14652.02799236439, 474050.20574595965, 106178.1982395989, 83381.72624223593, 21065.636989898452, 10673.375045601924, 42794.03483188136, 107050.71876853876, 38844.19307326783, 48334.148932765704, 41264.38799985359, 265196.4720444692, 59912.01222170726, 370864.57445724483, 20437.872852995602, 277802.85195218323, 1348517.8510857653, 220825.45682855416, 17641.14756539579, 129386.2034846913, 414949.2479729871, 31210.469479763156, 109847.2882639451, 367795.4266948796, 299232.7428885123, 572812.3111861399, 191424.29544140305, 1222436.4250230934, 227874.93770371066, 249641.7957042147, 218749.58870944497, 1185390.7633041542, 87166.86422060023, 61256.61342859003, 36634.83454701813, 34577.587023183616, 11555.984800147273, 9187.65754169506, 8694.968627379409, 7101.108678831344, 7068.226653520031, 6827.401841783859, 5876.833886175864, 5616.853700111149, 5351.595500298785, 5180.372441884885, 5099.463315273198, 4714.499233983701, 4490.528954034829, 4166.613809262655, 3971.273748139446, 3962.408341603393, 3908.7143379364097, 3577.739326702655, 3438.067600533634, 3397.8660805666477, 3270.9387334492703, 3266.0557821510542, 3152.896909654166, 3143.0759087656584, 3139.146141932179, 2986.4277726671457, 191142.06626862014, 6775.230528193291, 65907.75432082661, 37029.28589289582, 12838.84069881466, 187192.10436147117, 466535.4343859866, 20414.455675367084, 56202.947413605856, 648265.2926972557, 414049.2132023211, 38423.005434775914, 134292.52446765057, 201492.78021605464, 17397.394720369473, 1419650.52129289, 170830.80327991195, 32685.214867675015, 31489.09727883306, 63887.800829593296, 291704.09414103546, 879617.3453137964, 76214.0335206345, 101759.24554817661, 840721.9253434482, 481427.96349610726, 1222436.4250230934, 1185390.7633041542, 40667.450744530164, 539912.2174538161, 208748.1171593853, 439280.83071708685, 316546.905772637, 765569.581345414, 94326.35220739787, 93274.58489983497, 47386.19503344656, 36387.17352514453, 22794.388668318967, 17283.318580071853, 14394.482606781843, 14394.467835914516, 14205.337252587393, 11261.724563005371, 11251.889340761893, 8835.343039056943, 7089.892502044186, 5761.187647554817, 4457.712016488815, 3588.643835552217, 3518.665197442266, 3475.165439142586, 3464.9238395702973, 3169.176137596645, 3167.77407772298, 3097.4340154998004, 3043.8479460036556, 2988.3642388749277, 2656.4106229661847, 2333.7581836969853, 2244.2252618755124, 2115.16005710431, 2074.139070251088, 3345.456934185956, 7199.497429636104, 13331.69916088735, 47746.74416738714, 648265.2926972557, 11853.992267406451, 106321.81551865189, 8836.607747947744, 15554.688319669205, 304676.96475464595, 110771.76608128483, 414049.2132023211, 88988.75067434297, 52909.34217972627, 28603.31540679517, 16356.466870466345, 371204.1520780825, 51583.08719176023, 96402.89252699178, 291704.09414103546, 1419650.52129289, 25784.52497730882, 201492.78021605464, 108946.1262482359, 91588.11509185718, 481427.96349610726, 1222436.4250230934, 113448.20110146013, 309895.71182707796, 879617.3453137964, 208748.1171593853, 1185390.7633041542, 465036.72364582826, 113632.44770748011, 765569.581345414, 36616.64612850302, 13411.421904447152, 11816.667248801114, 7629.203344048024, 7621.159959089692, 7427.630925537303, 5811.509854116941, 5141.03600435411, 4824.238170658895, 4514.102548075743, 4093.5741126911503, 4000.754755457906, 3887.1571341808244, 3722.1557921050717, 3617.6871082673974, 3367.1024625778086, 3224.054233288978, 2995.900184328259, 2793.879987777803, 2791.7409253261762, 2790.0257686973373, 2771.470394007493, 2760.246438976505, 2681.6340320332506, 2620.289710026205, 2595.144939049711, 2455.0311967357325, 2245.9378017195586, 2186.1205547156774, 2136.8739322572587, 263575.10787752713, 49337.736367735604, 37779.52589383498, 134814.29915600707, 109148.07905689909, 54708.68821742354, 81396.42645939722, 296616.1964545437, 197484.08296214638, 54335.111574365044, 167671.94241225914, 23275.210161716765, 33302.36952675368, 253044.32817341035, 78664.45659517318, 8872.9293484993, 53302.67390396503, 10400.581519907564, 80296.6606984779, 13714.223682986178, 20138.14050759049, 36966.24683382374, 212071.71483696558, 24158.646850016845, 13576.403736137305, 189354.0873014915, 112035.04692589007, 475398.7202269417, 73766.94529192027, 95123.4664597871, 297986.8330318913, 106850.46681869285, 474050.20574595965, 234761.30776719475, 367795.4266948796, 106931.66350949252, 387744.48224881984, 25384.99369112201, 23029.819894172302, 22057.302234162216, 15045.921516752327, 12270.536961146743, 7390.064058553918, 5961.2534300132265, 4452.140211736921, 3867.9628201790106, 3437.6857858807266, 3259.1095931204027, 2737.4606572577954, 2682.8736505323436, 2666.101297790647, 2502.5851329801567, 2486.569008128868, 2245.2639064360833, 2191.3803580927765, 2169.300159406894, 1835.0548872636757, 1785.9560752835953, 1719.9143767223761, 1691.8166071084793, 1635.3498483460733, 1553.7904677264903, 1543.995778239867, 1497.0476383810917, 1445.4105750654896, 1391.408847822882, 7195.81975584373, 14219.282027093834, 129647.55788709309, 29501.532031880677, 11127.503766489986, 222287.08411068737, 5214.5035928082625, 26343.364073378445, 5038.752846183941, 12370.905352247466, 379490.5561330627, 24854.77021473501, 82465.51106381445, 21430.733359245252, 57868.43938916833, 249641.7957042147, 175913.4985723562, 31088.88841783146, 381351.1776190909, 169123.4934525819, 137500.49155023997, 648265.2926972557, 239691.00268245421, 371432.8669924482, 441868.73546087666, 203185.94175566017, 53590.80515601384, 191424.29544140305, 1348517.8510857653, 539912.2174538161, 297573.102707798, 765569.581345414, 475398.7202269417, 210844.46862882018, 1419650.52129289, 1185390.7633041542, 297986.8330318913, 257645.02196657937, 439280.83071708685, 572812.3111861399, 11582.924549723935, 10169.630657210342, 10094.400063022436, 4769.80485245874, 4146.772169590063, 3771.193538618145, 3707.4735402646506, 3628.3206627783616, 3559.8220365323136, 3502.279030744996, 3494.320586576562, 3346.1546790030197, 3330.990395396379, 3132.9956518528834, 3058.946041956156, 2879.5660610967147, 2435.8859286502025, 2420.835052905847, 2326.4988049693065, 2204.2261409331636, 2198.2133261097597, 2146.1695612361586, 2114.4718302089527, 2110.5668583989186, 2061.126479986633, 2043.8782693999758, 2022.2586932725899, 2013.6727739702517, 2004.5455012240002, 1909.9793579351765, 11415.314323366341, 14640.649308167649, 70701.53557421587, 99037.59324887562, 1193107.7702303447, 110609.64759923401, 7792.7045191320585, 274329.4140617117, 140052.0090429289, 168158.07816135624, 21799.08519348435, 46830.03707646833, 101931.68171576977, 14943.759221712127, 77721.6684948268, 125232.18124794234, 57854.24865882447, 14147.854214390512, 78961.6077655514, 1192858.8359878142, 13848.107103781305, 148832.6734562376, 297573.102707798, 231935.61465943736, 53804.139521217345, 24845.611413265575, 1185390.7633041542, 414949.2479729871, 82239.6983455711, 381699.7731207621, 879617.3453137964, 765569.581345414, 1222436.4250230934, 375267.34322970756, 220759.94410408818, 360523.49228093436, 277588.8292534983, 489281.76926245505, 465036.72364582826, 1419650.52129289, 120605.35487266594, 73405.2786378826, 61539.43356087441, 54770.13717497108, 48797.42522116926, 29310.69780624961, 25611.844882013957, 25465.767714732545, 23957.887475871335, 9932.219139020724, 6879.031323505226, 5787.852314231433, 5449.547502175475, 5305.851843932812, 5254.036115752882, 4866.240841455179, 4546.6834290549, 4111.164393412126, 3683.366381037025, 3565.25608949682, 3469.7343264390106, 3406.762781372573, 3290.139466715639, 3253.062555399981, 3201.7068541308545, 3171.697466305246, 2617.846815621541, 2570.938166969713, 2401.188703790379, 2315.269632921668, 87745.41338807916, 196731.59412106193, 108946.1262482359, 10647.707067349862, 100566.37210883679, 31489.09727883306, 134292.52446765057, 7458.026338135404, 6593.9225510822625, 150398.04832934914, 17967.08862097221, 20538.85943743223, 46685.929164999696, 17572.563233101126, 71135.18684899852, 164847.63740282925, 187192.10436147117, 187741.82572408483, 1419650.52129289, 49615.56586424968, 466535.4343859866, 1185390.7633041542, 304676.96475464595, 481427.96349610726, 840721.9253434482, 1222436.4250230934, 648265.2926972557, 879617.3453137964, 354330.936605351, 17859.41094442898, 14295.681159851143, 10274.481612529116, 8017.488724736483, 7388.054466146158, 7291.643816188581, 6431.161343365369, 5290.306325204497, 5074.455463100044, 4864.8049176868535, 4681.116078199475, 4284.991442741034, 4183.026789824514, 3679.089217803495, 3205.7164119517415, 3165.520582248412, 2766.480068700384, 2583.4875552521175, 2526.432302152386, 2316.535987296409, 2178.9290007945947, 2074.631097077252, 1959.2525097315543, 1895.9186554574449, 1871.5370940189307, 1799.5772612909527, 1795.2489953351976, 1760.238196853372, 1637.8372605428551, 30481.28955692109, 28972.735321637017, 5381.519362578821, 379490.5561330627, 8388.989603901648, 214977.10369015366, 29643.17052644197, 31516.968107558616, 76506.12921737498, 309895.71182707796, 52909.34217972627, 16077.920385085245, 12278.660129497548, 91485.89171247296, 196731.59412106193, 113632.44770748011, 108945.0311551251, 20010.71246914458, 17802.231054706986, 304676.96475464595, 31648.867647897016, 43193.22261365781, 64997.593755363174, 371432.8669924482, 1419650.52129289, 81728.80066004767, 151494.93137715114, 44636.59002820912, 1222436.4250230934, 201492.78021605464, 516886.2230512766, 119595.1246129368, 97795.02107907998, 97062.22240817967, 94984.3138469188, 81307.45619639187, 77600.5535663537, 47527.38419611977, 33085.564188265664, 31257.207491597044, 30988.12890290885, 17960.266349489277, 13603.848949655407, 7893.350187870644, 6962.14540264682, 6944.957933909782, 6679.570717709994, 6651.402603592009, 6600.859244301215, 5917.84494083071, 5013.140182088215, 3642.334855209029, 3455.2761251018505, 3120.786371192633, 3014.8326982398607, 2902.365191364204, 2900.593995137844, 2749.2258853225458, 2648.4574259976134, 2452.0409744021763, 2442.40787661792, 5349.447289110921, 62631.25591242969, 13507.50817323207, 17857.04041785953, 13606.65168612603, 177507.7488549072, 51373.12531592741, 4940.320775842753, 187192.10436147117, 309895.71182707796, 108946.1262482359, 1419650.52129289, 371432.8669924482, 414049.2132023211, 291704.09414103546, 648265.2926972557, 69218.28775958037, 76214.0335206345, 239691.00268245421, 1222436.4250230934, 481427.96349610726, 201492.78021605464, 235863.06495527047, 49688.5908038435, 31251.654129709957, 20283.4727248628, 17237.513742143008, 15604.019828239187, 12239.531455379793, 11636.722033761926, 10900.978940421553, 10143.266769032662, 9492.655890988864, 9275.58432792356, 8936.080697301562, 8765.10800656156, 8600.938357888492, 8466.327111943221, 6590.552053878372, 6553.303148667678, 5520.666518854478, 5361.267999336195, 5100.86494857342, 5026.4048400957945, 4714.052639425302, 4570.748344029604, 4558.228091020044, 4496.458149664112, 4378.054877812813, 3850.934154282475, 3469.4809983108457, 3451.2312434722962, 9734.477824970203, 187741.82572408483, 43862.505687845674, 87369.03370630345, 177507.7488549072, 17955.66321838433, 109599.3685922786, 371432.8669924482, 187192.10436147117, 113448.20110146013, 1419650.52129289, 225010.33992067678, 765569.581345414, 879617.3453137964, 1185390.7633041542, 1222436.4250230934, 481427.96349610726, 607196.6456723833, 249641.7957042147, 191142.06626862014, 250298.95704358895, 44926.91957314848, 37288.37983488813, 28990.095497959603, 13631.37686871599, 12355.048190297352, 10793.589536478292, 8315.360608032472, 7730.207984569062, 7458.8918216952, 6540.830014173172, 6038.300937988111, 5892.880586741976, 5222.931277503373, 5212.074601614523, 5078.877942916951, 4965.129631933341, 4709.828079631396, 4571.1362437744665, 4462.7146553794355, 4341.770138650609, 4126.960787242509, 3878.2612290408833, 3812.5435843167056, 3318.592041453431, 3132.2778382562146, 3127.523581585464, 3066.466765019643, 3037.924936021282, 3498.998543016763, 2835.2183339751546, 65214.49262339915, 6217.120488729503, 40526.58142426694, 98990.4342556431, 19343.283480080954, 28407.568080229114, 88728.09407310991, 11340.362428137845, 18191.179247421205, 99593.07050256564, 17385.695192449184, 75655.57302421208, 48334.148932765704, 13112.52893590242, 19316.605616764162, 11143.214682569629, 42794.03483188136, 8349.960216338866, 516886.2230512766, 18336.85043848455, 14188.535449516312, 106178.1982395989, 265196.4720444692, 297573.102707798, 213894.27068755438, 98317.23535504253, 106931.66350949252, 197856.17301253605, 66539.51872572403, 13852.446486266525, 11015.295942279388, 9205.192330353702, 6695.255930260949, 6605.162942943738, 5898.54044260477, 4648.033524541655, 3566.9328129231158, 3134.779592557893, 3128.2202830343754, 3063.7321748397108, 2999.535169751585, 2858.6542550308686, 2851.9609862306274, 2631.1684295164255, 2374.010001719296, 2228.6175010863603, 2028.1805105700173, 1978.0603641898308, 1939.947951679619, 1928.7688912065896, 1870.0663805786767, 1799.5848624481869, 1743.2194018759299, 1595.065342109184, 1585.580268277984, 1570.547476737741, 1532.8611609039176, 26448.958444480668, 101759.24554817661, 3966.879522145359, 110127.17209783696, 176593.10305715396, 150239.8018551012, 7636.108598127931, 607196.6456723833, 84015.82916062468, 38423.005434775914, 5271.107699327592, 21426.612986007534, 161576.67670511358, 7975.999937468728, 52271.611580919955, 24744.159954360475, 304676.96475464595, 42185.70127817967, 282483.8376128717, 194163.20885341082, 59605.0976179788, 16488.038482903332, 56413.4064419257, 106850.46681869285, 50453.20496780471, 142956.20367220143, 81925.50675605076, 65344.60160239333, 75357.83847471421, 40364.47983602883, 100587.04034899246, 210048.68418805333, 132645.56539238285, 128113.52491452373, 54371.33489548222, 26753.666115205466, 20172.67312822668, 17494.075247429184, 11274.651738155373, 9264.894830575267, 9093.027464732284, 7955.83628842596, 7610.489987555, 7529.636656867262, 6620.516461916498, 6421.948779287681, 4692.192288873823, 4297.234111453151, 4285.309782663542, 4247.032683555791, 3747.293401189513, 3740.767915806382, 3728.483138793312, 3551.6162342860457, 3324.852027948524, 3323.7920556185477, 3206.399237927747, 2937.069836582022, 2838.938654243501, 2788.4101137151674, 2780.412129164671, 150398.04832934914, 13743.177397233196, 42367.149802851585, 38250.60330117805, 15155.800070324147, 120591.62965370281, 7409.468084185488, 44636.59002820912, 91588.11509185718, 64661.22001113628, 45555.212638565186, 37353.052216513446, 14820.255911051832, 25213.422395955564, 48386.131083393004, 33771.98543581188, 297573.102707798, 316546.905772637, 67514.86778565562, 191424.29544140305, 1419650.52129289, 1185390.7633041542, 1222436.4250230934, 156176.7721084539, 399238.6825444331, 36308.323471009135, 27649.937548749313, 22880.096886258416, 23215.823001161738, 19161.80317972375, 14891.464365268766, 10872.997933525663, 10494.243947664114, 7822.3663971767255, 4805.2160970534505, 3758.178373210069, 3613.249410849891, 3412.2613689086334, 3403.45422822256, 3232.129315657678, 2953.6013139824468, 2726.356965716661, 2608.601271434397, 2317.890062958162, 1880.6248597030333, 1859.3705219284054, 1831.0114310615932, 1773.5678358652892, 1752.5567264475433, 1708.3703028708762, 1654.5557552425578, 1508.6902054111197, 1484.0579464195453, 1462.8909879733608, 17344.87450822391, 371204.1520780825, 47943.972136011784, 32285.605098393447, 25152.16492949149, 3541.9639524084246, 51583.08719176023, 120591.62965370281, 45966.459221602694, 309895.71182707796, 64997.593755363174, 55356.32373267426, 1419650.52129289, 45874.9881015815, 208748.1171593853, 59605.0976179788, 134292.52446765057, 19155.43669967097, 113632.44770748011, 137500.49155023997, 96402.89252699178, 239691.00268245421, 516886.2230512766, 1222436.4250230934, 66565.2436048811, 40773.364684028485, 24271.816013132626, 16648.486191831915, 15309.06924900524, 9996.042291341637, 8801.817345437861, 6221.222125776051, 6176.424071560667, 5468.046578536996, 5444.022479269135, 4485.743023754709, 4334.609220220938, 4300.216424146283, 3837.8436361542413, 3795.335925861607, 3780.66949056848, 3754.2154847719603, 3717.990847786317, 3674.713735826356, 3539.16363765825, 3297.518042557099, 3172.2585128517217, 3110.6622378162597, 2933.916877628039, 2866.396830260685, 2841.83337190278, 2827.0060154492676, 2769.7401775463145, 2768.067013200907, 5107.912576271988, 164847.63740282925, 38133.06238507095, 14103.863046860946, 32905.1059613351, 20419.911402830392, 90312.49679726585, 108945.0311551251, 8873.768855080576, 11840.486641262125, 17160.095949905593, 14666.358965115709, 177507.7488549072, 17198.439438986374, 185768.91337009112, 5912.790037092839, 116489.31579178889, 466535.4343859866, 83381.72624223593, 87369.03370630345, 414049.2132023211, 381351.1776190909, 106321.81551865189, 210844.46862882018, 371432.8669924482, 208748.1171593853, 1419650.52129289, 221337.6033270658, 79687.46988471637, 22492.786956155363, 21369.42367146202, 13425.26128744768, 13227.141305478837, 11593.14917994099, 9104.559917328137, 8599.276732938974, 8037.425323153106, 7513.848841536003, 5535.067155041891, 4970.2322504595495, 3713.9255900611115, 3480.0098647762075, 3439.6493851734767, 3430.8177205665193, 3354.8087574391875, 3193.5229684723236, 3075.547670957332, 2872.6725972341037, 2695.495158592951, 2536.4868896218964, 2488.6242142739084, 2425.597126188137, 2384.5973058967347, 2288.0494948560467, 2272.6038899614546, 2249.3340536125834, 2158.389380110378, 10308.127115403271, 5234.795615982335, 24292.15201705682, 239451.76827220997, 25207.101400155705, 21560.74187219902, 29782.22681349925, 5311.49155829122, 45966.459221602694, 67866.3079885685, 84015.27862779613, 208748.1171593853, 7575.731677430422, 72555.85016004377, 20094.465937105633, 381351.1776190909, 304676.96475464595, 39054.07486746688, 112147.26694059413, 441868.73546087666, 18816.908273952464, 40526.58142426694, 265196.4720444692, 88728.09407310991, 198254.2878172618, 125921.37680422179, 765569.581345414, 88988.75067434297, 154950.27568065273, 23514.178614146582, 17477.711678557745, 15825.1602387579, 13002.623703469044, 8660.289253904804, 7395.992773359515, 12194.549381322478, 6796.5975184257295, 5524.225861816019, 4405.995595102196, 3958.8471477005833, 3822.8355116702805, 3783.660462907551, 3558.300407421585, 3483.213396021088, 3299.2955752029748, 3169.9874281351235, 3140.5069190278305, 2966.4412799477404, 2657.429586006165, 2638.6107954031622, 2592.3175123688534, 2544.798898905423, 2509.2967704208854, 2496.0690385657604, 2495.5390821271276, 2460.6683713193734, 2362.9274151256086, 2208.4977844020605, 10621.774266428038, 11891.515002244545, 54141.806669821606, 59190.422928174965, 93624.032257275, 26458.33268515266, 39049.60642320012, 54940.88698232041, 91485.89171247296, 16108.968480962432, 67772.42846955267, 18192.496501733534, 64234.79198356337, 381351.1776190909, 265196.4720444692, 83957.66707686936, 76214.0335206345, 180660.72641474954, 83381.72624223593, 185768.91337009112, 238857.09705995934, 220825.45682855416, 840721.9253434482, 243892.83991515372, 607196.6456723833, 108087.9086123706, 192147.46014305175, 128904.47365121735, 223032.2257791379, 28266.27246031702, 23130.944149604686, 18152.599579268954, 11880.600535945037, 10741.94552642291, 9229.351219985369, 8804.668433073144, 8512.030455744965, 8389.678394486684, 8229.34699980036, 7614.890748795132, 5725.570956466033, 4966.231507461367, 4918.850989975599, 4843.721053907464, 4522.802763425388, 4510.185324684861, 4490.428716270398, 4148.528839716823, 4078.7687071863797, 3959.6265551296437, 3735.1925753833575, 3731.874375502246, 3546.1363076348484, 3419.2584017494914, 3417.5578137194425, 2935.4782670613486, 2747.7288145284765, 2745.401367239252, 3279.044531362535, 17276.318577187732, 109847.2882639451, 12334.952876665971, 180660.72641474954, 8968.020513218235, 10329.227854881941, 29766.130346412378, 10625.189947733697, 13815.668086136651, 7648.245185727677, 15004.040393728737, 85188.7441788682, 371897.55345805385, 1348517.8510857653, 68253.50409111608, 117862.7994440721, 139119.59986831457, 572812.3111861399, 607196.6456723833, 299232.7428885123, 277802.85195218323, 143732.14705681647, 419038.45276868244, 67544.08221104446, 19674.20081801284, 16561.08758771476, 14431.885874608752, 12978.858016417582, 10585.284282697487, 7846.836415304656, 5962.730534616047, 5935.564193605167, 5005.824500085414, 4788.639231942433, 3866.3632499729765, 3257.950923313041, 3204.786187720243, 2935.2595258851193, 2917.63531803589, 2684.128869563322, 2441.0841702454404, 2393.85827008594, 2181.242974709622, 2122.731243595582, 2093.152564407738, 2091.676263065028, 1948.2575670753868, 1898.8595094770287, 1842.4960042685245, 1732.1083499390643, 1593.482815394113, 1429.3408617873783, 59614.64891216362, 16231.996676392224, 35818.87311278214, 22270.735563713944, 59605.0976179788, 81728.80066004767, 19742.263247608356, 5996.225170115487, 64661.22001113628, 39824.2495166853, 309895.71182707796, 91485.89171247296, 414049.2132023211, 10119.270559458882, 68012.4940743522, 1419650.52129289, 108945.0311551251, 72765.37263877995, 75357.83847471421, 371432.8669924482, 203185.94175566017, 76506.12921737498, 516886.2230512766, 481427.96349610726, 1222436.4250230934, 20920.617953617733, 12245.724345960843, 9192.954427825607, 8168.060871914531, 7731.383059961091, 7163.330035786602, 6790.474619813462, 6318.708355156433, 6235.112870179936, 5992.969734454367, 5797.393709669906, 5638.6323051131285, 5415.006738108182, 4760.914176178672, 4478.056617074467, 4459.630685879954, 4369.920225553488, 4351.2378690626065, 4267.035370959882, 4115.976205254829, 5339.405392333623, 4065.223587320226, 3768.4433302434013, 3604.4567904919695, 3410.6253118464692, 3312.278313549441, 3048.4211635536267, 3029.2155920758514, 3016.4381287806755, 3006.938573195371, 11594.979802103051, 6572.490587983112, 4431.840509903367, 4690.6632506974975, 7265.892167626007, 98501.91426832245, 27633.82884871923, 214065.96217673545, 21200.34775183802, 36103.357428374045, 148832.6734562376, 15795.896850224146, 8743.118291895691, 32288.37404645088, 12780.913817222096, 57854.24865882447, 7237.881425718649, 191060.10304574133, 93626.70585658961, 39298.289349729, 19623.5503935304, 225010.33992067678, 23009.8060240609, 36189.678585297646, 25101.17087670994, 205633.65208578424, 24560.295467257936, 23618.284179140654, 6669.59809896669, 3472.9998226654566, 3423.7022892526343, 3183.3745254806217, 3145.3522113200142, 2855.1774045835114, 2769.851382808729, 2720.5996115829093, 2708.892144090801, 2671.8384844870066, 2560.968706852185, 2476.943314575808, 2335.331478241329, 2294.560023705247, 2281.2638614975585, 2278.03645320273, 2206.6326806378515, 1993.6053046181707, 1933.9192600995814, 1882.7396769448283, 1882.1056037447083, 1781.446164608861, 1762.1929280835532, 1676.3877515360439, 1656.256071248483, 1653.6827368499773, 1605.3164795938412, 28038.146379041125, 2771.270505784386, 25146.239409174268, 32492.594918003906, 14017.243292909352, 238857.09705995934, 46685.929164999696, 84015.82916062468, 180660.72641474954, 90312.49679726585, 15174.787027334414, 4203.157750358155, 37664.21920069736, 176593.10305715396, 148642.64545778403, 210844.46862882018, 48701.31236266074, 106850.46681869285, 381351.1776190909, 225010.33992067678, 33527.37722085778, 20222.267898961225, 371432.8669924482, 33771.98543581188, 234761.30776719475, 161576.67670511358, 765569.581345414, 98317.23535504253, 282483.8376128717, 150239.8018551012, 194163.20885341082, 33945.70347804939, 24905.60861333354, 10995.90482904314, 10058.114538488606, 9687.833779525416, 9468.52668999208, 9278.54882159524, 7395.585459552665, 6822.84769267682, 6662.092664231151, 5979.778919548074, 5708.354462178952, 5251.974468741087, 5054.600136567993, 4856.723132481047, 4781.955607759777, 4650.972213926021, 4556.184210553324, 4442.532040106314, 4428.32200851605, 4320.614573550591, 4298.069429559263, 4125.9931230285265, 3859.252815267986, 3753.1362440682688, 3683.4693661901715, 3421.8143331927185, 3347.315929031841, 3320.8039436170166, 3199.5627418732884, 10312.580386217765, 87669.90774555801, 4842.484079544529, 9433.615963731358, 18469.496644040657, 65978.68388715028, 840721.9253434482, 265753.6104412036, 42053.45298769827, 27458.176832508365, 14132.722246524318, 12241.26459600403, 10519.0731443061, 9617.259080839005, 7480.199954832962, 6827.5960248979045, 6738.506730382162, 6487.6679059379485, 3981.4515953073515, 3597.69777879445, 3380.865629875376, 3327.568180950609, 3306.7551437924712, 3157.9170107361997, 2973.17927918732, 2842.9926250350413, 2720.6231520674633, 2687.425379050754, 2564.4733232961985, 22067.88621887094, 2439.3569630108123, 2274.5180820909527, 2247.2528397218352, 2194.5975049355657, 2173.690721805017, 2026.0788803680214, 1919.5778468361505, 6625.550260722668, 3117.918738181861, 15600.618009453618, 5305.010890486004, 37337.41640437533, 12031.089200585224, 21272.971375963913, 44172.342604557045, 191060.10304574133, 5510.253617902199, 71283.28262953112, 177893.95085650656, 53189.630624503254, 146140.7417881043, 97092.22718720802, 119021.6928452289, 30200.81774367637, 93626.70585658961, 13068.551467839967, 45188.309080391264, 28176.16400020595, 17529.109057654863, 16126.67347877367, 14464.993809391599, 9230.876096213258, 8186.199464637602, 8040.204956068916, 6920.751198749375, 6762.081427714163, 5876.965142481344, 5417.555703148564, 5335.380044763058, 4854.337095730502, 4614.941400950334, 4516.536050572483, 4424.005532891485, 4394.212541155452, 4076.6432249539016, 4069.4735701697196, 3919.1564029585347, 3889.2397216567615, 3498.2039521334827, 3551.477522948269, 3052.709598886274, 3010.209382267645, 2918.0567392161806, 2810.348104640004, 2761.5729158498157, 2735.1781669585334, 7760.110153918486, 13698.17529408398, 23045.374392902137, 7988.706316883894, 11486.482421613184, 9832.539223264772, 49338.7209785198, 42185.70127817967, 100566.37210883679, 24904.55344331397, 20949.849969373594, 33771.98543581188, 21277.751521584632, 61226.12749925309, 6319.485411495809, 31853.879297316693, 15521.948243124913, 51898.681603903315, 12652.114689092055, 10592.319023255113, 35070.16831689954, 7529.630827856342, 5989.267769080138, 5964.903480602086, 5763.79352007631, 5595.851476939269, 5379.3207602973025, 5200.112286812346, 5152.816101732722, 5040.177374552011, 4971.578339648785, 4896.045629650184, 4564.763416499215, 4549.379377977662, 4301.982915244029, 4221.388601846282, 4075.1524689461457, 3999.336911846588, 3927.8810178701974, 3890.139130191315, 3849.7007623573304, 3821.1860922288106, 3817.9757277723097, 3750.904795373863, 3726.896252546762, 4219.895533174632, 3459.3878328551345, 6232.6598188400785, 38985.78590365552, 16990.66786405651, 13705.643307556145, 6295.308302528968, 19689.692271187872, 24647.641482593222, 48386.131083393004, 73633.8772582241, 29308.909970484026, 28891.854153706456, 25628.69320085159, 21525.91455520149, 18883.724835376514, 15729.589830214967, 14491.083198613751, 12880.024449299475, 12634.051562365126, 10708.556486990798, 9650.503396462114, 8169.006921769737, 7973.262173563784, 7226.508465937132, 6952.084359083934, 6299.11412310291, 5555.173046325104, 5380.67771578902, 5219.472207754232, 4527.0990835233115, 4042.436020347178, 3810.9108799199853, 3517.0093111370606, 3469.4699135550522, 3394.763434669074, 3338.5384222919415, 3160.614944255774, 3103.3073453875827, 2951.900507702233, 9434.336583356197, 55216.34810854833, 5784.235724926409, 516886.2230512766, 5811.946504463856, 11067.7744083213, 7181.630239573182, 297573.102707798, 117760.05503525444, 9683.036261134821, 87988.8601170102, 35292.601744522035, 20365.64080492692, 19726.42957267627, 14434.80030523289, 14349.877889152462, 10994.324164625628, 10674.295346978795, 10498.741932659641, 9151.633991032795, 8302.433725119885, 7597.0032918008765, 7285.58843639737, 7082.363252655994, 5499.211933486305, 5366.7984247221775, 4906.234165474606, 4812.053999831833, 4775.159917909735, 4509.766413361538, 4366.111868125324, 4120.194058794649, 4007.9827516650403, 3837.134223837578, 3833.961402327991, 3504.6166092545805, 3160.9908305860263, 2816.7465545846912, 2642.524931022872, 2547.0817779601434, 32112.450040453212, 14454.27003205354, 25213.422395955564, 26135.770419376182, 39565.449648666974, 15137.792439442095, 120591.62965370281, 19673.319343554493, 309895.71182707796, 46747.86282604411, 15050.016455142159, 13870.817383532143, 13344.755305610643, 11752.459867414133, 9976.112596417152, 9257.165146332663, 9114.520966324608, 8040.724196243083, 7322.651532748371, 7013.507596625273, 6544.145125056542, 6276.497745196882, 6168.494181751075, 5455.757387570551, 5364.841180467298, 5342.250905631289, 4325.840330608298, 4155.987342412368, 3959.542416762734, 3840.207027088818, 3802.4123464050144, 5858.630343178077, 3785.880843749717, 3651.8250639421526, 3623.33981991643, 3471.303530709998, 3323.641670821221, 3241.023941791438, 3231.877622422886, 3519.14301303336, 16078.204040506898, 5983.799715254616, 19205.52728156542, 6655.990212110776, 18830.296125650653, 43680.32115123756, 34317.34849613651, 15903.41813744999, 14926.04904559241, 11772.72018986735, 10732.442198904664, 10233.490278210556, 9169.741157462884, 7605.196986367014, 7005.624968870119, 6165.31702844296, 6054.873352291116, 5637.900813315341, 5177.335194400638, 4812.657311619702, 4652.019114917003, 4571.009808287197, 4564.556156152612, 4404.527915781114, 4188.421207943479, 4141.028269524428, 4096.693992345433, 28112.188337359872, 3992.234248231117, 3930.5391911573, 3486.531517394607, 3389.1616035149077, 3266.1439405222113, 3005.453450514897, 2869.5415203027987, 8109.990334051039, 26406.851282653155, 13209.75940162959, 40304.50526317183, 57576.95293087177, 39708.26786457765, 40667.450744530164, 11430.26956136938, 13670.860438863174, 7880.551563920499, 7625.589151229611, 7448.384135267321, 7204.5154994923805, 6498.664634155194, 6187.34557321053, 5136.345423690094, 4770.880506404909, 4453.267858131376, 4365.1557241916735, 4133.445025731057, 4128.430556779032, 3726.2894893727334, 3651.664688342871, 3587.6730378539137, 3375.231525328708, 3300.583761852896, 3109.073306960188, 3042.967629257298, 2980.996449056888, 2940.832288366645, 2940.165399555284, 2718.8136272269207, 2705.462896714979, 2694.936555431969, 2667.169766619364, 2546.7840519671345, 2478.8442085648626, 2435.844461427219, 37353.052216513446, 6998.0223486919995, 6817.090832405495, 3965.1378688010054, 16696.67228067251, 14939.241035757734, 9298.112491079715, 30451.518997514133, 6213.432558143992, 5636.9093833157895, 5480.212020711825, 5475.414124651533, 4787.594564767468, 5434.3926401123645, 4176.789561852207, 3783.014003870793, 3516.5740997387647, 2763.9823857403094, 2753.769756899059, 2699.862541608505, 2663.7145044028853, 2303.581867323122, 2248.8229305349278, 2213.7133152516853, 2140.2145324522617, 2091.1083137486703, 1927.0058173122598, 1881.346468602714, 1806.1159262668614, 1772.7503240928243, 1763.8846935168187, 1705.385256673054, 1694.4998882704513, 1648.8913417891822, 8609.236815205217, 11411.673166024348, 6858.897200412251, 27379.46931319094, 81870.91623644953, 3481.4169471605856, 1192858.8359878142, 840721.9253434482, 91220.49028188507, 607196.6456723833, 17052.544163521987, 243892.83991515372, 21253.000121925525, 13607.399574062676, 12370.884720956881, 9348.234498000544, 8392.47922651854, 8308.241092362547, 8257.356627709702, 8197.657048858167, 7657.192525647872, 7313.197268383346, 7125.884492731549, 6492.084586151841, 6423.894525035238, 6173.217726830609, 5357.072451114203, 4894.333312820512, 4820.942500162071, 4503.775397027846, 4343.009835689128, 4312.96272397734, 4302.934838602178, 4160.317741264704, 4079.6955008437417, 3875.777115436205, 3844.095191035727, 3770.543967335471, 3757.7615630261357, 3668.4214128294475, 3614.1801453218354, 3556.4674062573167, 8416.509988999638, 49303.213897005975, 26967.032314936994, 19009.80914065769, 9231.600680225614, 15052.11641147256, 10522.846920229962, 69218.28775958037, 8206.341102034006, 7528.908837953988, 35373.90437647504, 13775.665011683379, 12962.621517585523, 9837.501943511039, 9259.480758301748, 8621.12641398401, 7326.651854097789, 6632.838663201382, 5545.034410665156, 5084.684385929453, 4788.916904768219, 4351.410731484447, 4244.527548904279, 3765.3006388265053, 3515.67682439374, 3385.4364731899095, 3320.8156381599197, 3271.647103902922, 3229.905497133583, 3227.1872106164333, 3231.622763574802, 3168.648379714649, 3086.986928558917, 3059.747100020243, 3037.0081834241496, 2974.8617953033727, 2970.177816383253, 2962.2179150180496, 2935.471455945829, 2886.675144276254, 60269.248942120816, 3684.775728501353, 3523.891411650063, 13857.628617688475, 14444.080027830529, 10101.841098680383, 78743.37786750056, 9557.87741943307, 45722.56617613799, 31925.113009181892, 25186.15661601483, 19118.81258871864, 18797.871089165645, 13482.69334324975, 10513.965434352069, 9199.66742392438, 8842.33638633711, 8514.776125792736, 7125.301312039878, 6458.312935953793, 5933.379161537508, 5712.47056281353, 5578.507063577366, 5420.950368270643, 5167.422691723551, 5100.302938526175, 4814.614238175151, 4773.988676725365, 4196.784175389081, 4032.0564722967842, 3869.7611863811044, 3616.2727513619398, 3517.4973839153904, 3421.606044978796, 3384.257166705819, 3014.29126254235, 2975.4150941341436, 2948.5500424208194, 5487.614761150713, 5603.040002357209, 16962.310218736373, 15852.38734176057, 45616.60842484431, 16869.25573322867, 14696.619430771629, 13923.502822129514, 12765.541838594347, 10436.27290844014, 9716.37297885154, 8956.192337242072, 7367.783106642113, 6972.378429179396, 6512.564202474502, 6484.801499107118, 6285.579131316888, 6135.789875369139, 5616.047087875041, 5491.628206264776, 5319.614226917618, 4997.043643019196, 4746.72484216765, 4629.837168508481, 4648.111218915748, 4348.514762927834, 4241.777579140371, 4239.03256084729, 4156.500997936098, 4121.661447962809, 4067.973288280901, 4027.169603462079, 3879.6575814985104, 3840.7497433518683, 6519.318546967535, 10253.457637944073, 5875.26159387134, 56443.56216582809, 44672.281837970935, 25972.122577337897, 17875.534705778628, 16946.00976113305, 14776.399397081714, 9965.77565482193, 9198.64274631455, 5965.676849404995, 4929.91661115509, 4503.109575238296, 4082.3494894428145, 3906.2573556416883, 3873.4563185502234, 3827.5366736017586, 3750.4834210914537, 3449.3573494192156, 3447.9115376079462, 3047.427963680829, 3045.511965218212, 2945.5754449215224, 2767.041143584253, 2688.852683358826, 2685.4146421247365, 2628.1210800745985, 2461.594342100121, 2304.6348920851465, 2149.051428085346, 1981.3067532297925, 1977.4840462884656, 24576.265901582246, 2949.304301905993, 7039.922339025889, 48701.31236266074, 16300.02579826286, 15980.575140357554, 4737.102666924695, 98317.23535504253, 10158.253616414899, 1419650.52129289, 28630.689328096832, 22749.276505925925, 20797.349105952853, 14219.74530174921, 11337.292958856515, 11293.517933316849, 10453.030430609737, 8735.194251791323, 8130.540785522377, 8075.132316302705, 6967.813952225326, 6840.705444766166, 6477.322298101267, 5206.469314356471, 4754.72531413988, 4624.576014043239, 4467.236938912922, 4345.703688151447, 4257.334527941387, 4117.9197000176755, 4058.6615874502704, 3819.0823256740423, 3770.009637265115, 3489.9640397324115, 3445.8425611928387, 3324.55950289744, 3244.788524824265, 3221.0528951364904, 3131.47144100212, 3045.592370586713, 7279.671054352664, 10551.401189839975, 21241.23256919585, 20101.015815572413, 15868.359026472986, 15857.013270307876, 15108.512325597814, 10694.6533201054, 9413.863713059605, 9365.925959290884, 9119.720702456478, 8493.765180057093, 8314.531321179198, 8268.639689427768, 6391.563134247749, 5690.785008204252, 5581.975285419991, 5565.697185141305, 5495.926954442008, 5290.772719880755, 5288.35405673474, 5164.298239776573, 5103.773017854468, 4971.986630276489, 4752.871875676643, 4751.1499826105255, 4707.255430474369, 4248.997308777464, 3991.238925835923, 3745.2340872919553, 3744.635232724704, 3647.9301641506445, 5141.9248239657045, 9765.96345760821, 7728.858840708004, 6736.121774513531, 28045.945945291118, 23819.626152683475, 17936.73181770518, 12619.059257751895, 11258.58368651599, 10627.490217247672, 9519.112467356166, 8899.64376589065, 8653.881732314558, 8030.521378358578, 7968.609228294174, 7626.320858430402, 7360.828178907269, 6144.857241182411, 7391.177705500263, 5682.179108241466, 5315.618310619594, 5023.80223973641, 5019.819969553359, 4545.138932695852, 9840.402657143899, 3987.6697138971685, 3955.9687618410608, 3943.8672522154257, 3618.7881736080585, 3318.318992415828, 3304.6696357786213, 3292.022628663898, 3268.4365018628755, 3238.2304861235402, 5166.051975298358], \"loglift\": [30.0, 29.0, 28.0, 27.0, 26.0, 25.0, 24.0, 23.0, 22.0, 21.0, 20.0, 19.0, 18.0, 17.0, 16.0, 15.0, 14.0, 13.0, 12.0, 11.0, 10.0, 9.0, 8.0, 7.0, 6.0, 5.0, 4.0, 3.0, 2.0, 1.0, 2.613, 2.6129, 2.6129, 2.6129, 2.6129, 2.6128, 2.6128, 2.6128, 2.6128, 2.6128, 2.6128, 2.6127, 2.6127, 2.6127, 2.6127, 2.6127, 2.6127, 2.6127, 2.6127, 2.6126, 2.6126, 2.6126, 2.6126, 2.6126, 2.6126, 2.6125, 2.6125, 2.6125, 2.6125, 2.6125, 2.6123, 2.5725, 2.4839, 2.4831, 2.2906, 2.3388, 2.5257, 2.2888, 2.336, 2.187, 2.5566, 2.1546, 2.53, 2.3959, 2.1241, 1.9396, 2.0879, 2.3454, 1.922, 2.3949, 1.9724, 2.0921, 1.8061, 1.4123, 1.3484, 1.8533, 1.44, 2.0596, 1.6061, 1.5749, 1.4839, 1.9483, 1.1051, 0.7022, 1.3674, 1.4152, 1.0559, 0.9286, 0.4203, 0.3458, 0.5846, 0.64, 0.7999, 0.2287, 2.8073, 2.8073, 2.8073, 2.8073, 2.8073, 2.8073, 2.8073, 2.8073, 2.8073, 2.8073, 2.8073, 2.8073, 2.8073, 2.8072, 2.8072, 2.8072, 2.8072, 2.8072, 2.8072, 2.8072, 2.8072, 2.8072, 2.8072, 2.8072, 2.8072, 2.8072, 2.8072, 2.8072, 2.8072, 2.8071, 2.8055, 2.8004, 2.7445, 2.7037, 2.7064, 2.6292, 2.6064, 2.7632, 2.6124, 2.4402, 2.3329, 2.0977, 2.4079, 2.3468, 2.2629, 2.4145, 2.0288, 1.8607, 2.1827, 2.2089, 1.8187, 1.7669, 1.3396, 2.1019, 2.1303, 1.2092, 1.759, 1.736, 1.4645, 0.9957, 0.9505, 0.916, 2.0924, 1.0961, 1.0893, 0.1586, 1.0719, 0.1477, 0.3127, 0.7128, 0.0121, 0.4607, 0.6862, 0.7128, 0.216, 0.5539, 0.6189, -0.6574, 2.8276, 2.8276, 2.8276, 2.8276, 2.8276, 2.8276, 2.8276, 2.8275, 2.8275, 2.8275, 2.8275, 2.8274, 2.8274, 2.8274, 2.8274, 2.8274, 2.8274, 2.8274, 2.8274, 2.8274, 2.8273, 2.8273, 2.8273, 2.8273, 2.8273, 2.8273, 2.8273, 2.8273, 2.8273, 2.8273, 2.8272, 2.7553, 2.7675, 2.7098, 2.5423, 2.44, 2.7126, 2.5752, 2.6127, 2.3184, 2.3201, 2.0401, 2.5905, 2.6217, 2.0722, 2.3244, 2.2452, 2.0346, 1.4684, 1.6576, 1.5439, 1.7885, 1.6481, 1.5625, 2.0165, 2.1082, 1.1364, 1.2633, 1.9307, 1.2897, 1.4271, 1.3755, 1.3229, 1.3247, 1.5213, 1.1479, 1.2813, 1.2324, 0.4074, 0.7184, 1.0213, 1.5594, -0.062, 1.5588, 0.547, 0.5242, 2.9943, 2.9942, 2.9942, 2.9942, 2.9942, 2.9942, 2.9942, 2.9941, 2.9941, 2.9941, 2.994, 2.994, 2.994, 2.9939, 2.9939, 2.9939, 2.9939, 2.9939, 2.9938, 2.9938, 2.9938, 2.9938, 2.9938, 2.9938, 2.9937, 2.9937, 2.9937, 2.9937, 2.9937, 2.9936, 2.8721, 2.9021, 2.7556, 2.639, 2.6188, 2.6626, 2.4776, 2.8273, 2.6365, 2.2841, 2.3156, 2.2881, 2.2776, 2.2718, 2.1601, 2.3366, 2.5362, 2.5512, 2.3479, 1.7426, 2.1106, 2.2006, 1.6633, 1.8535, 1.8818, 1.7785, 1.645, 1.0608, 2.2019, 1.318, 1.4276, 0.8961, 1.1184, 0.8234, 1.3865, 0.695, 0.4375, 1.5994, 1.1406, 0.2445, 1.0078, 3.0625, 3.0625, 3.0625, 3.0625, 3.0624, 3.0624, 3.0624, 3.0624, 3.0624, 3.0624, 3.0623, 3.0623, 3.0623, 3.0623, 3.0622, 3.0622, 3.0622, 3.0622, 3.0622, 3.0622, 3.0622, 3.0622, 3.0622, 3.0622, 3.0622, 3.0622, 3.0622, 3.0621, 3.0621, 3.0621, 3.0539, 2.8829, 2.862, 2.9488, 2.7804, 2.7626, 2.8437, 2.897, 2.8174, 2.4529, 2.8207, 2.7623, 2.8694, 2.5549, 2.1119, 1.9144, 2.6231, 2.5748, 2.4416, 2.5335, 1.8106, 2.3592, 2.0534, 2.3081, 1.5692, 2.317, 2.3305, 1.4155, 1.3326, 1.3375, 2.1453, 1.8491, 1.5261, 1.4073, 2.0089, 1.3379, 1.1117, 1.1723, 1.5587, 1.6072, 0.3904, 1.2878, 1.6027, 0.9112, 0.7046, 1.4371, 1.7062, -0.2767, 1.2887, 0.4378, 0.5134, 0.7761, 3.0843, 3.0842, 3.0842, 3.0842, 3.0842, 3.0841, 3.0841, 3.0841, 3.0841, 3.084, 3.084, 3.084, 3.084, 3.084, 3.084, 3.084, 3.0839, 3.0839, 3.0839, 3.0839, 3.0839, 3.0839, 3.0839, 3.0839, 3.0839, 3.0839, 3.0839, 3.0839, 3.0839, 3.0839, 3.0822, 3.0571, 3.0333, 3.0115, 2.8688, 2.858, 2.908, 2.9436, 2.7191, 2.9755, 2.6571, 2.827, 2.758, 2.6451, 2.7845, 2.4852, 2.3011, 2.4851, 1.9973, 2.3931, 2.2593, 2.0655, 2.2648, 1.8723, 1.5993, 2.1662, 2.1387, 1.4007, 1.3333, 0.584, 1.9613, 1.0079, 1.0876, 0.9636, 0.0617, 1.4046, 0.6181, -0.4384, 1.4904, 3.1004, 3.1004, 3.1001, 3.1001, 3.1001, 3.0999, 3.0999, 3.0998, 3.0998, 3.0998, 3.0997, 3.0997, 3.0997, 3.0997, 3.0996, 3.0996, 3.0996, 3.0996, 3.0995, 3.0995, 3.0994, 3.0994, 3.0994, 3.0994, 3.0994, 3.0993, 3.0993, 3.0992, 3.0991, 3.0991, 2.8311, 2.8683, 2.8476, 2.9271, 2.6789, 2.478, 2.6827, 2.5766, 2.8121, 2.9336, 2.4879, 2.9017, 2.1554, 2.3923, 2.4159, 2.211, 2.5666, 2.5791, 2.2605, 2.4057, 2.096, 1.8246, 1.8669, 2.4401, 1.9133, 1.6525, 1.9584, 1.9044, 1.5851, 1.2919, 1.3942, 1.2562, 2.0217, 1.9134, 2.2201, 1.1258, 0.4621, 1.4786, 0.3388, 0.0425, 0.0221, 3.2511, 3.2511, 3.2511, 3.251, 3.251, 3.251, 3.251, 3.251, 3.251, 3.251, 3.251, 3.251, 3.251, 3.2509, 3.2509, 3.2509, 3.2509, 3.2509, 3.2509, 3.2509, 3.2509, 3.2509, 3.2509, 3.2509, 3.2509, 3.2509, 3.2508, 3.2508, 3.2508, 3.2508, 3.2159, 3.1551, 3.1577, 3.1959, 3.1617, 3.0372, 2.8901, 2.8913, 3.1629, 3.0719, 3.0106, 2.9522, 2.8933, 2.8462, 2.4873, 2.7509, 2.9722, 2.699, 2.7828, 2.4873, 3.0456, 1.9488, 2.785, 2.2361, 1.6955, 1.9523, 1.7623, 1.8964, 2.6948, 1.726, 1.8623, 1.4559, 1.1106, 1.8801, 1.7656, 0.7168, 1.3523, 1.3578, 1.4374, 1.264, 1.2085, 0.9, 1.0239, 3.3421, 3.3421, 3.3421, 3.3421, 3.3421, 3.342, 3.342, 3.342, 3.342, 3.342, 3.342, 3.3419, 3.3419, 3.3419, 3.3419, 3.3419, 3.3418, 3.3418, 3.3418, 3.3418, 3.3418, 3.3418, 3.3417, 3.3417, 3.3417, 3.3416, 3.3416, 3.3416, 3.3416, 3.3416, 3.3353, 3.3279, 3.2741, 3.3096, 3.3174, 3.2744, 3.2323, 3.0835, 2.8696, 3.1025, 3.1847, 3.1397, 2.7468, 2.9544, 2.7604, 2.5541, 3.1556, 2.8287, 2.479, 2.6587, 2.3439, 1.303, 1.6276, 2.2706, 1.2843, 1.8526, 0.9079, 1.3891, 2.573, 1.4527, 1.9866, 0.2228, 0.3205, 1.4468, 1.3345, 0.2446, 0.7631, 1.4503, 0.9388, 0.8989, -0.3319, 3.3618, 3.3618, 3.3617, 3.3616, 3.3615, 3.3614, 3.3614, 3.3614, 3.3613, 3.3613, 3.3612, 3.3612, 3.3612, 3.3611, 3.3611, 3.3611, 3.3611, 3.3611, 3.3611, 3.361, 3.361, 3.361, 3.361, 3.361, 3.3609, 3.3609, 3.3609, 3.3609, 3.3609, 3.3608, 3.0549, 3.1479, 2.8922, 2.9629, 3.1534, 2.8084, 2.9588, 2.9563, 2.8538, 2.3685, 2.8409, 2.7972, 2.523, 2.8026, 2.4802, 2.9389, 2.3198, 2.8855, 1.882, 1.9496, 2.4495, 2.5811, 2.318, 2.3142, 2.2697, 1.662, 2.1762, 1.1766, 1.8373, 1.314, 1.1, 2.0463, 1.9143, 1.5409, 0.7163, 0.8927, 1.3154, 1.8045, 1.6244, 1.0504, 1.4278, 0.5643, 3.4559, 3.4559, 3.4558, 3.4558, 3.4558, 3.4558, 3.4558, 3.4558, 3.4558, 3.4557, 3.4557, 3.4556, 3.4556, 3.4556, 3.4556, 3.4556, 3.4555, 3.4555, 3.4555, 3.4555, 3.4555, 3.4555, 3.4555, 3.4554, 3.4554, 3.4554, 3.4554, 3.4553, 3.4553, 3.4553, 3.315, 3.3945, 3.276, 3.2293, 3.3806, 3.3405, 3.2434, 2.9535, 3.1618, 3.3604, 2.7043, 2.7831, 2.9511, 3.2603, 2.6759, 2.8058, 2.9316, 2.7854, 2.4712, 3.2399, 2.4559, 2.7588, 3.1651, 2.804, 1.6766, 1.7597, 1.9173, 1.2534, 2.8899, 1.8348, 0.8546, 1.8172, 2.3121, 2.1775, 1.4911, 1.9225, 0.5944, 1.3794, 2.1153, 1.7975, 1.4943, 0.8676, -0.1142, 1.609, 0.4941, 0.9438, 3.5073, 3.5073, 3.5073, 3.5072, 3.5072, 3.5072, 3.5072, 3.5072, 3.5071, 3.5071, 3.5071, 3.5071, 3.507, 3.507, 3.507, 3.507, 3.5069, 3.5069, 3.5069, 3.5069, 3.5069, 3.5069, 3.5069, 3.5069, 3.5068, 3.5068, 3.5068, 3.5068, 3.5067, 3.5067, 3.506, 3.4664, 3.3934, 3.4455, 3.348, 3.3813, 3.031, 3.0959, 2.9247, 3.1389, 3.224, 2.8995, 2.6801, 2.8996, 2.8449, 2.8748, 2.3572, 2.7173, 1.9944, 2.9773, 1.8653, 1.0825, 1.8822, 3.0024, 1.9995, 1.214, 2.6851, 1.9412, 1.1216, 1.2037, 0.7302, 1.509, 0.1314, 1.2753, 1.1743, 1.1804, -0.3719, 3.5171, 3.5171, 3.5171, 3.5171, 3.5171, 3.517, 3.517, 3.517, 3.517, 3.517, 3.517, 3.517, 3.517, 3.517, 3.517, 3.5169, 3.5169, 3.5169, 3.5169, 3.5169, 3.5169, 3.5169, 3.5169, 3.5169, 3.5168, 3.5168, 3.5168, 3.5168, 3.5168, 3.5168, 3.3338, 3.4632, 3.2085, 3.259, 3.3529, 2.9737, 2.7631, 3.1092, 2.7431, 2.0208, 1.9394, 2.7358, 2.2774, 2.0842, 2.9839, 1.0501, 1.9012, 2.6591, 2.6767, 2.32, 1.4868, 0.8528, 2.1801, 1.9985, 0.7901, 1.0786, 0.4495, 0.168, 2.4979, 0.4639, 1.174, 0.5578, 0.7924, -0.1282, 3.5245, 3.5245, 3.5245, 3.5245, 3.5245, 3.5244, 3.5244, 3.5244, 3.5244, 3.5244, 3.5244, 3.5244, 3.5244, 3.5243, 3.5243, 3.5242, 3.5242, 3.5242, 3.5242, 3.5242, 3.5242, 3.5242, 3.5242, 3.5242, 3.5241, 3.5241, 3.524, 3.524, 3.524, 3.524, 3.522, 3.4723, 3.3225, 2.9933, 3.3431, 3.0398, 3.3724, 3.2762, 2.6376, 2.7468, 2.4366, 2.7736, 2.8814, 2.9597, 3.0887, 2.1205, 2.6833, 2.2696, 1.715, 0.6906, 2.8431, 1.707, 2.0199, 2.118, 1.1027, 0.4931, 1.9778, 1.2927, 0.26, 1.3122, -0.1846, 0.5143, 1.7074, -0.1688, 3.6316, 3.6315, 3.6315, 3.6314, 3.6314, 3.6314, 3.6314, 3.6314, 3.6314, 3.6314, 3.6313, 3.6313, 3.6313, 3.6313, 3.6313, 3.6313, 3.6313, 3.6312, 3.6312, 3.6312, 3.6312, 3.6312, 3.6312, 3.6312, 3.6312, 3.6312, 3.6312, 3.6311, 3.6311, 3.6311, 3.6277, 3.5906, 3.5853, 3.4567, 3.4345, 3.439, 3.3977, 3.267, 3.2799, 3.386, 3.2767, 3.4248, 3.3795, 3.1537, 3.2455, 3.5016, 3.2108, 3.4644, 3.0949, 3.4087, 3.3264, 3.1566, 2.6591, 3.2092, 3.3756, 2.5156, 2.5775, 1.7475, 2.5008, 2.3534, 1.5342, 2.0603, 0.9628, 1.4791, 1.1206, 2.058, 3.6679, 3.6678, 3.6678, 3.6678, 3.6678, 3.6678, 3.6677, 3.6677, 3.6676, 3.6676, 3.6676, 3.6676, 3.6675, 3.6675, 3.6675, 3.6675, 3.6675, 3.6674, 3.6674, 3.6674, 3.6673, 3.6673, 3.6673, 3.6673, 3.6672, 3.6672, 3.6672, 3.6672, 3.6672, 3.6671, 3.5337, 3.443, 3.0776, 3.2426, 3.3359, 2.7666, 3.439, 3.0586, 3.3979, 3.16, 2.13, 2.9336, 2.561, 2.9582, 2.638, 2.1209, 2.2329, 2.7918, 1.8783, 2.1528, 2.1895, 1.5364, 1.9012, 1.7068, 1.6057, 1.9461, 2.5198, 1.8706, 0.8587, 1.3093, 1.5732, 0.9941, 1.2636, 1.7145, 0.4218, 0.3674, 1.2477, 1.3222, 0.7487, 0.4387, 3.6865, 3.6865, 3.6865, 3.6863, 3.6863, 3.6863, 3.6863, 3.6863, 3.6863, 3.6863, 3.6863, 3.6863, 3.6863, 3.6862, 3.6862, 3.6862, 3.6861, 3.6861, 3.6861, 3.6861, 3.6861, 3.6861, 3.6861, 3.6861, 3.6861, 3.6861, 3.6861, 3.6861, 3.6861, 3.686, 3.6846, 3.529, 3.354, 3.2952, 2.8307, 3.0382, 3.4641, 2.762, 2.8217, 2.7565, 3.1886, 2.9636, 2.6869, 3.1608, 2.6513, 2.41, 2.6741, 3.1568, 2.516, 1.436, 3.1533, 2.2096, 1.8947, 1.9646, 2.5673, 2.8619, 1.0385, 1.3701, 2.2086, 1.2357, 0.6891, 0.7716, 0.4818, 1.1486, 1.505, 1.0544, 1.213, 0.6704, 0.6932, -0.2842, 3.8691, 3.8691, 3.8691, 3.8691, 3.8691, 3.869, 3.869, 3.869, 3.869, 3.869, 3.8689, 3.8689, 3.8689, 3.8689, 3.8689, 3.8689, 3.8689, 3.8688, 3.8688, 3.8688, 3.8688, 3.8688, 3.8688, 3.8688, 3.8688, 3.8688, 3.8687, 3.8687, 3.8687, 3.8686, 3.7906, 3.5965, 3.4133, 3.6377, 3.0487, 3.3042, 2.889, 3.6065, 3.6454, 2.5261, 3.2116, 3.1439, 2.7843, 3.2065, 2.4016, 1.9037, 1.8131, 1.693, 0.4525, 2.4801, 0.9513, 0.2722, 1.2189, 0.8843, 0.3972, 0.0854, 0.5111, -0.1776, 4.037, 4.0369, 4.0369, 4.0369, 4.0369, 4.0369, 4.0369, 4.0368, 4.0368, 4.0368, 4.0368, 4.0368, 4.0368, 4.0368, 4.0367, 4.0367, 4.0367, 4.0366, 4.0366, 4.0366, 4.0366, 4.0365, 4.0365, 4.0365, 4.0365, 4.0365, 4.0364, 4.0364, 4.0364, 4.0364, 4.0346, 4.0345, 4.0306, 3.606, 3.9029, 3.601, 3.7875, 3.7804, 3.3431, 2.9951, 3.2912, 3.5404, 3.5957, 2.9932, 2.604, 2.7308, 2.6747, 3.3636, 3.3973, 1.9339, 3.0726, 2.9045, 2.6014, 1.4575, 0.4869, 2.163, 1.6138, 2.5159, -0.3186, 1.1168, 0.1575, 4.1306, 4.1306, 4.1306, 4.1306, 4.1306, 4.1306, 4.1306, 4.1305, 4.1305, 4.1305, 4.1305, 4.1305, 4.1304, 4.1304, 4.1304, 4.1304, 4.1304, 4.1304, 4.1304, 4.1304, 4.1303, 4.1303, 4.1302, 4.1302, 4.1302, 4.1302, 4.1302, 4.1302, 4.1302, 4.1302, 4.1194, 3.9518, 3.9382, 3.7871, 3.7422, 2.8097, 3.1548, 3.9309, 2.2486, 1.6723, 2.1484, 0.4375, 1.3078, 1.1517, 1.3818, 0.7687, 2.3868, 2.2653, 1.2779, -0.13, 0.536, 1.3107, 4.1541, 4.1541, 4.1541, 4.154, 4.154, 4.154, 4.154, 4.154, 4.154, 4.154, 4.154, 4.154, 4.154, 4.154, 4.154, 4.154, 4.1539, 4.1539, 4.1539, 4.1539, 4.1539, 4.1539, 4.1539, 4.1539, 4.1539, 4.1539, 4.1539, 4.1538, 4.1538, 4.1538, 4.1529, 4.0336, 4.0536, 3.598, 3.1968, 3.6975, 3.0511, 2.1514, 2.181, 2.3702, 0.3511, 1.562, 0.4561, 0.1693, -0.1396, -0.1794, 0.4943, 0.1785, 1.0076, 1.2268, 0.9299, 4.1665, 4.1665, 4.1665, 4.1665, 4.1665, 4.1664, 4.1664, 4.1664, 4.1664, 4.1664, 4.1664, 4.1664, 4.1663, 4.1663, 4.1663, 4.1663, 4.1663, 4.1663, 4.1663, 4.1663, 4.1663, 4.1663, 4.1663, 4.1662, 4.1662, 4.1662, 4.1662, 4.1662, 4.1662, 4.1662, 4.0482, 4.1026, 3.9249, 3.8299, 3.965, 3.9004, 3.6844, 3.9821, 3.8491, 3.4227, 3.8339, 3.3465, 3.4416, 3.84, 3.6618, 3.8528, 3.2537, 3.9601, 1.8809, 3.5216, 3.6016, 2.0188, 1.2157, 0.9399, 1.1876, 1.7993, 1.5934, 4.1894, 4.1894, 4.1893, 4.1893, 4.1893, 4.1892, 4.1892, 4.1892, 4.1892, 4.1891, 4.1891, 4.1891, 4.189, 4.189, 4.189, 4.189, 4.189, 4.1889, 4.1889, 4.1889, 4.1889, 4.1889, 4.1888, 4.1888, 4.1888, 4.1888, 4.1887, 4.1887, 4.1887, 4.1887, 4.1465, 3.8038, 4.0851, 3.6087, 3.529, 3.4573, 3.9507, 3.1784, 3.5081, 3.5772, 3.9497, 3.5502, 2.9409, 3.8175, 3.1563, 3.4007, 2.4716, 3.1425, 2.3467, 2.4856, 2.9319, 3.4552, 2.7879, 2.2821, 2.7199, 2.0596, 2.3149, 2.4763, 2.2648, 2.7356, 1.9664, 4.1928, 4.1928, 4.1928, 4.1927, 4.1927, 4.1927, 4.1927, 4.1927, 4.1927, 4.1926, 4.1926, 4.1926, 4.1926, 4.1926, 4.1926, 4.1925, 4.1925, 4.1925, 4.1925, 4.1925, 4.1925, 4.1925, 4.1925, 4.1925, 4.1925, 4.1924, 4.1924, 4.1924, 4.1924, 4.1924, 3.8902, 4.0803, 3.9889, 3.9342, 3.9288, 3.4394, 4.0105, 3.5912, 3.1972, 3.2597, 3.3228, 3.3282, 3.6741, 3.4406, 3.1235, 3.1736, 1.4618, 1.2371, 2.4067, 1.4483, -0.2771, -0.2358, -0.4274, 1.5155, 4.27, 4.27, 4.27, 4.27, 4.27, 4.27, 4.2699, 4.2699, 4.2699, 4.2699, 4.2698, 4.2697, 4.2697, 4.2697, 4.2697, 4.2697, 4.2697, 4.2696, 4.2696, 4.2696, 4.2695, 4.2695, 4.2694, 4.2694, 4.2694, 4.2694, 4.2694, 4.2693, 4.2693, 4.2693, 4.1621, 3.9882, 4.0828, 3.9942, 3.4968, 4.0162, 2.9626, 2.6167, 2.8646, 1.8916, 2.613, 2.6509, 0.8428, 2.6723, 1.7479, 2.3874, 1.7458, 3.056, 1.7684, 1.6075, 1.8574, 1.0046, 0.3548, -0.5239, 4.3269, 4.3269, 4.3269, 4.3269, 4.3269, 4.3268, 4.3268, 4.3268, 4.3268, 4.3267, 4.3267, 4.3267, 4.3267, 4.3267, 4.3267, 4.3267, 4.3267, 4.3267, 4.3267, 4.3267, 4.3266, 4.3266, 4.3266, 4.3266, 4.3266, 4.3266, 4.3266, 4.3266, 4.3266, 4.3266, 4.3256, 4.1758, 4.2103, 4.2468, 4.1984, 4.1429, 3.9868, 3.8494, 4.1485, 4.0648, 3.9701, 3.9875, 3.2747, 3.8772, 3.1058, 4.1858, 3.1786, 2.3674, 2.6057, 2.5099, 1.5119, 1.4723, 2.3004, 1.3441, 0.8594, 1.2095, -0.7487, 4.3552, 4.3552, 4.3552, 4.3552, 4.3551, 4.3551, 4.3551, 4.3551, 4.3551, 4.3551, 4.3551, 4.355, 4.355, 4.3549, 4.3549, 4.3549, 4.3549, 4.3549, 4.3549, 4.3549, 4.3549, 4.3548, 4.3548, 4.3548, 4.3548, 4.3548, 4.3548, 4.3548, 4.3548, 4.3547, 4.3547, 4.3416, 4.1756, 3.9153, 3.9703, 3.8254, 3.6972, 4.1533, 3.4279, 3.2789, 3.1812, 2.7864, 3.9971, 2.9353, 3.4575, 1.88, 1.9597, 3.0555, 2.2142, 1.2237, 3.3935, 2.8166, 1.2901, 2.1599, 1.4634, 1.8533, 0.0614, 2.0582, 4.359, 4.359, 4.359, 4.359, 4.359, 4.3589, 4.3589, 4.3589, 4.3589, 4.3589, 4.3588, 4.3588, 4.3588, 4.3588, 4.3588, 4.3588, 4.3587, 4.3587, 4.3587, 4.3587, 4.3587, 4.3587, 4.3587, 4.3586, 4.3586, 4.3586, 4.3586, 4.3586, 4.3586, 4.3586, 4.343, 4.3105, 4.2529, 4.1254, 3.9282, 4.0419, 3.8426, 3.6638, 3.5099, 3.8296, 3.3567, 3.7612, 3.2967, 2.4677, 2.5131, 2.8809, 2.6555, 2.1462, 2.4496, 1.8694, 1.6577, 1.6794, 0.5424, 1.4822, 0.5508, 2.1032, 1.5459, 1.9329, 4.4266, 4.4266, 4.4266, 4.4266, 4.4266, 4.4265, 4.4265, 4.4265, 4.4265, 4.4265, 4.4265, 4.4265, 4.4265, 4.4264, 4.4264, 4.4264, 4.4264, 4.4264, 4.4264, 4.4264, 4.4264, 4.4264, 4.4264, 4.4264, 4.4264, 4.4263, 4.4263, 4.4263, 4.4263, 4.4263, 4.4201, 4.3176, 4.1923, 4.2753, 3.977, 4.2955, 4.2678, 3.95, 4.0932, 4.0018, 4.1537, 3.808, 2.9513, 2.1936, 1.3947, 2.9435, 2.3943, 2.0153, 0.7943, 0.5013, 1.0656, 1.0013, 1.5646, 4.4337, 4.4337, 4.4336, 4.4336, 4.4336, 4.4336, 4.4336, 4.4336, 4.4335, 4.4335, 4.4335, 4.4335, 4.4334, 4.4334, 4.4334, 4.4334, 4.4333, 4.4333, 4.4333, 4.4333, 4.4332, 4.4332, 4.4332, 4.4332, 4.4332, 4.4332, 4.4331, 4.4331, 4.4331, 4.433, 4.2554, 4.3033, 4.2452, 4.2131, 3.86, 3.7307, 3.9814, 4.1935, 3.4223, 3.3966, 2.4114, 2.9201, 2.0397, 3.7495, 2.6935, 0.9075, 2.3431, 2.5544, 2.464, 1.3155, 1.511, 2.2097, 0.4128, 0.3842, -0.5642, 4.5168, 4.5168, 4.5167, 4.5167, 4.5167, 4.5167, 4.5167, 4.5167, 4.5167, 4.5167, 4.5167, 4.5167, 4.5166, 4.5166, 4.5166, 4.5166, 4.5166, 4.5166, 4.5166, 4.5166, 4.5166, 4.5166, 4.5166, 4.5166, 4.5165, 4.5165, 4.5165, 4.5165, 4.5165, 4.5165, 4.5155, 4.5162, 4.4897, 4.4655, 4.3896, 3.9154, 4.1052, 3.619, 4.0973, 3.9118, 3.4688, 4.1, 4.2787, 3.7881, 3.9083, 2.9865, 4.2297, 2.1266, 2.5478, 3.0619, 3.4824, 1.4459, 3.2783, 2.7973, 3.1291, 4.5265, 4.5264, 4.5264, 4.5263, 4.5262, 4.5262, 4.5261, 4.5261, 4.5261, 4.5261, 4.5261, 4.5261, 4.5261, 4.5261, 4.526, 4.526, 4.526, 4.526, 4.526, 4.526, 4.5259, 4.5259, 4.5259, 4.5259, 4.5259, 4.5259, 4.5258, 4.5258, 4.5258, 4.5258, 4.5252, 4.4734, 4.2269, 4.1726, 4.1439, 3.5951, 3.6095, 3.3165, 3.065, 3.2826, 3.776, 4.265, 3.2972, 2.1305, 2.2067, 1.9639, 2.8126, 2.3531, 1.6013, 1.807, 2.9554, 3.2702, 1.3472, 2.873, 1.5174, 1.6633, 0.5238, 1.9719, 1.1465, 1.6206, 1.304, 4.7741, 4.7741, 4.7741, 4.7741, 4.7741, 4.7741, 4.7741, 4.774, 4.774, 4.774, 4.774, 4.774, 4.774, 4.774, 4.774, 4.774, 4.7739, 4.7739, 4.7739, 4.7739, 4.7739, 4.7739, 4.7739, 4.7739, 4.7739, 4.7739, 4.7739, 4.7739, 4.7739, 4.7738, 4.7507, 4.1552, 4.6703, 4.3772, 3.9483, 2.8183, -0.0799, 4.926, 4.926, 4.926, 4.9259, 4.9259, 4.9259, 4.9259, 4.9259, 4.9259, 4.9258, 4.9258, 4.9257, 4.9257, 4.9257, 4.9257, 4.9257, 4.9257, 4.9257, 4.9256, 4.9256, 4.9256, 4.9256, 4.9256, 4.9256, 4.9256, 4.9255, 4.9255, 4.9255, 4.9255, 4.9255, 4.9255, 4.9204, 4.8859, 4.9032, 4.7398, 4.5713, 4.2975, 3.7701, 2.387, 4.4884, 2.8065, 2.0596, 2.7457, 1.9488, 2.1721, 1.9187, 3.0213, 2.0321, 3.7341, 5.1038, 5.1038, 5.1038, 5.1038, 5.1038, 5.1037, 5.1037, 5.1037, 5.1037, 5.1037, 5.1037, 5.1037, 5.1037, 5.1036, 5.1036, 5.1036, 5.1036, 5.1036, 5.1036, 5.1036, 5.1036, 5.1036, 5.1036, 5.1035, 5.1035, 5.1035, 5.1035, 5.1035, 5.1035, 5.1035, 5.0916, 4.9088, 4.6974, 4.9021, 4.8284, 4.7541, 4.2239, 4.198, 3.7971, 4.346, 4.3981, 3.9449, 4.1559, 3.3232, 4.8282, 3.4989, 4.0911, 5.1052, 5.1051, 5.1051, 5.1051, 5.1051, 5.105, 5.105, 5.105, 5.105, 5.105, 5.105, 5.105, 5.105, 5.105, 5.105, 5.105, 5.105, 5.105, 5.105, 5.1049, 5.1049, 5.1049, 5.1049, 5.1049, 5.1049, 5.1049, 5.1049, 5.1049, 5.1049, 5.1049, 5.0539, 4.8262, 4.8616, 4.4788, 4.7928, 3.8784, 3.5358, 2.6124, 5.1071, 5.1071, 5.1071, 5.1071, 5.1071, 5.1071, 5.1071, 5.1071, 5.107, 5.107, 5.107, 5.107, 5.107, 5.107, 5.107, 5.107, 5.107, 5.1069, 5.1069, 5.1069, 5.1069, 5.1069, 5.1069, 5.1068, 5.1068, 5.1068, 5.1068, 5.1068, 5.1068, 5.1068, 4.8426, 4.2427, 4.867, 3.0459, 4.7861, 4.3054, 4.5353, 1.2449, 1.9465, 4.2382, 5.1437, 5.1437, 5.1437, 5.1437, 5.1437, 5.1437, 5.1436, 5.1436, 5.1436, 5.1436, 5.1436, 5.1436, 5.1436, 5.1436, 5.1435, 5.1435, 5.1435, 5.1435, 5.1435, 5.1435, 5.1435, 5.1435, 5.1435, 5.1435, 5.1435, 5.1434, 5.1434, 5.1434, 5.1433, 5.1433, 4.9151, 4.8202, 4.5062, 4.4106, 4.0176, 4.4643, 3.2937, 4.1811, 2.129, 5.1753, 5.1753, 5.1753, 5.1753, 5.1753, 5.1752, 5.1752, 5.1752, 5.1752, 5.1752, 5.1752, 5.1752, 5.1752, 5.1752, 5.1752, 5.1752, 5.1751, 5.1751, 5.1751, 5.1751, 5.1751, 5.1751, 5.1751, 5.1751, 5.1751, 5.1751, 5.175, 5.175, 5.175, 5.175, 5.1745, 5.148, 4.7592, 3.8507, 4.6187, 3.6427, 5.1762, 5.1762, 5.1762, 5.1761, 5.1761, 5.1761, 5.1761, 5.1761, 5.1761, 5.1761, 5.1761, 5.176, 5.176, 5.176, 5.176, 5.176, 5.176, 5.176, 5.176, 5.176, 5.176, 5.176, 5.176, 5.176, 5.176, 5.1759, 5.1759, 5.1759, 5.1759, 5.1759, 5.1748, 4.9429, 4.8319, 4.5072, 4.1795, 3.9395, 3.8716, 4.5043, 5.2423, 5.2423, 5.2423, 5.2423, 5.2422, 5.2422, 5.2422, 5.2422, 5.2422, 5.2422, 5.2422, 5.2421, 5.2421, 5.2421, 5.2421, 5.2421, 5.2421, 5.2421, 5.2421, 5.2421, 5.242, 5.242, 5.242, 5.242, 5.242, 5.242, 5.242, 5.242, 5.242, 5.242, 4.6955, 4.8668, 4.824, 5.0437, 5.2473, 5.2473, 5.2473, 5.2472, 5.2472, 5.2472, 5.2472, 5.2472, 5.2472, 5.2472, 5.2472, 5.2471, 5.2471, 5.247, 5.247, 5.247, 5.247, 5.247, 5.247, 5.2469, 5.2469, 5.2469, 5.2469, 5.2469, 5.2468, 5.2468, 5.2468, 5.2468, 5.2468, 5.2468, 5.1649, 4.9203, 4.7975, 3.9034, 2.5488, 4.7286, 0.1059, 0.1009, 1.7701, -0.2377, 3.2033, 0.5629, 5.2824, 5.2824, 5.2824, 5.2824, 5.2824, 5.2824, 5.2824, 5.2824, 5.2824, 5.2824, 5.2823, 5.2823, 5.2823, 5.2823, 5.2823, 5.2823, 5.2823, 5.2823, 5.2823, 5.2823, 5.2823, 5.2822, 5.2822, 5.2822, 5.2822, 5.2822, 5.2822, 5.2822, 5.2822, 5.2822, 5.1288, 4.7116, 4.5302, 4.5586, 4.8798, 4.5898, 4.7638, 3.5454, 4.8029, 4.7766, 5.2858, 5.2857, 5.2857, 5.2857, 5.2857, 5.2857, 5.2857, 5.2856, 5.2856, 5.2856, 5.2856, 5.2856, 5.2855, 5.2855, 5.2855, 5.2855, 5.2855, 5.2855, 5.2855, 5.2855, 5.2855, 5.2855, 5.2855, 5.2855, 5.2855, 5.2854, 5.2854, 5.2854, 5.2854, 5.2854, 5.2843, 5.2852, 5.2747, 5.0753, 5.0159, 4.8566, 3.5507, 4.6232, 5.346, 5.3459, 5.3459, 5.3459, 5.3459, 5.3459, 5.3459, 5.3459, 5.3459, 5.3459, 5.3458, 5.3458, 5.3458, 5.3458, 5.3458, 5.3458, 5.3458, 5.3458, 5.3458, 5.3458, 5.3457, 5.3457, 5.3457, 5.3457, 5.3457, 5.3457, 5.3457, 5.3456, 5.3456, 5.3456, 5.3439, 5.2248, 4.591, 4.3156, 5.369, 5.369, 5.369, 5.369, 5.369, 5.3689, 5.3689, 5.3689, 5.3689, 5.3689, 5.3689, 5.3689, 5.3689, 5.3689, 5.3689, 5.3689, 5.3688, 5.3688, 5.3688, 5.3688, 5.3688, 5.3688, 5.3688, 5.3688, 5.3688, 5.3688, 5.3688, 5.3688, 5.3688, 5.3688, 5.0218, 4.6575, 5.0056, 5.3695, 5.3695, 5.3695, 5.3695, 5.3695, 5.3694, 5.3694, 5.3694, 5.3693, 5.3693, 5.3693, 5.3693, 5.3693, 5.3693, 5.3693, 5.3692, 5.3692, 5.3692, 5.3692, 5.3692, 5.3692, 5.3691, 5.3691, 5.3691, 5.3691, 5.3691, 5.3691, 5.369, 5.369, 5.369, 5.2718, 5.3492, 5.0953, 4.3406, 4.6393, 4.4049, 5.0343, 3.1069, 4.5079, -0.73, 5.4284, 5.4283, 5.4283, 5.4283, 5.4283, 5.4283, 5.4283, 5.4283, 5.4283, 5.4283, 5.4282, 5.4282, 5.4282, 5.4282, 5.4282, 5.4282, 5.4282, 5.4282, 5.4281, 5.4281, 5.4281, 5.4281, 5.4281, 5.4281, 5.4281, 5.4281, 5.4281, 5.4281, 5.4281, 5.4281, 4.8141, 4.5085, 5.4545, 5.4545, 5.4545, 5.4545, 5.4544, 5.4544, 5.4544, 5.4544, 5.4544, 5.4544, 5.4544, 5.4544, 5.4544, 5.4543, 5.4543, 5.4543, 5.4543, 5.4543, 5.4543, 5.4543, 5.4543, 5.4543, 5.4543, 5.4543, 5.4543, 5.4543, 5.4543, 5.4542, 5.4542, 5.4542, 5.412, 5.2341, 5.1234, 5.0471, 5.4939, 5.4939, 5.4938, 5.4938, 5.4938, 5.4938, 5.4938, 5.4938, 5.4938, 5.4938, 5.4938, 5.4938, 5.4938, 5.4937, 5.4937, 5.4937, 5.4937, 5.4937, 5.4937, 5.4937, 5.4936, 5.4936, 5.4936, 5.4936, 5.4936, 5.4936, 5.4936, 5.4936, 5.4936, 5.4936, 5.2536], \"logprob\": [30.0, 29.0, 28.0, 27.0, 26.0, 25.0, 24.0, 23.0, 22.0, 21.0, 20.0, 19.0, 18.0, 17.0, 16.0, 15.0, 14.0, 13.0, 12.0, 11.0, 10.0, 9.0, 8.0, 7.0, 6.0, 5.0, 4.0, 3.0, 2.0, 1.0, -6.1346, -7.0113, -7.2059, -7.3414, -7.3519, -7.4249, -7.5567, -7.6366, -7.6719, -7.6862, -7.7827, -7.9135, -7.9801, -7.9865, -8.0025, -8.0416, -8.0858, -8.118, -8.1229, -8.2296, -8.2375, -8.2693, -8.3073, -8.3136, -8.3341, -8.4396, -8.4509, -8.4747, -8.4845, -8.3371, -7.3273, -5.9458, -5.0009, -5.1995, -3.4281, -4.1832, -7.0781, -4.169, -4.9642, -3.6174, -7.6308, -4.2791, -7.4386, -6.418, -4.6794, -3.514, -4.7431, -6.5007, -4.4599, -6.783, -4.914, -5.4607, -4.2651, -3.0769, -3.3211, -5.2165, -4.146, -5.8513, -4.6623, -4.6918, -4.6365, -5.7769, -4.441, -3.961, -5.0289, -5.1387, -4.7756, -4.7278, -4.2428, -4.6673, -4.8144, -5.0724, -5.0909, -5.1098, -5.8676, -6.0483, -6.1566, -6.1867, -6.2694, -6.3452, -6.4754, -6.539, -6.6062, -6.6494, -6.7769, -6.7981, -6.8206, -6.8544, -6.924, -7.0171, -7.0266, -7.0317, -7.061, -7.0901, -7.138, -7.1431, -7.2709, -7.2843, -7.297, -7.347, -7.3496, -7.3573, -7.3721, -7.4266, -6.7887, -6.2852, -5.2369, -5.4065, -6.1076, -5.9351, -6.0867, -7.02, -6.2856, -5.5485, -5.0974, -4.1738, -5.5165, -5.3475, -5.1183, -5.6549, -4.5779, -4.2109, -5.0921, -5.3851, -4.6704, -4.61, -4.1163, -5.4257, -5.5527, -4.5122, -5.2034, -5.2206, -4.9715, -4.5749, -4.6516, -4.7404, -5.6437, -4.8938, -4.9218, -4.3306, -4.9877, -4.4911, -4.6552, -4.8925, -4.6574, -4.9361, -5.0465, -5.1172, -5.0386, -5.1083, -5.1896, -5.198, -5.5781, -6.0116, -6.1749, -6.46, -6.4974, -6.5799, -6.6686, -7.0233, -7.2423, -7.2827, -7.3529, -7.5241, -7.5731, -7.5779, -7.5985, -7.6305, -7.6485, -7.6794, -7.7001, -7.7054, -7.7561, -7.7662, -7.7792, -7.7889, -7.8244, -7.8772, -7.8927, -7.904, -7.9048, -7.9583, -7.8672, -5.7378, -6.774, -6.681, -5.4139, -4.8634, -7.0273, -6.2056, -6.5174, -4.9242, -4.945, -3.6723, -6.4902, -6.667, -4.2085, -5.4348, -5.3006, -4.6968, -3.1703, -3.8969, -3.5628, -4.4805, -4.1547, -3.9837, -5.1525, -5.6063, -3.8315, -4.2363, -5.3796, -4.3697, -4.6149, -4.5721, -4.5771, -4.7081, -5.0326, -4.6836, -4.84, -4.8193, -4.2622, -4.5362, -4.8185, -5.1554, -4.725, -5.1715, -5.0236, -5.081, -4.4445, -6.4575, -6.4738, -6.5243, -6.5513, -6.6497, -6.8161, -7.2007, -7.2167, -7.3444, -7.6061, -7.7072, -7.753, -7.8046, -7.8318, -7.8937, -7.894, -7.9737, -8.0261, -8.046, -8.096, -8.1194, -8.1736, -8.1738, -8.2121, -8.2243, -8.297, -8.3392, -8.3515, -8.3712, -5.6266, -6.2457, -4.9238, -4.2303, -4.1606, -4.7412, -3.1056, -6.9156, -5.6068, -3.4351, -4.126, -4.0431, -4.2191, -4.2121, -3.8995, -4.7929, -5.7796, -6.068, -5.4253, -3.8627, -4.9646, -5.2345, -3.8911, -4.4899, -4.6919, -4.5103, -4.4053, -3.5779, -5.3648, -4.2526, -4.4322, -3.7672, -4.2784, -4.1897, -4.7173, -4.2729, -4.1032, -4.9044, -4.6621, -4.425, -4.6545, -6.7227, -6.7574, -6.8371, -6.9382, -7.0476, -7.1133, -7.1893, -7.3393, -7.3593, -7.416, -7.4912, -7.5596, -7.6768, -7.7098, -7.7245, -7.747, -7.7885, -7.7977, -7.8064, -7.8635, -7.8666, -7.8748, -7.9066, -7.9173, -7.9226, -7.9238, -7.931, -7.977, -7.9828, -8.0352, -7.431, -5.6937, -5.8666, -6.8292, -5.4143, -5.3824, -6.358, -6.7499, -6.4617, -4.5977, -6.565, -6.2999, -6.8677, -5.5173, -3.7789, -3.0987, -6.1284, -6.0939, -5.7166, -6.1025, -4.3224, -5.6939, -5.0199, -5.6376, -4.0872, -5.6852, -5.7155, -4.084, -4.0059, -4.2645, -5.5573, -5.1785, -4.7546, -4.6388, -5.5759, -4.9127, -4.6919, -4.8176, -5.1886, -5.2621, -4.2729, -5.0434, -5.2819, -4.9888, -5.1223, -5.3832, -5.4757, -4.9398, -5.3737, -5.2746, -5.291, -5.4512, -4.9872, -5.0299, -4.5852, -6.3128, -6.3205, -6.7247, -6.8568, -6.9499, -7.1072, -6.2439, -7.2095, -7.2756, -5.3793, -7.4584, -7.4614, -7.5066, -7.5249, -7.6111, -7.6266, -7.6274, -7.6374, -7.6721, -7.6834, -7.6942, -7.6951, -7.6972, -7.7206, -7.722, -7.7279, -7.7354, -6.1508, -6.11, -5.8451, -6.0696, -4.7815, -4.8156, -5.4756, -6.1158, -4.2509, -6.6158, -3.7887, -5.5864, -5.221, -4.6227, -5.7347, -4.5813, -4.0492, -4.9589, -4.074, -5.281, -5.1022, -4.7381, -5.2019, -4.5146, -4.1194, -5.1294, -5.1111, -4.3117, -4.5065, -3.9052, -5.175, -4.5382, -4.8601, -4.8632, -4.5771, -5.0991, -5.0413, -5.1015, -5.1738, -6.0217, -6.6536, -7.5987, -7.649, -7.7628, -8.1625, -8.1716, -8.1977, -8.2592, -8.2869, -8.328, -8.392, -8.4251, -6.8723, -8.4695, -8.5004, -8.5152, -8.5625, -8.572, -8.6161, -8.7072, -8.7173, -8.7187, -8.7301, -8.7315, -8.8068, -8.8234, -8.8489, -8.9303, -8.9368, -2.9886, -4.7056, -4.4295, -6.4006, -3.5717, -2.0626, -4.2698, -3.2502, -6.0228, -7.2596, -3.8622, -7.2424, -2.5078, -3.9671, -4.515, -3.5217, -5.9679, -6.05, -4.804, -5.4551, -4.3916, -3.6314, -3.7953, -5.9496, -4.3933, -3.7443, -4.8305, -4.9194, -4.2193, -3.9627, -4.4966, -4.3271, -5.4134, -5.293, -5.653, -4.7042, -4.2074, -5.0105, -4.6743, -4.6206, -4.9458, -4.536, -5.2128, -5.5905, -6.3622, -6.4735, -4.4756, -6.5074, -6.544, -6.7042, -6.8296, -6.8445, -6.861, -6.8716, -6.9774, -7.0624, -7.0775, -7.0908, -7.1093, -7.1388, -7.165, -7.2286, -7.2502, -7.2766, -7.2814, -7.2921, -7.2972, -7.3461, -7.3832, -7.3933, -7.4003, -5.8689, -5.2986, -5.621, -6.4098, -5.8755, -4.4868, -3.8018, -3.9207, -6.5004, -5.7966, -5.3537, -5.2374, -5.4459, -5.2403, -3.8313, -4.9991, -5.9201, -5.0036, -5.3496, -4.5193, -6.2061, -3.5048, -5.5542, -4.5528, -3.7013, -4.1681, -3.8971, -4.1539, -5.5449, -4.316, -4.5246, -4.1493, -3.9025, -4.6861, -4.6676, -3.922, -4.5477, -4.7018, -4.831, -4.8398, -4.8243, -4.9198, -5.1719, -4.2292, -4.2636, -4.895, -4.9198, -5.6549, -6.1292, -6.1842, -6.2507, -6.4738, -6.5574, -6.5698, -6.7963, -6.9099, -4.8066, -6.9368, -7.0009, -7.0766, -7.081, -7.1301, -7.1451, -7.2047, -7.2273, -7.4757, -7.5263, -7.5321, -7.6501, -7.6893, -7.7192, -7.7306, -7.7565, -5.17, -5.4212, -4.8622, -6.2316, -6.6322, -5.4884, -5.9464, -4.8572, -2.9902, -5.2062, -6.1982, -6.0105, -4.231, -5.2697, -5.0201, -4.5638, -6.3714, -5.5803, -4.8403, -5.2841, -4.696, -3.3603, -3.943, -4.9954, -3.8224, -4.5378, -3.7309, -4.5017, -5.5356, -4.828, -5.1653, -4.2664, -4.3425, -4.9595, -4.9323, -4.7685, -4.8963, -5.0465, -5.0511, -5.0487, -5.0015, -5.0377, -5.3544, -6.3103, -6.8609, -6.9928, -7.3369, -7.418, -7.4496, -7.5704, -7.6342, -7.8347, -7.9181, -7.9199, -7.9343, -7.9358, -7.9398, -7.9767, -7.9886, -8.0642, -8.1162, -8.1279, -8.1344, -8.1372, -8.1828, -8.2312, -8.2349, -8.242, -8.2701, -8.2954, -8.3268, -3.1698, -5.4439, -2.3624, -3.7843, -6.2117, -3.9367, -5.2745, -5.3566, -5.6075, -3.3642, -5.6386, -5.4886, -4.4451, -5.6678, -4.5517, -6.2884, -4.175, -6.265, -3.0859, -3.5064, -5.1372, -5.5029, -4.8537, -4.8714, -4.8766, -4.0003, -4.9827, -3.364, -4.5222, -3.7927, -3.5631, -4.9542, -4.8302, -4.5921, -3.9532, -4.1204, -4.5846, -4.8919, -4.8685, -4.7811, -4.8787, -4.7743, -6.1546, -6.1878, -6.5019, -6.5125, -6.5606, -6.5868, -6.7265, -6.8571, -6.8598, -6.8663, -7.1751, -7.2892, -7.42, -7.4232, -7.4603, -7.4883, -7.5128, -7.5175, -7.524, -7.5465, -7.632, -7.6537, -7.6699, -7.6968, -7.7034, -7.7773, -7.8501, -7.8585, -7.8904, -7.8999, -2.084, -6.2743, -3.4698, -3.4745, -6.5175, -6.5288, -5.6572, -3.3474, -5.268, -7.0059, -3.5641, -4.4956, -5.2912, -6.6421, -4.2124, -4.8481, -5.4043, -4.8626, -4.1513, -6.6448, -4.4305, -5.3568, -6.433, -5.7365, -3.777, -4.0801, -4.3715, -3.4097, -5.942, -4.7313, -3.6346, -4.8082, -5.3271, -5.2376, -4.6294, -5.0563, -4.0751, -4.6756, -5.3318, -5.2723, -5.2325, -5.1652, -5.0821, -5.2756, -5.2251, -5.27, -3.7663, -4.0777, -4.1576, -5.5731, -5.6896, -5.7861, -6.1962, -6.2322, -6.4671, -6.5397, -6.753, -6.7718, -6.9076, -6.9167, -6.9683, -6.9877, -7.1878, -7.2255, -7.2314, -7.2382, -7.2689, -7.3218, -7.3558, -7.3651, -7.3893, -7.4266, -7.5336, -7.5514, -7.6003, -7.617, -6.3816, -5.4936, -2.4354, -5.8804, -3.8025, -5.6815, -2.555, -3.9864, -4.3993, -5.5608, -6.1556, -5.0915, -4.394, -5.1882, -5.0243, -5.1526, -3.8097, -4.9372, -3.8371, -5.7527, -4.2551, -3.4582, -4.4678, -5.8748, -4.8851, -4.5053, -5.6215, -5.1071, -4.7182, -4.8425, -4.6666, -4.9838, -4.5074, -5.0433, -5.0531, -5.1791, -5.0415, -3.7624, -4.1152, -4.6292, -4.687, -5.7831, -6.0125, -6.0676, -6.2701, -6.2748, -6.3094, -6.4594, -6.5046, -6.553, -6.5855, -6.6013, -6.6798, -6.7285, -6.8034, -6.8514, -6.8536, -6.8673, -6.9558, -6.9956, -7.0074, -7.0455, -7.0469, -7.0822, -7.0853, -7.0866, -7.1365, -3.1606, -6.3709, -4.3506, -4.8767, -5.842, -3.5416, -2.839, -5.6219, -4.9753, -3.2523, -3.782, -5.3629, -4.5699, -4.3574, -5.9071, -3.4391, -4.7055, -5.6013, -5.621, -5.2702, -4.5848, -4.1151, -5.2337, -5.1262, -4.223, -4.4921, -4.1893, -4.5015, -5.5441, -4.9921, -5.2323, -5.1044, -5.1975, -5.235, -3.6761, -3.6873, -4.3646, -4.6287, -5.0964, -5.3732, -5.5561, -5.5561, -5.5693, -5.8016, -5.8024, -6.0442, -6.2644, -6.4719, -6.7285, -6.9454, -6.9651, -6.9775, -6.9805, -7.0697, -7.0702, -7.0926, -7.1101, -7.1285, -7.2463, -7.3758, -7.415, -7.4742, -7.4938, -7.0158, -6.2514, -5.685, -4.559, -2.2798, -5.9316, -4.0411, -6.1961, -5.7269, -3.3905, -4.2931, -3.2848, -4.4853, -4.8974, -5.4341, -5.8641, -3.7101, -5.1209, -4.9092, -4.3567, -3.7986, -5.6545, -4.7346, -5.0367, -5.1121, -4.4679, -4.1457, -5.0383, -4.7184, -4.7079, -5.0941, -4.8541, -5.091, -5.307, -5.2755, -4.5153, -5.5198, -5.6464, -6.0839, -6.085, -6.1107, -6.3561, -6.4787, -6.5424, -6.6088, -6.7066, -6.7296, -6.7584, -6.8018, -6.8302, -6.902, -6.9455, -7.0189, -7.0887, -7.0895, -7.0901, -7.0968, -7.1008, -7.1297, -7.1529, -7.1625, -7.2181, -7.3071, -7.3341, -7.3569, -2.5454, -4.2581, -4.5303, -3.3867, -3.6202, -4.3064, -3.9503, -2.7879, -3.1818, -4.3662, -3.3487, -5.1752, -4.8622, -3.0601, -4.1366, -6.0628, -4.5606, -5.9411, -4.2668, -5.7202, -5.4184, -4.9808, -3.7313, -5.3535, -5.7634, -3.9881, -4.4511, -3.8357, -4.9457, -4.8388, -4.5161, -5.0156, -4.6232, -4.8097, -4.7192, -5.0171, -2.1192, -4.8454, -4.9428, -4.9859, -5.3685, -5.5724, -6.0795, -6.2944, -6.5863, -6.727, -6.845, -6.8984, -7.0728, -7.093, -7.0993, -7.1626, -7.169, -7.2711, -7.2954, -7.3056, -7.473, -7.5001, -7.5378, -7.5543, -7.5883, -7.6395, -7.6458, -7.6767, -7.7118, -7.7499, -6.2402, -5.6498, -3.8049, -5.1203, -6.002, -3.5769, -6.657, -5.4176, -6.7323, -6.072, -3.6785, -5.6007, -4.774, -5.7244, -5.0512, -4.1064, -4.3445, -5.5187, -3.9254, -4.464, -4.6342, -3.7366, -4.3669, -4.1232, -4.0506, -4.4871, -5.2461, -4.6223, -3.6819, -4.1467, -4.4785, -4.1126, -4.3197, -4.6817, -4.0674, -4.3022, -4.8026, -4.8736, -4.9136, -4.9581, -5.6114, -5.7415, -5.7489, -6.4987, -6.6387, -6.7337, -6.7507, -6.7723, -6.7914, -6.8077, -6.81, -6.8533, -6.8578, -6.9191, -6.9431, -7.0035, -7.1709, -7.1771, -7.2169, -7.2709, -7.2736, -7.2976, -7.3125, -7.3143, -7.3381, -7.3465, -7.3571, -7.3614, -7.3659, -7.4143, -5.6278, -5.5346, -4.1349, -3.8567, -1.8324, -4.0032, -6.2301, -3.3711, -3.9836, -3.866, -5.4769, -4.9373, -4.4361, -5.8822, -4.7429, -4.5072, -5.0153, -5.941, -4.8624, -3.2272, -5.966, -4.5349, -4.157, -4.3363, -5.1947, -5.6728, -3.6311, -4.3491, -5.1291, -4.567, -4.2788, -4.3352, -4.157, -4.6711, -4.8453, -4.8054, -4.9082, -4.8841, -4.9121, -4.7734, -3.0858, -3.5823, -3.7586, -3.8752, -3.9906, -4.5004, -4.6353, -4.641, -4.702, -5.5826, -5.95, -6.1227, -6.183, -6.2097, -6.2195, -6.2962, -6.3641, -6.4648, -6.5747, -6.6073, -6.6345, -6.6528, -6.6877, -6.699, -6.7149, -6.7244, -6.9163, -6.9344, -7.0028, -7.0392, -3.4824, -2.8691, -3.6432, -5.7443, -4.0879, -4.9935, -3.9583, -6.1315, -6.2158, -4.208, -5.6473, -5.5812, -5.1197, -5.6746, -5.0812, -4.7387, -4.7021, -4.8193, -4.0367, -5.363, -4.6508, -4.3973, -4.8092, -4.6864, -4.6159, -4.5533, -4.762, -5.1455, -1.8401, -4.8279, -5.0505, -5.3808, -5.6289, -5.7106, -5.7238, -5.8494, -6.0447, -6.0864, -6.1286, -6.1671, -6.2555, -6.2796, -6.408, -6.5458, -6.5584, -6.6932, -6.7616, -6.784, -6.8707, -6.932, -6.9811, -7.0383, -7.0712, -7.0842, -7.1234, -7.1258, -7.1455, -7.2176, -4.2957, -4.3465, -6.0338, -2.2026, -5.7175, -2.7758, -4.5706, -4.5164, -4.0669, -3.016, -4.4876, -5.4295, -5.6438, -4.238, -3.8615, -4.2836, -4.3818, -5.3875, -5.4707, -4.0942, -5.2201, -5.0772, -4.9716, -4.3725, -4.0023, -5.181, -5.1131, -5.4329, -4.9574, -5.3248, -5.342, -2.8327, -3.0339, -3.0415, -3.0631, -3.2186, -3.2652, -3.7555, -4.1177, -4.1746, -4.1832, -4.7287, -5.0065, -5.5509, -5.6765, -5.6789, -5.7179, -5.7221, -5.7298, -5.839, -6.0049, -6.3245, -6.3772, -6.479, -6.5136, -6.5516, -6.5522, -6.6059, -6.6432, -6.7203, -6.7242, -5.951, -3.6583, -5.206, -5.0778, -5.3946, -3.7587, -4.6534, -6.219, -4.2667, -4.3389, -4.9081, -4.0517, -4.5222, -4.5697, -4.6898, -4.5044, -5.1233, -5.1486, -4.9901, -4.7688, -5.0346, -5.1309, -2.13, -3.6875, -4.1512, -4.5835, -4.7463, -4.8458, -5.0887, -5.1392, -5.2045, -5.2766, -5.3429, -5.366, -5.4033, -5.4226, -5.4415, -5.4573, -5.7078, -5.7135, -5.885, -5.9143, -5.9641, -5.9788, -6.043, -6.0738, -6.0766, -6.0902, -6.1169, -6.2452, -6.3496, -6.3549, -5.3188, -2.4787, -3.9127, -3.6792, -3.3716, -5.162, -3.9995, -3.6786, -4.3342, -4.6458, -4.1381, -4.7692, -4.6507, -4.7986, -4.8092, -4.8182, -5.0763, -5.16, -5.2197, -5.2675, -5.2949, -3.7758, -3.9622, -4.2139, -4.9685, -5.0669, -5.202, -5.4629, -5.5358, -5.5716, -5.7029, -5.7829, -5.8073, -5.928, -5.9301, -5.9559, -5.9786, -6.0314, -6.0613, -6.0853, -6.1128, -6.1635, -6.2257, -6.2428, -6.3816, -6.4394, -6.4409, -6.4606, -6.47, -6.3287, -6.5391, -3.5215, -5.8174, -4.1206, -3.3225, -4.82, -4.5003, -3.5774, -5.3369, -4.9973, -3.7236, -5.0578, -4.0747, -4.4276, -5.3338, -5.1247, -5.4837, -4.7373, -5.6651, -3.6187, -5.3168, -5.4933, -5.0635, -4.9513, -5.1119, -5.1942, -5.3599, -5.4817, -2.2705, -3.3602, -4.9296, -5.1588, -5.3383, -5.6567, -5.6703, -5.7835, -6.0218, -6.2866, -6.4158, -6.4179, -6.4387, -6.4599, -6.508, -6.5103, -6.591, -6.6938, -6.7571, -6.8514, -6.8764, -6.8959, -6.9016, -6.9326, -6.971, -7.0029, -7.0917, -7.0977, -7.1072, -7.1315, -4.3257, -3.3209, -6.2843, -3.4371, -3.0445, -3.2778, -5.7638, -2.1601, -3.8083, -4.5215, -6.1355, -5.1326, -3.7215, -5.8534, -4.6346, -5.1381, -3.5565, -4.8628, -3.757, -3.9931, -4.7277, -5.4895, -4.9267, -4.7938, -5.1064, -4.7253, -5.0266, -5.0914, -5.1604, -5.3138, -5.1699, -2.2073, -2.6669, -2.7017, -3.5588, -4.268, -4.5503, -4.6928, -5.1321, -5.3285, -5.3472, -5.4808, -5.5252, -5.5359, -5.6646, -5.6951, -6.0089, -6.0969, -6.0997, -6.1086, -6.2339, -6.2356, -6.2389, -6.2875, -6.3535, -6.3538, -6.3898, -6.4775, -6.5115, -6.5295, -6.5324, -2.8439, -5.0466, -4.0121, -4.169, -5.1002, -3.5155, -5.7341, -4.3576, -4.0329, -4.3185, -4.6056, -4.7987, -5.3772, -5.0794, -4.7447, -5.0541, -4.5899, -4.7528, -5.1284, -5.0446, -4.7664, -4.9054, -5.0662, -5.1808, -1.4878, -3.8853, -4.1578, -4.3471, -4.3326, -4.5245, -4.7766, -5.0912, -5.1266, -5.4205, -5.9079, -6.1537, -6.193, -6.2503, -6.2529, -6.3045, -6.3947, -6.4748, -6.5189, -6.6372, -6.8463, -6.8577, -6.8731, -6.905, -6.9169, -6.9424, -6.9745, -7.0668, -7.0833, -7.0977, -4.732, -1.8425, -3.7945, -4.2786, -5.0256, -6.4665, -4.8416, -4.3383, -5.0549, -4.1195, -4.96, -5.0827, -3.6464, -5.2492, -4.6584, -5.2722, -5.1015, -5.7388, -5.246, -5.2163, -5.3214, -5.2635, -5.1448, -5.1627, -3.2223, -3.7124, -4.2312, -4.6082, -4.6921, -5.1184, -5.2456, -5.5926, -5.5999, -5.7217, -5.7261, -5.9198, -5.954, -5.962, -6.0758, -6.0869, -6.0908, -6.0978, -6.1075, -6.1192, -6.1568, -6.2276, -6.2663, -6.2859, -6.3445, -6.3677, -6.3764, -6.3816, -6.4021, -6.4027, -5.791, -2.4666, -3.896, -4.8541, -4.0553, -4.588, -3.2573, -3.2071, -5.4158, -5.211, -4.9347, -5.0743, -3.2937, -5.0254, -3.417, -5.7845, -3.8109, -3.2347, -4.7183, -4.7673, -4.2095, -4.3314, -4.7805, -5.0521, -4.9706, -5.1968, -5.2379, -1.9925, -3.014, -4.279, -4.3302, -4.7951, -4.81, -4.9418, -5.1835, -5.2406, -5.3082, -5.3755, -5.6812, -5.7889, -6.0803, -6.1454, -6.1571, -6.1597, -6.1821, -6.2313, -6.269, -6.3373, -6.4009, -6.4618, -6.4808, -6.5065, -6.5236, -6.5649, -6.5717, -6.582, -6.6233, -5.0598, -5.7504, -4.3816, -2.3537, -4.5499, -4.8511, -4.6563, -5.9242, -4.4916, -4.251, -4.1352, -3.6198, -5.7253, -4.5277, -5.2894, -3.9236, -4.0684, -5.0269, -4.8134, -4.4327, -5.4192, -5.2288, -4.8768, -5.1019, -4.9945, -5.0585, -5.0454, -5.2006, -2.3452, -4.2308, -4.5275, -4.6268, -4.8233, -5.2297, -5.3875, -4.8875, -5.4721, -5.6794, -5.9056, -6.0126, -6.0476, -6.0579, -6.1193, -6.1407, -6.1949, -6.2349, -6.2443, -6.3013, -6.4114, -6.4185, -6.4362, -6.4547, -6.4687, -6.474, -6.4742, -6.4883, -6.5289, -6.5965, -5.0415, -4.961, -3.5029, -3.5412, -3.2799, -4.4299, -4.2399, -4.0773, -3.7213, -5.1384, -4.1745, -5.0852, -4.2881, -3.336, -3.6538, -4.4361, -4.7583, -4.4046, -4.8744, -4.6534, -4.6138, -4.6706, -4.4707, -4.7684, -4.7878, -4.9613, -4.9432, -4.9554, -1.9134, -3.9791, -4.1796, -4.422, -4.8459, -4.9467, -5.0985, -5.1456, -5.1794, -5.1939, -5.2132, -5.2908, -5.576, -5.7183, -5.7279, -5.7433, -5.8118, -5.8146, -5.819, -5.8982, -5.9152, -5.9448, -6.0032, -6.0041, -6.0552, -6.0916, -6.0921, -6.2442, -6.3103, -6.3112, -6.1397, -4.5805, -2.8559, -4.9597, -2.5737, -5.2582, -5.1446, -4.404, -5.291, -5.1198, -5.5592, -5.2311, -4.3512, -3.6352, -3.1459, -4.5806, -4.5835, -4.7967, -4.6026, -4.8372, -4.9805, -5.1191, -5.2148, -1.2757, -3.1009, -4.3344, -4.5067, -4.6443, -4.7504, -4.9543, -5.2537, -5.5283, -5.5329, -5.7033, -5.7476, -5.9616, -6.1329, -6.1493, -6.2372, -6.2433, -6.3267, -6.4217, -6.4412, -6.5342, -6.5615, -6.5755, -6.5762, -6.6473, -6.673, -6.7031, -6.7649, -6.8484, -6.9572, -3.4041, -4.6571, -3.9237, -4.431, -3.7997, -3.6133, -4.7832, -5.7628, -4.1559, -4.6663, -3.5998, -4.3111, -3.6817, -5.6834, -4.8341, -3.5817, -4.7134, -4.9057, -4.9611, -4.5145, -4.9222, -5.2003, -5.0868, -5.1864, -5.203, -4.1899, -4.7254, -5.0122, -5.1304, -5.1854, -5.2617, -5.3152, -5.3872, -5.4005, -5.4401, -5.4733, -5.5011, -5.5416, -5.6703, -5.7316, -5.7357, -5.756, -5.7603, -5.7799, -5.8159, -5.5557, -5.8283, -5.9041, -5.9487, -6.0039, -6.0332, -6.1162, -6.1226, -6.1268, -6.13, -4.7813, -5.3483, -5.7689, -5.7363, -5.3746, -3.2419, -4.3231, -2.7621, -4.5961, -4.2492, -3.2758, -4.8876, -5.3004, -4.4846, -5.2911, -4.703, -5.5383, -4.3682, -4.6603, -5.0143, -5.2882, -4.8854, -5.3332, -5.3613, -5.3954, -1.8948, -4.0198, -4.0589, -5.3235, -5.9762, -5.9905, -6.0633, -6.0753, -6.1721, -6.2025, -6.2204, -6.2248, -6.2385, -6.2809, -6.3143, -6.3732, -6.3908, -6.3966, -6.3981, -6.4299, -6.5315, -6.5619, -6.5887, -6.5891, -6.6441, -6.6549, -6.7049, -6.717, -6.7185, -6.7482, -3.8886, -6.2547, -4.2958, -4.0938, -4.9632, -2.6764, -4.2944, -3.9999, -3.4857, -3.9615, -5.2518, -6.0465, -4.8215, -4.4431, -4.5391, -4.4323, -5.0491, -4.7229, -4.2023, -4.5243, -5.2796, -5.4704, -4.4828, -5.3548, -4.7714, -4.9991, -4.583, -5.1872, -4.9573, -5.1145, -5.1747, -3.4485, -3.7582, -4.5758, -4.6649, -4.7024, -4.7253, -4.7456, -4.9725, -5.0531, -5.0769, -5.185, -5.2315, -5.3148, -5.3531, -5.3931, -5.4086, -5.4364, -5.4569, -5.4822, -5.4854, -5.51, -5.5153, -5.5561, -5.623, -5.6509, -5.6696, -5.7433, -5.7654, -5.7733, -5.8105, -4.6633, -3.1186, -5.4997, -5.1259, -4.883, -4.7398, -5.093, -1.2388, -3.0825, -3.5087, -4.173, -4.3166, -4.4683, -4.5579, -4.8093, -4.9006, -4.9137, -4.9516, -5.44, -5.5414, -5.6035, -5.6194, -5.6257, -5.6718, -5.7321, -5.7769, -5.8209, -5.8332, -5.88, -3.7277, -5.9301, -6.0001, -6.0121, -6.0358, -6.0454, -6.1158, -6.1698, -4.931, -5.6898, -4.1141, -5.1755, -3.3876, -4.6886, -4.3925, -4.1891, -4.1078, -5.5523, -4.6742, -4.5066, -5.0279, -4.814, -4.9996, -5.0494, -5.3182, -5.176, -5.4431, -2.8327, -3.3051, -3.7797, -3.8631, -3.9719, -4.4211, -4.5412, -4.5592, -4.7091, -4.7323, -4.8727, -4.9541, -4.9694, -5.0639, -5.1144, -5.136, -5.1567, -5.1635, -5.2385, -5.2403, -5.2779, -5.2856, -5.3916, -5.3765, -5.5278, -5.5419, -5.573, -5.6106, -5.6281, -5.6377, -4.6068, -4.2213, -3.9125, -4.7672, -4.4778, -4.7076, -3.6247, -3.8073, -3.3395, -4.1863, -4.3071, -4.2828, -4.5338, -4.3096, -5.0755, -4.7873, -4.914, -2.6929, -4.1044, -4.2821, -3.085, -4.6235, -4.8524, -4.8565, -4.8908, -4.9203, -4.9598, -4.9937, -5.0028, -5.0249, -5.0386, -5.054, -5.124, -5.1274, -5.1833, -5.2023, -5.2375, -5.2563, -5.2743, -5.284, -5.2944, -5.3019, -5.3027, -5.3205, -5.3269, -5.2026, -5.4014, -4.8636, -3.258, -4.0531, -4.6508, -5.1148, -4.8888, -5.0069, -5.2558, -2.3412, -3.2624, -3.2767, -3.3966, -3.571, -3.702, -3.8848, -3.9668, -4.0847, -4.1039, -4.2693, -4.3733, -4.54, -4.5643, -4.6626, -4.7014, -4.8, -4.9257, -4.9576, -4.988, -5.1304, -5.2437, -5.3026, -5.3829, -5.3965, -5.4183, -5.435, -5.4898, -5.5081, -5.5581, -4.6604, -3.4934, -5.1253, -2.4536, -5.2013, -5.0379, -5.2405, -4.8068, -5.0322, -5.2388, -2.1265, -3.04, -3.5899, -3.6217, -3.9341, -3.94, -4.2064, -4.2359, -4.2525, -4.3898, -4.4872, -4.576, -4.6179, -4.6462, -4.8992, -4.9236, -5.0134, -5.0327, -5.0404, -5.0976, -5.13, -5.188, -5.2156, -5.2592, -5.26, -5.3499, -5.4531, -5.5684, -5.6323, -5.6691, -3.363, -4.2561, -4.0138, -4.0735, -4.0518, -4.5659, -3.6612, -4.5871, -3.8822, -2.7273, -3.8607, -3.9423, -3.981, -4.1081, -4.2719, -4.3467, -4.3623, -4.4876, -4.5812, -4.6243, -4.6936, -4.7354, -4.7527, -4.8755, -4.8924, -4.8966, -5.1077, -5.1477, -5.1962, -5.2268, -5.2367, -4.8044, -5.241, -5.2771, -5.2849, -5.3278, -5.3713, -5.3965, -5.3993, -5.3146, -3.8219, -5.1991, -4.9415, -5.2332, -5.1692, -2.7943, -3.0355, -3.8047, -3.8681, -4.1055, -4.198, -4.2456, -4.3554, -4.5425, -4.6246, -4.7524, -4.7705, -4.8418, -4.9271, -5.0001, -5.0341, -5.0516, -5.0531, -5.0888, -5.1391, -5.1505, -5.1612, -3.2352, -5.1871, -5.2026, -5.3225, -5.3509, -5.3879, -5.4711, -5.5174, -4.4795, -3.5309, -4.3345, -3.5438, -3.5148, -4.1263, -4.1704, -4.8068, -3.8898, -4.4407, -4.4736, -4.4971, -4.5304, -4.6335, -4.6826, -4.8688, -4.9427, -5.0116, -5.0316, -5.0861, -5.0873, -5.1898, -5.2101, -5.2278, -5.2888, -5.3112, -5.371, -5.3925, -5.4131, -5.4266, -5.4269, -5.5052, -5.5101, -5.514, -5.5244, -5.5706, -5.5976, -5.6151, -3.4315, -4.9349, -5.004, -5.3261, -3.6848, -3.796, -4.2703, -3.084, -4.6734, -4.7708, -4.799, -4.7999, -4.9342, -4.8074, -5.0707, -5.1697, -5.2428, -5.4837, -5.4874, -5.5071, -5.5206, -5.6659, -5.69, -5.7058, -5.7395, -5.7628, -5.8445, -5.8685, -5.9094, -5.928, -5.933, -5.9668, -5.9732, -6.0005, -4.4297, -4.3924, -5.0244, -4.5341, -4.7934, -5.7713, -4.5574, -4.9122, -5.464, -5.5762, -5.7077, -5.6877, -3.4084, -3.8543, -3.9496, -4.2298, -4.3377, -4.3478, -4.3539, -4.3612, -4.4294, -4.4753, -4.5013, -4.5945, -4.605, -4.6448, -4.7867, -4.877, -4.8921, -4.9602, -4.9966, -5.0035, -5.0058, -5.0395, -5.0591, -5.1104, -5.1186, -5.1379, -5.1413, -5.1654, -5.1803, -5.1964, -4.4883, -3.1377, -3.9225, -4.2438, -4.6449, -4.446, -4.6301, -3.9647, -4.8396, -4.952, -2.8956, -3.8388, -3.8996, -4.1755, -4.236, -4.3075, -4.4702, -4.5697, -4.7489, -4.8356, -4.8955, -4.9913, -5.0162, -5.136, -5.2046, -5.2424, -5.2617, -5.2766, -5.2894, -5.2903, -5.2889, -5.3086, -5.3347, -5.3436, -5.351, -5.3717, -5.3733, -5.376, -5.3851, -5.4018, -2.3642, -5.158, -5.2132, -4.0432, -4.0612, -4.5781, -3.8305, -4.8668, -2.5788, -2.938, -3.1751, -3.4508, -3.4677, -3.8001, -4.0488, -4.1823, -4.222, -4.2597, -4.4379, -4.5362, -4.621, -4.6589, -4.6827, -4.7113, -4.7592, -4.7723, -4.83, -4.8384, -4.9673, -5.0074, -5.0485, -5.1162, -5.1439, -5.1716, -5.1826, -5.2984, -5.3114, -5.3204, -4.7009, -4.7992, -4.3253, -4.6684, -2.5581, -3.5529, -3.6908, -3.7448, -3.8317, -4.0331, -4.1046, -4.1861, -4.3814, -4.4365, -4.5048, -4.509, -4.5402, -4.5644, -4.6529, -4.6753, -4.7071, -4.7697, -4.8211, -4.846, -4.8421, -4.9087, -4.9336, -4.9342, -4.9539, -4.9623, -4.9754, -4.9855, -5.0229, -5.0329, -4.8508, -4.7622, -4.971, -2.3446, -2.5785, -3.1209, -3.4945, -3.5479, -3.6849, -4.0788, -4.1589, -4.592, -4.7827, -4.8733, -4.9714, -5.0155, -5.024, -5.0359, -5.0562, -5.14, -5.1404, -5.2639, -5.2645, -5.2979, -5.3604, -5.3891, -5.3904, -5.412, -5.4775, -5.5434, -5.6133, -5.6946, -5.6965, -3.2738, -5.3166, -4.7005, -3.5211, -4.3169, -4.5711, -5.1577, -4.0522, -4.9212, -5.2192, -2.9645, -3.1945, -3.2842, -3.6644, -3.891, -3.8948, -3.9722, -4.1517, -4.2235, -4.2303, -4.3778, -4.3962, -4.4508, -4.6693, -4.7601, -4.7878, -4.8224, -4.85, -4.8706, -4.9039, -4.9184, -4.9792, -4.9922, -5.0694, -5.0821, -5.118, -5.1423, -5.1496, -5.1778, -5.2056, -4.9482, -4.8826, -3.237, -3.2921, -3.5286, -3.5293, -3.5777, -3.9232, -4.0508, -4.0559, -4.0825, -4.1536, -4.175, -4.1805, -4.438, -4.5542, -4.5735, -4.5764, -4.589, -4.6271, -4.6275, -4.6513, -4.6631, -4.6892, -4.7343, -4.7347, -4.744, -4.8464, -4.909, -4.9726, -4.9728, -4.999, -4.6979, -4.2344, -4.5791, -4.7928, -2.9197, -3.083, -3.3667, -3.7183, -3.8324, -3.8901, -4.0003, -4.0676, -4.0956, -4.1703, -4.1781, -4.222, -4.2574, -4.438, -4.2534, -4.5163, -4.583, -4.6395, -4.6403, -4.7396, -3.9672, -4.8705, -4.8785, -4.8816, -4.9676, -5.0543, -5.0584, -5.0623, -5.0695, -5.0788, -4.8517]}, \"token.table\": {\"Topic\": [15, 42, 45, 16, 15, 2, 15, 4, 15, 15, 15, 15, 4, 15, 21, 35, 32, 15, 26, 27, 32, 15, 27, 19, 30, 4, 27, 2, 15, 16, 19, 1, 2, 3, 4, 5, 6, 8, 9, 10, 11, 12, 13, 14, 15, 16, 17, 18, 19, 20, 21, 22, 23, 24, 25, 26, 27, 28, 29, 30, 31, 32, 34, 37, 38, 41, 45, 46, 2, 15, 33, 42, 33, 29, 15, 1, 6, 9, 11, 15, 33, 1, 1, 11, 15, 33, 7, 22, 1, 11, 11, 15, 24, 11, 44, 1, 15, 33, 6, 1, 11, 11, 48, 9, 17, 1, 2, 4, 6, 9, 11, 13, 14, 15, 17, 18, 20, 21, 24, 33, 42, 44, 50, 48, 1, 48, 9, 1, 9, 11, 47, 24, 11, 1, 9, 17, 1, 2, 3, 4, 5, 6, 9, 10, 11, 12, 13, 14, 15, 17, 18, 20, 21, 24, 33, 42, 4, 48, 11, 1, 9, 11, 1, 9, 17, 1, 2, 4, 6, 9, 11, 13, 14, 15, 21, 33, 42, 32, 48, 38, 1, 11, 5, 1, 9, 11, 9, 49, 1, 11, 15, 33, 42, 29, 34, 15, 7, 36, 17, 1, 2, 5, 11, 15, 21, 33, 1, 11, 15, 7, 22, 1, 11, 26, 1, 11, 15, 22, 26, 27, 11, 12, 1, 50, 50, 25, 3, 3, 33, 4, 5, 49, 5, 1, 2, 3, 5, 6, 7, 9, 10, 28, 8, 1, 5, 7, 45, 1, 2, 3, 4, 5, 6, 8, 9, 11, 12, 13, 14, 15, 17, 18, 19, 20, 21, 22, 23, 24, 25, 26, 27, 31, 32, 6, 1, 2, 3, 4, 5, 6, 7, 8, 10, 12, 13, 14, 15, 16, 17, 18, 19, 20, 21, 23, 24, 25, 26, 28, 29, 30, 35, 38, 49, 36, 1, 10, 15, 22, 37, 7, 13, 16, 18, 21, 28, 48, 1, 2, 5, 6, 11, 15, 21, 30, 2, 22, 33, 42, 20, 16, 1, 2, 12, 15, 20, 22, 28, 29, 29, 12, 19, 16, 48, 1, 2, 3, 4, 9, 11, 12, 14, 17, 18, 21, 25, 8, 31, 33, 35, 42, 36, 36, 2, 3, 5, 7, 10, 21, 27, 2, 4, 5, 7, 8, 12, 27, 28, 42, 3, 4, 5, 8, 12, 13, 18, 19, 20, 22, 23, 24, 25, 32, 37, 45, 50, 32, 27, 1, 6, 10, 1, 6, 9, 31, 3, 4, 21, 48, 6, 1, 1, 9, 1, 2, 5, 7, 12, 13, 18, 21, 26, 27, 28, 29, 40, 1, 3, 4, 5, 6, 7, 8, 9, 10, 11, 12, 13, 16, 17, 18, 20, 21, 22, 23, 24, 29, 30, 32, 34, 38, 20, 34, 11, 28, 1, 2, 5, 11, 42, 47, 39, 29, 4, 7, 13, 18, 21, 32, 34, 1, 2, 6, 9, 13, 14, 15, 19, 20, 25, 2, 21, 26, 27, 40, 4, 5, 7, 8, 12, 28, 29, 36, 7, 1, 2, 4, 5, 7, 12, 17, 21, 26, 27, 28, 5, 47, 33, 32, 26, 3, 5, 7, 10, 13, 16, 18, 20, 21, 28, 44, 20, 1, 2, 5, 6, 8, 11, 13, 15, 16, 21, 22, 23, 24, 28, 29, 32, 4, 2, 19, 20, 21, 24, 25, 35, 2, 3, 7, 10, 12, 14, 16, 17, 19, 20, 25, 29, 9, 11, 21, 26, 49, 48, 15, 15, 32, 1, 2, 19, 24, 25, 38, 48, 1, 3, 4, 6, 9, 11, 12, 14, 15, 17, 18, 21, 22, 25, 31, 9, 6, 14, 15, 19, 20, 25, 38, 15, 20, 15, 39, 10, 19, 24, 13, 2, 13, 18, 21, 2, 30, 12, 33, 31, 36, 12, 21, 29, 42, 14, 35, 24, 34, 10, 12, 44, 4, 14, 40, 14, 20, 13, 18, 23, 2, 5, 7, 8, 12, 27, 28, 29, 2, 8, 13, 21, 22, 26, 2, 13, 14, 18, 20, 25, 27, 46, 36, 29, 2, 40, 38, 27, 12, 12, 24, 3, 21, 33, 2, 2, 3, 4, 5, 7, 9, 10, 14, 18, 19, 20, 21, 24, 25, 27, 32, 34, 40, 49, 49, 44, 42, 1, 2, 3, 4, 5, 6, 7, 8, 9, 10, 11, 12, 13, 14, 15, 16, 17, 18, 19, 20, 21, 22, 23, 24, 25, 26, 27, 29, 30, 32, 1, 15, 41, 37, 32, 38, 28, 42, 1, 2, 3, 4, 5, 8, 11, 12, 13, 14, 16, 17, 18, 19, 20, 21, 23, 24, 25, 26, 28, 1, 2, 3, 9, 11, 12, 13, 14, 16, 18, 19, 20, 21, 25, 26, 1, 2, 6, 8, 9, 12, 13, 14, 18, 21, 22, 24, 25, 26, 31, 36, 13, 18, 20, 23, 33, 5, 35, 4, 9, 13, 14, 18, 20, 26, 41, 23, 46, 47, 45, 24, 3, 47, 18, 7, 16, 49, 47, 2, 14, 18, 27, 2, 13, 44, 25, 8, 1, 8, 12, 12, 31, 40, 8, 28, 29, 17, 46, 30, 1, 2, 13, 18, 19, 20, 21, 35, 7, 26, 17, 22, 31, 2, 20, 2, 14, 19, 2, 44, 30, 1, 2, 3, 4, 6, 8, 9, 11, 12, 14, 15, 16, 18, 20, 22, 24, 27, 31, 24, 14, 24, 29, 29, 5, 2, 2, 8, 13, 18, 20, 24, 14, 1, 2, 3, 5, 6, 7, 8, 9, 10, 11, 12, 13, 14, 15, 16, 17, 18, 19, 20, 22, 24, 28, 29, 37, 1, 14, 50, 12, 2, 13, 18, 19, 18, 37, 13, 21, 2, 47, 24, 11, 4, 15, 31, 12, 22, 45, 14, 25, 32, 6, 6, 8, 11, 22, 23, 25, 34, 6, 8, 34, 13, 39, 18, 25, 25, 25, 23, 41, 25, 1, 2, 9, 14, 24, 25, 31, 49, 20, 9, 19, 5, 6, 9, 10, 16, 31, 34, 1, 43, 1, 7, 11, 12, 16, 17, 24, 30, 8, 2, 14, 19, 24, 26, 27, 38, 44, 32, 2, 24, 8, 46, 48, 47, 42, 27, 2, 19, 27, 3, 24, 41, 40, 41, 2, 32, 37, 26, 43, 39, 21, 5, 11, 30, 6, 37, 40, 37, 1, 28, 37, 35, 49, 6, 42, 43, 2, 26, 49, 45, 13, 20, 10, 33, 39, 38, 23, 6, 32, 37, 41, 29, 13, 6, 11, 22, 27, 28, 15, 6, 46, 36, 10, 8, 37, 22, 14, 44, 10, 4, 48, 1, 2, 3, 4, 5, 6, 8, 11, 12, 13, 14, 16, 17, 19, 20, 22, 23, 25, 28, 29, 31, 50, 3, 4, 5, 6, 14, 16, 19, 20, 22, 23, 25, 30, 31, 34, 1, 8, 12, 27, 28, 9, 16, 1, 2, 3, 5, 6, 8, 9, 12, 13, 15, 17, 28, 29, 31, 11, 11, 28, 1, 6, 15, 3, 5, 10, 29, 28, 18, 3, 4, 12, 13, 15, 16, 18, 20, 21, 22, 31, 32, 45, 1, 2, 3, 4, 5, 6, 7, 8, 10, 11, 12, 13, 14, 15, 16, 17, 18, 19, 20, 21, 22, 24, 25, 29, 32, 2, 23, 38, 2, 14, 19, 20, 23, 25, 30, 38, 23, 25, 2, 37, 50, 1, 2, 5, 21, 26, 27, 33, 42, 3, 35, 18, 3, 30, 49, 46, 13, 14, 16, 18, 20, 2, 14, 1, 19, 1, 6, 9, 10, 22, 45, 23, 13, 23, 13, 2, 7, 12, 29, 44, 14, 18, 18, 18, 32, 25, 20, 20, 40, 20, 20, 2, 2, 40, 2, 16, 1, 2, 3, 4, 5, 7, 8, 10, 11, 12, 13, 14, 15, 16, 17, 18, 19, 20, 21, 22, 23, 24, 25, 26, 27, 28, 29, 32, 1, 2, 3, 5, 6, 8, 10, 11, 12, 13, 14, 15, 16, 19, 21, 22, 23, 27, 28, 29, 32, 42, 2, 13, 14, 18, 19, 20, 21, 26, 27, 39, 22, 18, 7, 36, 45, 8, 38, 42, 32, 29, 2, 13, 18, 20, 17, 3, 4, 5, 8, 12, 13, 18, 22, 28, 29, 34, 40, 26, 19, 26, 2, 5, 8, 12, 28, 4, 6, 7, 8, 9, 11, 13, 16, 17, 18, 20, 25, 32, 3, 5, 29, 16, 31, 42, 1, 3, 4, 5, 6, 8, 9, 10, 11, 12, 13, 14, 15, 16, 17, 18, 20, 21, 27, 29, 31, 34, 44, 12, 22, 48, 25, 1, 3, 9, 16, 38, 11, 2, 12, 26, 27, 28, 42, 2, 13, 35, 26, 24, 24, 50, 1, 2, 8, 9, 11, 13, 14, 18, 19, 21, 24, 25, 26, 29, 32, 14, 14, 14, 1, 5, 13, 29, 34, 31, 4, 2, 13, 14, 15, 16, 18, 19, 20, 21, 23, 24, 25, 1, 2, 3, 4, 5, 6, 7, 8, 9, 10, 11, 12, 13, 14, 15, 16, 17, 18, 19, 20, 21, 22, 23, 24, 25, 26, 27, 29, 32, 5, 7, 8, 12, 28, 31, 1, 1, 9, 22, 27, 1, 2, 5, 7, 11, 12, 22, 28, 31, 2, 3, 4, 5, 13, 14, 15, 17, 18, 20, 21, 25, 27, 30, 32, 34, 47, 34, 42, 2, 4, 8, 9, 10, 11, 12, 22, 23, 25, 36, 39, 11, 23, 17, 47, 27, 18, 1, 2, 3, 4, 5, 6, 8, 9, 11, 12, 13, 14, 15, 16, 17, 18, 19, 20, 21, 22, 23, 24, 25, 32, 45, 5, 9, 10, 16, 17, 23, 10, 49, 41, 1, 5, 6, 8, 12, 11, 1, 27, 31, 40, 1, 2, 3, 5, 6, 7, 9, 10, 11, 13, 14, 18, 20, 21, 23, 24, 25, 26, 27, 30, 19, 32, 40, 5, 13, 18, 45, 2, 3, 4, 6, 7, 8, 12, 13, 14, 17, 20, 21, 22, 23, 24, 25, 29, 42, 2, 14, 20, 19, 24, 50, 14, 17, 1, 3, 6, 8, 11, 12, 13, 16, 19, 22, 24, 28, 31, 34, 22, 44, 24, 4, 5, 15, 22, 32, 3, 3, 29, 6, 11, 19, 24, 3, 5, 14, 22, 27, 38, 1, 2, 3, 4, 5, 6, 8, 9, 10, 11, 12, 13, 14, 15, 16, 17, 18, 19, 20, 21, 22, 25, 26, 27, 28, 29, 30, 31, 32, 47, 1, 2, 3, 4, 5, 6, 8, 10, 11, 12, 13, 15, 17, 18, 19, 20, 21, 22, 26, 27, 28, 32, 5, 17, 5, 39, 17, 27, 1, 9, 16, 21, 26, 26, 27, 32, 13, 25, 35, 29, 27, 8, 9, 22, 31, 26, 2, 21, 38, 2, 13, 14, 36, 21, 28, 36, 10, 35, 29, 2, 13, 14, 18, 20, 21, 24, 25, 30, 38, 5, 24, 46, 19, 4, 8, 11, 12, 16, 17, 22, 24, 29, 2, 30, 50, 16, 23, 5, 19, 1, 2, 6, 9, 13, 14, 15, 18, 19, 20, 24, 25, 32, 36, 40, 2, 46, 13, 23, 1, 5, 6, 7, 9, 49, 1, 2, 3, 4, 6, 8, 9, 14, 15, 18, 19, 21, 23, 25, 26, 27, 30, 31, 32, 40, 48, 47, 33, 18, 45, 37, 43, 3, 6, 15, 17, 22, 25, 47, 12, 12, 12, 3, 3, 3, 33, 2, 12, 28, 1, 10, 41, 28, 1, 2, 3, 4, 5, 6, 7, 8, 9, 10, 11, 12, 13, 14, 15, 16, 17, 18, 19, 20, 21, 22, 24, 25, 27, 28, 29, 31, 32, 37, 9, 50, 42, 42, 1, 3, 4, 5, 6, 7, 9, 10, 12, 13, 14, 15, 16, 17, 19, 20, 21, 22, 27, 28, 29, 30, 31, 32, 35, 2, 1, 4, 9, 11, 12, 13, 14, 15, 16, 17, 18, 21, 22, 25, 29, 32, 1, 2, 3, 4, 5, 6, 8, 9, 10, 11, 12, 13, 14, 15, 16, 17, 18, 19, 20, 21, 24, 25, 27, 1, 2, 4, 5, 7, 8, 12, 13, 18, 21, 24, 26, 28, 2, 8, 13, 50, 15, 49, 40, 17, 7, 1, 2, 3, 4, 5, 7, 8, 10, 11, 12, 13, 14, 15, 16, 17, 18, 19, 20, 21, 23, 24, 25, 27, 29, 32, 1, 22, 19, 2, 3, 5, 7, 8, 10, 11, 13, 14, 16, 18, 19, 20, 21, 23, 24, 25, 26, 28, 35, 7, 2, 10, 16, 20, 24, 47, 47, 27, 33, 24, 32, 33, 17, 1, 2, 5, 10, 21, 26, 27, 32, 5, 8, 12, 36, 1, 2, 28, 32, 33, 42, 2, 5, 6, 8, 29, 6, 38, 19, 2, 3, 7, 10, 33, 10, 19, 31, 35, 45, 11, 1, 2, 3, 4, 5, 6, 7, 8, 9, 10, 11, 12, 13, 14, 15, 17, 18, 19, 20, 21, 22, 23, 25, 26, 28, 29, 32, 5, 18, 11, 1, 2, 5, 8, 13, 26, 27, 28, 1, 5, 8, 24, 25, 1, 5, 8, 28, 1, 2, 5, 26, 27, 28, 1, 2, 4, 5, 7, 10, 11, 12, 13, 14, 15, 16, 17, 18, 21, 26, 27, 28, 32, 6, 9, 1, 1, 2, 3, 4, 5, 7, 9, 10, 11, 12, 13, 14, 16, 17, 18, 19, 20, 21, 24, 25, 26, 27, 28, 29, 32, 1, 2, 3, 4, 5, 9, 10, 11, 13, 14, 15, 17, 18, 19, 20, 21, 24, 25, 26, 27, 31, 1, 2, 4, 5, 9, 14, 18, 26, 31, 19, 1, 31, 31, 9, 9, 1, 2, 5, 13, 18, 26, 28, 48, 25, 39, 45, 12, 12, 3, 15, 40, 6, 8, 11, 2, 18, 30, 40, 40, 27, 17, 12, 34, 34, 3, 5, 11, 14, 15, 17, 20, 29, 31, 38, 39, 40, 29, 1, 2, 5, 8, 12, 19, 21, 22, 27, 28, 33, 12, 2, 19, 1, 12, 15, 20, 25, 35, 12, 22, 3, 4, 6, 8, 10, 11, 14, 16, 18, 20, 34, 43, 6, 25, 1, 2, 21, 35, 12, 22, 1, 2, 4, 9, 13, 14, 18, 19, 25, 26, 27, 32, 42, 18, 36, 36, 30, 18, 22, 1, 2, 5, 6, 8, 11, 12, 17, 22, 24, 27, 28, 3, 34, 1, 2, 3, 4, 5, 6, 7, 8, 9, 10, 11, 12, 13, 14, 15, 16, 17, 18, 19, 20, 21, 22, 23, 24, 25, 26, 27, 31, 32, 29, 4, 21, 2, 9, 14, 31, 32, 28, 21, 18, 24, 24, 23, 2, 13, 19, 26, 13, 24, 24, 33, 36, 22, 44, 1, 9, 31, 47, 1, 41, 22, 40, 46, 46, 6, 9, 42, 23, 20, 42, 40, 18, 37, 24, 1, 2, 3, 4, 5, 7, 8, 10, 11, 12, 13, 14, 16, 17, 18, 19, 20, 21, 22, 23, 24, 25, 26, 27, 28, 29, 32, 5, 6, 22, 22, 5, 1, 6, 8, 11, 22, 42, 1, 2, 5, 13, 15, 26, 27, 28, 39, 2, 41, 50, 22, 33, 15, 33, 22, 2, 1, 17, 44, 42, 1, 3, 4, 5, 6, 7, 8, 9, 12, 14, 22, 29, 31, 42, 5, 20, 37, 1, 2, 5, 12, 28, 5, 12, 22, 2, 5, 6, 13, 17, 21, 3, 13, 19, 21, 49, 34, 2, 5, 7, 13, 14, 16, 20, 26, 27, 28, 42, 2, 4, 27, 28, 28, 36, 39, 31, 34, 41, 1, 2, 3, 4, 5, 6, 8, 9, 11, 12, 13, 14, 15, 16, 17, 18, 19, 20, 21, 22, 24, 25, 26, 27, 32, 2, 3, 4, 5, 34, 4, 12, 15, 21, 27, 1, 2, 3, 4, 5, 6, 7, 8, 9, 11, 12, 13, 14, 17, 21, 22, 25, 27, 9, 1, 9, 44, 34, 1, 2, 4, 5, 6, 11, 13, 14, 15, 16, 17, 18, 19, 20, 21, 23, 24, 25, 30, 33, 40, 42, 11, 2, 5, 10, 27, 17, 45, 1, 3, 4, 5, 6, 11, 13, 14, 15, 16, 17, 22, 29, 33, 4, 50, 17, 44, 1, 5, 6, 10, 13, 18, 45, 2, 3, 5, 7, 10, 12, 16, 19, 20, 27, 28, 29, 1, 2, 3, 4, 5, 6, 7, 8, 9, 10, 11, 12, 13, 14, 15, 16, 17, 18, 20, 21, 22, 24, 25, 27, 29, 32, 34, 40, 23, 40, 4, 6, 7, 9, 11, 13, 14, 16, 17, 18, 20, 21, 23, 25, 33, 47, 11, 37, 2, 10, 13, 21, 2, 3, 5, 7, 10, 12, 13, 16, 18, 20, 21, 27, 29, 32, 34, 13, 18, 40, 16, 48, 1, 2, 3, 4, 5, 6, 7, 8, 9, 10, 11, 12, 13, 14, 15, 16, 17, 18, 19, 21, 22, 23, 24, 26, 28, 26, 2, 16, 19, 28, 38, 26, 1, 27, 27, 4, 26, 9, 1, 2, 3, 5, 6, 9, 10, 11, 13, 14, 18, 20, 25, 1, 2, 3, 4, 5, 6, 7, 8, 9, 10, 11, 12, 13, 14, 15, 16, 17, 18, 19, 20, 21, 22, 23, 24, 25, 28, 29, 30, 31, 32, 34, 43, 5, 27, 1, 6, 14, 31, 28, 42, 20, 21, 26, 2, 4, 5, 6, 17, 39, 1, 22, 1, 2, 44, 50, 38, 40, 2, 3, 4, 5, 7, 10, 13, 14, 18, 19, 20, 21, 23, 25, 26, 30, 32, 9, 14, 2, 13, 14, 18, 40, 27, 22, 29, 31, 1, 6, 8, 9, 22, 45, 45, 2, 38, 46, 12, 2, 5, 31, 39, 4, 2, 5, 26, 28, 36, 43, 41, 1, 2, 14, 43, 5, 15, 19, 25, 39, 6, 36, 31, 45, 3, 4, 1, 2, 3, 6, 7, 8, 10, 12, 13, 14, 15, 16, 17, 18, 19, 20, 21, 22, 23, 24, 25, 27, 29, 30, 31, 32, 37, 43, 47, 13, 12, 2, 28, 36, 36, 36, 2, 2, 18, 27, 24, 2, 5, 6, 7, 8, 10, 13, 14, 16, 18, 19, 20, 21, 23, 24, 25, 26, 30, 32, 35, 2, 13, 14, 18, 21, 24, 25, 26, 38, 13, 18, 1, 2, 3, 4, 5, 6, 7, 8, 9, 10, 11, 12, 13, 14, 15, 16, 17, 18, 19, 20, 21, 22, 24, 25, 26, 28, 29, 2, 4, 5, 6, 7, 8, 10, 12, 13, 14, 16, 17, 23, 24, 29, 25, 10, 38, 2, 24, 32, 35, 1, 9, 14, 25, 22, 20, 20, 3, 19, 22, 27, 2, 7, 12, 22, 8, 13, 33, 22, 22, 31, 39, 2, 13, 14, 18, 19, 21, 26, 30, 10, 44, 40, 32, 9, 1, 2, 4, 5, 7, 13, 15, 16, 18, 19, 20, 21, 23, 26, 28, 2, 13, 18, 46, 23, 37, 29, 2, 10, 15, 18, 16, 36, 46, 1, 2, 3, 6, 9, 11, 12, 1, 2, 12, 28, 10, 10, 2, 2, 3, 6, 9, 22, 7, 1, 3, 6, 11, 15, 6, 32, 6, 25, 28, 29, 35, 6, 1, 3, 6, 8, 11, 12, 16, 19, 22, 24, 25, 29, 32, 15, 5, 5, 8, 34, 36, 37, 42, 7, 37, 4, 37, 3, 14, 23, 38, 31, 2, 3, 9, 14, 16, 18, 20, 23, 24, 25, 31, 1, 2, 3, 4, 5, 6, 7, 8, 9, 10, 11, 12, 13, 14, 15, 16, 17, 18, 19, 20, 21, 22, 23, 24, 25, 26, 27, 28, 29, 32, 16, 2, 3, 8, 13, 14, 18, 19, 20, 21, 22, 23, 35, 20, 20, 13, 1, 2, 5, 6, 7, 8, 11, 1, 2, 5, 13, 14, 16, 18, 19, 20, 21, 23, 25, 26, 27, 15, 30, 22, 25, 24, 26, 9, 14, 33, 42, 8, 20, 44, 1, 2, 4, 5, 7, 8, 11, 12, 13, 15, 17, 21, 22, 26, 28, 31, 3, 48, 20, 43, 1, 5, 6, 9, 12, 22, 41, 33, 15, 1, 3, 6, 9, 11, 12, 14, 15, 17, 22, 25, 31, 16, 31, 44, 23, 6, 43, 44, 1, 2, 3, 4, 6, 9, 11, 12, 13, 14, 15, 16, 17, 18, 19, 20, 21, 22, 24, 25, 26, 28, 29, 30, 31, 11, 26, 24, 38, 25, 1, 2, 3, 4, 5, 6, 8, 9, 11, 12, 13, 14, 15, 18, 19, 20, 21, 22, 23, 25, 26, 30, 31, 32, 10, 6, 8, 12, 22, 29, 15, 12, 46, 49, 12, 21, 29, 24, 38, 38, 17, 9, 39, 1, 2, 3, 6, 9, 12, 22, 33, 1, 3, 4, 5, 6, 10, 11, 12, 13, 16, 17, 18, 21, 29, 31, 21, 41, 30, 40, 3, 16, 23, 35, 47, 2, 3, 6, 8, 9, 11, 13, 14, 19, 20, 22, 29, 29, 7, 2, 6, 17, 1, 2, 3, 4, 5, 6, 7, 8, 9, 10, 11, 12, 13, 14, 17, 18, 20, 22, 23, 28, 29, 1, 2, 5, 6, 7, 8, 17, 30, 34, 25, 39, 1, 11, 17, 33, 34, 21, 1, 4, 5, 8, 22, 8, 4, 31, 4, 5, 14, 2, 5, 7, 13, 16, 21, 48, 32, 31, 30, 12, 36, 1, 6, 17, 2, 3, 4, 5, 7, 8, 10, 11, 12, 13, 14, 16, 17, 18, 20, 21, 22, 24, 25, 27, 29, 31, 32, 48, 8, 1, 6, 11, 27, 40, 24, 24, 48, 1, 2, 3, 4, 5, 6, 7, 8, 9, 10, 11, 13, 14, 15, 16, 17, 18, 19, 20, 24, 25, 26, 28, 30, 16, 23, 46, 20, 9, 9, 5, 1, 11, 1, 2, 3, 6, 7, 8, 9, 10, 11, 12, 13, 14, 15, 16, 17, 18, 19, 20, 21, 22, 24, 25, 29, 30, 32, 40, 47, 3, 13, 11, 49, 22, 27, 1, 5, 6, 9, 11, 12, 15, 16, 22, 1, 2, 3, 4, 5, 6, 7, 8, 9, 10, 11, 12, 13, 14, 15, 16, 17, 18, 19, 20, 21, 24, 26, 27, 28, 29, 30, 34, 38, 30, 23, 39, 2, 3, 10, 11, 18, 20, 24, 26, 1, 2, 3, 4, 7, 8, 10, 11, 12, 13, 14, 15, 16, 17, 18, 19, 20, 21, 22, 24, 25, 26, 27, 29, 30, 32, 38, 6, 16, 17, 30, 31, 1, 2, 9, 10, 14, 19, 20, 24, 26, 27, 14, 50, 22, 32, 45, 1, 2, 6, 9, 12, 18, 24, 32, 35, 2, 21, 32, 47, 19, 4, 22, 15, 24, 1, 2, 3, 5, 6, 8, 11, 15, 2, 5, 27, 17, 1, 2, 5, 6, 8, 12, 13, 14, 15, 16, 18, 19, 20, 21, 22, 23, 24, 25, 26, 27, 28, 29, 32, 32, 49, 1, 44, 44, 8, 9, 1, 6, 35, 2, 4, 5, 7, 10, 13, 16, 18, 19, 20, 21, 23, 25, 30, 31, 35, 23, 43, 36, 2, 3, 4, 6, 8, 9, 11, 12, 13, 14, 18, 19, 20, 21, 24, 25, 29, 38, 39, 42, 36, 17, 2, 3, 4, 5, 8, 12, 13, 14, 21, 23, 24, 26, 28, 29, 2, 4, 5, 8, 13, 18, 28, 5, 9, 28, 5, 8, 7, 29, 28, 46, 44, 33, 19, 28, 30, 1, 2, 4, 5, 6, 8, 9, 10, 11, 13, 14, 15, 16, 17, 18, 19, 20, 21, 23, 24, 32, 34, 42, 50, 2, 8, 24, 38, 46, 21, 21, 7, 12, 15, 45, 7, 43, 43, 18, 41, 5, 31, 8, 3, 4, 8, 10, 13, 14, 16, 18, 20, 21, 22, 24, 25, 30, 7, 3, 35, 2, 14, 18, 25, 27, 19, 8, 37, 21, 13, 35, 39, 4, 41, 14, 21, 16, 44, 47, 29, 14, 24, 25, 12, 14, 1, 6, 9, 10, 15, 22, 25, 49, 26, 1, 2, 3, 5, 6, 8, 9, 11, 13, 14, 17, 18, 24, 26, 27, 43, 1, 2, 3, 4, 5, 6, 8, 9, 10, 11, 12, 13, 14, 15, 17, 18, 19, 20, 21, 22, 23, 24, 25, 26, 27, 28, 29, 31, 35, 2, 5, 7, 28, 29, 27, 25, 13, 13, 42, 3, 42, 22, 23, 1, 2, 6, 9, 11, 12, 18, 4, 45, 2, 44, 1, 2, 4, 5, 7, 8, 11, 12, 13, 14, 15, 16, 18, 19, 20, 21, 22, 23, 24, 25, 26, 28, 29, 30, 32, 3, 5, 7, 10, 18, 21, 22, 27, 32, 34, 26, 34, 12, 16, 37, 31, 32, 10, 37, 8, 12, 32, 42, 1, 2, 3, 4, 5, 6, 7, 8, 9, 10, 11, 12, 13, 14, 15, 16, 17, 18, 19, 20, 21, 22, 24, 26, 27, 31, 32, 30, 46, 13, 17, 42, 6, 1, 2, 3, 4, 5, 6, 8, 9, 10, 11, 12, 13, 14, 15, 17, 18, 20, 21, 22, 25, 27, 29, 43, 13, 18, 19, 20, 23, 41, 2, 3, 5, 6, 9, 22, 27, 2, 6, 8, 12, 13, 14, 16, 18, 19, 21, 22, 26, 28, 29, 38, 8, 12, 28, 1, 2, 3, 4, 5, 6, 7, 8, 9, 10, 11, 12, 13, 14, 15, 16, 17, 18, 19, 20, 21, 22, 23, 24, 25, 26, 27, 28, 29, 30, 31, 32, 46, 4, 5, 8, 11, 21, 23, 28, 29, 32, 49, 7, 6, 11, 32, 29, 15, 16, 12, 29, 1, 2, 3, 4, 5, 6, 8, 10, 11, 12, 13, 14, 15, 18, 19, 20, 21, 22, 23, 24, 25, 26, 28, 29, 31, 32, 1, 2, 3, 4, 5, 6, 7, 8, 10, 11, 12, 13, 14, 15, 16, 17, 18, 19, 20, 21, 22, 23, 24, 25, 26, 28, 29, 30, 32, 3, 4, 5, 6, 8, 9, 10, 11, 12, 13, 17, 18, 21, 31, 34, 47, 10, 7, 12, 28, 18, 19, 26, 2, 27, 5, 3, 4, 5, 6, 7, 8, 10, 12, 16, 19, 20, 22, 23, 24, 28, 29, 30, 31, 34, 42, 2, 3, 4, 5, 8, 13, 16, 18, 21, 22, 24, 27, 32, 34, 43, 34, 6, 1, 2, 3, 4, 6, 10, 12, 13, 14, 15, 17, 18, 21, 3, 1, 2, 3, 4, 5, 6, 8, 9, 10, 11, 12, 13, 14, 17, 18, 22, 25, 42, 1, 6, 9, 11, 31, 1, 2, 3, 4, 5, 6, 7, 8, 9, 10, 11, 12, 13, 14, 15, 16, 17, 18, 19, 20, 21, 22, 23, 24, 25, 26, 27, 28, 29, 31, 32, 7, 3, 1, 2, 3, 4, 5, 6, 7, 8, 9, 10, 11, 12, 13, 14, 15, 16, 17, 18, 19, 20, 21, 22, 23, 24, 25, 26, 29, 30, 32, 28, 10, 12, 12, 9, 2, 3, 7, 10, 12, 13, 18, 19, 20, 21, 29, 2, 8, 24, 28, 38, 16, 11, 16, 17, 27, 42, 14, 19, 14, 2, 14, 40, 7, 39, 30, 36, 46, 33, 47, 40, 16, 1, 2, 3, 6, 8, 11, 12, 22, 33, 9, 1, 6, 9, 27, 41, 2, 13, 21, 32, 35, 19, 38, 20, 30, 2, 30, 40, 3, 12, 2, 14, 27, 39, 17, 13, 7, 11, 15, 48, 1, 2, 3, 4, 6, 8, 9, 11, 12, 13, 14, 15, 17, 18, 19, 20, 22, 24, 25, 26, 31, 14, 19, 21, 25, 1, 2, 3, 4, 5, 7, 8, 9, 10, 11, 13, 14, 15, 16, 17, 18, 19, 20, 23, 24, 25, 26, 27, 28, 1, 2, 3, 4, 5, 6, 8, 9, 11, 12, 13, 14, 15, 17, 18, 19, 20, 21, 22, 23, 24, 25, 26, 28, 31, 32, 2, 13, 14, 16, 18, 19, 20, 23, 25, 27, 32, 23, 18, 19, 30, 19, 1, 4, 9, 16, 1, 13, 14, 15, 24, 25, 27, 30, 25, 27, 49, 1, 4, 14, 35, 2, 3, 14, 19, 21, 25, 27, 2, 3, 5, 12, 14, 26, 27, 28, 32, 1, 2, 3, 4, 5, 7, 8, 10, 11, 12, 13, 14, 15, 16, 17, 18, 19, 20, 21, 23, 24, 25, 26, 28, 29, 35, 39, 42, 46, 22, 1, 6, 9, 14, 19, 20, 25, 31, 8, 20, 3, 6, 50, 45, 9, 14, 16, 37, 49, 2, 13, 14, 20, 28, 6, 47, 2, 24, 32, 40, 12, 25, 29, 29, 9, 49, 2, 3, 8, 12, 13, 14, 15, 16, 18, 19, 20, 21, 22, 25, 30, 32, 33, 40, 42, 43, 5, 2, 13, 18, 35, 44, 1, 6, 11, 42, 1, 11, 4, 21, 21, 1, 2, 3, 4, 5, 6, 7, 8, 9, 10, 11, 12, 13, 14, 16, 17, 18, 19, 20, 21, 22, 24, 25, 26, 28, 29, 31, 32, 34, 13, 29, 33, 40, 38, 24, 2, 5, 7, 8, 12, 13, 18, 21, 28, 33, 2, 14, 35, 20, 45, 11, 44, 4, 6, 9, 15, 22, 27, 32, 18, 1, 3, 5, 6, 9, 10, 15, 17, 29, 31, 12, 37, 42, 27, 36, 6, 24, 36, 29, 37, 26, 26, 1, 2, 3, 6, 9, 13, 14, 18, 21, 27, 22, 2, 19, 30, 27, 18, 24, 29, 32, 1, 2, 5, 6, 9, 10, 11, 12, 13, 17, 21, 22, 29, 32, 34, 43, 2, 13, 18, 19, 23, 25, 26, 27, 30, 38, 12, 26, 2, 14, 18, 19, 25, 25, 44, 50, 8, 49, 16, 26, 45, 6, 14, 31, 48, 1, 2, 3, 4, 5, 6, 7, 8, 9, 10, 11, 12, 13, 14, 15, 16, 17, 18, 19, 20, 21, 22, 23, 24, 25, 29, 32, 33, 42, 1, 2, 3, 4, 5, 6, 8, 9, 10, 11, 12, 13, 14, 16, 18, 19, 20, 21, 22, 24, 25, 27, 29, 32, 34, 1, 2, 3, 4, 5, 6, 7, 8, 9, 10, 11, 12, 13, 14, 15, 16, 17, 18, 19, 20, 22, 23, 24, 25, 26, 27, 28, 29, 31, 32, 28, 40, 10, 17, 22, 47, 1, 2, 3, 4, 5, 6, 7, 8, 9, 10, 11, 12, 13, 14, 16, 17, 18, 19, 20, 21, 23, 24, 25, 28, 29, 31, 34, 31, 37, 27, 30, 1, 2, 3, 4, 5, 6, 7, 8, 9, 10, 11, 12, 13, 14, 15, 16, 17, 18, 19, 20, 21, 22, 23, 24, 25, 26, 27, 28, 29, 30, 32, 40, 33, 10, 1, 2, 3, 5, 6, 7, 9, 10, 11, 12, 13, 14, 17, 18, 21, 22, 26, 27, 28, 30, 9, 9, 21, 18, 8, 34, 34, 11, 50, 1, 16, 25, 43, 37, 27, 7, 4, 49, 47, 11, 24, 48, 5, 17, 37, 17, 21, 26, 31, 33, 1, 2, 4, 5, 6, 8, 9, 10, 12, 13, 14, 15, 16, 18, 19, 20, 21, 22, 23, 24, 25, 28, 29, 30, 31, 32, 35, 6, 16, 1, 2, 3, 6, 9, 10, 11, 12, 14, 15, 19, 20, 22, 24, 25, 41, 2, 9, 13, 14, 18, 19, 26, 31, 24, 1, 3, 4, 6, 9, 11, 12, 14, 15, 17, 18, 19, 20, 21, 22, 25, 26, 33, 42, 1, 2, 3, 4, 6, 9, 11, 12, 13, 14, 15, 17, 18, 19, 20, 21, 24, 25, 26, 32, 33, 14, 3, 5, 6, 8, 9, 10, 12, 14, 18, 19, 22, 24, 28, 31, 34, 37, 39, 19, 21, 38, 38, 3, 10, 2, 13, 14, 18, 19, 20, 23, 25, 38, 25, 6, 47, 48, 1, 2, 3, 4, 5, 6, 8, 9, 10, 11, 12, 13, 14, 15, 16, 17, 18, 19, 20, 21, 24, 25, 28, 29, 31, 34, 49, 43, 23, 16, 1, 2, 3, 4, 5, 6, 7, 9, 10, 11, 13, 14, 15, 16, 17, 18, 19, 20, 21, 23, 24, 25, 26, 27, 30, 38, 47, 25, 10, 48, 47, 50, 1, 2, 14, 25, 31, 34, 42, 30, 15, 28, 29, 39, 10, 38, 1, 2, 3, 6, 8, 11, 12, 14, 29, 2, 4, 5, 7, 10, 20, 27, 28, 1, 2, 4, 5, 7, 8, 11, 12, 13, 14, 16, 17, 18, 20, 21, 23, 24, 25, 26, 29, 32, 4, 4, 9, 15, 25, 38, 5, 6, 7, 9, 10, 13, 31, 18, 39, 42, 1, 2, 3, 4, 5, 7, 8, 11, 12, 13, 14, 15, 16, 17, 18, 19, 20, 21, 22, 24, 25, 28, 29, 43, 18, 13, 28, 8, 44, 9, 44, 39, 24, 6, 44, 19, 4, 5, 9, 13, 14, 17, 18, 21, 27, 32, 34, 42, 19, 34, 45, 40, 43, 8, 43, 6, 8, 43, 10, 44, 30, 1, 2, 5, 7, 8, 11, 12, 15, 22, 26, 27, 28, 37, 47, 22, 36, 1, 3, 5, 6, 8, 9, 10, 11, 12, 17, 22, 31, 19, 26, 30, 38, 2, 24, 32, 40, 2, 14, 17, 15, 11, 12, 29, 5, 25, 34, 1, 4, 6, 9, 11, 15, 32, 11, 39, 14, 11, 36, 13, 18, 2, 2, 35, 39, 6, 32, 5, 13, 26, 1, 2, 3, 4, 5, 6, 7, 8, 9, 10, 11, 12, 13, 14, 15, 16, 17, 18, 21, 22, 24, 30, 1, 5, 21, 27, 32, 2, 3, 5, 7, 8, 10, 12, 13, 14, 16, 18, 20, 24, 25, 27, 28, 29, 30, 2, 3, 5, 7, 10, 14, 18, 25, 27, 42, 2, 3, 5, 7, 13, 14, 16, 18, 24, 25, 26, 27, 28, 22, 46, 13, 2, 6, 7, 5, 2, 19, 30, 2, 42, 26, 19, 21, 18, 18, 46, 6, 46, 44, 1, 2, 3, 4, 5, 6, 8, 9, 10, 11, 13, 14, 15, 16, 17, 18, 19, 20, 21, 23, 25, 28, 29, 30, 32, 2, 14, 19, 25, 45, 45, 2, 30, 1, 2, 6, 9, 13, 14, 15, 18, 19, 21, 26, 27, 30, 31, 50, 11, 47, 28, 29, 6, 36, 16, 26, 1, 20, 22, 35, 28, 30, 1, 30, 48, 27, 31, 43, 26, 47, 1, 2, 3, 4, 5, 8, 9, 13, 14, 15, 16, 17, 18, 20, 21, 24, 26, 28, 32, 12, 22, 41, 42, 23, 1, 2, 4, 5, 7, 8, 10, 11, 12, 13, 14, 15, 16, 17, 18, 20, 21, 22, 23, 24, 25, 26, 29, 30, 32, 43, 29, 26, 1, 2, 3, 4, 5, 6, 7, 8, 9, 10, 11, 12, 13, 14, 15, 16, 17, 18, 19, 20, 21, 22, 23, 24, 25, 27, 28, 29, 30, 32, 42, 47, 11, 15, 2, 24, 9, 21, 2, 1, 26, 30, 12, 22, 1, 4, 9, 9, 45, 29, 2, 13, 14, 18, 20, 2, 13, 18, 21, 7, 33, 27, 2, 4, 5, 7, 8, 13, 14, 15, 16, 18, 24, 26, 33, 42, 23, 41, 13, 24, 36, 10, 18, 2, 13, 14, 19, 24, 27, 23, 18, 1, 2, 9, 12, 13, 14, 15, 18, 20, 24, 29, 36, 42, 23, 42, 32, 26, 47, 2, 5, 26, 1, 2, 5, 6, 7, 9, 11, 13, 14, 16, 18, 19, 20, 21, 26, 27, 32, 1, 2, 5, 6, 8, 13, 21, 26, 32, 37, 48, 1, 2, 3, 4, 8, 11, 12, 13, 14, 15, 16, 17, 18, 19, 20, 21, 22, 23, 24, 25, 29, 32, 39, 2, 29, 4, 7, 13, 15, 16, 21, 32, 2, 4, 7, 12, 15, 21, 25, 27, 28, 2, 4, 13, 15, 21, 8, 27, 34, 27, 32, 34, 4, 1, 2, 3, 4, 5, 6, 8, 9, 10, 11, 12, 13, 14, 15, 16, 17, 18, 19, 20, 21, 22, 23, 24, 25, 26, 27, 29, 31, 32, 1, 5, 9, 17, 27, 6, 34, 19, 1, 2, 4, 5, 7, 13, 16, 17, 18, 24, 1, 2, 5, 11, 6, 39, 6, 26, 2, 28, 30, 13, 35, 43, 1, 2, 5, 6, 7, 8, 9, 12, 13, 14, 15, 18, 20, 22, 23, 32, 12, 29, 14, 23, 2, 39, 28, 4, 5, 7, 9, 13, 15, 16, 18, 19, 21, 25, 30, 31, 32, 34, 32, 36, 48, 20, 15, 42, 49, 1, 4, 6, 7, 8, 11, 13, 16, 17, 18, 20, 21, 22, 24, 25, 1, 2, 4, 5, 7, 8, 11, 12, 13, 14, 16, 17, 18, 20, 21, 24, 25, 35, 34, 35, 6, 26, 27, 33, 32, 18, 18, 34, 2, 3, 5, 18, 27, 29, 2, 2, 26, 1, 2, 9, 13, 14, 18, 21, 23, 25, 26, 27, 35, 1, 2, 3, 4, 5, 6, 8, 9, 11, 14, 24, 1, 6, 11, 4, 7, 13, 16, 21, 28, 37, 10, 12, 13, 16, 21, 24, 28, 1, 4, 5, 6, 9, 11, 14, 15, 2, 3, 4, 5, 6, 8, 10, 12, 13, 14, 16, 17, 18, 19, 20, 21, 23, 24, 29, 31, 34, 1, 2, 3, 4, 5, 7, 8, 9, 10, 11, 12, 13, 14, 15, 16, 17, 18, 19, 20, 21, 23, 24, 25, 26, 27, 28, 29, 32, 1, 2, 3, 6, 8, 12, 13, 14, 18, 19, 20, 21, 22, 23, 25, 26, 27, 28, 30, 16, 25, 35, 1, 24, 32, 2, 35, 2, 13, 35, 6, 11, 7, 37, 23, 1, 1, 2, 3, 4, 5, 6, 10, 12, 13, 17, 18, 21, 27, 31, 32, 46, 14, 22, 31, 1, 2, 5, 11, 27, 28, 28, 1, 6, 31, 1, 2, 3, 4, 5, 6, 7, 8, 9, 10, 11, 13, 14, 15, 16, 18, 20, 21, 26, 27, 28, 33, 34, 42, 1, 6, 16, 50, 1, 2, 4, 5, 6, 7, 8, 9, 10, 11, 12, 13, 14, 15, 16, 17, 18, 19, 20, 21, 24, 25, 26, 27, 28, 31, 19, 1, 3, 4, 5, 6, 9, 13, 14, 17, 18, 37, 14, 27, 1, 2, 4, 14, 13, 18, 20, 21, 2, 18, 10, 30, 19, 1, 2, 3, 4, 5, 6, 7, 8, 9, 10, 11, 12, 13, 14, 15, 16, 17, 18, 19, 20, 21, 22, 23, 24, 25, 27, 28, 29, 30, 34, 47, 36, 2, 26, 28, 19, 2, 14, 19, 20, 17, 4, 7, 17, 18, 21, 45, 28, 33, 8, 43, 1, 2, 8, 12, 22, 27, 28, 22, 36, 23, 26, 29, 41, 40, 17, 46, 44, 1, 6, 9, 1, 35, 1, 7, 38, 20, 48, 1, 9, 14, 31, 19, 35, 25, 21, 2, 13, 16, 19, 21, 27, 22, 2, 21, 26, 27, 20, 7, 3, 43, 1, 2, 4, 9, 14, 18, 20, 25, 26, 27, 41, 32, 26, 29, 19, 36, 37, 19, 19, 35, 21, 1, 43, 16, 38, 2, 13, 14, 18, 19, 20, 21, 23, 25, 26, 30, 42, 30, 2, 14, 19, 24, 26, 30, 38, 2, 2, 13, 18, 2, 21, 26, 10, 28, 22, 34, 24, 41, 2, 13, 20, 21, 32, 47, 34, 7, 2, 11, 43, 24, 22, 26, 27, 36, 26, 32, 32, 2, 13, 14, 18, 20, 23, 25, 26, 27, 1, 2, 5, 8, 11, 12, 8, 11, 29, 21, 33, 1, 2, 3, 5, 6, 9, 11, 12, 13, 14, 17, 18, 20, 21, 27, 32, 28, 3, 25, 1, 8, 12, 22, 32, 21, 28, 29, 32, 11, 32, 1, 2, 3, 6, 9, 10, 11, 14, 15, 19, 20, 22, 1, 2, 3, 4, 5, 6, 7, 8, 9, 11, 12, 13, 14, 15, 16, 17, 18, 19, 20, 21, 22, 23, 24, 25, 26, 27, 28, 29, 31, 32, 1, 2, 5, 7, 9, 12, 17, 26, 28, 1, 2, 4, 5, 6, 7, 9, 10, 11, 12, 13, 16, 17, 18, 21, 24, 27, 28, 33, 42, 4, 2, 18, 21, 8, 28, 22, 15, 26, 35, 41, 46, 25, 3, 1, 2, 3, 4, 5, 7, 8, 10, 11, 12, 13, 14, 15, 16, 18, 19, 20, 21, 25, 26, 27, 28, 17, 2, 26, 39, 22, 49, 3, 6, 8, 18, 19, 20, 40, 46, 13, 27, 5, 15, 18, 21, 26, 21, 30, 9, 18, 41, 1, 33, 37, 2, 37, 37, 1, 2, 6, 8, 9, 11, 12, 21, 29, 43, 28, 43, 14, 38, 2, 14, 18, 21, 31, 25, 20, 4, 14, 43, 2, 14, 18, 19, 21, 24, 30, 25, 31, 47, 1, 9, 17, 1, 2, 3, 4, 5, 6, 7, 8, 10, 11, 12, 13, 14, 15, 16, 17, 18, 19, 20, 21, 23, 24, 25, 26, 28, 29, 30, 32, 31, 1, 6, 17, 2, 12, 14, 22, 23, 14, 28, 35, 2, 3, 11, 12, 13, 16, 18, 22, 24, 25, 29, 32, 40, 22, 2, 8, 13, 14, 16, 18, 19, 20, 21, 25, 30, 32, 38, 40, 10, 3, 17, 17, 26, 27, 1, 10, 42, 12, 42, 46, 49, 2, 3, 2, 3, 10, 3, 43, 47, 13, 18, 19, 18, 2, 20, 13, 2, 14, 45, 20, 45, 14, 14, 8, 12, 28, 8, 18, 19, 16, 30, 9, 8, 6, 1, 2, 3, 4, 5, 7, 10, 12, 13, 14, 15, 16, 17, 18, 19, 20, 21, 24, 25, 26, 27, 28, 29, 30, 37, 5, 26, 27, 37, 23, 45, 50, 2, 5, 27, 28, 36, 1, 3, 4, 5, 6, 8, 9, 11, 12, 15, 17, 22, 27, 28, 32, 2, 13, 14, 20, 44, 13, 13, 13, 14, 18, 20, 21, 21, 12, 8, 23, 22, 2, 3, 4, 5, 7, 8, 10, 11, 12, 13, 16, 17, 18, 20, 21, 22, 24, 25, 28, 29, 34, 43, 8, 18, 46, 25, 1, 5, 6, 7, 8, 9, 10, 11, 12, 17, 22, 11, 8, 41, 9, 14, 19, 20, 32, 6, 1, 2, 3, 4, 5, 6, 8, 9, 11, 12, 13, 14, 18, 20, 21, 22, 25, 32, 33, 45, 1, 2, 4, 6, 9, 11, 14, 15, 1, 49, 11, 1, 2, 3, 4, 5, 6, 7, 8, 9, 10, 11, 12, 13, 14, 15, 17, 18, 19, 20, 21, 22, 24, 26, 27, 28, 29, 31, 11, 32, 1, 3, 5, 6, 8, 11, 12, 17, 22, 24, 27, 32, 1, 6, 15, 31, 27, 27, 33, 13, 14, 18, 26, 32, 10, 11, 13, 47, 10, 8, 1, 2, 3, 5, 6, 7, 8, 9, 10, 11, 12, 14, 16, 17, 19, 20, 22, 24, 25, 29, 6, 8, 2, 3, 4, 6, 8, 9, 11, 12, 13, 15, 16, 17, 18, 20, 22, 24, 25, 28, 29, 31, 34, 43, 17, 31, 27, 4, 24, 2, 3, 4, 6, 8, 10, 11, 12, 13, 14, 15, 16, 17, 18, 19, 20, 21, 22, 23, 24, 25, 26, 29, 32, 35, 8, 34, 39, 50, 5, 50, 3, 9, 15, 22, 31, 2, 32, 40, 32, 34, 2, 8, 18, 28, 29, 19, 1, 47, 11, 38, 24, 5, 1, 2, 3, 4, 6, 7, 8, 9, 10, 11, 12, 13, 14, 15, 16, 17, 18, 19, 20, 21, 23, 24, 25, 30, 33, 42, 6, 34, 1, 2, 3, 4, 5, 6, 7, 8, 9, 10, 11, 12, 13, 14, 15, 16, 17, 18, 19, 20, 21, 22, 23, 24, 25, 27, 29, 31, 32, 21, 34, 21, 13, 1, 2, 3, 6, 7, 10, 12, 13, 14, 17, 18, 20, 21, 24, 32, 36, 2, 14, 25, 2, 2, 38, 3, 1, 2, 5, 8, 11, 12, 26, 28, 42, 3, 20, 15, 20, 26, 20, 21, 1, 2, 3, 5, 6, 7, 9, 10, 11, 12, 20, 5, 29, 12, 26, 2, 27, 14, 1, 2, 3, 4, 5, 7, 9, 10, 13, 14, 15, 16, 18, 19, 20, 21, 23, 24, 25, 26, 30, 31, 32, 35, 9, 14, 10, 2, 3, 4, 5, 7, 8, 10, 11, 12, 13, 14, 16, 17, 18, 19, 20, 21, 23, 24, 25, 26, 27, 28, 29, 30, 32, 35, 41, 45, 15, 36, 1, 2, 3, 5, 6, 9, 10, 11, 13, 14, 15, 18, 3, 21, 11, 2, 12, 13, 14, 18, 20, 27, 39, 45, 21, 43, 13, 21, 39, 9, 41, 14, 27, 19, 1, 6, 11, 2, 13, 14, 18, 21, 42, 13, 46, 13, 1, 2, 3, 5, 6, 7, 9, 10, 48, 23, 2, 13, 14, 18, 19, 20, 21, 24, 25, 30, 38, 14, 2, 14, 18, 19, 20, 21, 25, 27, 30, 38, 30, 1, 2, 3, 4, 5, 6, 7, 8, 9, 10, 11, 12, 13, 14, 15, 17, 18, 19, 20, 21, 22, 23, 24, 25, 26, 29, 31, 32, 1, 2, 3, 4, 5, 6, 8, 9, 10, 11, 12, 13, 14, 15, 16, 17, 18, 19, 20, 21, 22, 23, 24, 25, 26, 27, 28, 31, 32, 49, 47, 48, 40, 1, 2, 3, 6, 9, 12, 13, 14, 15, 18, 19, 20, 22, 25, 31, 16, 50, 11, 15, 28, 44, 13, 35, 7, 1, 2, 3, 4, 5, 6, 7, 8, 9, 10, 11, 12, 13, 14, 15, 16, 17, 18, 19, 20, 21, 22, 24, 25, 27, 29, 31, 32, 5, 4, 1, 15, 15, 4, 37, 4, 2, 19, 24, 38, 12, 1, 6, 9, 10, 11, 13, 14, 16, 17, 18, 19, 20, 24, 25, 31, 13, 18, 21, 16, 28, 2, 19, 20, 30, 10, 2, 3, 4, 7, 8, 9, 10, 11, 12, 13, 14, 15, 16, 17, 18, 19, 20, 21, 22, 23, 24, 26, 29, 30, 32, 42, 49, 43, 34, 35, 31, 2, 5, 7, 21, 27, 23, 25, 30, 40, 16, 20, 43, 41, 41, 1, 2, 5, 6, 9, 11, 15, 22, 33, 22, 37, 9, 22, 1, 3, 4, 5, 6, 7, 8, 10, 11, 12, 13, 16, 17, 18, 20, 21, 22, 24, 25, 29, 34, 50, 45, 43, 43, 2, 4, 5, 12, 21, 24, 28, 34, 22, 39, 26, 36, 1, 2, 3, 4, 5, 6, 7, 10, 11, 12, 16, 17, 20, 22, 24, 25, 27, 29, 32, 3, 28, 44, 2, 32, 2, 3, 5, 6, 7, 9, 1, 2, 3, 4, 5, 6, 7, 8, 9, 10, 11, 12, 13, 14, 15, 16, 17, 18, 19, 20, 21, 23, 24, 25, 26, 29, 30, 32, 37, 28, 20, 1, 12, 20, 44, 45, 12, 19, 21, 38, 3, 21, 19, 23, 24, 25, 38, 17, 12, 22, 5, 1, 4, 5, 9, 10, 15, 17, 27, 2, 13, 37, 1, 2, 3, 4, 5, 6, 8, 10, 11, 12, 13, 14, 15, 16, 17, 18, 19, 20, 21, 22, 23, 24, 25, 26, 29, 30, 32, 42, 16, 49, 22, 31, 42, 9, 33, 42, 43, 48, 32, 33, 44, 44, 11, 1, 4, 26, 31, 9, 21, 43, 2, 5, 7, 8, 12, 13, 20, 21, 23, 24, 28, 29, 32, 36, 43, 8, 34, 7, 1, 3, 4, 5, 6, 9, 10, 12, 13, 17, 29, 31, 5, 16, 34, 19, 1, 2, 3, 4, 5, 6, 8, 9, 10, 13, 14, 15, 16, 17, 18, 19, 20, 21, 22, 23, 24, 25, 26, 30, 31, 32, 1, 2, 3, 4, 5, 6, 9, 10, 11, 12, 13, 14, 15, 16, 17, 18, 19, 20, 21, 24, 25, 29, 30, 32, 43, 28, 29, 3, 10, 20, 34, 39, 2, 4, 5, 7, 8, 10, 12, 13, 16, 18, 21, 23, 24, 28, 29, 32, 41, 13, 18, 23, 35, 3, 10, 21, 27, 32, 2, 13, 18, 19, 23, 26, 23, 13, 18, 23, 22, 37, 8, 22, 29, 18, 7, 8, 12, 24, 29, 7, 18, 18, 5, 7, 8, 12, 22, 27, 28, 29, 25, 34, 41, 1, 2, 3, 4, 5, 6, 7, 8, 9, 10, 11, 12, 13, 14, 16, 17, 18, 19, 20, 24, 25, 27, 28, 29, 31, 32, 34, 12, 33, 34, 31, 46, 48, 50, 38, 14, 27, 1, 11, 1, 2, 5, 7, 26, 27, 28, 1, 11, 1, 7, 9, 12, 17, 21, 24, 42, 1, 2, 3, 6, 8, 9, 11, 12, 22, 4, 8, 3, 6, 15, 22, 1, 2, 3, 4, 5, 6, 7, 8, 9, 10, 11, 12, 13, 14, 15, 16, 17, 18, 19, 20, 21, 22, 23, 24, 25, 26, 27, 28, 29, 32, 33, 5, 11, 21, 9, 15, 1, 6, 8, 11, 12, 22, 29, 1, 2, 3, 4, 8, 9, 13, 14, 15, 18, 20, 22, 24, 29, 32, 35, 35, 1, 2, 3, 4, 5, 6, 7, 8, 9, 10, 11, 12, 13, 14, 15, 16, 17, 18, 19, 20, 21, 22, 23, 24, 25, 26, 27, 28, 29, 30, 31, 32, 50, 1, 6, 8, 22, 29, 1, 5, 6, 15, 31, 47, 34, 8, 12, 44, 49, 1, 2, 3, 5, 6, 9, 10, 11, 12, 15, 16, 17, 28, 29, 31, 5, 10, 11, 12, 16, 17, 21, 22, 24, 27, 28, 29, 32, 17, 1, 2, 3, 5, 6, 7, 8, 10, 12, 17, 28, 5, 7, 10, 44, 38, 34, 48, 46, 39, 2, 2, 12, 32, 35, 34, 41, 10, 23, 32, 1, 3, 4, 5, 6, 7, 9, 10, 13, 14, 16, 19, 20, 24, 25, 26, 27, 42, 24, 6, 8, 11, 36, 28, 28, 14, 32, 32, 39, 32, 36, 1, 6, 12, 22, 2, 5, 7, 10, 28, 18, 8, 30, 8, 1, 2, 3, 4, 5, 6, 7, 8, 9, 10, 11, 12, 13, 14, 16, 17, 19, 20, 22, 24, 25, 28, 29, 6, 9, 11, 16, 9, 2, 3, 4, 5, 7, 8, 9, 10, 11, 13, 14, 15, 17, 18, 20, 21, 24, 25, 26, 27, 28, 32, 27, 50, 3, 2, 6, 13, 14, 16, 17, 18, 19, 20, 21, 23, 35, 38, 11, 2, 42, 49, 40, 1, 3, 6, 9, 15, 22, 3, 5, 6, 10, 17, 31, 34, 3, 5, 31, 13, 21, 1, 2, 3, 4, 5, 6, 13, 14, 15, 18, 20, 21, 47, 46, 1, 2, 3, 4, 5, 6, 8, 11, 12, 13, 14, 15, 17, 18, 19, 20, 21, 22, 24, 25, 26, 27, 32, 44, 47, 9, 14, 2, 3, 10, 13, 16, 18, 19, 20, 21, 23, 25, 19, 33, 2, 3, 7, 10, 13, 14, 16, 18, 19, 20, 21, 24, 25, 43, 9, 29, 34, 30, 31, 42], \"Freq\": [0.996095580171382, 0.003900216557921967, 0.9998134532523084, 0.999468359160926, 0.9998477975667852, 0.1218312416950364, 0.8780640185439672, 0.26298356583637034, 0.7369597999580008, 0.9997984833498087, 0.9999150569618189, 0.9996725782508666, 0.18655041006425596, 0.8131827755150098, 0.0002148208314880884, 0.9996378620052245, 0.9994125708235986, 0.8002640363534066, 0.04054185004214069, 0.018010498130231565, 0.1411673051827057, 0.774137260814126, 0.22575934390059907, 0.9993042773796599, 0.9994301530255759, 0.999645645117856, 0.9997342739911156, 9.614846997602183e-05, 0.8460103873190161, 0.09182178882710086, 0.06201576313453409, 0.06986257011616595, 0.04731602219077485, 0.20921432063255477, 0.004260125152884091, 0.19260718425092124, 0.02052289174468412, 0.020973667930252692, 0.0008918790624339537, 0.035379159251040584, 0.0003521084367960511, 0.02281546590733973, 0.0006868049179263635, 0.032542945139265804, 0.0005126853612689755, 0.002383503264465577, 0.0010601946338694287, 0.0010930838834602686, 0.020662187390010033, 0.01339946721565632, 9.479842529124453e-05, 0.10170710236706156, 6.384383744104223e-05, 0.019919277281605176, 0.019936689237270915, 0.0009460495911718077, 0.003488195118369671, 0.0018495366240495871, 0.0012381835140080919, 0.017936248997451592, 0.007665129816406343, 0.0003559777602773264, 0.0005107506995283378, 0.12730267719569757, 7.738646962550574e-06, 2.3215940887651723e-05, 0.00038886700986816633, 2.5150602628289367e-05, 0.03968564721750051, 0.9598129846704476, 0.00016214769036772424, 0.0003242953807354485, 0.9998144566873113, 0.9997520237509031, 0.9996730100635116, 0.004821447013182335, 7.417610789511284e-06, 0.06944367221140464, 0.08502065486937833, 0.8395771124324137, 0.0011126416184266926, 0.9994189153296205, 0.00815406013271238, 0.16883485407373455, 0.821132179094772, 0.0018690205248014895, 0.9994629144935938, 0.9997845523100833, 0.5020270300406864, 0.4979511041325113, 0.26127291148326875, 0.6555002893296964, 0.08320002409400667, 0.9993947158107518, 0.9996321221735982, 0.04515673396204244, 0.9547764072361272, 2.6469363400962747e-05, 0.9998554371970844, 0.39640516679154775, 0.6035609667784905, 0.9996924258497983, 0.9998597773685493, 0.0018396339693436635, 0.9980452291777314, 0.08908481841465953, 0.0018576193970056539, 0.00010788352214914868, 0.0007518132949768799, 0.0527213287302621, 0.1253505386571093, 0.00035399280705189414, 0.027840691434614682, 0.6945001738351446, 3.371360067160896e-06, 0.0004382768087309165, 0.0005259321704770998, 0.00035399280705189414, 3.0342240604448066e-05, 0.004301855445697304, 0.0017699640352594706, 0.9996034525688139, 0.9995604926508266, 0.9995301119522108, 0.9996184359783165, 0.9998054990574464, 0.999836861779502, 0.4076320089604378, 0.00042891267636468566, 0.5919324866660635, 0.9998046409157455, 0.9994921151616846, 0.9995973726707998, 0.13387384389478993, 0.011884718794741555, 0.8541970876266545, 0.09462373716430927, 0.024999572389802056, 8.298941198005741e-05, 0.05925444015376099, 3.951876760955115e-05, 0.004181085613090512, 0.044786619331904316, 0.002513393619967453, 0.08109251113479896, 9.879691902387787e-05, 0.007350490775376513, 0.017664889121469362, 0.6201245494523157, 0.018700280832839603, 0.0005730221303384917, 0.017475199036943518, 0.0009168354085415866, 3.951876760955115e-06, 0.0024343560847483506, 0.0030785119967840346, 0.9998292241994411, 0.9998831839898559, 0.9998472402743217, 0.25446395164848196, 0.0004348572229823104, 0.7450916134782737, 0.9996828258200916, 0.19928896266850513, 0.8004923046530167, 0.080426734963974, 0.016922882846414473, 0.09972449275203073, 4.557329312319877e-05, 0.0003544589465137682, 0.09091365608154563, 0.0022533461599803834, 0.0002531849617955487, 0.7034845437474039, 3.5445894651376816e-05, 0.0045320108161403215, 0.0010431220425976607, 0.9996861769557274, 0.999885955239826, 0.9997349585522787, 0.25235414128430356, 0.747504437901265, 0.9998537208164623, 0.19138881687717652, 5.8031781951842484e-05, 0.8084987861530695, 0.04142417621650951, 0.9583959642955816, 0.10219956752136439, 0.19420661281502036, 0.7012383724338809, 0.0012643737345080096, 0.001085452923021027, 0.999737189361516, 0.999896694006235, 0.9994874231829255, 0.998949966888639, 0.9998416202486932, 0.99930392536428, 0.07945066240992678, 9.828441306315358e-05, 0.0017322627802380819, 0.12267123305444856, 0.7914720928459429, 0.00017199772286051877, 0.0043982274845761225, 0.027929750278921233, 0.14723438383292575, 0.8248232862148696, 0.9992938708553486, 0.9998215986038549, 0.9995722764368405, 0.8908534033296693, 0.1090060883085729, 0.06608986152692858, 0.15163307410759247, 0.7822566066111313, 0.8134170491866162, 0.05053916295005183, 0.1358090302970587, 0.8222487907838498, 0.17762975991563468, 0.9992866301222962, 0.9997924901311619, 0.9999737127409364, 0.9995425134937285, 0.9998860301715856, 0.9998442443064371, 0.9998577578397405, 0.9998797418088149, 0.1977275471469891, 0.8021737982131085, 0.9997780383564769, 0.0012537566527419278, 0.1306414432157089, 0.0005821013030587522, 0.09767659865325862, 8.955404662442342e-06, 0.19413526227242509, 0.16147490146849786, 0.41411582240065875, 9.850945128686576e-05, 0.9997702487480198, 0.025050081833681542, 0.22545073650313388, 0.7494375892627676, 0.999872422141263, 0.11060648520529376, 0.059597975222947956, 0.2813066171280577, 0.21022993361091097, 0.009417758395922175, 0.08520984310437897, 0.0214117041646901, 0.05869794014078918, 0.018202883436993625, 0.03137078800857733, 0.03135774402187938, 0.016826742840359565, 0.0022239997320010127, 0.03213386123040759, 0.016565863106400503, 0.0005348034546160793, 0.0013826625899830342, 0.006078497801246169, 0.003815366109151297, 0.0005608914280119855, 0.00012391787363055494, 0.0018196361443644647, 6.521993348976577e-05, 6.521993348976576e-06, 9.130790688567207e-05, 0.00036523162754268827, 0.9995682344933126, 0.024266173211723058, 0.17391340397516827, 0.01405325511166089, 0.00028680112472777324, 0.04815460835673149, 0.027952616936882488, 3.497574691802113e-05, 0.023811488501788786, 0.00044768956055067047, 0.006883226993466558, 0.09312642374392306, 0.05374373271423127, 0.12477247955534858, 0.0005805973988391507, 0.0034206280485824664, 0.07222491738571363, 0.06748920125301357, 0.04404845566855581, 0.006414551984765075, 0.118861578326203, 0.024734848220424543, 0.03929175408770494, 6.995149383604226e-06, 6.995149383604226e-06, 0.0008604033741833198, 0.03042190466929478, 0.00018187388397370986, 1.3990298767208452e-05, 0.9997579569967829, 0.999862326769072, 0.006711138669753772, 0.00030505175771608056, 0.27149606436731166, 0.7214474069985305, 0.9997888371225663, 0.33955420329324837, 0.02395290131671769, 0.5437422479566786, 0.028735889535269874, 0.02983673603001601, 0.034164201561087036, 0.9997237680040723, 0.11377202294629953, 0.017932637902488162, 0.11615581771279342, 0.18290207117462248, 0.5677223945020347, 0.001462783152166708, 0.9999162355635979, 0.9999338912239816, 0.9998559630413147, 0.9998989926894949, 0.976768143641532, 0.023078607980411458, 0.9995540979993348, 0.9991745812998739, 0.07730745813737742, 0.06346061595201172, 0.588613114805475, 0.18040037857753832, 0.021528659228130423, 0.027840470683650476, 0.02656832263835186, 0.014287201124122916, 0.9998725235529857, 0.9995974521949638, 0.9998572741780681, 0.9994646703259802, 0.9999014227867624, 0.12481917285725855, 8.759240200509372e-05, 0.07388419109129656, 0.6420085104963345, 0.03753334425918266, 0.0006569430150382029, 0.004292027698249592, 0.05592774868025234, 0.0104672920396087, 0.04734369328375315, 0.00153286703508914, 0.0014452746330840464, 0.25293568055294496, 0.006509000223316638, 0.035596094971262864, 0.7048026804310047, 0.9994325183602646, 0.9996967986481102, 0.9998485339108966, 0.11988948532487018, 0.09878266321712798, 2.6869001641611424e-05, 0.41085878937490605, 0.37035010544540753, 2.442636512873766e-06, 8.304964143770804e-05, 0.040889654507155836, 0.15130244136452098, 0.0867699193372066, 0.2805461468865565, 0.12605162063770176, 0.07526412083621256, 0.0006670028116518283, 0.22806731852695014, 0.010445740461047383, 0.13755922420113495, 0.05929482604333397, 0.1168298961829674, 0.0007456592812290489, 0.0018194086461988794, 0.04244292628755746, 0.04697653471743008, 0.0555068768946904, 0.028633316399195478, 0.02463658265180778, 0.001342186706212288, 0.09097043230994396, 0.18241808655987454, 0.2078301548641605, 0.002952810753667034, 5.965274249832392e-05, 0.9998105504877084, 0.9995876247193533, 0.9999137148796948, 0.22677969842685097, 0.7731758088009931, 0.9993455795862467, 0.0016509163156045675, 0.1544314290654101, 0.18650637462572742, 0.65734770783615, 0.4549158840270387, 0.1432985034685172, 0.003222320845191524, 0.39852526923618703, 0.9996585703036404, 0.999852187985102, 0.9602339427287053, 0.039709517793225506, 0.22708320372181176, 0.16719159000582556, 0.016348268097739534, 0.013253024714071365, 0.0886316214123416, 0.05223694225237552, 0.0026323026341108437, 0.02762033704626327, 0.29490940656393166, 0.0020509351811783877, 0.08294175661836377, 0.025095695051584363, 0.9998781576710668, 0.00010093255639154684, 0.0008381790552515412, 0.10762921208952513, 0.0348480621871858, 0.020217229882428536, 0.026505766982823607, 0.4658783500712781, 1.7553488068095104e-05, 0.10629075862433288, 0.02289852518483006, 0.10730886093228238, 0.004155788300121516, 0.07481296614622134, 0.0030016464596442625, 0.0059550208271012635, 0.0002764674370724979, 0.00025013720497035524, 0.0003203511572427356, 4.388372017023776e-06, 4.388372017023776e-06, 0.01650466715602642, 0.0012375209088007048, 7.021395227238042e-05, 0.0008688976593707077, 0.9997570933896089, 0.0003625177291859947, 0.9995973235142321, 0.999430695969007, 0.999321808510455, 0.526948612760183, 0.008060325406773107, 0.09625933281172264, 0.3678404218055427, 0.0008826869321538273, 0.9992495280600362, 0.9999410717112379, 0.9997347574751108, 0.9996584593707999, 0.9992301987481087, 0.23077617159384367, 0.33796050078036616, 0.03148700317829499, 0.3997350022539735, 0.9993325697857028, 0.7243639611062325, 2.4086613743960004e-06, 0.2265105156481999, 0.0013368070627897803, 0.04454337479670524, 5.539921161110801e-05, 2.1677952369564005e-05, 0.0005877133753526241, 0.002543546411362177, 3.131259786714801e-05, 0.5283545976446267, 0.010575594943802122, 0.0787589533000741, 0.3822094413860546, 0.9998557604362136, 0.09183270937709113, 0.00040303324298836783, 0.5419166871367976, 0.0856151291228998, 0.1968930603583286, 0.06858810672249235, 0.014744676844608154, 0.9995988212590812, 0.999597992601742, 0.12960996769493488, 0.07017816786596875, 8.272800644343836e-05, 0.12074979820484263, 0.6585314768910581, 0.016404963677733825, 8.272800644343836e-06, 0.002672114608123059, 2.4818401933031507e-05, 3.3091202577375344e-05, 0.0017041969327348302, 0.9994521115135087, 0.9996064920848389, 0.9998001638161955, 0.9996926250938902, 0.9998057710402317, 0.07231427502603881, 0.042245936860449945, 0.13961976909789311, 0.11554631563684382, 0.30206079641828937, 0.028816142927042737, 0.1592792343430673, 0.09014240473483928, 0.01817248339940066, 0.018344660244700755, 0.01346109881437086, 0.9999145577262202, 0.07043976431260432, 0.0003443551758899722, 0.10768751583803632, 0.006370570753964486, 0.17982992518698548, 0.14593007120492824, 0.0021043927415498303, 0.0008991496259349275, 0.0031183274261147483, 0.009316720592134248, 0.0016069908208198704, 0.3559102051253913, 0.001683514193239864, 0.0011478505862999075, 0.06047259505490012, 0.053145482145685714, 0.999991490859241, 0.042483516833489714, 0.32222647808638133, 0.22589192029665348, 0.1506717861320714, 0.09107910366373216, 0.09119486256518582, 0.07644717851999075, 0.002980577032608832, 0.16069515927954858, 0.4925403546386095, 0.21772383793260866, 0.09759561206927295, 0.00030628629016072353, 4.571437166577963e-06, 3.200006016604574e-05, 0.0001645717379968067, 0.0028342910432783376, 0.007949729232679078, 0.017170317997666832, 0.9999609725340866, 0.999537048751903, 0.9999121832669344, 0.999859452100527, 0.9999143562059114, 0.9999475868425634, 0.9998597527062304, 0.9998422713363693, 0.9992416201393688, 0.9997807289837989, 0.17783157970070207, 0.0027033385396329625, 0.4708038208210474, 0.1914146119949315, 0.15723313512263987, 0.9997231087292131, 0.07931521970756245, 0.006945455854091147, 0.20872703613267288, 0.000124818495780392, 0.6234156852803953, 0.00017197214974187344, 0.00040496667519860524, 0.0049067537563447445, 0.0009874529888404347, 0.07192319101301256, 0.0028708254029490166, 2.7737443506753782e-05, 0.000102628540974989, 5.547488701350757e-06, 6.656986441620908e-05, 0.9997416618323979, 0.7409731298217501, 0.08460678319442916, 0.017515783687090253, 0.10014114338750468, 0.04573125424186007, 0.011016714626721923, 0.9998795592520467, 0.9997433437954151, 0.9995296279846981, 0.9996894831464274, 0.9998250153328418, 0.9987441945350487, 0.10630729399550147, 0.8936070346055808, 0.9998480109761214, 0.8228312084308553, 0.14985298245832052, 0.027088140513902667, 0.0001157612842474473, 0.9999568367565661, 0.9995473548871104, 0.9998916422631166, 0.9999792763744063, 0.9997828399491901, 0.9998327588026894, 0.8923210086065528, 6.184498872374044e-05, 0.10720156567122105, 0.00041409253319374037, 0.9998479924264394, 0.9997245564730809, 0.9997437395886006, 0.9994425016626121, 0.9994838543475346, 0.9999861889051513, 0.9998085360872923, 0.9995020035337759, 0.9999856645850685, 0.9998801424826433, 0.16368823921292958, 0.8362917083003145, 0.20033598965811084, 0.7995241010428163, 0.9996340341201305, 0.15028235272070406, 0.06121958580640168, 0.14718374750996788, 0.2724706848640669, 0.0015640578682763505, 1.4755262908267458e-05, 0.36702240958024474, 0.00023608420653227933, 0.275151724706942, 0.0007047943768108146, 0.08267238039990855, 0.016844585605778468, 0.568416664897922, 0.05610163239414084, 0.01304614688676908, 0.28945766083475327, 0.11790678641843699, 0.37529266948988294, 0.06800825314889385, 0.08012359617673248, 0.05616098163242717, 0.9998856065558008, 0.9996896010295802, 0.9999945040267898, 0.9998786135219044, 0.9999297171281425, 0.99993882253499, 0.9995231070866379, 0.9994454169545351, 0.9995519819478548, 0.9998948836557664, 0.9996403305979038, 0.9997305771024351, 0.9997627228323107, 0.9999064655960396, 0.0025422733056619682, 0.1609742502315164, 0.043717742796138014, 0.03634047117909439, 0.1684451024610384, 0.029914602455580704, 0.4015856016821126, 0.0220850245448917, 0.009295674172849896, 0.00012477414997113953, 0.019885880151650364, 0.01034065767885819, 0.013725156496825349, 0.0036496438866558314, 0.06949920153392472, 0.005879981817389951, 0.001902805787059878, 3.119353749278488e-05, 4.6790306239177325e-05, 0.9998016978016512, 0.9996757990519627, 0.9992843058813542, 0.049374134624848735, 0.05285178768859093, 0.1662558805640591, 0.18543731074376213, 7.762618445853115e-06, 0.012781151271097154, 0.014120202953006816, 0.10782277021289977, 7.762618445853115e-06, 0.018090782288060683, 0.015393272378126727, 0.029206851902522344, 0.01637136230230422, 0.040831373025187384, 0.029071006079719915, 0.09577906769415866, 0.050134871232542344, 0.01774534576722022, 0.01195055109739087, 0.008903723357393523, 0.01150031922753139, 0.01974033870780447, 1.1643927668779672e-05, 0.013017911133695674, 0.023831238628769062, 0.003287468911818794, 3.8813092229265575e-05, 0.005418307675205474, 0.0009082263581648145, 9.703273057316394e-05, 0.758006917378051, 0.2419808879413949, 0.9996534865345664, 0.9999880862144331, 0.9997796031505862, 0.9999829498395615, 0.9840163929142574, 0.015910712820752917, 0.0010906604511039108, 0.17631102006618593, 0.00041323159948657487, 0.43422511959819615, 0.00020661579974328744, 0.15056194941621098, 0.038786188899350565, 0.008606733559798253, 0.05377768938564221, 0.04673920361733809, 2.3710009806606758e-05, 0.06602899016714173, 0.018964620701027318, 7.113002941982026e-05, 0.0008806575071025367, 0.002144062315368868, 6.435574090364691e-05, 4.0645731097040154e-05, 0.0009653361135547036, 5.758145238747355e-05, 3.725858683895348e-05, 0.02689298026028049, 0.35050266972345684, 0.20221115073620036, 0.10010304115522858, 5.012671064357966e-05, 8.354451773929944e-06, 0.0002255701978961085, 0.07188170306289324, 0.17623716017105218, 0.007159765170257962, 0.012849146828304254, 0.016759030258503466, 0.00016708903547859889, 0.0348464183490618, 9.189896951322938e-05, 0.004949763655324159, 0.15384839164745254, 0.13518534835688603, 0.14447629816892893, 0.1133577020735713, 0.021219068784709305, 8.114366648072391e-05, 0.0318894609269245, 0.04389872356607164, 0.018095037625201434, 0.04617074622753191, 0.04483187573059996, 0.033309475090337166, 0.00012171549972108588, 0.0003651464991632576, 0.2081740763562972, 0.0830484764158787, 0.11256064571538515, 0.7093560692919323, 0.09503254516368588, 0.999880239444193, 0.9995588713792226, 0.9996378966113648, 0.3179245584065465, 0.4218302116196202, 0.05515212750969678, 0.12366253005907986, 0.044694711124741285, 0.031706504473107064, 0.0050257674635459625, 0.9998141697256501, 0.9997229219073891, 0.9999255608398776, 0.9999052951233851, 0.999767558839582, 0.9996943551971806, 0.9997473250698876, 0.9999221681433743, 0.9996290401508633, 0.9999393089159617, 0.9995173193683948, 0.9999494644657896, 0.9995734290618883, 0.012322785743934086, 0.44902619551397965, 0.02075063103474459, 0.5178591949010773, 0.9998592514134638, 0.010783533191281421, 0.9889635045162041, 0.9995727199118764, 0.9997334647888343, 0.2583706165643626, 0.7415649974375715, 2.8501998517855778e-05, 0.02662550688282167, 0.9731848405560158, 0.9996497580807696, 0.9995402068456786, 0.8992496371041476, 0.1007354636918689, 0.9997690793180453, 0.999819179708052, 0.9999839777074611, 2.983104527976096e-05, 0.0002883667710376893, 0.14730570159145961, 0.44025650992047216, 0.03752745496193929, 0.057912002569775946, 0.04597958445787156, 0.2706968485503109, 0.9989043767431747, 0.9996032754434662, 0.9996025486767074, 0.11932464451688606, 0.8804149376868744, 0.010842241612149731, 0.9888872091081393, 0.3532794827744184, 8.83815051643113e-05, 0.6466270017311007, 0.9999011562979605, 0.9996545723831204, 0.9996414699664281, 0.07021338954450682, 0.046808926363004544, 0.05960262937721417, 0.0002210575034852635, 0.21655345685175126, 0.033103361146918205, 0.05078796142573929, 0.007350161990885011, 0.010721288919035279, 0.00038685063109921114, 0.004614575385254875, 0.20047152347319833, 0.016828002452815682, 0.0004973793828418428, 0.09588369213673303, 0.004725104136997507, 0.0020447819072386872, 0.1791394743868704, 0.9999967427167851, 0.9997556398581503, 0.14041399406368418, 0.8595087558101501, 0.9998115344993637, 0.9995349373181203, 0.9998944424717751, 0.17241147549577132, 0.7565157733202302, 0.027622666301058158, 0.0002877361073026891, 0.00011509444292107565, 0.043045321652482295, 0.9994515511483807, 0.6322619577237297, 0.05811305444857051, 0.0859559183735613, 0.05013684939844052, 0.005371629450427046, 2.4617916821388846e-05, 0.02838445809506134, 0.00022648483475677737, 0.10762953234311204, 4.923583364277769e-06, 0.0013047495915336088, 0.010846654151503925, 0.0005809828369847768, 0.00021171408466394407, 4.923583364277769e-05, 0.00025602633494244397, 0.00012801316747122199, 0.0003249565020423328, 0.0004086574192350548, 0.010157352480505038, 1.4770750092833308e-05, 0.007345986379502432, 0.00025110275157816625, 2.4617916821388846e-05, 0.9999515530471242, 0.9999677489337357, 0.9996025118685569, 0.9996029553934463, 0.17601302433635696, 0.17020852110896983, 0.5155195562441183, 0.13822684646395444, 0.9999792373174555, 0.9999625018693219, 0.9474216372843796, 0.05239674111792409, 0.5774614635059937, 0.42251356995699363, 0.9999957375704105, 0.9996883948978716, 0.22274691276969646, 0.7772119632270226, 0.9996169956353548, 0.26922213072791656, 0.7307586035058082, 0.9998488650195241, 0.9999058626653057, 0.9997695042776444, 0.9999968288955741, 0.9997912081697052, 0.10152814731332614, 0.2088786973399613, 0.00012130005652727138, 0.07775333623398095, 0.4799236736501492, 0.07690423583829005, 0.0548882755785903, 0.08820459509946162, 0.910762531460894, 0.0009760555077983523, 0.999794674194321, 0.9998057416492346, 0.17069924821378776, 0.8292804752849448, 0.999287125935953, 0.999998290385018, 0.9995559275098781, 0.9996533188220383, 0.9995022787794392, 0.0005310304715967005, 0.07458027956646994, 0.6785979393148502, 0.19860539637716598, 0.015104866747639481, 0.0008260474002615341, 0.03171431983146961, 0.9998313379253961, 0.9999820902478076, 0.9997317963146992, 0.9997039436287045, 0.17227972720222365, 0.6445835505693202, 0.04390043459868444, 0.05928599496810974, 0.06602072073040792, 0.0005782340300963084, 0.013344734380850098, 0.9996671703381668, 0.999827833992708, 0.17610810211320244, 0.00032112641028273555, 0.3735116426564507, 0.05552513505203522, 5.946785375606214e-06, 0.39451568860309183, 1.1893570751212428e-05, 0.9998934073223414, 0.9997968515147221, 0.5801503724779193, 0.07858438598369995, 0.0001777927284699094, 0.07210765087515325, 0.06522453238724676, 0.02721498693650113, 0.00015239376725992233, 0.1763830861227551, 0.9995682174781447, 0.9930255470534041, 0.00691201076835316, 0.29328218681527196, 0.7066689511809403, 0.9997958572940466, 0.9996240260815001, 0.999741731927606, 0.9997616543246768, 0.17135300673311507, 0.6085986101210639, 0.21999113786389402, 0.9997266495749669, 0.421250716241167, 0.5787211142666226, 0.9996606817048906, 0.9997152971319565, 0.4892210536433136, 0.08946625717239734, 0.4212882741587666, 0.999966530011956, 0.999799494291581, 0.9998069374244359, 0.9998792684085877, 0.05954948336890402, 0.9402813382367281, 0.999877483208103, 0.9997349632913546, 0.7864478932621433, 0.21333847005616283, 0.999823130192415, 0.9997880822931927, 0.2744347352087571, 0.7254024098057179, 0.9998357753605909, 0.9998252795166366, 0.47035208961329994, 0.05829339994261333, 0.47131622981591315, 0.9998675219628168, 0.9997067484986911, 0.9998165581359125, 0.9999088495362333, 0.9995219128752374, 0.9999375948925522, 0.9995571905183614, 0.9996753736207616, 0.9997673345289853, 0.9994229265332677, 0.9997711318080117, 0.9996807408261232, 0.9997132823041175, 0.9998442157470598, 0.9996594346018416, 0.9996807191706213, 0.9996894765729829, 0.999718229776677, 0.00022485790143425034, 0.7853117356931293, 0.21467391756834742, 0.9997685162949282, 0.9996995279305473, 0.9996900084603583, 0.9998712675327573, 0.9999118970133098, 0.9987362180852507, 0.9999265947585989, 0.999972952157718, 0.999674795232606, 0.9995645036792827, 0.0002989128300476324, 0.9992857973060859, 0.9993944742266113, 0.9998474540395167, 0.011739176324659758, 0.03905693017192682, 0.050906592861995136, 0.24663318918326346, 0.5374056813472476, 0.005496696679075981, 0.058972097536820194, 0.007568316030486526, 0.00027621591352140605, 0.0033422125536090135, 0.00593864214071023, 0.01961132986001983, 0.00016572954811284364, 0.0012429716108463273, 0.00011048636540856243, 0.00027621591352140605, 0.003148861414144029, 0.0006905397838035151, 0.006408209193696621, 0.0009667556973249212, 2.7621591352140607e-05, 0.9997551138799665, 0.0498501974349178, 0.31413321508034486, 0.11536630614366082, 0.00029430180138688986, 0.0011998458056542431, 0.007561292435632401, 0.045548863414647874, 0.014737728669451175, 0.00018110880085347067, 0.005161600824323914, 0.017341167681719817, 0.07389239074821603, 0.03995712918829697, 0.3147897344834387, 0.09152928268084094, 0.9084262747824744, 0.0040364915648628385, 0.04322409717373956, 0.9526120093076298, 0.1254895245627398, 0.8743965543175624, 0.06090236971089239, 0.000609125217978587, 0.001725854784272663, 0.11994690750695008, 0.11958143237616294, 4.060834786523913e-05, 0.00019288965235988588, 4.060834786523913e-05, 0.00014212921752833696, 0.022578241413072957, 0.12603815968673596, 4.060834786523913e-05, 0.00014212921752833696, 0.5480096544414021, 0.9992382082523686, 0.9994654598066764, 0.9995201669454379, 0.3201064507390889, 0.00013983443700130963, 0.6797351982633661, 0.0006392580171514059, 0.14835047718026959, 0.8074681100645125, 0.04351216236743903, 0.9998511303875649, 0.9997800968368971, 0.005713929625211156, 0.41322652757644085, 0.04637541245731935, 5.611060188423394e-05, 0.20730997042828297, 0.1706697473978782, 0.050312506356196426, 0.021649340560333595, 0.0047974564611020015, 0.07630106679557745, 0.00013092473772987917, 0.003432098481918976, 0.9996480488476815, 0.5010793400659153, 0.002688244047639453, 0.12720303312725956, 0.007756168478319744, 0.0010238703416226786, 0.05761725155323238, 0.0787445121641588, 0.023497590579888507, 0.03152024585945251, 0.01843901656328696, 0.048234111025210843, 0.0037167895963015046, 0.0001823330745355455, 0.005021172360286561, 0.02585857013477185, 0.006316204710192871, 1.4025621118118886e-05, 1.8700828157491847e-05, 0.00040674301242544765, 0.0006966058488665713, 0.05084755176022033, 0.003557832556962824, 0.00024311076604739402, 0.005231556677058344, 8.415372670871331e-05, 0.4902960606502766, 0.0027745128735262217, 0.5068770780611118, 0.1794087426128172, 0.1073361093120281, 0.3527799702533588, 0.08558040330289804, 0.0007776809771878295, 0.0927021539944065, 0.13234774937087818, 0.049058439403263786, 0.9998239342535856, 0.9998814638128942, 0.9999579877492604, 0.9999575137586306, 0.999780101063255, 0.006952594798558756, 0.08063002655493927, 0.5434885325078095, 0.3318723498792357, 0.03440713252672581, 7.299312124471134e-05, 0.0006295656707356353, 0.0019343177129848507, 0.999944078279503, 0.9997727098476688, 0.9995049519479654, 0.1979728054956412, 0.8019941662412446, 0.9996704912795323, 0.9997095718389726, 0.22394843844863851, 0.5879074574766501, 0.11866746664767984, 0.034805195117143306, 0.03466944822309958, 0.14100433509560012, 0.8589268887444662, 0.9992337041315232, 0.9998345426588583, 0.23704992951898632, 0.00817949090718494, 0.0008800718064692657, 0.15018166532749058, 0.6036257213783316, 0.9997445370320391, 0.9997776426232301, 0.4577726234835482, 0.5422012089961202, 0.9997451104469358, 0.10006818217796326, 0.11530626874301365, 0.6918376124580818, 0.09275769828071168, 0.9998134527960427, 0.9994508226244684, 0.999716772840806, 0.9998500772192006, 0.9244927668324225, 0.07550252194606508, 0.9997964132871962, 0.9997480214602666, 0.9999905964984741, 0.9998305969772872, 0.9999829476002751, 0.999835481366651, 0.9998532676346827, 0.6308947964581009, 0.3690886529808975, 0.9998324348598631, 0.9996595410222642, 0.0009185315628483997, 0.05214996228200878, 6.656025817742027e-05, 0.052649164218339435, 0.09715800886158037, 0.0036142220190339205, 0.021365842874951906, 0.0001730566712612927, 0.0003128332134338753, 0.0030950520052500426, 0.008672801640517862, 0.013112370860951792, 0.00010649641308387242, 0.08229510321056242, 0.0002995211617983912, 0.0035543177866742422, 0.008912418569956573, 0.0020633680035000283, 0.006516249275569444, 0.00020633680035000282, 0.4809111773834969, 0.02827479767376813, 0.0004725778330596839, 8.652833563064634e-05, 0.005830678616342015, 0.034591366174805314, 0.03787944292876987, 0.05470587619602172, 0.05088662401156917, 0.1313753883296543, 0.0007445937132313832, 0.11546650801768621, 0.0009988452250664897, 0.045284010340059855, 7.26432890957447e-05, 0.0010805689252992026, 0.00013620616705452133, 0.013039470392686174, 0.0010896493364361706, 4.540205568484044e-05, 0.00022701027842420222, 0.00011804534478058514, 0.0015164286598736707, 2.7241233410904264e-05, 0.5594986126154258, 5.448246682180853e-05, 0.007582143299368353, 0.008299495779188832, 0.062010127654355075, 0.0004176989123005321, 0.2330751594772866, 0.022737821089658106, 0.11658755297180738, 0.035231129380679044, 0.5099768444394747, 0.043826525484901444, 0.020489025597274335, 0.00014991969949225124, 0.017840444239577896, 0.9999324615261924, 0.9996955369073426, 0.999647686038453, 0.8462976856841091, 0.1534495803712945, 0.9999081760009487, 0.9997937481339102, 0.999754801423576, 0.9991877162842626, 0.9995246646959118, 0.9996795645919189, 0.09171984620378858, 0.13464003064530503, 0.09546801299577032, 0.678124215482658, 0.9994534639200597, 0.20041166306070612, 0.03757403886486222, 0.2491420686930844, 0.10871791272091837, 0.0011584489194260469, 0.004205673250959779, 0.014606529853632765, 0.004155305906636908, 0.06882697601720406, 0.00486044872715711, 0.015991631822511735, 0.29034255634919337, 0.9999301558450191, 0.0011746481386294796, 0.9986466925248292, 0.009509415048314842, 0.11609181839330027, 0.18689023794375992, 0.13741929260570582, 0.5500069767250769, 0.01857034841554651, 0.10742567285014519, 0.31914450138200373, 0.36238166660367704, 0.0630366403288691, 1.4047162190277238e-05, 0.01245983286277591, 0.06137205160932126, 0.0010956786508416246, 0.047879752325559966, 0.0016926830439284073, 2.107074328541586e-05, 0.004902459604406756, 0.21780799799538872, 0.24346775296118572, 0.5386549081391467, 0.1605834386687205, 0.7880483564298321, 0.0512402995182242, 0.005344163375962641, 0.14713213944935813, 0.07288179784555453, 0.016087231878217884, 0.20088169555459057, 0.08683410146090385, 0.018721678612847355, 0.12893735018343666, 0.12962846478135245, 0.009005017929278918, 0.014239697804581633, 0.0003695068147272504, 0.0008211262549494454, 0.03426149298776561, 0.0663333159623327, 0.01220056760479051, 0.0014711845401177565, 0.0023607379829796555, 8.211262549494454e-05, 3.421359395622689e-05, 0.0014232855085790387, 0.0509371986820306, 6.8427187912453785e-06, 0.5445385108356123, 0.40138771834627784, 0.054049589132848616, 0.9996160029449256, 0.1773982774056315, 0.09076608925009515, 0.014288919000757553, 0.7175014421512471, 0.9998240580002525, 0.9993443203164172, 0.10352388213842918, 0.5584197173458688, 0.1788401448619388, 0.0008275194471213639, 0.1481619601411207, 0.010218066216629015, 0.22018303932384162, 0.39224069289152236, 0.38754094818877227, 0.9997694342965822, 0.9999880971620697, 0.9998870052096215, 0.9998831332900014, 0.08969751312428816, 0.03684792844294206, 0.0005260353588446714, 0.5514038382470192, 0.029771904422354063, 0.0017647637845111556, 0.011182493596085112, 0.06535565111581458, 0.03800181245589166, 0.0035295275690223112, 0.00682997522370904, 1.6968882543376498e-05, 0.00033937765086752993, 0.1310337109999533, 0.03369171628987403, 0.9998741162797703, 0.999898027774889, 0.9995370311384765, 0.06307859900144872, 0.8924505323324436, 0.04437830637712542, 0.9935821148016583, 0.006099337721311592, 0.999821110925385, 0.9993598832716963, 0.0030229066260225933, 0.11274322120017598, 0.18967806082419544, 0.06070071144723146, 0.31725591639281564, 0.06239876393468859, 0.02067518852859897, 0.08936234464211235, 0.03465146669459232, 0.06405949658725656, 0.009460578144404042, 0.03597632083315778, 0.2823440255828313, 0.061098839506830656, 0.08889642408404846, 0.06394094027587095, 0.00036359318238538663, 0.010131680093848013, 0.07147685187273559, 0.0002868252482854558, 0.025373911229205705, 0.07097237687722176, 0.05717692603836276, 0.02066660274263852, 0.035114159219511214, 0.024499937825606492, 0.008166927143092641, 0.03686548044139535, 0.07078762767317907, 0.027410370492032442, 0.0031803858412828485, 0.008485809330892354, 0.013654569025730553, 1.0123244057133735e-05, 1.6872073428556224e-06, 0.011931086725003533, 0.006609634765636901, 0.00016872073428556226, 0.00035853156035681974, 1.3497658742844979e-05, 1.3497658742844979e-05, 0.06651344534030787, 0.2501723840521333, 0.6259962302040469, 0.03138594790238729, 0.025894752900597402, 0.9995232361085236, 0.9994282551705778, 0.8040292306761867, 0.05360194871174578, 0.0791011614560477, 0.06325029947986002, 0.08922952090144091, 5.0959178127607605e-05, 0.3115644150721929, 0.029556323314012412, 0.0006624693156588988, 0.11501486503401037, 0.08020974637285437, 0.018192426591555916, 0.3554402674400631, 0.004886355249178892, 0.11355137852130334, 0.5238924574081185, 0.06731894039445689, 0.05848591359786428, 0.006089150387438312, 1.8793674035303434e-05, 9.396837017651716e-05, 0.06917951412395193, 0.004829974227072982, 0.03262581812528676, 0.007047627763238787, 0.0017290180112479157, 0.0013531445305418471, 0.06489455644390275, 0.04397719724261003, 0.9994732127759544, 0.9607311704521971, 0.039229215126550886, 0.01062877060628011, 0.17490995887444988, 0.21354533796039582, 0.0004849629173968111, 0.00040413576449734257, 0.0014953023286401676, 0.08381775755674885, 0.004607147715269705, 0.454410253600812, 0.00016165430579893704, 0.0510827606324641, 0.0043646662565712995, 0.9998491986455283, 0.9998823506616454, 0.9994550471419952, 0.9996694331422863, 0.999709809794958, 0.9997450102665267, 0.03690633673149681, 0.024048743860250407, 0.07109132800391887, 0.4527523844103341, 0.19368946978099963, 0.022428167350913762, 0.010273843530888923, 0.01727595712783405, 0.06885921318917218, 0.000657403678315809, 0.012750573667799645, 0.0049075949009156905, 0.04526912305797931, 0.0038526913240833458, 0.024002878487344653, 0.000412788356151787, 6.115383054100549e-05, 3.0576915270502746e-05, 0.0007491344241273172, 0.007552498071814177, 0.0005503844748690494, 0.00019874994925826785, 0.0008561536275740768, 0.0007949997970330714, 0.9999540773118955, 0.14463909710038741, 0.00018349393859865197, 0.1786313492257877, 0.06876435348984482, 0.6077319246387353, 0.9993004885818632, 0.9992905141172067, 0.9998303619217294, 0.9996820113207927, 0.13415370129932994, 0.15357026279619976, 0.1437658604561962, 0.12902721641566794, 0.43946791665192486, 0.9996674264967692, 0.24454669756133188, 0.004697507184793946, 0.7503576917828212, 0.00013816197602335134, 0.01768159660660227, 0.13248023683434998, 0.003343742734058083, 0.0469177884489468, 0.0037653034225926265, 0.00014850433346103235, 0.1502672236130859, 0.0012071965171671017, 0.005921011488962451, 0.09602002773848169, 0.10944290329841112, 0.03896083045285729, 0.000771264441523426, 0.0008814450760267726, 0.002160498528739535, 0.03316437098550732, 0.08028814931635167, 0.044268662758496766, 0.20829888475976155, 0.02400021647225071, 3.5571759409104545e-05, 0.0001778587970455227, 0.9997442981928831, 0.33857416389286105, 0.19065799164713781, 0.00064849657022836, 0.4700421049482467, 0.004950924254380273, 0.1387099514213069, 0.05301225498793971, 0.0026249239914733144, 0.09297462095065444, 0.21341285946334285, 0.4372693666934727, 1.8682733035397253e-05, 0.0003829960272256437, 2.802409955309588e-05, 9.341366517698626e-06, 9.341366517698626e-06, 0.01252677250023386, 0.00022419279642476705, 0.00016814459731857528, 0.00592242637222093, 0.03580545786233884, 0.001933662869163616, 0.38354684241667286, 0.23952212220549937, 0.376909130618861, 0.23199039204037225, 0.7679568182474097, 0.9998366535934888, 0.9998970017316813, 0.9996658970717843, 0.05825590072689941, 0.16967031086709453, 0.08099556197654707, 0.6273763308963928, 0.01506047433564729, 0.00023169960516380446, 0.0010591981950345347, 0.04038193118569164, 0.0010260982514397055, 0.0006288989283017549, 0.004038193118569164, 3.309994359482921e-05, 0.0009267984206552179, 0.00023169960516380446, 0.9998216944750193, 0.9998757108068682, 0.9996022138928616, 0.3092902999519815, 1.876078490549445e-05, 0.6565149069828727, 1.876078490549445e-05, 0.0341258677430944, 0.9995380965423745, 0.2387475761639392, 0.7610896171140691, 0.8061847756796058, 0.08953914987910101, 0.06618616944840917, 0.03806286490126997, 0.3125218759170198, 0.19678011849182578, 0.0052035963668847565, 0.00482097898696676, 0.0002295704279507981, 0.4804143822250368, 0.1713936448771443, 0.033633527405075095, 0.06567002122016562, 0.035637804560505734, 0.06484754892132356, 0.030503341568705333, 0.05102522320000709, 0.0008943388103913605, 0.022031078373837176, 0.048446013952182, 0.10787961900345787, 0.019403958118312553, 0.008919432600063837, 0.005366032862348163, 0.0036172810813150567, 0.2789937830023549, 0.0017487517810331067, 0.0026271202555246216, 0.0010380718334899721, 0.009693993891206355, 0.0013015823758374264, 3.194067179969145e-05, 0.00038328806159629736, 3.194067179969145e-05, 0.010524451357998331, 0.016848704374337237, 0.0005350062526448318, 0.00689119994078343, 6.38813435993829e-05, 0.9999567776051205, 0.07315208579690854, 0.2604613757913661, 0.11259839364145817, 0.00011201033935981912, 0.36450964686169135, 0.01500005127926911, 8.400775451986434e-05, 0.023064795713176087, 0.001904175769116925, 0.0004200387725993217, 7.467355957321275e-05, 0.02684514466656998, 0.00257623780527584, 0.0015494763611441644, 9.334194946651594e-06, 9.334194946651594e-06, 0.003649670224140773, 0.015205403568095445, 0.0001306787292531223, 0.014542675726883182, 0.08080612565316285, 0.003276302426274709, 0.4132694784283768, 0.5866505753542082, 0.9995987704309456, 0.9998630102406688, 0.9998613029983263, 0.9997491729485198, 0.18925006163268232, 0.012096250687781999, 0.7986338535491417, 0.1100357468704829, 0.8899363931832001, 0.9230095298534097, 0.07692927791449912, 0.9999456277547127, 0.9997933536696939, 0.012113230113432665, 0.9877437108453339, 0.9998789412525809, 0.9998226642120083, 0.9997778900171076, 0.829930037055138, 0.07654378285241657, 0.09348113054741938, 0.999780179644034, 0.6751092237593195, 0.0005813152688579367, 0.32427282171510124, 0.9390238139490413, 0.05527073199354984, 0.005670573424798874, 0.9998836708165347, 0.10835359826523396, 0.10782389572075426, 0.7837831983151117, 0.9991897631872608, 0.9997960102049962, 0.9999591824009181, 0.3122312952546763, 0.09635602995417569, 0.28511592629136323, 0.06886722821248492, 0.031088278799942356, 0.012686341332108608, 0.028702458271418253, 0.08958237427971377, 0.07078625776803692, 0.0045849246678593665, 0.9994633594661666, 0.9999385364808384, 0.9998920658006313, 0.9998194193391575, 0.0014187472069115863, 0.17056679655799414, 0.2099245131920826, 0.4538321947756004, 0.07973359302843115, 0.05120842859770291, 0.028224723845735208, 0.0045733733493385255, 0.0005174254519324609, 0.1632820150352995, 0.8367070998521408, 0.9997973668013979, 0.9998005094347066, 0.9996514102592567, 0.9997948865873921, 0.9994242065346537, 0.1852803644198978, 0.0459842510690767, 0.10362473476869688, 0.007874157149356504, 0.0001240024747930158, 0.016802335334453643, 0.1157976443775446, 0.032860655820149194, 0.03575404689865289, 0.009692860112987403, 0.3432388502270678, 0.003141396028089734, 0.01713300860056835, 0.0826683165286772, 0.9996908377228456, 0.30449708007319354, 0.6952881901056431, 0.9999899859206101, 0.9999083768925502, 0.08076271871817886, 0.00015947223244364576, 0.6523411008397885, 0.15941741386374328, 0.10731484542004588, 0.9997439549772551, 0.023031525117858893, 0.12360846943098946, 3.5707790880401387e-05, 0.002261493422425421, 0.06417880280904142, 0.002273396019385555, 0.06536906250505481, 0.13333289114741878, 0.007236778951761348, 0.02798300545327455, 0.04137342703342507, 0.06857086108733079, 0.0029399414491530474, 0.059191614682745364, 2.380519392026759e-05, 0.3091223456516348, 0.027185531456945588, 0.02900662879184606, 0.013259493013589047, 0.9985215353462635, 0.0013563518015323411, 0.9998865427306773, 0.9999177121794698, 0.9998394519941627, 0.9999574979505202, 0.9998416992272036, 0.9997973359902265, 0.9301739727272574, 0.06528281679595718, 0.0013126054234550823, 0.0017758779258509937, 7.721208373265191e-05, 0.0013512114653214083, 0.9995314200375374, 0.9998973828696935, 0.9996305794392862, 0.9995927807140413, 0.9997108671383171, 0.9996240466310818, 0.9996823046862162, 0.9998891901176566, 5.068387505256334e-05, 0.20827693721600027, 0.7916483390710043, 0.33167695858763313, 0.6682963206874338, 0.9997169888368209, 0.99960751434019, 0.0036495233948156867, 0.029841406764238763, 0.20286443717756772, 0.00016130490142831765, 0.05038425806489097, 0.10065089797249045, 5.0407781696349266e-05, 0.0045635845029094865, 0.04384132800070483, 0.055270452370657086, 0.03632720800916903, 0.019480927366249113, 0.00028228357749955586, 0.0014887098194321816, 0.007551085698113119, 0.12311260549638368, 0.16665820784446994, 0.0034646948619290728, 0.0016533752396402559, 0.00035621499065420145, 1.0081556339269853e-05, 0.039687726788925654, 0.06515373810192131, 2.0163112678539706e-05, 0.0002083521643449103, 7.393141315464558e-05, 0.020603340638687823, 0.0005679276737788684, 0.0009980740775877154, 0.02102004496737764, 0.2135092727045778, 0.7862870949465051, 0.9999597356490438, 0.9994780413721518, 0.06608253708518255, 0.10901621214975232, 0.09868227419958776, 0.00013666448967664224, 0.12446981213626494, 0.03811887996673114, 2.1025306104098807e-05, 0.0009776767338405947, 0.08268201625436856, 4.2050612208197615e-05, 0.0032589224461353154, 0.2785537679201531, 0.08532069217043296, 0.041598568126959494, 8.410122441639523e-05, 0.005634782035898481, 0.018954313452845074, 0.009724204073145698, 0.0012615183662459284, 0.0002838416324053339, 0.003721479180425489, 0.014696688966765067, 0.0011879297948815828, 0.015506163251772872, 0.9997049357464627, 0.9998826071883934, 0.005823331920792492, 0.6869444450792921, 0.0792724538894978, 0.00011827555872577344, 0.04101378933461379, 0.0009392470839987891, 0.011521430897051812, 4.870170065178906e-05, 0.04494471231579391, 0.03466169609245902, 0.03672803967725635, 0.00030612497552553124, 0.00038265621940691407, 5.56590864591875e-05, 0.05715492440777817, 8.348862968878126e-05, 0.3018488194196405, 0.08538899477631448, 0.27080938120923614, 0.005502698258767567, 0.03170575888755076, 0.05326123279323764, 0.0002387649093108026, 0.00040534507859740906, 0.08287918689239628, 0.06800913044741187, 0.002004514703748831, 0.02600316442563927, 0.019406589721889654, 5.552672309553549e-06, 0.039751581064093856, 6.107939540508904e-05, 0.003631447690448021, 0.001071665755743835, 0.0021877528899640983, 0.003475972865780522, 0.0002054488754534813, 0.0016824597097947252, 0.00047197714631205166, 0.9998124276877002, 0.02490429694077017, 0.1638863411586166, 0.023157852555021913, 0.18073952948108732, 0.4658727721202768, 0.050891389400704264, 0.01315945844661313, 0.0010565988533776966, 6.985777542993035e-05, 5.2393331572447766e-05, 1.746444385748259e-05, 0.07618863632826779, 0.08435782929322866, 0.9154939645126497, 0.00020324371569775627, 0.9997558375172632, 0.999943533249514, 0.9999360995484708, 0.9998628200531589, 0.9998312609249987, 0.9990946818339675, 0.000323255626174713, 0.10503759047413684, 0.047047352296850656, 0.1371628256613027, 0.00392914937167292, 0.2912533191834164, 0.005927870778584173, 0.18270999867893406, 0.033814359656332296, 0.03364362605095833, 0.05185293417610994, 0.010665159215693875, 5.9187649862975615e-05, 0.05397686022696211, 0.000842285786511576, 0.01557773415432085, 2.9593824931487807e-05, 0.005078755647857638, 0.014883417492466714, 8.878147479446342e-05, 0.0015092850715058782, 0.004363950953358625, 2.276448071652908e-06, 2.2764480716529084e-05, 0.00019805098223380302, 0.9203134166400222, 0.0795207520156761, 0.999952352053496, 0.23044857289350562, 0.029856705365958677, 0.0021281237261468067, 0.27918242100697366, 9.260764691674529e-06, 0.24360997167331347, 0.0010427621042825518, 0.047203969786403406, 0.0003037530818869245, 0.09455240750199694, 0.01217975772249034, 0.011220342500432858, 0.019080879570726197, 0.001985507949895019, 8.149472928673585e-05, 0.014257873319302103, 0.010385021525243817, 0.00010557271748508962, 0.0023614949963770048, 5.5564588150047166e-06, 0.9991044029898234, 0.24371975009882993, 0.6016889764216778, 0.1037407682636419, 0.03945440177294239, 0.011368851316563495, 0.9999900402135068, 0.9999713057422143, 0.9998515301950822, 0.9998511069168816, 0.999804219234578, 0.9996191618232614, 0.9999443746625716, 0.9996550558432947, 0.08639499421614857, 0.20600453599357613, 0.18240123241086068, 0.11814926990223144, 0.003876358068702425, 0.008920933637561745, 0.10168802330911156, 0.29250573180064804, 0.005854328810831405, 0.9144062443736098, 0.0013305292751889556, 0.0783681743086295, 0.04160646730754374, 0.4918170799442939, 0.06711544349036362, 0.3940389511489947, 1.2559811020590784e-05, 0.005404905342527568, 0.030245156858248037, 0.818231658720875, 0.11448207192063836, 0.036988018968810606, 0.9994964135562044, 0.9998749991505103, 0.9999307237337708, 0.9997130198377328, 0.10005713734134108, 0.06558692883181842, 0.06938526749286113, 0.2264745168618704, 0.5384857953428376, 0.00012517671326664365, 0.0018776506989996546, 0.0008762369928665054, 0.8172787609179163, 0.17975376025090026, 0.9994637660663594, 0.0970317709068344, 0.0853920786430634, 0.10173400056914543, 0.07154290497170046, 0.05472715486496934, 0.010228508334446556, 0.0003347699102412015, 0.013565906824235766, 0.0002884171534385736, 0.08611827183297123, 0.0008704017666271239, 0.03304951560027369, 0.0629573443505915, 0.014153041743735719, 0.0012000213705569223, 0.09264370992951897, 0.010043097307236045, 0.0005304815500745193, 0.015198553924950549, 0.02025615472274839, 2.06012252456124e-05, 0.18199637412605135, 0.0006334876763025813, 1.03006126228062e-05, 1.54509189342093e-05, 0.005588082347872363, 0.03985822054394859, 0.9996475347364413, 0.9999698530693775, 0.9995349916441912, 0.14100520599395117, 0.03170095777517209, 0.7407611594996361, 0.00032709500713849104, 0.04680184393806576, 0.0007359637660616048, 0.018562641655109367, 0.020089085021755656, 0.00010975692375030654, 0.335131790979186, 0.1897258183947799, 0.41896412933967014, 0.05606383665165658, 1.7514107767467885e-05, 0.3996018828225472, 0.5756887223166693, 0.024677377844362247, 0.11117595603565565, 0.07717290017007378, 0.7540829339558359, 0.00025781592484434444, 0.05296684944857699, 0.004325578294610668, 0.14351338926417465, 0.04296826904351927, 0.00038022696273100776, 0.14214457219834303, 0.04012050020540979, 0.03310859056166693, 0.003804891882225464, 0.052450342817555985, 0.006938486506112045, 0.00464925796497984, 0.0002727145112001711, 0.16702977134535865, 7.866764746158781e-06, 3.1467058984635124e-05, 0.016334025867941016, 0.057574228922220735, 0.0841481602347451, 0.15086356979200236, 0.053656580078633664, 0.06571835014613353, 0.9342436347048826, 0.9999170020967715, 0.020042108871315155, 0.06386833374973643, 0.06531226041626445, 0.07610103642461828, 0.12467594970633948, 0.11928664595098838, 0.0237637790118029, 0.30556335443075616, 0.008114461125981479, 1.0168497651605863e-05, 0.02231985234527487, 0.0317460496683135, 0.02121148610124983, 0.07096594511055732, 0.008683896994471406, 0.004982563849286872, 0.0117954572758628, 0.006345142534602059, 0.002460776431688619, 0.004901215868074025, 0.0015761171359989087, 0.005389303755351107, 0.0002440439436385407, 0.00039657140841262866, 0.0002542124412901466, 0.14943959312057023, 0.0011092236708184415, 0.003837008412320935, 0.22253516930572834, 0.04174302957120828, 0.34250110488740854, 0.11775880684892923, 0.0031012988347372747, 0.005274471740830548, 0.04415389326390551, 6.791165331541478e-05, 0.05503107640325777, 0.002999431354764153, 0.004006787545609472, 0.001833614639516199, 0.0003282396576911714, 0.00016977913328853695, 0.0003621954843488788, 0.002490093954898542, 1.1318608885902463e-05, 0.0012337283685633685, 0.1288897038743877, 0.003963781494409297, 0.26497211237065293, 0.0010688848973687993, 0.5048699665238628, 0.05640594677156601, 0.008684689791121494, 0.031019930459057026, 8.907374144739993e-05, 0.9992965742616053, 0.34078470194135346, 0.6591585206415331, 0.9998878619709686, 0.9995402674939629, 0.9999516956134664, 0.00026150210896749095, 0.15615748479187394, 0.17815367038387714, 0.4704465809523354, 0.05405377199952613, 0.1409174848348341, 6.430379728708794e-06, 0.9997166005909938, 0.9992629108011328, 0.9996285656903177, 0.9999274512986585, 0.9998153361916512, 0.9998748091486535, 0.9999600176289486, 0.9999823542412719, 0.999969754085988, 0.4406590352928858, 0.33773622426196126, 0.2215883853620093, 0.055877290889243376, 0.06363973703262228, 0.8777108746406289, 0.002710695478640252, 0.9999107904187141, 0.9997658635951931, 0.999636301257057, 0.999570079873718, 0.9999654490274866, 0.9994696116729918, 0.027721284706135392, 0.10552144197527016, 0.035846488844140593, 0.03218218109562845, 0.02862408516591375, 0.3498617311188122, 0.0006372709127847217, 0.018374644651959475, 0.0008496945503796289, 0.008072098228606474, 0.2159817335246219, 0.17625851329437428, 0.9999119781029812, 0.014724065492149274, 0.16885280255374618, 0.06101324134193186, 0.12006748684585244, 0.06625829471467173, 0.3812142707355815, 0.0008847077978115444, 0.15333881938497945, 0.0318178840141509, 0.0005371440200998662, 0.0012638682825879205, 0.9996231912968471, 0.0023949117987176697, 0.9975627816932627, 0.3094397981943081, 0.6211135369863923, 0.06933864726052838, 2.5313774479048998e-05, 1.2656887239524499e-05, 6.750339861079733e-05, 0.7532762566338345, 0.24659491386321547, 0.30840330564255614, 0.0004489131086500089, 0.25675024107851446, 0.00022445655432500446, 0.20961436467026354, 0.09197107313467058, 0.0009258832865906434, 1.4028534645312779e-05, 0.010325001498950206, 0.0011783969102062734, 0.1200982850985227, 4.2085603935938336e-05, 0.9297876647926187, 0.07013724235763698, 0.9998855070794672, 0.9567239348398345, 0.043060291452254686, 0.9998974254850317, 0.2719449867826073, 0.7279901879850553, 9.930328267880237e-05, 0.09106111021646177, 0.000523599126851867, 0.36854156473449345, 9.027571152618397e-06, 0.45946726138366595, 0.0278229742923699, 0.00022568927881545992, 0.018840540995514594, 1.8055142305236794e-05, 0.0010020603979406422, 0.032381897724442193, 0.9997319587319118, 0.00011405705167581099, 0.9998811435159971, 0.9997171961159913, 0.9993601151226462, 0.9999629568394864, 0.9999622113021436, 0.0045540059703780165, 0.0062555027065632094, 0.10861220832648816, 0.0005004402165250568, 0.0003836708326692102, 0.5219257831545325, 0.1307483472374465, 0.04724155643996536, 0.010542607228127863, 0.11768685758614252, 1.6681340550835224e-05, 0.05149529828042834, 0.9998629556732697, 0.999869081114648, 0.07131030455005555, 0.02676046762986075, 0.2770042138133475, 0.04537797849667411, 0.0119531917450508, 0.0009639881442298645, 0.027486724280527154, 0.0009875000501866904, 0.12773496019544506, 0.12902027772108488, 0.017521594805825748, 6.531084988007212e-06, 0.026111277782052834, 0.024889964889295485, 0.004793816381197294, 0.06899438181330819, 0.054205392966464656, 0.008035846969244073, 0.008175612187987428, 0.005742129921455941, 0.024772405359511356, 2.743055694963029e-05, 0.0008947586433569881, 4.049272692564472e-05, 0.004480324301772948, 0.0007393188206424164, 0.013652580058930277, 4.963624590885481e-05, 0.018267444711456172, 0.9998363175352318, 0.9998863606676692, 0.9999309054287444, 9.399408825795106e-05, 0.8543122681765172, 0.0839367208143503, 0.02641233880048425, 0.0351537890084737, 0.9997283781401981, 0.9997767018092886, 0.2610539194898468, 0.7389391101447742, 0.9999421943869745, 0.9994382003237594, 0.16424635823358577, 0.6650189559735044, 0.09468780508962758, 0.07597557459597122, 0.9996767409311181, 0.9995636108220101, 0.9997458994004466, 0.9998812692296565, 0.9998754736094884, 0.9998363741397869, 0.999795376565352, 0.2123602971743666, 0.003693222559554202, 0.023579805572538366, 0.760093612160559, 0.9995726679592267, 0.9998231337560214, 0.9995128472909255, 0.9998112868209199, 0.9997609310828824, 0.9997564159197956, 0.9999334145724104, 5.082684248927874e-05, 0.9998386734194307, 0.9998955790034664, 0.9998572215326428, 0.9994594296382107, 0.9997863810673671, 0.2323427811412906, 0.7676215424385158, 0.9997568458656348, 0.018159777394496535, 0.12048815130312442, 0.019670307277145124, 0.011793495477581574, 0.1910352438312477, 0.10397592088240168, 0.05539500737783853, 0.08634750245104922, 0.002182247817189223, 0.09989882695135903, 0.04616139218810832, 0.014116102266167347, 0.049028725460923565, 0.05684204153533154, 0.0057212990245450995, 0.0044848033241469175, 0.01098141857164439, 0.006941085323586549, 7.017948569827517e-05, 0.0002940854638784864, 0.016107862907889823, 0.00624597422714649, 0.002229034140988073, 0.0010593760460168202, 0.0273833669434127, 0.0347020847376614, 0.008678863064686695, 0.8243194781961284, 0.1756065706719409, 0.9998731026228517, 0.9998505676928263, 0.9998500471374288, 0.030515668001362156, 0.0009553708214054451, 0.8358932704461524, 0.0663139746622603, 0.06620157809503613, 0.9997474075780088, 0.186815416092726, 0.22078419660365867, 0.10880826206117554, 0.08286596873187593, 0.0003777170438415561, 0.3171793030876776, 0.00023178091326640944, 0.08293464455802894, 0.9997284481266255, 0.18006940076863007, 0.819895828989939, 0.9998320538195943, 0.09850316328657199, 0.9013968715846682, 0.9997023186506536, 0.9997593008522037, 0.9997146203393665, 0.9998430249526945, 0.9998192596624138, 0.0002713869374098144, 0.9995180904803465, 0.9997204715836789, 0.017063059676796943, 0.024745903300904468, 0.030083692911839637, 0.4702168304126739, 0.26420941881741866, 0.03198206997012202, 0.06805123407748728, 0.08185355198358743, 0.001697372428581895, 2.2333847744498618e-05, 0.0013400308646699171, 0.006387480454926605, 0.002322720165427856, 0.9998803530199508, 0.9995746777167781, 0.9995754661471633, 0.9995787251335174, 0.13081695667591153, 0.006600784199760383, 0.34862726738074057, 0.16828886131936258, 0.3456538009133957, 0.5891131832189412, 0.22008228022718798, 0.19072906778644383, 0.1262382247467158, 0.1728177264869654, 0.10559905250369173, 0.0010602314508402783, 0.5887111836032453, 0.0055132035443694475, 0.8139003942696893, 0.008554765548346535, 0.09162153902279138, 0.08588984610539921, 0.9999389115209398, 0.999897049918764, 0.07348309202613233, 0.17822171415578025, 0.6560053179734986, 0.013956949294551636, 1.6400645469508387e-05, 1.6400645469508387e-05, 0.0014145556717450984, 0.00021320839110360902, 0.011119637628326686, 0.056315716380924426, 0.009237663560700599, 0.006311811178249852, 0.15787087000927924, 0.10756535696586275, 0.7282393879192703, 0.2648003751190912, 0.731655985482024, 0.0033358175629879514, 0.9997640456196024, 0.31294555674137464, 0.6869083521715926, 0.0685925942823714, 0.05676097972704447, 0.03364863535449519, 0.5072457335806623, 0.11172538039828846, 0.005970399458917067, 0.014645593352671874, 0.02514218093006971, 0.08492558232833654, 0.012943309882673077, 0.013186493235530047, 0.025459808166454326, 0.003498862525799279, 1.985170227403846e-05, 0.002248205282534856, 0.013186493235530047, 0.00044170037559735574, 0.0009578446347223557, 7.444388352764423e-05, 0.0028189417229134615, 0.0015385069262379807, 0.008486602722151442, 0.0005806622915156249, 0.005727216106060096, 0.0001637765437608173, 0.0356281743472095, 0.030495862986784344, 0.34012324060830484, 0.44482239236097815, 0.14887014113852595, 0.7176832730910077, 1.2989977612101715e-05, 0.19099164083073153, 7.79398656726103e-05, 0.09122861276979034, 0.16313966683042624, 0.024190138423585236, 0.0024347495917765864, 0.06845337101392081, 0.38646714466226734, 0.01532089784249544, 0.18153904946816446, 4.863777092855695e-05, 0.1418449062997645, 0.0005350154802141265, 0.00730138772998102, 1.1444181394954578e-05, 1.1444181394954578e-05, 0.008445805869476478, 0.00014591331278567086, 4.005463488234102e-05, 2.8610453487386445e-06, 6.866508836972746e-05, 0.9992650723074419, 0.9451929748935946, 0.054635432074774254, 0.999802208526051, 0.9997716360118503, 0.10050426459363528, 0.02025259115123965, 0.0006872849354982164, 2.6777335149281155e-05, 0.08589276538051085, 2.6777335149281155e-05, 0.11342879169235498, 0.0659257991375302, 0.34851594274627734, 0.0010353902924388715, 0.009541657091527185, 0.06557769378058956, 0.038800358631308395, 0.031981063946624796, 0.002561698395947897, 0.022903547331018483, 0.014388354753547074, 0.027562803646993404, 0.04950236691263776, 0.0008836520599262782, 0.9997809306256427, 0.9996340616578772, 0.9998439836316063, 0.1750428649491927, 0.25443663481678996, 0.5685911921861639, 0.001914237139100171, 0.9996835117036761, 0.9995743041850613, 0.026647530662616745, 0.0005413719547709948, 0.6991818795867398, 0.13820022956515118, 0.02394067088876177, 0.0011128201292514893, 0.0011729725686704887, 0.003729451243977964, 0.00021053353796649798, 0.08713080849842067, 9.022865912849914e-05, 0.006947606752894434, 3.007621970949971e-05, 0.011037972633386394, 0.9999317509837079, 0.9998981113514338, 0.999937986222745, 0.9996680340113496, 0.10461441543018304, 0.22224499846798546, 0.0007276118538420768, 0.6710737179398295, 2.0211440384502133e-05, 0.001084680633968281, 0.00022232584422952347, 0.1258307523283517, 0.023474376439512376, 0.10656557442282084, 0.5042700789835526, 0.17401798092987486, 0.00024283837696047287, 9.713535078418914e-05, 2.4283837696047285e-05, 0.0008418397067963059, 0.0001537976387416328, 0.047733930297863617, 0.016739658785141928, 0.0059018501652744375, 0.006891277987099858, 0.12558789984047222, 0.12926787700234924, 0.12608261375138494, 0.027000964506130553, 0.0074554254293687375, 0.028580577344483417, 0.07556971968977136, 0.26835191950017695, 0.002056968366426532, 0.005563361699913109, 0.02274816071056515, 0.01091842280575771, 2.6037574258563694e-05, 0.0003298092739418068, 0.04968837087675905, 0.015240660132679282, 0.0028207372113444, 0.01782705917569661, 0.0043656332840191795, 0.0001649046369709034, 0.0007637688449178684, 0.030516037031036652, 0.0001388670627123397, 0.01550103587526492, 0.020552325281426278, 7.811272277569108e-05, 0.9993321012744373, 0.9998426094196956, 0.09111240155401565, 0.04455984070254262, 0.302355282743187, 0.0001672721292897797, 0.07608700072302936, 0.0010109054770121469, 1.4545402546937365e-05, 0.2280210030270636, 0.09102512913873403, 0.03904713313725335, 0.03039989132309909, 3.636350636734341e-05, 0.0002036356356571231, 0.06977429601765854, 0.00811633462119105, 0.018072662664569677, 0.9998571403615394, 0.9998767387787304, 0.025393504894880237, 0.8119457765115706, 0.12059606324623123, 0.042014708098801846, 0.12145875619731704, 0.00020775156482551516, 0.0021933770978693813, 0.00033559868164121677, 0.7357561620519624, 0.0004354792416534837, 0.05709971854781274, 0.005749125034306082, 0.0020775156482551516, 0.009013221735506964, 0.03978442466408615, 3.995222400490676e-06, 0.023955353513342093, 0.0018657688610291456, 5.5933113606869464e-05, 0.20763550872882072, 0.0004544275222954311, 0.79187782655998, 0.9994664189039858, 0.9999334871398297, 0.04839136159132503, 0.037887707039590386, 0.24645980054486882, 0.15727525332597359, 0.08429216059308728, 0.043179472165464305, 0.0389527163730996, 0.21759471945260184, 0.05717103228444164, 0.011495444493565108, 3.660969583937932e-05, 0.025823148183431288, 0.005118701109178673, 0.0001730640166952477, 0.00012646985835421947, 9.984462501648907e-06, 0.01974593867409432, 0.002093408971179054, 1.9968925003297814e-05, 0.0001497669375247336, 3.3281541672163024e-05, 6.656308334432604e-06, 0.0003294872625544139, 9.984462501648907e-06, 0.003624359888098553, 0.9998229174567759, 0.20442981408052063, 0.7954736105121948, 0.9995736433843159, 0.999686065996898, 0.999867935847552, 0.9997327628229121, 0.9993868400161641, 0.9999333781067796, 0.9999008742212186, 0.9997293470957128, 0.9997871071284408, 0.9998737015050768, 0.4678009362385356, 0.038815209013648204, 0.1515309297966314, 8.371360678716362e-05, 0.04859109798401586, 0.0016091615526865896, 0.08392754156006416, 0.19042055090520152, 0.010687437133161223, 0.0024090915730972644, 0.0037299062579614017, 0.0003069498915529333, 7.441209492192322e-05, 0.047489826580612335, 0.004657450615585073, 0.22206193245020808, 0.1079211867378225, 0.11630921775969147, 0.06437561157747626, 0.009644070090548136, 0.14973718166336683, 0.00030029439802904375, 0.12919877730586118, 0.020336283128063033, 0.0022435456468131443, 0.03796702922772977, 0.005526571902188363, 2.8874461348946515e-05, 0.025597209985841085, 0.008564165236097536, 0.019940703007582463, 0.001293575868432804, 0.005330225565015527, 0.007140654291594473, 0.00030318184416393843, 0.0006612251648908752, 0.004905770983186013, 5.774892269789304e-06, 0.00020500867557752026, 0.004143485203573825, 0.00026564504441030796, 4.3311692023419775e-05, 0.0025496149371119774, 0.0001443723067447326, 0.0011087793157995463, 0.7824817881083967, 0.21741724615984256, 0.00025715719388230506, 0.21961224357548853, 0.7800863476419725, 6.428929847057626e-05, 0.9997814418988916, 0.9997437358312896, 0.2668953907962891, 0.3839381685568367, 0.3491622219301588, 5.20683439376256e-05, 0.06498129323415676, 0.4572121281162904, 0.05040215693162158, 0.161463934550577, 0.26591303248945397, 0.9992126874307266, 0.0006560818696196497, 0.9998492192730678, 0.9999188245754402, 0.999755829486614, 0.9998874883522425, 0.999830054754218, 0.9998656224857366, 0.3880473475468999, 0.012149298111278885, 0.10226459141014684, 0.0002365410749656442, 0.0161842089117798, 0.025944099352753554, 0.13129058100049626, 0.1637309895860019, 0.04813439468974797, 2.7425052169929762e-05, 0.06400664363309483, 0.0025916674300583624, 0.013832510688208323, 0.014895231459793101, 4.7993841297377086e-05, 0.01435701481095823, 0.002259138672497964, 0.8167231672950889, 0.18315752561592555, 0.1694721423109361, 0.3608536982607352, 0.07244122624028115, 0.12592380162134412, 0.27127345820868354, 0.9997495149829878, 0.3460563738352617, 0.6538952690290221, 0.9997573558993843, 0.00038955517472495215, 0.13886143689810987, 0.5732753882817738, 0.1811731220297739, 0.10625866535189848, 0.9997425697345204, 0.9995716198502792, 0.6180960003571508, 0.38188776732592716, 0.999957852159502, 0.9996112886692462, 0.9981432558013296, 0.0017417576590297748, 0.9996140681946285, 0.9998741357300809, 0.9997873472399941, 0.18413453708602226, 0.803353576622322, 0.0007057967775869678, 0.00956746742951223, 0.002195812196937233, 0.9998679431928235, 0.9998124026780556, 0.14934776868232288, 0.2296022635970231, 0.12071392157285618, 0.5002618764136527, 0.9996274542560076, 0.02643330056822696, 6.219600133700462e-05, 0.00037317600802202767, 0.9730564409174371, 0.9994913204507988, 0.9997864338428849, 0.9998381879940437, 0.9996285250665383, 0.9996208383466159, 0.9997137135880785, 0.14576284563177544, 0.00011188272290485869, 2.0342313255428852e-05, 0.1202027290263291, 0.02251894077375974, 0.0007730079037062965, 0.023719137255830042, 0.08851957613099866, 0.017016345038166236, 0.00019325197592657412, 0.16755963428496745, 0.019101432146847692, 0.0005695847711520079, 0.0015765292772957362, 0.024410775906514623, 0.042403551980941444, 0.011035704941070153, 0.09373737948101615, 0.003509049036561477, 0.017697812532223103, 0.004760101301770352, 2.0342313255428852e-05, 4.0684626510857705e-05, 0.0008543771567280119, 1.0171156627714426e-05, 0.07772797894899365, 0.004892326337930639, 0.007201178892421814, 0.10408144577140173, 0.9997155283918673, 0.9993697573050856, 0.14897737381396256, 0.09441902772196904, 0.7565577893668777, 0.9996710556697683, 0.9997444384559042, 0.9998500626213127, 0.1399362313947326, 0.7934102569279873, 0.06658710607977544, 0.9999751019093011, 0.12312049919085319, 5.115325456749711e-05, 1.3461382780920293e-05, 0.13880031785406916, 1.0769106224736235e-05, 0.07902100920055831, 0.026217389104120362, 0.00020999757138235657, 0.14070106510273508, 0.031803862958202284, 0.07581450782214309, 0.05944008180743165, 0.13497459286773159, 0.02393972313758865, 0.02417125892142048, 0.021670134000725486, 0.031195408456504686, 0.04423679609466027, 0.04161721100549318, 0.002985734700808121, 0.05847341836360347, 0.04538109113791005, 0.6158754878345053, 0.053714282173803994, 0.013609624637628152, 0.029598817370156044, 0.05153222763618842, 0.1317885697459887, 9.405407489722289e-06, 0.43151443433514497, 0.5684507193552469, 0.21074539166859804, 0.06547942745822864, 0.18642114874730498, 0.02380114092298568, 0.049101481387512094, 0.00011324888623149413, 0.05135567350392945, 4.8535236956354625e-05, 0.0006147796681138252, 0.09912513227719492, 0.008792967095259578, 0.22027986932846857, 0.044094262774848174, 0.0024645114765615623, 8.089206159392438e-05, 0.01454169627253447, 0.00268831284697142, 0.006244867155050961, 2.1571216425046498e-05, 1.6178412318784875e-05, 0.0039151757811459395, 8.089206159392438e-06, 0.008091902561445569, 0.0008224026262048978, 8.898126775331681e-05, 0.0009760975432333541, 6.741005132827031e-05, 1.3323834568091939e-05, 0.0001918632177805239, 0.00015988601481710325, 0.009710410633225405, 0.7638421119541428, 0.0952574228611165, 0.0010419238632247895, 0.0006688564953182153, 0.00029578912741164105, 1.0659067654473551e-05, 0.04521310022336319, 0.07902632759026691, 7.994300740855163e-05, 0.004460819813397181, 2.6647669136183878e-05, 0.9998253217623226, 0.9991323786379601, 0.999748449537266, 0.13386835099146768, 0.3608908343030321, 0.19137163292586942, 0.31381039234850133, 0.9997481920957352, 0.999838285846241, 0.2456060889664361, 0.7543908074096523, 0.9998271384099365, 0.9996335166144541, 0.9997237995195067, 0.0007432845132574609, 0.9935855730969109, 0.005017170464487861, 0.00018582112831436523, 0.0015445732054138077, 0.21899034251391378, 0.6627066682862353, 0.11674713081896074, 0.9997298170402573, 0.9999147800759256, 0.9997511837403305, 0.9998241804971657, 0.999979531800595, 0.999821515632017, 0.9998884739515118, 0.22521701471045713, 0.19797878410537256, 0.16025479671336593, 0.042836309180650164, 0.09872827884305126, 0.012725833269580383, 0.10954386284214387, 0.1527099992349646, 0.9996809889196316, 0.9997103074486575, 0.9998475512434191, 0.9999472535963722, 0.9996737472820626, 0.004824874983756751, 0.13760543453674254, 0.11486419044663572, 0.11933524126491697, 0.04947105150011922, 0.08070407556163792, 0.0386633315365041, 0.41641887693143265, 0.022194424925281054, 0.00019299499935027003, 0.0028949249902540507, 0.008877769970112422, 0.0007719799974010801, 0.0013831308286769352, 0.0018334524938275654, 0.23562783261124717, 0.23816356259795762, 0.035207635584710364, 0.4908588085812943, 0.9998215824381785, 0.9997609810492329, 0.9998830254005584, 0.08995275064886778, 0.6551746409067355, 0.2532837737411769, 0.001528714009238361, 0.9993550641433734, 0.999786103308737, 0.9998135542920746, 0.10572564689018422, 0.0019608875414526363, 0.13377310041413434, 0.5492784087667706, 0.00016228034825814923, 0.00012171026119361192, 0.2089629951070768, 0.3486391176819203, 0.0002243013838828567, 0.0011749120108149637, 0.6499506433645578, 0.9997171139967926, 0.9999721667968391, 0.9998955406411036, 0.999923690334712, 0.941677962332397, 0.003415069821280335, 0.0535394817142659, 0.0012117989688414093, 0.9992427563020654, 0.005141945665792914, 0.7888717451857696, 0.17385335210559283, 0.0004169145134426687, 0.03161601726940237, 0.9996335359966074, 0.9997121155437637, 0.9996411973917262, 0.9996823347061229, 0.9998729447662206, 8.200385014075458e-05, 0.9997413408695388, 0.9997105925447733, 0.07104045043194109, 0.11743879862210452, 0.1142764531029984, 0.00020736691928564658, 0.08019915603372381, 0.16580713254548157, 0.3570512738566691, 0.0005875396046426653, 0.00495952548624838, 0.03063846232445428, 0.0017107770841065842, 0.05543608975569619, 0.0006393813344640769, 0.9995910230154122, 0.9996988167297066, 0.9996827157750534, 0.29625753829316287, 0.0013121642936212922, 0.0018953484241196444, 0.06269229402857285, 0.6377118466999481, 0.99841068361327, 0.999920462161892, 0.9998462710911985, 0.9998740463887975, 0.9997473697541338, 0.2042821395357916, 6.22811401023755e-05, 0.7956104242377957, 0.9999408490718573, 0.001046321797265932, 0.06816350541772019, 0.21469215377650344, 0.18816353654165677, 0.07040873760768668, 0.09719893529184981, 0.06179838115101911, 0.002768393088599445, 0.05059401857196309, 0.20235427591707597, 0.042812000204797716, 0.0027756399346039852, 0.03128026815962204, 0.018354224958958918, 0.07754513588070353, 0.0021890700205586333, 5.635817126099462e-05, 0.5365891147954698, 0.0005443012855996059, 2.2246646550392615e-06, 0.11245753986711968, 3.114530517054966e-05, 0.08849271064815174, 0.003881298268158498, 0.006062211184981987, 1.4089542815248655e-05, 0.06025504218173839, 0.0005339195172094227, 0.0002936557344651825, 0.0013763258665842896, 0.0020563316961412907, 0.0011835215964808871, 1.038176839018322e-05, 0.0001668498491279446, 0.0023351563329062114, 0.0020274110556257803, 8.898658620157046e-06, 0.00017649006263311474, 0.0010656143697638063, 0.048221089507746014, 1.4089542815248655e-05, 0.9999643985851357, 0.25378054491833657, 0.00013066317153730806, 0.04284118736779488, 0.11160268138930324, 0.11135768794267079, 0.0006206500648022132, 0.14078956733144943, 0.15018098278569345, 0.015336589759191532, 0.00158429095488986, 0.0032502463919905377, 0.16852282549024306, 0.999862067716047, 0.9998698284163601, 0.9998438724315474, 0.5144026469025085, 0.0028124117413182138, 0.056319888628690855, 0.24983889526219827, 0.0842111311843116, 0.0889402821378658, 0.0034572959622574217, 1.7600606519966264e-05, 0.08904146838450933, 0.004602558604971178, 0.04082460682306175, 0.16250639999884853, 0.0662046814248531, 0.015206924033250852, 0.27085573373576083, 0.061487718877502144, 0.04617519120513149, 0.05068974677750284, 0.08194842395696293, 0.07379934313821855, 0.03662686216804979, 0.9996850302154522, 0.9999049469289246, 0.22388708938180604, 0.7758407586648209, 0.1680712483171838, 0.8318841186375295, 0.9931952291439935, 0.00015632253547556363, 0.0007034514096400363, 0.005901175714202527, 0.07044077010174218, 0.8189751604357727, 0.11051913929756102, 0.15929055374469298, 0.0027514525537656815, 0.0254122921257909, 0.23225041921533351, 0.04711476058358313, 0.07630643557114768, 0.1577061498864852, 0.22139145618712908, 0.014120516336319944, 0.054503492722347155, 2.31863979249917e-05, 0.00026277917648323925, 0.00023186397924991698, 0.0005796599481247925, 0.008030222481355457, 0.9999704619806593, 0.999894957497536, 0.9998655925172465, 0.9999635698266136, 0.9998442607203779, 0.27650364875151645, 0.49487190804430575, 0.1354420301033732, 0.00012432718019402718, 0.000571905028892525, 0.09244969119227861, 0.9999227402345016, 0.9999208366185656, 0.9997401958948979, 0.02499312497878813, 0.20279871130481134, 0.6940832404011583, 0.0017341137573696041, 1.6836055896792274e-05, 0.07482785043329326, 8.418027948396137e-06, 2.525408384518841e-05, 0.00048824562100697593, 1.6836055896792274e-05, 0.0010101633538075363, 0.9995987106104196, 0.9999409613130205, 0.9997628253405394, 0.999807483899247, 0.9996013564869825, 0.9994401094242761, 0.9998971461038489, 0.9996802938976558, 0.15824951885892483, 0.052140358282583094, 0.0483778561657237, 0.07181758426566706, 0.00017822378448281346, 0.09649827797608333, 0.14061856595693983, 0.03096473233366215, 0.003788905640486479, 0.07080764948693112, 0.10983865828866726, 0.03809368371297469, 0.000963728612388547, 0.0014785973231166748, 0.08863662881611924, 0.004759235133781797, 0.022660824152944393, 0.00015842114176250086, 0.0018944528202432395, 0.007597613923693271, 0.004310375232121378, 0.00470642808652763, 0.0003564475689656269, 0.04101787395467418, 7.921057088125043e-05, 0.9994024577538115, 0.999907139013935, 0.47133625151602937, 0.5286073342482026, 0.999901664118931, 0.13715746972577667, 0.0646875220358974, 0.038301986098637227, 0.0004980752418548404, 0.03674550096784085, 0.43824395342702765, 0.01616254159818957, 0.011928902042423426, 0.0035114304550766247, 0.006948149623875023, 0.00018677821569556513, 0.03989582687257271, 9.961504837096807e-05, 0.03140364399894768, 2.4903762092742017e-05, 0.01283788935880851, 0.0679872705131857, 0.015851244572030295, 0.00011206692941733908, 0.04086707359418965, 0.011057270369177455, 0.019673972053266195, 0.0024903762092742016, 0.0032997484772883173, 0.9999767421144686, 0.2376931857635641, 0.18329638066030288, 0.5445859040011302, 0.009602464885715305, 0.024791350361779728, 0.9995077986906296, 0.9998114572717853, 0.2818009805701774, 0.7180878981471462, 0.8527817311739088, 0.07906285092504338, 0.06814267906535432, 0.999966631679282, 0.999944557235572, 0.9997453413565875, 0.9996360126623014, 0.4266833197609777, 0.5731679101718767, 0.04721298131756928, 0.026584373654732242, 0.19480769126217232, 0.1250169425026003, 0.12940255200572312, 0.0009745798895828521, 0.038116902348129325, 0.4378570870586958, 1.8585930541750526e-05, 0.2626563704160184, 0.001022226179796279, 0.0001486874443340042, 0.0037543579694336066, 0.3039914799408716, 7.43437221670021e-05, 0.0005204060551690147, 0.0371161032918758, 0.00016727337487575474, 0.32651762775747323, 0.005891739981734917, 0.0022117257344683124, 5.575779162525158e-05, 0.055850721277960334, 0.3417880232612113, 0.6580519623818859, 0.9999386168504624, 0.9997790842003081, 0.9998080487694757, 0.2447274713278272, 0.35104311535197535, 0.4041890850068561, 0.9996237339706108, 0.09086677300497929, 0.00036713847678779515, 0.0034266257833527546, 0.11561802531508981, 0.11971773830588686, 0.028330852458791526, 0.4240143458168377, 0.09371209620008471, 0.0009178461919694879, 0.08343221885002644, 0.009331436285023127, 0.0302277345888618, 0.9997657007138328, 0.9987749866889329, 0.9999283292568635, 0.9997413500136921, 0.00017793741212310976, 0.19838459390880184, 0.05521448392274837, 0.06954708594142064, 0.0014588740205486157, 0.07856760469443118, 0.38847253785341496, 0.09350157462997083, 0.03266318704022206, 0.0025056996536140345, 2.227288580990253e-05, 0.022751752854815434, 0.004109347431927017, 0.017138985630719996, 0.014076463831858399, 0.014666695305820817, 0.0024500174390892785, 0.00011136442904951265, 0.0002561381868138791, 0.003017976027241793, 2.227288580990253e-05, 0.0010690985188753215, 0.005451127139777435, 0.03755734207321233, 0.05894608669793227, 0.10411036890405435, 0.792769430895937, 0.0010625078323295, 9.239198541995653e-05, 0.00045279258053244035, 0.9994641560952734, 0.9991978888484695, 0.9999099339530361, 0.2599215411595089, 0.014840544764409153, 0.04770175102845799, 0.6723826817189089, 0.004982182885194501, 0.9999379521346449, 1.5223149635330019e-05, 0.7009270902343178, 0.2333023797362502, 0.06544432028228375, 0.0003044629927066004, 0.9998370306594895, 0.9992328515357181, 0.9998166577125029, 0.1560070583973549, 0.7851255525024585, 0.05882078818123834, 0.09029840859708436, 0.08267722748877639, 0.7765136751464897, 0.0469171809970911, 0.0014418450745447508, 0.0021284379671851084, 0.9998317061562736, 0.9994459818879834, 0.999789418225965, 0.9990694500249466, 0.8816526972738488, 0.11827714231116117, 0.07699193624253545, 0.8969271128886047, 0.02593412589222247, 0.0712371513090444, 0.2690041477254066, 0.0025202121085333043, 0.002507547726078363, 0.0006965410350217675, 0.000835849242026121, 1.2664382454941226e-05, 2.5328764909882452e-05, 0.09863021055908228, 0.011486594886631693, 0.015083279503835001, 0.11817135268705659, 0.31017605508642054, 0.023606408896010445, 0.00824451297816674, 0.0012157807156743577, 0.037942489835003916, 0.01341158101978276, 0.003115438083915542, 0.00012664382454941227, 0.004837794097787548, 0.0002406232666438833, 0.006889424055488027, 0.9997766590694638, 0.9999476920135586, 0.015064619570243713, 0.005677620441046626, 0.2570826535705912, 0.013399184240870035, 0.7087184342543801, 0.9994942947207688, 0.9998264918714762, 0.9998369936896646, 0.0026764543430935306, 0.018639135389342743, 0.2696175585621588, 0.0002881350369359064, 0.04498108076610539, 0.13405962818504605, 0.009085858164712248, 0.00010244801313276672, 0.020150243583051054, 0.21070354800999713, 0.005820327746105309, 0.03835397491657954, 0.052030784669803896, 0.0011653461493852213, 0.06572040042466984, 0.0002945380377567043, 0.005717879732972542, 0.03245040815980386, 0.009194709178665812, 0.06875542281372805, 0.0011013161411772422, 1.280600164159584e-05, 0.00013446301723675632, 0.008932186145013097, 0.999586925751261, 0.9996630436968573, 0.9998586943034682, 0.9997725612995446, 0.9996001907312343, 0.9999758802540529, 0.9998517605406985, 0.8788559604817984, 0.1211418515514011, 0.023256416408445717, 0.017231386634682787, 0.03455210649500621, 0.014526575080563512, 0.042845207608645304, 0.06343651611881203, 0.03234855359587051, 0.0062632517088046305, 0.03564395703061399, 0.0014690352660904678, 0.23860408272916023, 0.16243758195655747, 5.459252678038901e-05, 0.033837440689881114, 0.005796733752681306, 0.05471163774790986, 0.05392252758808424, 0.0596150392441848, 0.0029281446182208653, 0.0009975543529871082, 0.03656210407192053, 0.008903544822183444, 0.005960511333022473, 0.020397753187945348, 0.027683374034637262, 0.01601546217457412, 4.9629569800353644e-06, 0.9999509368756314, 0.9998264552652086, 0.9992819508230107, 0.9996895886568195, 0.8883914858399495, 0.11158562625064404, 0.03843825575884453, 3.870272437540984e-05, 0.012636439508571311, 0.09554412557476175, 0.7971342121440661, 0.0010449735581360656, 0.00274144297659153, 3.225227031284153e-05, 0.052390587896179786, 0.016359414519449045, 0.09646495542123668, 0.07399855557875058, 0.002271258520661372, 0.06333317028767288, 0.041192370442903976, 0.015438204769810166, 0.0764048189765142, 0.0003255999977171897, 0.1259595503363987, 0.0044313365542973625, 0.0429156679917974, 0.04274889726125932, 0.014310516972838435, 0.00022236097405076372, 0.002795395102352458, 0.0036371902184017778, 0.06793921903586728, 0.06437350198769609, 0.0248567803135318, 0.01674854622403788, 0.02866868272583061, 0.00012706341374329355, 0.08192413601098851, 0.043932175301743745, 0.027922185170088758, 0.016311765739295308, 0.004312214603913025, 6.353170687164677e-05, 0.9991880556239695, 0.9994639373959322, 0.9997577720417576, 0.2965485169155414, 0.006017809616318461, 0.5939730440916862, 0.0017520205212066407, 0.0002666118184444888, 0.013292503519589513, 0.04898039978851609, 0.03911576250607, 0.0021089910837479102, 0.08904376370842929, 0.12914870197215303, 0.11536351766463636, 0.041605675854315245, 0.056868859304081115, 0.08371728218424657, 0.025472746755456566, 0.01609313681425966, 0.014887999052117998, 0.03224311974937506, 0.0020919372474911884, 0.2381170310405188, 0.0007901610798947697, 0.008242687524082129, 0.020697672603574507, 0.01943000410849153, 0.0027399830252466113, 0.012568677321203854, 0.022818032911493563, 0.012722161847514348, 0.004280512900437133, 0.0010289147874888726, 0.034499910747347894, 0.00021601525925180753, 0.013006392451793043, 0.00018759219882393812, 0.9997141634547786, 0.9999608551755379, 0.9996907294397547, 0.049886335363171594, 0.9499722665739001, 0.2951516744265552, 0.08867390806291742, 0.00032269504071418014, 0.5749887800458833, 0.028027408848696186, 0.0005042110011159065, 0.0006924497748658448, 6.722813348212086e-06, 0.00026218972058027136, 0.011361554558478426, 0.9998205908466484, 0.9997494174077586, 0.00035694908463237745, 0.11350980891309603, 0.8859476280575609, 0.21761416909523482, 0.017964559522517888, 0.00017357062340596995, 0.0011716017079902972, 0.0009546384287328347, 0.0003471412468119399, 0.037664825279095475, 0.058059373529296944, 0.6659904820087067, 0.41793534943024235, 0.04447518752411835, 0.18015941612955422, 0.3573825664161034, 0.9996792239469959, 0.9998604649820865, 0.9995216758791013, 0.9995799659339957, 0.9997128126089613, 0.5750054848854201, 0.06009548264586339, 0.024827674273291012, 0.08211898866934743, 0.07230439979502301, 0.0857644073940965, 0.09987153074312545, 0.9995588149885262, 0.008389589083322392, 0.7405347046961888, 0.2510055920863935, 0.999813790206338, 0.02478229696921407, 0.04898434378280454, 0.17709796282040702, 0.00030884282476739585, 0.010996676336414853, 0.0008329397395241888, 0.04526887101211799, 0.008834776563043082, 0.2077857089541128, 0.040673664134518256, 0.014178693318866809, 0.02536254712483766, 0.005353275629301528, 0.04153468049447584, 0.007309280186161702, 0.1484878865987728, 0.012915245399363827, 0.0007767864986573896, 0.009218490375632877, 0.0006083267760569919, 0.021104259692438718, 0.03379489212833535, 0.11379454261656867, 0.9996963769023043, 0.9999118941273174, 0.9994681513540122, 0.999754386196407, 0.9999744337954495, 0.9997623332189829, 0.9998616399235991, 0.7652145489186232, 0.23475738261977439, 0.999840074727623, 0.07587797256046078, 0.07993859858415804, 0.16087244864471248, 0.029671764016297706, 0.0023355234646101953, 0.03590867326838175, 0.045635597697695804, 0.043777794941755876, 0.10503220580903236, 0.07157848618242836, 0.02090028100432419, 0.14593040647908134, 0.0066350098426426, 0.1395077169514033, 0.0005042607480408376, 0.03590867326838175, 0.999511352003646, 0.9998329371502407, 0.9997664021591867, 0.10916856377716405, 0.0007266430939800725, 0.00014660343124159357, 0.039512811750723416, 0.6969272158736243, 0.00020396999129265194, 0.06864227613220528, 0.0002613365513437103, 0.0002613365513437103, 0.040468921084907725, 0.01996356289776831, 6.374062227895373e-05, 0.019472760106220365, 0.00019759592906475656, 1.2748124455790746e-05, 0.0019058446061407165, 0.00205244803738231, 6.374062227895373e-06, 0.9999110250234553, 0.9996805238803042, 0.9997715204213048, 0.9996549236022275, 0.17517222157917858, 0.00041622727462805497, 0.13533332529335046, 0.06029349378183539, 0.19651873466367453, 0.10241172990491239, 0.0483220045496761, 1.982034641085976e-05, 0.00836418618538282, 0.23005476079084924, 1.982034641085976e-05, 1.982034641085976e-05, 0.019463580175464287, 0.023566391882512257, 0.04375110274109349, 0.08244486311723515, 6.788379013358184e-05, 0.7861621735370112, 0.037098491308002475, 0.00027153516053432736, 0.05016612090871698, 0.9996938577328551, 0.9994015975576013, 0.9999520324910366, 0.9994069467962763, 0.9996998079983772, 0.9984126917943015, 0.9998511363682097, 0.9998254433995795, 0.9998023014394015, 0.9998735589324621, 0.9998359878365222, 0.35209800546337455, 0.42778180621552925, 0.22011044132670973, 0.04589080694378624, 0.022062016763695853, 0.03549402491654148, 0.1261034525951599, 0.006857572459146735, 3.397641185374105e-05, 5.662735308956841e-06, 0.0214391158797106, 5.096461778061157e-05, 0.014870342921320664, 0.0061327423396002586, 0.012610911533046885, 0.007695657284872347, 0.00010759197087017998, 0.015963250835949336, 0.0011268843264824113, 0.000928688590668922, 0.040103491458032346, 0.5166623068539132, 0.034774857532303964, 0.09107943470926183, 0.9997763999588561, 0.999836744592185, 0.9998406606433794, 0.28980606176962925, 0.1141680690370693, 0.5953338493581929, 0.0006072769629631346, 0.9999133670767825, 0.9998790636143328, 0.9999881098692085, 0.9993741883421017, 0.9995722427703779, 0.9994694534674907, 0.9997967060489614, 0.9992565833554569, 0.999850619120371, 0.9998237437974388, 0.9997792258432584, 0.9996504064473914, 0.9994105944171899, 0.9998961783360181, 0.9997482447345771, 0.2125502418986519, 0.11942628329015705, 0.055910504731967334, 0.00016258305091686786, 9.03239171760377e-05, 0.0730720489954145, 0.028307515642970214, 0.05058139361858111, 0.05616341170006024, 0.06557516386980337, 0.0006142026367970564, 0.043608387212591, 0.19806228558361547, 0.095833676123776, 0.9985231554239331, 0.9995905914383311, 0.999958688478462, 0.20735478588626538, 0.43118784103237795, 0.014811056134733241, 0.2705150226493032, 0.07612960398049402, 0.9993607206190458, 0.9997029134723927, 0.9997912593689965, 0.9998362753813429, 0.9998526839081436, 0.9999050906756708, 0.9997850438451085, 0.9997683147854798, 0.9997825281949086, 0.0011300041150418534, 0.9988209100501764, 0.9994912649144727, 0.9995888502963016, 0.9995035431692669, 0.9999002795580783, 0.10216274549347835, 0.00011530783915742478, 0.8976715278405519, 0.9996648124728078, 0.9996288822250389, 0.10089055342199889, 0.0691513974340472, 0.016195905918559336, 0.33550526990870533, 0.002962053469296345, 0.4752840710818389, 0.9993909402814798, 0.9999011353180766, 0.9998035553543431, 0.25004810158627444, 0.03267106520393233, 0.0002497151480555337, 0.2575707704214474, 0.04907943139074802, 0.20322651132586184, 0.12566914825894734, 0.07337463433698432, 0.0004994302961110674, 1.0404797835647238e-05, 0.00043700150909718396, 0.0070752625282401215, 4.161919134258895e-05, 4.161919134258895e-05, 0.33136181968447537, 0.668573112485316, 0.1390386905187535, 0.02069734810831259, 0.4549610780256176, 0.0134016944672652, 0.07244909593412807, 0.18571603358111086, 2.3935871525746025e-05, 0.04363748737858758, 0.0008640849620794315, 0.0026281586935269136, 0.010211042792883256, 0.011257040378558356, 0.005610568285634869, 0.000536163522176711, 0.02942436686659959, 0.00668768250429344, 0.00025611382532548247, 0.00014600881630705075, 0.0019316248321277043, 9.57434861029841e-05, 2.393587152574603e-06, 3.590380728861904e-05, 3.8297394441193645e-05, 1.1967935762873012e-05, 4.3084568746342844e-05, 1.1967935762873012e-05, 9.574348610298411e-06, 0.0002656881739357809, 0.9998501336625746, 0.04812712923755169, 0.23411675410039776, 0.5862978871163279, 0.09742122063889017, 0.034002863048270215, 0.999750778512206, 0.9997469214643236, 0.9999772198502205, 0.9999284320631155, 0.9998758113788825, 0.00013135633727586905, 0.9998516002595962, 0.2130481986060075, 0.7869313693835432, 0.1271068500974167, 1.701336502441664e-05, 0.7975014855195299, 5.104009507324991e-05, 3.402673004883328e-05, 0.05998912507609307, 0.015295015156950557, 0.9998971611992227, 0.9998131485069737, 0.0014269300100717955, 0.9985523472807069, 0.03382615913587702, 0.048566352153766104, 0.0997263876866399, 0.09047377904769784, 0.021472942282821393, 0.22638377243300903, 0.041799151686454754, 0.005458054776907844, 0.02556279216524738, 0.011644506404115382, 0.08051245995981553, 0.17875252434381686, 0.02596636339311613, 0.0031547458178520543, 0.0010335360713711879, 0.002347603362114555, 4.429440305876519e-05, 0.010335360713711878, 0.0010630656734103646, 0.0005905920407835359, 0.007215066098238863, 0.00016241281121547236, 0.025380692952672455, 0.05378817011436053, 0.0047296579266081495, 0.09073721825323491, 0.23407785793616268, 0.00011787881552872349, 0.22254046886628887, 2.9469703882180872e-05, 0.0297349312171205, 0.00042731070629162265, 0.3408318602493629, 0.08123323875123158, 0.00025049248299853743, 0.99991073111304, 0.9996989719186941, 0.3451007218539687, 0.6535931754040097, 0.0012541721548567763, 0.9998878955766561, 0.9999103245866071, 0.9994833138713777, 0.9999480334262163, 0.9462216581900291, 0.005872775932162544, 0.04780439608780311, 0.9999169277907249, 0.3541226806696966, 0.02915848544313425, 0.11686310963469367, 0.019341767566023033, 0.061208652637845404, 0.12636315919318838, 4.166688402848564e-06, 0.0020458440057986448, 0.13430070060061491, 0.018200094943642525, 0.06469617083102965, 0.0007125037168871044, 0.002329178817192347, 0.003429184555544368, 0.011033390890742997, 0.036162688648322686, 0.01757925837161809, 0.0009666717094608668, 1.6666753611394256e-05, 8.333376805697128e-06, 0.00040833546347915925, 0.0007125037168871044, 0.00011250058687691123, 5.416694923703133e-05, 1.2500065208545692e-05, 1.2500065208545692e-05, 0.0001375007172940026, 0.9997822489904881, 0.9999575545949245, 0.9997130452397187, 0.9997278678764503, 0.999778836894039, 0.9998019983351774, 0.20112347888410015, 0.028018553755121443, 0.45247477460637536, 0.0001724218692622858, 0.06786126877542195, 0.19482344904567048, 0.00021221153139973635, 0.023999797879238935, 0.009774993665100356, 0.0041712829140760676, 0.002029272769009979, 0.0006034765424180003, 0.008786883722020335, 0.001080952488067407, 1.3263220712483522e-05, 5.305288284993409e-05, 9.947415534362642e-05, 0.0005437920492118245, 0.004038650706951232, 1.3263220712483522e-05, 1.3263220712483522e-05, 6.631610356241761e-06, 6.631610356241761e-05, 0.03147436604892705, 0.060654780445842264, 0.7792351354385486, 0.1286299654282517, 0.9997384831809177, 0.9996524758885025, 0.06440637258249715, 0.6045487945024149, 0.13148167110798123, 0.04880056949919856, 0.14571594280391154, 0.003336157428733665, 0.0016866129223042418, 0.535406042290627, 0.028532610404202696, 0.26547087815450854, 0.039093900769903975, 0.007946657399489826, 0.0032882720273751005, 0.06311655474767207, 0.03321383099872975, 0.001678388847306041, 0.002934326079984031, 0.0015071246792135878, 0.00013701133447396253, 0.015973238077422798, 0.0016669712360998774, 1.1417611206163544e-05, 0.8141422443592973, 0.051275463344621595, 0.1344538275162023, 0.026934734049157597, 0.06996764678243632, 0.2568591654932634, 0.14463901466013646, 0.0003043103039022847, 0.04867656000914395, 1.3088615221603643e-05, 0.07931291805066132, 0.08766509063894715, 0.010713849597333932, 0.0005619924160776064, 0.034185826881926014, 0.04652839103589825, 0.048248725899087776, 0.0015583632498221837, 0.00037711572607245495, 0.04056898091781184, 0.02273983287063363, 0.012835023301685072, 0.014113617401145478, 0.013121336759657652, 0.0014233869053493962, 0.007715738673135348, 0.009850819031159442, 0.008280185204567005, 0.0003403039957616947, 2.2087038186456147e-05, 1.1452538318903188e-05, 0.0003697533800103029, 0.00675208937744478, 2.781330734590774e-05, 0.005280438203465719, 0.9999078634912091, 0.09203507811933681, 0.0003733674568735773, 0.15597425510893692, 0.038456848057978464, 0.012227784212609658, 0.5277082293586923, 0.0010267605064023376, 0.0972155515834577, 0.07495351696737065, 0.9997450159107251, 0.9993622167461654, 0.0664277736015154, 0.8352650049898467, 0.0982961515183048, 0.9996818307647951, 0.9998113467322943, 0.9997711673687688, 0.9986725496794269, 0.0010899139145238521, 0.028364844058636266, 0.0450086781756873, 0.10925446391800137, 0.001216054781439468, 0.20593814467365257, 0.009699135726661782, 1.4651262426981542e-05, 0.0021244330519123236, 0.09444203760432303, 0.04902312408068024, 0.007970286760277959, 0.00035163029824755704, 0.018973384842941098, 0.00027837398611264933, 0.0008351219583379479, 2.9302524853963085e-05, 0.010783329146258416, 7.325631213490771e-05, 0.13779512312576142, 4.395378728094463e-05, 0.004043748429846906, 0.00016116388669679696, 0.04664961956750923, 0.22691875246909013, 1.4651262426981542e-05, 1.4651262426981542e-05, 0.00598877434488605, 0.12311930883894102, 0.09991684019214732, 0.2860032191808023, 4.300735615717092e-06, 0.007780030728832218, 0.04182895459846443, 0.16608580800776263, 0.02797413481243182, 0.015063326494049113, 0.01849746388319921, 0.03962482759540942, 0.04927997905269429, 0.00040641951568526515, 0.011061492003624359, 0.05011862249775912, 0.011839925150069153, 0.009461618354577601, 0.01209366855139646, 0.0019525339695355595, 2.7954781502161094e-05, 6.451103423575637e-05, 0.015624572491900192, 0.003298664217255009, 3.6556252733595276e-05, 0.0010622816970821216, 0.00014407464312652255, 0.0016213773271253433, 1.505257465500982e-05, 0.3354233489484803, 0.06439238424251233, 0.1036437240294948, 0.037181143172659865, 0.00018539074158112952, 0.0001338933133641491, 0.35211881517642535, 0.0023585822123377035, 0.026933154957480762, 0.00014419279900754518, 0.00011329434207735694, 9.269537079056476e-05, 0.0005767711960301807, 0.012925854482462086, 0.063681719733118, 8.239588514716868e-05, 0.9993499168662809, 0.059843054741648805, 0.9400864445171774, 0.9999120856540189, 0.9997760978907179, 0.99975307191603, 0.9999813175042446, 0.00048505416590454917, 0.9994056034297331, 0.9998428242080352, 0.10274831592330547, 0.031236521041004897, 0.1531305588049263, 0.026811053760862527, 0.055112914801773015, 0.012665992560407471, 0.16238060712522387, 0.0783202060825196, 0.012759901680410492, 5.8693200001888195e-05, 3.5215920001132914e-05, 0.05831756352187611, 0.0004812842400154832, 0.05977315488192293, 0.0014673300000472048, 0.22870392312735752, 0.007242740880233003, 0.00016434096000528695, 0.0067614566402175195, 0.001854705120059667, 0.0013221806802565653, 0.0007896356840421154, 0.000495817755096212, 0.0022587253287716324, 0.6063851144826673, 0.022440344323243374, 0.0633361273084013, 0.02475416051369236, 0.00022036344670942756, 0.09343410140479728, 0.00042236327285973614, 0.11791280761010287, 0.00016527258503207067, 0.06599885228947355, 1.8363620559118964e-05, 0.999997702980582, 0.9998136088850952, 0.0019634009738865622, 0.0004062208911489439, 0.7517343268984067, 0.0148044946996504, 0.04962665220202931, 0.0791002346376138, 0.02053672283030772, 0.0028886818926147123, 0.01369867116263383, 0.011532159743172796, 0.025546780487811362, 0.020130501939158774, 0.00805671434112072, 0.9998919901879769, 0.05572236078955341, 0.002979275093282374, 0.1046109284924895, 9.054236897095493e-05, 0.012283581390392885, 0.0007847005310816094, 0.00028025018967200337, 0.03538050856074553, 8.623082759138564e-06, 0.6050256671708186, 0.0001897078207010484, 1.2934624138707848e-05, 0.0002673155655332955, 0.17871770172452633, 0.0006251735000375459, 0.00020264244483975626, 2.5869248277415695e-05, 0.002793878813960895, 0.18000287012404861, 0.05048256681042657, 0.00034067989872067013, 0.28663567842361837, 0.48249564928812, 0.09659936966500751, 0.022100610105945558, 0.21482265180631305, 0.10361590477567696, 0.0014686826970569818, 0.08491119778379207, 0.027071885386555743, 0.2256209881121864, 0.07584486286563814, 0.0039180005179603565, 0.0023675982272495085, 0.03056312802654591, 0.01097085544803152, 0.011027605165846706, 4.766976296475521e-05, 0.040818937030106105, 3.404983068911086e-05, 0.010112799714665926, 0.006619287085963152, 0.0032778637010050723, 0.004038309919728548, 0.00045399774252147815, 0.0004244878892575821, 0.016875096089523343, 0.001441442832505693, 7.49096275160439e-05, 2.950985326389608e-05, 0.00033595832946589383, 0.00028147860036331645, 4.539977425214782e-06, 0.004222179005449747, 0.999055500728349, 0.999678596200049, 0.0033524041870948047, 0.018935596617497476, 0.08498539315690071, 0.20031588524915164, 0.000148681072711702, 0.010545736085908577, 0.01853203370585143, 0.1370804090146485, 0.0001132808173041539, 0.022564122796771155, 0.020687909260171108, 0.059734390974696655, 0.051323290289863224, 0.030291998552238904, 0.0018124930768664625, 0.018146170921909153, 0.05539785968727201, 0.02573952570682822, 0.0026443990789438428, 0.0036462263069774537, 0.013710518919343377, 0.014163642188559993, 0.15839844282107396, 0.0030904422970789488, 0.00037170268177925497, 0.0002867420688011396, 0.009742150288157236, 0.0001876213536600049, 0.034047965650979756, 0.9997740362919785, 0.9995415559451312, 0.9999897104385155, 0.9999191327149156, 0.9996437925277271, 0.07491570303258817, 0.12132309782432282, 0.16388870051964585, 0.6252444707416598, 0.007573039918862658, 0.006446396907538159, 1.9685966595723765e-05, 4.542915368243946e-06, 0.00024228881963967713, 0.000339204347495548, 1.514305122747982e-06, 0.22927247724271174, 0.1435353775209873, 0.030525275647639048, 0.596625731576086, 0.9997044086103292, 0.9999961772536098, 0.1746463910541794, 0.7634825754379865, 0.061721622293011126, 0.9998870297295162, 0.9993821402875462, 0.5256538610048522, 0.4743396717114475, 0.9999237079345761, 0.9998614018567392, 0.9999209607617922, 0.9998402218582467, 0.9982259518883014, 0.9998757819698513, 0.9998786728194361, 0.9997877830937776, 0.9998305052740617, 0.9999408504922708, 0.9997245151119916, 0.9999108281353271, 0.9997661885813811, 0.03307128714073905, 0.023704625613252005, 0.3623897688061736, 0.3744542713561407, 7.578205119326088e-05, 0.00022734615357978267, 0.025144484585923964, 0.03948244867168892, 0.1414396203471021, 0.9999839025882712, 0.6133082597441243, 0.36102280090832306, 0.02565904768360505, 0.9997589259186849, 0.9996351286365198, 0.08195288482668776, 0.3802115955041188, 0.06874244920298357, 0.00040153299768097876, 0.4687094681930065, 0.9995196422803443, 0.9999192328248422, 0.9999708758194211, 0.9996474076839557, 0.21346763400070035, 0.7864948140213304, 0.999516395599257, 0.9997563564670396, 0.9996901774727366, 0.3575113676813034, 0.23489054224050004, 0.4075251377981896, 0.9997613724631658, 0.9996822045213198, 0.9996445743391447, 0.9998940084037411, 0.20715221728299604, 0.25165972285308275, 0.5410958779029983, 0.09655207460402464, 0.02150017384679042, 0.28114491038227546, 0.2725938554111706, 0.0419207024880889, 0.0009339262207016172, 0.1189596803106457, 0.031243475057088854, 0.007325690780822614, 0.0037290812925887267, 0.029090808236322714, 0.007338937961258098, 0.08205303561738747, 0.004027142852387115, 0.0006226174804677448, 0.00013247180435483933, 3.9741541306451795e-05, 1.3247180435483932e-05, 0.00021857847718548487, 2.6494360870967864e-05, 0.0005232636272016153, 0.12294159809159828, 0.30383019146203905, 0.27616180632889803, 0.2969914019291306, 0.18554152720148495, 0.15085928161555145, 0.001557023488621353, 0.04613134708147916, 0.2245983751180944, 0.049238604712114505, 4.526231071573701e-06, 0.021843591151414682, 0.02620461478887594, 0.00014936562536193212, 0.03190540282352302, 0.03496287191237105, 0.028307049121621925, 0.12718256688014942, 1.3578693214721102e-05, 0.0005997256169835153, 0.0037341406340483034, 0.008068006885080123, 0.0003530460235827487, 0.0021703277988195896, 0.002482637742758175, 0.00648156289449354, 0.043650972454256774, 0.003953662841019628, 0.060283375760672324, 0.034851166119604905, 0.444354935897503, 0.12143982818511312, 0.031173972641615352, 0.10119472107584661, 0.015366149282325063, 0.07555708163153954, 0.015622936536374612, 0.008165834678775685, 0.01921795809306831, 0.005587690648118204, 0.03441976353280166, 0.016064610613339837, 0.008248006600071542, 0.00022597278356360388, 0.0007087328211767576, 0.0005135745080990997, 0.006008821744759466, 0.00012325788194378392, 1.0271490161981994e-05, 0.0005443889785850457, 6.162894097189196e-05, 2.0542980323963988e-05, 0.0001951583130776579, 4.1085960647927976e-05, 0.02527266873030835, 0.0577464069663695, 0.4119313716449454, 0.00011487576695594705, 0.07063875018359693, 0.12208011862647002, 0.03576574950054157, 0.17946220530335064, 0.00021662287483121444, 0.09112602267899754, 0.005642041239922085, 0.999609911411612, 3.4515208484757525e-05, 0.9974895252094924, 0.002450579802417784, 0.9998143153314466, 0.02440369834963866, 0.41666143776481585, 0.5589374603385432, 0.9999562398003898, 0.001414074546978641, 0.14349593402878638, 0.10181336738246215, 0.015380780072521525, 0.04424965582391624, 0.24526579142518765, 0.39561454825856285, 0.052734103105788084, 0.16437407427700523, 0.835578502297684, 0.9999360972785267, 0.0027566530581606256, 0.8849632838683822, 0.11224625339637138, 0.9997925400243726, 0.6706648868896586, 0.11514789448928617, 0.008395061986688037, 0.1233461972106612, 0.03640046408290516, 0.04588863309910987, 0.000153034984132334, 0.15122409525909178, 0.03694367153602276, 0.6443396243948543, 0.005649032318769379, 0.00039993149159429236, 0.04629207015203934, 0.0854353648918307, 0.01259784198522021, 0.01704707982920671, 0.09215301237054407, 0.06085013852322156, 0.0037846058873650303, 0.04750190931647936, 0.17727535349080037, 0.01245889623059898, 0.028931319244273928, 0.06096048168878007, 7.74049071828357e-05, 0.01977613032875513, 0.020215856078070388, 0.00010704933972094298, 0.000383730710076611, 0.03263687331153734, 4.117282296959346e-05, 0.0027964581360947877, 0.00041172822969593457, 0.0003952591005080972, 0.018768219622459482, 0.3638524711468913, 0.009061314879148128, 0.0009585033187321356, 0.0005237183081732287, 0.02218556392893574, 0.01973660441870432, 4.940738756351215e-06, 1.6469129187837383e-06, 0.0041485736424162365, 0.999878030360905, 0.9999151609705437, 0.1481511513776909, 0.16153231670337115, 0.5984610837037005, 0.0592391642667384, 3.549380722992115e-05, 0.0005324071084488172, 0.03197992031415896, 3.549380722992115e-05, 0.9996447294942903, 0.9999895589870659, 0.9997686619275779, 0.99986668914457, 0.9996893615933882, 0.9997246805983514, 0.9680009547232348, 0.03182619748748747, 0.9997897371705561, 0.9997179393441267, 0.9998015621621986, 0.11656917789107511, 0.5866970407959584, 0.17744036102058622, 0.11921325194580364, 0.9996345425420313, 0.019665654697793442, 0.979892104769363, 0.2336777786087493, 0.22282939053406384, 0.03263265122465874, 0.5107491095162405, 0.9996683286682352, 0.9999082191009541, 0.9999494523914662, 0.9999191393930988, 0.9998761766909358, 0.9998485399229622, 0.32390036729443483, 9.89008755097511e-05, 0.050241644758953555, 0.026703236387632796, 0.00543954815303631, 0.011521951996886003, 0.06344491163950533, 0.051032851763031566, 0.005538449028546061, 0.004945043775487555, 0.05043944650997306, 0.010977997181582372, 0.06478007345888696, 0.03407135161310925, 0.0005439548153036311, 0.2847356205925734, 0.004747242024468053, 0.003956035020390044, 0.002868125389782782, 0.9998607503545159, 0.9997334186075151, 0.331015148325582, 0.23927408736496916, 0.022613140728353305, 0.3632275995055725, 0.043808933604787034, 0.36389931856965957, 0.12345089806895876, 0.5102063996237162, 0.0024415080119487664, 0.9163852236046803, 0.0834676063971514, 0.9992692243842014, 0.9999370036535811, 0.999910197017451, 0.06359873759438153, 0.05465657238537989, 0.18922650896228388, 0.023648488711000053, 0.09512147825920751, 0.03206313050479442, 0.004027190950241032, 0.017434005551362933, 0.006047219637742125, 0.03847061003584883, 9.00649733280742e-05, 0.0026762163503199193, 0.025179593257577314, 0.055480023570093705, 0.0005789891142519056, 0.3551390562573577, 0.01001007846417739, 0.005493963373012526, 0.006729140150083258, 0.0028048805979314535, 0.00014153067237268803, 0.0004889241409238314, 0.0001543970971338415, 0.00047605771616267793, 0.0003216606190288364, 0.001209443927548425, 0.0029335448455429882, 0.005686959744429828, 0.00010293139808922766, 0.9996792595473826, 0.9998225075318607, 0.9998757567638906, 0.9997516873932025, 0.9995752873074182, 0.9996693643795023, 0.055245401959446584, 0.006719482682904528, 0.12240712788857608, 0.6991903089211445, 0.005229942186694164, 0.02032395254829251, 0.0025156683935997244, 0.009466857375914753, 0.07245786991565523, 0.0064215745836624545, 0.43145348098592096, 0.5685005311005641, 0.9998534772280123, 0.9996306734814681, 0.9999876171399521, 0.2364290417541342, 0.7634961852019303, 0.1641450195443349, 0.13736336098626292, 0.4547611511861542, 0.1699327467764547, 0.002449779992010231, 0.034052917896907155, 0.03728350426087284, 0.9996536722144558, 0.0002775996093868647, 0.0013025827825075959, 0.12353182617715479, 0.0983770308034835, 0.0002348919771735009, 0.17770645763980678, 0.0012171675180808683, 0.4852868248404528, 0.001921843449601371, 0.11014298347826523, 0.9993752290033936, 0.9999704361754731, 0.9995767457590463, 0.9995413146182344, 0.999754474522685, 0.18441174439055927, 0.8155611165911935, 0.9997883265318871, 0.9996319664671007, 0.9999616158685412, 0.9995126877597901, 0.9996762346815492, 0.0073059455133283316, 0.5496742016855735, 0.2922535322439146, 0.0011783783086013438, 0.07904561694097814, 0.0004556396126591863, 0.009882666081469937, 0.003189477288614304, 0.05670356420989667, 0.0002828107940643225, 0.9999453808692373, 0.13661047703467957, 0.22712694809918546, 0.6361985878960236, 0.9994069117433043, 0.9998027962255959, 0.9999154465353011, 0.9998417640853449, 0.9991882075150004, 0.19319307221544899, 0.0006037283506732782, 0.16344938880561216, 0.05598574238576866, 0.017467873612813514, 0.04201949320686016, 0.025920070522239408, 0.013644260725216085, 0.0011672081446350044, 0.438387279702223, 0.000321988453692415, 0.03533823279274254, 0.001247705258058108, 0.009941393507753313, 0.00128795381476966, 0.9998557323982472, 0.4938945477176275, 0.01902591601162841, 0.0956000818451375, 0.04571218924277645, 0.03342033005752038, 0.058945052002023414, 0.06464988616934322, 0.013232862759246964, 0.17549716654930195, 1.4703180843607736e-05, 0.9999785399154475, 0.9999663802192558, 0.116502251522661, 0.1939644525109684, 0.015616020213741446, 0.5274619777231373, 0.1463299735855988, 0.9999635491016216, 0.9999517256203011, 0.9998604945324578, 0.9999662722204358, 0.9997652837351994, 0.9994251467511968, 0.9997334991324933, 0.9997379817708301, 0.3222774254568329, 0.13348028352254357, 0.5441707924380367, 0.9997321923914636, 0.031242980510114232, 0.000679671856711257, 0.18700842263931183, 0.0713545825053802, 0.0008112212483327906, 0.2478938660614783, 0.013790761221657441, 0.04088993589569336, 0.04553801439965422, 0.04800456549255797, 0.03677901740752044, 0.019721446293928246, 0.009142682717696585, 0.016180575169448635, 0.007476390423823827, 0.03800681172932142, 0.10491063981817306, 0.009975828864632965, 0.0011400947273866246, 0.0026529127310342612, 0.0001315493916215336, 0.012036769333370325, 0.00309141070310604, 0.010567801126929868, 0.006237633652721052, 0.002126715164548127, 0.0011400947273866246, 0.0005810098129951068, 0.03089218213245681, 0.06734395328456848, 0.00013160459882523154, 0.12259908413419068, 0.046230815501606334, 0.009926746882817463, 0.04480196557150382, 0.3555392240548505, 5.640197092509923e-05, 0.05128819222789023, 0.04248948476357475, 0.002237278180028936, 0.01515332952187666, 0.00011280394185019846, 0.07101008139469993, 0.0052453832960342285, 5.640197092509923e-05, 0.0001692059127752977, 0.0021432748951537707, 0.042564687391474884, 0.0003384118255505954, 1.8800656975033077e-05, 0.0073322562202629, 1.8800656975033077e-05, 0.00020680722672536384, 0.11301074907692382, 0.20955240863676514, 0.047190679117508044, 0.09900680122827071, 0.05083027031997516, 0.0732630488046873, 0.20313507150805393, 0.04244122960968894, 0.06940024587600414, 0.040103706810148736, 3.72019543693402e-05, 0.010924973933129573, 0.006398736151526515, 0.00620652605395159, 0.05066286152531313, 0.00012400651456446733, 0.0177515325599035, 0.02314581594345783, 0.00861845276223048, 0.0023623241024531027, 0.00432782735829991, 0.012692066765673232, 0.0008556449504948246, 0.013560112367624503, 0.006479340385993418, 3.1001628641116834e-05, 0.00045262377816030576, 1.2400651456446733e-05, 0.0003534185665087319, 1.86009771846701e-05, 4.9602605825786934e-05, 0.9994917627325484, 0.9997421077928116, 0.9997599429936344, 0.9994437317884977, 0.9997514307791604, 0.9993404589028618, 0.07697577759852367, 0.002622211503152265, 0.0066471229720626275, 9.421119173002149e-05, 0.09741960620393834, 0.1109284443070042, 0.00424473758294708, 0.08272266029405498, 0.01280748812018681, 0.3527319357922966, 2.0935820384449222e-05, 0.019417973406576652, 0.029535208607361738, 0.00035590894653563676, 1.5701865288336917e-05, 0.004548306978521593, 0.004338948774677101, 2.0935820384449222e-05, 0.001988902936522676, 0.015241277239879033, 4.7105595865010745e-05, 0.00038731267711231056, 3.1403730576673835e-05, 1.0467910192224611e-05, 0.006301681935719216, 0.09160468209215757, 0.0789437447146619, 0.9998140836832027, 0.9999252506800972, 0.9994137996029153, 0.9995794279566369, 0.04750247064986334, 0.09568404681544873, 0.00010300057950540012, 0.15320725181041372, 5.237317601969497e-06, 0.026733014812986306, 0.23505255974892503, 0.21105691626923478, 3.491545067979665e-06, 0.004113040090080045, 6.808512882560347e-05, 0.06221758733886364, 0.026113265563419915, 0.021457290215269032, 1.0474635203938995e-05, 0.03959062952582142, 0.01740709793641262, 0.005932135070497451, 0.0026815066122083827, 0.0011103113316175335, 0.002012875731690277, 5.237317601969497e-06, 4.189854081575598e-05, 0.005891982302215684, 0.0012255323188608625, 0.00012569562244726793, 0.00026012010756448507, 0.013821281151597503, 0.02645369120754793, 8.379708163151196e-05, 2.2695042941867824e-05, 0.9996572593311269, 0.9998697410793019, 0.9996454683136571, 0.11228656162140312, 0.027862361603215383, 0.027522990572725548, 0.059687822684706494, 0.006591339569958112, 0.0056071635815375925, 0.03843188380835988, 0.0256413667481208, 0.040147592906947374, 0.31661808829010457, 0.0009992591453311783, 0.0021493498597689492, 0.06405439661034236, 0.0026998850870080136, 0.00342387661871966, 0.052293305009255775, 0.00874068942972706, 0.046648433535441534, 0.1578791741730985, 0.0007202207424839812, 0.999434569283874, 0.9997450607250906, 0.9999565787806722, 0.9999887660654259, 0.29855983445167006, 0.7013496333806214, 0.9996822354725592, 0.9995462520487317, 0.9998268026673777, 0.9994156538953157, 0.9989874666780462, 0.999686450962927, 0.9998357067799216, 0.9999167676053928, 0.9997538230146755, 0.998668907513326, 0.9995332681168833, 0.9998999024149285, 0.9999301259618102, 0.9996097991560691, 0.9997947170678145, 0.9997569872987924, 0.40879941314392265, 0.5911497815867429, 0.9996447636177914, 0.9995702927062121, 0.23048039178473367, 0.7693940524583818, 0.9995338034092475, 0.9996972547772375, 0.234365508514024, 0.009240194998717593, 0.0005879561452633432, 0.16965938747477924, 0.08971591875513077, 0.020442306818998134, 0.00011140221699726502, 0.0005136880005984999, 0.002630330123546535, 0.017533471152958433, 0.0009778639047537709, 0.008256142081908419, 0.023901964557968752, 0.0010026199529753852, 0.005477275669032197, 0.0007860045310362588, 0.015243536692459097, 0.0002413714701607409, 0.28694735493673307, 0.015775791729223807, 6.189012055403613e-06, 0.008757452058396112, 0.025183090053437298, 0.0051492580300958055, 0.00038990775949042757, 0.05708744719904292, 2.475604822161445e-05, 0.39811152537071653, 0.601815290636545, 0.120468260762869, 0.09227909480812596, 0.6019342400460455, 0.09634973249112135, 0.004274169567145155, 0.07630184190236906, 0.00010176594207488464, 0.00012438059586930347, 0.0024989192442832786, 0.002736373109124676, 0.0009950447669544278, 0.0012890352662818722, 0.0001922245572525599, 2.261465379441881e-05, 0.000418371095196748, 0.9998179766217328, 0.15810650451358935, 0.05684532927536417, 0.00043459731861899214, 0.18400850470328126, 0.16140944413509367, 0.11112653437087629, 0.038244564038471304, 0.2897894920551439, 0.999761701211961, 0.16068309773396985, 0.0569418105481542, 0.4883371206883009, 0.009077755945740921, 0.1507977309184172, 0.00024123441565804873, 0.008275389302356542, 0.07181968092254298, 0.0004719803784613997, 0.004027565896203944, 0.01415941135384199, 0.0013372777389739658, 0.007168857526185926, 6.293071712818662e-05, 2.097690570939554e-05, 0.008028910660271144, 6.293071712818662e-05, 0.017305947210251322, 0.0011747067197261504, 0.17966961987249122, 0.008896588673615882, 0.07896339580788703, 0.5180362132881061, 0.007287105928000579, 0.0838313405538278, 0.002290797527501537, 0.0022710492729541096, 0.0021525597456695474, 0.05636151847835678, 1.9748254547427043e-05, 0.013132589274038983, 0.028230129875546957, 0.0003159720727588327, 0.0037422942367374245, 0.0031794689821357538, 8.886714546342169e-05, 0.005835609218764691, 0.0002369790545691245, 7.899301818970817e-05, 0.005381399364173869, 0.9998109517658146, 0.06223651624489879, 4.27228530941471e-05, 0.05017799095907577, 0.2555040229295467, 0.21503480033611588, 0.01844559182339801, 0.0896539072180677, 0.003738249645737871, 8.54457061882942e-05, 0.0026915397449312674, 0.08508256193699396, 0.008694100604658936, 0.01215465170528485, 0.1395862417718521, 0.05535813689674111, 0.0015059805715686853, 0.9997658467089274, 0.9997615786105641, 0.9998011462863665, 0.9999275300849045, 0.9999685349980854, 0.4282999316606915, 0.5716452912348284, 0.2608711956910082, 0.0956035391615903, 0.032908910567531646, 0.04910951029993502, 0.23796265532866384, 0.11611199067468972, 0.005738673979284387, 0.1906993672204557, 0.010969636855843881, 0.9999580843349545, 0.09309795105417931, 0.9068912294998027, 0.9998632827437034, 8.431989917464565e-05, 0.0012254492013381833, 0.007420151127368817, 0.0010343240965423198, 0.039113190563812295, 0.17698184704096956, 0.2538366244753532, 0.0009331402175327451, 0.09090247263687964, 0.19766832897181597, 0.033120856395800806, 0.0005171620482711599, 0.0027825566727633063, 3.372795966985825e-05, 0.05159815696827149, 0.0543807136410348, 0.008769269514163147, 0.0006464525603389499, 0.0002754450039705091, 5.6213266116430425e-05, 0.006250915192147063, 0.00039911418942665606, 6.183459272807347e-05, 0.0017988245157257736, 0.013193253557526222, 0.056904689289662524, 0.9998747353443578, 0.9999284836148071, 0.9999940713877248, 0.9998560149755825, 0.30097336886184817, 0.07073712754921167, 0.00022470318942262177, 0.006949597701704033, 0.0001796216717955127, 0.08206597204916159, 8.452784555082951e-05, 0.04418552246427028, 0.01891451423942395, 0.07417177567342705, 0.08483355459223835, 0.058781368194759764, 0.00799210779683093, 0.03892789047100868, 0.01885957113981591, 0.03282568442095172, 0.028721857519458945, 0.024894859312145138, 0.022304080846012212, 1.1270379406777269e-05, 0.011448592281146933, 0.03247630265934162, 0.0062473121849192246, 0.0015278408083312434, 0.029416394650401592, 7.043987129235793e-07, 0.0022442142993745235, 0.9994476107333712, 0.9998112703699795, 0.9997554847100887, 0.9997585540030068, 0.9999481563105767, 0.036826329521794994, 0.009079364151191639, 0.04012061208992647, 0.00029461063617435994, 0.08350872396287766, 0.830132424384026, 2.6782785106759995e-05, 0.9990619020114617, 0.9995484319954535, 0.12276956752911114, 0.8771166377692899, 0.9999434005649901, 0.9992494063618027, 0.9997101935545729, 0.002048597036433187, 0.08877972630521505, 0.0013010388196294975, 0.00046722388550230577, 0.6977809028482512, 0.10631140410121696, 0.009948274731310634, 0.003658722426471902, 0.08969979795666574, 0.0639258556728654, 4.103071609298164e-05, 0.3048377052128071, 0.4991591766291682, 0.05848928579054533, 0.0024823583236253896, 0.0344247708020116, 0.03664042947103261, 0.07018514727200528, 0.11184787079648348, 0.48551802674679606, 0.046084242834768294, 0.1100564824108156, 0.04265161133275151, 0.0034119218096969224, 0.02818071382424939, 0.036252316405914795, 0.03588989679031725, 6.212907695957977e-05, 0.0031634055018586035, 0.01803296458751803, 4.659680771968483e-05, 0.004405987041050199, 3.1064538479789884e-05, 1.5532269239894942e-05, 0.003857180194573911, 0.00012943557699912452, 1.0354846159929961e-05, 0.00017603238471880934, 0.9995898473736647, 0.6324196070213841, 0.2883365188572289, 0.07922221276216336, 0.9996542140583655, 0.9997492404781626, 0.1004564190875257, 0.549311941693721, 0.1887312458272285, 0.0001576005098272367, 0.1454467293340892, 0.009780502227513806, 0.006109337410361705, 0.9997883623442247, 0.9999815429841719, 0.999469987402669, 0.0003287383765436266, 0.06980759425903911, 0.09293433904888324, 0.009484102163283627, 0.005736484670686284, 0.0012327689120385998, 0.024589630565463268, 0.31856392378960136, 0.13228432272115534, 0.04612199422907081, 0.022551452630892786, 0.0004273598895067146, 0.10621536946124575, 0.08072170836028751, 0.03206842863183077, 0.003188762252473178, 0.02299524943922668, 0.009779966702172892, 0.001051962804939605, 0.011012735614211492, 0.0019724302592617595, 1.643691882718133e-05, 0.006804884394453071, 9.862151296308798e-05, 0.9996733676706532, 0.9999830230147864, 0.9997860115157324, 0.9998437694566625, 0.9999520530947633, 0.9993529765036114, 0.9998654024758455, 0.9996856869746075, 0.9999754485431563, 0.9997381310141727, 0.9997661169884001, 0.9999117049317259, 0.38463468776880283, 0.18712750246535292, 0.0660312026875548, 0.00041049593145016307, 0.011024747873232951, 0.07576582049051582, 0.029027926581118677, 0.015481560843263293, 0.014074146221148448, 0.027503227407160925, 0.059404625508430745, 0.12948214523456572, 0.005131628289109938, 0.9945737077831198, 0.999953660222399, 0.9998543724408739, 0.9999529420825396, 0.43494121995365953, 0.5650544416475005, 0.03997935983347311, 0.4751231289683278, 0.4848549468225285, 0.998679327274161, 0.9995756904017294, 0.9996766884641906, 0.3403531018052008, 0.002963653506237901, 0.2050780291565768, 0.02314027451145639, 0.0005434780068745721, 0.21576926057306253, 0.07932231347211528, 0.05745581553927117, 0.03238789247218153, 0.0005180024753023265, 3.396737542966076e-05, 2.5475531572245568e-05, 0.04239977638007404, 0.9998140716715134, 0.9995920418550973, 0.9996657166235163, 0.07492967414656392, 0.00044940519672679625, 0.13665374943546352, 0.06855157731609515, 0.04281448739585671, 0.012963611444042199, 0.0246481465589389, 0.05880294151017542, 0.00036298112043318156, 0.36332681673835604, 3.4569630517445865e-05, 0.21645774148498728, 0.25607409263371067, 0.6203128245819115, 0.12361279681332646, 0.9999293312794619, 0.16972281322945978, 0.7721708274099389, 0.05751543270252796, 0.0005751543270252796, 0.16576693789508642, 0.8341493546598548, 0.9993557680037896, 0.9998100697360401, 0.9995176977248983, 0.2088626889438701, 0.7911255832841889, 0.9996257450398816, 0.9999520593700337, 0.9996508520541698, 0.17374327889536326, 0.24783726968237643, 0.18643378922046608, 0.05677722701006263, 2.640555623200755e-05, 0.32760317394802485, 0.007567832416093363, 0.9992432735532021, 0.9998331271242639, 0.9996646377955251, 0.9087371430408082, 0.0909742383243287, 0.8485189788985997, 0.15133765155131074, 0.999803298922225, 0.9998774071715558, 0.9995203068837707, 0.9991068811293773, 0.22982720549036884, 0.7698973467565564, 0.9996933355062411, 0.9998172447831563, 0.9996874902506508, 0.05458197286573135, 2.175122206355421e-05, 0.1642543534129296, 0.0642503910729812, 0.00850744672960764, 0.17360737890025793, 0.03541914622774008, 0.06416610508748492, 0.028132486836449425, 0.007816845429089794, 0.18336008309300403, 0.09202942055089786, 0.009970216413381661, 5.4378055158885524e-06, 0.08118915525497403, 0.00020119880408787645, 0.02218352760206735, 0.0006634122729384034, 1.359451378972138e-05, 0.009616759054848906, 5.4378055158885524e-06, 0.9999389648390831, 0.008846247254816903, 0.16386959632511633, 0.06834439411382737, 0.07669125644296912, 0.6821598084722518, 0.37207881877165316, 0.06488766487320574, 0.017694743388586745, 0.19753058391582645, 0.0016810006219157407, 0.11418834255558287, 0.037195391470067486, 0.024824684106929052, 0.0001509257524320634, 0.06322227726016229, 0.004043769297921147, 0.0002029691153396715, 0.013260648868858537, 0.0009315761960461845, 0.01462418497703787, 0.06001640610505363, 0.0025709421276358386, 0.010887471520271608, 0.38382678506326834, 0.00048650493103416265, 0.06117159369687446, 0.08268023275312164, 0.08127192900539118, 0.06570377121229797, 5.1211045372017126e-05, 0.049444264306682535, 0.27262200003793313, 0.002739790927402916, 0.6222092289817684, 5.3356992516391335e-05, 0.09224090081271152, 0.053810526952780664, 0.03212090949486758, 0.05739878469950798, 0.0003468204513565437, 0.0062160896281595905, 0.013165837903419563, 0.039270746492064024, 4.0017744387293504e-05, 0.08266332065601928, 0.0004535344363893263, 0.9995702856599948, 0.999839519094142, 0.9998822067421803, 0.07249717074046544, 0.08664079055363601, 0.8407892734219379, 0.99938875660541, 0.35671644575272016, 0.6432297919075306, 0.9995558652754971, 0.4044330286690748, 0.5951599683255135, 0.9996712111172628, 0.8744795674306342, 0.12540246795761004, 0.9999825811180568, 0.9996350876960923, 0.9999866622077941, 0.9999738036308454, 0.999804792448879, 0.9998400819289548, 0.06075335330274693, 0.0481771805113912, 0.047332141232920656, 7.953310856193348e-05, 6.959146999169178e-05, 0.3253202389340186, 7.953310856193348e-05, 0.007515878759102713, 0.06102177754414345, 0.07192775505569858, 0.04906198634414271, 0.02546053637838895, 0.0029427250167915384, 0.07219617929709511, 0.0001292413014131419, 0.01257617279135573, 0.023601449965753758, 0.0022766352325853455, 0.015866855158105726, 0.10829426894564266, 5.9649831421450104e-05, 0.0022468103168746204, 1.988327714048337e-05, 0.05536498519767594, 0.007625236783375371, 0.010814178451934123, 0.2341746730951911, 0.293414106526742, 0.4615507266489089, 0.9998246860409928, 0.9998032988744155, 0.17178094856938067, 0.8281667574129868, 0.03267570542334751, 0.19624815364052037, 7.051676379465338e-05, 0.086717990276475, 0.006108514663711849, 0.21294299746890455, 0.16448916614650336, 0.04602981756696, 0.021877825967291212, 0.16798856054981304, 0.043552916238672794, 0.009361100393740237, 0.011899703890347758, 1.7629190948663345e-05, 0.9999276638585111, 0.9994651738053835, 0.9995107478250148, 0.9995717111388975, 0.9998535953445522, 0.9995640622276848, 0.9999162206128343, 0.9999387530533573, 0.9998343588228809, 0.18465183005104208, 0.04117883810190613, 0.014887064091809617, 0.7592402686822904, 0.9999498764483369, 0.9999965330898087, 0.9996991984135, 0.9998665107327006, 0.9996731208177052, 0.999938501439584, 0.3808030839987195, 0.6190334933483184, 0.28456212473754877, 0.7152051028270143, 0.28774764827625676, 0.16058756589724374, 3.319982755783414e-05, 0.0006355395561071107, 0.004197406769811888, 0.002556386721953229, 0.014124155209604295, 0.05210475793576655, 0.08644760812809184, 0.036662095288865416, 0.14180120633201787, 4.74283250826202e-06, 0.00019919896534700485, 0.03485033327070932, 0.014920951070992314, 0.016448143138652685, 0.05064870835573011, 0.018919158875457198, 0.07710897091932392, 0.5156188854109601, 0.48435734396741786, 0.999692140381306, 0.9996445759765411, 0.9997513086534875, 0.028877672427815155, 0.02226656777025493, 0.018976318924478427, 0.002479164246585085, 0.025036498193908636, 0.30415672469678123, 0.005601074779321858, 0.07012055912254851, 0.033285075532855306, 0.041594866803816424, 0.016160478051813885, 0.00018364179604333963, 0.1008805599598079, 0.002096577171494794, 0.014553612336434665, 0.007758865882831099, 1.5303483003611634e-05, 0.05282762332846736, 0.1803056367485523, 0.002632199076621201, 3.060696600722327e-05, 0.00044380100710473744, 0.0440587275673979, 0.012763104825012105, 0.012763104825012105, 7.651741501805818e-05, 0.9994895583370889, 0.9996145276845473, 0.012861710219033762, 0.02470962941415508, 0.09802015622767896, 0.08970218409172265, 0.0003297874415136862, 0.012898353268090837, 0.06301383002848544, 0.04188300507223815, 0.0010015766742267507, 0.04723289023457128, 0.02213240163047405, 0.05038419245347984, 0.016477157725998618, 0.025247060800325533, 0.13042482594382004, 0.05939838252152059, 0.023964554083327864, 0.020801037514733615, 0.013838858193889128, 0.016342799879456006, 0.010760842073094724, 0.04007528131875572, 0.0326978141085977, 0.018297095829166738, 0.010223410686924271, 0.00020764394465676539, 0.0009282905761125982, 0.019579602546164407, 0.00533767081264744, 0.022340045575130817, 0.06730106676816337, 0.0015878654591399706, 0.5210001699936823, 0.4789363595481593, 0.16654366898938494, 0.8333931572199773, 0.9998477090701897, 0.9998735889437151, 0.9998829148473861, 0.9996726011870107, 0.9996480085326561, 0.99970812227212, 0.18249228491300726, 0.8174413623355441, 0.22771556486171177, 0.00015555859803181247, 0.772126212659332, 0.9997969489244657, 0.9999651368757387, 0.9998269941542581, 6.425194030350709e-05, 0.006076397782988813, 0.22210059993199444, 0.6339830738233192, 0.13777451770794877, 0.45377398040975087, 0.029748487342313067, 0.484204102486585, 0.0321828971084598, 0.9996338287216805, 0.9997014651343087, 0.9994453120836873, 0.08982078324468899, 0.3195597273867193, 2.2493434650077377e-05, 0.049364091683059816, 4.948555623017023e-05, 0.07311715867354153, 0.0022043565957075833, 0.025966420960049325, 0.4060334875554768, 0.011471651671539462, 0.0001664514164105726, 0.01178206106971053, 0.002213353969567614, 0.008214602334208258, 0.9998704719781062, 0.9998977275805708, 0.3612380600384101, 0.10419065839928289, 0.5345243441408588, 0.9997555799579471, 0.999852740846663, 0.25219429373379004, 0.017021859205601293, 0.24498811857298386, 0.06054278979798536, 0.3695020905939442, 0.05573867302411457, 0.99967500146262, 0.9998995325437101, 0.22221029671560644, 0.11676632455617912, 0.04981835054570795, 0.216110835908324, 0.0025931839360302526, 0.02611445794734691, 0.0004017608914976448, 0.03254263221130923, 0.00018261858704438398, 0.02414217720726756, 0.047517356348948714, 0.0007669980655864128, 0.2608158660167892, 0.9579961363388773, 0.041967626147926186, 0.9991721774781686, 0.9998121831287382, 0.9996828820842051, 0.14554396959798316, 0.8474355773985175, 0.006854888391494581, 2.3632084316818704e-05, 0.08812404241741695, 0.47443772474445234, 0.07354304639393981, 2.3632084316818704e-05, 0.02204873466759185, 0.1290075482855133, 0.054353793928683024, 0.0027649538650677884, 0.04761864989838969, 0.002268680094414596, 0.006947832789144699, 0.00966552248557885, 0.036747891112653086, 0.024388311014956903, 0.027106000711391055, 0.0009216512883559295, 0.09687142806880582, 0.1763013971171473, 0.6139485614565028, 0.015738730831131396, 0.06962777703947895, 9.203936158556371e-05, 0.02604713932871453, 0.000644275531098946, 0.000644275531098946, 0.9998387251474039, 0.9998968754360407, 0.009656602631705102, 0.021660480272963675, 0.05906023476296404, 0.49151794104053254, 0.009148106710744338, 0.051721987941516064, 0.10093041547752467, 0.03001812886960787, 0.032158149617537525, 4.57887322192156e-05, 0.03102789091170531, 0.09862651926691571, 0.023412501763667347, 0.0018869777540866219, 0.010374762747564378, 0.007077974027780854, 0.0004747568551150249, 0.000539825053531805, 0.00539825053531805, 0.00934813117254407, 0.004901804280730765, 0.0010073521088227433, 0.9998432049637629, 0.14676798898220522, 0.8531131391234779, 0.5964845674482102, 0.15813042147886644, 1.6827979671844783e-05, 0.1519755879138892, 0.09032838788354483, 0.002818686595034001, 0.00024190220778276875, 0.041682396143715036, 0.7875851107154827, 0.0012148810041887389, 0.012610807043480289, 0.05602141419315396, 1.7111000058996322e-05, 5.133300017698896e-05, 0.07501462425863988, 0.025786277088907458, 0.07548816557425787, 0.9118019369363115, 7.429937556521444e-05, 0.0066126444253040845, 0.005943950045217155, 0.1471805031482044, 0.6989423893899034, 0.15378052571090414, 0.2588060939889741, 0.7411446179582837, 0.9999488954419595, 0.9995252254887385, 0.06053938708270645, 0.0623064643368747, 0.2020811423997536, 0.32871035153018213, 0.0025146868617009696, 0.0044516753903084735, 0.011848479537564028, 0.03716525942901298, 0.0025203505708489447, 0.052004177396707894, 0.018135196691816454, 0.030974825330276134, 0.03385198957744751, 0.010879985273260277, 0.0005380523690576399, 0.0969343820675948, 0.019568115106254166, 0.004202472187797566, 0.005839284131562387, 0.007294857382592002, 0.0014215909961417645, 0.00011893789210747829, 0.0009854853917476774, 0.003783357710847405, 0.0002492032025109069, 0.0003568136763224349, 1.1327418295950314e-05, 5.663709147975157e-06, 0.0007079636434968946, 0.0002518275711543707, 0.8354379673046247, 0.0004197126185906178, 0.08113044917356642, 0.0826833858623517, 0.9996034117168446, 0.9994254869868153, 0.9995154562909118, 0.10523892823981923, 0.0027426706813235783, 0.0073432795661244185, 0.1817240509496332, 0.59369972925877, 0.016898390326864625, 0.0004866028628154735, 0.08422653189096924, 0.006945149951093577, 0.0006193127344924209, 0.8047671049509827, 0.011121153460377902, 0.12627032134677876, 0.057734217724928344, 0.999706083169915, 0.9997624289173617, 0.9998773583140127, 0.9995396408639748, 0.44706779736917285, 0.04832364122756974, 0.5044830029994756, 0.17710388047433953, 0.8228103202086896, 0.9997767836081708, 0.08066308610205725, 0.07155237940733453, 0.4808922338566786, 0.1205625495672928, 0.1280930794911151, 0.0472324712926953, 0.002073982011806798, 2.4690262045319023e-05, 0.03592433127593918, 0.0007407078613595708, 0.0017036280811270127, 0.00782681306836613, 0.0015307962468097795, 0.010419290583124628, 0.009678582721765057, 0.001086371529994037, 0.10326274038241326, 0.8966609368071545, 0.9999390785013289, 0.9994297632481117, 0.0001706883591255118, 0.9997217193981226, 0.9997839816931786, 0.4934839885097935, 0.16950776579176718, 0.07894748306349997, 0.06071276548809238, 4.444240208483447e-06, 1.3332720625450343e-05, 0.001528818631718306, 0.00016443688771388757, 0.0002799871331344572, 0.07486322631190367, 0.00011555024542056964, 0.008075184458814425, 0.04637564657552477, 0.06590808229180953, 4.444240208483447e-06, 0.9991799251981925, 0.9997757014873442, 0.9999438880649416, 0.9998289461586642, 0.9997346009726567, 0.9996777743320371, 0.9999082509492455, 0.002583928347433612, 0.004165138231684031, 0.0009487259305502515, 0.19799833038394274, 0.00011569828421344532, 0.0959678701455791, 7.71321894756302e-05, 0.5542024946013506, 0.09749508749719658, 0.036753488285137796, 0.00034709485264033593, 0.00011569828421344532, 0.00012341150316100833, 0.007427829846503189, 0.0016737685116211755, 0.32749970239658044, 0.03021049777305876, 0.008369949315661093, 0.037373112422441346, 0.05145416167634121, 0.07337610348202732, 0.2616660491892817, 0.00010852446438458468, 0.025883084755723446, 0.00018991781267302317, 0.11944473861328352, 0.01891038791901388, 0.016916250885947136, 0.008112203712747705, 0.005154912058267772, 0.011571421015006342, 0.0037576595793162443, 0.9998914570502822, 0.9996033608886034, 0.99965583706669, 0.999780108466838, 0.182622901562525, 0.8170962812178953, 0.9997579069313737, 0.9997559341662622, 0.9999767050037438, 0.9999707931071609, 0.9997439620587916, 0.024767236821686245, 9.276118659807582e-05, 0.20880543103226867, 0.15495756221208565, 0.5887088707446881, 0.0226337295299305, 0.9999334189395184, 0.28773330927174035, 0.7121740320718787, 0.00018836010345858967, 0.05795212516409275, 0.4010500536139138, 0.0049287560404997635, 0.008225057851025083, 0.022760179167912918, 0.21099470922419686, 0.00194638773573876, 0.0032963018105253193, 0.058674172227350684, 0.02903884928319924, 0.2008860503385859, 0.06975371697124502, 0.0015420976278253352, 0.5585088340621001, 0.01772663680917667, 0.19175909142899897, 0.09977221933813625, 0.00950710673465134, 0.048373955684501535, 4.491546488811656e-05, 0.0003443518974755603, 0.0026649842500282494, 0.24080757814442316, 0.24780529181863792, 0.5113803127940962, 0.4521516821267298, 0.3400050904283143, 0.0033776671576432058, 0.20432205615521043, 1.3403441101758754e-05, 0.00012063096991582878, 0.999576329067069, 0.2001627839250994, 0.11502822095313751, 0.0316237081738951, 0.47982740926446943, 0.014564608599173062, 0.022611353681589116, 0.1361106930690676, 0.5939717273940349, 0.00034676996979548185, 0.15547356211004387, 0.10870484705327932, 0.1281088884066178, 0.011925871569922877, 0.0014021568343904266, 4.523086562549764e-05, 7.633920075507531e-05, 0.002799104027686095, 0.00862632968532351, 0.22189261019475223, 0.011476326513512988, 0.0019339264191285746, 0.2377457175515562, 0.0051401728508417375, 0.018448640182476533, 2.544640025169177e-05, 0.058577613379394454, 0.19420692672091158, 0.00030535680302030125, 0.0004325888042787601, 0.00022901760226522592, 0.0005089280050338354, 0.00012723200125845885, 0.00020357120201353415, 0.0037660672372503818, 0.23339438310851693, 0.9996354105349259, 0.03348199764310554, 0.055590869176671345, 0.0004205845339784042, 0.10939533806469215, 0.05902925614002057, 0.30506687259435633, 0.00017343692122820793, 0.06114952250203541, 0.14457701753583413, 0.029150410535431045, 0.03578870869544071, 0.06357330347619962, 0.012530817558738023, 0.0011013244497991204, 0.043840517763460256, 0.00015609322910538714, 0.011962811641715641, 3.0351461214936385e-05, 0.00853309652442783, 0.01808513496107138, 3.4687384245641586e-05, 0.00028617092002654305, 0.001049293373430658, 0.0003858971497327626, 0.0016519866746986804, 0.002827021816019789, 4.335923030705198e-05, 9.105438364480916e-05, 0.007098430236650937, 0.14457967241711028, 0.003752589736935615, 0.01166451844802714, 0.021518346743267164, 1.3120943136138514e-05, 0.26261567686981235, 0.03240872954626213, 2.624188627227703e-05, 0.020796694870779547, 0.15485337089270676, 0.007373970042509845, 0.01695225853189096, 0.004815386130962835, 0.0016401178920173144, 0.06972469182544007, 0.02554647628606169, 0.18203996507078576, 0.032566180863895795, 0.9990241007712112, 0.9996505970066831, 0.9997675511334151, 0.8781446292912904, 0.059930070589328, 0.06192144503457637, 0.24068415400297324, 0.7590807933939925, 0.4703613636568032, 0.03584751208709754, 0.49375055263506923, 0.9732327482647204, 0.02674174205164212, 0.9992455105887534, 0.0006776843069438817, 0.999574558776684, 0.9995285145725069, 0.06303525066710287, 0.07255619998661321, 0.3921828587511707, 0.00012159577674981264, 0.07859951009107889, 0.0013618726995979016, 0.06843410315479456, 0.02405164464111294, 0.0070282358961391705, 0.22811367718264852, 0.0019090536949720586, 0.008694098037611604, 0.0004985426846742318, 0.053137354439668126, 0.00029182986419955037, 0.9997607436893194, 0.9997214230084098, 0.000456447972019174, 0.9993167600739783, 0.1902494095461395, 0.04362144959541439, 0.1711965409339507, 0.4583626799475474, 0.04817520931665007, 0.08837552085914294, 0.9994832136094178, 0.999501026500627, 0.9979051911061231, 0.002022835464011439, 0.10359786913421998, 0.001648583150051424, 0.0001129981235605233, 0.1140674426455855, 0.31718335392652447, 0.00020458607634115796, 0.06318260342538355, 0.11758822628494497, 0.04515999744444619, 0.08466057307940848, 0.0032626721360685834, 0.06541164009435639, 1.1894539322160347e-06, 1.1894539322160347e-06, 0.00017366027410354107, 0.031060210531957313, 0.005638011638704005, 0.008119212541306653, 0.0018948001140201432, 0.0014095029096760012, 0.02200251883813221, 0.007796870525676108, 1.1894539322160347e-06, 0.005819998090333058, 0.13114010270322415, 0.8687351616833916, 0.999370096529487, 0.9998836803954944, 0.25293151423441257, 0.028425623211283346, 0.061076676899919614, 0.19680504147863026, 0.027722592754502496, 0.15426807497505507, 2.899094667137516e-05, 0.1646975680400823, 0.051277736924994814, 0.005015433774147903, 7.972510334628169e-05, 0.007813060127935605, 0.017300347426143125, 7.24773666784379e-05, 0.019054299699761322, 0.0007682600867914418, 0.0017684477469538846, 0.001137894656851475, 0.0050734156674906526, 5.073415667490653e-05, 0.003341206603875987, 0.0006957827201130039, 0.00010871605001765685, 7.24773666784379e-06, 0.0001304592600211882, 0.00034064362338865814, 0.9997131784660191, 0.02961899959988063, 0.4698097267489768, 0.0775291046588031, 0.21512013218669368, 0.05601413376542333, 0.15116675444863473, 0.000118306988416071, 0.0004943542015957253, 8.4504991725765e-06, 0.000118306988416071, 0.9996949396838127, 0.9999747809790233, 0.9999060511806307, 0.08035073540833765, 0.8178893812544699, 0.10171158232146967, 0.9997938536934617, 0.5807135956444444, 0.12797014105756557, 0.1522874060166154, 0.139028299771369, 0.9015273231147832, 0.09845852499486901, 0.9991124896453617, 0.9998352918514423, 0.9994330732111184, 0.1536026029023018, 0.08898926238560576, 0.22246326313858056, 0.003874689961575882, 0.0008540805957856626, 0.10075512943488468, 0.04584005545180114, 0.12968504861182528, 0.0011178892740206163, 0.014285239926422742, 0.07513930677827069, 0.010862322326324218, 0.030413842992012222, 0.02384170929548394, 3.957130173524305e-05, 0.033160750854133676, 0.004474854704560402, 0.012596864385719038, 0.0017774109696080005, 0.00916735156866464, 0.0029909308894887875, 0.00038582019191861977, 3.297608477936921e-06, 0.006037921123102502, 0.006948061063013092, 0.008046164686166087, 9.892825433810763e-06, 0.00027370150366876447, 0.01234954374987377, 1.9785650867621526e-05, 0.9999404130442928, 0.9997595177096359, 0.27031522345343667, 0.6377904250507092, 0.09186880039931812, 0.9998557968581783, 0.8368076169319568, 0.044814913743049065, 0.09365114722067329, 0.024666858165693053, 0.9994872416127915, 0.999555621143027, 0.9985415555899807, 0.999377580486227, 0.11348563335754712, 0.8865046419895803, 0.9998228770434617, 0.9999266839172308, 0.999762017130848, 0.9996019608615547, 0.9997827439556388, 0.00012122383430514068, 0.02024438032895849, 0.26265164099447147, 2.020397238419011e-05, 0.7141700158363521, 0.0026972303132893802, 0.00010101986192095056, 0.04973799453371934, 0.9499956955940394, 0.9997610186537441, 0.8366230990735659, 0.16329025734881425, 0.9996657328937096, 0.9999191735676987, 0.9998034213889508, 0.9998764034477805, 0.9998473247050254, 0.1443219574739723, 0.5009822118565193, 0.3546858060906516, 0.999832825101848, 0.9995839695060094, 0.9998377153433594, 0.9989874057998475, 0.9996865443023627, 0.9994235702269887, 0.9999759234544117, 0.01492935943892004, 0.43896194506123337, 5.539650997743985e-05, 0.5460433988476247, 0.9997686255256347, 0.9998422170108082, 0.999679834143467, 0.9999273928639943, 0.11209238098954084, 5.270223376253742e-06, 0.2148406559329838, 0.6498317178505271, 0.02322060419577399, 7.905335064380614e-06, 0.9997938245906552, 0.26393790822407, 0.5734526052837101, 0.1625175350769111, 9.156562297452558e-05, 0.9999928664638554, 0.999517494199947, 0.9995145808220035, 0.9996125273872635, 1.4057740540173734e-05, 0.27747168278194917, 0.1707453166009502, 0.10215760050544252, 0.13115871923982095, 0.2305047716372287, 0.0016728711242806743, 0.019863587383265487, 0.06638065083070037, 0.9998112059978335, 0.9997352387257874, 0.9993230434281389, 0.2834772850947898, 0.7164107218265404, 0.9996958027486713, 0.9997071749484552, 0.9997572212352692, 0.9997686243358284, 0.9999973566932655, 0.9999582382086079, 0.9999790689572065, 0.4046433472118729, 0.5952761688433941, 0.9997438958157888, 0.9997796168794796, 0.2022658112360121, 0.20642956748775404, 0.33692371716169217, 0.01282214729727263, 0.01998313180215365, 0.05084902791425465, 0.011682186188907083, 0.0033667495446219713, 0.0019490436746843118, 0.0599010919696658, 0.09126209830891709, 0.0025600821501429623, 0.9996555175801044, 0.04798857799876936, 0.12636631351206717, 0.03458023216411482, 0.39334240825675154, 0.0329409188325423, 0.3636955813074635, 0.0010516349674238854, 0.9997834528663776, 0.9040132307552838, 0.040288356039194034, 0.05566924757859572, 0.003434117493278393, 0.11712467981499934, 0.879407592061919, 0.999529679883813, 0.9995141383861251, 0.9380548455788084, 0.06176492810395446, 0.9998522599104588, 0.999930009477633, 0.30092784256902544, 0.12264890235709917, 0.038171342060117595, 0.05012335244287573, 0.10694233373891963, 0.3811502368658628, 0.9999571409086793, 0.9990396323159758, 0.05679313642171697, 0.08554614691137283, 0.8576001227865127, 0.9999034170822626, 0.99982262104487, 0.9998086010201332, 0.9997520738674867, 0.9997587794350368, 0.7117065996335726, 0.2882768268321001, 0.9996071273400747, 0.17045107497104312, 0.030793664056202104, 0.5059236116034715, 0.021640887334207524, 0.04200193724542428, 3.878295221184144e-05, 0.091721681981005, 0.09366082959159708, 0.043785953047168986, 0.36533611917187764, 4.590855650628482e-05, 8.347010273869967e-06, 0.1630338046692282, 0.47154765140173605, 2.0867525684674917e-05, 0.8073819923889989, 0.15235916510038605, 0.04025410880644754, 0.9996432451535593, 0.9996010917849193, 0.17753424250251376, 0.08139434665428179, 0.017566279634485118, 0.08155708110277418, 0.04152440677364392, 0.07453237740951894, 0.0012114675609989735, 9.04080269402219e-06, 0.0003073872915967545, 0.0011662635475288626, 0.5229019462168555, 0.00010848963232826628, 0.00011753043502228848, 1.808160538804438e-05, 1.808160538804438e-05, 2.712240808206657e-05, 0.9996516446501744, 0.8888112611449959, 0.11104219145740701, 0.14227857183048281, 0.1468026795655209, 0.005231961326234497, 0.0036931491714596453, 0.7019753287651921, 0.020834633374377368, 0.10938736045282826, 0.637869681401833, 0.23190983913025734, 0.05124003582602559, 0.948301508104192, 0.02036443024457047, 0.03941731319749759, 0.4870271355009156, 0.09724945931414986, 0.16828569640748184, 0.14356125759879967, 0.0021977278941050812, 0.0001417888963938762, 0.040888372997584056, 1.7723612049234526e-05, 0.0005317083614770358, 0.0003190250168862215, 0.1155247431995625, 0.18062725920646958, 0.0023693171101116213, 0.03744468760820406, 0.15102659077747504, 0.0005275679431848544, 0.0007644996541960165, 0.034592029807629675, 0.09041630001133961, 0.021320694901524443, 0.017264424009013346, 0.06556058398152864, 0.03590305194189144, 0.0009129768597630115, 0.051979658306368824, 0.0018480673458870648, 0.02510844318822289, 0.02025608174671429, 0.02556967025232462, 0.013587243854120112, 2.21136263610418e-05, 0.0004738634220223243, 0.0520428400959718, 0.005916974596318756, 0.01534369760508286, 0.0001232044897258043, 0.005626338364145064, 0.013871561907333506, 6.318178960297657e-05, 0.013909470981095292, 0.6530841750732932, 0.024185192544825568, 0.0781373815128235, 0.21972415379700036, 0.000262426134383958, 3.149113612607496e-05, 0.024510600951461677, 7.87278403151874e-06, 4.723670418911244e-05, 0.14796302351555288, 4.4431074659484204e-05, 0.12267168216834573, 0.06909451270631488, 1.2574832450797417e-05, 0.38865705313410287, 0.13013861767762924, 0.014132435030369523, 0.0002565265819962673, 7.54489947047845e-06, 1.844308759450288e-05, 0.012029923044596196, 0.10534272472898351, 0.00043089759198065814, 8.047892768510347e-05, 1.676644326772989e-06, 1.0059865960637934e-05, 3.269456437207328e-05, 0.003225025362547844, 0.0058489737339475715, 0.9996248163331455, 0.05551066478313148, 0.7691042830822274, 0.1752474368878088, 0.411013281689929, 0.5889265977031198, 0.9997724869203664, 0.9996323443643976, 0.9997171249010973, 0.9995692540351608, 0.9995614202612807, 0.9996388794476788, 0.9999660921928789, 0.9996798968158914, 0.06643003040734821, 0.34252413402958654, 0.04489301254710141, 0.00044851483395808993, 0.06922078937419855, 0.013895654022442305, 0.039934431882786975, 0.07986055793531546, 0.008372276900551012, 0.016752859631360507, 0.05472711557314546, 0.010648074391375394, 0.03536622524062124, 0.10043409948557822, 0.0019684817712605058, 0.0001245874538772472, 0.0011378987454121912, 2.4917490775449443e-05, 0.024767985830796747, 0.050158908930979726, 0.007300824797206686, 0.030997358524659107, 0.9999201799407424, 0.17540694462239062, 0.6998795365165819, 0.12470792740595213, 0.9998574221370369, 0.9997332988419874, 0.0010916893710193963, 0.07830390124857306, 0.2591273588846949, 0.00014886673241173585, 0.11125307135570393, 0.03783696115464953, 0.5122008039846458, 0.999884535439711, 0.31947346393228127, 0.6805225133856144, 0.9993317253512043, 0.9997635650406891, 0.14009906580319376, 0.00015772139904234847, 0.859733279972186, 0.9995731354886893, 0.9995708979482012, 0.9858916579472071, 0.014063505869852415, 0.9996036278926825, 0.9998842610658302, 0.9996068703821986, 0.9998440238886749, 0.43541645777990423, 0.5644957850462846, 0.9999689524282909, 0.3233228146104859, 8.999187670075871e-05, 0.0001403873276531836, 0.2728553701567004, 0.03575197277567742, 0.14016774747403374, 0.19360132418387624, 0.0015262622288448678, 0.03254106261499435, 0.9996832594655851, 0.9996885072393791, 0.9997150978367338, 0.9999356614520878, 0.9998273126691096, 0.13517589204990463, 0.6467166829958801, 0.16323818714303273, 0.05477955643451585, 0.9997367886065289, 0.9996641060654518, 0.9997891266435667, 0.9994601306393763, 0.9996751232830026, 0.9998027403398853, 0.2262972153100627, 0.012052054992182306, 0.069449202168149, 0.1535076973928114, 0.028288681362360905, 0.015306721619512756, 0.49507639501896494, 0.9999645499898195, 0.9996990110644731, 0.9997356261615173, 0.06603553040273673, 0.25781119232004235, 0.6761472871389698, 0.00662445377171661, 0.07034203419906375, 6.3761206516016e-05, 0.2594141466368983, 0.0024598402303284066, 0.00032216188555460714, 0.0011174990405175436, 0.25800804424057144, 0.0007617786252176648, 0.033974655514112946, 0.0003322294444781886, 0.035031749201089, 0.020702256999858035, 0.12278059277902512, 0.08890661285414798, 4.698194164338021e-05, 0.019108226836957638, 0.015634919008322028, 0.009899766274855115, 0.021094891797877713, 3.691438271979874e-05, 0.004919680460656813, 0.0007315759484469204, 0.011785755646539378, 0.014832870147410037, 3.020267677074442e-05, 0.0010336027161543645, 3.355852974527158e-06, 0.9998143271662819, 0.17947669185223458, 0.7216011287490075, 0.09889343512197617, 0.03145764232079145, 0.017111114364904534, 0.8170818907197315, 0.13424999152881037, 6.283150929585509e-05, 0.9490913234167087, 0.05085623308911155, 0.9999312955536176, 0.0458220436761845, 9.332391787410284e-05, 0.004246238263271679, 0.2632201103639071, 0.004432886099019885, 0.491817047196522, 0.018711445533757618, 0.039522679219682555, 0.009332391787410283, 9.332391787410284e-05, 0.07974528782342087, 0.008492476526543358, 0.034483187654481, 0.9998398608392822, 0.5080974844862302, 0.04370823383530356, 0.03403918249963523, 0.0746732419315913, 0.00738488823150512, 0.08451403485403883, 0.0932213333037437, 0.05413294815280032, 0.0004121798082700532, 0.0569323360173011, 0.01662458560022548, 0.01815308572256026, 0.0074364107075388765, 0.0006697921884388365, 0.999150266502067, 0.9994765703077005, 0.9996220762967098, 0.9997314188855648, 0.013372059796619998, 0.9864759541392238, 0.2859120222520116, 0.666644438893194, 0.047426317628857594, 0.9998190646583665, 0.9991148490000893, 0.9998937120391876, 0.9997486125478631, 0.19337554514179542, 0.8065709317748953, 0.08857975965045557, 0.2902495740943439, 0.6210268094585346, 0.3968702589327674, 0.6030090279634417, 0.9996781175618467, 2.0332270563204688e-05, 0.761382535780326, 0.23859411199156622, 0.9994516263230794, 0.17493974237844806, 0.8249486031836846, 0.9998887247179367, 0.9996960462902871, 0.6430577161804231, 0.35685476755274215, 0.0018222853526079284, 0.9978834590881016, 0.9997333737729681, 0.999468974053187, 0.9998685306114282, 7.17587534304425e-05, 3.587937671522125e-05, 0.965322031744621, 0.03460535759940243, 0.9999209971463577, 0.9994006549064886, 0.9993545170327378, 0.9994639230650179, 0.9995145146023194, 0.9996380137869401, 0.037621905312394115, 0.0506846217970318, 0.0007691019825361658, 0.15996119514904536, 0.10162160518208328, 0.017909661270412488, 0.041030789620405975, 0.09700298754737391, 0.004394296223136323, 0.03266279982083279, 0.055211107423416526, 0.21290104828028478, 0.0007731077220285416, 0.021230419309592078, 0.001410020301316304, 0.00252762161968917, 0.043001613450654896, 0.020253018873452367, 0.011889034813371563, 0.02785991816947413, 0.014985471440978107, 0.028629020152010298, 0.009381441891144272, 0.006156821599781702, 0.00012818366375602763, 0.35228401448700825, 0.00036140960706540986, 0.1987752838859754, 0.44859967476993995, 0.9009600569031442, 0.09881822672244894, 0.9997821995733802, 0.04982302346266261, 0.3730378260277848, 0.12366876873759781, 0.16018533741206714, 0.2932498852939999, 0.011278764448053258, 0.04203779874208311, 0.07526406275912462, 0.10237647729771418, 0.052313403852208555, 1.3556207269294781e-05, 0.18428308161879325, 0.0010709403742742876, 0.04766362475884045, 0.32275973887463943, 0.02747843213486052, 0.06371417416568546, 0.05356057492098368, 0.015670975603304767, 0.0005151358762332017, 0.1555659133838837, 0.7344659289157962, 0.07665258894132258, 0.033273778216215445, 3.0345442969644728e-05, 0.9997350688777146, 0.999858106219775, 0.8324279584609757, 0.07049207044285276, 0.00044992712320657095, 0.043083137902396644, 0.05354132766158194, 0.999843248208382, 0.9996253567101191, 0.9998294774007054, 0.9994179460043793, 0.9998437319446678, 0.0018336230476420623, 0.12940886078686373, 0.0013843592809833234, 4.70159755805657e-05, 0.12394455962494465, 0.1257572866834398, 0.17597557260077068, 0.002199302857713129, 0.13557317758520457, 0.0018022790639216852, 0.16575220991064102, 6.268796744075426e-05, 0.018315334487273707, 0.0018492950395022508, 0.021789292682948838, 1.0447994573459045e-05, 0.06428128661320677, 4.70159755805657e-05, 0.00656656458941901, 0.023309475893387128, 6.268796744075426e-05, 2.089598914691809e-05, 0.99967111357072, 0.999976192779366, 0.999816685546127, 0.99963034223576, 0.0025362291828853094, 0.09460269044182464, 0.11995424690905705, 0.5922350106875689, 0.03203431907610482, 0.054951632295848374, 4.0257606077544594e-05, 0.0482044575172519, 0.0004857751133357048, 0.05493284541301219, 2.147072324135712e-05, 0.9997687972376559, 0.999908094099658, 0.9997896458835452, 0.8959399144969983, 0.0008429851218430401, 0.031420354541422404, 0.056480003163483686, 0.015250367204251361, 0.9997176234122005, 0.11939561583993419, 0.026183479574052468, 0.05804245497148209, 0.0985329136002978, 0.034801825083625185, 0.24977436711584822, 0.08661699991556845, 0.002036346881072821, 0.2784408761126282, 0.006450621410366162, 0.001287496737710558, 0.00011823949632035736, 3.941316544011912e-05, 0.007160058388288306, 0.0007225746997355172, 0.001694766113925122, 0.0011167063541367083, 0.025434629430690206, 0.0021414486555798055, 0.9999485753156214, 0.0927327815268464, 0.01185448046163388, 0.23013913023488589, 0.055335054979026875, 0.22548504423025872, 1.4146158068775511e-05, 0.006271463410490477, 0.3781598128805299, 0.33446544991575766, 0.665368018873691, 0.9997927866252005, 0.22101047673151925, 0.2610919123017637, 0.13145644923912492, 0.0002418111724873159, 0.07192648651025774, 0.08759486350305831, 0.0011547717216741208, 0.00016778734417487228, 0.015313062616900842, 0.006178522203145296, 0.03174141758037584, 0.0514959098960233, 0.017568321919486624, 0.00535932516982092, 0.0004589477355371506, 0.0005181667981871055, 0.003385356414822423, 0.0006020604702745416, 0.016349396213275053, 0.009213499163955486, 0.0002862254694747821, 0.0056159411079707245, 0.03564000587149787, 0.010200483541454735, 0.014182965504664203, 0.0005724509389495642, 0.0006711493766994891, 0.00117696796192875, 0.9987821456319006, 0.020354319777362708, 9.01630997889821e-05, 0.0021526440074619477, 0.07445217965075197, 0.006750962096700034, 0.08316418916786236, 0.046197318254379706, 0.00022540774947245524, 0.617448177742423, 0.037135926725587, 0.11132888746444565, 0.0006874936358909885, 0.00025873266285947924, 0.0009486864304847572, 8.624422095315975e-05, 0.9986218344166367, 0.9999972741772897, 0.9999650129547354, 0.9997909654409222, 0.12684303217271503, 0.07797590525404728, 0.5181139914417746, 0.1850605888434741, 0.09194589256223135, 0.9992508995546651, 0.9993781493872339, 0.9998885990943822, 0.9998597861633933, 0.9992221452954733, 0.9997489214430111, 0.060316871368673045, 0.0054161605895210775, 0.19259299423786083, 0.00013008245957365033, 0.09500749820133697, 0.07337242003861032, 0.00013008245957365033, 5.3215551643766045e-05, 0.1573820375669023, 0.010814582661827566, 0.0735084153372555, 0.0022823558816104103, 0.2197861411278253, 0.0177030401801595, 0.0010406596765892026, 0.007000801460690999, 0.00020103652843200505, 0.04060937874326502, 0.00403846908585469, 0.03861083913708803, 0.999971274947879, 0.9997201605430911, 0.9999425144465782, 0.12069064795443078, 0.01779876445772788, 0.06873905948853025, 0.29424304846635047, 4.334114721849322e-05, 0.023274196056330857, 0.0024415512933084514, 0.024068783755336567, 0.0008523758952970333, 0.040480631502072664, 0.0007079054045687226, 0.0034817388265522883, 0.17485263492847447, 0.0009823993369525129, 0.0002600468833109593, 2.8894098145662145e-05, 0.0007223524536415536, 0.01925791641408382, 1.4447049072831072e-05, 0.031017814359368314, 0.1760372929524466, 0.9997026723950487, 0.9998701194896602, 0.9999815543809021, 0.9996967592113761, 0.9996548438963699, 0.1278094955136864, 0.4077979386660308, 0.07477636256405143, 0.03239007763018079, 0.005441722319168432, 0.0007334495299748756, 1.1829831128627025e-05, 0.006683854587674269, 0.025883670509435932, 0.02796572078807429, 0.005181466034338637, 0.01638431611314843, 0.02882929846046406, 0.022098124548275283, 0.03085219958345928, 0.03734677687307552, 0.028699170318049163, 0.0038920144413182914, 0.020666714981711413, 0.01308379322826149, 0.00016561763580077836, 0.027255930920356667, 0.001443239397692497, 0.054630160151999604, 0.9998813137841742, 0.35261534853630144, 0.6457053062749154, 0.0016333186499365483, 0.9999592000531303, 0.9994845518444682, 0.9998597771235532, 0.18192748113844254, 0.7869503415499626, 9.632588129462188e-05, 0.03098482514977004, 0.9998079830585381, 0.5258722897148796, 0.4720988826462904, 0.0019769634951687202, 0.9995450234339872, 0.9998060485239858, 0.10128961893642278, 0.23190787380369038, 0.04558872732893059, 0.0003023570714520083, 0.6208734486116184, 0.9997545342461082, 0.9995507742390908, 0.9997535979927299, 0.9997628357070146, 0.9998786480103193, 0.9997709450727567, 0.9998082969486415, 1.0393717886948841e-05, 0.06392136500473537, 0.15097914602581886, 0.019805229433581015, 0.009468676995010394, 0.3662434371824163, 0.0002650398061171954, 0.0038144944645102244, 0.07622752698288279, 0.04236479410720347, 0.046272832032696234, 0.01497734747509328, 0.03148257147956804, 0.003201265109180243, 0.05249347218803512, 0.023027281978535156, 0.025589333437668046, 0.00011952775569991166, 0.0228349981976266, 0.01263876095052979, 7.795288415211631e-05, 0.006033553233373802, 0.005903631759786941, 0.0007431508289168421, 0.013179234280651129, 0.008314974309559072, 0.6963281295860475, 0.30362967232938864, 0.12077215099093366, 0.03456551196891897, 0.21301649694988511, 0.09953210319846402, 0.04853941722451425, 0.08284555276177484, 0.10073532164532373, 0.0051623114800897225, 0.004045551843782804, 0.06937959301817723, 0.0355381735876379, 0.02911140200321357, 0.022569352004718848, 0.022360409879216264, 0.002392027091960625, 0.004214867014448692, 0.08428653293765473, 0.004153625356973796, 0.002258736425691735, 0.005450507515265701, 0.003242205395729763, 0.0003386303413317752, 5.403675659549605e-05, 0.0011167596363069183, 0.0034871720256293448, 0.00013689311670859, 0.00010086861231159262, 3.242205395729763e-05, 0.0005655847190328586, 0.9998304309990285, 0.9997277382598759, 0.999995484857832, 0.9997130079387698, 7.024494277146025e-05, 0.45905655475672374, 0.02804529340150551, 0.014616801841694688, 0.0403323046412801, 0.030281424079730324, 0.017795385502103266, 0.1986936743743063, 0.10385129414237303, 8.780617846432531e-05, 0.0401625460295824, 0.00285662767270605, 0.014078257280446826, 0.023292052273970028, 0.01927052930030393, 0.007492793895622427, 0.2387441702427177, 0.002261069593632381, 0.7589450445585512, 0.999856266095099, 0.276319730511674, 0.7236615876695318, 0.999934518314001, 0.5099551520312884, 0.004482886665414991, 0.03491699358189681, 0.27189095674463987, 0.1687383671636584, 0.006145952617135309, 5.54355317240106e-06, 0.00017924155257430095, 0.0036827671575317706, 0.9996302264749947, 0.9999861677484883, 0.9997557547565656, 0.9999874059325107, 0.9996441410298493, 0.9997952160354604, 0.9997590533142563, 0.20889758638726413, 0.00524575412244804, 0.2110891458873091, 0.03218561584906453, 0.3992718321065951, 9.325785106574292e-05, 0.0063415338724705185, 0.017660705545575067, 3.49716941496536e-05, 0.11916021919925301, 0.9999294916086079, 0.9996197136297159, 0.9999549830873948, 0.9995197519418987, 0.9998957295986493, 0.9999337013623524, 0.9993562884791867, 0.9994540379273298, 4.154307916549122e-06, 0.16338685320391869, 0.10221466913273286, 0.18706433117429042, 0.0011050459058020664, 0.026292614803839393, 0.18004562794928067, 0.005552232530467901, 0.08728200932669705, 0.08876302009894681, 5.1928848956864024e-05, 0.0003655790966563227, 0.050549618728569716, 0.006428791500859766, 0.027472438252139342, 0.025738014696980085, 0.00045489671686212884, 0.0030908050899125464, 0.017267380855136426, 0.0038718149782237814, 0.017431476017840116, 6.231461874823683e-06, 0.005498226527552763, 6.231461874823682e-05, 0.9345330677122762, 0.06537635971173365, 0.9993319598563536, 0.15435289429288304, 0.0005799132985569301, 0.0973211332045864, 0.0014643853798092263, 0.12062196609984145, 0.013993015851510384, 0.0076473458723370705, 2.9204266833802233e-05, 0.006671088952464254, 0.07778347869277269, 0.06088255227223943, 0.17089502543517246, 0.012027985897407407, 0.04745693360492863, 0.03854963222061895, 0.057690943111116756, 0.010304934154213075, 0.022633306796196732, 0.019399977253882913, 0.038178320828017746, 0.010467643640858544, 1.2516114357343816e-05, 0.00405939308989851, 0.014184929604989656, 0.012524458433582044, 0.0002461502490277617, 1.2516114357343816e-05, 0.9998154415303995, 0.9995244044647977, 0.999893978098871, 0.999986866643193, 0.44620823670739973, 0.0010588352146231792, 0.11894591576051713, 3.0839860620092593e-05, 0.3372167426248125, 0.01983003037871954, 0.01864098241925597, 0.0574512336840525, 0.0002364389314207099, 0.0003015453038409054, 5.139976770015433e-05, 2.0559907080061732e-05, 0.9998467245687281, 0.9999346432361397, 0.9998570640226129, 0.31146633467674134, 0.03552134372093586, 0.0326782877382099, 0.47192481838165856, 0.04779255768590327, 3.371212627738298e-05, 0.10056327268543343, 0.9996302251560659, 0.9997929034205328, 0.9998751123221437, 0.999919849189317, 0.3665138914647212, 0.6334491720893084, 0.9996244838002595, 0.9999881693421803, 0.999653948149651, 0.997430733212021, 0.002361275931570026, 0.9994888011385346, 0.0063657040123031175, 0.18786589889967736, 0.8056497102400213, 0.6926721159430614, 0.056652190829714226, 0.09714801612650995, 0.1179671134149605, 0.03445758767338174, 0.0010957419625500283, 0.9999900854457946, 0.9998668700718816, 0.9996348873609708, 0.061847151461904525, 2.1326603952380873e-05, 0.14197120251099946, 0.14233375477818994, 0.27525181391140374, 0.30510905944473693, 6.397981185714261e-05, 0.07338484420014257, 0.999717790643187, 0.9998124148988432, 0.2460115044015852, 0.026100679845981717, 0.12586775724954116, 0.2493169186832385, 0.03500917443433996, 0.026282074532170005, 0.020094500236636118, 0.05304786822750879, 0.09325702366591306, 0.11728174210329545, 0.00773950661070037, 0.9995434830676995, 0.1999786586477492, 0.09870870255453316, 0.17637494956576977, 0.02739536873238252, 0.01762745082505273, 0.038067258476894496, 0.08550066960014892, 0.00027621361691678066, 0.3545076221482827, 0.0015317300574476018, 0.9999343287263593, 0.083832902855502, 0.06110299675923851, 0.307406522777463, 0.15665191391424377, 0.007408964319989989, 0.047605477602029024, 5.239720169724179e-06, 0.02172125996359158, 0.06936341560680868, 0.06000789524376616, 0.0034844139128665788, 0.014451148228099285, 0.017238679358392548, 0.022072321214963102, 0.001231334239885182, 0.08621959539281136, 0.006782817759707949, 0.0028949453937726086, 0.00416295767484586, 0.005999479594334185, 0.0005161124367178316, 0.0032067087438711972, 0.0022766584137451557, 0.0013361286432796657, 6.549650212155223e-05, 5.239720169724179e-05, 0.0004925336959540728, 0.012405037501821993, 0.10000576983229674, 0.08289088731251065, 0.3103365167864054, 0.26420563389243695, 0.0019089205007738479, 0.05247896327448618, 0.008146635027927791, 0.027881684659054426, 0.00017372402844301614, 0.010114826079582199, 0.012524480544691798, 0.026346781772457896, 0.022191711774520815, 0.00939131659641952, 6.131436297988805e-06, 0.04898813220883122, 0.008263132317589579, 0.003263967922629374, 0.003057542900597084, 0.0035153568108469146, 0.000292265130204133, 0.00016963640424435693, 9.605916866849128e-05, 0.002965571356127252, 0.0004414634134551939, 1.0219060496648008e-05, 1.226287259597761e-05, 6.335817507921766e-05, 0.000261607948714189, 0.9999209731876675, 0.9999700872848042, 0.9998380726800666, 0.9998634202318716, 0.03193619237936717, 0.008963161811822391, 0.18105061161241243, 0.21395934647576031, 0.4634033511508175, 0.0018925151039624992, 0.009751709771806767, 0.03385499241532915, 0.009804279635805725, 0.00310162197593854, 0.011407660487773953, 0.00021027945599583323, 0.029544263567414568, 2.6284931999479153e-05, 0.0011039671439781245, 0.9994370788964004, 0.9998403122379967, 0.29692785076211375, 0.15756636478074112, 0.029818335964482884, 0.515491022094762, 0.999657689220086, 0.9996812431874903, 0.9989856894055225, 0.1116093644870751, 0.004084291563250153, 0.055596821724825045, 0.00065543115174669, 0.035460333974551096, 0.029519546246187238, 0.046981506112543425, 4.190736264365025e-06, 0.048723176104013534, 0.10415823540903409, 0.11050887714405284, 0.013123709685485513, 0.010486060280694166, 0.0008959794133212424, 0.0005280327693099932, 0.0008314420748500211, 0.4249062931692458, 0.0007241592264822764, 0.00010644470111487164, 3.939292088503124e-05, 0.0007208066374707843, 1.927738681607912e-05, 4.190736264365025e-06, 0.0002816174769653297, 1.341035604596808e-05, 5.02888351723803e-06, 9.219619781603056e-06, 1.67629450574601e-06, 0.9997516987409215, 0.9996804144756449, 0.4153099233506748, 0.5846693946126943, 0.9995824453736695, 0.9994351338114215, 0.9997130200554589, 0.9993809262632897, 0.2224184238474707, 0.21847547032237452, 0.5479809274082528, 0.011111959934361954, 0.9998868532667502, 0.026726324393896914, 0.2735082789039677, 0.08655739724302912, 0.08465357104981595, 0.00036378844456302515, 4.8505125941736685e-05, 0.0028860549935333327, 0.3305988121373918, 0.13929459542318232, 0.00043654613347563013, 0.008452018195347617, 0.0003395358815921568, 0.044697473555310355, 0.00035166216307759096, 0.0010792390522036412, 0.7724426574882334, 0.22752261613601252, 0.9997574213826959, 0.9997510782228858, 0.9994620418114959, 0.3633434377658583, 0.4996201009123738, 0.028847361937882194, 0.10817433955501271, 0.9995285870451375, 0.019125726458908122, 0.14284836627210393, 0.06713823666274742, 0.006366984067278999, 0.009438991944098437, 0.0004707108843513657, 0.050638581453378496, 0.03208266290710624, 0.09565340655161172, 0.03250382527731536, 0.043107207303756646, 0.0004954851414224902, 0.05403265467212256, 7.432277121337353e-05, 0.02457606301455551, 0.007283631578910606, 0.008670989974893578, 0.01704468886493366, 0.055221819011536534, 0.2336955669519175, 0.003691364303597552, 0.00042116237020911666, 0.04399908055831713, 0.007977310776902093, 0.0403324905117907, 0.0030967821338905637, 0.9998620562535536, 0.9997674802205537, 0.9997709524499967, 0.9997240595114381, 0.9998585788993803, 0.031996432088755834, 0.3251519905080421, 0.5166431509956995, 0.00013926629853647804, 0.12607081675014675, 0.28437165070403875, 0.1522017472086749, 0.5634081872532761, 0.999960705118676, 0.9996743601652018, 0.9999613691786968, 0.999829521383741, 0.9997007418166611, 0.9997380581757822, 0.17456465161336235, 0.00581611654995706, 0.0029215841274202905, 0.09140771080141816, 0.09365300230675042, 0.0005680858025539454, 0.621891643567269, 0.00035167216348577573, 0.008845907496911436, 0.8315430886584515, 0.168336771606467, 0.9994318531315018, 0.9998804350945799, 0.0001008219570158889, 0.14912407625625101, 0.05304075122010889, 0.10164533633151866, 0.0020584482890743986, 0.09267218215710456, 0.005192330786318279, 0.43222372972711576, 8.401829751324075e-05, 0.0697267851062385, 0.00046210063632282414, 0.01840840898515105, 7.561646776191667e-05, 0.0023609141601220653, 0.0056040204441331586, 0.008200185837292297, 0.002579361733656491, 0.004343745981434547, 4.2009148756620375e-05, 0.0026129690526617874, 0.049427964427039534, 0.9999235464713202, 0.9997298446411933, 0.9998044987754906, 0.9997275802984199, 0.05033686140361228, 0.16053377420611484, 0.08570870995750199, 0.6035321659507431, 0.006688907258588118, 0.013604557136111426, 0.07907648835364767, 0.0004534852378703809, 0.34025202996176257, 0.6596143233099592, 0.8682872159831081, 0.1314100441797575, 0.0003032146953205341, 0.005733514238788282, 0.3053923281323816, 0.0014333785596970705, 0.14033327398880358, 0.0027564972301866737, 0.022189802703002724, 0.14200095481306652, 0.011673765769840564, 9.647740305653359e-05, 0.013934093498593637, 0.07041472174511858, 0.00024808475071680066, 0.021211246186286455, 0.011136248809954162, 0.00038590961222613435, 0.24173102460122037, 0.0011852938089802697, 0.007828452133730153, 0.9995587301915946, 0.999865768749384, 0.9998693425974844, 0.9999099247080755, 0.9996217420191067, 0.0685107514863769, 0.18639588103248825, 0.6018706270053666, 0.0029655042263803544, 0.11785978335614229, 0.022406031932651567, 0.04009584416212037, 0.08251997347108421, 0.1842926368649195, 0.10032544318293113, 0.009699672301205336, 0.024138905528773194, 0.04603365340136034, 8.412749065743024e-05, 0.006916643961618995, 0.22769105346433496, 0.028148603630783416, 0.007047382629532569, 0.06964391996856996, 0.03821434420214676, 3.29688814738578e-05, 0.008199019765153878, 0.049914886551420706, 0.01747919147105392, 0.005304579343345534, 0.01240084686609796, 0.01859672286721951, 0.00396649749869965, 0.0033992053657529247, 0.009226739380752755, 4.888489321985811e-05, 0.0029353673091552014, 6.139033102028694e-05, 0.003581102642850071, 0.9998054352502219, 0.9997780934656398, 0.9994497075983525, 0.0001443248376166694, 0.17910712348228672, 0.010463550727208532, 0.810239638379982, 0.9998173674371245, 0.9994370379919025, 0.09559417398176326, 0.9043714985710911, 0.9998512288595562, 0.9995716693951898, 0.9997205079693168, 0.7737102095855414, 3.172894031517496e-05, 0.08385958925300742, 0.13624406971336128, 0.006123685480828767, 0.9994480398715866, 0.23363492366737193, 0.766309876949679, 0.9992670487005381, 0.1190497480944331, 4.243189310719963e-05, 0.0005233266816554622, 0.05780638237637496, 0.10446732082992549, 0.00021215946553599816, 0.7170565616185666, 0.0008344938977749261, 0.36940892335156733, 0.21109081334375274, 0.4193932451022407, 0.017088695028384435, 0.07689912762772995, 0.16023092831257318, 0.13131441508239983, 0.06730504599036555, 0.047762902604334495, 0.0789741834526052, 0.00019529937175296496, 0.0003295676898331284, 0.05631945632926127, 0.031247899480474396, 0.02001818560467891, 0.0013426831808016342, 0.000707960222604498, 0.0015623949740237197, 0.028586945540340247, 0.015892486376397525, 0.019224781906932487, 0.020237897397900995, 0.0025510980435231047, 0.15344427514415765, 0.00549279483055214, 0.0031614085802511203, 0.0006347229581971361, 0.00391819364579386, 0.004406442075176272, 0.04771407776139625, 0.0034055327949423266, 0.9993001970316558, 0.9999419728025747, 0.99976719254385, 0.9996878641939221, 0.9997694417488906, 0.9994952134798468, 0.07910108812400779, 0.9207552504537588, 0.9997998064943138, 0.9998754450047982, 0.999587141575126, 0.9999755632017273, 0.9998072907575039, 0.9994987326676782, 0.9997179149906762, 0.06440438457228755, 0.8461496550501376, 0.0891960305164317, 0.9997595972018286, 0.9997680978555848, 0.9997634889103936, 0.9995873978052674, 0.16659160637063622, 0.2076811300530298, 0.14610002337803615, 0.09506605500805726, 0.04965131830646436, 0.03827104470676778, 0.0009040404261441208, 0.017992177108554563, 0.2462357952856467, 0.0009040404261441208, 0.0017371757208259578, 0.028167063473392314, 0.00012408398005899697, 0.0005849673345638429, 0.999875876077917, 0.9998163498511825, 0.9997096153150694, 0.9986799038813294, 0.00027887145322352005, 0.07824336201871333, 0.0035854901128738294, 0.15222397468101, 0.27743725717837053, 0.0631046259865794, 0.00027887145322352005, 0.0015138736032133946, 0.003027747206426789, 0.1700717476873153, 0.0006374204645109029, 0.24962978941408237, 0.9997408685144247, 0.022243121161470366, 0.9775663249439435, 0.9997765204841356, 0.004643428548343158, 0.0417020992465386, 0.0201386523862247, 0.08772996794555785, 0.0018452256303778142, 0.14276440630373766, 0.05633777494267453, 0.018480285047530715, 0.0006633469354775939, 0.05744023886360912, 0.040767807788119455, 0.003559650456576948, 3.737165833676586e-05, 0.018774586856932746, 0.034157695719803996, 0.02127848796549606, 0.01770015167975073, 0.01256622011573752, 0.0001775153770996378, 0.003363449250308927, 0.001518223619931113, 0.00016817246251544634, 9.342914584191465e-06, 0.006624126440191748, 0.40743516210200553, 0.00010744351771820184, 1.4280409211316332e-05, 0.017272154941087102, 0.05464398584710194, 0.050616910449510735, 0.0001642247059301378, 0.003313054937025389, 0.0014780223533712403, 0.10770284627174777, 0.03587952814343228, 0.033180530802493495, 0.07869933516356431, 0.01907148650171296, 0.00327021370939144, 0.0718233181283155, 0.4211292676417186, 0.03883557285017476, 0.009860622560413927, 0.01373775366128631, 0.023776881336841693, 0.008846713506410468, 0.0011852739645392555, 0.00014994429671882147, 0.00021420613816974498, 0.005133807111468222, 0.9998362866008658, 0.9996073176308566, 0.9999240819710333, 0.07728116448544357, 0.38551267028292135, 0.003760640607564164, 0.5333528541677875, 0.9996840684271922, 0.004582469801779165, 0.00016663526551924238, 0.027066328127911227, 0.03429115714006695, 0.0013092770862226186, 0.00014283022758792205, 0.00013092770862226186, 0.02178160970715811, 0.003618365765560692, 0.0008926889224245127, 0.052216350702351165, 0.5059760812302139, 2.380503793132034e-05, 9.522015172528136e-05, 0.049478771340249326, 0.2982057101656499, 0.9996547823565995, 0.3103059201860361, 0.0001253761293680954, 0.6894433353951566, 0.9999710305515319, 0.3537539129955585, 8.352412740282585e-06, 4.176206370141293e-06, 0.644079603641411, 0.0021507462806227657, 0.18084460811639666, 0.46115019216457775, 0.15906639084618124, 0.052381594479995255, 0.11244961858477241, 0.03407294613763278, 0.999977175582975, 0.21901695398722767, 0.10090483616192641, 0.6800659697033301, 0.9999629955794743, 0.9997751140296619, 0.47156407961162555, 0.5247356972387026, 0.003708379485785884, 0.9998496862459055, 0.2127742691841486, 0.24282439376140877, 0.5312571217602399, 0.010735649344940527, 0.0023749292004608845, 0.99980997539292, 0.9996765220881193, 0.9999670120595432, 0.0004004303754156617, 0.0015107145981590872, 0.290293820795654, 0.0243352459968518, 0.02872177874572337, 0.15467533319464968, 0.49893624776791445, 0.0011102842227434255, 0.9996677382520978, 0.9999127035495757, 0.9994592804370908, 0.02662492472774695, 0.00572669177810658, 0.018029419181741023, 0.00019319838589411124, 0.28592996587072056, 0.0028068444743106725, 0.07400591755513672, 0.002661034371749079, 0.0027703919486702744, 0.161882021116445, 0.0011591903153646674, 0.0007910198063966441, 0.001275838397413942, 0.002157989517911582, 4.009777820443818e-05, 0.396690965029071, 5.467878846059752e-05, 0.0002114246487143104, 0.00042649454999266065, 0.005311132985806039, 0.0020231151730421082, 8.748606153695603e-05, 3.6452525640398346e-06, 0.008690282112670965, 0.00027703919486702744, 6.925979871675686e-05, 9.842181922907554e-05, 0.9998125603356841, 0.9998241191316789, 0.9998292503955706, 0.9995958363280114, 0.9998472963586995, 0.999935130869517, 0.9999662715854561, 0.9999902247056155, 0.9998402731073293, 0.9998219273391522, 0.13154108488794555, 0.8684584274591771, 0.7230965926554758, 0.040775915058398726, 0.0532497940711919, 0.12110709061753505, 0.0015636484003096987, 0.055474210021309894, 0.004726253390613509, 0.07253962752488124, 0.9274372334742952, 0.7601809398180188, 0.13201410281846482, 0.08020558605604847, 0.01525266827968574, 7.529525949069125e-05, 0.003409799608364161, 0.008857949455797749, 0.9994984402778309, 0.23898818942015287, 4.698941986239734e-06, 0.1077232450345459, 0.2976121896404798, 0.24936815226775644, 2.349470993119867e-05, 0.09557178105812995, 0.0020581365899730035, 0.00864135431269487, 0.9995435260494298, 0.999976281424993, 0.8912972452407657, 0.0006716633347707352, 0.06474834547189888, 0.043120786092281205, 0.22137115675905064, 0.02797188971445876, 0.2821917743512281, 0.07682337623678996, 0.007584841399384396, 0.12538703606785642, 0.0036748576849502702, 0.0006851086031512362, 0.033402084826417815, 0.047308978690975896, 0.021976175962620425, 0.0366999300847819, 0.02010530246939974, 0.005760587722354478, 0.01231776621701202, 0.02245453581570827, 0.0023715297801388947, 0.007092292906586318, 0.002732326618484812, 0.003123527684781228, 0.0048687303691398506, 0.0018201997799698526, 0.019075612616142854, 0.0044998257366738, 0.005407898678128693, 4.053897060066486e-06, 0.0025397665081316537, 5.270066178086433e-05, 4.6619816190764594e-05, 0.0006465965810806046, 0.9999139354014127, 0.9911793122175849, 0.00848854677891166, 0.9998909005216121, 0.9997582606047951, 0.00021883731216040169, 0.1033896074978736, 0.018081946184747004, 0.06441032438470187, 0.10805548981016576, 0.23414005461740384, 0.4404037755333227, 0.03151122785412051, 0.591499209526571, 0.07369839422148974, 0.06340552703648049, 7.325884117444308e-05, 0.05503936737435909, 0.11510429125328499, 0.029215625860367904, 0.0032233890116754958, 0.01462246469841884, 0.02498859072460254, 0.0003955977423419927, 0.0011721414587910893, 0.004197731599295589, 4.395530470466585e-05, 0.002564059441105508, 0.020732252052367395, 0.9999367305177226, 0.07431420793471326, 0.06436022254427307, 0.23405947210602784, 0.13636384610025012, 0.0579432785094867, 0.1357793863556943, 0.009324101313405955, 0.0194446425896004, 0.0868785782982473, 0.026824582472929508, 0.021322181665375556, 0.02183699076679777, 0.01263099271783574, 0.028284217689903093, 0.00835807717603132, 0.006071719107950289, 0.010602039200465816, 0.008143068668966746, 0.00249833828631371, 0.005211685079691994, 0.001580766770249402, 0.004612083890976703, 8.176379846117596e-05, 0.00864879290389328, 0.008137012091302956, 0.00022106508472836465, 0.004902799618838663, 4.2396043646535684e-05, 3.3311177150849464e-05, 0.0010084201810211702, 0.00036945123749123953, 0.00010296182028444381, 0.9999160588970811, 0.0018981121913567364, 0.2721777845303054, 0.008857856892998103, 0.7170262599228205, 0.9999669700603302, 0.0009202439422886431, 0.17288316195795975, 0.3279749410316724, 0.01631899257658527, 6.134959615257621e-05, 0.4818397281823335, 0.9998979810966824, 0.9997748605075196, 0.3488473007618725, 0.6510694373186252, 0.9998539495227509, 0.0024428126349795858, 0.015942050328682036, 0.0023152762323501294, 0.20537285020346444, 0.06781993472134087, 0.0012066905787248556, 0.23066429989413662, 4.905246254979088e-05, 0.0289213319193567, 0.002854853320397829, 0.07007634799863124, 0.36801119503355106, 0.00012753640262945628, 9.810492509958175e-06, 0.004179269809242183, 0.04458277263544479, 0.1290678673572312, 0.23571104442540478, 0.16331217643801138, 0.018751425301153854, 0.16390463853283455, 0.00025179639029985427, 0.0004739696758585492, 0.16760752662547948, 0.0026660794267043394, 0.00833890398463635, 0.0022513559603281087, 0.06308240154629878, 0.9996348004445769, 0.0006230884729958023, 0.00471470277900157, 0.0033439081384108054, 0.1943205251116242, 0.17749713634073752, 0.4146446091629399, 0.1684623534822984, 0.03582758719725863, 0.00010384807883263371, 4.153923153305348e-05, 0.00041539231533053485, 0.17124895163682172, 0.8196204230514393, 0.009055467477857787, 0.9997196521277831, 0.9997809667489456, 0.9998395825191562, 0.9996865343954936, 0.9997911479078928, 0.9998611764569523, 0.9998923839192896, 0.03996756496642022, 0.9599605588544813, 0.9997948743222099, 0.9995982398185425, 0.9994675032751807, 0.9999370603725332, 0.9997425228566355, 0.7877048790891525, 0.21214994249782662, 0.16983026443336258, 0.0007222645919931937, 0.0002764222512566544, 0.2971450032540887, 0.001301859634950695, 0.09639111406723981, 0.03394643582368011, 0.10593214015900175, 0.0002140043235535389, 0.06262301517985432, 7.13347745178463e-05, 0.034775702577450066, 0.022622040368972005, 0.025002838468505127, 0.024218155948808818, 0.007392066009411822, 0.1175329578649665, 0.9997317638952282, 0.9996357469717958, 0.27269304455177007, 0.6669886252334423, 0.06028709243649484, 0.9998478378236489, 0.9999917671611288, 0.9999592807931132, 0.9999937292689579, 0.9994298547106761, 0.999670660903666, 0.9997740680542726, 0.9995700922411336, 0.9998179696551528, 0.096479097846057, 0.8383784445898217, 0.009135753884992485, 0.05595649254557897, 0.13185563661066957, 0.17371045698862841, 0.43170416190899974, 0.15794551138207627, 0.10478507860317456, 0.999877254115756, 0.9999005218051695, 0.9997546832536737, 0.9997633286043414, 0.023228851686890043, 0.018028632939512942, 0.058094778253581274, 5.435768725481289e-05, 0.05296250661527269, 0.45693071906395716, 0.027971559899872465, 0.02570665626425526, 0.008525097284463155, 0.025298973609844167, 0.011107087429066766, 0.07116327223109255, 0.00011324518178086018, 3.623845816987526e-05, 0.1007655627486094, 0.11286920777734773, 0.00010418556723839137, 1.3589421813703222e-05, 0.0002400797853754236, 0.006658816688714579, 4.529807271234407e-06, 4.529807271234407e-06, 0.00011777498905209459, 0.9503392757563526, 0.006470684909288908, 0.0007946455151758309, 0.04234325388008356, 0.9998626177391372, 0.024484443602180418, 0.07706125073191475, 0.2964585632186762, 0.001367346276322184, 0.06425249604998076, 4.259645720629858e-06, 1.2778937161889572e-05, 0.11981957447559725, 0.2146563267997004, 0.000327992720488499, 0.00040466634345983645, 0.11619461596734125, 1.703858288251943e-05, 1.2778937161889572e-05, 2.5557874323779144e-05, 0.002112784277432409, 2.1298228603149287e-05, 0.0009456413499798283, 2.5557874323779144e-05, 0.03244998109975825, 8.519291441259715e-06, 0.04933947638205564, 0.999807201066943, 0.9996200128036552, 0.9996166993093233, 0.029652167121173134, 0.00036482502268018894, 0.0014187639770896236, 0.07726183258093779, 0.3155128404479167, 8.107222726226421e-05, 0.04154951647191041, 0.0813762481144977, 0.016376589906977372, 0.021544944394946714, 2.0268056815566052e-05, 0.4148060507873748, 0.9998075144401153, 0.99910660334695, 0.2789249178180686, 0.7210160929334177, 0.999909912737064, 0.9999388255343086, 0.06275823120763253, 0.7769355760085174, 0.1524937496612039, 5.148337260675352e-05, 0.002368235139910662, 0.00540575412370912, 0.022306929808502064, 0.16338482293775441, 0.00018141177856311917, 0.23516341665589524, 0.22833695861811268, 0.3506152163244166, 6.718954761597007e-06, 0.15336275053308157, 0.18404977565154623, 0.6625936673574148, 0.9996819950732214, 0.9996757115010131, 0.022030292773700364, 0.00023498978958613723, 0.6786505123247644, 0.020279618841283643, 0.16671350622188505, 0.05596281838993858, 0.03569494903813424, 1.1749489479306861e-05, 0.00011749489479306862, 0.0011866984374099931, 0.000681470389799798, 0.002044411169399394, 0.016378788334153765, 0.9996516597021244, 0.0980760251950915, 0.0588500374381098, 0.6009381523480102, 0.04155876211344256, 0.008877809517715982, 0.10444416751415053, 0.00012161382900980796, 0.005163059831598211, 0.0003206182764804028, 2.2111605274510538e-05, 0.0001105580263725527, 0.0701711793386592, 2.2111605274510538e-05, 0.000574901737137274, 0.00012161382900980796, 1.1055802637255269e-05, 0.0001768928421960843, 0.004731883528745255, 6.633481582353162e-05, 0.0007186271714215925, 8.844642109804215e-05, 0.0011276918690000374, 0.003703693883480515, 0.9999110297430847, 0.9996044720306957, 0.975598432314972, 0.02418702175547392, 0.3027015697680497, 0.055882972170175405, 0.4580659779401115, 0.03313483251210033, 0.08411938904000704, 0.0005642154142927301, 0.022209570398977467, 0.034365847961466287, 0.00625766186761028, 2.5646155195124098e-05, 0.002667200140292906, 0.9994649993263536, 0.9997400872092526, 0.1716525879361971, 0.039299628157940476, 0.16356916720958378, 0.3507724185332838, 0.04520031641444762, 0.0001357680483798103, 0.10604528948066107, 0.024417361316307423, 0.019905684631686037, 0.02770712556551052, 0.009691749915112614, 0.026495656826121445, 0.015112028154275809, 0.9996734680413307, 0.9997053489220566, 0.9998367800195791, 0.9994437210168956, 0.9994493643572206, 0.9997155133550828, 0.999810964416446], \"Term\": [\"$\", \"$\", \"$_1.50\", \"$_1.99\", \"$_13\", \"$_14\", \"$_14\", \"$_15\", \"$_15\", \"$_17\", \"$_18\", \"$_19\", \"$_20\", \"$_20\", \"$_20\", \"$_24\", \"$_28\", \"$_30\", \"$_30\", \"$_30\", \"$_30\", \"$_50\", \"$_50\", \"$_6.50\", \"$_7.50\", \"$_7.77\", \"$_70\", \"$_9\", \"$_9\", \"$_9\", \"$_9\", \"'s\", \"'s\", \"'s\", \"'s\", \"'s\", \"'s\", \"'s\", \"'s\", \"'s\", \"'s\", \"'s\", \"'s\", \"'s\", \"'s\", \"'s\", \"'s\", \"'s\", \"'s\", \"'s\", \"'s\", \"'s\", \"'s\", \"'s\", \"'s\", \"'s\", \"'s\", \"'s\", \"'s\", \"'s\", \"'s\", \"'s\", \"'s\", \"'s\", \"'s\", \"'s\", \"'s\", \"'s\", \"+\", \"+\", \"+\", \"+\", \"+_+\", \"-the\", \"0\", \"1\", \"1\", \"1\", \"1\", \"1\", \"1\", \"1.5_hour\", \"10\", \"10\", \"10\", \"10\", \"10/10\", \"100\", \"10_minute\", \"10_minute\", \"11\", \"11\", \"11\", \"11:30\", \"11_pm\", \"12\", \"12\", \"12\", \"15_min\", \"15_minute\", \"15_minute\", \"15_minute_later\", \"18\", \"1st\", \"1st\", \"2\", \"2\", \"2\", \"2\", \"2\", \"2\", \"2\", \"2\", \"2\", \"2\", \"2\", \"2\", \"2\", \"2\", \"2\", \"2\", \"2.5\", \"2.5_star\", \"2/5\", \"20%\", \"2015\", \"20_min\", \"20_minute\", \"20_minute\", \"20_minute\", \"24\", \"24/7\", \"25_min\", \"2nd\", \"2nd\", \"2nd\", \"3\", \"3\", \"3\", \"3\", \"3\", \"3\", \"3\", \"3\", \"3\", \"3\", \"3\", \"3\", \"3\", \"3\", \"3\", \"3\", \"3\", \"3\", \"3\", \"3\", \"3.5\", \"3/5\", \"30_min\", \"30_minute\", \"30_minute\", \"30_minute\", \"30min\", \"3rd\", \"3rd\", \"4\", \"4\", \"4\", \"4\", \"4\", \"4\", \"4\", \"4\", \"4\", \"4\", \"4\", \"4\", \"4.5\", \"4/5\", \"40_min\", \"40_minute\", \"40_minute\", \"45_min\", \"45_minute\", \"45_minute\", \"45_minute\", \"4th\", \"4th\", \"5\", \"5\", \"5\", \"5\", \"5\", \"5-star\", \"5/5\", \"50%\", \"5_stars\", \"5church\", \"5th\", \"6\", \"6\", \"6\", \"6\", \"6\", \"6\", \"6\", \"7\", \"7\", \"7\", \"7/10\", \"70\", \"7:30\", \"7_pm\", \"7_pm\", \"8\", \"8\", \"8\", \"80\", \"80\", \"80\", \"8_pm\", \"8_pm\", \"9:30\", \":d\", \"=\", \"=(\", \"=)\", \"a+\", \"aber\", \"above_average\", \"absolute\", \"absolute\", \"absolute_favorite\", \"absolutely\", \"absolutely\", \"absolutely\", \"absolutely\", \"absolutely\", \"absolutely\", \"absolutely\", \"absolutely\", \"absolutely\", \"ac\", \"accommodating\", \"accommodating\", \"accommodating\", \"accurate\", \"actually\", \"actually\", \"actually\", \"actually\", \"actually\", \"actually\", \"actually\", \"actually\", \"actually\", \"actually\", \"actually\", \"actually\", \"actually\", \"actually\", \"actually\", \"actually\", \"actually\", \"actually\", \"actually\", \"actually\", \"actually\", \"actually\", \"actually\", \"actually\", \"actually\", \"actually\", \"ad\", \"add\", \"add\", \"add\", \"add\", \"add\", \"add\", \"add\", \"add\", \"add\", \"add\", \"add\", \"add\", \"add\", \"add\", \"add\", \"add\", \"add\", \"add\", \"add\", \"add\", \"add\", \"add\", \"add\", \"add\", \"add\", \"add\", \"add\", \"add\", \"addict\", \"adorable\", \"adult\", \"adult\", \"adult\", \"adult\", \"afford\", \"affordable\", \"affordable\", \"affordable\", \"affordable\", \"affordable\", \"affordable\", \"ah\", \"ahead\", \"ahead\", \"ahead\", \"ahead\", \"ahead\", \"ahead\", \"ahi\", \"ahi_tuna\", \"aioli\", \"airport\", \"al\", \"al\", \"al_pastor\", \"aladdin_'s\", \"alcohol\", \"alcohol\", \"alcohol\", \"alcohol\", \"alcohol\", \"alcohol\", \"alcohol\", \"alcohol\", \"ale\", \"alex\", \"alfredo\", \"alike\", \"alot\", \"alright\", \"alright\", \"alright\", \"alright\", \"alright\", \"alright\", \"alright\", \"alright\", \"alright\", \"alright\", \"alright\", \"alright\", \"alternative\", \"alternative\", \"alternative\", \"alternative\", \"amanda\", \"amaze\", \"amazed\", \"amazing\", \"amazing\", \"amazing\", \"amazing\", \"amazing\", \"amazing\", \"amazing\", \"ambiance\", \"ambiance\", \"ambiance\", \"ambiance\", \"ambiance\", \"ambiance\", \"ambiance\", \"ambiance\", \"ambiance\", \"american\", \"american\", \"american\", \"american\", \"american\", \"american\", \"american\", \"american\", \"american\", \"american\", \"american\", \"american\", \"american\", \"american\", \"american\", \"american\", \"amy\", \"angel\", \"anniversary\", \"answer\", \"answer\", \"antipasto\", \"anymore\", \"anymore\", \"anymore\", \"anymore\", \"anywhere_else\", \"anywhere_else\", \"anywhere_else\", \"anywhere_else\", \"apartment\", \"apologetic\", \"apologize\", \"apologize\", \"appetizer\", \"appetizer\", \"appetizer\", \"appetizer\", \"appetizer\", \"appetizer\", \"appetizer\", \"appetizer\", \"appetizer\", \"appetizer\", \"appetizer\", \"appetizer\", \"apple_pie\", \"area\", \"area\", \"area\", \"area\", \"area\", \"area\", \"area\", \"area\", \"area\", \"area\", \"area\", \"area\", \"area\", \"area\", \"area\", \"area\", \"area\", \"area\", \"area\", \"area\", \"area\", \"area\", \"area\", \"area\", \"aria\", \"arizona\", \"arizona\", \"around_noon\", \"arrange\", \"arrive\", \"arrive\", \"arrive\", \"arrive\", \"arrive\", \"arrogant\", \"art\", \"artichoke_dip\", \"ashamed\", \"ashley\", \"asian\", \"asian\", \"asian\", \"asian\", \"asian_cuisine\", \"ask\", \"ask\", \"ask\", \"ask\", \"ask\", \"ask\", \"ask\", \"ask\", \"ask\", \"ask\", \"asparagus\", \"asparagus\", \"asparagus\", \"asparagus\", \"ate\", \"atmosphere\", \"atmosphere\", \"atmosphere\", \"atmosphere\", \"atmosphere\", \"atmosphere\", \"atmosphere\", \"atop\", \"attack\", \"attentive\", \"attentive\", \"attentive\", \"attentive\", \"attentive\", \"attentive\", \"attentive\", \"attentive\", \"attentive\", \"attentive\", \"attentive\", \"attire\", \"au\", \"auch\", \"aunt\", \"aureole\", \"authentic\", \"authentic\", \"authentic\", \"authentic\", \"authentic\", \"authentic\", \"authentic\", \"authentic\", \"authentic\", \"authentic\", \"authentic\", \"authentic_mexican\", \"available\", \"available\", \"available\", \"available\", \"available\", \"available\", \"available\", \"available\", \"available\", \"available\", \"available\", \"available\", \"available\", \"available\", \"available\", \"available\", \"average\", \"avocado\", \"avocado\", \"avocado\", \"avocado\", \"avocado\", \"avocado\", \"avocado\", \"awesome\", \"awesome\", \"awesome\", \"awesome\", \"awesome\", \"awesome\", \"awesome\", \"awesome\", \"awesome\", \"awesome\", \"awesome\", \"awesome\", \"awful\", \"awkwardly\", \"ayce\", \"ayce_sushi\", \"az\", \"b\", \"b_c\", \"bacchanal\", \"bacchanal_buffet\", \"bachelorette_party\", \"bacon\", \"bacon\", \"bacon\", \"bacon\", \"bacon\", \"bacon_wrap\", \"bad\", \"bad\", \"bad\", \"bad\", \"bad\", \"bad\", \"bad\", \"bad\", \"bad\", \"bad\", \"bad\", \"bad\", \"bad\", \"bad\", \"bad\", \"badly\", \"bag\", \"bag\", \"bag\", \"bag\", \"bag\", \"bag\", \"bagel\", \"bahn_mi\", \"baja\", \"bake_potato\", \"baked_potato\", \"baked_ziti\", \"bakery\", \"bakery\", \"baklava\", \"balance\", \"balance\", \"balance\", \"balance\", \"banana\", \"banana_pepper\", \"band\", \"banh_mi\", \"bank\", \"bannock\", \"bar\", \"bar\", \"bar\", \"bar\", \"barbecue\", \"bargain\", \"barista\", \"barrio_queen\", \"barro_'s\", \"bartender\", \"basement\", \"bay_area\", \"bbq\", \"bday\", \"bean\", \"bean\", \"bean_sprout\", \"bean_sprout\", \"beau\", \"beautiful\", \"beautiful\", \"beautiful\", \"beautiful\", \"beautiful\", \"beautiful\", \"beautiful\", \"beautiful\", \"bed\", \"bed\", \"bed\", \"bed\", \"bed\", \"bed\", \"beef\", \"beef\", \"beef\", \"beef\", \"beef\", \"beef\", \"beef\", \"beef_brisket\", \"beef_carpaccio\", \"beer\", \"beet\", \"beignet\", \"bellagio\", \"bellagio_fountain\", \"belly_dance\", \"belly_dancer\", \"benedict\", \"benihana\", \"bento_box\", \"bernard\", \"berry\", \"best\", \"best\", \"best\", \"best\", \"best\", \"best\", \"best\", \"best\", \"best\", \"best\", \"best\", \"best\", \"best\", \"best\", \"best\", \"best\", \"best\", \"best\", \"best\", \"beware\", \"bibimbap\", \"bien\", \"big\", \"big\", \"big\", \"big\", \"big\", \"big\", \"big\", \"big\", \"big\", \"big\", \"big\", \"big\", \"big\", \"big\", \"big\", \"big\", \"big\", \"big\", \"big\", \"big\", \"big\", \"big\", \"big\", \"big\", \"big\", \"big\", \"big\", \"big\", \"big\", \"big\", \"bill\", \"bill\", \"bird\", \"birthday\", \"biryani\", \"biscuit\", \"bistro\", \"bistro\", \"bit\", \"bit\", \"bit\", \"bit\", \"bit\", \"bit\", \"bit\", \"bit\", \"bit\", \"bit\", \"bit\", \"bit\", \"bit\", \"bit\", \"bit\", \"bit\", \"bit\", \"bit\", \"bit\", \"bit\", \"bit\", \"bite\", \"bite\", \"bite\", \"bite\", \"bite\", \"bite\", \"bite\", \"bite\", \"bite\", \"bite\", \"bite\", \"bite\", \"bite\", \"bite\", \"bite\", \"black\", \"black\", \"black\", \"black\", \"black\", \"black\", \"black\", \"black\", \"black\", \"black\", \"black\", \"black\", \"black\", \"black\", \"black\", \"black\", \"black_bean\", \"black_bean\", \"black_bean\", \"black_bean\", \"black_cherry\", \"black_cod\", \"blacken\", \"bland\", \"bland\", \"bland\", \"bland\", \"bland\", \"bland\", \"bland\", \"blast\", \"block_away\", \"bloody_mary\", \"blt\", \"blue_corn\", \"blueberry_pancake\", \"blues\", \"boba\", \"bobby\", \"bobby_flay\", \"bodega\", \"bomb\", \"bon\", \"bone\", \"bone\", \"bone\", \"bone\", \"bone_marrow\", \"boneless\", \"boneless\", \"boo\", \"boot\", \"booth\", \"booth\", \"booth\", \"bore\", \"bore\", \"bosa\", \"boston\", \"bottle\", \"bottle\", \"bottomless\", \"bottomless_mimosas\", \"bouchon\", \"bowl\", \"bowl\", \"bowl\", \"bowl\", \"bowl\", \"bowl\", \"bowl\", \"bowl\", \"bowling\", \"braise_short_rib\", \"branch\", \"brand\", \"brand\", \"brazilian\", \"brazilian\", \"bread\", \"bread\", \"bread\", \"bread_pudding\", \"breaded\", \"breadstick\", \"break\", \"break\", \"break\", \"break\", \"break\", \"break\", \"break\", \"break\", \"break\", \"break\", \"break\", \"break\", \"break\", \"break\", \"break\", \"break\", \"break\", \"break\", \"breakfast\", \"breast\", \"brew\", \"brew\", \"brewery\", \"brian\", \"brie\", \"bright\", \"bright\", \"bright\", \"bright\", \"bright\", \"bright\", \"brine\", \"bring\", \"bring\", \"bring\", \"bring\", \"bring\", \"bring\", \"bring\", \"bring\", \"bring\", \"bring\", \"bring\", \"bring\", \"bring\", \"bring\", \"bring\", \"bring\", \"bring\", \"bring\", \"bring\", \"bring\", \"bring\", \"bring\", \"bring\", \"bring\", \"brio\", \"brisket\", \"british\", \"bro\", \"broccoli\", \"broccoli\", \"broccoli\", \"broccoli\", \"broth\", \"brother\", \"brown_rice\", \"brown_rice\", \"brownie\", \"brownie\", \"brunch\", \"bubble_tea\", \"buck\", \"buck\", \"bucket\", \"buddy\", \"buddy\", \"budget\", \"buffalo\", \"buffalo_wing\", \"buffet\", \"bug\", \"build\", \"build\", \"build\", \"build\", \"build\", \"build\", \"build\", \"building\", \"building\", \"building\", \"bulgogi\", \"bump\", \"bun\", \"bun\", \"burgatory\", \"burger\", \"burgers\", \"burgh\", \"burgr\", \"burn\", \"burn\", \"burn\", \"burn\", \"burn\", \"burn\", \"burn\", \"burrata\", \"burrito\", \"bus_boy\", \"busboy\", \"business\", \"business\", \"business\", \"business\", \"business\", \"business\", \"business\", \"busser\", \"bustle\", \"busy\", \"busy\", \"busy\", \"busy\", \"busy\", \"busy\", \"busy\", \"butcher\", \"butcher_shop\", \"butter\", \"butter\", \"butter\", \"butter\", \"butter\", \"butter\", \"butter\", \"butter\", \"buttermilk\", \"buttery\", \"buttery\", \"buzz\", \"buzz\", \"c\", \"c'\", \"c'est\", \"cab\", \"caesar_salad\", \"caesar_salad\", \"caesar_salad\", \"caesars\", \"cafe\", \"cafe\", \"cafeteria\", \"caf\\u00e9\", \"cake\", \"cake\", \"cake\", \"calamari\", \"cali\", \"caliber\", \"california_roll\", \"call_ahead\", \"call_ahead\", \"calzone\", \"camelback\", \"canada\", \"canada\", \"canadian\", \"cancel\", \"candle\", \"candle\", \"cappuccino\", \"caprese\", \"car\", \"car\", \"car\", \"caramel\", \"caramelize_onion\", \"carbonara\", \"careful\", \"caribbean\", \"carne_asada\", \"carne_asada_burrito\", \"carne_asada_tacos\", \"carnita\", \"carnival_world_buffet\", \"carnivore\", \"carpet\", \"carrot_cake\", \"cart\", \"carve\", \"carving_station\", \"cashew\", \"cashier\", \"cashier\", \"casino\", \"casino\", \"casino_floor\", \"cat\", \"catering\", \"catfish\", \"cauliflower\", \"cave_creek\", \"ceiling\", \"celebrate\", \"celebrity_chef\", \"celery\", \"celery\", \"celiac\", \"cent\", \"central\", \"certainly\", \"certainly\", \"certainly\", \"certainly\", \"certainly\", \"certainly\", \"certainly\", \"certainly\", \"certainly\", \"certainly\", \"certainly\", \"certainly\", \"certainly\", \"certainly\", \"certainly\", \"certainly\", \"certainly\", \"certainly\", \"certainly\", \"certainly\", \"certainly\", \"cesar_salad\", \"chain\", \"chain\", \"chain\", \"chain\", \"chain\", \"chain\", \"chain\", \"chain\", \"chain\", \"chain\", \"chain\", \"chain\", \"chain\", \"chain\", \"chair\", \"chair\", \"champagne\", \"champagne\", \"champagne\", \"chandler\", \"chandler\", \"change\", \"change\", \"change\", \"change\", \"change\", \"change\", \"change\", \"change\", \"change\", \"change\", \"change\", \"change\", \"change\", \"change\", \"chaos\", \"chaotic\", \"charcuterie\", \"charge\", \"charge\", \"charge\", \"charlotte\", \"charlotte\", \"charlotte\", \"charlotte\", \"charming\", \"chashu\", \"cheap\", \"cheap\", \"cheap\", \"cheap\", \"cheap\", \"cheap\", \"cheap\", \"cheap\", \"cheap\", \"cheap\", \"cheap\", \"cheap\", \"cheat\", \"check\", \"check\", \"check\", \"check\", \"check\", \"check\", \"check\", \"check\", \"check\", \"check\", \"check\", \"check\", \"check\", \"check\", \"check\", \"check\", \"check\", \"check\", \"check\", \"check\", \"check\", \"check\", \"check\", \"check\", \"check\", \"cheddar\", \"cheddar\", \"cheddar\", \"cheese\", \"cheese\", \"cheese\", \"cheese\", \"cheese\", \"cheese\", \"cheese\", \"cheese\", \"cheese_curd\", \"cheeseburger\", \"cheesecake\", \"cheesecake_factory\", \"cheesesteak\", \"chef\", \"chef\", \"chef\", \"chef\", \"chef\", \"chef\", \"chef\", \"chef\", \"chelsea_'s\", \"cherry_blossom\", \"cherryblossom\", \"chicago\", \"chicago\", \"chicago_style\", \"chick\", \"chicken\", \"chicken\", \"chicken\", \"chicken\", \"chicken\", \"chicken_breast\", \"chicken_breast\", \"chicken_marsala\", \"chicken_parm\", \"child\", \"child\", \"child\", \"child\", \"child\", \"chile\", \"chile_relleno\", \"chili\", \"chili\", \"chili_oil\", \"chill\", \"chill\", \"chill\", \"chill\", \"chilli\", \"chimichurri\", \"china\", \"chinatown\", \"chinese\", \"chinese\", \"chino\", \"chino_bandido\", \"chip\", \"chip_cookie\", \"chipotle\", \"chips\", \"chive\", \"chocolate\", \"chocolate\", \"chocolate_cake\", \"chocolate_cover_strawberry\", \"choice\", \"choice\", \"choice\", \"choice\", \"choice\", \"choice\", \"choice\", \"choice\", \"choice\", \"choice\", \"choice\", \"choice\", \"choice\", \"choice\", \"choice\", \"choice\", \"choice\", \"choice\", \"choice\", \"choice\", \"choice\", \"choice\", \"choice\", \"choice\", \"choice\", \"choice\", \"choice\", \"choice\", \"choose\", \"choose\", \"choose\", \"choose\", \"choose\", \"choose\", \"choose\", \"choose\", \"choose\", \"choose\", \"choose\", \"choose\", \"choose\", \"choose\", \"choose\", \"choose\", \"choose\", \"choose\", \"choose\", \"choose\", \"choose\", \"choose\", \"chop\", \"chop\", \"chop\", \"chop\", \"chop\", \"chop\", \"chop\", \"chop\", \"chop\", \"chorizo\", \"chose\", \"chow_mein\", \"chris\", \"chris\", \"christmas\", \"church\", \"churro\", \"churros\", \"chutney\", \"cider\", \"cilantro\", \"cilantro\", \"cilantro\", \"cilantro\", \"circus_circus\", \"city\", \"city\", \"city\", \"city\", \"city\", \"city\", \"city\", \"city\", \"city\", \"city\", \"city\", \"city\", \"clam\", \"clam_chowder\", \"clam_chowder\", \"classy\", \"classy\", \"classy\", \"classy\", \"classy\", \"clean\", \"clean\", \"clean\", \"clean\", \"clean\", \"clean\", \"clean\", \"clean\", \"clean\", \"clean\", \"clean\", \"clean\", \"clean\", \"cleveland\", \"cleveland\", \"cleveland\", \"client\", \"client\", \"client\", \"close\", \"close\", \"close\", \"close\", \"close\", \"close\", \"close\", \"close\", \"close\", \"close\", \"close\", \"close\", \"close\", \"close\", \"close\", \"close\", \"close\", \"close\", \"close\", \"close\", \"close\", \"close\", \"close\", \"club\", \"club\", \"club\", \"clueless\", \"co_worker\", \"co_worker\", \"co_worker\", \"co_worker\", \"cobb_salad\", \"cockroach\", \"cocktail\", \"cocktail\", \"cocktail\", \"cocktail\", \"cocktail\", \"cocktail\", \"coconut\", \"coconut\", \"coconut\", \"cod\", \"coffee\", \"coffee_shop\", \"coke\", \"cold\", \"cold\", \"cold\", \"cold\", \"cold\", \"cold\", \"cold\", \"cold\", \"cold\", \"cold\", \"cold\", \"cold\", \"cold\", \"cold\", \"cold\", \"cole_slaw\", \"coleslaw\", \"collard_green\", \"colleague\", \"colleague\", \"colleague\", \"collection\", \"collection\", \"college\", \"college_student\", \"combo\", \"combo\", \"combo\", \"combo\", \"combo\", \"combo\", \"combo\", \"combo\", \"combo\", \"combo\", \"combo\", \"combo\", \"come\", \"come\", \"come\", \"come\", \"come\", \"come\", \"come\", \"come\", \"come\", \"come\", \"come\", \"come\", \"come\", \"come\", \"come\", \"come\", \"come\", \"come\", \"come\", \"come\", \"come\", \"come\", \"come\", \"come\", \"come\", \"come\", \"come\", \"come\", \"come\", \"comfortable\", \"comfortable\", \"comfortable\", \"comfortable\", \"comfortable\", \"commercial\", \"communicate\", \"comp\", \"comp\", \"comp\", \"comp\", \"company\", \"company\", \"company\", \"company\", \"company\", \"company\", \"company\", \"company\", \"company\", \"compare\", \"compare\", \"compare\", \"compare\", \"compare\", \"compare\", \"compare\", \"compare\", \"compare\", \"compare\", \"compare\", \"compare\", \"compare\", \"compare\", \"compare\", \"compare\", \"competitor\", \"con\", \"con\", \"concept\", \"concept\", \"concept\", \"concept\", \"concept\", \"concept\", \"concept\", \"concept\", \"concept\", \"concept\", \"concept\", \"concept\", \"concert\", \"condiment\", \"condition\", \"cone\", \"conference\", \"congee\", \"consider\", \"consider\", \"consider\", \"consider\", \"consider\", \"consider\", \"consider\", \"consider\", \"consider\", \"consider\", \"consider\", \"consider\", \"consider\", \"consider\", \"consider\", \"consider\", \"consider\", \"consider\", \"consider\", \"consider\", \"consider\", \"consider\", \"consider\", \"consider\", \"consistent\", \"consistently\", \"consistently\", \"consistently\", \"consistently\", \"consistently\", \"consumption\", \"contest\", \"conveniently_locate\", \"convention\", \"conversation\", \"conversation\", \"conversation\", \"conversation\", \"conversation\", \"converse\", \"convince\", \"convince\", \"convince\", \"convince\", \"cook\", \"cook\", \"cook\", \"cook\", \"cook\", \"cook\", \"cook\", \"cook\", \"cook\", \"cook\", \"cook\", \"cook\", \"cook\", \"cook\", \"cook\", \"cook\", \"cook\", \"cook\", \"cook\", \"cook\", \"cookie\", \"cookie\", \"cookie\", \"cooking\", \"cooking\", \"cooking\", \"cooking\", \"cool\", \"cool\", \"cool\", \"cool\", \"cool\", \"cool\", \"cool\", \"cool\", \"cool\", \"cool\", \"cool\", \"cool\", \"cool\", \"cool\", \"cool\", \"cool\", \"cool\", \"cool\", \"corn\", \"corn\", \"corn\", \"corn_beef\", \"corn_beef\", \"corn_tortilla\", \"cornbread\", \"corned_beef\", \"corner\", \"corner\", \"corner\", \"corner\", \"corner\", \"corner\", \"corner\", \"corner\", \"corner\", \"corner\", \"corner\", \"corner\", \"corner\", \"corner\", \"corporate\", \"cosmo\", \"cosmopolitan\", \"cost\", \"cost\", \"cost\", \"cost\", \"cost\", \"costco\", \"couch\", \"couch\", \"counter\", \"counter\", \"counter\", \"counter\", \"country\", \"country\", \"country\", \"country\", \"country\", \"country\", \"couple\", \"couple\", \"couple\", \"couple\", \"couple\", \"couple\", \"couple\", \"couple\", \"couple\", \"couple\", \"couple\", \"couple\", \"couple\", \"couple\", \"couple\", \"couple\", \"couple\", \"couple\", \"couple\", \"couple\", \"couple\", \"couple\", \"couple\", \"couple\", \"couple\", \"couple\", \"couple\", \"couple\", \"couple\", \"coupon\", \"course\", \"course\", \"course\", \"course\", \"course\", \"course\", \"course\", \"course\", \"course\", \"course\", \"course\", \"course\", \"course\", \"course\", \"course\", \"course\", \"course\", \"course\", \"course\", \"course\", \"course\", \"course\", \"courteous\", \"courteous\", \"courtesy\", \"courtyard\", \"cousin\", \"cow\", \"coworker\", \"coworker\", \"coworker\", \"crab\", \"crab\", \"crab_cake\", \"crab_cake\", \"crab_leg\", \"crab_rangoon\", \"craft\", \"craft\", \"craft_beer\", \"craftsteak\", \"cramped\", \"crappy\", \"crappy\", \"crappy\", \"crawfish\", \"cream\", \"cream\", \"cream\", \"creamy\", \"creamy\", \"creamy\", \"creation\", \"creative\", \"creative\", \"creative\", \"creme_brule\", \"creme_br\\u00fbl\\u00e9e\", \"crepe\", \"crispy\", \"crispy\", \"crispy\", \"crispy\", \"crispy\", \"crispy\", \"crispy\", \"crispy\", \"crispy\", \"crispy\", \"criticism\", \"croissant\", \"croque_madame\", \"crouton\", \"crowd\", \"crowd\", \"crowd\", \"crowd\", \"crowd\", \"crowd\", \"crowd\", \"crowd\", \"crowd\", \"crust\", \"crust\", \"crystal\", \"cuban\", \"cuban_sandwich\", \"culinary\", \"culver_'s\", \"cup\", \"cup\", \"cup\", \"cup\", \"cup\", \"cup\", \"cup\", \"cup\", \"cup\", \"cup\", \"cup\", \"cup\", \"cup\", \"cup\", \"cupcake\", \"cure\", \"cure\", \"curry\", \"custom\", \"customer\", \"customer\", \"customer\", \"customer\", \"customer\", \"customize\", \"cut\", \"cut\", \"cut\", \"cut\", \"cut\", \"cut\", \"cut\", \"cut\", \"cut\", \"cut\", \"cut\", \"cut\", \"cut\", \"cut\", \"cut\", \"cut\", \"cut\", \"cut\", \"cut\", \"cuz\", \"cuz\", \"d\", \"da\", \"da_vang\", \"dad\", \"daily_special\", \"dairy\", \"damn\", \"damn\", \"damn\", \"damn\", \"damn\", \"damn\", \"dan\", \"dance\", \"dance_floor\", \"dancer\", \"dancing\", \"dang\", \"darn\", \"das\", \"date\", \"date\", \"date\", \"daughter\", \"daughter\", \"dave\", \"david\", \"day\", \"day\", \"day\", \"day\", \"day\", \"day\", \"day\", \"day\", \"day\", \"day\", \"day\", \"day\", \"day\", \"day\", \"day\", \"day\", \"day\", \"day\", \"day\", \"day\", \"day\", \"day\", \"day\", \"day\", \"day\", \"day\", \"day\", \"day\", \"day\", \"day\", \"day_ago\", \"day_ago\", \"de\", \"de_la\", \"deal\", \"deal\", \"deal\", \"deal\", \"deal\", \"deal\", \"deal\", \"deal\", \"deal\", \"deal\", \"deal\", \"deal\", \"deal\", \"deal\", \"deal\", \"deal\", \"deal\", \"deal\", \"deal\", \"deal\", \"deal\", \"deal\", \"deal\", \"deal\", \"dear\", \"decadent\", \"decent\", \"decent\", \"decent\", \"decent\", \"decent\", \"decent\", \"decent\", \"decent\", \"decent\", \"decent\", \"decent\", \"decent\", \"decent\", \"decent\", \"decent\", \"decent\", \"decide\", \"decide\", \"decide\", \"decide\", \"decide\", \"decide\", \"decide\", \"decide\", \"decide\", \"decide\", \"decide\", \"decide\", \"decide\", \"decide\", \"decide\", \"decide\", \"decide\", \"decide\", \"decide\", \"decide\", \"decide\", \"decide\", \"decide\", \"decline\", \"decor\", \"decor\", \"decor\", \"decor\", \"decor\", \"decor\", \"decor\", \"decor\", \"decor\", \"decor\", \"decor\", \"decor\", \"decorate\", \"decorate\", \"decoration\", \"decoration\", \"deep_dish\", \"def\", \"defiantly\", \"definately\", \"definite_must\", \"definitely\", \"definitely\", \"definitely\", \"definitely\", \"definitely\", \"definitely\", \"definitely\", \"definitely\", \"definitely\", \"definitely\", \"definitely\", \"definitely\", \"definitely\", \"definitely\", \"definitely\", \"definitely\", \"definitely\", \"definitely\", \"definitely\", \"definitely\", \"definitely\", \"definitely\", \"definitely\", \"definitely\", \"definitely\", \"delay\", \"delay\", \"deli\", \"delicious\", \"delicious\", \"delicious\", \"delicious\", \"delicious\", \"delicious\", \"delicious\", \"delicious\", \"delicious\", \"delicious\", \"delicious\", \"delicious\", \"delicious\", \"delicious\", \"delicious\", \"delicious\", \"delicious\", \"delicious\", \"delicious\", \"delicious\", \"delicous\", \"delish\", \"delish\", \"delish\", \"delish\", \"delish\", \"deliver\", \"delivery\", \"delmonico\", \"den\", \"denny_'s\", \"department\", \"der\", \"descent\", \"desert\", \"desert\", \"desert\", \"desert\", \"desert\", \"desert\", \"desert\", \"desert\", \"design\", \"design\", \"design\", \"design\", \"dessert\", \"dessert\", \"dessert\", \"dessert\", \"dessert\", \"dessert\", \"detail\", \"detail\", \"detail\", \"detail\", \"deter\", \"devil_egg\", \"deville\", \"diablo\", \"die\", \"die\", \"die\", \"die\", \"die\", \"diet\", \"diet\", \"diet\", \"diet\", \"diet\", \"diet_coke\", \"different\", \"different\", \"different\", \"different\", \"different\", \"different\", \"different\", \"different\", \"different\", \"different\", \"different\", \"different\", \"different\", \"different\", \"different\", \"different\", \"different\", \"different\", \"different\", \"different\", \"different\", \"different\", \"different\", \"different\", \"different\", \"different\", \"different\", \"dim_lighting\", \"dim_sum\", \"dimsum\", \"din\", \"din\", \"din\", \"din\", \"din\", \"din\", \"din\", \"din\", \"diner\", \"diner\", \"diner\", \"diner\", \"diner\", \"dining\", \"dining\", \"dining\", \"dining\", \"dining_experience\", \"dining_experience\", \"dining_experience\", \"dining_experience\", \"dining_experience\", \"dining_experience\", \"dinner\", \"dinner\", \"dinner\", \"dinner\", \"dinner\", \"dinner\", \"dinner\", \"dinner\", \"dinner\", \"dinner\", \"dinner\", \"dinner\", \"dinner\", \"dinner\", \"dinner\", \"dinner\", \"dinner\", \"dinner\", \"dinner\", \"dirty\", \"dirty\", \"disappear\", \"disappoint\", \"disappoint\", \"disappoint\", \"disappoint\", \"disappoint\", \"disappoint\", \"disappoint\", \"disappoint\", \"disappoint\", \"disappoint\", \"disappoint\", \"disappoint\", \"disappoint\", \"disappoint\", \"disappoint\", \"disappoint\", \"disappoint\", \"disappoint\", \"disappoint\", \"disappoint\", \"disappoint\", \"disappoint\", \"disappoint\", \"disappoint\", \"disappoint\", \"disappointed\", \"disappointed\", \"disappointed\", \"disappointed\", \"disappointed\", \"disappointed\", \"disappointed\", \"disappointed\", \"disappointed\", \"disappointed\", \"disappointed\", \"disappointed\", \"disappointed\", \"disappointed\", \"disappointed\", \"disappointed\", \"disappointed\", \"disappointed\", \"disappointed\", \"disappointed\", \"disappointed\", \"disappointing\", \"disappointing\", \"disappointing\", \"disappointing\", \"disappointing\", \"disappointing\", \"disappointing\", \"disappointing\", \"disappointing\", \"disco\", \"discount\", \"discount\", \"disgust\", \"disgusted\", \"disgusting\", \"dish\", \"dish\", \"dish\", \"dish\", \"dish\", \"dish\", \"dish\", \"dissapoint\", \"dissatisfied\", \"distract\", \"dive\", \"dive_bar\", \"dj\", \"dog\", \"dollar\", \"donut\", \"door\", \"door\", \"door\", \"dough\", \"dough\", \"dough\", \"dough\", \"doughnut\", \"down_hill\", \"downright\", \"downstair\", \"downtown\", \"downtown_phoenix\", \"dozen\", \"dozen\", \"dozen\", \"dozen\", \"dozen\", \"dozen\", \"dozen\", \"dozen\", \"dozen\", \"dozen\", \"dozen\", \"dozen\", \"draft\", \"dress\", \"dress\", \"dress\", \"dress\", \"dress\", \"dress\", \"dress\", \"dress\", \"dress\", \"dress\", \"dress\", \"dress_code\", \"dressing\", \"dressing\", \"drink\", \"drink\", \"drink\", \"drink\", \"drink\", \"drink\", \"drinking\", \"drinking\", \"drive\", \"drive\", \"drive\", \"drive\", \"drive\", \"drive\", \"drive\", \"drive\", \"drive\", \"drive\", \"drive\", \"drive\", \"drive_thru\", \"drive_thru\", \"driver\", \"drizzle\", \"drizzle\", \"drool\", \"drunk\", \"drunk\", \"dry\", \"dry\", \"dry\", \"dry\", \"dry\", \"dry\", \"dry\", \"dry\", \"dry\", \"dry\", \"dry\", \"dry\", \"du\", \"duck\", \"duck\", \"duck_confit\", \"duck_donuts\", \"dumpling\", \"earl\", \"early\", \"early\", \"early\", \"early\", \"early\", \"early\", \"early\", \"early\", \"early\", \"early\", \"early\", \"early\", \"earth\", \"east\", \"eat\", \"eat\", \"eat\", \"eat\", \"eat\", \"eat\", \"eat\", \"eat\", \"eat\", \"eat\", \"eat\", \"eat\", \"eat\", \"eat\", \"eat\", \"eat\", \"eat\", \"eat\", \"eat\", \"eat\", \"eat\", \"eat\", \"eat\", \"eat\", \"eat\", \"eat\", \"eat\", \"eat\", \"eat\", \"echo\", \"echo_rig\", \"edamame\", \"edible\", \"edible\", \"edible\", \"edible\", \"edible\", \"edinburgh\", \"eel\", \"egg\", \"egg\", \"egg_benedict\", \"egg_benny\", \"eggplant\", \"eggplant\", \"eggplant\", \"eggplant\", \"eggroll\", \"eggs\", \"eggs_benedict\", \"ein\", \"elegant\", \"elevator\", \"em\", \"email\", \"email\", \"email\", \"email\", \"embarrassed\", \"emerald\", \"emeril\", \"emeril_'s\", \"empanada\", \"empanadas\", \"employee\", \"employee\", \"en\", \"enchilada\", \"enchiladas\", \"encore\", \"endless\", \"english\", \"english\", \"english_muffin\", \"enjoy\", \"enjoy\", \"enjoy\", \"enjoy\", \"enjoy\", \"enjoy\", \"enjoy\", \"enjoy\", \"enjoy\", \"enjoy\", \"enjoy\", \"enjoy\", \"enjoy\", \"enjoy\", \"enjoy\", \"enjoy\", \"enjoy\", \"enjoy\", \"enjoy\", \"enjoy\", \"enjoy\", \"enjoy\", \"enjoy\", \"enjoy\", \"enjoy\", \"enjoy\", \"enjoy\", \"ensure\", \"ensure\", \"entertain\", \"entertaining\", \"entertainment\", \"entrance\", \"entrance\", \"entrance\", \"entrance\", \"entrance\", \"entre\", \"entree\", \"entree\", \"entree\", \"entree\", \"entree\", \"entree\", \"entree\", \"entree\", \"entry\", \"epic\", \"epic\", \"equivalent\", \"er\", \"er\", \"error\", \"es\", \"escape\", \"escargot\", \"escort\", \"esp\", \"esp\", \"est\", \"establishment\", \"establishment\", \"establishment\", \"establishment\", \"establishment\", \"establishment\", \"establishment\", \"establishment\", \"establishment\", \"establishment\", \"establishment\", \"establishment\", \"establishment\", \"et\", \"ethiopian\", \"europe\", \"eve\", \"evening\", \"evening\", \"evening\", \"evening\", \"evening\", \"event\", \"event\", \"event\", \"every_single\", \"every_single\", \"every_single\", \"every_single\", \"every_single\", \"every_single\", \"everyday\", \"everyday\", \"everyday\", \"everyday\", \"everytime\", \"exceed\", \"excellent\", \"excellent\", \"excellent\", \"excellent\", \"excellent\", \"excellent\", \"excellent\", \"excellent\", \"excellent\", \"excellent\", \"excellent\", \"exceptional\", \"exceptional\", \"exceptional\", \"exceptional\", \"execute\", \"execute\", \"execute\", \"exit\", \"expand\", \"expand\", \"expect\", \"expect\", \"expect\", \"expect\", \"expect\", \"expect\", \"expect\", \"expect\", \"expect\", \"expect\", \"expect\", \"expect\", \"expect\", \"expect\", \"expect\", \"expect\", \"expect\", \"expect\", \"expect\", \"expect\", \"expect\", \"expect\", \"expect\", \"expect\", \"expect\", \"expectation\", \"expectation\", \"expectation\", \"expectation\", \"expectation\", \"expensive\", \"expensive\", \"expensive\", \"expensive\", \"expensive\", \"experience\", \"experience\", \"experience\", \"experience\", \"experience\", \"experience\", \"experience\", \"experience\", \"experience\", \"experience\", \"experience\", \"experience\", \"experience\", \"experience\", \"experience\", \"experience\", \"experience\", \"experience\", \"experienced\", \"explanation\", \"explanation\", \"explode\", \"explosion\", \"extra\", \"extra\", \"extra\", \"extra\", \"extra\", \"extra\", \"extra\", \"extra\", \"extra\", \"extra\", \"extra\", \"extra\", \"extra\", \"extra\", \"extra\", \"extra\", \"extra\", \"extra\", \"extra\", \"extra\", \"extraordinary\", \"extravagant\", \"eye_contact\", \"fabulous\", \"fabulous\", \"fabulous\", \"fabulous\", \"factory\", \"faf\", \"fair\", \"fair\", \"fair\", \"fair\", \"fair\", \"fair\", \"fair\", \"fair\", \"fair\", \"fair\", \"fair\", \"fair\", \"fair\", \"fair\", \"fajita\", \"fake\", \"falafel\", \"fall_short\", \"family\", \"family\", \"family\", \"family\", \"family\", \"family\", \"family\", \"fantastic\", \"fantastic\", \"fantastic\", \"fantastic\", \"fantastic\", \"fantastic\", \"fantastic\", \"fantastic\", \"fantastic\", \"fantastic\", \"fantastic\", \"fantastic\", \"far\", \"far\", \"far\", \"far\", \"far\", \"far\", \"far\", \"far\", \"far\", \"far\", \"far\", \"far\", \"far\", \"far\", \"far\", \"far\", \"far\", \"far\", \"far\", \"far\", \"far\", \"far\", \"far\", \"far\", \"far\", \"far\", \"far\", \"far\", \"far_superior\", \"farm\", \"fast\", \"fast\", \"fast\", \"fast\", \"fast\", \"fast\", \"fast\", \"fast\", \"fast\", \"fast\", \"fast\", \"fast\", \"fast\", \"fast\", \"fast\", \"fast\", \"faster\", \"father\", \"fav\", \"fav\", \"fav\", \"fav\", \"favorite\", \"favorite\", \"favorite\", \"favorite\", \"favorite\", \"favorite\", \"favorite\", \"favorite\", \"favorite\", \"favorite\", \"favorite\", \"favorite\", \"favorite\", \"favorite\", \"favorite\", \"favourite\", \"favourite\", \"favourite\", \"favs\", \"feast\", \"feel\", \"feel\", \"feel\", \"feel\", \"feel\", \"feel\", \"feel\", \"feel\", \"feel\", \"feel\", \"feel\", \"feel\", \"feel\", \"feel\", \"feel\", \"feel\", \"feel\", \"feel\", \"feel\", \"feel\", \"feel\", \"feel\", \"feel\", \"feel\", \"feel\", \"fern\", \"feta\", \"feta\", \"feta_cheese\", \"few_month_ago\", \"fianc\\u00e9\", \"fiesta\", \"fifteen_minute\", \"filet\", \"filet_mignon\", \"filipino\", \"filler\", \"filthy\", \"finally\", \"finally\", \"finally\", \"finally\", \"finally\", \"finally\", \"finally\", \"finally\", \"finally\", \"finally\", \"finally\", \"finally\", \"finally\", \"find\", \"find\", \"find\", \"find\", \"find\", \"find\", \"find\", \"find\", \"find\", \"find\", \"find\", \"find\", \"find\", \"find\", \"find\", \"find\", \"find\", \"find\", \"find\", \"find\", \"find\", \"find\", \"find\", \"find\", \"find\", \"find\", \"find\", \"find\", \"find\", \"find\", \"find\", \"find\", \"fine_dining\", \"fine_dining\", \"finger\", \"finger\", \"finger\", \"finger\", \"fireplace\", \"first_timer\", \"fish\", \"fish\", \"fish\", \"five_star\", \"five_star\", \"five_star\", \"five_star\", \"five_star\", \"five_star\", \"flag\", \"flag\", \"flag_down\", \"flaky\", \"flame\", \"flamingo\", \"flan\", \"flatbread\", \"flavor\", \"flavor\", \"flavor\", \"flavor\", \"flavor\", \"flavor\", \"flavor\", \"flavor\", \"flavor\", \"flavor\", \"flavor\", \"flavor\", \"flavor\", \"flavor\", \"flavor\", \"flavor\", \"flavor\", \"flavorless\", \"flavorless\", \"flavour\", \"flavour\", \"flavour\", \"flavour\", \"flavour\", \"flawless\", \"flight\", \"flight\", \"flip\", \"floor\", \"floor\", \"floor\", \"floor\", \"floor\", \"flour\", \"flour_tortilla\", \"fluffy\", \"fluffy\", \"fly\", \"foam\", \"foie_gra\", \"foie_gra\", \"fond\", \"fondue\", \"food-\", \"foodie\", \"foodie\", \"foodie\", \"foodie\", \"foodie\", \"fool\", \"football\", \"fork\", \"fork\", \"fork\", \"fork\", \"formal\", \"fountain\", \"fountain\", \"fountain\", \"fountain\", \"fox\", \"france\", \"franchise\", \"frank\", \"freakin\", \"freaking\", \"free\", \"free\", \"free\", \"free\", \"free\", \"free\", \"free\", \"free\", \"free\", \"free\", \"free\", \"free\", \"free\", \"free\", \"free\", \"free\", \"free\", \"free\", \"free\", \"free\", \"free\", \"free\", \"free\", \"free\", \"free\", \"free\", \"free\", \"free\", \"free\", \"free_wifi\", \"fremont\", \"french\", \"french\", \"french\", \"french_bistro\", \"french_dip\", \"french_laundry\", \"french_onion\", \"french_onion\", \"french_onion\", \"french_toast\", \"fresh\", \"fresh\", \"fresh\", \"fresh\", \"fresh\", \"fresh\", \"fresh\", \"fresh\", \"fresh\", \"fresh\", \"fresh\", \"fresh\", \"fresh\", \"fresh\", \"fresh\", \"fresh\", \"fresh\", \"fresh\", \"fresh\", \"fresh\", \"fried\", \"fried\", \"fried\", \"fried\", \"fried\", \"fried\", \"fried\", \"fried\", \"fried\", \"fried_rice\", \"fried_rice\", \"friend\", \"friend\", \"friend\", \"friend\", \"friend\", \"friend\", \"friend\", \"friend\", \"friend\", \"friend\", \"friend\", \"friend\", \"friend\", \"friend\", \"friend\", \"friend\", \"friend\", \"friend\", \"friend\", \"friend\", \"friend\", \"friend\", \"friend\", \"friend\", \"friend\", \"friend\", \"friend\", \"friendly\", \"friendly\", \"friendly\", \"friendly\", \"friendly\", \"friendly\", \"friendly\", \"friendly\", \"friendly\", \"friendly\", \"friendly\", \"friendly\", \"friendly\", \"friendly\", \"friendly\", \"fries\", \"frog_leg\", \"front_desk\", \"fruit\", \"fruit\", \"fruit\", \"fruit\", \"frustrated\", \"frustrating\", \"fry\", \"fry\", \"fuck\", \"fuego\", \"fuego_bistro\", \"full_montagu\", \"full_montagu\", \"full_montagu\", \"full_montagu\", \"fun\", \"fun\", \"fun\", \"fun\", \"furniture\", \"fusion\", \"f\\u00fcr\", \"gamble\", \"game\", \"garbage\", \"garden\", \"garlic\", \"garlic\", \"garlic\", \"garlic\", \"garlic\", \"garlic\", \"garlic\", \"garlic\", \"garlic_knot\", \"garlic_naan\", \"garlicky\", \"gelato\", \"general_manager\", \"generous\", \"generous\", \"generous\", \"generous\", \"generous\", \"generous\", \"generous\", \"generous\", \"generous\", \"generous\", \"generous\", \"generous\", \"generous\", \"generous\", \"generous\", \"generous_portion\", \"generous_portion\", \"generous_portion\", \"generous_portion\", \"genius\", \"george\", \"german\", \"gf\", \"gf\", \"gf\", \"gf\", \"gift_shop\", \"gigantic\", \"gilbert\", \"girl\", \"girl\", \"girl\", \"girl\", \"girl\", \"girl\", \"girl\", \"glass\", \"glass\", \"glass\", \"glass\", \"gluten\", \"gluten_free\", \"gnocchi\", \"goat_cheese\", \"god\", \"god\", \"god\", \"god\", \"goer\", \"gon_na\", \"gon_na\", \"gon_na\", \"gon_na\", \"gon_na\", \"goodbye\", \"goody\", \"google\", \"gorge\", \"gorgeous\", \"gorgeous\", \"gorgonzola\", \"gosh\", \"grab\", \"grab\", \"grab\", \"grab\", \"grab\", \"grab\", \"grab\", \"grab\", \"grab\", \"grab\", \"grab\", \"grab\", \"grab\", \"grace\", \"gracious\", \"graciously\", \"grand\", \"grand\", \"grand\", \"grand\", \"grand\", \"grand_canyon\", \"grand_lux\", \"grand_lux_cafe\", \"grandma\", \"grateful\", \"gravy\", \"gravy\", \"gravy\", \"grease\", \"greasy\", \"greasy\", \"greasy\", \"greasy\", \"greasy\", \"greasy\", \"greasy\", \"greasy\", \"greasy\", \"greasy\", \"greasy\", \"great\", \"great\", \"great\", \"great\", \"great\", \"great\", \"great\", \"great\", \"great\", \"great\", \"great\", \"great\", \"great\", \"great\", \"great\", \"great\", \"great\", \"great\", \"great\", \"great\", \"great\", \"great\", \"great\", \"great\", \"great\", \"great\", \"great\", \"great\", \"great\", \"great\", \"greek\", \"green\", \"green\", \"green\", \"green\", \"green\", \"green\", \"green\", \"green\", \"green\", \"green\", \"green\", \"green\", \"green_chile\", \"green_chili\", \"green_curry\", \"greet\", \"greet\", \"greet\", \"greet\", \"greet\", \"greet\", \"greet\", \"grill\", \"grill\", \"grill\", \"grill\", \"grill\", \"grill\", \"grill\", \"grill\", \"grill\", \"grill\", \"grill\", \"grill\", \"grill\", \"grill\", \"grill_octopus\", \"grimaldi_'s\", \"grind\", \"grind\", \"grit\", \"grit\", \"gross\", \"gross\", \"gross\", \"gross\", \"ground_beef\", \"ground_beef\", \"ground_beef\", \"group\", \"group\", \"group\", \"group\", \"group\", \"group\", \"group\", \"group\", \"group\", \"group\", \"group\", \"group\", \"group\", \"group\", \"group\", \"groupon\", \"grow_up\", \"guac\", \"guacamole\", \"guarantee\", \"guest\", \"guest\", \"guest\", \"guest\", \"guest\", \"guest\", \"gumbo\", \"gut\", \"guu\", \"guy\", \"guy\", \"guy\", \"guy\", \"guy\", \"guy\", \"guy\", \"guy\", \"guy\", \"guy\", \"guy\", \"gym\", \"gyro\", \"ha\", \"habit\", \"haggis\", \"hahaha\", \"hair\", \"halal\", \"half\", \"half\", \"half\", \"half\", \"half\", \"half\", \"half\", \"half\", \"half\", \"half\", \"half\", \"half\", \"half\", \"half\", \"half\", \"half\", \"half\", \"half\", \"half\", \"half\", \"half\", \"half\", \"half\", \"half\", \"half\", \"halfway\", \"halibut\", \"ham\", \"ham\", \"hamburger\", \"hand\", \"hand\", \"hand\", \"hand\", \"hand\", \"hand\", \"hand\", \"hand\", \"hand\", \"hand\", \"hand\", \"hand\", \"hand\", \"hand\", \"hand\", \"hand\", \"hand\", \"hand\", \"hand\", \"hand\", \"hand\", \"hand\", \"hand\", \"hand\", \"hand_down\", \"hang\", \"hang\", \"hang\", \"hang\", \"hang\", \"hanger_steak\", \"hangout\", \"hangover\", \"hangover\", \"happy_hour\", \"happy_hour\", \"happy_hour\", \"hash\", \"hash_brown\", \"hash_house\", \"hashbrown\", \"hasn't\", \"hasn't\", \"hat\", \"hat\", \"hat\", \"hat\", \"hat\", \"hat\", \"hat\", \"hat\", \"haven't\", \"haven't\", \"haven't\", \"haven't\", \"haven't\", \"haven't\", \"haven't\", \"haven't\", \"haven't\", \"haven't\", \"haven't\", \"haven't\", \"haven't\", \"haven't\", \"haven't\", \"hawaii\", \"hawaii\", \"hawaiian\", \"hazelnut\", \"health\", \"healthy\", \"healthy\", \"healthy\", \"heard\", \"heat\", \"heat\", \"heat\", \"heat\", \"heat\", \"heat\", \"heat\", \"heat\", \"heat\", \"heat\", \"heat\", \"heat\", \"heater\", \"heather\", \"heavenly\", \"hello\", \"hello\", \"help\", \"help\", \"help\", \"help\", \"help\", \"help\", \"help\", \"help\", \"help\", \"help\", \"help\", \"help\", \"help\", \"help\", \"help\", \"help\", \"help\", \"help\", \"help\", \"help\", \"help\", \"helpful\", \"helpful\", \"helpful\", \"helpful\", \"helpful\", \"helpful\", \"helpful\", \"henderson\", \"henderson\", \"hero\", \"hh\", \"hi\", \"hi\", \"hi\", \"hi\", \"hi\", \"hibachi\", \"high\", \"high\", \"high\", \"high\", \"high\", \"high_ceiling\", \"high_class\", \"high_school\", \"highly\", \"highly\", \"highly\", \"highly_recommend\", \"highly_recommend\", \"highly_recommend\", \"highly_recommend\", \"highly_recommend\", \"highly_recommend\", \"highly_suggest\", \"hike\", \"hilarious\", \"hilton\", \"hip\", \"hip\", \"hire\", \"hire\", \"hire\", \"hit\", \"hit\", \"hit\", \"hit\", \"hit\", \"hit\", \"hit\", \"hit\", \"hit\", \"hit\", \"hit\", \"hit\", \"hit\", \"hit\", \"hit\", \"hit\", \"hit\", \"hit\", \"hit\", \"hit\", \"hit\", \"hit\", \"hit\", \"hob\", \"hole\", \"holiday\", \"holiday\", \"holiday\", \"holiday\", \"holiday\", \"hollandaise\", \"hollandaise_sauce\", \"holy\", \"home\", \"home\", \"home\", \"home\", \"home\", \"home\", \"home\", \"home\", \"home\", \"home\", \"home\", \"home\", \"home\", \"home\", \"home\", \"home\", \"home\", \"home\", \"home\", \"home\", \"home\", \"home\", \"home\", \"home\", \"hometown\", \"honey_mustard\", \"hook\", \"horchata\", \"horrendous\", \"horrible\", \"hospitality\", \"hostess\", \"hostess\", \"hot\", \"hot\", \"hot\", \"hot\", \"hot\", \"hot\", \"hot\", \"hot\", \"hot\", \"hot\", \"hot\", \"hot\", \"hot\", \"hot\", \"hot\", \"hot\", \"hot\", \"hot\", \"hot\", \"hot\", \"hot\", \"hot\", \"hot\", \"hot\", \"hot\", \"hot\", \"hot\", \"hot_dog\", \"hot_pot\", \"hotcake\", \"hotdog\", \"hotel\", \"hotel\", \"hour\", \"hour\", \"hour\", \"hour\", \"hour\", \"hour\", \"hour\", \"hour\", \"hour\", \"house\", \"house\", \"house\", \"house\", \"house\", \"house\", \"house\", \"house\", \"house\", \"house\", \"house\", \"house\", \"house\", \"house\", \"house\", \"house\", \"house\", \"house\", \"house\", \"house\", \"house\", \"house\", \"house\", \"house\", \"house\", \"house\", \"house\", \"house\", \"house\", \"howie\", \"hr\", \"hub\", \"hubby\", \"hubby\", \"hubby\", \"hubby\", \"hubby\", \"hubby\", \"hubby\", \"hubby\", \"huge\", \"huge\", \"huge\", \"huge\", \"huge\", \"huge\", \"huge\", \"huge\", \"huge\", \"huge\", \"huge\", \"huge\", \"huge\", \"huge\", \"huge\", \"huge\", \"huge\", \"huge\", \"huge\", \"huge\", \"huge\", \"huge\", \"huge\", \"huge\", \"huge\", \"huge\", \"huge\", \"human\", \"hummus\", \"humor\", \"hunger\", \"hunger\", \"husband\", \"husband\", \"husband\", \"husband\", \"husband\", \"husband\", \"husband\", \"husband\", \"husband\", \"husband\", \"hush_puppy\", \"i.\", \"i.e.\", \"i.e.\", \"i.e.\", \"ice\", \"ice\", \"ice\", \"ice\", \"ice\", \"ice\", \"ice\", \"ice\", \"ice\", \"ice_cream\", \"ice_cream\", \"ice_cream\", \"ice_cream\", \"iceberg\", \"iced_coffee\", \"id\", \"idk\", \"ihop\", \"immediately\", \"immediately\", \"immediately\", \"immediately\", \"immediately\", \"immediately\", \"immediately\", \"impatient\", \"impeccable\", \"impeccable\", \"impeccable\", \"inattentive\", \"include\", \"include\", \"include\", \"include\", \"include\", \"include\", \"include\", \"include\", \"include\", \"include\", \"include\", \"include\", \"include\", \"include\", \"include\", \"include\", \"include\", \"include\", \"include\", \"include\", \"include\", \"include\", \"include\", \"include_tax\", \"inconsistent\", \"incorrect\", \"india\", \"indian\", \"industrial\", \"inedible\", \"inform\", \"inform\", \"informative\", \"ingredient\", \"ingredient\", \"ingredient\", \"ingredient\", \"ingredient\", \"ingredient\", \"ingredient\", \"ingredient\", \"ingredient\", \"ingredient\", \"ingredient\", \"ingredient\", \"ingredient\", \"ingredient\", \"ingredient\", \"ingredient\", \"injera\", \"insane\", \"insanely\", \"inside\", \"inside\", \"inside\", \"inside\", \"inside\", \"inside\", \"inside\", \"inside\", \"inside\", \"inside\", \"inside\", \"inside\", \"inside\", \"inside\", \"inside\", \"inside\", \"inside\", \"inside\", \"inspire\", \"institution\", \"intend\", \"interaction\", \"interesting\", \"interesting\", \"interesting\", \"interesting\", \"interesting\", \"interesting\", \"interesting\", \"interesting\", \"interesting\", \"interesting\", \"interesting\", \"interesting\", \"interesting\", \"interesting\", \"interior\", \"interior\", \"interior\", \"interior\", \"interior\", \"interior\", \"interior\", \"interior_design\", \"internet\", \"intimate\", \"intrusive\", \"inviting\", \"involved\", \"ipa\", \"irish\", \"ish\", \"island\", \"ist\", \"italian\", \"italian\", \"italian\", \"item\", \"item\", \"item\", \"item\", \"item\", \"item\", \"item\", \"item\", \"item\", \"item\", \"item\", \"item\", \"item\", \"item\", \"item\", \"item\", \"item\", \"item\", \"item\", \"item\", \"item\", \"itsy_bitsy\", \"j\", \"jack\", \"jam\", \"jam\", \"jam\", \"jam\", \"jambalaya\", \"japan\", \"japanese\", \"jay\", \"jazz\", \"jean\", \"jelly\", \"jen\", \"jerk\", \"jerk_chicken\", \"jinya\", \"joe\", \"joe_'s\", \"joey\", \"john\", \"joint\", \"joint\", \"joint\", \"joint\", \"joint\", \"joint\", \"joint\", \"joint\", \"joint\", \"joint\", \"joint\", \"joint\", \"joint\", \"joint\", \"jordan\", \"joy\", \"juice\", \"juicy\", \"juicy\", \"juicy\", \"juicy\", \"juicy\", \"jumbo\", \"jus\", \"kabob\", \"kabuto\", \"kalbi\", \"kale\", \"kale_salad\", \"karaage\", \"karaoke\", \"katsu\", \"katsu\", \"kbbq\", \"kebab\", \"keller\", \"kelly\", \"ketchup\", \"ketchup\", \"ketchup\", \"kevin\", \"kfc\", \"kid\", \"kid\", \"kid\", \"kid\", \"kid\", \"kid\", \"kierland\", \"killer\", \"kimchi\", \"kitchen\", \"kitchen\", \"kitchen\", \"kitchen\", \"kitchen\", \"kitchen\", \"kitchen\", \"kitchen\", \"kitchen\", \"kitchen\", \"kitchen\", \"kitchen\", \"kitchen\", \"kitchen\", \"knife\", \"knife\", \"know\", \"know\", \"know\", \"know\", \"know\", \"know\", \"know\", \"know\", \"know\", \"know\", \"know\", \"know\", \"know\", \"know\", \"know\", \"know\", \"know\", \"know\", \"know\", \"know\", \"know\", \"know\", \"know\", \"know\", \"know\", \"know\", \"know\", \"know\", \"knowledgable\", \"knowledgeable\", \"knowledgeable\", \"knowledgeable\", \"knowledgeable\", \"knowledgeable\", \"kobe\", \"kobe_beef\", \"korean\", \"korean_bbq\", \"l\", \"la\", \"la\", \"label\", \"label\", \"lady\", \"lady\", \"lady\", \"lady\", \"lady\", \"lady\", \"lady\", \"lago\", \"lake\", \"lamb\", \"lamb\", \"large\", \"large\", \"large\", \"large\", \"large\", \"large\", \"large\", \"large\", \"large\", \"large\", \"large\", \"large\", \"large\", \"large\", \"large\", \"large\", \"large\", \"large\", \"large\", \"large\", \"large\", \"large\", \"large\", \"large\", \"large\", \"las_vegas\", \"las_vegas\", \"las_vegas\", \"las_vegas\", \"las_vegas\", \"las_vegas\", \"las_vegas\", \"las_vegas\", \"las_vegas\", \"las_vegas\", \"lasagna\", \"lasagne\", \"late_night\", \"late_night\", \"late_night\", \"lately\", \"latte\", \"lauren\", \"law\", \"layout\", \"layout\", \"layout\", \"le\", \"leave\", \"leave\", \"leave\", \"leave\", \"leave\", \"leave\", \"leave\", \"leave\", \"leave\", \"leave\", \"leave\", \"leave\", \"leave\", \"leave\", \"leave\", \"leave\", \"leave\", \"leave\", \"leave\", \"leave\", \"leave\", \"leave\", \"leave\", \"leave\", \"leave\", \"leave\", \"leave\", \"leek\", \"lemonade\", \"lentil\", \"lentil_soup\", \"les\", \"lesson\", \"let\", \"let\", \"let\", \"let\", \"let\", \"let\", \"let\", \"let\", \"let\", \"let\", \"let\", \"let\", \"let\", \"let\", \"let\", \"let\", \"let\", \"let\", \"let\", \"let\", \"let\", \"let\", \"let\", \"lettuce\", \"lettuce\", \"lettuce\", \"lettuce\", \"lettuce_tomato\", \"liberty_village\", \"life\", \"life\", \"life\", \"life\", \"life\", \"life\", \"life\", \"light\", \"light\", \"light\", \"light\", \"light\", \"light\", \"light\", \"light\", \"light\", \"light\", \"light\", \"light\", \"light\", \"light\", \"light\", \"lighting\", \"lighting\", \"lighting\", \"like\", \"like\", \"like\", \"like\", \"like\", \"like\", \"like\", \"like\", \"like\", \"like\", \"like\", \"like\", \"like\", \"like\", \"like\", \"like\", \"like\", \"like\", \"like\", \"like\", \"like\", \"like\", \"like\", \"like\", \"like\", \"like\", \"like\", \"like\", \"like\", \"like\", \"like\", \"like\", \"lil\", \"limited\", \"limited\", \"limited\", \"limited\", \"limited\", \"limited\", \"limited\", \"limited\", \"limited\", \"limp\", \"linda\", \"line\", \"line\", \"line\", \"lineup\", \"linguine\", \"linq\", \"liquor\", \"liquor\", \"list\", \"list\", \"list\", \"list\", \"list\", \"list\", \"list\", \"list\", \"list\", \"list\", \"list\", \"list\", \"list\", \"list\", \"list\", \"list\", \"list\", \"list\", \"list\", \"list\", \"list\", \"list\", \"list\", \"list\", \"list\", \"list\", \"little\", \"little\", \"little\", \"little\", \"little\", \"little\", \"little\", \"little\", \"little\", \"little\", \"little\", \"little\", \"little\", \"little\", \"little\", \"little\", \"little\", \"little\", \"little\", \"little\", \"little\", \"little\", \"little\", \"little\", \"little\", \"little\", \"little\", \"little\", \"little\", \"live\", \"live\", \"live\", \"live\", \"live\", \"live\", \"live\", \"live\", \"live\", \"live\", \"live\", \"live\", \"live\", \"live\", \"live\", \"live\", \"live_closer\", \"live_music\", \"live_music\", \"lively\", \"lo_mein\", \"loaf\", \"lobster\", \"lobster_bisque\", \"lobster_bisque\", \"lobster_tail\", \"local\", \"local\", \"local\", \"local\", \"local\", \"local\", \"local\", \"local\", \"local\", \"local\", \"local\", \"local\", \"local\", \"local\", \"local\", \"local\", \"local\", \"local\", \"local\", \"local\", \"locate\", \"locate\", \"locate\", \"locate\", \"locate\", \"locate\", \"locate\", \"locate\", \"locate\", \"locate\", \"locate\", \"locate\", \"locate\", \"locate\", \"locate\", \"location\", \"lock\", \"lol\", \"lol\", \"lol\", \"lol\", \"lol\", \"lol\", \"lol\", \"lol\", \"lol\", \"lol\", \"lol\", \"lol\", \"lol\", \"lola\", \"long\", \"long\", \"long\", \"long\", \"long\", \"long\", \"long\", \"long\", \"long\", \"long\", \"long\", \"long\", \"long\", \"long\", \"long\", \"long\", \"long\", \"long\", \"longer\", \"longer\", \"longer\", \"longer\", \"longer\", \"look\", \"look\", \"look\", \"look\", \"look\", \"look\", \"look\", \"look\", \"look\", \"look\", \"look\", \"look\", \"look\", \"look\", \"look\", \"look\", \"look\", \"look\", \"look\", \"look\", \"look\", \"look\", \"look\", \"look\", \"look\", \"look\", \"look\", \"look\", \"look\", \"look\", \"look\", \"lookout\", \"los_angeles\", \"lot\", \"lot\", \"lot\", \"lot\", \"lot\", \"lot\", \"lot\", \"lot\", \"lot\", \"lot\", \"lot\", \"lot\", \"lot\", \"lot\", \"lot\", \"lot\", \"lot\", \"lot\", \"lot\", \"lot\", \"lot\", \"lot\", \"lot\", \"lot\", \"lot\", \"lot\", \"lot\", \"lot\", \"lot\", \"lou\", \"lou_malnati_'s\", \"loud\", \"lounge\", \"lousy\", \"love\", \"love\", \"love\", \"love\", \"love\", \"love\", \"love\", \"love\", \"love\", \"love\", \"love\", \"lovely\", \"lovely\", \"lovely\", \"lovely\", \"lucky_enough\", \"lunch\", \"lunchtime\", \"lunchtime\", \"lunchtime\", \"lv\", \"ma\", \"mac\", \"mac\", \"mac_n_cheese\", \"macaron\", \"macaroni\", \"macaroon\", \"madeira\", \"madison\", \"maggiano_'s\", \"magic\", \"magical\", \"mahi_mahi\", \"mais\", \"mall\", \"mama_ricotta_'s\", \"man\", \"man\", \"man\", \"man\", \"man\", \"man\", \"man\", \"man\", \"man\", \"management\", \"manager\", \"manager\", \"manager\", \"mandalay_bay\", \"mandarin\", \"mango\", \"mango\", \"mango\", \"mango\", \"mango\", \"manhattan\", \"maple\", \"margarita\", \"margherita_pizza\", \"marinara\", \"marinara\", \"marry\", \"marshmallow\", \"martinis\", \"mashed_potato\", \"mashed_potato\", \"mashed_potato\", \"mason_jar\", \"master\", \"matcha\", \"matt\", \"max\", \"max\", \"max\", \"maybe\", \"maybe\", \"maybe\", \"maybe\", \"maybe\", \"maybe\", \"maybe\", \"maybe\", \"maybe\", \"maybe\", \"maybe\", \"maybe\", \"maybe\", \"maybe\", \"maybe\", \"maybe\", \"maybe\", \"maybe\", \"maybe\", \"maybe\", \"maybe\", \"mayo\", \"mayo\", \"mayo\", \"mayo\", \"meal\", \"meal\", \"meal\", \"meal\", \"meal\", \"meal\", \"meal\", \"meal\", \"meal\", \"meal\", \"meal\", \"meal\", \"meal\", \"meal\", \"meal\", \"meal\", \"meal\", \"meal\", \"meal\", \"meal\", \"meal\", \"meal\", \"meal\", \"meal\", \"mean\", \"mean\", \"mean\", \"mean\", \"mean\", \"mean\", \"mean\", \"mean\", \"mean\", \"mean\", \"mean\", \"mean\", \"mean\", \"mean\", \"mean\", \"mean\", \"mean\", \"mean\", \"mean\", \"mean\", \"mean\", \"mean\", \"mean\", \"mean\", \"mean\", \"mean\", \"meat\", \"meat\", \"meat\", \"meat\", \"meat\", \"meat\", \"meat\", \"meat\", \"meat\", \"meat\", \"meat\", \"meat_eater\", \"meatball\", \"meatball\", \"meatball\", \"meatloaf\", \"mediocre\", \"mediocre\", \"mediocre\", \"mediterranean\", \"medium\", \"medium\", \"medium\", \"medium\", \"medium\", \"medium\", \"medium\", \"medium\", \"medium_rare\", \"medium_rare\", \"meeting\", \"meh\", \"meh\", \"meh\", \"melon\", \"melt\", \"melt\", \"melt\", \"melt\", \"melt\", \"melt\", \"melt\", \"memorable\", \"memorable\", \"memorable\", \"memorable\", \"memorable\", \"memorable\", \"memorable\", \"memorable\", \"memorable\", \"menu\", \"menu\", \"menu\", \"menu\", \"menu\", \"menu\", \"menu\", \"menu\", \"menu\", \"menu\", \"menu\", \"menu\", \"menu\", \"menu\", \"menu\", \"menu\", \"menu\", \"menu\", \"menu\", \"menu\", \"menu\", \"menu\", \"menu\", \"menu\", \"menu\", \"menu\", \"menu\", \"menu\", \"mesa\", \"mesa_grill\", \"mess\", \"mess\", \"mess\", \"mess\", \"mess\", \"mess\", \"mess\", \"mess\", \"metal\", \"mexican\", \"mexico\", \"mgm\", \"miami\", \"michael\", \"microwave\", \"microwave\", \"middle_eastern\", \"midnight\", \"mike\", \"mild\", \"mild\", \"mild\", \"mild\", \"mildred_'s\", \"mile_away\", \"mile_away\", \"milk\", \"milk\", \"milk\", \"milk\", \"milk_tea\", \"milkshake\", \"mimosa\", \"mimosas\", \"min\", \"mind_blow\", \"mini\", \"mini\", \"mini\", \"mini\", \"mini\", \"mini\", \"mini\", \"mini\", \"mini\", \"mini\", \"mini\", \"mini\", \"mini\", \"mini\", \"mini\", \"mini\", \"mini\", \"mini\", \"mini\", \"minimal\", \"minimum\", \"mint\", \"mint\", \"mint\", \"mint\", \"mint\", \"minute\", \"minute\", \"minute\", \"minute\", \"minute_later\", \"minute_later\", \"mirage\", \"miso\", \"miso_soup\", \"miss\", \"miss\", \"miss\", \"miss\", \"miss\", \"miss\", \"miss\", \"miss\", \"miss\", \"miss\", \"miss\", \"miss\", \"miss\", \"miss\", \"miss\", \"miss\", \"miss\", \"miss\", \"miss\", \"miss\", \"miss\", \"miss\", \"miss\", \"miss\", \"miss\", \"miss\", \"miss\", \"miss\", \"miss\", \"mississauga\", \"mister\", \"mit\", \"mmmm\", \"mmmmm\", \"mocha\", \"modern\", \"modern\", \"modern\", \"modern\", \"modern\", \"modern\", \"modern\", \"modern\", \"modern\", \"modern\", \"moist\", \"moist\", \"mojito\", \"mole\", \"mom\", \"monday\", \"monday\", \"money\", \"money\", \"money\", \"money\", \"money\", \"money\", \"money\", \"mongolian_beef\", \"month\", \"month\", \"month\", \"month\", \"month\", \"month\", \"month\", \"month\", \"month\", \"month\", \"monti_'s\", \"montreal\", \"montr\\u00e9al\", \"morel\", \"morels\", \"morning\", \"morning\", \"moroccan\", \"most_recent_visit\", \"mother\", \"mound\", \"mousse\", \"mouth\", \"mouth\", \"mouth\", \"mouth\", \"mouth\", \"mouth\", \"mouth\", \"mouth\", \"mouth\", \"mouth\", \"movie\", \"mozzarella\", \"mozzarella\", \"mozzarella\", \"mr\", \"msg\", \"muffin\", \"mug\", \"mule\", \"multiple\", \"multiple\", \"multiple\", \"multiple\", \"multiple\", \"multiple\", \"multiple\", \"multiple\", \"multiple\", \"multiple\", \"multiple\", \"multiple\", \"multiple\", \"multiple\", \"multiple\", \"munch\", \"mushroom\", \"mushroom\", \"mushroom\", \"mushroom\", \"mushroom\", \"mushroom\", \"mushroom\", \"mushroom\", \"mushroom\", \"mushroom\", \"music\", \"mussel\", \"mustard\", \"mustard\", \"mustard\", \"mustard\", \"mustard\", \"n\", \"naan\", \"nacho\", \"nachos\", \"nail\", \"nana\", \"napa\", \"narrow\", \"nasty\", \"nasty\", \"nasty\", \"native\", \"ne\", \"ne\", \"ne\", \"ne\", \"ne\", \"ne\", \"ne\", \"ne\", \"ne\", \"ne\", \"ne\", \"ne\", \"ne\", \"ne\", \"ne\", \"ne\", \"ne\", \"ne\", \"ne\", \"ne\", \"ne\", \"ne\", \"ne\", \"ne\", \"ne\", \"ne\", \"ne\", \"ne\", \"ne\", \"near\", \"near\", \"near\", \"near\", \"near\", \"near\", \"near\", \"near\", \"near\", \"near\", \"near\", \"near\", \"near\", \"near\", \"near\", \"near\", \"near\", \"near\", \"near\", \"near\", \"near\", \"near\", \"near\", \"near\", \"near\", \"need\", \"need\", \"need\", \"need\", \"need\", \"need\", \"need\", \"need\", \"need\", \"need\", \"need\", \"need\", \"need\", \"need\", \"need\", \"need\", \"need\", \"need\", \"need\", \"need\", \"need\", \"need\", \"need\", \"need\", \"need\", \"need\", \"need\", \"need\", \"need\", \"need\", \"neglect\", \"neighbourhood\", \"nephew\", \"nestle\", \"network\", \"nevada\", \"new\", \"new\", \"new\", \"new\", \"new\", \"new\", \"new\", \"new\", \"new\", \"new\", \"new\", \"new\", \"new\", \"new\", \"new\", \"new\", \"new\", \"new\", \"new\", \"new\", \"new\", \"new\", \"new\", \"new\", \"new\", \"new\", \"new\", \"new_orleans\", \"new_york\", \"new_york_strip\", \"new_york_style\", \"nice\", \"nice\", \"nice\", \"nice\", \"nice\", \"nice\", \"nice\", \"nice\", \"nice\", \"nice\", \"nice\", \"nice\", \"nice\", \"nice\", \"nice\", \"nice\", \"nice\", \"nice\", \"nice\", \"nice\", \"nice\", \"nice\", \"nice\", \"nice\", \"nice\", \"nice\", \"nice\", \"nice\", \"nice\", \"nice\", \"nice\", \"nicely_decorate\", \"nicht\", \"niece\", \"night\", \"night\", \"night\", \"night\", \"night\", \"night\", \"night\", \"night\", \"night\", \"night\", \"night\", \"night\", \"night\", \"night\", \"night\", \"night\", \"night\", \"night\", \"night\", \"night\", \"nightclub\", \"nightmare\", \"nigiri\", \"noodle\", \"north\", \"north\", \"north_scottsdale\", \"nothing_extraordinary\", \"nothing_spectacular\", \"notify\", \"nowadays\", \"nugget\", \"nutella\", \"ny\", \"ny_strip\", \"ny_strip_steak\", \"ny_style_pizza\", \"nyc\", \"o\", \"oakland\", \"oatmeal\", \"observe\", \"occasion\", \"occasion\", \"occasionally\", \"october\", \"octopus\", \"octopus\", \"oddly\", \"oder\", \"offer\", \"offer\", \"offer\", \"offer\", \"offer\", \"offer\", \"offer\", \"offer\", \"offer\", \"offer\", \"offer\", \"offer\", \"offer\", \"offer\", \"offer\", \"offer\", \"offer\", \"offer\", \"offer\", \"offer\", \"offer\", \"offer\", \"offer\", \"offer\", \"offer\", \"offer\", \"offer\", \"office\", \"office\", \"oh\", \"oh\", \"oh\", \"oh\", \"oh\", \"oh\", \"oh\", \"oh\", \"oh\", \"oh\", \"oh\", \"oh\", \"oh\", \"oh\", \"oh\", \"ohio\", \"oil\", \"oil\", \"oil\", \"oil\", \"oil\", \"oil\", \"oil\", \"oil\", \"oj\", \"ok\", \"ok\", \"ok\", \"ok\", \"ok\", \"ok\", \"ok\", \"ok\", \"ok\", \"ok\", \"ok\", \"ok\", \"ok\", \"ok\", \"ok\", \"ok\", \"ok\", \"ok\", \"ok\", \"okay\", \"okay\", \"okay\", \"okay\", \"okay\", \"okay\", \"okay\", \"okay\", \"okay\", \"okay\", \"okay\", \"okay\", \"okay\", \"okay\", \"okay\", \"okay\", \"okay\", \"okay\", \"okay\", \"okay\", \"okay\", \"okra\", \"old\", \"old\", \"old\", \"old\", \"old\", \"old\", \"old\", \"old\", \"old\", \"old\", \"old\", \"old\", \"old\", \"old\", \"old\", \"old\", \"old_fashion\", \"olive_garden\", \"omakase\", \"omelet\", \"omelette\", \"omg\", \"omg\", \"onion\", \"onion\", \"onion\", \"onion\", \"onion\", \"onion\", \"onion\", \"onion\", \"onion\", \"onion_ring\", \"online\", \"online\", \"only_downside\", \"open\", \"open\", \"open\", \"open\", \"open\", \"open\", \"open\", \"open\", \"open\", \"open\", \"open\", \"open\", \"open\", \"open\", \"open\", \"open\", \"open\", \"open\", \"open\", \"open\", \"open\", \"open\", \"open\", \"open\", \"open\", \"open\", \"open_24/7\", \"open_24_hour\", \"option\", \"orange_juice\", \"order\", \"order\", \"order\", \"order\", \"order\", \"order\", \"order\", \"order\", \"order\", \"order\", \"order\", \"order\", \"order\", \"order\", \"order\", \"order\", \"order\", \"order\", \"order\", \"order\", \"order\", \"order\", \"order\", \"order\", \"order\", \"order\", \"order\", \"ordering_process\", \"oregano_'s\", \"oreganos\", \"oreo\", \"organic\", \"original\", \"original\", \"original\", \"original\", \"original\", \"original\", \"original\", \"ou\", \"outback\", \"outdoor_patio\", \"outdoor_patio\", \"outdoor_seating\", \"outgoing\", \"outlet\", \"outside\", \"outside\", \"outside\", \"outside\", \"outside\", \"outside\", \"outside\", \"outside\", \"outside\", \"outstanding\", \"outstanding\", \"outstanding\", \"outstanding\", \"outstanding\", \"outstanding\", \"outstanding\", \"outstanding\", \"overall\", \"overall\", \"overall\", \"overall\", \"overall\", \"overall\", \"overall\", \"overall\", \"overall\", \"overall\", \"overall\", \"overall\", \"overall\", \"overall\", \"overall\", \"overall\", \"overall\", \"overall\", \"overall\", \"overall\", \"overall\", \"overcharge\", \"overpriced\", \"overpriced\", \"overpriced\", \"overrate\", \"overrated\", \"owner\", \"owner\", \"owner\", \"owner\", \"owner\", \"owner\", \"owner\", \"oxtail\", \"oyster\", \"pa\", \"pack\", \"pack\", \"pack\", \"pack\", \"pack\", \"pack\", \"pack\", \"pack\", \"pack\", \"pack\", \"pack\", \"pack\", \"pack\", \"pack\", \"pack\", \"pack\", \"pack\", \"pack\", \"pack\", \"pack\", \"pack\", \"pack\", \"pack\", \"pack\", \"pad_see_ew\", \"pad_thai\", \"paella\", \"painting\", \"palazzo\", \"pale\", \"pamela_'s\", \"pan_roast\", \"pancake\", \"panda_express\", \"paneer\", \"panini\", \"par\", \"par\", \"par\", \"par\", \"par\", \"par\", \"par\", \"par\", \"par\", \"par\", \"par\", \"par\", \"paradise\", \"paradise\", \"parent\", \"paris\", \"park\", \"parking\", \"parking\", \"parking_lot\", \"parking_lot\", \"parking_lot\", \"parma\", \"partake\", \"participate\", \"party\", \"party\", \"party\", \"party\", \"party\", \"party\", \"party\", \"party\", \"party\", \"party\", \"party\", \"party\", \"party\", \"pas\", \"passable\", \"passion\", \"past\", \"past\", \"past\", \"past\", \"past\", \"past\", \"past\", \"past\", \"past\", \"past\", \"past\", \"past\", \"pasta\", \"pasta\", \"pasta\", \"pastrami\", \"pastry\", \"pastry\", \"pastry\", \"pastry\", \"pasty\", \"pasty\", \"path\", \"pathetic\", \"patiently\", \"patio\", \"patio\", \"patronize\", \"patty\", \"paul\", \"pay\", \"pay\", \"pay\", \"pay\", \"pay\", \"pay\", \"pay\", \"pdq\", \"peach\", \"peach_cobbler\", \"peak\", \"peak\", \"peanut\", \"peanut\", \"peanut_butter\", \"pear\", \"pecan_pie\", \"peculiar_rabbit\", \"peel\", \"peel\", \"pei_wei\", \"peking_duck\", \"penne\", \"people\", \"people\", \"people\", \"people\", \"people\", \"people\", \"people\", \"people\", \"people\", \"people\", \"people\", \"people\", \"people\", \"people\", \"people\", \"people\", \"people\", \"people\", \"people\", \"people\", \"people\", \"pepperoni\", \"per_person\", \"per_person\", \"per_person\", \"per_person\", \"per_person\", \"perfect\", \"perfect\", \"perfect\", \"perfect\", \"perfect\", \"perfect\", \"perfect\", \"perfect\", \"perfect\", \"perfect\", \"perfect\", \"perfect\", \"perfect\", \"perfect\", \"perfect\", \"perfect\", \"perfect\", \"perfect\", \"perfection\", \"perfection\", \"perfection\", \"perfection\", \"perfection\", \"perfection\", \"perfection\", \"perfection\", \"perfection\", \"perfection\", \"perfectly\", \"perfectly\", \"perfectly\", \"perfectly\", \"perfectly\", \"perfectly\", \"perfectly\", \"perfectly\", \"perfectly\", \"perfectly\", \"perfectly\", \"perfectly\", \"perfectly\", \"perform\", \"performance\", \"persian\", \"personable\", \"personable\", \"personable\", \"perspective\", \"pesto\", \"pesto\", \"peter\", \"petite\", \"petite\", \"ph\", \"philly\", \"philly\", \"pho\", \"pho_kim_long\", \"phoenix\", \"phone\", \"phx\", \"pic\", \"pick\", \"pick\", \"pick\", \"pick\", \"pick\", \"pick\", \"pick\", \"pick\", \"pick\", \"pick\", \"pick\", \"pick\", \"pick\", \"pick\", \"pick\", \"pick\", \"pick\", \"pick\", \"pick\", \"pick\", \"pick\", \"pick\", \"pick\", \"pick\", \"pick\", \"pickle\", \"pickle\", \"pickle\", \"pickle\", \"picky_eater\", \"pico_de_gallo\", \"pie\", \"pie\", \"piece\", \"piece\", \"piece\", \"piece\", \"piece\", \"piece\", \"piece\", \"piece\", \"piece\", \"piece\", \"piece\", \"piece\", \"piece\", \"piece\", \"pig\", \"pile_high\", \"pinch\", \"pinot_noir\", \"pint\", \"pissed\", \"pistachio\", \"pita\", \"pita_bread\", \"pitcher\", \"pitcher\", \"pitcher\", \"pitcher\", \"pittsburgh\", \"pizza\", \"pizza_hut\", \"pizzeria\", \"planet\", \"planet_hollywood\", \"plastic\", \"plastic\", \"plat\", \"plat\", \"plate\", \"plate\", \"plate\", \"plate\", \"plate\", \"plate\", \"plate\", \"plate\", \"plate\", \"plate\", \"plate\", \"plate\", \"plate\", \"plate\", \"plate\", \"plate\", \"plate\", \"plate\", \"plate\", \"play\", \"play\", \"player\", \"playing\", \"pleasantly_surprise_by\", \"plenty\", \"plenty\", \"plenty\", \"plenty\", \"plenty\", \"plenty\", \"plenty\", \"plenty\", \"plenty\", \"plenty\", \"plenty\", \"plenty\", \"plenty\", \"plenty\", \"plenty\", \"plenty\", \"plenty\", \"plenty\", \"plenty\", \"plenty\", \"plenty\", \"plenty\", \"plenty\", \"plenty\", \"plenty\", \"plenty\", \"plethora\", \"plump\", \"plus\", \"plus\", \"plus\", \"plus\", \"plus\", \"plus\", \"plus\", \"plus\", \"plus\", \"plus\", \"plus\", \"plus\", \"plus\", \"plus\", \"plus\", \"plus\", \"plus\", \"plus\", \"plus\", \"plus\", \"plus\", \"plus\", \"plus\", \"plus\", \"plus\", \"plus\", \"plus\", \"plus\", \"plus\", \"plus\", \"plus\", \"plus\", \"pm\", \"pm\", \"poached_egg\", \"poached_egg\", \"poisoning\", \"poke\", \"polenta\", \"politely\", \"pomegranate\", \"pomme_frite\", \"pool\", \"pool\", \"poor\", \"poor\", \"poor\", \"poorly\", \"pop\", \"popcorn\", \"pork\", \"pork\", \"pork\", \"pork\", \"pork\", \"pork_belly\", \"pork_belly\", \"pork_belly\", \"pork_belly\", \"pork_loin\", \"portabello\", \"porterhouse\", \"portion\", \"portion\", \"portion\", \"portion\", \"portion\", \"portion\", \"portion\", \"portion\", \"portion\", \"portion\", \"portion\", \"portion\", \"portion\", \"portion\", \"portobello\", \"portuguese\", \"pot\", \"pot\", \"pot\", \"pot_roast\", \"pot_sticker\", \"potato\", \"potato\", \"potato\", \"potato\", \"potato\", \"potato\", \"potentially\", \"potsticker\", \"pour\", \"pour\", \"pour\", \"pour\", \"pour\", \"pour\", \"pour\", \"pour\", \"pour\", \"pour\", \"pour\", \"pour\", \"pour\", \"poutine\", \"poutine\", \"powdered_sugar\", \"prawn\", \"pregnant\", \"preparation\", \"preparation\", \"preparation\", \"prepare\", \"prepare\", \"prepare\", \"prepare\", \"prepare\", \"prepare\", \"prepare\", \"prepare\", \"prepare\", \"prepare\", \"prepare\", \"prepare\", \"prepare\", \"prepare\", \"prepare\", \"prepare\", \"prepare\", \"present\", \"present\", \"present\", \"present\", \"present\", \"present\", \"present\", \"present\", \"present\", \"preserve\", \"press\", \"pretty\", \"pretty\", \"pretty\", \"pretty\", \"pretty\", \"pretty\", \"pretty\", \"pretty\", \"pretty\", \"pretty\", \"pretty\", \"pretty\", \"pretty\", \"pretty\", \"pretty\", \"pretty\", \"pretty\", \"pretty\", \"pretty\", \"pretty\", \"pretty\", \"pretty\", \"pretty_darn\", \"pretzel\", \"pretzel\", \"price\", \"price\", \"price\", \"price\", \"price\", \"price\", \"price\", \"pricey\", \"pricey\", \"pricey\", \"pricey\", \"pricey\", \"pricey\", \"pricey\", \"pricey\", \"pricey\", \"pricy\", \"pricy\", \"pricy\", \"pricy\", \"pricy\", \"prime\", \"prime\", \"prime\", \"prime_rib\", \"prime_rib\", \"pro\", \"prob\", \"probably\", \"probably\", \"probably\", \"probably\", \"probably\", \"probably\", \"probably\", \"probably\", \"probably\", \"probably\", \"probably\", \"probably\", \"probably\", \"probably\", \"probably\", \"probably\", \"probably\", \"probably\", \"probably\", \"probably\", \"probably\", \"probably\", \"probably\", \"probably\", \"probably\", \"probably\", \"probably\", \"probably\", \"probably\", \"professional\", \"professional\", \"professional\", \"professional\", \"professional\", \"professionalism\", \"profiterole\", \"program\", \"prompt\", \"prompt\", \"prompt\", \"prompt\", \"prompt\", \"prompt\", \"prompt\", \"prompt\", \"prompt\", \"prompt\", \"promptly\", \"promptly\", \"promptly\", \"promptly\", \"proof\", \"prop\", \"property\", \"proportion\", \"prosciutto\", \"prosciutto\", \"prosciutto\", \"protein\", \"protein\", \"proud\", \"provide\", \"provide\", \"provide\", \"provide\", \"provide\", \"provide\", \"provide\", \"provide\", \"provide\", \"provide\", \"provide\", \"provide\", \"provide\", \"provide\", \"provide\", \"provide\", \"pub\", \"pub\", \"pull_pork\", \"pulled_pork\", \"pure\", \"pure\", \"quail\", \"quality\", \"quality\", \"quality\", \"quality\", \"quality\", \"quality\", \"quality\", \"quality\", \"quality\", \"quality\", \"quality\", \"quality\", \"quality\", \"quality\", \"quality\", \"que\", \"queen\", \"quesadilla\", \"queso\", \"questionable\", \"qui\", \"quiche\", \"quick\", \"quick\", \"quick\", \"quick\", \"quick\", \"quick\", \"quick\", \"quick\", \"quick\", \"quick\", \"quick\", \"quick\", \"quick\", \"quick\", \"quick\", \"quickly\", \"quickly\", \"quickly\", \"quickly\", \"quickly\", \"quickly\", \"quickly\", \"quickly\", \"quickly\", \"quickly\", \"quickly\", \"quickly\", \"quickly\", \"quickly\", \"quickly\", \"quickly\", \"quickly\", \"quinoa\", \"quirky\", \"r\", \"race\", \"rack\", \"rack\", \"rail\", \"rainbow\", \"raman\", \"ramen\", \"randomly\", \"rare\", \"rare\", \"rare\", \"rare\", \"rare\", \"rare\", \"raspberry\", \"ravioli\", \"ravioli\", \"raw\", \"raw\", \"raw\", \"raw\", \"raw\", \"raw\", \"raw\", \"raw\", \"raw\", \"raw\", \"raw\", \"raw\", \"read\", \"read\", \"read\", \"read\", \"read\", \"read\", \"read\", \"read\", \"read\", \"read\", \"read\", \"ready\", \"ready\", \"ready\", \"reasonable\", \"reasonable\", \"reasonable\", \"reasonable\", \"reasonable\", \"reasonable\", \"reasonably\", \"reasonably_price\", \"reasonably_price\", \"reasonably_price\", \"reasonably_price\", \"reasonably_price\", \"reasonably_price\", \"reasonably_price\", \"receive\", \"receive\", \"receive\", \"receive\", \"receive\", \"receive\", \"receive\", \"receive\", \"recently\", \"recently\", \"recently\", \"recently\", \"recently\", \"recently\", \"recently\", \"recently\", \"recently\", \"recently\", \"recently\", \"recently\", \"recently\", \"recently\", \"recently\", \"recently\", \"recently\", \"recently\", \"recently\", \"recently\", \"reception\", \"recommend\", \"recommend\", \"recommend\", \"recommend\", \"recommend\", \"recommend\", \"recommend\", \"recommend\", \"recommend\", \"recommend\", \"recommend\", \"recommend\", \"recommend\", \"recommend\", \"recommend\", \"recommend\", \"recommend\", \"recommend\", \"recommend\", \"recommend\", \"recommend\", \"recommend\", \"recommend\", \"recommend\", \"recommend\", \"recommend\", \"recommend\", \"recommend\", \"red\", \"red\", \"red\", \"red\", \"red\", \"red\", \"red\", \"red\", \"red\", \"red\", \"red\", \"red\", \"red\", \"red\", \"red\", \"red\", \"red\", \"red\", \"red\", \"red_oak\", \"red_robin\", \"red_velvet_cake\", \"refill\", \"refill\", \"refill\", \"refresh\", \"refresh\", \"refreshing\", \"refreshing\", \"refreshing\", \"register\", \"register\", \"relaxing\", \"relaxing\", \"rely\", \"remake\", \"remember\", \"remember\", \"remember\", \"remember\", \"remember\", \"remember\", \"remember\", \"remember\", \"remember\", \"remember\", \"remember\", \"remember\", \"remember\", \"remember\", \"remember\", \"reminiscent\", \"remodel\", \"report\", \"report\", \"reservation\", \"reservation\", \"reservation\", \"reservation\", \"reservation\", \"reservation\", \"resident\", \"resolve\", \"response\", \"response\", \"restaurant\", \"restaurant\", \"restaurant\", \"restaurant\", \"restaurant\", \"restaurant\", \"restaurant\", \"restaurant\", \"restaurant\", \"restaurant\", \"restaurant\", \"restaurant\", \"restaurant\", \"restaurant\", \"restaurant\", \"restaurant\", \"restaurant\", \"restaurant\", \"restaurant\", \"restaurant\", \"restaurant\", \"restaurant\", \"restaurant\", \"restaurant\", \"restroom\", \"restroom\", \"restuarant\", \"resturant\", \"return\", \"return\", \"return\", \"return\", \"return\", \"return\", \"return\", \"return\", \"return\", \"return\", \"return\", \"return\", \"return\", \"return\", \"return\", \"return\", \"return\", \"return\", \"return\", \"return\", \"return\", \"return\", \"return\", \"return\", \"return\", \"return\", \"reuben\", \"review\", \"review\", \"review\", \"review\", \"review\", \"review\", \"review\", \"review\", \"review\", \"review\", \"reward\", \"rib\", \"rib_eye\", \"ribeye\", \"ribeye\", \"ribeye\", \"ribs\", \"rice\", \"rice\", \"rice\", \"rice\", \"rich\", \"rich\", \"richmond_hill\", \"rig\", \"rigatoni\", \"right\", \"right\", \"right\", \"right\", \"right\", \"right\", \"right\", \"right\", \"right\", \"right\", \"right\", \"right\", \"right\", \"right\", \"right\", \"right\", \"right\", \"right\", \"right\", \"right\", \"right\", \"right\", \"right\", \"right\", \"right\", \"right\", \"right\", \"right\", \"right\", \"right\", \"rio\", \"rise\", \"risotto\", \"risotto\", \"risotto\", \"roast_beef\", \"roasted\", \"roasted\", \"roasted\", \"roasted\", \"rob\", \"robert\", \"roberto\", \"role\", \"roll\", \"roll\", \"romaine\", \"romantic\", \"romantic_date\", \"roof\", \"rooftop\", \"room\", \"room\", \"room\", \"room\", \"room\", \"room\", \"room\", \"root\", \"root\", \"root_beer\", \"rosemary\", \"rosemary\", \"rotate\", \"roti\", \"rotisserie_chicken\", \"rough\", \"row\", \"rude\", \"rude\", \"rude\", \"rudely\", \"rum\", \"runner\", \"ruth_'s\", \"rye\", \"rye_bread\", \"s\", \"sad\", \"sad\", \"sad\", \"sad\", \"saffron\", \"sage\", \"saimin\", \"sake\", \"salad\", \"salad\", \"salad\", \"salad\", \"salad\", \"salad\", \"sale\", \"salmon\", \"salmon\", \"salmon\", \"salmon\", \"salsa\", \"salsa_verde\", \"salsas\", \"salt_cellar\", \"salty\", \"salty\", \"salty\", \"salty\", \"salty\", \"salty\", \"salty\", \"salty\", \"salty\", \"sam\", \"sammy\", \"samosa\", \"sampler\", \"sampler\", \"samy\", \"san\", \"san_francisco\", \"sandwhich\", \"sandwich\", \"sangria\", \"sashimi\", \"sat\", \"sat\", \"satay\", \"saturday_morning\", \"sauce\", \"sauce\", \"sauce\", \"sauce\", \"sauce\", \"sauce\", \"sauce\", \"sauce\", \"sauce\", \"sauce\", \"sauce\", \"sauce\", \"sauerkraut\", \"sausage\", \"sausage\", \"sausage\", \"sausage\", \"sausage\", \"sausage\", \"sausage\", \"save_room\", \"savory\", \"savory\", \"savory\", \"scallop\", \"scallop\", \"scallop\", \"scampi\", \"schnitzel\", \"school\", \"school\", \"schwartz_'s\", \"scone\", \"scoop\", \"scoop\", \"scoop\", \"scoop\", \"scoop\", \"scoop\", \"scottsdale\", \"scottsdale_quarter\", \"scramble\", \"scramble\", \"scramble\", \"scramble_egg\", \"screen\", \"sea\", \"sea_bass\", \"sea_salt\", \"seafood\", \"seafood\", \"seal\", \"seasoning\", \"seasoning\", \"seasoning\", \"seasoning\", \"seasoning\", \"seasoning\", \"seasoning\", \"seasoning\", \"seasoning\", \"seat\", \"seat\", \"seat\", \"seat\", \"seat\", \"seat\", \"seating\", \"seating\", \"seating\", \"seaweed_salad\", \"secluded\", \"second\", \"second\", \"second\", \"second\", \"second\", \"second\", \"second\", \"second\", \"second\", \"second\", \"second\", \"second\", \"second\", \"second\", \"second\", \"second\", \"second_floor\", \"secret\", \"secret\", \"section\", \"section\", \"section\", \"section\", \"section\", \"selection\", \"selection\", \"selection\", \"selection\", \"self_serve\", \"self_serve\", \"seriously\", \"seriously\", \"seriously\", \"seriously\", \"seriously\", \"seriously\", \"seriously\", \"seriously\", \"seriously\", \"seriously\", \"seriously\", \"seriously\", \"serve\", \"serve\", \"serve\", \"serve\", \"serve\", \"serve\", \"serve\", \"serve\", \"serve\", \"serve\", \"serve\", \"serve\", \"serve\", \"serve\", \"serve\", \"serve\", \"serve\", \"serve\", \"serve\", \"serve\", \"serve\", \"serve\", \"serve\", \"serve\", \"serve\", \"serve\", \"serve\", \"serve\", \"serve\", \"serve\", \"server\", \"server\", \"server\", \"server\", \"server\", \"server\", \"server\", \"server\", \"server\", \"service\", \"service\", \"service\", \"service\", \"service\", \"service\", \"service\", \"service\", \"service\", \"service\", \"service\", \"service\", \"service\", \"service\", \"service\", \"service\", \"service\", \"service\", \"service\", \"service\", \"service-\", \"sesame\", \"sesame\", \"sesame\", \"setting\", \"setting\", \"setup\", \"sever\", \"sexy\", \"sf\", \"shack\", \"shade\", \"shake\", \"shall\", \"share\", \"share\", \"share\", \"share\", \"share\", \"share\", \"share\", \"share\", \"share\", \"share\", \"share\", \"share\", \"share\", \"share\", \"share\", \"share\", \"share\", \"share\", \"share\", \"share\", \"share\", \"share\", \"shawarma\", \"shell\", \"shell\", \"shell\", \"shoe\", \"shoot\", \"shop\", \"shop\", \"shop\", \"shop\", \"shop\", \"shop\", \"shop\", \"shopping_center\", \"short_rib\", \"short_rib\", \"short_rib_hash\", \"shove\", \"shrimp\", \"shrimp\", \"shrimp\", \"shrimp_tempura\", \"sicilian\", \"sick\", \"sick\", \"significantly\", \"silverware\", \"sind\", \"sing\", \"sirloin\", \"sirloin\", \"sister\", \"sit\", \"sit\", \"sit\", \"sit\", \"sit\", \"sit\", \"sit\", \"sit\", \"sit\", \"sitting\", \"situate\", \"sketchy\", \"skewer\", \"skillet\", \"skin\", \"skin\", \"skin\", \"skin\", \"skinny\", \"skirt\", \"skirt_steak\", \"slack\", \"slather\", \"sleep\", \"slice\", \"slice\", \"slice\", \"slice\", \"slice\", \"slice\", \"slice\", \"slider\", \"sloppy\", \"slot\", \"slow\", \"slow\", \"slow\", \"small\", \"small\", \"small\", \"small\", \"small\", \"small\", \"small\", \"small\", \"small\", \"small\", \"small\", \"small\", \"small\", \"small\", \"small\", \"small\", \"small\", \"small\", \"small\", \"small\", \"small\", \"small\", \"small\", \"small\", \"small\", \"small\", \"small\", \"small\", \"smash\", \"smile\", \"smile\", \"smile\", \"smoke\", \"smoke\", \"smoke\", \"smoke\", \"smoke\", \"smoked\", \"smoked\", \"smoothie\", \"snack\", \"snack\", \"snack\", \"snack\", \"snack\", \"snack\", \"snack\", \"snack\", \"snack\", \"snack\", \"snack\", \"snack\", \"snack\", \"sober\", \"soft\", \"soft\", \"soft\", \"soft\", \"soft\", \"soft\", \"soft\", \"soft\", \"soft\", \"soft\", \"soft\", \"soft\", \"soft\", \"soft\", \"soft_opening\", \"solo\", \"somebody\", \"someday\", \"sommelier\", \"sommelier\", \"son\", \"son\", \"son\", \"song\", \"sont\", \"soo\", \"sooner\", \"sooo\", \"sooo\", \"soooo\", \"soooo\", \"soooo\", \"sooooo\", \"sooooo\", \"soooooo\", \"soup\", \"soup\", \"soup\", \"soupy\", \"sour_cream\", \"sour_cream\", \"sour_soup\", \"sourdough\", \"southern\", \"southern\", \"southwest\", \"southwest\", \"southwestern\", \"souvlaki\", \"space\", \"space\", \"space\", \"spacious\", \"spacious\", \"spaghetti\", \"spam\", \"spare_rib\", \"sparkle\", \"sparse\", \"speaker\", \"special\", \"special\", \"special\", \"special\", \"special\", \"special\", \"special\", \"special\", \"special\", \"special\", \"special\", \"special\", \"special\", \"special\", \"special\", \"special\", \"special\", \"special\", \"special\", \"special\", \"special\", \"special\", \"special\", \"special\", \"special\", \"special_occasion\", \"special_occasion\", \"special_occasion\", \"special_occasion\", \"specialize\", \"specialize\", \"specially\", \"spectacular\", \"spectacular\", \"spectacular\", \"spectacular\", \"spectacular\", \"spend\", \"spend\", \"spend\", \"spend\", \"spend\", \"spend\", \"spend\", \"spend\", \"spend\", \"spend\", \"spend\", \"spend\", \"spend\", \"spend\", \"spend\", \"spice\", \"spice\", \"spice\", \"spice\", \"spice\", \"spice_level\", \"spiciness\", \"spicy\", \"spicy\", \"spicy\", \"spicy\", \"spicy\", \"spicy_tuna\", \"spinach_artichoke_dip\", \"spirit\", \"spite\", \"sport\", \"spot\", \"spot\", \"spot\", \"spot\", \"spot\", \"spot\", \"spot\", \"spot\", \"spot\", \"spot\", \"spot\", \"spot\", \"spot\", \"spot\", \"spot\", \"spot\", \"spot\", \"spot\", \"spot\", \"spot\", \"spot\", \"spot\", \"spotty\", \"spring_roll\", \"sriracha\", \"stack'd\", \"staff\", \"staff\", \"staff\", \"staff\", \"staff\", \"staff\", \"staff\", \"staff\", \"staff\", \"staff\", \"staff\", \"staff_member\", \"stage\", \"stair\", \"stale\", \"stale\", \"stale\", \"stale\", \"stale\", \"stall\", \"stand\", \"stand\", \"stand\", \"stand\", \"stand\", \"stand\", \"stand\", \"stand\", \"stand\", \"stand\", \"stand\", \"stand\", \"stand\", \"stand\", \"stand\", \"stand\", \"stand\", \"stand\", \"stand\", \"staple\", \"star\", \"star\", \"star\", \"star\", \"star\", \"star\", \"star\", \"star\", \"star_rating\", \"star_rating\", \"starbucks\", \"start\", \"start\", \"start\", \"start\", \"start\", \"start\", \"start\", \"start\", \"start\", \"start\", \"start\", \"start\", \"start\", \"start\", \"start\", \"start\", \"start\", \"start\", \"start\", \"start\", \"start\", \"start\", \"start\", \"start\", \"start\", \"start\", \"start\", \"station\", \"station\", \"stay\", \"stay\", \"stay\", \"stay\", \"stay\", \"stay\", \"stay\", \"stay\", \"stay\", \"stay\", \"stay\", \"stay\", \"stay_away\", \"stay_away\", \"stay_away\", \"stay_away\", \"steak\", \"steakhouse\", \"steaks\", \"steam\", \"steam\", \"steam\", \"steam\", \"steam\", \"stephanie\", \"steve\", \"stew\", \"sticky_rice\", \"stomach_ache\", \"stool\", \"stop\", \"stop\", \"stop\", \"stop\", \"stop\", \"stop\", \"stop\", \"stop\", \"stop\", \"stop\", \"stop\", \"stop\", \"stop\", \"stop\", \"stop\", \"stop\", \"stop\", \"stop\", \"stop\", \"stop\", \"store\", \"stranger\", \"strawberry\", \"street\", \"street\", \"street\", \"street\", \"street\", \"street\", \"street\", \"street\", \"street\", \"street\", \"street\", \"street\", \"street\", \"street\", \"street\", \"street\", \"street\", \"street\", \"street\", \"street\", \"street\", \"stress\", \"strike\", \"strip\", \"strongly_recommend\", \"study\", \"stuff\", \"stuff\", \"stuff\", \"stuff\", \"stuff\", \"stuff\", \"stuff\", \"stuff\", \"stuff\", \"stuff\", \"stuff\", \"stuff\", \"stuff\", \"stuff\", \"stuff\", \"stuff\", \"stuff\", \"stuff\", \"stuff\", \"stuff\", \"stuff\", \"stuff\", \"stuff\", \"stuff\", \"stuffy\", \"stumble_upon\", \"stumble_upon\", \"stumble_upon\", \"sub\", \"substitution\", \"subway\", \"suck\", \"suck\", \"suck\", \"suck\", \"suffer\", \"sugar\", \"sugar\", \"sugar\", \"sugary\", \"sujeo\", \"summer\", \"summer\", \"summer\", \"summer\", \"summer\", \"summerlin\", \"sun_dry_tomato\", \"sundae\", \"sunday_afternoon\", \"sunday_brunch\", \"sunday_morning\", \"sunset\", \"super\", \"super\", \"super\", \"super\", \"super\", \"super\", \"super\", \"super\", \"super\", \"super\", \"super\", \"super\", \"super\", \"super\", \"super\", \"super\", \"super\", \"super\", \"super\", \"super\", \"super\", \"super\", \"super\", \"super\", \"super\", \"super\", \"support\", \"support\", \"sure\", \"sure\", \"sure\", \"sure\", \"sure\", \"sure\", \"sure\", \"sure\", \"sure\", \"sure\", \"sure\", \"sure\", \"sure\", \"sure\", \"sure\", \"sure\", \"sure\", \"sure\", \"sure\", \"sure\", \"sure\", \"sure\", \"sure\", \"sure\", \"sure\", \"sure\", \"sure\", \"sure\", \"sure\", \"surf\", \"surrounding\", \"sushi\", \"sushi_fever\", \"sweet\", \"sweet\", \"sweet\", \"sweet\", \"sweet\", \"sweet\", \"sweet\", \"sweet\", \"sweet\", \"sweet\", \"sweet\", \"sweet\", \"sweet\", \"sweet\", \"sweet\", \"sweet\", \"sweet_potato\", \"sweet_potato\", \"sweet_potato\", \"sweetness\", \"syrup\", \"syrup\", \"ta\", \"table\", \"table\", \"table\", \"table\", \"table\", \"table\", \"table\", \"table\", \"table\", \"tacky\", \"taco\", \"taco_bell\", \"tacos\", \"tail\", \"taiwanese\", \"takoyaki\", \"talk\", \"talk\", \"talk\", \"talk\", \"talk\", \"talk\", \"talk\", \"talk\", \"talk\", \"talk\", \"tamale\", \"tao\", \"tap\", \"tapa\", \"tapas\", \"tart\", \"tartar\", \"tartar_sauce\", \"taste\", \"taste\", \"taste\", \"taste\", \"taste\", \"taste\", \"taste\", \"taste\", \"taste\", \"taste\", \"taste\", \"taste\", \"taste\", \"taste\", \"taste\", \"taste\", \"taste\", \"taste\", \"taste\", \"taste\", \"taste\", \"taste\", \"taste\", \"taste\", \"tasteless\", \"tasteless\", \"tastey\", \"tasty\", \"tasty\", \"tasty\", \"tasty\", \"tasty\", \"tasty\", \"tasty\", \"tasty\", \"tasty\", \"tasty\", \"tasty\", \"tasty\", \"tasty\", \"tasty\", \"tasty\", \"tasty\", \"tasty\", \"tasty\", \"tasty\", \"tasty\", \"tasty\", \"tasty\", \"tasty\", \"tasty\", \"tasty\", \"tasty\", \"tasty\", \"tater_tot\", \"tavern\", \"tax\", \"tea\", \"tell\", \"tell\", \"tell\", \"tell\", \"tell\", \"tell\", \"tell\", \"tell\", \"tell\", \"tell\", \"tell\", \"tell\", \"tempe\", \"tempura\", \"ten_minute\", \"tender\", \"tender\", \"tender\", \"tender\", \"tender\", \"tender\", \"tender\", \"tenderloin\", \"tent\", \"teppanyaki\", \"tequila\", \"teriyaki\", \"teriyaki\", \"terrace\", \"terrible\", \"tex_mex\", \"texas\", \"texas\", \"texas_toast\", \"text\", \"text\", \"text\", \"texture\", \"texture\", \"texture\", \"texture\", \"texture\", \"texture\", \"thai\", \"thai_basil\", \"thai_iced_tea\", \"thank\", \"thank\", \"thank\", \"thank\", \"thank\", \"thank\", \"thank\", \"thank\", \"thank_goodness\", \"thanksgiving\", \"thick\", \"thick\", \"thick\", \"thick\", \"thick\", \"thick\", \"thick\", \"thick\", \"thick\", \"thick\", \"thick\", \"thigh\", \"thin\", \"thin\", \"thin\", \"thin\", \"thin\", \"thin\", \"thin\", \"thin\", \"thin\", \"thin\", \"thin_crust\", \"thing\", \"thing\", \"thing\", \"thing\", \"thing\", \"thing\", \"thing\", \"thing\", \"thing\", \"thing\", \"thing\", \"thing\", \"thing\", \"thing\", \"thing\", \"thing\", \"thing\", \"thing\", \"thing\", \"thing\", \"thing\", \"thing\", \"thing\", \"thing\", \"thing\", \"thing\", \"thing\", \"thing\", \"think\", \"think\", \"think\", \"think\", \"think\", \"think\", \"think\", \"think\", \"think\", \"think\", \"think\", \"think\", \"think\", \"think\", \"think\", \"think\", \"think\", \"think\", \"think\", \"think\", \"think\", \"think\", \"think\", \"think\", \"think\", \"think\", \"think\", \"think\", \"think\", \"tho\", \"thomas_keller\", \"thrill\", \"thrilled\", \"throw\", \"throw\", \"throw\", \"throw\", \"throw\", \"throw\", \"throw\", \"throw\", \"throw\", \"throw\", \"throw\", \"throw\", \"throw\", \"throw\", \"throw\", \"thumb_up\", \"thumbs_up\", \"thursday\", \"thursday\", \"thursday\", \"thursday\", \"tiger_shrimp\", \"tilapia\", \"tim\", \"time\", \"time\", \"time\", \"time\", \"time\", \"time\", \"time\", \"time\", \"time\", \"time\", \"time\", \"time\", \"time\", \"time\", \"time\", \"time\", \"time\", \"time\", \"time\", \"time\", \"time\", \"time\", \"time\", \"time\", \"time\", \"time\", \"time\", \"time\", \"timely\", \"timely_manner\", \"tip\", \"tip\", \"title\", \"tivoli\", \"tivoli_village\", \"tk\", \"toast\", \"toast\", \"toast\", \"toast\", \"toby_keith\", \"today\", \"today\", \"today\", \"today\", \"today\", \"today\", \"today\", \"today\", \"today\", \"today\", \"today\", \"today\", \"today\", \"today\", \"today\", \"tofu\", \"tofu\", \"tokyo\", \"tom\", \"tom_colicchio\", \"tomato\", \"tomato\", \"tomato\", \"tomato\", \"tomato_basil\", \"ton\", \"ton\", \"ton\", \"ton\", \"ton\", \"ton\", \"ton\", \"ton\", \"ton\", \"ton\", \"ton\", \"ton\", \"ton\", \"ton\", \"ton\", \"ton\", \"ton\", \"ton\", \"ton\", \"ton\", \"ton\", \"ton\", \"ton\", \"ton\", \"ton\", \"ton\", \"tongue\", \"tonkatsu\", \"tonkotsu\", \"tony\", \"tooth\", \"top_notch\", \"top_notch\", \"top_notch\", \"top_notch\", \"top_notch\", \"topping\", \"topping\", \"topping\", \"toronto\", \"torta\", \"tortilla\", \"tortilla_chip\", \"tostada\", \"tot\", \"total\", \"total\", \"total\", \"total\", \"total\", \"total\", \"total\", \"total\", \"total\", \"tourist\", \"tourist\", \"towel\", \"tower\", \"town\", \"town\", \"town\", \"town\", \"town\", \"town\", \"town\", \"town\", \"town\", \"town\", \"town\", \"town\", \"town\", \"town\", \"town\", \"town\", \"town\", \"town\", \"town\", \"town\", \"town\", \"town_square\", \"tradition\", \"tree\", \"trek\", \"trendy\", \"trendy\", \"trendy\", \"trendy\", \"trendy\", \"trendy\", \"trendy\", \"trendy\", \"trick\", \"trick\", \"trio\", \"trio\", \"trip\", \"trip\", \"trip\", \"trip\", \"trip\", \"trip\", \"trip\", \"trip\", \"trip\", \"trip\", \"trip\", \"trip\", \"trip\", \"trip\", \"trip\", \"trip\", \"trip\", \"trip\", \"trip\", \"tripe\", \"trout\", \"truck\", \"truffle\", \"truffle_oil\", \"truly\", \"truly\", \"truly\", \"truly\", \"truly\", \"truly\", \"try\", \"try\", \"try\", \"try\", \"try\", \"try\", \"try\", \"try\", \"try\", \"try\", \"try\", \"try\", \"try\", \"try\", \"try\", \"try\", \"try\", \"try\", \"try\", \"try\", \"try\", \"try\", \"try\", \"try\", \"try\", \"try\", \"try\", \"try\", \"tuck\", \"tuck_away\", \"tucson\", \"tuesday\", \"tuesday\", \"tuesday\", \"tuesday\", \"tuesday_night\", \"tuesdays\", \"tuna\", \"tuna\", \"tuna_melt\", \"tune\", \"turf\", \"turkey\", \"turkey\", \"turkey\", \"turkey\", \"turkey\", \"turkey_club\", \"tv\", \"tv\", \"twenty_minute\", \"twice\", \"twice\", \"twice\", \"twice\", \"twice\", \"twice\", \"twice\", \"twice\", \"twist\", \"twist\", \"twist\", \"type\", \"type\", \"type\", \"type\", \"type\", \"type\", \"type\", \"type\", \"type\", \"type\", \"type\", \"type\", \"type\", \"type\", \"type\", \"type\", \"type\", \"type\", \"type\", \"type\", \"type\", \"type\", \"type\", \"type\", \"type\", \"type\", \"type\", \"type\", \"tzatziki_sauce\", \"u\", \"uber\", \"ugly\", \"um\", \"umi\", \"un\", \"un\", \"unacceptable\", \"unbelievably\", \"uncle\", \"und\", \"under_season\", \"underground\", \"understandable\", \"underwhelming\", \"underwhelming\", \"underwhelming\", \"unfortunate\", \"unfriendly\", \"uni\", \"unimpressed\", \"unique\", \"unique\", \"unique\", \"unique\", \"unique\", \"unique\", \"unique\", \"unique\", \"unique\", \"unique\", \"unique\", \"unique\", \"unique\", \"unique\", \"unlimited\", \"unpleasant\", \"unreal\", \"unwind\", \"update\", \"update\", \"update\", \"update\", \"update\", \"update\", \"update\", \"update\", \"update\", \"update\", \"update\", \"update\", \"upon_arrival\", \"uptown\", \"uptown\", \"ur\", \"use\", \"use\", \"use\", \"use\", \"use\", \"use\", \"use\", \"use\", \"use\", \"use\", \"use\", \"use\", \"use\", \"use\", \"use\", \"use\", \"use\", \"use\", \"use\", \"use\", \"use\", \"use\", \"use\", \"use\", \"use\", \"use\", \"usually\", \"usually\", \"usually\", \"usually\", \"usually\", \"usually\", \"usually\", \"usually\", \"usually\", \"usually\", \"usually\", \"usually\", \"usually\", \"usually\", \"usually\", \"usually\", \"usually\", \"usually\", \"usually\", \"usually\", \"usually\", \"usually\", \"usually\", \"usually\", \"utensil\", \"valentine_'s_day\", \"valet\", \"valley\", \"valley\", \"valley\", \"valley\", \"varied\", \"variety\", \"variety\", \"variety\", \"variety\", \"variety\", \"variety\", \"variety\", \"variety\", \"variety\", \"variety\", \"variety\", \"variety\", \"variety\", \"variety\", \"variety\", \"variety\", \"vast\", \"veg\", \"veg\", \"veg\", \"vegan\", \"vegas\", \"vegas\", \"vegas\", \"vegas\", \"vegas\", \"vegetable\", \"vegetable\", \"vegetable\", \"vegetable\", \"vegetable\", \"vegetable\", \"vegetarian\", \"veggie\", \"veggie\", \"veggie\", \"venetian\", \"venetian_hotel\", \"venue\", \"venue\", \"venue\", \"vermicelli\", \"vibe\", \"vibe\", \"vibe\", \"vibe\", \"vibe\", \"vibes\", \"viet\", \"vietnamese\", \"view\", \"view\", \"view\", \"view\", \"view\", \"view\", \"view\", \"view\", \"vig\", \"village\", \"vintage\", \"visit\", \"visit\", \"visit\", \"visit\", \"visit\", \"visit\", \"visit\", \"visit\", \"visit\", \"visit\", \"visit\", \"visit\", \"visit\", \"visit\", \"visit\", \"visit\", \"visit\", \"visit\", \"visit\", \"visit\", \"visit\", \"visit\", \"visit\", \"visit\", \"visit\", \"visit\", \"visit\", \"volume\", \"von\", \"vote\", \"voucher\", \"vs\", \"w\", \"w/\", \"waffle\", \"waffles\", \"wagyu\", \"wait\", \"wait\", \"waiter\", \"waiter\", \"waiter\", \"waiter\", \"waiter\", \"waiter\", \"waiter\", \"waiting\", \"waiting\", \"waitress\", \"waitress\", \"waitress\", \"waitress\", \"waitress\", \"waitress\", \"waitress\", \"wake\", \"walk\", \"walk\", \"walk\", \"walk\", \"walk\", \"walk\", \"walk\", \"walk\", \"walk\", \"walking\", \"wall\", \"wanna\", \"wanna\", \"wanna\", \"wanna\", \"want\", \"want\", \"want\", \"want\", \"want\", \"want\", \"want\", \"want\", \"want\", \"want\", \"want\", \"want\", \"want\", \"want\", \"want\", \"want\", \"want\", \"want\", \"want\", \"want\", \"want\", \"want\", \"want\", \"want\", \"want\", \"want\", \"want\", \"want\", \"want\", \"want\", \"war\", \"warrant\", \"warrant\", \"wasabi\", \"waste\", \"waste\", \"watch\", \"watch\", \"watch\", \"watch\", \"watch\", \"watch\", \"watch\", \"water\", \"water\", \"water\", \"water\", \"water\", \"water\", \"water\", \"water\", \"water\", \"water\", \"water\", \"water\", \"water\", \"water\", \"water\", \"water\", \"watermelon\", \"way\", \"way\", \"way\", \"way\", \"way\", \"way\", \"way\", \"way\", \"way\", \"way\", \"way\", \"way\", \"way\", \"way\", \"way\", \"way\", \"way\", \"way\", \"way\", \"way\", \"way\", \"way\", \"way\", \"way\", \"way\", \"way\", \"way\", \"way\", \"way\", \"way\", \"way\", \"way\", \"weak\", \"wear\", \"wear\", \"wear\", \"wear\", \"weather\", \"website\", \"website\", \"website\", \"website\", \"website\", \"website\", \"wedding\", \"wedge_salad\", \"wednesday\", \"wednesday\", \"wednesday_night\", \"week\", \"week\", \"week\", \"week\", \"week\", \"week\", \"week\", \"week\", \"week\", \"week\", \"week\", \"week\", \"week\", \"week\", \"week\", \"weekend\", \"weekend\", \"weekend\", \"weekend\", \"weekend\", \"weekend\", \"weekend\", \"weekend\", \"weekend\", \"weekend\", \"weekend\", \"weekend\", \"weekend\", \"weeknight\", \"welcome\", \"welcome\", \"welcome\", \"welcome\", \"welcome\", \"welcome\", \"welcome\", \"welcome\", \"welcome\", \"welcome\", \"welcome\", \"welcoming\", \"welcoming\", \"welcoming\", \"well_balanced\", \"went\", \"west\", \"west_side\", \"whim\", \"whip\", \"whip_cream\", \"whiskey\", \"whiskey\", \"whisky\", \"white_sangria\", \"whoa\", \"wicked_spoon\", \"wide_selection\", \"wide_variety\", \"wide_variety\", \"wife\", \"wife\", \"wife\", \"wife\", \"wife\", \"wife\", \"wife\", \"wife\", \"wife\", \"wife\", \"wife\", \"wife\", \"wife\", \"wife\", \"wife\", \"wife\", \"wife\", \"wifey\", \"wifi\", \"window\", \"window\", \"window\", \"windsor\", \"wine\", \"wine_list\", \"wing\", \"wings\", \"winterlicious\", \"wisconsin\", \"wok\", \"wolfgang_puck\", \"woman\", \"woman\", \"woman\", \"woman\", \"wonderful\", \"wonderful\", \"wonderful\", \"wonderful\", \"wonderful\", \"wonton\", \"wood\", \"wood_fire\", \"wooden\", \"work\", \"work\", \"work\", \"work\", \"work\", \"work\", \"work\", \"work\", \"work\", \"work\", \"work\", \"work\", \"work\", \"work\", \"work\", \"work\", \"work\", \"work\", \"work\", \"work\", \"work\", \"work\", \"work\", \"worker\", \"worker\", \"worker\", \"worker\", \"worst\", \"worth\", \"worth\", \"worth\", \"worth\", \"worth\", \"worth\", \"worth\", \"worth\", \"worth\", \"worth\", \"worth\", \"worth\", \"worth\", \"worth\", \"worth\", \"worth\", \"worth\", \"worth\", \"worth\", \"worth\", \"worth\", \"worth\", \"worth_every_penny\", \"worthwhile\", \"wow_factor\", \"wrap\", \"wrap\", \"wrap\", \"wrap\", \"wrap\", \"wrap\", \"wrap\", \"wrap\", \"wrap\", \"wrap\", \"wrap\", \"wrap\", \"wynn\", \"wynn_buffet\", \"y\", \"y\", \"ya\", \"yardbird\", \"yeah\", \"yeah\", \"yeah\", \"yeah\", \"yeah\", \"yeah\", \"year\", \"year\", \"year\", \"year\", \"year\", \"year\", \"year\", \"year_ago\", \"year_ago\", \"year_ago\", \"yellow_curry\", \"yellowtail\", \"yelp\", \"yelp\", \"yelp\", \"yelp\", \"yelp\", \"yelp\", \"yelp\", \"yelp\", \"yelp\", \"yelp\", \"yelp\", \"yelp\", \"yelp\", \"yelpers\", \"yes\", \"yes\", \"yes\", \"yes\", \"yes\", \"yes\", \"yes\", \"yes\", \"yes\", \"yes\", \"yes\", \"yes\", \"yes\", \"yes\", \"yes\", \"yes\", \"yes\", \"yes\", \"yes\", \"yes\", \"yes\", \"yes\", \"yes\", \"yogurt\", \"yountville\", \"yuck\", \"yuck\", \"yum\", \"yum\", \"yum\", \"yum\", \"yum\", \"yum\", \"yum\", \"yum\", \"yum\", \"yum\", \"yum\", \"yum_yum\", \"yummm\", \"yummy\", \"yummy\", \"yummy\", \"yummy\", \"yummy\", \"yummy\", \"yummy\", \"yummy\", \"yummy\", \"yummy\", \"yummy\", \"yummy\", \"yummy\", \"yup\", \"zero_star\", \"zinc\", \"zipps\", \"|\", \"~\", \"\\u00e0\"]}, \"R\": 30, \"lambda.step\": 0.01, \"plot.opts\": {\"xlab\": \"PC1\", \"ylab\": \"PC2\"}, \"topic.order\": [4, 19, 30, 44, 43, 42, 50, 1, 29, 18, 5, 7, 26, 16, 6, 25, 39, 35, 13, 21, 11, 15, 20, 49, 34, 46, 14, 38, 10, 12, 23, 31, 2, 27, 8, 47, 48, 3, 36, 24, 33, 41, 28, 22, 17, 37, 40, 45, 9, 32]};\n",
       "\n",
       "function LDAvis_load_lib(url, callback){\n",
       "  var s = document.createElement('script');\n",
       "  s.src = url;\n",
       "  s.async = true;\n",
       "  s.onreadystatechange = s.onload = callback;\n",
       "  s.onerror = function(){console.warn(\"failed to load library \" + url);};\n",
       "  document.getElementsByTagName(\"head\")[0].appendChild(s);\n",
       "}\n",
       "\n",
       "if(typeof(LDAvis) !== \"undefined\"){\n",
       "   // already loaded: just create the visualization\n",
       "   !function(LDAvis){\n",
       "       new LDAvis(\"#\" + \"ldavis_el4493622418037125769790553145\", ldavis_el4493622418037125769790553145_data);\n",
       "   }(LDAvis);\n",
       "}else if(typeof define === \"function\" && define.amd){\n",
       "   // require.js is available: use it to load d3/LDAvis\n",
       "   require.config({paths: {d3: \"https://cdnjs.cloudflare.com/ajax/libs/d3/3.5.5/d3.min\"}});\n",
       "   require([\"d3\"], function(d3){\n",
       "      window.d3 = d3;\n",
       "      LDAvis_load_lib(\"https://cdn.rawgit.com/bmabey/pyLDAvis/files/ldavis.v1.0.0.js\", function(){\n",
       "        new LDAvis(\"#\" + \"ldavis_el4493622418037125769790553145\", ldavis_el4493622418037125769790553145_data);\n",
       "      });\n",
       "    });\n",
       "}else{\n",
       "    // require.js not available: dynamically load d3 & LDAvis\n",
       "    LDAvis_load_lib(\"https://cdnjs.cloudflare.com/ajax/libs/d3/3.5.5/d3.min.js\", function(){\n",
       "         LDAvis_load_lib(\"https://cdn.rawgit.com/bmabey/pyLDAvis/files/ldavis.v1.0.0.js\", function(){\n",
       "                 new LDAvis(\"#\" + \"ldavis_el4493622418037125769790553145\", ldavis_el4493622418037125769790553145_data);\n",
       "            })\n",
       "         });\n",
       "}\n",
       "</script>"
      ],
      "text/plain": [
       "<IPython.core.display.HTML object>"
      ]
     },
     "execution_count": 48,
     "metadata": {},
     "output_type": "execute_result"
    }
   ],
   "source": [
    "pyLDAvis.display(LDAvis_prepared)"
   ]
  },
  {
   "cell_type": "markdown",
   "metadata": {},
   "source": [
    "..."
   ]
  },
  {
   "cell_type": "code",
   "execution_count": 49,
   "metadata": {
    "collapsed": true
   },
   "outputs": [],
   "source": [
    "def get_sample_review(review_number):\n",
    "    \"\"\"\n",
    "    retrieve a particular review index from the reviews file and return it\n",
    "    \"\"\"\n",
    "    \n",
    "    return list(it.islice(line_review(review_text_filepath),\n",
    "                         review_number,\n",
    "                         review_number + 1))[0]"
   ]
  },
  {
   "cell_type": "code",
   "execution_count": 50,
   "metadata": {
    "collapsed": true
   },
   "outputs": [],
   "source": [
    "def lda_description(review_text, min_topic_freq=0.05):\n",
    "    \"\"\"\n",
    "    take the original text of a review and\n",
    "    (1) parse it using SpaCy\n",
    "    (2) pre-process the text\n",
    "    (3) create a bow representation\n",
    "    (4) create an LDA representation\n",
    "    (5) print a sorted list of the top topics from the LDA representation\n",
    "    \"\"\"\n",
    "    \n",
    "    # (1) parse the text using SpaCy\n",
    "    parsed_review = nlp(review_text)\n",
    "    \n",
    "    # (2) pre-process the text\n",
    "    #  - lemmatize and remove punctuation and whitespace\n",
    "    unigram_review = [token.lemma_ for token in parsed_review\n",
    "                     if not punct_space(token)]\n",
    "    \n",
    "    #  - apply the first- and second-order phrase models\n",
    "    bigram_review = bigram_model[unigram_review]\n",
    "    trigram_review = trigram_model[bigram_review]\n",
    "    \n",
    "    #  - remove stopwords\n",
    "    trigram_review = [term for term in trigram_review\n",
    "                     if not term in spacy.en.STOP_WORDS]\n",
    "    \n",
    "    # (3) create a bow representation\n",
    "    review_bow = trigram_dictionary.doc2bow(trigram_review)\n",
    "    \n",
    "    # (4) create an LDA representation\n",
    "    review_lda = lda[review_bow]\n",
    "    \n",
    "    # sort with the most highly rated topics first\n",
    "    review_lda = sorted(review_lda, key=(lambda topic_number_freq: -topic_number_freq[1]))\n",
    "    \n",
    "    for topic_number, freq in review_lda:\n",
    "        if freq < min_topic_freq:\n",
    "            break\n",
    "        \n",
    "        # (5) print a sorted list of the top topics from the LDA representation\n",
    "        print('{:25} {}'.format(topic_names[topic_number],\n",
    "                               round(freq, 3)))"
   ]
  },
  {
   "cell_type": "code",
   "execution_count": 51,
   "metadata": {},
   "outputs": [
    {
     "name": "stdout",
     "output_type": "stream",
     "text": [
      "Pretty good food a chain. You do get a lot of food for the price. However, every time I have ordered online there has been a mistake. Sometimes they tell me they never even received my order when I received the confirmation email. Also, if you in during a busy time and have a teenage girl as a cashier, you're chances of having a pleasant experience with her are slim to none. This has happened to me multiple times with multiple different cashiers. I have spoken to the manager and he is always very apologetic, but I guess you just can't get stressed teenage girls to be nice to customers. I will continue to go here as the food is good for the price and they are relatively quick with preparation. Nice options if you're veggies as well.\n",
      "\n"
     ]
    }
   ],
   "source": [
    "sample_review = get_sample_review(50)\n",
    "print(sample_review)"
   ]
  },
  {
   "cell_type": "code",
   "execution_count": 52,
   "metadata": {},
   "outputs": [
    {
     "name": "stdout",
     "output_type": "stream",
     "text": [
      "crowdedness               0.265\n",
      "management                0.238\n",
      "service                   0.131\n",
      "quality                   0.098\n",
      "dessert                   0.091\n",
      "selections                0.066\n"
     ]
    }
   ],
   "source": [
    "lda_description(sample_review)"
   ]
  },
  {
   "cell_type": "markdown",
   "metadata": {},
   "source": [
    "..."
   ]
  },
  {
   "cell_type": "code",
   "execution_count": 53,
   "metadata": {},
   "outputs": [
    {
     "name": "stdout",
     "output_type": "stream",
     "text": [
      "If you blink. You will miss this little eatery, squished into the corner of a small strip mall in Mentor, Ohio.\n",
      "\n",
      "I went with a friend of mine from the area, who was treated like a rock star when he arrived (well, he IS a rock star), and that's indicative of the casual and familial vibe at this restaurant.  I didn't take notes - too busy enjoying the company - but I'm pretty sure I got a burrito and it was delicious.  Margaritas were excellent (this much I do remember) and service was quick and pleasant.  Now that I know that this place exists, it gives me even more reason to travel to the northern tip of Ohio for good company and eats!\n",
      "\n"
     ]
    }
   ],
   "source": [
    "sample_review = get_sample_review(100)\n",
    "print(sample_review)"
   ]
  },
  {
   "cell_type": "code",
   "execution_count": 54,
   "metadata": {},
   "outputs": [
    {
     "name": "stdout",
     "output_type": "stream",
     "text": [
      "experience                0.191\n",
      "positive                  0.161\n",
      "interior                  0.131\n",
      "awesomesauce              0.106\n",
      "crowdedness               0.097\n",
      "cost                      0.076\n",
      "breakfast                 0.064\n"
     ]
    }
   ],
   "source": [
    "lda_description(sample_review)"
   ]
  },
  {
   "cell_type": "markdown",
   "metadata": {},
   "source": [
    "..."
   ]
  },
  {
   "cell_type": "markdown",
   "metadata": {},
   "source": [
    "### Step 5: Word vector models with word2vec"
   ]
  },
  {
   "cell_type": "code",
   "execution_count": 55,
   "metadata": {},
   "outputs": [],
   "source": [
    "from gensim.models import Word2Vec\n",
    "\n",
    "trigram_sentences = LineSentence(trigram_sentences_filepath)\n",
    "word2vec_filepath = os.path.join(intermediate_directory, 'word2vec_model_all')"
   ]
  },
  {
   "cell_type": "markdown",
   "metadata": {},
   "source": [
    "..."
   ]
  },
  {
   "cell_type": "code",
   "execution_count": 58,
   "metadata": {},
   "outputs": [
    {
     "name": "stdout",
     "output_type": "stream",
     "text": [
      "12 training epochs so far.\n",
      "Wall time: 14h 16min 2s\n"
     ]
    }
   ],
   "source": [
    "%%time\n",
    "if False: # Once this is run once it does not need to be run again\n",
    "    \n",
    "    # initiate the model and perform training's first epoch\n",
    "    food2vec = Word2Vec(trigram_sentences, size=100, window=5,\n",
    "                       min_count=20, sg=1, workers=2)\n",
    "    \n",
    "    food2vec.save(word2vec_filepath)\n",
    "    \n",
    "    # repeat another 11 epochs\n",
    "    for i in range(1,12):\n",
    "        food2vec.train(trigram_sentences,\n",
    "                      total_examples=food2vec.corpus_count,\n",
    "                      epochs=food2vec.iter)\n",
    "        food2vec.save(word2vec_filepath)\n",
    "        \n",
    "# load the finished model back in after it's been built\n",
    "food2vec = Word2Vec.load(word2vec_filepath)\n",
    "food2vec.init_sims()\n",
    "\n",
    "print(u'{} training epochs so far.'.format(food2vec.train_count))"
   ]
  },
  {
   "cell_type": "markdown",
   "metadata": {},
   "source": [
    "This took over 15 hours total on my computer."
   ]
  },
  {
   "cell_type": "code",
   "execution_count": 60,
   "metadata": {},
   "outputs": [
    {
     "name": "stdout",
     "output_type": "stream",
     "text": [
      "91,036 terms in the food2vec vocabulary.\n"
     ]
    }
   ],
   "source": [
    "print(u'{:,} terms in the food2vec vocabulary.'.format(len(food2vec.wv.vocab)))"
   ]
  },
  {
   "cell_type": "markdown",
   "metadata": {},
   "source": [
    "..."
   ]
  },
  {
   "cell_type": "code",
   "execution_count": 65,
   "metadata": {},
   "outputs": [],
   "source": [
    "# build a list of the terms, integer indices, and term counts from food2vec's vocabulary\n",
    "ordered_vocab = [(term, voc.index, voc.count)\n",
    "                for term, voc in food2vec.wv.vocab.items()]\n",
    "\n",
    "# sort by term counts to order most frequent terms first\n",
    "ordered_vocab = sorted(ordered_vocab, key=(lambda term_index_count: -term_index_count[2]))\n",
    "\n",
    "# unzip the three into separate list\n",
    "ordered_terms, term_indices, term_counts = zip(*ordered_vocab)\n",
    "\n",
    "# create a Pandas dataframe with the vectors as data and the terms as rows\n",
    "word_vectors = pd.DataFrame(food2vec.wv.syn0norm[term_indices, :],\n",
    "                           index=ordered_terms)"
   ]
  },
  {
   "cell_type": "markdown",
   "metadata": {},
   "source": [
    "..."
   ]
  },
  {
   "cell_type": "code",
   "execution_count": 66,
   "metadata": {
    "collapsed": true
   },
   "outputs": [],
   "source": [
    "def get_related_terms(token, topn=10):\n",
    "    \"\"\"\n",
    "    Look up the topn most similar terms to the token and print them as  a list.\n",
    "    \"\"\"\n",
    "    \n",
    "    for word, similarity in food2vec.most_similar(positive=[token], topn=topn):\n",
    "        print(u'{:20} {}'.format(word, round(similarity, 3)))"
   ]
  },
  {
   "cell_type": "markdown",
   "metadata": {},
   "source": [
    "..."
   ]
  },
  {
   "cell_type": "code",
   "execution_count": 70,
   "metadata": {},
   "outputs": [
    {
     "name": "stdout",
     "output_type": "stream",
     "text": [
      "mcdonalds            0.974\n",
      "mcd_'s               0.95\n",
      "mcdonald             0.925\n",
      "wendy_'s             0.916\n",
      "mcd                  0.905\n",
      "mcds                 0.9\n",
      "carl_'s_jr.          0.886\n",
      "wendys               0.877\n",
      "bk                   0.868\n",
      "mickey_d_'s          0.865\n"
     ]
    }
   ],
   "source": [
    "get_related_terms(u\"mcdonald_'s\")"
   ]
  },
  {
   "cell_type": "markdown",
   "metadata": {},
   "source": [
    "..."
   ]
  },
  {
   "cell_type": "code",
   "execution_count": 68,
   "metadata": {},
   "outputs": [
    {
     "name": "stdout",
     "output_type": "stream",
     "text": [
      "hh                   0.905\n",
      "reverse_happy_hour   0.89\n",
      "happy_hr             0.863\n",
      "happy_hour-          0.831\n",
      "4_7pm                0.795\n",
      "happy_hour_3_6pm     0.785\n",
      "5_7pm                0.783\n",
      "4_6pm                0.779\n",
      "3pm-6pm              0.762\n",
      "happy_hour_m_f       0.761\n"
     ]
    }
   ],
   "source": [
    "get_related_terms(u'happy_hour')"
   ]
  },
  {
   "cell_type": "markdown",
   "metadata": {},
   "source": [
    "..."
   ]
  },
  {
   "cell_type": "code",
   "execution_count": 69,
   "metadata": {},
   "outputs": [
    {
     "name": "stdout",
     "output_type": "stream",
     "text": [
      "spaghetti            0.856\n",
      "rigatoni             0.854\n",
      "fettuccine           0.852\n",
      "penne                0.846\n",
      "lasagna              0.828\n",
      "ziti                 0.827\n",
      "bolognese            0.825\n",
      "manicotti            0.824\n",
      "fettucini            0.821\n",
      "linguine             0.813\n",
      "alfredo              0.81\n",
      "tortellini           0.809\n",
      "angel_hair_pasta     0.807\n",
      "fettuccini           0.806\n",
      "linguini             0.802\n",
      "penne_alla_vodka     0.802\n",
      "penne_pasta          0.801\n",
      "angel_hair           0.8\n",
      "gnocchi              0.798\n",
      "lasagne              0.792\n"
     ]
    }
   ],
   "source": [
    "get_related_terms(u'pasta', topn=20)"
   ]
  },
  {
   "cell_type": "markdown",
   "metadata": {},
   "source": [
    "..."
   ]
  },
  {
   "cell_type": "code",
   "execution_count": 71,
   "metadata": {
    "collapsed": true
   },
   "outputs": [],
   "source": [
    "def word_algebra(add=[], subtract=[], topn=1):\n",
    "    \"\"\"\n",
    "    combine the vectors of words in add and subtract,\n",
    "    and print the topn most similar terms to the combined vector\n",
    "    \"\"\"\n",
    "    \n",
    "    answers = food2vec.most_similar(positive=add, negative=subtract, topn=topn)\n",
    "    \n",
    "    for term, similarity in answers:\n",
    "        print(term)"
   ]
  },
  {
   "cell_type": "markdown",
   "metadata": {},
   "source": [
    "..."
   ]
  },
  {
   "cell_type": "code",
   "execution_count": 72,
   "metadata": {},
   "outputs": [
    {
     "name": "stdout",
     "output_type": "stream",
     "text": [
      "brunch\n"
     ]
    }
   ],
   "source": [
    "word_algebra(add=[u'breakfast', u'lunch'])"
   ]
  },
  {
   "cell_type": "markdown",
   "metadata": {},
   "source": [
    "..."
   ]
  },
  {
   "cell_type": "code",
   "execution_count": 73,
   "metadata": {},
   "outputs": [
    {
     "name": "stdout",
     "output_type": "stream",
     "text": [
      "dinner\n"
     ]
    }
   ],
   "source": [
    "word_algebra(add=[u'lunch', u'night'], subtract=[u'day'])"
   ]
  },
  {
   "cell_type": "markdown",
   "metadata": {},
   "source": [
    "..."
   ]
  },
  {
   "cell_type": "code",
   "execution_count": 74,
   "metadata": {},
   "outputs": [
    {
     "name": "stdout",
     "output_type": "stream",
     "text": [
      "dumpling\n"
     ]
    }
   ],
   "source": [
    "word_algebra(add=[u'taco', u'chinese'], subtract=[u'mexican'])"
   ]
  },
  {
   "cell_type": "markdown",
   "metadata": {},
   "source": [
    "..."
   ]
  },
  {
   "cell_type": "code",
   "execution_count": 75,
   "metadata": {},
   "outputs": [
    {
     "name": "stdout",
     "output_type": "stream",
     "text": [
      "steamed_bun\n"
     ]
    }
   ],
   "source": [
    "word_algebra(add=[u'bun', u'mexican'], subtract=[u'american'])"
   ]
  },
  {
   "cell_type": "markdown",
   "metadata": {},
   "source": [
    "..."
   ]
  },
  {
   "cell_type": "code",
   "execution_count": 76,
   "metadata": {},
   "outputs": [
    {
     "name": "stdout",
     "output_type": "stream",
     "text": [
      "alaskan_king_crab_leg\n"
     ]
    }
   ],
   "source": [
    "word_algebra(add=[u'filet_mignon', u'seafood'], subtract=[u'beef'])"
   ]
  },
  {
   "cell_type": "markdown",
   "metadata": {},
   "source": [
    "..."
   ]
  },
  {
   "cell_type": "code",
   "execution_count": 77,
   "metadata": {},
   "outputs": [
    {
     "name": "stdout",
     "output_type": "stream",
     "text": [
      "pastry\n"
     ]
    }
   ],
   "source": [
    "word_algebra(add=[u'coffee', u'snack'], subtract=[u'drink'])"
   ]
  },
  {
   "cell_type": "markdown",
   "metadata": {},
   "source": [
    "..."
   ]
  },
  {
   "cell_type": "code",
   "execution_count": 79,
   "metadata": {},
   "outputs": [
    {
     "name": "stdout",
     "output_type": "stream",
     "text": [
      "denny_'s\n"
     ]
    }
   ],
   "source": [
    "word_algebra(add=[u\"mcdonald_'s\", u'fine_dining'])"
   ]
  },
  {
   "cell_type": "markdown",
   "metadata": {},
   "source": [
    "..."
   ]
  },
  {
   "cell_type": "code",
   "execution_count": 80,
   "metadata": {},
   "outputs": [
    {
     "name": "stdout",
     "output_type": "stream",
     "text": [
      "dennys\n"
     ]
    }
   ],
   "source": [
    "word_algebra(add=[u\"denny_'s\", u'fine_dining'])"
   ]
  },
  {
   "cell_type": "markdown",
   "metadata": {},
   "source": [
    "..."
   ]
  },
  {
   "cell_type": "code",
   "execution_count": 81,
   "metadata": {},
   "outputs": [
    {
     "name": "stdout",
     "output_type": "stream",
     "text": [
      "olive_garden\n"
     ]
    }
   ],
   "source": [
    "word_algebra(add=[u\"applebee_'s\", u'italian'])"
   ]
  },
  {
   "cell_type": "markdown",
   "metadata": {},
   "source": [
    "..."
   ]
  },
  {
   "cell_type": "code",
   "execution_count": 82,
   "metadata": {},
   "outputs": [
    {
     "name": "stdout",
     "output_type": "stream",
     "text": [
      "ihop\n"
     ]
    }
   ],
   "source": [
    "word_algebra(add=[u\"applebee_'s\", u'pancakes'])"
   ]
  },
  {
   "cell_type": "markdown",
   "metadata": {},
   "source": [
    "..."
   ]
  },
  {
   "cell_type": "code",
   "execution_count": 83,
   "metadata": {},
   "outputs": [
    {
     "name": "stdout",
     "output_type": "stream",
     "text": [
      "barro_'s\n"
     ]
    }
   ],
   "source": [
    "word_algebra(add=[u\"applebee_'s\", u'pizza'])"
   ]
  },
  {
   "cell_type": "markdown",
   "metadata": {},
   "source": [
    "..."
   ]
  },
  {
   "cell_type": "code",
   "execution_count": 84,
   "metadata": {},
   "outputs": [
    {
     "name": "stdout",
     "output_type": "stream",
     "text": [
      "merlot\n"
     ]
    }
   ],
   "source": [
    "word_algebra(add=[u'wine', u'barley'], subtract=[u'grapes'])"
   ]
  },
  {
   "cell_type": "markdown",
   "metadata": {},
   "source": [
    "..."
   ]
  },
  {
   "cell_type": "markdown",
   "metadata": {},
   "source": [
    "### Step 6: Visualizing word2vec with t-SNE"
   ]
  },
  {
   "cell_type": "code",
   "execution_count": 85,
   "metadata": {
    "collapsed": true
   },
   "outputs": [],
   "source": [
    "from sklearn.manifold import TSNE"
   ]
  },
  {
   "cell_type": "markdown",
   "metadata": {},
   "source": [
    "..."
   ]
  },
  {
   "cell_type": "code",
   "execution_count": 86,
   "metadata": {},
   "outputs": [
    {
     "data": {
      "text/html": [
       "<div>\n",
       "<style>\n",
       "    .dataframe thead tr:only-child th {\n",
       "        text-align: right;\n",
       "    }\n",
       "\n",
       "    .dataframe thead th {\n",
       "        text-align: left;\n",
       "    }\n",
       "\n",
       "    .dataframe tbody tr th {\n",
       "        vertical-align: top;\n",
       "    }\n",
       "</style>\n",
       "<table border=\"1\" class=\"dataframe\">\n",
       "  <thead>\n",
       "    <tr style=\"text-align: right;\">\n",
       "      <th></th>\n",
       "      <th>0</th>\n",
       "      <th>1</th>\n",
       "      <th>2</th>\n",
       "      <th>3</th>\n",
       "      <th>4</th>\n",
       "      <th>5</th>\n",
       "      <th>6</th>\n",
       "      <th>7</th>\n",
       "      <th>8</th>\n",
       "      <th>9</th>\n",
       "      <th>...</th>\n",
       "      <th>90</th>\n",
       "      <th>91</th>\n",
       "      <th>92</th>\n",
       "      <th>93</th>\n",
       "      <th>94</th>\n",
       "      <th>95</th>\n",
       "      <th>96</th>\n",
       "      <th>97</th>\n",
       "      <th>98</th>\n",
       "      <th>99</th>\n",
       "    </tr>\n",
       "  </thead>\n",
       "  <tbody>\n",
       "    <tr>\n",
       "      <th>-PRON-</th>\n",
       "      <td>0.072001</td>\n",
       "      <td>-0.085673</td>\n",
       "      <td>-0.115002</td>\n",
       "      <td>-0.131268</td>\n",
       "      <td>0.130546</td>\n",
       "      <td>-0.091399</td>\n",
       "      <td>0.092090</td>\n",
       "      <td>0.061851</td>\n",
       "      <td>-0.044852</td>\n",
       "      <td>0.075698</td>\n",
       "      <td>...</td>\n",
       "      <td>0.036346</td>\n",
       "      <td>-0.104727</td>\n",
       "      <td>-0.034779</td>\n",
       "      <td>-0.069648</td>\n",
       "      <td>0.144019</td>\n",
       "      <td>0.050682</td>\n",
       "      <td>-0.030202</td>\n",
       "      <td>0.046225</td>\n",
       "      <td>0.019045</td>\n",
       "      <td>0.002935</td>\n",
       "    </tr>\n",
       "    <tr>\n",
       "      <th>good</th>\n",
       "      <td>0.043744</td>\n",
       "      <td>-0.061336</td>\n",
       "      <td>-0.088378</td>\n",
       "      <td>-0.085642</td>\n",
       "      <td>0.021823</td>\n",
       "      <td>-0.018142</td>\n",
       "      <td>-0.075616</td>\n",
       "      <td>0.081995</td>\n",
       "      <td>-0.050594</td>\n",
       "      <td>0.026308</td>\n",
       "      <td>...</td>\n",
       "      <td>0.151693</td>\n",
       "      <td>0.151151</td>\n",
       "      <td>-0.026826</td>\n",
       "      <td>0.033992</td>\n",
       "      <td>0.052284</td>\n",
       "      <td>-0.055157</td>\n",
       "      <td>-0.054231</td>\n",
       "      <td>0.177916</td>\n",
       "      <td>0.128972</td>\n",
       "      <td>0.047372</td>\n",
       "    </tr>\n",
       "    <tr>\n",
       "      <th>food</th>\n",
       "      <td>0.117888</td>\n",
       "      <td>-0.181887</td>\n",
       "      <td>0.060473</td>\n",
       "      <td>0.126244</td>\n",
       "      <td>0.209582</td>\n",
       "      <td>0.047414</td>\n",
       "      <td>-0.047423</td>\n",
       "      <td>0.075752</td>\n",
       "      <td>-0.018864</td>\n",
       "      <td>0.043803</td>\n",
       "      <td>...</td>\n",
       "      <td>-0.025871</td>\n",
       "      <td>0.000534</td>\n",
       "      <td>0.070550</td>\n",
       "      <td>-0.028516</td>\n",
       "      <td>0.201392</td>\n",
       "      <td>-0.098547</td>\n",
       "      <td>-0.061869</td>\n",
       "      <td>0.025773</td>\n",
       "      <td>0.082732</td>\n",
       "      <td>0.172148</td>\n",
       "    </tr>\n",
       "    <tr>\n",
       "      <th>place</th>\n",
       "      <td>0.084988</td>\n",
       "      <td>-0.324791</td>\n",
       "      <td>-0.055835</td>\n",
       "      <td>-0.018883</td>\n",
       "      <td>0.182912</td>\n",
       "      <td>-0.029256</td>\n",
       "      <td>-0.020491</td>\n",
       "      <td>0.030620</td>\n",
       "      <td>-0.027119</td>\n",
       "      <td>0.139906</td>\n",
       "      <td>...</td>\n",
       "      <td>0.011010</td>\n",
       "      <td>-0.025304</td>\n",
       "      <td>0.099694</td>\n",
       "      <td>-0.090623</td>\n",
       "      <td>0.082347</td>\n",
       "      <td>-0.067192</td>\n",
       "      <td>-0.173651</td>\n",
       "      <td>0.010739</td>\n",
       "      <td>0.026422</td>\n",
       "      <td>-0.009660</td>\n",
       "    </tr>\n",
       "    <tr>\n",
       "      <th>order</th>\n",
       "      <td>0.001718</td>\n",
       "      <td>-0.081069</td>\n",
       "      <td>0.001485</td>\n",
       "      <td>-0.250100</td>\n",
       "      <td>0.149529</td>\n",
       "      <td>0.015925</td>\n",
       "      <td>-0.012842</td>\n",
       "      <td>-0.014634</td>\n",
       "      <td>-0.007161</td>\n",
       "      <td>0.057533</td>\n",
       "      <td>...</td>\n",
       "      <td>-0.021325</td>\n",
       "      <td>-0.049446</td>\n",
       "      <td>0.020087</td>\n",
       "      <td>-0.207049</td>\n",
       "      <td>0.071794</td>\n",
       "      <td>-0.163573</td>\n",
       "      <td>0.083540</td>\n",
       "      <td>0.036266</td>\n",
       "      <td>-0.108861</td>\n",
       "      <td>-0.009785</td>\n",
       "    </tr>\n",
       "  </tbody>\n",
       "</table>\n",
       "<p>5 rows × 100 columns</p>\n",
       "</div>"
      ],
      "text/plain": [
       "              0         1         2         3         4         5         6   \\\n",
       "-PRON-  0.072001 -0.085673 -0.115002 -0.131268  0.130546 -0.091399  0.092090   \n",
       "good    0.043744 -0.061336 -0.088378 -0.085642  0.021823 -0.018142 -0.075616   \n",
       "food    0.117888 -0.181887  0.060473  0.126244  0.209582  0.047414 -0.047423   \n",
       "place   0.084988 -0.324791 -0.055835 -0.018883  0.182912 -0.029256 -0.020491   \n",
       "order   0.001718 -0.081069  0.001485 -0.250100  0.149529  0.015925 -0.012842   \n",
       "\n",
       "              7         8         9     ...           90        91        92  \\\n",
       "-PRON-  0.061851 -0.044852  0.075698    ...     0.036346 -0.104727 -0.034779   \n",
       "good    0.081995 -0.050594  0.026308    ...     0.151693  0.151151 -0.026826   \n",
       "food    0.075752 -0.018864  0.043803    ...    -0.025871  0.000534  0.070550   \n",
       "place   0.030620 -0.027119  0.139906    ...     0.011010 -0.025304  0.099694   \n",
       "order  -0.014634 -0.007161  0.057533    ...    -0.021325 -0.049446  0.020087   \n",
       "\n",
       "              93        94        95        96        97        98        99  \n",
       "-PRON- -0.069648  0.144019  0.050682 -0.030202  0.046225  0.019045  0.002935  \n",
       "good    0.033992  0.052284 -0.055157 -0.054231  0.177916  0.128972  0.047372  \n",
       "food   -0.028516  0.201392 -0.098547 -0.061869  0.025773  0.082732  0.172148  \n",
       "place  -0.090623  0.082347 -0.067192 -0.173651  0.010739  0.026422 -0.009660  \n",
       "order  -0.207049  0.071794 -0.163573  0.083540  0.036266 -0.108861 -0.009785  \n",
       "\n",
       "[5 rows x 100 columns]"
      ]
     },
     "execution_count": 86,
     "metadata": {},
     "output_type": "execute_result"
    }
   ],
   "source": [
    "tsne_input = word_vectors.drop(spacy.en.STOP_WORDS, errors=u'ignore')\n",
    "tsne_input = tsne_input.head(5000)\n",
    "\n",
    "tsne_input.head()"
   ]
  },
  {
   "cell_type": "markdown",
   "metadata": {},
   "source": [
    "..."
   ]
  },
  {
   "cell_type": "code",
   "execution_count": 87,
   "metadata": {
    "collapsed": true
   },
   "outputs": [],
   "source": [
    "tsne_filepath = os.path.join(intermediate_directory,\n",
    "                            u'tsne_model')\n",
    "\n",
    "tsne_vectors_filepath = os.path.join(intermediate_directory,\n",
    "                                    u'tsne_vectors.npy')"
   ]
  },
  {
   "cell_type": "code",
   "execution_count": 91,
   "metadata": {},
   "outputs": [
    {
     "name": "stdout",
     "output_type": "stream",
     "text": [
      "Wall time: 20 ms\n"
     ]
    }
   ],
   "source": [
    "%%time\n",
    "if False: # Once this is run once it does not need to be run again\n",
    "    \n",
    "    tsne = TSNE()\n",
    "    tsne_vectors = tsne.fit_transform(tsne_input.values)\n",
    "    \n",
    "    with open(tsne_filepath, 'wb') as f:\n",
    "        pickle.dump(tsne, f)\n",
    "        \n",
    "    pd.np.save(tsne_vectors_filepath, tsne_vectors)\n",
    "\n",
    "    \n",
    "with open(tsne_filepath, 'rb') as f:\n",
    "    tsne = pickle.load(f)\n",
    "    \n",
    "tsne_vectors = pd.np.load(tsne_vectors_filepath)\n",
    "\n",
    "tsne_vectors = pd.DataFrame(tsne_vectors,\n",
    "                            index=pd.Index(tsne_input.index),\n",
    "                            columns=[u'x_coord', u'y_coord'])"
   ]
  },
  {
   "cell_type": "markdown",
   "metadata": {},
   "source": [
    "..."
   ]
  },
  {
   "cell_type": "code",
   "execution_count": 92,
   "metadata": {},
   "outputs": [
    {
     "data": {
      "text/html": [
       "<div>\n",
       "<style>\n",
       "    .dataframe thead tr:only-child th {\n",
       "        text-align: right;\n",
       "    }\n",
       "\n",
       "    .dataframe thead th {\n",
       "        text-align: left;\n",
       "    }\n",
       "\n",
       "    .dataframe tbody tr th {\n",
       "        vertical-align: top;\n",
       "    }\n",
       "</style>\n",
       "<table border=\"1\" class=\"dataframe\">\n",
       "  <thead>\n",
       "    <tr style=\"text-align: right;\">\n",
       "      <th></th>\n",
       "      <th>x_coord</th>\n",
       "      <th>y_coord</th>\n",
       "    </tr>\n",
       "  </thead>\n",
       "  <tbody>\n",
       "    <tr>\n",
       "      <th>-PRON-</th>\n",
       "      <td>-1.367210</td>\n",
       "      <td>5.265493</td>\n",
       "    </tr>\n",
       "    <tr>\n",
       "      <th>good</th>\n",
       "      <td>9.012697</td>\n",
       "      <td>1.281403</td>\n",
       "    </tr>\n",
       "    <tr>\n",
       "      <th>food</th>\n",
       "      <td>6.129308</td>\n",
       "      <td>2.012850</td>\n",
       "    </tr>\n",
       "    <tr>\n",
       "      <th>place</th>\n",
       "      <td>-2.732799</td>\n",
       "      <td>7.652569</td>\n",
       "    </tr>\n",
       "    <tr>\n",
       "      <th>order</th>\n",
       "      <td>1.920465</td>\n",
       "      <td>-2.917492</td>\n",
       "    </tr>\n",
       "  </tbody>\n",
       "</table>\n",
       "</div>"
      ],
      "text/plain": [
       "         x_coord   y_coord\n",
       "-PRON- -1.367210  5.265493\n",
       "good    9.012697  1.281403\n",
       "food    6.129308  2.012850\n",
       "place  -2.732799  7.652569\n",
       "order   1.920465 -2.917492"
      ]
     },
     "execution_count": 92,
     "metadata": {},
     "output_type": "execute_result"
    }
   ],
   "source": [
    "tsne_vectors.head()"
   ]
  },
  {
   "cell_type": "code",
   "execution_count": 93,
   "metadata": {
    "collapsed": true
   },
   "outputs": [],
   "source": [
    "tsne_vectors[u'word'] = tsne_vectors.index"
   ]
  },
  {
   "cell_type": "markdown",
   "metadata": {},
   "source": [
    "..."
   ]
  },
  {
   "cell_type": "code",
   "execution_count": 94,
   "metadata": {},
   "outputs": [
    {
     "name": "stderr",
     "output_type": "stream",
     "text": [
      "C:\\Users\\jayka\\Anaconda3\\lib\\site-packages\\bokeh\\core\\json_encoder.py:52: DeprecationWarning: parsing timezone aware datetimes is deprecated; this will raise an error in the future\n",
      "  NP_EPOCH = np.datetime64('1970-01-01T00:00:00Z')\n"
     ]
    },
    {
     "data": {
      "text/html": [
       "\n",
       "    <div class=\"bk-root\">\n",
       "        <a href=\"http://bokeh.pydata.org\" target=\"_blank\" class=\"bk-logo bk-logo-small bk-logo-notebook\"></a>\n",
       "        <span id=\"297d9263-c7c3-489b-b8b2-1354c695f62c\">Loading BokehJS ...</span>\n",
       "    </div>"
      ]
     },
     "metadata": {},
     "output_type": "display_data"
    },
    {
     "data": {
      "application/javascript": [
       "\n",
       "(function(global) {\n",
       "  function now() {\n",
       "    return new Date();\n",
       "  }\n",
       "\n",
       "  var force = true;\n",
       "\n",
       "  if (typeof (window._bokeh_onload_callbacks) === \"undefined\" || force === true) {\n",
       "    window._bokeh_onload_callbacks = [];\n",
       "    window._bokeh_is_loading = undefined;\n",
       "  }\n",
       "\n",
       "\n",
       "  \n",
       "  if (typeof (window._bokeh_timeout) === \"undefined\" || force === true) {\n",
       "    window._bokeh_timeout = Date.now() + 5000;\n",
       "    window._bokeh_failed_load = false;\n",
       "  }\n",
       "\n",
       "  var NB_LOAD_WARNING = {'data': {'text/html':\n",
       "     \"<div style='background-color: #fdd'>\\n\"+\n",
       "     \"<p>\\n\"+\n",
       "     \"BokehJS does not appear to have successfully loaded. If loading BokehJS from CDN, this \\n\"+\n",
       "     \"may be due to a slow or bad network connection. Possible fixes:\\n\"+\n",
       "     \"</p>\\n\"+\n",
       "     \"<ul>\\n\"+\n",
       "     \"<li>re-rerun `output_notebook()` to attempt to load from CDN again, or</li>\\n\"+\n",
       "     \"<li>use INLINE resources instead, as so:</li>\\n\"+\n",
       "     \"</ul>\\n\"+\n",
       "     \"<code>\\n\"+\n",
       "     \"from bokeh.resources import INLINE\\n\"+\n",
       "     \"output_notebook(resources=INLINE)\\n\"+\n",
       "     \"</code>\\n\"+\n",
       "     \"</div>\"}};\n",
       "\n",
       "  function display_loaded() {\n",
       "    if (window.Bokeh !== undefined) {\n",
       "      var el = document.getElementById(\"297d9263-c7c3-489b-b8b2-1354c695f62c\");\n",
       "      el.textContent = \"BokehJS \" + Bokeh.version + \" successfully loaded.\";\n",
       "    } else if (Date.now() < window._bokeh_timeout) {\n",
       "      setTimeout(display_loaded, 100)\n",
       "    }\n",
       "  }\n",
       "\n",
       "  function run_callbacks() {\n",
       "    window._bokeh_onload_callbacks.forEach(function(callback) { callback() });\n",
       "    delete window._bokeh_onload_callbacks\n",
       "    console.info(\"Bokeh: all callbacks have finished\");\n",
       "  }\n",
       "\n",
       "  function load_libs(js_urls, callback) {\n",
       "    window._bokeh_onload_callbacks.push(callback);\n",
       "    if (window._bokeh_is_loading > 0) {\n",
       "      console.log(\"Bokeh: BokehJS is being loaded, scheduling callback at\", now());\n",
       "      return null;\n",
       "    }\n",
       "    if (js_urls == null || js_urls.length === 0) {\n",
       "      run_callbacks();\n",
       "      return null;\n",
       "    }\n",
       "    console.log(\"Bokeh: BokehJS not loaded, scheduling load and callback at\", now());\n",
       "    window._bokeh_is_loading = js_urls.length;\n",
       "    for (var i = 0; i < js_urls.length; i++) {\n",
       "      var url = js_urls[i];\n",
       "      var s = document.createElement('script');\n",
       "      s.src = url;\n",
       "      s.async = false;\n",
       "      s.onreadystatechange = s.onload = function() {\n",
       "        window._bokeh_is_loading--;\n",
       "        if (window._bokeh_is_loading === 0) {\n",
       "          console.log(\"Bokeh: all BokehJS libraries loaded\");\n",
       "          run_callbacks()\n",
       "        }\n",
       "      };\n",
       "      s.onerror = function() {\n",
       "        console.warn(\"failed to load library \" + url);\n",
       "      };\n",
       "      console.log(\"Bokeh: injecting script tag for BokehJS library: \", url);\n",
       "      document.getElementsByTagName(\"head\")[0].appendChild(s);\n",
       "    }\n",
       "  };var element = document.getElementById(\"297d9263-c7c3-489b-b8b2-1354c695f62c\");\n",
       "  if (element == null) {\n",
       "    console.log(\"Bokeh: ERROR: autoload.js configured with elementid '297d9263-c7c3-489b-b8b2-1354c695f62c' but no matching script tag was found. \")\n",
       "    return false;\n",
       "  }\n",
       "\n",
       "  var js_urls = [\"https://cdn.pydata.org/bokeh/release/bokeh-0.12.5.min.js\", \"https://cdn.pydata.org/bokeh/release/bokeh-widgets-0.12.5.min.js\"];\n",
       "\n",
       "  var inline_js = [\n",
       "    function(Bokeh) {\n",
       "      Bokeh.set_log_level(\"info\");\n",
       "    },\n",
       "    \n",
       "    function(Bokeh) {\n",
       "      \n",
       "    },\n",
       "    \n",
       "    function(Bokeh) {\n",
       "      \n",
       "      document.getElementById(\"297d9263-c7c3-489b-b8b2-1354c695f62c\").textContent = \"BokehJS is loading...\";\n",
       "    },\n",
       "    function(Bokeh) {\n",
       "      console.log(\"Bokeh: injecting CSS: https://cdn.pydata.org/bokeh/release/bokeh-0.12.5.min.css\");\n",
       "      Bokeh.embed.inject_css(\"https://cdn.pydata.org/bokeh/release/bokeh-0.12.5.min.css\");\n",
       "      console.log(\"Bokeh: injecting CSS: https://cdn.pydata.org/bokeh/release/bokeh-widgets-0.12.5.min.css\");\n",
       "      Bokeh.embed.inject_css(\"https://cdn.pydata.org/bokeh/release/bokeh-widgets-0.12.5.min.css\");\n",
       "    }\n",
       "  ];\n",
       "\n",
       "  function run_inline_js() {\n",
       "    \n",
       "    if ((window.Bokeh !== undefined) || (force === true)) {\n",
       "      for (var i = 0; i < inline_js.length; i++) {\n",
       "        inline_js[i](window.Bokeh);\n",
       "      }if (force === true) {\n",
       "        display_loaded();\n",
       "      }} else if (Date.now() < window._bokeh_timeout) {\n",
       "      setTimeout(run_inline_js, 100);\n",
       "    } else if (!window._bokeh_failed_load) {\n",
       "      console.log(\"Bokeh: BokehJS failed to load within specified timeout.\");\n",
       "      window._bokeh_failed_load = true;\n",
       "    } else if (force !== true) {\n",
       "      var cell = $(document.getElementById(\"297d9263-c7c3-489b-b8b2-1354c695f62c\")).parents('.cell').data().cell;\n",
       "      cell.output_area.append_execute_result(NB_LOAD_WARNING)\n",
       "    }\n",
       "\n",
       "  }\n",
       "\n",
       "  if (window._bokeh_is_loading === 0) {\n",
       "    console.log(\"Bokeh: BokehJS loaded, going straight to plotting\");\n",
       "    run_inline_js();\n",
       "  } else {\n",
       "    load_libs(js_urls, function() {\n",
       "      console.log(\"Bokeh: BokehJS plotting callback run at\", now());\n",
       "      run_inline_js();\n",
       "    });\n",
       "  }\n",
       "}(this));"
      ]
     },
     "metadata": {},
     "output_type": "display_data"
    }
   ],
   "source": [
    "from bokeh.plotting import figure, show, output_notebook\n",
    "from bokeh.models import HoverTool, ColumnDataSource, value\n",
    "\n",
    "output_notebook()"
   ]
  },
  {
   "cell_type": "code",
   "execution_count": 96,
   "metadata": {},
   "outputs": [
    {
     "data": {
      "text/html": [
       "\n",
       "\n",
       "    <div class=\"bk-root\">\n",
       "        <div class=\"bk-plotdiv\" id=\"d5b17324-403b-4007-9769-ce1a59ce39be\"></div>\n",
       "    </div>\n",
       "<script type=\"text/javascript\">\n",
       "  \n",
       "  (function(global) {\n",
       "    function now() {\n",
       "      return new Date();\n",
       "    }\n",
       "  \n",
       "    var force = false;\n",
       "  \n",
       "    if (typeof (window._bokeh_onload_callbacks) === \"undefined\" || force === true) {\n",
       "      window._bokeh_onload_callbacks = [];\n",
       "      window._bokeh_is_loading = undefined;\n",
       "    }\n",
       "  \n",
       "  \n",
       "    \n",
       "    if (typeof (window._bokeh_timeout) === \"undefined\" || force === true) {\n",
       "      window._bokeh_timeout = Date.now() + 0;\n",
       "      window._bokeh_failed_load = false;\n",
       "    }\n",
       "  \n",
       "    var NB_LOAD_WARNING = {'data': {'text/html':\n",
       "       \"<div style='background-color: #fdd'>\\n\"+\n",
       "       \"<p>\\n\"+\n",
       "       \"BokehJS does not appear to have successfully loaded. If loading BokehJS from CDN, this \\n\"+\n",
       "       \"may be due to a slow or bad network connection. Possible fixes:\\n\"+\n",
       "       \"</p>\\n\"+\n",
       "       \"<ul>\\n\"+\n",
       "       \"<li>re-rerun `output_notebook()` to attempt to load from CDN again, or</li>\\n\"+\n",
       "       \"<li>use INLINE resources instead, as so:</li>\\n\"+\n",
       "       \"</ul>\\n\"+\n",
       "       \"<code>\\n\"+\n",
       "       \"from bokeh.resources import INLINE\\n\"+\n",
       "       \"output_notebook(resources=INLINE)\\n\"+\n",
       "       \"</code>\\n\"+\n",
       "       \"</div>\"}};\n",
       "  \n",
       "    function display_loaded() {\n",
       "      if (window.Bokeh !== undefined) {\n",
       "        var el = document.getElementById(\"d5b17324-403b-4007-9769-ce1a59ce39be\");\n",
       "        el.textContent = \"BokehJS \" + Bokeh.version + \" successfully loaded.\";\n",
       "      } else if (Date.now() < window._bokeh_timeout) {\n",
       "        setTimeout(display_loaded, 100)\n",
       "      }\n",
       "    }\n",
       "  \n",
       "    function run_callbacks() {\n",
       "      window._bokeh_onload_callbacks.forEach(function(callback) { callback() });\n",
       "      delete window._bokeh_onload_callbacks\n",
       "      console.info(\"Bokeh: all callbacks have finished\");\n",
       "    }\n",
       "  \n",
       "    function load_libs(js_urls, callback) {\n",
       "      window._bokeh_onload_callbacks.push(callback);\n",
       "      if (window._bokeh_is_loading > 0) {\n",
       "        console.log(\"Bokeh: BokehJS is being loaded, scheduling callback at\", now());\n",
       "        return null;\n",
       "      }\n",
       "      if (js_urls == null || js_urls.length === 0) {\n",
       "        run_callbacks();\n",
       "        return null;\n",
       "      }\n",
       "      console.log(\"Bokeh: BokehJS not loaded, scheduling load and callback at\", now());\n",
       "      window._bokeh_is_loading = js_urls.length;\n",
       "      for (var i = 0; i < js_urls.length; i++) {\n",
       "        var url = js_urls[i];\n",
       "        var s = document.createElement('script');\n",
       "        s.src = url;\n",
       "        s.async = false;\n",
       "        s.onreadystatechange = s.onload = function() {\n",
       "          window._bokeh_is_loading--;\n",
       "          if (window._bokeh_is_loading === 0) {\n",
       "            console.log(\"Bokeh: all BokehJS libraries loaded\");\n",
       "            run_callbacks()\n",
       "          }\n",
       "        };\n",
       "        s.onerror = function() {\n",
       "          console.warn(\"failed to load library \" + url);\n",
       "        };\n",
       "        console.log(\"Bokeh: injecting script tag for BokehJS library: \", url);\n",
       "        document.getElementsByTagName(\"head\")[0].appendChild(s);\n",
       "      }\n",
       "    };var element = document.getElementById(\"d5b17324-403b-4007-9769-ce1a59ce39be\");\n",
       "    if (element == null) {\n",
       "      console.log(\"Bokeh: ERROR: autoload.js configured with elementid 'd5b17324-403b-4007-9769-ce1a59ce39be' but no matching script tag was found. \")\n",
       "      return false;\n",
       "    }\n",
       "  \n",
       "    var js_urls = [];\n",
       "  \n",
       "    var inline_js = [\n",
       "      function(Bokeh) {\n",
       "        (function() {\n",
       "          var fn = function() {\n",
       "            var docs_json = {\"8bc1e15c-4a8d-4bde-b3db-34ac0b36718e\":{\"roots\":{\"references\":[{\"attributes\":{},\"id\":\"16a46d38-58bc-4e73-886c-61056d265e6c\",\"type\":\"ToolEvents\"},{\"attributes\":{},\"id\":\"178f723c-601f-408c-9369-5f54caf5600f\",\"type\":\"BasicTickFormatter\"},{\"attributes\":{\"plot\":null,\"text\":\"t-SNE Word Embeddings\",\"text_font_size\":{\"value\":\"16pt\"}},\"id\":\"966abff4-a0e2-47fe-8bfb-7983df8a09d1\",\"type\":\"Title\"},{\"attributes\":{\"callback\":null,\"plot\":{\"id\":\"7a7753e7-46a6-406f-8451-b31df11fc232\",\"subtype\":\"Figure\",\"type\":\"Plot\"},\"tooltips\":\"@word\"},\"id\":\"84c5eaf5-4839-4c2f-9f82-c8e42819ed38\",\"type\":\"HoverTool\"},{\"attributes\":{\"fill_alpha\":{\"value\":0.1},\"fill_color\":{\"value\":\"#1f77b4\"},\"line_alpha\":{\"value\":0.1},\"line_color\":{\"value\":\"#1f77b4\"},\"size\":{\"units\":\"screen\",\"value\":10},\"x\":{\"field\":\"x_coord\"},\"y\":{\"field\":\"y_coord\"}},\"id\":\"373c01bc-7ea7-4631-8b4d-b60bc25be8b8\",\"type\":\"Circle\"},{\"attributes\":{\"dimension\":1,\"grid_line_color\":{\"value\":null},\"plot\":{\"id\":\"7a7753e7-46a6-406f-8451-b31df11fc232\",\"subtype\":\"Figure\",\"type\":\"Plot\"},\"ticker\":{\"id\":\"fee2d965-ad1e-4ed8-bf21-9a78a4433b64\",\"type\":\"BasicTicker\"}},\"id\":\"1b68473c-48b9-4bf1-aa08-184e1783bf2d\",\"type\":\"Grid\"},{\"attributes\":{\"fill_color\":{\"value\":\"#1f77b4\"},\"size\":{\"units\":\"screen\",\"value\":10},\"x\":{\"field\":\"x_coord\"},\"y\":{\"field\":\"y_coord\"}},\"id\":\"22ccdae7-f6b3-43e8-acd5-76976ff94164\",\"type\":\"Circle\"},{\"attributes\":{\"data_source\":{\"id\":\"0c823d03-cd71-43ae-8f77-8722308ebd28\",\"type\":\"ColumnDataSource\"},\"glyph\":{\"id\":\"eddb1b2c-048b-452c-ad97-2373aef9bf8b\",\"type\":\"Circle\"},\"hover_glyph\":{\"id\":\"22ccdae7-f6b3-43e8-acd5-76976ff94164\",\"type\":\"Circle\"},\"muted_glyph\":null,\"nonselection_glyph\":{\"id\":\"373c01bc-7ea7-4631-8b4d-b60bc25be8b8\",\"type\":\"Circle\"},\"selection_glyph\":null},\"id\":\"4bb1d9c1-4c0d-45b2-82a6-336889eddede\",\"type\":\"GlyphRenderer\"},{\"attributes\":{\"bottom_units\":\"screen\",\"fill_alpha\":{\"value\":0.5},\"fill_color\":{\"value\":\"lightgrey\"},\"left_units\":\"screen\",\"level\":\"overlay\",\"line_alpha\":{\"value\":1.0},\"line_color\":{\"value\":\"black\"},\"line_dash\":[4,4],\"line_width\":{\"value\":2},\"plot\":null,\"render_mode\":\"css\",\"right_units\":\"screen\",\"top_units\":\"screen\"},\"id\":\"1e5ecd86-0a98-446f-9a80-ed628d798936\",\"type\":\"BoxAnnotation\"},{\"attributes\":{\"formatter\":{\"id\":\"178f723c-601f-408c-9369-5f54caf5600f\",\"type\":\"BasicTickFormatter\"},\"plot\":{\"id\":\"7a7753e7-46a6-406f-8451-b31df11fc232\",\"subtype\":\"Figure\",\"type\":\"Plot\"},\"ticker\":{\"id\":\"fee2d965-ad1e-4ed8-bf21-9a78a4433b64\",\"type\":\"BasicTicker\"},\"visible\":false},\"id\":\"c2bccdb7-9099-4a40-b01f-e8d7004112b9\",\"type\":\"LinearAxis\"},{\"attributes\":{\"plot\":{\"id\":\"7a7753e7-46a6-406f-8451-b31df11fc232\",\"subtype\":\"Figure\",\"type\":\"Plot\"}},\"id\":\"31cb9a27-f70e-47ce-8e8c-d3f8ec6a60a8\",\"type\":\"ResetTool\"},{\"attributes\":{\"plot\":{\"id\":\"7a7753e7-46a6-406f-8451-b31df11fc232\",\"subtype\":\"Figure\",\"type\":\"Plot\"}},\"id\":\"169811ba-ca8d-4a32-8c8e-c831c7443ac3\",\"type\":\"ResizeTool\"},{\"attributes\":{\"grid_line_color\":{\"value\":null},\"plot\":{\"id\":\"7a7753e7-46a6-406f-8451-b31df11fc232\",\"subtype\":\"Figure\",\"type\":\"Plot\"},\"ticker\":{\"id\":\"c0164605-eaf0-4a64-a0c9-5b59e9115e68\",\"type\":\"BasicTicker\"}},\"id\":\"ef1cc358-42ab-41c4-8317-43019bdc71b0\",\"type\":\"Grid\"},{\"attributes\":{},\"id\":\"fee2d965-ad1e-4ed8-bf21-9a78a4433b64\",\"type\":\"BasicTicker\"},{\"attributes\":{},\"id\":\"c0164605-eaf0-4a64-a0c9-5b59e9115e68\",\"type\":\"BasicTicker\"},{\"attributes\":{},\"id\":\"78ab5935-20b5-4e4d-b2f8-814774445b1e\",\"type\":\"BasicTickFormatter\"},{\"attributes\":{\"callback\":null},\"id\":\"648e5e25-6983-4bbf-b036-a6a90019163a\",\"type\":\"DataRange1d\"},{\"attributes\":{\"below\":[{\"id\":\"00b90d20-0306-4bd9-b818-ca1d630f3608\",\"type\":\"LinearAxis\"}],\"left\":[{\"id\":\"c2bccdb7-9099-4a40-b01f-e8d7004112b9\",\"type\":\"LinearAxis\"}],\"outline_line_color\":{\"value\":null},\"plot_height\":800,\"plot_width\":800,\"renderers\":[{\"id\":\"00b90d20-0306-4bd9-b818-ca1d630f3608\",\"type\":\"LinearAxis\"},{\"id\":\"ef1cc358-42ab-41c4-8317-43019bdc71b0\",\"type\":\"Grid\"},{\"id\":\"c2bccdb7-9099-4a40-b01f-e8d7004112b9\",\"type\":\"LinearAxis\"},{\"id\":\"1b68473c-48b9-4bf1-aa08-184e1783bf2d\",\"type\":\"Grid\"},{\"id\":\"7b077198-599b-4d56-a18b-a375326cc18d\",\"type\":\"BoxAnnotation\"},{\"id\":\"1e5ecd86-0a98-446f-9a80-ed628d798936\",\"type\":\"BoxAnnotation\"},{\"id\":\"4bb1d9c1-4c0d-45b2-82a6-336889eddede\",\"type\":\"GlyphRenderer\"}],\"title\":{\"id\":\"966abff4-a0e2-47fe-8bfb-7983df8a09d1\",\"type\":\"Title\"},\"tool_events\":{\"id\":\"16a46d38-58bc-4e73-886c-61056d265e6c\",\"type\":\"ToolEvents\"},\"toolbar\":{\"id\":\"be815a47-9e02-4d51-b47c-50a85f0e6768\",\"type\":\"Toolbar\"},\"x_range\":{\"id\":\"7464c539-b29d-4509-9e0d-71301304a9ee\",\"type\":\"DataRange1d\"},\"y_range\":{\"id\":\"648e5e25-6983-4bbf-b036-a6a90019163a\",\"type\":\"DataRange1d\"}},\"id\":\"7a7753e7-46a6-406f-8451-b31df11fc232\",\"subtype\":\"Figure\",\"type\":\"Plot\"},{\"attributes\":{\"fill_alpha\":{\"value\":0.1},\"fill_color\":{\"value\":\"blue\"},\"line_alpha\":{\"value\":0.2},\"line_color\":{\"value\":\"blue\"},\"size\":{\"units\":\"screen\",\"value\":10},\"x\":{\"field\":\"x_coord\"},\"y\":{\"field\":\"y_coord\"}},\"id\":\"eddb1b2c-048b-452c-ad97-2373aef9bf8b\",\"type\":\"Circle\"},{\"attributes\":{\"callback\":null,\"overlay\":{\"id\":\"1e5ecd86-0a98-446f-9a80-ed628d798936\",\"type\":\"BoxAnnotation\"},\"plot\":{\"id\":\"7a7753e7-46a6-406f-8451-b31df11fc232\",\"subtype\":\"Figure\",\"type\":\"Plot\"},\"renderers\":[{\"id\":\"4bb1d9c1-4c0d-45b2-82a6-336889eddede\",\"type\":\"GlyphRenderer\"}]},\"id\":\"71ae8a07-6247-4b4b-a00f-81d86f18f692\",\"type\":\"BoxSelectTool\"},{\"attributes\":{\"formatter\":{\"id\":\"78ab5935-20b5-4e4d-b2f8-814774445b1e\",\"type\":\"BasicTickFormatter\"},\"plot\":{\"id\":\"7a7753e7-46a6-406f-8451-b31df11fc232\",\"subtype\":\"Figure\",\"type\":\"Plot\"},\"ticker\":{\"id\":\"c0164605-eaf0-4a64-a0c9-5b59e9115e68\",\"type\":\"BasicTicker\"},\"visible\":false},\"id\":\"00b90d20-0306-4bd9-b818-ca1d630f3608\",\"type\":\"LinearAxis\"},{\"attributes\":{\"overlay\":{\"id\":\"7b077198-599b-4d56-a18b-a375326cc18d\",\"type\":\"BoxAnnotation\"},\"plot\":{\"id\":\"7a7753e7-46a6-406f-8451-b31df11fc232\",\"subtype\":\"Figure\",\"type\":\"Plot\"}},\"id\":\"c45ed44d-2edf-4c83-83e7-387bce80380a\",\"type\":\"BoxZoomTool\"},{\"attributes\":{\"callback\":null},\"id\":\"7464c539-b29d-4509-9e0d-71301304a9ee\",\"type\":\"DataRange1d\"},{\"attributes\":{\"callback\":null,\"column_names\":[\"x_coord\",\"y_coord\",\"word\",\"index\"],\"data\":{\"index\":[\"-PRON-\",\"good\",\"food\",\"place\",\"order\",\"great\",\"like\",\"service\",\"come\",\"time\",\"try\",\"restaurant\",\"eat\",\"love\",\"chicken\",\"menu\",\"nice\",\"wait\",\"delicious\",\"table\",\"'s\",\"want\",\"price\",\"think\",\"drink\",\"taste\",\"little\",\"pizza\",\"look\",\"definitely\",\"sauce\",\"ask\",\"meal\",\"dish\",\"friendly\",\"pretty\",\"know\",\"staff\",\"burger\",\"fresh\",\"amazing\",\"thing\",\"bar\",\"people\",\"server\",\"salad\",\"lunch\",\"friend\",\"find\",\"bad\",\"fry\",\"dinner\",\"experience\",\"way\",\"serve\",\"cheese\",\"sandwich\",\"small\",\"bit\",\"right\",\"feel\",\"2\",\"enjoy\",\"tell\",\"meat\",\"day\",\"flavor\",\"lot\",\"sure\",\"sit\",\"visit\",\"$\",\"location\",\"night\",\"big\",\"3\",\"sushi\",\"leave\",\"review\",\"special\",\"tasty\",\"beer\",\"area\",\"excellent\",\"favorite\",\"work\",\"worth\",\"quality\",\"long\",\"use\",\"recommend\",\"dessert\",\"awesome\",\"atmosphere\",\"check\",\"breakfast\",\"hot\",\"cook\",\"bring\",\"steak\",\"seat\",\"customer\",\"walk\",\"star\",\"new\",\"waitress\",\"portion\",\"plate\",\"super\",\"soup\",\"roll\",\"large\",\"rice\",\"expect\",\"start\",\"different\",\"4\",\"ok\",\"end\",\"spot\",\"bread\",\"vegas\",\"overall\",\"option\",\"sweet\",\"open\",\"perfect\",\"decide\",\"pay\",\"spicy\",\"fish\",\"stop\",\"busy\",\"item\",\"probably\",\"5\",\"home\",\"selection\",\"waiter\",\"offer\",\"huge\",\"shrimp\",\"need\",\"kind\",\"appetizer\",\"clean\",\"family\",\"close\",\"maybe\",\"actually\",\"half\",\"inside\",\"fast\",\"hour\",\"beef\",\"decent\",\"egg\",\"husband\",\"let\",\"year\",\"coffee\",\"buffet\",\"return\",\"add\",\"wine\",\"choice\",\"water\",\"usually\",\"1\",\"line\",\"owner\",\"quick\",\"outside\",\"high\",\"manager\",\"arrive\",\"couple\",\"house\",\"away\",\"hard\",\"point\",\"noodle\",\"town\",\"happy\",\"fantastic\",\"group\",\"guy\",\"cold\",\"far\",\"especially\",\"bite\",\"grill\",\"wing\",\"chip\",\"piece\",\"attentive\",\"wife\",\"finally\",\"share\",\"fun\",\"10\",\"cheap\",\"extra\",\"include\",\"party\",\"cool\",\"absolutely\",\"pork\",\"decor\",\"second\",\"wrong\",\"fill\",\"kid\",\"fan\",\"bacon\",\"dry\",\"week\",\"choose\",\"wonderful\",\"old\",\"bowl\",\"okay\",\"free\",\"pick\",\"live\",\"entree\",\"wish\",\"instead\",\"run\",\"taco\",\"bbq\",\"change\",\"finish\",\"potato\",\"chef\",\"reservation\",\"veggie\",\"pasta\",\"slow\",\"hear\",\"mexican\",\"crispy\",\"room\",\"mean\",\"fried\",\"care\",\"chinese\",\"course\",\"regular\",\"yummy\",\"reason\",\"money\",\"slice\",\"warm\",\"deal\",\"minute\",\"business\",\"happy_hour\",\"disappoint\",\"tacos\",\"kitchen\",\"ne\",\"size\",\"local\",\"thank\",\"glass\",\"yes\",\"stuff\",\"help\",\"italian\",\"highly_recommend\",\"today\",\"light\",\"bill\",\"strip\",\"yelp\",\"patio\",\"extremely\",\"real\",\"thai\",\"oh\",\"style\",\"charge\",\"stay\",\"tender\",\"brunch\",\"salsa\",\"ingredient\",\"plus\",\"burrito\",\"disappointed\",\"type\",\"bartender\",\"talk\",\"watch\",\"person\",\"white\",\"variety\",\"bland\",\"6\",\"forget\",\"seafood\",\"cut\",\"better\",\"average\",\"tip\",\"stand\",\"hand\",\"drive\",\"expensive\",\"remember\",\"miss\",\"tomato\",\"street\",\"reasonable\",\"fine\",\"red\",\"able\",\"garlic\",\"quickly\",\"hit\",\"flavorful\",\"chocolate\",\"lack\",\"ambiance\",\"cocktail\",\"fact\",\"turn\",\"mention\",\"authentic\",\"salmon\",\"later\",\"onion\",\"perfectly\",\"read\",\"pho\",\"spend\",\"die\",\"girl\",\"soon\",\"mix\",\"door\",\"receive\",\"happen\",\"notice\",\"problem\",\"tea\",\"boyfriend\",\"list\",\"cake\",\"weekend\",\"counter\",\"hungry\",\"helpful\",\"music\",\"5_star\",\"twice\",\"trip\",\"terrible\",\"mind\",\"curry\",\"base\",\"simple\",\"salty\",\"consider\",\"employee\",\"joint\",\"believe\",\"sausage\",\"date\",\"mushroom\",\"bean\",\"seating\",\"topping\",\"plenty\",\"impressed\",\"head\",\"pack\",\"horrible\",\"evening\",\"best\",\"vegetarian\",\"crowd\",\"late\",\"ready\",\"treat\",\"butter\",\"green\",\"spice\",\"wow\",\"easy\",\"set\",\"main\",\"lobster\",\"hostess\",\"man\",\"glad\",\"dip\",\"birthday\",\"las_vegas\",\"refill\",\"beautiful\",\"mouth\",\"gues\",\"grab\",\"hotel\",\"wall\",\"rest\",\"pricey\",\"soft\",\"rude\",\"pancake\",\"early\",\"unique\",\"crust\",\"past\",\"space\",\"entire\",\"hope\",\"buy\",\"ice_cream\",\"haven't\",\"unfortunately\",\"standard\",\"lady\",\"8\",\"waffle\",\"vegetable\",\"greet\",\"totally\",\"loud\",\"stick\",\"cup\",\"combo\",\"job\",\"seriously\",\"deliver\",\"bottle\",\"complaint\",\"play\",\"game\",\"available\",\"cost\",\"write\",\"view\",\"compare\",\"7\",\"near\",\"rib\",\"life\",\"issue\",\"dining\",\"bun\",\"came\",\"salt\",\"wrap\",\"parking\",\"pepper\",\"interesting\",\"vegan\",\"literally\",\"sign\",\"month\",\"welcome\",\"healthy\",\"note\",\"delivery\",\"locate\",\"suggest\",\"meet\",\"value\",\"broth\",\"flavour\",\"cute\",\"sunday\",\"honestly\",\"mediocre\",\"pass\",\"completely\",\"shop\",\"outstanding\",\"speak\",\"greasy\",\"juicy\",\"chance\",\"establishment\",\"pleasant\",\"understand\",\"store\",\"poor\",\"texture\",\"prefer\",\"cream\",\"rush\",\"mac\",\"immediately\",\"world\",\"thick\",\"homemade\",\"solid\",\"smell\",\"explain\",\"request\",\"asian\",\"margarita\",\"+\",\"city\",\"medium\",\"chain\",\"plan\",\"typical\",\"surprise\",\"melt\",\"short\",\"split\",\"provide\",\"idea\",\"slightly\",\"prepare\",\"cafe\",\"sorry\",\"tiny\",\"sound\",\"mom\",\"japanese\",\"phoenix\",\"corn\",\"complain\",\"indian\",\"toast\",\"smile\",\"simply\",\"word\",\"disappointing\",\"diner\",\"creamy\",\"crave\",\"tasting\",\"avocado\",\"lol\",\"sort\",\"vibe\",\"exactly\",\"lamb\",\"tonight\",\"traditional\",\"incredible\",\"hang\",\"cover\",\"10_minute\",\"suppose\",\"lovely\",\"morning\",\"recently\",\"basically\",\"casual\",\"appreciate\",\"throw\",\"pie\",\"chili\",\"recommendation\",\"crepe\",\"ton\",\"guest\",\"touch\",\"truly\",\"korean\",\"low\",\"toronto\",\"oyster\",\"thin\",\"number\",\"fruit\",\"dollar\",\"certainly\",\"crab\",\"club\",\"face\",\"calamari\",\"realize\",\"send\",\"box\",\"dirty\",\"12\",\"remind\",\"window\",\"comfortable\",\"opinion\",\"yum\",\"weird\",\"neighborhood\",\"drop\",\"figure\",\"fairly\",\"rich\",\"picture\",\"booth\",\"tofu\",\"hold\",\"break\",\"crazy\",\"downtown\",\"usual\",\"less_than\",\"combination\",\"phone\",\"burn\",\"level\",\"presentation\",\"gravy\",\"fancy\",\"perfection\",\"look_forward\",\"total\",\"kinda\",\"save\",\"question\",\"season\",\"case\",\"hop\",\"dog\",\"fair\",\"desert\",\"soggy\",\"prepared\",\"sample\",\"buck\",\"15_minute\",\"rock\",\"sweet_potato\",\"excited\",\"normally\",\"waste\",\"son\",\"despite\",\"smoke\",\"easily\",\"n\",\"din\",\"sad\",\"pop\",\"middle\",\"fried_rice\",\"daughter\",\"beat\",\"scallop\",\"shot\",\"classic\",\"awful\",\"tuna\",\"avoid\",\"tv\",\"20_minute\",\"dine\",\"turkey\",\"sell\",\"management\",\"dumpling\",\"corner\",\"eye\",\"dark\",\"brisket\",\"meatball\",\"heat\",\"matter\",\"duck\",\"saturday\",\"pad_thai\",\"guacamole\",\"fall\",\"girlfriend\",\"fix\",\"greek\",\"lettuce\",\"bathroom\",\"crisp\",\"state\",\"cozy\",\"barely\",\"platter\",\"attitude\",\"lose\",\"strong\",\"attention\",\"original\",\"longer\",\"gyro\",\"agree\",\"mess\",\"follow\",\"und\",\"kick\",\"spinach\",\"whatev\",\"dressing\",\"heavy\",\"similar\",\"generous\",\"raman\",\"book\",\"surprised\",\"dining_experience\",\"suck\",\"nachos\",\"plain\",\"continue\",\"addition\",\"casino\",\"sashimi\",\"hate\",\"true\",\"dress\",\"conversation\",\"overpriced\",\"catch\",\"tap\",\"bother\",\"round\",\"floor\",\"opt\",\"clear\",\"environment\",\"obviously\",\"summer\",\"allow\",\"lemon\",\"incredibly\",\"quiet\",\"crunchy\",\"friday\",\"ambience\",\"fabulous\",\"apparently\",\"pastry\",\"interior\",\"favourite\",\"cause\",\"chewy\",\"mistake\",\"raw\",\"patron\",\"shake\",\"n't\",\"20\",\"car\",\"american\",\"clearly\",\"rating\",\"cash\",\"poutine\",\"bone\",\"woman\",\"bagel\",\"bag\",\"host\",\"cashier\",\"portion_size\",\"section\",\"modern\",\"hummus\",\"seasoning\",\"biscuit\",\"basic\",\"nicely\",\"tough\",\"double\",\"normal\",\"expectation\",\"moist\",\"fat\",\"chipotle\",\"tortilla\",\"30_minute\",\"pull\",\"satisfied\",\"bunch\",\"boy\",\"popular\",\"soda\",\"french\",\"charlotte\",\"scottsdale\",\"disappointment\",\"friday_night\",\"non\",\"pittsburgh\",\"chair\",\"cookie\",\"s\",\"app\",\"filling\",\"top_notch\",\"saturday_night\",\"comment\",\"juice\",\"polite\",\"hand_down\",\"year_ago\",\"coupon\",\"hubby\",\"montreal\",\"gross\",\"appear\",\"update\",\"personally\",\"meh\",\"dim_sum\",\"answer\",\"pour\",\"black\",\"sister\",\"damn\",\"mood\",\"version\",\"apologize\",\"sour\",\"oil\",\"begin\",\"pull_pork\",\"describe\",\"post\",\"frozen\",\"prime_rib\",\"step\",\"event\",\"sub\",\"affordable\",\"gluten_free\",\"delish\",\"cuisine\",\"french_toast\",\"card\",\"concept\",\"strawberry\",\"alright\",\"skip\",\"patty\",\"spring_roll\",\"surprisingly\",\"suggestion\",\"park\",\"multiple\",\"11\",\"efficient\",\"ice\",\"mango\",\"pleased\",\"pm\",\"somewhat\",\"reasonably_price\",\"imagine\",\"odd\",\"la\",\"pork_belly\",\"wonder\",\"folk\",\"rare\",\"exceptional\",\"snack\",\"gem\",\"omg\",\"station\",\"orange\",\"onion_ring\",\"overly\",\"$_20\",\"pita\",\"building\",\"prompt\",\"ball\",\"difficult\",\"late_night\",\"vietnamese\",\"handle\",\"accommodate\",\"pickle\",\"ramen\",\"coconut\",\"hype\",\"hot_dog\",\"moment\",\"leftover\",\"present\",\"craving\",\"valley\",\"online\",\"consistent\",\"takeout\",\"young\",\"phenomenal\",\"actual\",\"bake\",\"donut\",\"deserve\",\"professional\",\"ham\",\"limited\",\"mayo\",\"15\",\"honey\",\"cucumber\",\"guess\",\"consistently\",\"heart\",\"baby\",\"possible\",\"groupon\",\"knowledgeable\",\"batter\",\"nearby\",\"apple\",\"ayce\",\"u\",\"pair\",\"sized\",\"filet\",\"cheesecake\",\"create\",\"pub\",\"single\",\"chill\",\"nearly\",\"child\",\"anymore\",\"1/2\",\"frequent\",\"ridiculous\",\"positive\",\"country\",\"range\",\"particular\",\"chunk\",\"slider\",\"dining_room\",\"impressive\",\"future\",\"impress\",\"enter\",\"assume\",\"cook_perfectly\",\"funny\",\"complimentary\",\"correct\",\"yesterday\",\"hole\",\"tend\",\"specialty\",\"satisfy\",\"crowded\",\"chop\",\"generally\",\"starter\",\"honest\",\"parking_lot\",\"pepperoni\",\"roasted\",\"yeah\",\"heaven\",\"complete\",\"lover\",\"next_door\",\"refreshing\",\"bf\",\"omelet\",\"enjoyable\",\"separate\",\"convenient\",\"doubt\",\"medium_rare\",\"alcohol\",\"cleveland\",\"manage\",\"joke\",\"w\",\"particularly\",\"rave_about\",\"sugar\",\"stuffed\",\"pineapple\",\"pool\",\"celebrate\",\"mother\",\"company\",\"feeling\",\"highlight\",\"w/\",\"bomb\",\"straight\",\"tasteless\",\"mild\",\"enchilada\",\"banana\",\"carry\",\"sadly\",\"sense\",\"worker\",\"hell\",\"sick\",\"arizona\",\"teriyaki\",\"9\",\"learn\",\"main_course\",\"load\",\"french_fry\",\"mini\",\"chat\",\"travel\",\"negative\",\"fit\",\"broccoli\",\"omelette\",\"win\",\"willing\",\"quesadilla\",\"ahead\",\"truffle\",\"hey\",\"savory\",\"upscale\",\"accommodating\",\"superb\",\"offering\",\"inform\",\"smoothie\",\"ignore\",\"five_star\",\"regret\",\"mussel\",\"gelato\",\"balance\",\"fire\",\"pre\",\"eggplant\",\"blow\",\"detail\",\"relax\",\"serving\",\"basil\",\"rate\",\"feature\",\"fail\",\"stomach\",\"seasoned\",\"tempura\",\"market\",\"steakhouse\",\"=\",\"california\",\"ginger\",\"fare\",\"awhile\",\"spectacular\",\"build\",\"pricing\",\"purchase\",\"afternoon\",\"deli\",\"bright\",\"steam\",\"airport\",\"creative\",\"general\",\"invite\",\"drive_thru\",\"strange\",\"finger\",\"additional\",\"dough\",\"typically\",\"$_15\",\"45_minute\",\"signature\",\"shell\",\"promptly\",\"fluffy\",\"beverage\",\"product\",\"certain\",\"compliment\",\"term\",\"dozen\",\"aside\",\"deep_fried\",\"brew\",\"disgusting\",\"improve\",\"lucky\",\"year_old\",\"buffalo\",\"spaghetti\",\"bakery\",\"de\",\"search\",\"skin\",\"short_rib\",\"goat_cheese\",\"comfort\",\"mozzarella\",\"ruin\",\"giant\",\"hat\",\"extensive\",\"lounge\",\"olive\",\"parent\",\"tad\",\"ranch\",\"chicago\",\"lay\",\"mixed\",\"discover\",\"possibly\",\"asparagus\",\"30\",\"hopefully\",\"madison\",\"baked\",\"chorizo\",\"dad\",\"overcook\",\"par\",\"depend\",\"memorable\",\"coleslaw\",\"ta\",\"pesto\",\"roast\",\"admit\",\"napkin\",\"carrot\",\"br\",\"mashed_potato\",\"oily\",\"feed\",\"brother\",\"website\",\"luckily\",\"would've\",\"movie\",\"shame\",\"photo\",\"blend\",\"cooking\",\"unlike\",\"personal\",\"wear\",\"cheesy\",\"limit\",\"anything_else\",\"attempt\",\"discount\",\"wise\",\"trust\",\"mark\",\"south\",\"difference\",\"goodness\",\"match\",\"ketchup\",\"gourmet\",\"excite\",\"fatty\",\"consist\",\"naan\",\"famous\",\"scoop\",\"mustard\",\"wine_list\",\"weekday\",\"age\",\"mac_n_cheese\",\"accompany\",\"fault\",\"repeat\",\"carne_asada\",\"delightful\",\"excuse\",\"weather\",\"trendy\",\"peanut\",\"fork\",\"venue\",\"picky\",\"needless\",\"paper\",\"drunk\",\"freshly\",\"consistency\",\"entrance\",\"listen\",\"quantity\",\"sake\",\"crunch\",\"coworker\",\"falafel\",\"likely\",\"hint\",\"occasion\",\"tapas\",\"parmesan\",\"cilantro\",\"az\",\"center\",\"crab_leg\",\"previous\",\"monday\",\"register\",\"story\",\"design\",\"pretzel\",\"take_forever\",\"situation\",\"caesar_salad\",\"romantic\",\"somewhere_else\",\"luck\",\"setting\",\"hair\",\"protein\",\"prior\",\"courteous\",\"classy\",\"con\",\"milk\",\"king\",\"pleasantly_surprised\",\"hamburger\",\"container\",\"syrup\",\"replace\",\"mall\",\"stale\",\"flight\",\"freeze\",\"tuesday\",\"thought\",\"process\",\"desire\",\"relatively\",\"starve\",\"upstairs\",\"2nd\",\"oven\",\"office\",\"strip_mall\",\"earlier\",\"gon_na\",\"der\",\"new_york\",\"act\",\"risotto\",\"ribeye\",\"spread\",\"bed\",\"adult\",\"pricy\",\"live_music\",\"brown\",\"effort\",\"cheddar\",\"flat\",\"daily\",\"count\",\"laugh\",\"hash_brown\",\"fajita\",\"warn\",\"skewer\",\"flavourful\",\"road\",\"crab_cake\",\"anyways\",\"support\",\"secret\",\"grit\",\"board\",\"def\",\"fly\",\"remove\",\"hawaiian\",\"art\",\"acknowledge\",\"smooth\",\"team\",\"every_single\",\"settle\",\"tax\",\"scene\",\"favor\",\"black_bean\",\"properly\",\"intimate\",\"le\",\"dance\",\"foot\",\"wash\",\"sour_cream\",\"lime\",\"pot\",\"packed\",\"guac\",\"das\",\"subway\",\"terrific\",\"$_30\",\"shawarma\",\"crap\",\"restroom\",\"rat\",\"massive\",\"annoying\",\"yell\",\"lead\",\"ravioli\",\"nasty\",\"pound\",\"bloody_mary\",\"inexpensive\",\"clam\",\"worry\",\"upset\",\"latte\",\"spacious\",\"forever\",\"haha\",\"grease\",\"truck\",\"important\",\"gnocchi\",\"block\",\"ticket\",\"form\",\"cabbage\",\"mediterranean\",\"sangria\",\"constantly\",\"liking\",\"croissant\",\"buttery\",\"thin_crust\",\"select\",\"cater\",\"grow_up\",\"bruschetta\",\"undercooked\",\"appetite\",\"machine\",\"kimchi\",\"court\",\"flavorless\",\"cajun\",\"mushy\",\"knock\",\"kill\",\"per_person\",\"patient\",\"staple\",\"equally\",\"hash\",\"hide\",\"partner\",\"example\",\"recipe\",\"overprice\",\"judge\",\"50\",\"slaw\",\"claim\",\"hurry\",\"sooo\",\"soooo\",\"color\",\"refuse\",\"hip\",\"deep\",\"pink\",\"lasagna\",\"theme\",\"decision\",\"tray\",\"$_9\",\"milkshake\",\"hearty\",\"apology\",\"push\",\"condiment\",\"east\",\"result\",\"martini\",\"proceed\",\"herb\",\"promise\",\"waitstaff\",\"miso_soup\",\"comp\",\"sweetness\",\"gf\",\"gentleman\",\"co_worker\",\"tired\",\"dream\",\"uncomfortable\",\"introduce\",\"ago\",\"bellagio\",\"y\",\"pro\",\"eventually\",\"pile\",\"lie\",\"everyone_else\",\"espresso\",\"basket\",\"taste_bud\",\"filet_mignon\",\"stay_away\",\"reserve\",\"approach\",\"frequently\",\"ny\",\"green_bean\",\"philly\",\"cooked\",\"outdoor_seating\",\"opportunity\",\"coffee_shop\",\"corn_beef\",\"tart\",\"rarely\",\"soak\",\"foodie\",\"anniversary\",\"boring\",\"boba\",\"pan\",\"everyday\",\"air\",\"cheeseburger\",\"tiramisu\",\"random\",\"blue\",\"north\",\"tempe\",\"receipt\",\"major\",\"mint\",\"over_cooked\",\"toss\",\"regularly\",\"organic\",\"left\",\"egg_benedict\",\"awkward\",\"layer\",\"mile\",\"highly\",\"regardless\",\"attend\",\"personable\",\"ass\",\"gorgeous\",\"plaza\",\"edible\",\"law\",\"response\",\"dead\",\"$_25\",\"english\",\"quaint\",\"remain\",\"watery\",\"nyc\",\"interested\",\"noisy\",\"steal\",\"octopus\",\"flatbread\",\"eatery\",\"venture\",\"ground\",\"lighting\",\"raise\",\"specifically\",\"$_50\",\"display\",\"sport\",\"pitcher\",\"someone_else\",\"till\",\"lemonade\",\"olive_oil\",\"ceviche\",\"plentiful\",\"delight\",\"pork_chop\",\"wednesday\",\"description\",\"buddy\",\"impeccable\",\"blue_cheese\",\"sip\",\"edge\",\"twist\",\"sampler\",\"concern\",\"class\",\"generous_portion\",\"credit\",\"anywhere_else\",\"nigiri\",\"write_home\",\"blow_away\",\"poke\",\"safe\",\"train\",\"switch\",\"messy\",\"hipster\",\"1st\",\"substitute\",\"surround\",\"potential\",\"cinnamon\",\"ring\",\"ordering\",\"spoon\",\"bonus\",\"microwave\",\"b\",\"overwhelming\",\"force\",\"exception\",\"sport_bar\",\"credit_card\",\"focus\",\"alternative\",\"brownie\",\"stellar\",\"stack\",\"jalapeno\",\"system\",\"dig\",\"thursday\",\"fountain\",\"overlook\",\"draw\",\"refund\",\"macaroni\",\"advice\",\"special_occasion\",\"opening\",\"drinking\",\"soy_sauce\",\"overcooked\",\"trouble\",\"amazingly\",\"familiar\",\"combine\",\"spicy_tuna\",\"et\",\"bitter\",\"shit\",\"winner\",\"fusion\",\"pastrami\",\"neat\",\"wonton\",\"mainly\",\"green_tea\",\"tourist\",\"contain\",\"above_average\",\"vacation\",\"btw\",\"draft\",\"old_school\",\"fine_dining\",\"outdoor\",\"call_ahead\",\"advance\",\"marinate\",\"mcdonald_'s\",\"sat\",\"fav\",\"hardly\",\"worst\",\"barbecue\",\"minute_later\",\"dude\",\"relaxed\",\"pint\",\"reach\",\"west\",\"ridiculously\",\"require\",\"regard\",\"boil\",\"hide_gem\",\"tangy\",\"holiday\",\"swear\",\"coke\",\"caramel\",\"veal\",\"weak\",\"vinegar\",\"prosciutto\",\"zero\",\"garden\",\"southern\",\"crappy\",\"confused\",\"individual\",\"aware\",\"hello\",\"$_40\",\"10_min\",\"hook\",\"divine\",\"grilled\",\"craft_beer\",\"mis\",\"band\",\"un\",\"arugula\",\"originally\",\"numerous\",\"4/5\",\"advertise\",\"whip_cream\",\"jam\",\"reply\",\"obvious\",\"chicken_breast\",\"mash_potato\",\"eater\",\"apps\",\"zucchini\",\"charming\",\"pleasure\",\"beginning\",\"temperature\",\"grocery_store\",\"rib_eye\",\"comparison\",\"crack\",\"freshness\",\"bistro\",\"dive\",\"bet\",\"absolute\",\"cornbread\",\"cart\",\"vanilla\",\"5/5\",\"vodka\",\"winter\",\"panini\",\"square\",\"upgrade\",\"college\",\"god\",\"25\",\"spanish\",\"sub_par\",\"self\",\"memory\",\"fool\",\"tequila\",\"chew\",\"confirm\",\"ice_tea\",\"meaty\",\"italy\",\"score\",\"challenge\",\"char\",\"muffin\",\"caesar\",\"alot\",\"ratio\",\"100%\",\"dj\",\"blt\",\"ya\",\"hire\",\"squid\",\"30_min\",\"3.5_star\",\"minus\",\"15_min\",\"legit\",\"iced_tea\",\"everytime\",\"layout\",\"looking\",\"wasabi\",\"20_min\",\"heck\",\"'m\",\"grow\",\"tab\",\"devour\",\"raspberry\",\"wet\",\"being_say\",\"sun\",\"package\",\"leg\",\"proper\",\"thankfully\",\"beware\",\"inedible\",\"sticky\",\"handful\",\"hibachi\",\"tamale\",\"killer\",\"40_minute\",\"belly\",\"blueberry\",\"plastic\",\"sesame\",\"wood\",\"careful\",\"acceptable\",\"farm\",\"champagne\",\"argue\",\"decorate\",\"heavenly\",\"starbucks\",\"disappear\",\"father\",\"yelper\",\"$_14\",\"lastly\",\"accept\",\"pig\",\"closed\",\"bottom_line\",\"comparable\",\"exciting\",\"benedict\",\"pic\",\"shopping\",\"nonetheless\",\"knife\",\"chinatown\",\"personality\",\"veg\",\"seasonal\",\"war\",\"edamame\",\"wedding\",\"calzone\",\"lazy\",\"nope\",\"fall_apart\",\"peanut_butter\",\"drive_through\",\"scream\",\"soul\",\"sunday_brunch\",\"tho\",\"bread_pudding\",\"period\",\"insist\",\"specific\",\"eh\",\"cupcake\",\"25_minute\",\"fave\",\"industry\",\"fight\",\"initially\",\"drizzle\",\"accord\",\"stew\",\"stock\",\"assortment\",\"ist\",\"almond\",\"high_expectation\",\"garnish\",\"decoration\",\"meeting\",\"daily_special\",\"appeal\",\"cousin\",\"satisfying\",\"site\",\"prime\",\"wanna\",\"wynn\",\"berry\",\"apart\",\"cleanliness\",\"pudding\",\"bulgogi\",\"cole_slaw\",\"beet\",\"encounter\",\"allergy\",\"mit\",\"bc\",\"fake\",\"cherry\",\"filipino\",\"german\",\"christmas\",\"neighbourhood\",\"80\",\"exist\",\"address\",\"island\",\"improvement\",\"only_downside\",\"row\",\"stir_fry\",\"annoyed\",\"recall\",\"katsu\",\"slight\",\"40\",\"foie_gra\",\"advise\",\"silverware\",\"preparation\",\"popcorn\",\"steep\",\"impression\",\"freak\",\"blame\",\"song\",\"trash\",\"calorie\",\"join\",\"ordinary\",\"texas\",\"rubbery\",\"soy\",\"sea_bass\",\"ensure\",\"coat\",\"fiance\",\"authentic_mexican\",\"diet\",\"yogurt\",\"miso\",\"pace\",\"chocolate_cake\",\"jalape\\u00f1o\",\"cuz\",\"everybody\",\"eating\",\"rule\",\"brussel_sprout\",\"ricotta\",\"sprinkle\",\"roast_beef\",\"feta\",\"recent\",\"taco_bell\",\"pip_hot\",\"school\",\"kabob\",\"fries\",\"smoky\",\"$_100\",\"creme_brulee\",\"$_13\",\"lv\",\"smoked\",\"smother\",\"charm\",\"express\",\"nutella\",\"jump\",\"7_pm\",\"unbelievable\",\"afraid\",\"strike\",\"grant\",\"6_pm\",\"meatloaf\",\"yellow\",\"queso\",\"cauliflower\",\"halibut\",\"sear\",\"hot_pot\",\"fianc\\u00e9\",\"scramble_egg\",\"blast\",\"wtf\",\"palate\",\"custard\",\"email\",\"shape\",\"member\",\"korean_bbq\",\"companion\",\"brie\",\"noise\",\"budget\",\"jerk\",\"shock\",\"udon\",\"trio\",\"roti\",\"shout\",\"expand\",\"understand_why\",\"nut\",\"pea\",\"month_ago\",\"lively\",\"brand\",\"cheese_curd\",\"premium\",\"colleague\",\"tight\",\"breading\",\"earth\",\"first_impression\",\"worthy\",\"complement\",\"wide_variety\",\"bear\",\"mad\",\"consume\",\"student\",\"bang\",\"respect\",\"14\",\"happily\",\"earn\",\"denny_'s\",\"control\",\"jack\",\"da\",\"henderson\",\"anytime\",\"16\",\"3rd\",\"common\",\"outdoor_patio\",\"respond\",\"sing\",\"reviewer\",\"elegant\",\"stupid\",\"sirloin\",\"o\",\"wallet\",\"driver\",\"pride\",\"mimosa\",\"um\",\"most_likely\",\"walnut\",\"skillet\",\"skimp\",\"mixture\",\"brown_rice\",\"confuse\",\"cod\",\"french_onion\",\"warning\",\"energy\",\"green_onion\",\"entirely\",\"min\",\"d\\u00e9cor\",\"entertainment\",\"skeptical\",\"downhill\",\"previously\",\"m\",\"jerk_chicken\",\"smokey\",\"underwhelming\",\"nicht\",\"client\",\"mill\",\"la_carte\",\"8_pm\",\"yay\",\"and/or\",\"peach\",\"hurt\",\"ceiling\",\"appropriate\",\"100\",\"training\",\"pain\",\"community\",\"land\",\"lobster_bisque\",\"blah\",\"take_advantage\",\"cancel\",\"$_16\",\"scramble\",\"cramped\",\"spoil\",\"pretentious\",\"shred\",\"sunday_morning\",\"squeeze\",\"alfredo\",\"ill\",\"unprofessional\",\"kale\",\"edinburgh\",\"flaky\",\"unusual\",\"garbage\",\"ish\",\"assure\",\"crew\",\"d\",\"fully\",\"fishy\",\"spill\",\"runny\",\"lean\",\"justify\",\"reheat\",\"preference\",\"mcdonalds\",\"lukewarm\",\"other_reviewer\",\"al\",\"hasn't\",\"$_18\",\"essentially\",\"delectable\",\"dump\",\"9_pm\",\"produce\",\"weekly\",\"snob\",\"ugh\",\"craft\",\"contact\",\"baguette\",\"staff_member\",\"majority\",\"key\",\"adequate\",\"rosemary\",\"uni\",\"traffic\",\"background\",\"rack\",\"crawfish\",\"explore\",\"utensil\",\"bubble_tea\",\"gyoza\",\"japan\",\"semi\",\"sooooo\",\"occupy\",\"indoor\",\"menus\",\"competition\",\"power\",\"week_ago\",\"buzz\",\"pay_attention\",\"18\",\"inspire\",\"brewery\",\"screw_up\",\"karaoke\",\"10_pm\",\"directly\",\"surprising\",\"resort\",\"unlimited\",\"correctly\",\"funky\",\"drench\",\"candy\",\"franchise\",\"valet\",\"thursday_night\",\"speed\",\"poisoning\",\"catfish\",\"deliciousness\",\"tongue\",\"from_scratch\",\"convince\",\"practically\",\"macaron\",\"bourbon\",\"hi\",\"page\",\"chips\",\"adventurous\",\"3.5\",\"enchiladas\",\"noon\",\"scale\",\"indulge\",\"flavored\",\"entr\\u00e9e\",\"downstairs\",\"test\",\"quarter\",\"monday_night\",\"ten_minute\",\"lately\",\"complex\",\"artichoke\",\"subpar\",\"recognize\",\"direction\",\"delicate\",\"washroom\",\"golden\",\"quinoa\",\"soo\",\"flag\",\"diverse\",\"press\",\"punch\",\"oz\",\"ideal\",\"terribly\",\"decadent\",\"guarantee\",\"banh_mi\",\"paris\",\"ayce_sushi\",\"corporate\",\"irish\",\"caf\\u00e9\",\"hh\",\"necessary\",\"prove\",\"tear\",\"hawaii\",\"21\",\"ps\",\"bank\",\"star_rating\",\"glaze\",\"pita_bread\",\"adorable\",\"impossible\",\"rustic\",\"sea\",\"study\",\"mgm\",\"thoroughly_enjoy\",\"apologetic\",\"scrumptious\",\"shocked\",\"fridge\",\"chandler\",\"venetian\",\"cheer\",\"c\",\"whiskey\",\"below_average\",\"confusing\",\"tot\",\"poorly\",\"tuck_away\",\"fyi\",\"sight\",\"minimum\",\"china\",\"female\",\"reuben\",\"mojito\",\"sour_soup\",\"liquor\",\"minimal\",\"body\",\"yuck\",\"sale\",\"pure\",\"closer\",\"tour\",\"13\",\"wild\",\"benefit\",\"five_minute\",\"kudo\",\"wave\",\"screen\",\"beautifully\",\"lil\",\"nacho\",\"bento_box\",\"cappuccino\",\"suit\",\"pear\",\"3/5\",\"tomorrow\",\"smash\",\"fee\",\"lobby\",\"currently\",\"grandma\",\"green_curry\",\"character\",\"honor\",\"overpowering\",\"waiting\",\"succulent\",\"baklava\",\"inconsistent\",\"knowledgable\",\"aioli\",\"refresh\",\"rip_off\",\"middle_eastern\",\"gooey\",\"clientele\",\"chilli\",\"report\",\"bummer\",\"ride\",\"struggle\",\"spring\",\"customize\",\"mash\",\"destination\",\"overwhelm\",\"grub\",\"overpower\",\"couch\",\"custom\",\"hangover\",\"generic\",\"lightly\",\"factor\",\"knowledge\",\"comfy\",\"history\",\"maintain\",\"final\",\"news\",\"skill\",\"msg\",\"pumpkin\",\"amazed\",\"faster\",\"jar\",\"feast\",\"delay\",\"boss\",\"deep_dish\",\"tuesday_night\",\"slide\",\"aka\",\"spice_level\",\"gift_card\",\"eel\",\"chris\",\"marinara\",\"spiciness\",\"insane\",\"mesa\",\"watermelon\",\"east_coast\",\"enormous\",\"surely\",\"beef_brisket\",\"oh_yeah\",\"vary\",\"relaxing\",\"wonderfully\",\"angry\",\"ein\",\"bacon_wrap\",\"california_roll\",\"dislike\",\"fondue\",\"shift\",\"natural\",\"ipa\",\"stage\",\"drown\",\"closing\",\"culinary\",\"curious\",\"dense\",\"appearance\",\"hospitality\",\"stumble_upon\",\"wipe\",\"decline\",\"cheesesteak\",\"execute\",\"auch\",\"garlic_knot\",\"text\",\"policy\",\"entertain\",\"pistachio\",\"welcoming\",\"poached_egg\",\"wheat\",\"bone_marrow\",\"seven\",\"necessarily\",\"genuine\",\"private\",\"60\",\"occasionally\",\"gal\",\"eclectic\",\"rough\",\"midnight\",\"flow\",\"aria\",\"slowly\",\"current\",\"pasty\",\"indicate\",\"voice\",\"plantain\",\"sucker\",\"sum\",\"horseradish\",\"ribs\",\"aroma\",\"splurge\",\"disgust\",\"olive_garden\",\"satay\",\"appetizing\",\"infuse\",\"manner\",\"lunchtime\",\"sunday_afternoon\",\"canadian\",\"aber\",\"cure\",\"slam\",\"canada\",\"culture\",\"homey\",\"candle\",\"resto\",\"hesitant\",\"tone\",\"unfortunate\",\"milk_tea\",\"increase\",\"imo\",\"ample\",\"operate\",\"refer\",\"albeit\",\"booze\",\"filthy\",\"price_tag\",\"horchata\",\"print\",\"annoy\",\"ahi_tuna\",\"chic\",\"clam_chowder\",\"gut\",\"chow_mein\",\"worried\",\"skinny\",\"citrus\",\"5_min\",\"concert\",\"baked_potato\",\"i.e.\",\"subtle\",\"reflect\",\"draft_beer\",\"trick\",\"steamed\",\"setup\",\"church\",\"quote\",\"male\",\"flour\",\"shopping_center\",\"demand\",\"anticipate\",\"exceed\",\"loaf\",\"pocket\",\"vinaigrette\",\"tall\",\"volume\",\"appealing\",\"content\",\"whatsoever\",\"concerned\",\"worth_every_penny\",\"green_chili\",\"pretty_darn\",\"eager\",\"creation\",\"fuck\",\"understaffed\",\"drip\",\"paint\",\"quiche\",\"attach\",\"hub\",\"seaweed\",\"entertaining\",\"unacceptable\",\"convenience\",\"oppose\",\"nothing_spectacular\",\"polenta\",\"fortunately\",\"encourage\",\"scone\",\"tater_tot\",\"shortly_after\",\"hesitate\",\"90\",\"congee\",\"a+\",\"exceptionally\",\"resist\",\"action\",\"arm\",\"gladly\",\"concoction\",\"wednesday_night\",\"cooler\",\"ate\",\"float\",\"tummy\",\"jalapenos\",\"lamb_chop\",\"e\",\"lick\",\"calm\",\"batch\",\"spit\",\"45_min\",\"seek\",\"inch\",\"mike\",\"hotdog\",\"southwest\",\"sleep\",\"took\",\"flag_down\",\"informative\",\"cracker\",\"smart\",\"doughy\",\"expert\",\"anytime_soon\",\"aspect\",\"paella\",\"mexico\",\"prawn\",\"boot\",\"24_hour\",\"front_desk\",\"ppl\",\"byob\",\"genuinely\",\"personal_favorite\",\"ground_beef\",\"lackluster\",\"red_pepper\",\"purpose\",\"lame\",\"green_chile\",\"cuban\",\"overdone\",\"barista\",\"elevator\",\"stone\",\"bean_sprout\",\"thumbs_up\",\"success\",\"involve\",\"bug\",\"goody\",\"bump\",\"$_60\",\"downside\",\"cranberry\",\"oxtail\",\"definately\",\"mid\",\"unpleasant\",\"negative_review\",\"$_35\",\"timing\",\"health\",\"burst\",\"suspect\",\"insanely\",\"corn_tortilla\",\"pecan\",\"joe\",\"tempt\",\"bench\",\"polish\",\"uptown\",\"$_17\",\"joe_'s\",\"salsas\",\"john\",\"saturday_morning\",\"sooner\",\"inconvenience\",\"instantly\",\"rum\",\"orange_juice\",\"lake\",\"explanation\",\"mountain\",\"liquid\",\"central\",\"ihop\",\"shirt\",\"gigantic\",\"cannoli\",\"sharing\",\"gumbo\",\"lo_mein\",\"politely\",\"deliciously\",\"yellowtail\",\"alas\",\"dance_floor\",\"visitor\",\"furniture\",\"standout\",\"initial\",\"attractive\",\"frankly\",\"grand\",\"thanksgiving\",\"label\",\"spin\",\"flan\",\"dare\",\"interest\",\"whip\",\"unfriendly\",\"wind\",\"kalbi\",\"previous_review\",\"rid\",\"wifi\",\"wide\",\"saturday_afternoon\",\"ice_cold\",\"pas\",\"engage\",\"gilbert\",\"squash\",\"sweat\",\"frustrating\",\"shoot\",\"tree\",\"day_ago\",\"les\",\"jelly\",\"doughnut\",\"security\",\"max\",\"endless\",\"crouton\",\"hangout\",\"timely_manner\",\"macaroon\",\"afford\",\"lobster_tail\",\"vanilla_ice_cream\",\"direct\",\"west_side\",\"san_diego\",\"wander\",\"unhappy\",\"pot_pie\",\"bus\",\"cali\",\"jalape\\u00f1os\",\"stair\",\"skimpy\",\"whim\",\"dim\",\"pizzeria\",\"tower\",\"pickup\",\"inquire\",\"~\",\"million\",\"america\",\"category\",\"cheesecake_factory\",\"magic\",\"nugget\",\"exotic\",\"flat_bread\",\"resemble\",\"nail\",\"hassle\",\"information\",\"vermicelli\",\"exterior\",\"stretch\",\"mimosas\",\"chicken_parm\",\"marinara_sauce\",\"element\",\"cry\",\"cross\",\"reputation\",\"pizza_hut\",\"beet_salad\",\"foie_gras\",\"bargain\",\"en\",\"maple\",\"unable\",\"prep\",\"ale\",\"rose\",\"suffer\",\"hunger\",\"rub\",\"sriracha\",\"mole\",\"old_fashion\",\"exquisite\",\"neighbor\",\"tortilla_chip\",\"firm\",\"leaf\",\"save_room\",\"toilet\",\"smoked_salmon\",\"al_dente\",\"boat\",\"greeting\",\"carnitas\",\"few_week_ago\",\"message\",\"b_c\",\"schedule\",\"opposite\",\"overwhelmed\",\"den\",\"markham\",\"carnita\",\"young_lady\",\"array\",\"bucket\",\"t\",\"most_importantly\",\"flower\",\"accent\",\"separately\",\"ipad\",\"clothe\",\"kobe\",\"earl\",\"accurate\",\"noodles\",\"escargot\",\"vip\",\"sorbet\",\"wicked_spoon\",\"discuss\",\"wedge\",\"kebab\",\"torta\",\"darn\",\"fear\",\"sexy\",\"adventure\",\"gold\",\"dive_bar\",\"conclusion\",\"tradition\",\"sandwhich\",\"sundays\",\"frite\",\"pleasant_surprise\",\"flip\",\"silly\",\"don't\",\"panera\",\"trek\",\"tune\",\"mind_blow\",\"redeem\",\"yep\",\"sticky_rice\",\"unexpected\",\"san\",\"grocery\",\"fig\",\"contrast\",\"cheerful\",\"resturant\",\"gracious\",\"kink\",\"drag\",\"beach\",\"intend\",\"airy\",\"equal\",\"theater\",\"specialize\",\"five_guy\",\"risk\",\"rain\",\"upbeat\",\"stingy\",\"keg\",\"grain\",\"chunky\",\"balsamic\",\"apply\",\"=)\",\"passion\",\"went\",\"matt\",\"des\",\"error\",\"schnitzel\",\"hunt\",\"oder\",\"panda_express\",\"shrimp_tempura\",\"cafeteria\",\"execution\",\"wide_selection\",\"4.5_star\",\"rave_review\",\"slip\",\"rank\",\"free_wifi\",\"authenticity\",\"wake_up\",\"underwhelmed\",\"border\",\"sigh\",\"definite\",\"yelpers\",\"thank_goodness\",\"gorgonzola\",\"eye_contact\",\"san_francisco\",\"badly\",\"kfc\",\"facility\",\"thrilled\",\"ahi\",\"outrageous\",\"forth\",\"bold\",\"4th\",\"cab\",\"kobe_beef\",\"vs\",\"western\",\"colorful\",\"kindly\",\"sloppy\",\"remodel\",\"\\u00e0\",\"mississauga\",\"-the\",\"mongolian_beef\",\"catering\",\"tie\",\"rise\",\"norm\",\"screw\",\"arrival\",\"track\",\"i'm\",\"saucy\",\"chile\",\"variation\",\"tooth\",\"bibimbap\",\"understandable\",\"paste\",\"addict\",\"bread_basket\",\"lentil\",\"lemongrass\",\"defiantly\",\"sink\",\"lettuce_wrap\",\"duty\",\"maple_syrup\",\"wonton_soup\",\"unbelievably\",\"$_2.50\",\"zero_star\",\"noise_level\",\"summerlin\",\"shade\",\"exit\",\"seaweed_salad\",\"joy\",\"celebration\",\"grade\",\"carrot_cake\",\"prix_fixe\",\"dust\",\"upon_enter\",\"exact\",\"wonder_why\",\"uber\",\":d\",\"inattentive\",\"garlic_naan\",\"superior\",\"animal\",\"luke_warm\",\"truth\",\"plat\",\"speedy\",\"nose\",\"replacement\",\"high_school\",\"chimichanga\",\"cider\",\"crumble\",\"low_key\",\"supposedly\",\"open_24_hour\",\"empanadas\",\"duck_confit\",\"patience\",\"carb\",\"biryani\",\"lousy\",\"hush_puppy\",\"ultimate\",\"stuck\",\"rio\",\"hookah\",\"toddler\",\"p.s.\",\"cat\",\"mr.\",\"anybody\",\"sketchy\",\"drool\",\"proud\",\"gta\",\"remake\",\"grape\",\"sprout\",\"sunset\",\"celery\",\"runner\",\"maki\",\"paradise\",\"ultimately\",\"til\",\"attract\",\"reasonably\",\"kale_salad\",\"thoroughly\",\"additionally\",\"somebody\",\"native\",\"marinated\",\"al_pastor\",\"first_timer\",\"eggs_benedict\",\"sage\",\"17\",\"i.\",\"past_weekend\",\"cone\",\"gift\",\"mmmm\",\"witness\",\"breadstick\",\"access\",\"lock\",\"import\",\"los_angeles\",\"pico_de_gallo\",\"approximately\",\"rudely\",\"pretend\",\"organize\",\"mmm\",\"chopstick\",\"sunny\",\"operation\",\"empanada\",\"lineup\",\"busser\",\"absolute_favorite\",\"hidden_gem\",\"social\",\"difference_between\",\"wooden\",\"record\",\"gratuity\",\"no_frill\",\"underneath\",\"embarrassed\",\"varied\",\"adjust\",\"branch\",\"butt\",\"soft_shell_crab\",\"naturally\",\"rip\",\"peak\",\"fourth\",\"lower\",\"fellow\",\"mocha\",\"mug\",\"old_fashioned\",\"spirit\",\"scallion\",\"gamble\",\"fuss\",\"martinis\",\"praise\",\"dang\",\"bird\",\"churro\",\"conference\",\"outlet\",\"fruity\",\"trout\",\"voucher\",\"shoe\",\"seat_promptly\",\"sheet\",\"picky_eater\",\"hardly_any\",\"limp\",\"cosmo\",\"smoking\",\"warrant\",\"connoisseur\",\"stress\",\"escape\",\"football\",\"eine\",\"measure\",\"wings\",\"enthusiastic\",\"stool\",\"relative\",\"reminiscent\",\"$_22\",\"young_man\",\"yellow_curry\",\"mission\",\"cash_register\",\"prop\",\"incorrect\",\"metal\",\"tex_mex\",\"nervous\",\"wendy_'s\",\"self_serve\",\"hoagie\",\"ear\",\"freakin\",\"ethiopian\",\"disaster\",\"dragon\",\"breath\",\"ounce\",\"beg\",\"upon_arrival\",\"lucky_enough\",\"guide\",\"assorted\",\"bustle\",\"effect\",\"weight\",\"planet_hollywood\",\"hood\",\"flour_tortilla\",\"lettuce_tomato\",\"queen\",\"saturday_evening\",\"iced_coffee\",\"pairing\",\"basement\",\"holy\",\"sweet_tooth\",\"obnoxious\",\"campus\",\"cinnamon_roll\",\"down_hill\",\"successful\",\"confusion\",\"ha\",\"boston\",\"cosmopolitan\",\"essen\",\"hashbrown\",\"industrial\",\"thinking\",\"crush\",\"cardboard\",\"addictive\",\"crab_rangoon\",\"ability\",\"weeknight\",\"thinly_slice\",\"account\",\"tao\",\"rave\",\"persian\",\"5-star\",\"zu\",\"teach\",\"compete\",\"public\",\"'ll\",\"property\",\"goat\",\"brick\",\"aunt\",\"slab\",\"caviar\",\"depth\",\"potsticker\",\"inviting\",\"survive\",\"thrill\",\"vintage\",\"thank_god\",\"ur\",\"souvlaki\",\"salami\",\"bao\",\"$_1.50\",\"hall\",\"tavern\",\"seemingly\",\"decade\",\"gin\",\"brilliant\",\"pathetic\",\"summary\",\"samosa\",\"cheat\",\"chick\",\"es\",\"bouchon\",\"wisconsin\",\"'ve\",\"mayonnaise\",\"bouncer\",\"penne\",\"fillet\",\"reliable\",\"narrow\",\"70\",\"revisit\",\"valentine_'s_day\",\"chilly\",\"research\",\"habit\",\"french_dip\",\"enhance\",\"circle\",\"entry\",\"fold\",\"obsess\",\"connect\",\"extraordinary\",\"surf\",\"family_member\",\"spell\",\"gesture\",\"allergic\",\"phx\",\"id\",\"l\",\"provolone\",\"mister\",\"pickled\",\"r\",\"cashew\",\"source\",\"von\",\"ah\",\"blacken\",\"breaded\",\"dining_companion\",\"canned\",\"savoury\",\"teppanyaki\",\"timely\",\"bday\",\"bay\",\"hollandaise_sauce\",\"assist\",\"store_buy\",\"contemporary\",\"english_muffin\",\"snap\",\"peel\",\"university\",\"caper\",\"michael\",\"filler\",\"straw\",\"idiot\",\"cow\",\"shower\",\"award\",\"brioche\",\"tony\",\"insult\",\"thick_cut\",\"deck\",\"crusty\",\"substitution\",\"radish\",\"sind\",\"shoulder\",\"india\",\"mandalay_bay\",\"roughly\",\"understanding\",\"department\",\"chicken_tikka_masala\",\"bottomless\",\"room_temperature\",\"truffle_oil\",\"ohio\",\"tuck\",\"tasteful\",\"renovation\",\"computer\",\"accidentally\",\"feedback\",\"interact\",\"creme_br\\u00fbl\\u00e9e\",\"distract\",\"tacky\",\"glove\",\"network\",\"wraps\",\"component\",\"supply\",\"margaritas\",\"linger\",\"\\u00a3\",\"alle\",\"distance\",\"flavoring\",\"amaze\",\"caprese\",\"pot_sticker\",\"shut\",\"f\",\"frank\",\"distinct\",\"11_pm\",\"garlicky\",\"minor\",\"payment\",\"tostada\",\"substantial\",\"forgive\",\"brand_new\",\"promotion\",\"manhattan\",\"burrata\",\"hilarious\",\"commercial\",\"taiwanese\",\"$_3.50\",\"scrap\",\"sommelier\",\"cobb_salad\",\"smoke_salmon\",\"grand_opening\",\"july\",\"nicely_decorate\",\"horrendous\",\"black_pepper\",\"crumb\",\"reality\",\"tapa\",\"situate\",\"fireplace\",\"edit\",\"stuffy\",\"bore\",\"munch\",\"automatically\",\"freezer\",\"admittedly\",\"hazelnut\",\"button\",\"au\",\"innovative\",\"liver\",\"intense\",\"oatmeal\",\"supreme\",\"rotate\",\"mahi_mahi\",\"costco\",\"swim\",\"swiss\",\"stumble\",\"jambalaya\",\"shitty\",\"supermarket\",\"adore\",\"temp\",\"grandmother\",\"reduce\",\"coconut_milk\",\"atop\",\"dissapoint\",\"cube\",\"roof\",\"flame\",\"notch\",\"powder\",\"hallway\",\"omakase\",\"unsure\",\"dave\",\"boneless\",\"represent\",\"du\",\"sourdough\",\"rent\",\"turf\",\"chip_cookie\",\"asap\",\"relate\",\"ac\",\"magical\",\"breast\",\"master\",\"fried_pickle\",\"friday_evening\",\"triple\",\"associate\",\"bell\",\"rotation\",\"creativity\",\"oh_my\",\"forgettable\",\"bell_pepper\",\"chase\",\"waren\",\"marshmallow\",\"save_grace\",\"35_minute\",\"jason\",\"specially\",\"rabbit\",\"mush\",\"shave\",\"overrated\",\"gas_station\",\"hmmm\",\"practice\",\"dairy\",\"f\\u00fcr\",\"miserable\",\"shake_shack\",\"epic\",\"peruse\",\"em\",\"dice\",\"rainbow\",\"chive\",\"accompaniment\",\"gluten\",\"guinness\",\"beignet\",\"overhear\",\"slap\",\"sizzle\",\"relish\",\"no_clue\",\"presence\",\"10/10\",\"gordon_ramsay\",\"que\",\"glance\",\"festival\",\"complementary\",\"cap\",\"thirsty\",\"randomly\",\"linguine\",\"spotty\",\"occasional\",\"caprese_salad\",\"sundae\",\"baja\",\"dancing\",\"television\",\"1/4\",\"jazz\",\"banchan\",\"trend\",\"unimpressed\",\"tvs\",\"hollandaise\",\"inventive\",\"thailand\",\"palace\",\"outback\",\"pork_bone\",\"reward\",\"extreme\",\"hmm\",\"eggs\",\"yonge\",\"exchange\",\"sauerkraut\",\"belong\",\"remarkable\",\"rye\",\"summerlicious\",\"handmade\",\"treatment\",\"village\",\"new_york_style\",\"significant\",\"second_floor\",\"shortly\",\"proportion\",\"hidden\",\"perfectly_seasoned\",\"mama\",\"gym\",\"root_beer\",\"feta_cheese\",\"6:30\",\"bolognese\",\"caribbean\",\"grind\",\"root\",\"downtown_phoenix\",\"hefty\",\"overbearing\",\"mousse\",\":p\",\"sitting\",\"most_important\",\"vote\",\"gambling\",\"gather\",\"samosas\",\"bum\",\"lesson\",\"matcha\",\"carpaccio\",\"brussels_sprout\",\"okra\",\"google\",\"conveniently_locate\",\"near_future\",\"fellow_yelper\",\"death\",\"loose\",\"dill\",\"snag\",\"ethnic\",\"decently\",\"sparse\",\"$_5.99\",\"meat_eater\",\"compensate\",\"est\",\"$_45\",\"sophisticated\",\"packet\",\"shack\",\"heavily\",\"4.5\",\"metro\",\"eggroll\",\"few_month_ago\",\"creme\",\"thigh\",\"nightmare\",\"coma\",\"european\",\"internet\",\"sam\",\"bravo\",\"viet\",\"yup\",\"speak_english\",\"devil_egg\",\"loaded\",\"wood_fire\",\"shredded\",\"yard\",\"fryer\",\"lotus\",\"passable\",\"gm\",\"fall_short\",\"ease\",\"fond\",\"wok\",\"yea\",\"david\",\"carnivore\",\"nature\",\"palette\",\"heat_lamp\",\"collard_green\",\"hustle\",\"stroll\",\"missing\",\"hash_house\",\"x\",\"35\",\"versus\",\"prevent\",\"smoker\",\"brazilian\",\"retro\",\"friendliness\",\"margherita_pizza\",\"rival\",\"frustrated\",\"bike\",\"tail\",\"peruvian\",\"ugly\",\"panang_curry\",\"scarborough\",\"regular_basis\",\"monster\",\"bubble\",\"sea_salt\",\"private_room\",\"new_orleans\",\"west_coast\",\"dear\",\"wedge_salad\",\"sauteed\",\"tilapia\",\"oddly\",\"signage\",\"taro\",\"auf\",\"towel\",\"deny\",\"pinch\",\"dosa\",\"scratch\",\"painting\",\"savor\",\"15_20_minute\",\"strongly_recommend\",\"interrupt\",\"24\",\"speaker\",\"foam\",\"district\",\"france\",\"primarily\",\"clue\",\"0\",\"cent\",\"most_recent_visit\",\"questionable\",\"tom\",\"dumb\",\"tuesdays\",\"ownership\",\"bacchanal\",\"bleu_cheese\",\"desk\",\"pushy\",\"bust\",\"interaction\",\"apple_pie\",\"boast\",\"lola\",\"wagyu\",\"chutney\",\"chose\",\"shall\",\"alley\",\"taco_tuesday\",\"chickpea\",\"mondays\",\"specify\",\"secondly\",\"carne_asada_burrito\",\"unassuming\",\"equivalent\",\"mile_away\",\"instance\",\"differently\",\"er\",\"sever\",\"red_velvet\",\"observe\",\"excitement\",\"bat\",\"competitor\",\"pita_jungle\",\"thai_iced_tea\",\"repeatedly\",\"barbeque\",\"nick\",\"'d\",\"0_star\",\"debate\",\"das_essen\",\"nightclub\",\"tzatziki\",\"diet_coke\",\"drunken\",\"euro\",\"vs.\",\"pleasantly_surprise_by\",\"instant\",\"urban\",\"dipping_sauce\",\"soooooo\",\"flash\",\"intrigue\",\"unreal\",\"dimly_light\",\"caramelize_onion\",\"king_crab\",\"mixed_green\",\"yum_yum\",\"7:30\",\"2.5_star\",\"g\",\"$_6.99\",\"tartar_sauce\",\"pico\",\"sober\",\"ca_n't\",\"sliced\",\"noch\",\"huh\",\"winterlicious\",\"non_existent\",\"outing\",\"stall\",\"bloody\",\"priority\",\"laptop\",\"quirky\",\"diamond\",\"burgers\",\"sugary\",\"$_7.99\",\"plane\",\"delighted\",\"cob\",\"verdict\",\"hospital\",\"esp\",\"shelf\",\"fixing\",\"$_19\",\"planet\",\"justice\",\"mandarin\",\"stranger\",\"pate\",\"long_story_short\",\"resident\",\"carefully\",\"portuguese\",\"bored\",\"1/3\",\"st\",\"manger\",\"vibes\",\"hier\",\"disorganized\",\"applebee_'s\",\"constant\",\"humor\",\"language\",\"communicate\",\"tandoori_chicken\",\"visible\",\"spare\",\"20%\",\"caesars\",\"t_shirt\",\"americanized\",\"vibrant\",\"oj\",\"naked\",\"saut\\u00e9ed\",\"$_9.99\",\"coating\",\"patronize\",\"icing\",\"dark_chocolate\",\"stare\",\"incident\",\"tastebud\",\"anchovy\",\"asian_fusion\",\"solo\",\"thoughtful\",\"alex\",\"thousand\",\"info\",\"ad\",\"purple\",\"drunken_noodle\",\"lobster_mac\",\"genius\",\"butcher\",\"saltiness\",\"sammy\",\"heater\",\"brat\",\"flair\",\"papaya_salad\",\"horribly\",\"wilt\",\"influence\",\"mochi\",\"pleasing\",\"$_24\",\"artwork\",\"performance\",\"bookmark\",\"appropriately\",\"scary\",\"habanero\",\"nobu\",\"bento\",\"breeze\",\"faf\",\"urge\",\"charcuterie\",\"izakaya\",\"grateful\",\"unpretentious\",\"energetic\",\"thankful\",\"pad_see_ew\",\"eve\",\"bake_potato\",\"cantonese\",\"chicago_style\",\"granola\",\"piss\",\"niece\",\"lentil_soup\",\"pomegranate\",\"idk\",\"marinade\",\"50%\",\"pump\",\"blood\",\"hike\",\"bus_boy\",\"ie\",\"takoyaki\",\"stuttgart\",\"tartar\",\"jean\",\"don\",\"palazzo\",\"fairly_quickly\",\"arepa\",\"iceberg_lettuce\",\"criticism\",\"port\",\"carbonara\",\"ghetto\",\"slimy\",\"adjacent\",\"mystery\",\"degree\",\"shady\",\"flamingo\",\"strictly\",\"2.5\",\"mais\",\"teenager\",\"golf\",\"vast\",\"huevos_rancheros\",\"2/5\",\"irish_pub\",\"fashion\",\"red_robin\",\"deluxe\",\"beauty\",\"marry\",\"sampling\",\"apartment\",\"atm\",\"paneer\",\"brain\",\"satisfaction\",\"walk_distance\",\"margherita\",\"hungover\",\"suddenly\",\"lip\",\"abundance\",\"tripe\",\"pancetta\",\"live_band\",\"status\",\"stiff\",\"philly_cheesesteak\",\"hamachi\",\"surrounding\",\"freaking\",\"exact_same\",\"dime\",\"uniform\",\"chocolate_mousse\",\"shave_ice\",\"chai\",\"loss\",\"explosion\",\"sand\",\"general_tso_'s\",\"bizarre\",\"activity\",\"quit\",\"pant\",\"route\",\"uncle\",\"sneak\",\"mirage\",\"sicilian\",\"charred\",\"hospitable\",\"fennel\",\"shove\",\"chowder\",\"moderate\",\"hakka\",\"brush\",\"renovate\",\"15_minute_later\",\"szechuan\",\"seattle\",\"k\",\"rigatoni\",\"masala\",\"bitch\",\"stuffing\",\"shin\",\"countless\",\"rolls\",\"overcharge\",\"generous_amount\",\"$_200\",\"hong_kong\",\"skirt_steak\",\"personal_preference\",\"richness\",\"grimaldi_'s\",\"video\",\"must_admit\",\"ich\",\"22\",\"pierogie\",\"burro\",\"harsh\",\"facebook\",\"chart\",\"march\",\"midwest\",\"douse\",\"substance\",\"unappetizing\",\"5:30\",\"parsley\",\"well_balanced\",\"bahn_mi\",\"significantly\",\"ooze\",\"tartare\",\"$_70\",\"food-\",\"lid\",\"palm\",\"nur\",\"boo\",\"hover\",\"blonde\",\"mmmmm\",\"pan_roast\",\"raisin\",\"brooklyn\",\"mass\",\"altogether\",\"officially\",\"neglect\",\"iced\",\"intention\",\"50%_off\",\"extend\",\"slather\",\"patiently\",\"carne_asada_tacos\",\"highly_suggest\",\"reference\",\"drinks\",\"high_ceiling\",\"notify\",\"block_away\",\"barbacoa\",\"collection\",\"region\",\"lox\",\"cutlery\",\"uh\",\"shy\",\"honey_mustard\",\"alongside\",\"buffalo_wing\",\"tricky\",\"poster\",\"slot\",\"j\",\"'em\",\"decently_price\",\"peppercorn\",\"junk\",\"pot_roast\",\"supper\",\"terrace\",\"got\",\"halfway_through\",\"occur\",\"bacon_cheeseburger\",\"bellagio_fountain\",\"overflow\",\"deter\",\"general_manager\",\"90%\",\"eastern\",\"mellow\",\"neck\",\"mound\",\"penny\",\"sehr\",\"perform\",\"comforting\",\"surface\",\"partake\",\"george\",\"40_min\",\"creepy\",\"11:30\",\"speciality\",\"maker\",\"pit\",\"purse\",\"pressure\",\"saturdays\",\"steer\",\"sonic\",\"frame\",\"cleaning\",\"mozzarella_stick\",\"heard\",\"drinker\",\"sf\",\"recent_visit\",\"affect\",\"impatient\",\"gas\",\"dingy\",\"construction\",\"downstair\",\"plant\",\"pork_tenderloin\",\"$_4.50\",\"mirror\",\"atrocious\",\"chile_relleno\",\"stout\",\"peking_duck\",\"au_jus\",\"tenderloin\",\"lacking\",\"ocean\",\"pillow\",\"sin_city\",\"busboy\",\"jamaican\",\"roberto_'s\",\"puff\",\"unnecessary\",\"shut_down\",\"plump\",\"yam\",\"kung_pao_chicken\",\"tapas_style\",\"arrange\",\"formal\",\"carpet\",\"childhood\",\"capacity\",\"asia\",\"jumbo\",\"$_28\",\"swallow\",\"buttermilk\",\"dull\",\"weigh\",\"length\",\"scar\",\"sock_off\",\"burnt\",\"kbbq\",\"convert\",\"yo\",\"develop\",\"pleasantly\",\"2015\",\"boneless_wing\",\"fluke\",\"comfortably\",\"snow\",\"roommate\",\"roast_pork\",\"clueless\",\"sahara\",\"pei_wei\",\"fab\",\"asada\",\"reaction\",\"courtesy\",\"unhealthy\",\"hometown\",\"garage\",\"explode\",\"perk\",\"splash\",\"novelty\",\"bisque\",\"mr\",\"refri_bean\",\"human\",\"braise\",\"disagree\",\"gripe\",\"resolve\",\"wie\",\"factory\",\"cell_phone\",\"umami\",\"mask\",\"loudly\",\"unagi\",\"cowboy\",\"river\",\"dash\",\"wine_pairing\",\"grapefruit\",\"leek\",\"uncooked\",\"forgot\",\"jacket\",\"romaine\",\"sufficient\",\"vendor\",\"greatly\",\"tom_yum_soup\",\"behold\",\"tamarind\",\"sharp\",\"steve\",\"chalkboard\",\"browse\",\"lakewood\",\"glorious\",\"satisfactory\",\"journey\",\"$_26\",\"tandoori\",\"plethora\",\"transport\",\"spoonful\",\"wheel\",\"hooters\",\"excessive\",\"alive\",\"8:30\",\"kiss\",\"linguini\",\"firefly\",\"position\",\"only_gripe\",\"2016\",\"prob\",\"latin\",\"tokyo\",\"pakora\",\"pregnant\",\"chicken_marsala\",\"image\",\"tuna_tartare\",\"behavior\",\"mail\",\"mildly\",\"reception\",\"zum\",\"c'mon\",\"met\",\"doctor\",\"succeed\",\"thai_basil\",\"sidewalk\",\"45\",\"entr\\u00e9es\",\"caliber\",\"plating\",\"3.5/5\",\"heap\",\"east_valley\",\"trade\",\"key_lime_pie\",\"stringy\",\"suffice\",\"apparent\",\"mason_jar\",\"race\",\"perspective\",\"include_tax\",\"beautifully_present\",\"gain\",\"lamb_shank\",\"by_accident\",\"collect\",\"green_tea_ice_cream\",\"shrug\",\"loyal_customer\",\"tendon\",\"pad\",\"$_7.50\",\"asu\",\"most_recent\",\"pissed\",\"halal\",\"glendale\",\"grumpy\",\"ol'\",\"bro\",\"channel\",\"toro\",\"$_4.99\",\"queue\",\"towner\",\"dirt\",\"puree\",\"e.g.\",\"privacy\",\"dan\",\"fulfil\",\"overly_salty\",\"yard_house\",\"forward\",\"digres\",\"bison\",\"humble\",\"yolk\",\"poke_bowl\",\"tremendous\",\"lebanese\",\"colour\",\"lychee\",\"panna_cotta\",\"wild_mushroom\",\"watch_sport\",\"king_crab_leg\",\"dynamite\",\"generously\",\"roasted_red_pepper\",\"tub\",\"peep\",\"seal\",\"$_8.99\",\"pronounce\",\"elevate\",\"mal\",\"duh\",\"limited_seating\",\"fridays\",\"porterhouse\",\"condition\",\"danforth\",\"b.\",\"caution\",\"nephew\",\"locally\",\"felt\",\"bay_area\",\"americano\",\"addicting\",\"peace\",\"einen\",\"courtyard\",\"beef_wellington\",\"bummed\",\"unremarkable\",\"quest\",\"nestle\",\"grill_octopus\",\"phone_number\",\"wurde\",\"dimsum\",\"artist\",\"sun_dry_tomato\",\"statement\",\"rotten\",\"stink\",\"rubber\",\"tri_tip\",\"soap\",\"gosh\",\"brian\",\"sesame_seed\",\"title\",\"inhale\",\"rant\",\"partially\",\"player\",\"chick_fil\",\"salmon_sashimi\",\"9:30\",\"baked_bean\",\"drain\",\"panang\",\"karaage\",\"convention\",\"une\",\"disclaimer\",\"ashamed\",\"swap\",\"benny\",\"honesty\",\"disgusted\",\"preface\",\"carolina\",\"twenty_minute\",\"champaign\",\"owe\",\"football_game\",\"worthwhile\",\"navigate\",\"chandelier\",\"nibble\",\"april\",\"pollo\",\"chili_oil\",\"balanced\",\"melon\",\"solely\",\"yuzu\",\"couscous\",\"smashburger\",\"pet_peeve\",\"tonkatsu\",\"trivia\",\"sorta\",\"gathering\",\"blind\",\"favs\",\"stunning\",\"peppery\",\"magnificent\",\"oreo\",\"gift_certificate\",\"giada\",\"bubbly\",\"fettuccine\",\"accordingly\",\"premise\",\"shine\",\"el\",\"stylish\",\"swiss_cheese\",\"map\",\"link\",\"nod\",\"locally_own\",\"cotton_candy\",\"crab_puff\",\"10%\",\"fritter\",\"togo\",\"wird\",\"rotisserie_chicken\",\"boom\",\"cosy\",\"umbrella\",\"music_playing\",\"abundant\",\"stain\",\"dann\",\"dangerous\",\"3/4\",\"british\",\"artichoke_dip\",\"playing\",\"desperate\",\"kevin\",\"balcony\",\"brag_about\",\"turkish\",\"texas_toast\",\"shrimp_scampi\",\"complicated\",\"target\",\"cream_spinach\",\"pepsi\",\"amuse_bouche\",\"determine\",\"aus\",\"themed\",\"under_season\",\"centre\",\"invest\",\"rely\",\"board_game\",\"johnny\",\"stamp\",\"copy\",\"merely\",\"crawl\",\"irritated\",\"good-\",\"swordfish\",\"spotless\",\"northern\",\"ultra\",\"chalk\",\"uninspired\",\"open_24/7\",\"august\",\"pal\",\"20_+\",\"ginormous\",\"ex\",\"southwestern\",\"etwa\",\"whole_wheat\",\"tropical\",\"black_cod\",\"competent\",\"encore\",\"deduct\",\"dim_lighting\",\"ryan\",\"promote\",\"plum\",\"town_square\",\"film\",\"accessible\",\"frost\",\"nc\",\"sp\",\"2014\",\"function\",\"mgm_grand\",\"firstly\",\"modest\",\"scared\",\"overrate\",\"postino\",\"alert\",\"someplace\",\"$_6.50\",\"january\",\"overload\",\"escort\",\"frustration\",\"new_york_strip\",\"flank_steak\",\"preserve\",\"spam\",\"tang\",\"deceive\",\"moscow_mule\",\"s'more\",\"petite\",\"carne\",\"relaxed_atmosphere\",\"swing\",\"monta\",\"stromboli\",\"communication\",\"cuban_sandwich\",\"$_23\",\"experienced\",\"flawless\",\"cesar_salad\",\"2013\",\"confident\",\"hotpot\",\"sliver\",\"descent\",\"spa\",\"greasy_spoon\",\"salivate\",\"scotch\",\"rob\",\"swanky\",\"expansive\",\"19\",\"paul\",\"carve\",\"addicted\",\"8_oz\",\"carafe\",\"interior_design\",\"tahini\",\"dumpl\",\"dc\",\"treasure\",\"spinach_dip\",\"december\",\"grace\",\"wrapper\",\"gate\",\"nerve\",\"critical\",\"identify\",\"worse\",\"eric\",\"moon\",\"p\",\"tom_yum\",\"default\",\"bar_stool\",\"celebrity\",\"first_glance\",\"string\",\"angel\",\"individually\",\"takeaway\",\"program\",\"shwarma\",\"tapioca\",\"esque\",\"episode\",\"crostini\",\"promising\",\"bon\",\"role\",\"june\",\"verde\",\"housemade\",\"russian\",\"shellfish\",\"bottled\",\"croquette\",\"z\",\"10%_off\",\"living\",\"no_biggie\",\"portobello\",\"dollop\",\"sublime\",\"brief\",\"echo\",\"notable\",\"dem\",\"tortellini\",\"chilean_sea_bass\",\"magazine\",\"dated\",\"earthy\",\"downright\",\"munchie\",\"thumb_up\",\"aforementioned\",\"lane\",\"borderline\",\"sensitive\",\"1.5\",\"eaten\",\"goal\",\"mate\",\"dock\",\"cram\",\"estimate\",\"thus_far\",\"recent_trip\",\"bun_bo_hue\",\"wow_factor\",\"blackberry\",\"chimichurri\",\"menudo\",\"irritate\",\"nuts\",\"carving_station\",\"offend\",\"siam\",\"strangely\",\"rowdy\",\"hero\",\"live_nearby\",\"professionalism\",\"fremont\",\"focaccia\",\"perch\",\"$_5.50\",\"rachel\",\"adobo\",\"cane\",\"aromatic\",\"oh_my_god\",\"nach\",\"lobster_ravioli\",\"kung_pao\",\"10:30\",\"asian_cuisine\",\"chaotic\",\"sich\",\"soupy\",\"25_min\",\"oregano_'s\",\"pan_fried\",\"bobby\",\"warmth\",\"panda\",\"sir\",\"oakland\",\"debit\",\"quail\",\"intrusive\",\"oregano\",\"unsatisfied\",\"suite\",\"po_boy\",\"flavor_profile\",\"halfway\",\"ship\",\"$_3.99\",\"await\",\"assign\",\"banana_pudding\",\"more_importantly\",\"mango_lassi\",\"$_5.00\",\"solution\",\"faux\",\"helping\",\"i've\",\"dunno\",\"wide_range\",\"ny_strip\",\"morsel\",\"thickness\",\"headache\",\"hectic\",\"acai_bowl\",\"beef_carpaccio\",\"approve\",\"thumb\",\"cleaner\",\"bei\",\"ranch_dress\",\"theatre\",\"touristy\",\"vomit\",\"only_drawback\",\"sticky_toffee_pudding\",\"indifferent\",\"banana_cream\",\"senior\",\"only_downfall\",\"1.5_hour\",\"haben\",\"outdated\",\"bloor\",\"partial\",\"debit_card\",\"bob\",\"souffle\",\"open_till\",\"bok_choy\",\"pet\",\"fragrant\",\"stir\",\"lap\",\"waiting_area\",\"$_27\",\"delivery_driver\",\"bin\",\"gristle\",\"affair\",\"disrespectful\",\"salt_caramel\",\"de_la\",\"sweeten\",\"schon\",\"sw\",\"approx\",\"socialize\",\"stars\",\"$_75\",\"tempting\",\"college_student\",\"reopen\",\"whilst\",\"hella\",\"hip_hop\",\"remark\",\"proximity\",\"biased\",\"absorb\",\"definition\",\"pierogi\",\"chuck\",\"north_scottsdale\",\"burgh\",\"loco_moco\",\"ra\",\"sapporo\",\"mince\",\"toy\",\"charcoal\",\"louisiana\",\"aesthetic\",\"someday\",\"raw_oyster\",\"tout\",\"usa\",\"fremont_street\",\"anthony\",\"infamous\",\"101\",\"unimpressive\",\"europe\",\"spare_rib\",\"avec\",\"shred_beef\",\"acidic\",\"wander_around\",\"saw\",\"cherry_tomato\",\"enthusiasm\",\"institution\",\"bs\",\"horse\",\"bowling\",\"butternut_squash\",\"horrid\",\"iron\",\"monthly\",\"international\",\"ray\",\"experiment\",\"james\",\"cafeteria_style\",\"lettuce_wraps\",\"blue_moon\",\"corn_dog\",\"hunk\",\"converse\",\"assemble\",\"technically\",\"birthday_celebration\",\"vom\",\"p.s\",\"spicier\",\"afterward\",\"heartbeat\",\"costumer\",\"parm\",\"rim\",\"alike\",\"passionate_about\",\"maki_roll\",\"ness\",\"bind\",\"red_velvet_pancake\",\"happiness\",\"live_closer\",\"tourist_trap\",\"utterly\",\"refrigerator\",\"awesomeness\",\"einem\",\"dort\",\"nonsense\",\"aim\",\"pat\",\"glow\",\"moderately\",\"seed\",\"establish\",\"bias\",\"haddock\",\"carbs\",\"apricot\",\"around_noon\",\"grey\",\"lift\",\"dragon_roll\",\"popularity\",\"2012\",\"simplicity\",\"rainbow_roll\",\"milk_shake\",\"cafe_rio\",\"sunny_side\",\"air_conditioning\",\"turnover\",\"wipe_down\",\"brim\",\"sens\",\"5th\",\"brick_oven\",\"n_juicy\",\"mop\",\"wee\",\"aloha\",\"scallops\",\"brave\",\"fifteen_minute\",\"incompetent\",\"valet_parking\",\"scenery\",\"houston\",\"unorganized\",\"pile_high\",\"toasty\",\"caramelized_onion\",\"storm\",\"meatball_sub\",\"prepp\",\"fox\",\"oasis\",\"pinot_noir\",\"$_8.50\",\"critique\",\"bath\",\"indian_cuisine\",\"caramelize\",\"jimmy\",\"dick\",\"tzatziki_sauce\",\"umm\",\"downtown_toronto\",\"fiancee\",\"compromise\",\"jam_pack\",\"ben\",\"gordon_ramsey\",\"soda_machine\",\"bleh\",\"beef_stew\",\"noticeable\",\"pulled_pork\",\"newbie\",\"low_rating\",\"beef_tongue\",\"nowhere_near\",\"similarly\",\"goodbye\",\"plastic_cup\",\"destroy\",\"q\",\"picnic_table\",\"ripe\",\"competitive\",\"fast_forward\",\"dress_code\",\"nutty\",\"artificial\",\"nostalgic\",\"clever\",\"sardine\",\"chow_down\",\"elbow\",\"passion_fruit\",\"amy\",\"suitable\",\"clock\",\"jeff\",\"advertised\",\"clarify\",\"china_town\",\"ashley\",\"snobby\",\"florida\",\"antipasto\",\"black_olive\",\"parfait\",\"slack\",\"snow_crab\",\"virtually\",\"bachelorette_party\",\"arrangement\",\"chardonnay\",\"evident\",\"imho\",\"corned_beef\",\"unbeatable\",\"ou\",\"avacado\",\"saffron\",\"newspaper\",\"devil\",\"path\",\"powdered_sugar\",\"kimchee\",\"hanger_steak\",\"lo\",\"poached\",\"letter\",\"fancier\",\"anxious\",\"30min\",\"throat\",\"fanatic\",\"brown_sugar\",\"robust\",\"difficulty\",\"24/7\",\"essence\",\"rooftop\",\"lbs\",\"scott\",\"mere\",\"lure\",\"qui\",\"expire\",\"tow\",\"accustomed\",\"vanilla_bean\",\"method\",\"almond_milk\",\"hill\",\"singer\",\"lime_juice\",\"joey\",\"logo\",\"talent\",\"potatoes\",\"handy\",\"$_150\",\"delicacy\",\"pork_shoulder\",\"mon\",\"model\",\"muscle\",\"wth\",\"orient\",\"divey\",\"starch\",\"kiddo\",\"awkwardly\",\"chilaquile\",\"exaggerate\",\"prize\",\"egg_benny\",\"2x\",\"tank\",\"november\",\"$_7.95\",\"paper_towel\",\"peaceful\",\"90_minute\",\"entre\",\"october\",\"gaming\",\"stumble_across\",\"diablo\",\"steer_clear\",\"brio\",\"backyard\",\"commit\",\"bonus_point\",\"acoustic\",\"heirloom_tomato\",\"pancakes\",\"filter\",\"two_thumb\",\"royal\",\"harvest\",\"waffles\",\"adorn\",\"tolerate\",\"yorkville\",\"organized\",\"bien\",\"steamed_rice\",\"fuel\",\"mon_ami_gabi\",\"50_cent\",\"fucking\",\"terminal\",\"bobby_flay\",\"co\",\"teen\",\"task\",\"silver\",\"lemon_pepper\",\"sweetheart\",\"national\",\"lengthy\",\"$_8.95\",\"thursdays\",\"lifetime\",\"$_6.95\",\"vancouver\",\"west_valley\",\"responsive\",\"guu\",\"announce\",\"udon_noodle\",\"instruction\",\"bass\",\"hooter\",\"definetly\",\"wir\",\"arcade\",\"dancer\",\"expense\",\"cumin\",\"malaysian\",\"fire_pit\",\"burgr\",\"pleasantly_surprise\",\"braise_short_rib\",\"griddle\",\"embarrassing\",\"jukebox\",\"jus\",\"transaction\",\"lemony\",\"gave\",\"waterfall\",\"delightfully\",\"stoke\",\"accompanying\",\"miami\",\"nostalgia\",\"artisan\",\"enjoyment\",\"mural\",\"kim\",\"16_oz\",\"bark\",\"curd\",\"lecker\",\"tucson\",\"crispy_skin\",\"bye\",\"afternoon_tea\",\"sprite\",\"tabasco\",\"contribute\",\"cigarette\",\"salsa_verde\",\"priest\",\"venison\",\"broken\",\"ole\",\"amber\",\"steam_bun\",\"nap\",\"friday_afternoon\",\"immediate\",\"camelback\",\"new_mexico\",\"roomy\",\"festive\",\"ny_style_pizza\",\"bachi_burger\",\"lord\",\"field\",\"tuna_melt\",\"posh\",\"outfit\",\"overwhelmingly\",\"je\",\"peach_cobbler\",\"taxi\",\"meaning\",\"fam\",\"anywhere_near\",\"basmati_rice\",\"whisky\",\"holy_crap\",\"korea\",\"balsamic_vinegar\",\"arrogant\",\"pretzel_bun\",\"verify\",\"steak_frite\",\"$_32\",\"checking\",\"ruben\",\"meantime\",\"kicker\",\"pine_nut\",\"respectable\",\"dry_rub\",\"chilis\",\"progress\",\"furthermore\",\"perfectly_cooked\",\"hug\",\"havent\",\"discussion\",\"ma\",\"coin\",\"duo\",\"socal\",\"act_together\",\"scatter\",\"mock\",\"refried_bean\",\"duck_breast\",\"appointment\",\"cordial\",\"dressed\",\"barley\",\"bare\",\"lager\",\"beef_tenderloin\",\"melty\",\"incorrectly\",\"pastor\",\"chow\",\"luxor\",\"absurd\",\"leather\",\"curtain\",\"ummm\",\"storefront\",\"attendant\",\"starbuck\",\"several_occasion\",\"flaw\",\"se\",\"crown\",\"pa\",\"spring_rolls\",\"whoa\",\"lamp\",\"ikea\",\"respectful\",\"spring_mountain\",\"ciabatta\",\"ontario\",\"chaos\",\"educate\",\"mouthful\",\"private_party\",\"chatty\",\"nevada\",\"crumbly\",\"redo\",\"atleast\",\"soju\",\"sweep\",\"lump\",\"cracker_barrel\",\"dining_partner\"],\"word\":[\"-PRON-\",\"good\",\"food\",\"place\",\"order\",\"great\",\"like\",\"service\",\"come\",\"time\",\"try\",\"restaurant\",\"eat\",\"love\",\"chicken\",\"menu\",\"nice\",\"wait\",\"delicious\",\"table\",\"'s\",\"want\",\"price\",\"think\",\"drink\",\"taste\",\"little\",\"pizza\",\"look\",\"definitely\",\"sauce\",\"ask\",\"meal\",\"dish\",\"friendly\",\"pretty\",\"know\",\"staff\",\"burger\",\"fresh\",\"amazing\",\"thing\",\"bar\",\"people\",\"server\",\"salad\",\"lunch\",\"friend\",\"find\",\"bad\",\"fry\",\"dinner\",\"experience\",\"way\",\"serve\",\"cheese\",\"sandwich\",\"small\",\"bit\",\"right\",\"feel\",\"2\",\"enjoy\",\"tell\",\"meat\",\"day\",\"flavor\",\"lot\",\"sure\",\"sit\",\"visit\",\"$\",\"location\",\"night\",\"big\",\"3\",\"sushi\",\"leave\",\"review\",\"special\",\"tasty\",\"beer\",\"area\",\"excellent\",\"favorite\",\"work\",\"worth\",\"quality\",\"long\",\"use\",\"recommend\",\"dessert\",\"awesome\",\"atmosphere\",\"check\",\"breakfast\",\"hot\",\"cook\",\"bring\",\"steak\",\"seat\",\"customer\",\"walk\",\"star\",\"new\",\"waitress\",\"portion\",\"plate\",\"super\",\"soup\",\"roll\",\"large\",\"rice\",\"expect\",\"start\",\"different\",\"4\",\"ok\",\"end\",\"spot\",\"bread\",\"vegas\",\"overall\",\"option\",\"sweet\",\"open\",\"perfect\",\"decide\",\"pay\",\"spicy\",\"fish\",\"stop\",\"busy\",\"item\",\"probably\",\"5\",\"home\",\"selection\",\"waiter\",\"offer\",\"huge\",\"shrimp\",\"need\",\"kind\",\"appetizer\",\"clean\",\"family\",\"close\",\"maybe\",\"actually\",\"half\",\"inside\",\"fast\",\"hour\",\"beef\",\"decent\",\"egg\",\"husband\",\"let\",\"year\",\"coffee\",\"buffet\",\"return\",\"add\",\"wine\",\"choice\",\"water\",\"usually\",\"1\",\"line\",\"owner\",\"quick\",\"outside\",\"high\",\"manager\",\"arrive\",\"couple\",\"house\",\"away\",\"hard\",\"point\",\"noodle\",\"town\",\"happy\",\"fantastic\",\"group\",\"guy\",\"cold\",\"far\",\"especially\",\"bite\",\"grill\",\"wing\",\"chip\",\"piece\",\"attentive\",\"wife\",\"finally\",\"share\",\"fun\",\"10\",\"cheap\",\"extra\",\"include\",\"party\",\"cool\",\"absolutely\",\"pork\",\"decor\",\"second\",\"wrong\",\"fill\",\"kid\",\"fan\",\"bacon\",\"dry\",\"week\",\"choose\",\"wonderful\",\"old\",\"bowl\",\"okay\",\"free\",\"pick\",\"live\",\"entree\",\"wish\",\"instead\",\"run\",\"taco\",\"bbq\",\"change\",\"finish\",\"potato\",\"chef\",\"reservation\",\"veggie\",\"pasta\",\"slow\",\"hear\",\"mexican\",\"crispy\",\"room\",\"mean\",\"fried\",\"care\",\"chinese\",\"course\",\"regular\",\"yummy\",\"reason\",\"money\",\"slice\",\"warm\",\"deal\",\"minute\",\"business\",\"happy_hour\",\"disappoint\",\"tacos\",\"kitchen\",\"ne\",\"size\",\"local\",\"thank\",\"glass\",\"yes\",\"stuff\",\"help\",\"italian\",\"highly_recommend\",\"today\",\"light\",\"bill\",\"strip\",\"yelp\",\"patio\",\"extremely\",\"real\",\"thai\",\"oh\",\"style\",\"charge\",\"stay\",\"tender\",\"brunch\",\"salsa\",\"ingredient\",\"plus\",\"burrito\",\"disappointed\",\"type\",\"bartender\",\"talk\",\"watch\",\"person\",\"white\",\"variety\",\"bland\",\"6\",\"forget\",\"seafood\",\"cut\",\"better\",\"average\",\"tip\",\"stand\",\"hand\",\"drive\",\"expensive\",\"remember\",\"miss\",\"tomato\",\"street\",\"reasonable\",\"fine\",\"red\",\"able\",\"garlic\",\"quickly\",\"hit\",\"flavorful\",\"chocolate\",\"lack\",\"ambiance\",\"cocktail\",\"fact\",\"turn\",\"mention\",\"authentic\",\"salmon\",\"later\",\"onion\",\"perfectly\",\"read\",\"pho\",\"spend\",\"die\",\"girl\",\"soon\",\"mix\",\"door\",\"receive\",\"happen\",\"notice\",\"problem\",\"tea\",\"boyfriend\",\"list\",\"cake\",\"weekend\",\"counter\",\"hungry\",\"helpful\",\"music\",\"5_star\",\"twice\",\"trip\",\"terrible\",\"mind\",\"curry\",\"base\",\"simple\",\"salty\",\"consider\",\"employee\",\"joint\",\"believe\",\"sausage\",\"date\",\"mushroom\",\"bean\",\"seating\",\"topping\",\"plenty\",\"impressed\",\"head\",\"pack\",\"horrible\",\"evening\",\"best\",\"vegetarian\",\"crowd\",\"late\",\"ready\",\"treat\",\"butter\",\"green\",\"spice\",\"wow\",\"easy\",\"set\",\"main\",\"lobster\",\"hostess\",\"man\",\"glad\",\"dip\",\"birthday\",\"las_vegas\",\"refill\",\"beautiful\",\"mouth\",\"gues\",\"grab\",\"hotel\",\"wall\",\"rest\",\"pricey\",\"soft\",\"rude\",\"pancake\",\"early\",\"unique\",\"crust\",\"past\",\"space\",\"entire\",\"hope\",\"buy\",\"ice_cream\",\"haven't\",\"unfortunately\",\"standard\",\"lady\",\"8\",\"waffle\",\"vegetable\",\"greet\",\"totally\",\"loud\",\"stick\",\"cup\",\"combo\",\"job\",\"seriously\",\"deliver\",\"bottle\",\"complaint\",\"play\",\"game\",\"available\",\"cost\",\"write\",\"view\",\"compare\",\"7\",\"near\",\"rib\",\"life\",\"issue\",\"dining\",\"bun\",\"came\",\"salt\",\"wrap\",\"parking\",\"pepper\",\"interesting\",\"vegan\",\"literally\",\"sign\",\"month\",\"welcome\",\"healthy\",\"note\",\"delivery\",\"locate\",\"suggest\",\"meet\",\"value\",\"broth\",\"flavour\",\"cute\",\"sunday\",\"honestly\",\"mediocre\",\"pass\",\"completely\",\"shop\",\"outstanding\",\"speak\",\"greasy\",\"juicy\",\"chance\",\"establishment\",\"pleasant\",\"understand\",\"store\",\"poor\",\"texture\",\"prefer\",\"cream\",\"rush\",\"mac\",\"immediately\",\"world\",\"thick\",\"homemade\",\"solid\",\"smell\",\"explain\",\"request\",\"asian\",\"margarita\",\"+\",\"city\",\"medium\",\"chain\",\"plan\",\"typical\",\"surprise\",\"melt\",\"short\",\"split\",\"provide\",\"idea\",\"slightly\",\"prepare\",\"cafe\",\"sorry\",\"tiny\",\"sound\",\"mom\",\"japanese\",\"phoenix\",\"corn\",\"complain\",\"indian\",\"toast\",\"smile\",\"simply\",\"word\",\"disappointing\",\"diner\",\"creamy\",\"crave\",\"tasting\",\"avocado\",\"lol\",\"sort\",\"vibe\",\"exactly\",\"lamb\",\"tonight\",\"traditional\",\"incredible\",\"hang\",\"cover\",\"10_minute\",\"suppose\",\"lovely\",\"morning\",\"recently\",\"basically\",\"casual\",\"appreciate\",\"throw\",\"pie\",\"chili\",\"recommendation\",\"crepe\",\"ton\",\"guest\",\"touch\",\"truly\",\"korean\",\"low\",\"toronto\",\"oyster\",\"thin\",\"number\",\"fruit\",\"dollar\",\"certainly\",\"crab\",\"club\",\"face\",\"calamari\",\"realize\",\"send\",\"box\",\"dirty\",\"12\",\"remind\",\"window\",\"comfortable\",\"opinion\",\"yum\",\"weird\",\"neighborhood\",\"drop\",\"figure\",\"fairly\",\"rich\",\"picture\",\"booth\",\"tofu\",\"hold\",\"break\",\"crazy\",\"downtown\",\"usual\",\"less_than\",\"combination\",\"phone\",\"burn\",\"level\",\"presentation\",\"gravy\",\"fancy\",\"perfection\",\"look_forward\",\"total\",\"kinda\",\"save\",\"question\",\"season\",\"case\",\"hop\",\"dog\",\"fair\",\"desert\",\"soggy\",\"prepared\",\"sample\",\"buck\",\"15_minute\",\"rock\",\"sweet_potato\",\"excited\",\"normally\",\"waste\",\"son\",\"despite\",\"smoke\",\"easily\",\"n\",\"din\",\"sad\",\"pop\",\"middle\",\"fried_rice\",\"daughter\",\"beat\",\"scallop\",\"shot\",\"classic\",\"awful\",\"tuna\",\"avoid\",\"tv\",\"20_minute\",\"dine\",\"turkey\",\"sell\",\"management\",\"dumpling\",\"corner\",\"eye\",\"dark\",\"brisket\",\"meatball\",\"heat\",\"matter\",\"duck\",\"saturday\",\"pad_thai\",\"guacamole\",\"fall\",\"girlfriend\",\"fix\",\"greek\",\"lettuce\",\"bathroom\",\"crisp\",\"state\",\"cozy\",\"barely\",\"platter\",\"attitude\",\"lose\",\"strong\",\"attention\",\"original\",\"longer\",\"gyro\",\"agree\",\"mess\",\"follow\",\"und\",\"kick\",\"spinach\",\"whatev\",\"dressing\",\"heavy\",\"similar\",\"generous\",\"raman\",\"book\",\"surprised\",\"dining_experience\",\"suck\",\"nachos\",\"plain\",\"continue\",\"addition\",\"casino\",\"sashimi\",\"hate\",\"true\",\"dress\",\"conversation\",\"overpriced\",\"catch\",\"tap\",\"bother\",\"round\",\"floor\",\"opt\",\"clear\",\"environment\",\"obviously\",\"summer\",\"allow\",\"lemon\",\"incredibly\",\"quiet\",\"crunchy\",\"friday\",\"ambience\",\"fabulous\",\"apparently\",\"pastry\",\"interior\",\"favourite\",\"cause\",\"chewy\",\"mistake\",\"raw\",\"patron\",\"shake\",\"n't\",\"20\",\"car\",\"american\",\"clearly\",\"rating\",\"cash\",\"poutine\",\"bone\",\"woman\",\"bagel\",\"bag\",\"host\",\"cashier\",\"portion_size\",\"section\",\"modern\",\"hummus\",\"seasoning\",\"biscuit\",\"basic\",\"nicely\",\"tough\",\"double\",\"normal\",\"expectation\",\"moist\",\"fat\",\"chipotle\",\"tortilla\",\"30_minute\",\"pull\",\"satisfied\",\"bunch\",\"boy\",\"popular\",\"soda\",\"french\",\"charlotte\",\"scottsdale\",\"disappointment\",\"friday_night\",\"non\",\"pittsburgh\",\"chair\",\"cookie\",\"s\",\"app\",\"filling\",\"top_notch\",\"saturday_night\",\"comment\",\"juice\",\"polite\",\"hand_down\",\"year_ago\",\"coupon\",\"hubby\",\"montreal\",\"gross\",\"appear\",\"update\",\"personally\",\"meh\",\"dim_sum\",\"answer\",\"pour\",\"black\",\"sister\",\"damn\",\"mood\",\"version\",\"apologize\",\"sour\",\"oil\",\"begin\",\"pull_pork\",\"describe\",\"post\",\"frozen\",\"prime_rib\",\"step\",\"event\",\"sub\",\"affordable\",\"gluten_free\",\"delish\",\"cuisine\",\"french_toast\",\"card\",\"concept\",\"strawberry\",\"alright\",\"skip\",\"patty\",\"spring_roll\",\"surprisingly\",\"suggestion\",\"park\",\"multiple\",\"11\",\"efficient\",\"ice\",\"mango\",\"pleased\",\"pm\",\"somewhat\",\"reasonably_price\",\"imagine\",\"odd\",\"la\",\"pork_belly\",\"wonder\",\"folk\",\"rare\",\"exceptional\",\"snack\",\"gem\",\"omg\",\"station\",\"orange\",\"onion_ring\",\"overly\",\"$_20\",\"pita\",\"building\",\"prompt\",\"ball\",\"difficult\",\"late_night\",\"vietnamese\",\"handle\",\"accommodate\",\"pickle\",\"ramen\",\"coconut\",\"hype\",\"hot_dog\",\"moment\",\"leftover\",\"present\",\"craving\",\"valley\",\"online\",\"consistent\",\"takeout\",\"young\",\"phenomenal\",\"actual\",\"bake\",\"donut\",\"deserve\",\"professional\",\"ham\",\"limited\",\"mayo\",\"15\",\"honey\",\"cucumber\",\"guess\",\"consistently\",\"heart\",\"baby\",\"possible\",\"groupon\",\"knowledgeable\",\"batter\",\"nearby\",\"apple\",\"ayce\",\"u\",\"pair\",\"sized\",\"filet\",\"cheesecake\",\"create\",\"pub\",\"single\",\"chill\",\"nearly\",\"child\",\"anymore\",\"1/2\",\"frequent\",\"ridiculous\",\"positive\",\"country\",\"range\",\"particular\",\"chunk\",\"slider\",\"dining_room\",\"impressive\",\"future\",\"impress\",\"enter\",\"assume\",\"cook_perfectly\",\"funny\",\"complimentary\",\"correct\",\"yesterday\",\"hole\",\"tend\",\"specialty\",\"satisfy\",\"crowded\",\"chop\",\"generally\",\"starter\",\"honest\",\"parking_lot\",\"pepperoni\",\"roasted\",\"yeah\",\"heaven\",\"complete\",\"lover\",\"next_door\",\"refreshing\",\"bf\",\"omelet\",\"enjoyable\",\"separate\",\"convenient\",\"doubt\",\"medium_rare\",\"alcohol\",\"cleveland\",\"manage\",\"joke\",\"w\",\"particularly\",\"rave_about\",\"sugar\",\"stuffed\",\"pineapple\",\"pool\",\"celebrate\",\"mother\",\"company\",\"feeling\",\"highlight\",\"w/\",\"bomb\",\"straight\",\"tasteless\",\"mild\",\"enchilada\",\"banana\",\"carry\",\"sadly\",\"sense\",\"worker\",\"hell\",\"sick\",\"arizona\",\"teriyaki\",\"9\",\"learn\",\"main_course\",\"load\",\"french_fry\",\"mini\",\"chat\",\"travel\",\"negative\",\"fit\",\"broccoli\",\"omelette\",\"win\",\"willing\",\"quesadilla\",\"ahead\",\"truffle\",\"hey\",\"savory\",\"upscale\",\"accommodating\",\"superb\",\"offering\",\"inform\",\"smoothie\",\"ignore\",\"five_star\",\"regret\",\"mussel\",\"gelato\",\"balance\",\"fire\",\"pre\",\"eggplant\",\"blow\",\"detail\",\"relax\",\"serving\",\"basil\",\"rate\",\"feature\",\"fail\",\"stomach\",\"seasoned\",\"tempura\",\"market\",\"steakhouse\",\"=\",\"california\",\"ginger\",\"fare\",\"awhile\",\"spectacular\",\"build\",\"pricing\",\"purchase\",\"afternoon\",\"deli\",\"bright\",\"steam\",\"airport\",\"creative\",\"general\",\"invite\",\"drive_thru\",\"strange\",\"finger\",\"additional\",\"dough\",\"typically\",\"$_15\",\"45_minute\",\"signature\",\"shell\",\"promptly\",\"fluffy\",\"beverage\",\"product\",\"certain\",\"compliment\",\"term\",\"dozen\",\"aside\",\"deep_fried\",\"brew\",\"disgusting\",\"improve\",\"lucky\",\"year_old\",\"buffalo\",\"spaghetti\",\"bakery\",\"de\",\"search\",\"skin\",\"short_rib\",\"goat_cheese\",\"comfort\",\"mozzarella\",\"ruin\",\"giant\",\"hat\",\"extensive\",\"lounge\",\"olive\",\"parent\",\"tad\",\"ranch\",\"chicago\",\"lay\",\"mixed\",\"discover\",\"possibly\",\"asparagus\",\"30\",\"hopefully\",\"madison\",\"baked\",\"chorizo\",\"dad\",\"overcook\",\"par\",\"depend\",\"memorable\",\"coleslaw\",\"ta\",\"pesto\",\"roast\",\"admit\",\"napkin\",\"carrot\",\"br\",\"mashed_potato\",\"oily\",\"feed\",\"brother\",\"website\",\"luckily\",\"would've\",\"movie\",\"shame\",\"photo\",\"blend\",\"cooking\",\"unlike\",\"personal\",\"wear\",\"cheesy\",\"limit\",\"anything_else\",\"attempt\",\"discount\",\"wise\",\"trust\",\"mark\",\"south\",\"difference\",\"goodness\",\"match\",\"ketchup\",\"gourmet\",\"excite\",\"fatty\",\"consist\",\"naan\",\"famous\",\"scoop\",\"mustard\",\"wine_list\",\"weekday\",\"age\",\"mac_n_cheese\",\"accompany\",\"fault\",\"repeat\",\"carne_asada\",\"delightful\",\"excuse\",\"weather\",\"trendy\",\"peanut\",\"fork\",\"venue\",\"picky\",\"needless\",\"paper\",\"drunk\",\"freshly\",\"consistency\",\"entrance\",\"listen\",\"quantity\",\"sake\",\"crunch\",\"coworker\",\"falafel\",\"likely\",\"hint\",\"occasion\",\"tapas\",\"parmesan\",\"cilantro\",\"az\",\"center\",\"crab_leg\",\"previous\",\"monday\",\"register\",\"story\",\"design\",\"pretzel\",\"take_forever\",\"situation\",\"caesar_salad\",\"romantic\",\"somewhere_else\",\"luck\",\"setting\",\"hair\",\"protein\",\"prior\",\"courteous\",\"classy\",\"con\",\"milk\",\"king\",\"pleasantly_surprised\",\"hamburger\",\"container\",\"syrup\",\"replace\",\"mall\",\"stale\",\"flight\",\"freeze\",\"tuesday\",\"thought\",\"process\",\"desire\",\"relatively\",\"starve\",\"upstairs\",\"2nd\",\"oven\",\"office\",\"strip_mall\",\"earlier\",\"gon_na\",\"der\",\"new_york\",\"act\",\"risotto\",\"ribeye\",\"spread\",\"bed\",\"adult\",\"pricy\",\"live_music\",\"brown\",\"effort\",\"cheddar\",\"flat\",\"daily\",\"count\",\"laugh\",\"hash_brown\",\"fajita\",\"warn\",\"skewer\",\"flavourful\",\"road\",\"crab_cake\",\"anyways\",\"support\",\"secret\",\"grit\",\"board\",\"def\",\"fly\",\"remove\",\"hawaiian\",\"art\",\"acknowledge\",\"smooth\",\"team\",\"every_single\",\"settle\",\"tax\",\"scene\",\"favor\",\"black_bean\",\"properly\",\"intimate\",\"le\",\"dance\",\"foot\",\"wash\",\"sour_cream\",\"lime\",\"pot\",\"packed\",\"guac\",\"das\",\"subway\",\"terrific\",\"$_30\",\"shawarma\",\"crap\",\"restroom\",\"rat\",\"massive\",\"annoying\",\"yell\",\"lead\",\"ravioli\",\"nasty\",\"pound\",\"bloody_mary\",\"inexpensive\",\"clam\",\"worry\",\"upset\",\"latte\",\"spacious\",\"forever\",\"haha\",\"grease\",\"truck\",\"important\",\"gnocchi\",\"block\",\"ticket\",\"form\",\"cabbage\",\"mediterranean\",\"sangria\",\"constantly\",\"liking\",\"croissant\",\"buttery\",\"thin_crust\",\"select\",\"cater\",\"grow_up\",\"bruschetta\",\"undercooked\",\"appetite\",\"machine\",\"kimchi\",\"court\",\"flavorless\",\"cajun\",\"mushy\",\"knock\",\"kill\",\"per_person\",\"patient\",\"staple\",\"equally\",\"hash\",\"hide\",\"partner\",\"example\",\"recipe\",\"overprice\",\"judge\",\"50\",\"slaw\",\"claim\",\"hurry\",\"sooo\",\"soooo\",\"color\",\"refuse\",\"hip\",\"deep\",\"pink\",\"lasagna\",\"theme\",\"decision\",\"tray\",\"$_9\",\"milkshake\",\"hearty\",\"apology\",\"push\",\"condiment\",\"east\",\"result\",\"martini\",\"proceed\",\"herb\",\"promise\",\"waitstaff\",\"miso_soup\",\"comp\",\"sweetness\",\"gf\",\"gentleman\",\"co_worker\",\"tired\",\"dream\",\"uncomfortable\",\"introduce\",\"ago\",\"bellagio\",\"y\",\"pro\",\"eventually\",\"pile\",\"lie\",\"everyone_else\",\"espresso\",\"basket\",\"taste_bud\",\"filet_mignon\",\"stay_away\",\"reserve\",\"approach\",\"frequently\",\"ny\",\"green_bean\",\"philly\",\"cooked\",\"outdoor_seating\",\"opportunity\",\"coffee_shop\",\"corn_beef\",\"tart\",\"rarely\",\"soak\",\"foodie\",\"anniversary\",\"boring\",\"boba\",\"pan\",\"everyday\",\"air\",\"cheeseburger\",\"tiramisu\",\"random\",\"blue\",\"north\",\"tempe\",\"receipt\",\"major\",\"mint\",\"over_cooked\",\"toss\",\"regularly\",\"organic\",\"left\",\"egg_benedict\",\"awkward\",\"layer\",\"mile\",\"highly\",\"regardless\",\"attend\",\"personable\",\"ass\",\"gorgeous\",\"plaza\",\"edible\",\"law\",\"response\",\"dead\",\"$_25\",\"english\",\"quaint\",\"remain\",\"watery\",\"nyc\",\"interested\",\"noisy\",\"steal\",\"octopus\",\"flatbread\",\"eatery\",\"venture\",\"ground\",\"lighting\",\"raise\",\"specifically\",\"$_50\",\"display\",\"sport\",\"pitcher\",\"someone_else\",\"till\",\"lemonade\",\"olive_oil\",\"ceviche\",\"plentiful\",\"delight\",\"pork_chop\",\"wednesday\",\"description\",\"buddy\",\"impeccable\",\"blue_cheese\",\"sip\",\"edge\",\"twist\",\"sampler\",\"concern\",\"class\",\"generous_portion\",\"credit\",\"anywhere_else\",\"nigiri\",\"write_home\",\"blow_away\",\"poke\",\"safe\",\"train\",\"switch\",\"messy\",\"hipster\",\"1st\",\"substitute\",\"surround\",\"potential\",\"cinnamon\",\"ring\",\"ordering\",\"spoon\",\"bonus\",\"microwave\",\"b\",\"overwhelming\",\"force\",\"exception\",\"sport_bar\",\"credit_card\",\"focus\",\"alternative\",\"brownie\",\"stellar\",\"stack\",\"jalapeno\",\"system\",\"dig\",\"thursday\",\"fountain\",\"overlook\",\"draw\",\"refund\",\"macaroni\",\"advice\",\"special_occasion\",\"opening\",\"drinking\",\"soy_sauce\",\"overcooked\",\"trouble\",\"amazingly\",\"familiar\",\"combine\",\"spicy_tuna\",\"et\",\"bitter\",\"shit\",\"winner\",\"fusion\",\"pastrami\",\"neat\",\"wonton\",\"mainly\",\"green_tea\",\"tourist\",\"contain\",\"above_average\",\"vacation\",\"btw\",\"draft\",\"old_school\",\"fine_dining\",\"outdoor\",\"call_ahead\",\"advance\",\"marinate\",\"mcdonald_'s\",\"sat\",\"fav\",\"hardly\",\"worst\",\"barbecue\",\"minute_later\",\"dude\",\"relaxed\",\"pint\",\"reach\",\"west\",\"ridiculously\",\"require\",\"regard\",\"boil\",\"hide_gem\",\"tangy\",\"holiday\",\"swear\",\"coke\",\"caramel\",\"veal\",\"weak\",\"vinegar\",\"prosciutto\",\"zero\",\"garden\",\"southern\",\"crappy\",\"confused\",\"individual\",\"aware\",\"hello\",\"$_40\",\"10_min\",\"hook\",\"divine\",\"grilled\",\"craft_beer\",\"mis\",\"band\",\"un\",\"arugula\",\"originally\",\"numerous\",\"4/5\",\"advertise\",\"whip_cream\",\"jam\",\"reply\",\"obvious\",\"chicken_breast\",\"mash_potato\",\"eater\",\"apps\",\"zucchini\",\"charming\",\"pleasure\",\"beginning\",\"temperature\",\"grocery_store\",\"rib_eye\",\"comparison\",\"crack\",\"freshness\",\"bistro\",\"dive\",\"bet\",\"absolute\",\"cornbread\",\"cart\",\"vanilla\",\"5/5\",\"vodka\",\"winter\",\"panini\",\"square\",\"upgrade\",\"college\",\"god\",\"25\",\"spanish\",\"sub_par\",\"self\",\"memory\",\"fool\",\"tequila\",\"chew\",\"confirm\",\"ice_tea\",\"meaty\",\"italy\",\"score\",\"challenge\",\"char\",\"muffin\",\"caesar\",\"alot\",\"ratio\",\"100%\",\"dj\",\"blt\",\"ya\",\"hire\",\"squid\",\"30_min\",\"3.5_star\",\"minus\",\"15_min\",\"legit\",\"iced_tea\",\"everytime\",\"layout\",\"looking\",\"wasabi\",\"20_min\",\"heck\",\"'m\",\"grow\",\"tab\",\"devour\",\"raspberry\",\"wet\",\"being_say\",\"sun\",\"package\",\"leg\",\"proper\",\"thankfully\",\"beware\",\"inedible\",\"sticky\",\"handful\",\"hibachi\",\"tamale\",\"killer\",\"40_minute\",\"belly\",\"blueberry\",\"plastic\",\"sesame\",\"wood\",\"careful\",\"acceptable\",\"farm\",\"champagne\",\"argue\",\"decorate\",\"heavenly\",\"starbucks\",\"disappear\",\"father\",\"yelper\",\"$_14\",\"lastly\",\"accept\",\"pig\",\"closed\",\"bottom_line\",\"comparable\",\"exciting\",\"benedict\",\"pic\",\"shopping\",\"nonetheless\",\"knife\",\"chinatown\",\"personality\",\"veg\",\"seasonal\",\"war\",\"edamame\",\"wedding\",\"calzone\",\"lazy\",\"nope\",\"fall_apart\",\"peanut_butter\",\"drive_through\",\"scream\",\"soul\",\"sunday_brunch\",\"tho\",\"bread_pudding\",\"period\",\"insist\",\"specific\",\"eh\",\"cupcake\",\"25_minute\",\"fave\",\"industry\",\"fight\",\"initially\",\"drizzle\",\"accord\",\"stew\",\"stock\",\"assortment\",\"ist\",\"almond\",\"high_expectation\",\"garnish\",\"decoration\",\"meeting\",\"daily_special\",\"appeal\",\"cousin\",\"satisfying\",\"site\",\"prime\",\"wanna\",\"wynn\",\"berry\",\"apart\",\"cleanliness\",\"pudding\",\"bulgogi\",\"cole_slaw\",\"beet\",\"encounter\",\"allergy\",\"mit\",\"bc\",\"fake\",\"cherry\",\"filipino\",\"german\",\"christmas\",\"neighbourhood\",\"80\",\"exist\",\"address\",\"island\",\"improvement\",\"only_downside\",\"row\",\"stir_fry\",\"annoyed\",\"recall\",\"katsu\",\"slight\",\"40\",\"foie_gra\",\"advise\",\"silverware\",\"preparation\",\"popcorn\",\"steep\",\"impression\",\"freak\",\"blame\",\"song\",\"trash\",\"calorie\",\"join\",\"ordinary\",\"texas\",\"rubbery\",\"soy\",\"sea_bass\",\"ensure\",\"coat\",\"fiance\",\"authentic_mexican\",\"diet\",\"yogurt\",\"miso\",\"pace\",\"chocolate_cake\",\"jalape\\u00f1o\",\"cuz\",\"everybody\",\"eating\",\"rule\",\"brussel_sprout\",\"ricotta\",\"sprinkle\",\"roast_beef\",\"feta\",\"recent\",\"taco_bell\",\"pip_hot\",\"school\",\"kabob\",\"fries\",\"smoky\",\"$_100\",\"creme_brulee\",\"$_13\",\"lv\",\"smoked\",\"smother\",\"charm\",\"express\",\"nutella\",\"jump\",\"7_pm\",\"unbelievable\",\"afraid\",\"strike\",\"grant\",\"6_pm\",\"meatloaf\",\"yellow\",\"queso\",\"cauliflower\",\"halibut\",\"sear\",\"hot_pot\",\"fianc\\u00e9\",\"scramble_egg\",\"blast\",\"wtf\",\"palate\",\"custard\",\"email\",\"shape\",\"member\",\"korean_bbq\",\"companion\",\"brie\",\"noise\",\"budget\",\"jerk\",\"shock\",\"udon\",\"trio\",\"roti\",\"shout\",\"expand\",\"understand_why\",\"nut\",\"pea\",\"month_ago\",\"lively\",\"brand\",\"cheese_curd\",\"premium\",\"colleague\",\"tight\",\"breading\",\"earth\",\"first_impression\",\"worthy\",\"complement\",\"wide_variety\",\"bear\",\"mad\",\"consume\",\"student\",\"bang\",\"respect\",\"14\",\"happily\",\"earn\",\"denny_'s\",\"control\",\"jack\",\"da\",\"henderson\",\"anytime\",\"16\",\"3rd\",\"common\",\"outdoor_patio\",\"respond\",\"sing\",\"reviewer\",\"elegant\",\"stupid\",\"sirloin\",\"o\",\"wallet\",\"driver\",\"pride\",\"mimosa\",\"um\",\"most_likely\",\"walnut\",\"skillet\",\"skimp\",\"mixture\",\"brown_rice\",\"confuse\",\"cod\",\"french_onion\",\"warning\",\"energy\",\"green_onion\",\"entirely\",\"min\",\"d\\u00e9cor\",\"entertainment\",\"skeptical\",\"downhill\",\"previously\",\"m\",\"jerk_chicken\",\"smokey\",\"underwhelming\",\"nicht\",\"client\",\"mill\",\"la_carte\",\"8_pm\",\"yay\",\"and/or\",\"peach\",\"hurt\",\"ceiling\",\"appropriate\",\"100\",\"training\",\"pain\",\"community\",\"land\",\"lobster_bisque\",\"blah\",\"take_advantage\",\"cancel\",\"$_16\",\"scramble\",\"cramped\",\"spoil\",\"pretentious\",\"shred\",\"sunday_morning\",\"squeeze\",\"alfredo\",\"ill\",\"unprofessional\",\"kale\",\"edinburgh\",\"flaky\",\"unusual\",\"garbage\",\"ish\",\"assure\",\"crew\",\"d\",\"fully\",\"fishy\",\"spill\",\"runny\",\"lean\",\"justify\",\"reheat\",\"preference\",\"mcdonalds\",\"lukewarm\",\"other_reviewer\",\"al\",\"hasn't\",\"$_18\",\"essentially\",\"delectable\",\"dump\",\"9_pm\",\"produce\",\"weekly\",\"snob\",\"ugh\",\"craft\",\"contact\",\"baguette\",\"staff_member\",\"majority\",\"key\",\"adequate\",\"rosemary\",\"uni\",\"traffic\",\"background\",\"rack\",\"crawfish\",\"explore\",\"utensil\",\"bubble_tea\",\"gyoza\",\"japan\",\"semi\",\"sooooo\",\"occupy\",\"indoor\",\"menus\",\"competition\",\"power\",\"week_ago\",\"buzz\",\"pay_attention\",\"18\",\"inspire\",\"brewery\",\"screw_up\",\"karaoke\",\"10_pm\",\"directly\",\"surprising\",\"resort\",\"unlimited\",\"correctly\",\"funky\",\"drench\",\"candy\",\"franchise\",\"valet\",\"thursday_night\",\"speed\",\"poisoning\",\"catfish\",\"deliciousness\",\"tongue\",\"from_scratch\",\"convince\",\"practically\",\"macaron\",\"bourbon\",\"hi\",\"page\",\"chips\",\"adventurous\",\"3.5\",\"enchiladas\",\"noon\",\"scale\",\"indulge\",\"flavored\",\"entr\\u00e9e\",\"downstairs\",\"test\",\"quarter\",\"monday_night\",\"ten_minute\",\"lately\",\"complex\",\"artichoke\",\"subpar\",\"recognize\",\"direction\",\"delicate\",\"washroom\",\"golden\",\"quinoa\",\"soo\",\"flag\",\"diverse\",\"press\",\"punch\",\"oz\",\"ideal\",\"terribly\",\"decadent\",\"guarantee\",\"banh_mi\",\"paris\",\"ayce_sushi\",\"corporate\",\"irish\",\"caf\\u00e9\",\"hh\",\"necessary\",\"prove\",\"tear\",\"hawaii\",\"21\",\"ps\",\"bank\",\"star_rating\",\"glaze\",\"pita_bread\",\"adorable\",\"impossible\",\"rustic\",\"sea\",\"study\",\"mgm\",\"thoroughly_enjoy\",\"apologetic\",\"scrumptious\",\"shocked\",\"fridge\",\"chandler\",\"venetian\",\"cheer\",\"c\",\"whiskey\",\"below_average\",\"confusing\",\"tot\",\"poorly\",\"tuck_away\",\"fyi\",\"sight\",\"minimum\",\"china\",\"female\",\"reuben\",\"mojito\",\"sour_soup\",\"liquor\",\"minimal\",\"body\",\"yuck\",\"sale\",\"pure\",\"closer\",\"tour\",\"13\",\"wild\",\"benefit\",\"five_minute\",\"kudo\",\"wave\",\"screen\",\"beautifully\",\"lil\",\"nacho\",\"bento_box\",\"cappuccino\",\"suit\",\"pear\",\"3/5\",\"tomorrow\",\"smash\",\"fee\",\"lobby\",\"currently\",\"grandma\",\"green_curry\",\"character\",\"honor\",\"overpowering\",\"waiting\",\"succulent\",\"baklava\",\"inconsistent\",\"knowledgable\",\"aioli\",\"refresh\",\"rip_off\",\"middle_eastern\",\"gooey\",\"clientele\",\"chilli\",\"report\",\"bummer\",\"ride\",\"struggle\",\"spring\",\"customize\",\"mash\",\"destination\",\"overwhelm\",\"grub\",\"overpower\",\"couch\",\"custom\",\"hangover\",\"generic\",\"lightly\",\"factor\",\"knowledge\",\"comfy\",\"history\",\"maintain\",\"final\",\"news\",\"skill\",\"msg\",\"pumpkin\",\"amazed\",\"faster\",\"jar\",\"feast\",\"delay\",\"boss\",\"deep_dish\",\"tuesday_night\",\"slide\",\"aka\",\"spice_level\",\"gift_card\",\"eel\",\"chris\",\"marinara\",\"spiciness\",\"insane\",\"mesa\",\"watermelon\",\"east_coast\",\"enormous\",\"surely\",\"beef_brisket\",\"oh_yeah\",\"vary\",\"relaxing\",\"wonderfully\",\"angry\",\"ein\",\"bacon_wrap\",\"california_roll\",\"dislike\",\"fondue\",\"shift\",\"natural\",\"ipa\",\"stage\",\"drown\",\"closing\",\"culinary\",\"curious\",\"dense\",\"appearance\",\"hospitality\",\"stumble_upon\",\"wipe\",\"decline\",\"cheesesteak\",\"execute\",\"auch\",\"garlic_knot\",\"text\",\"policy\",\"entertain\",\"pistachio\",\"welcoming\",\"poached_egg\",\"wheat\",\"bone_marrow\",\"seven\",\"necessarily\",\"genuine\",\"private\",\"60\",\"occasionally\",\"gal\",\"eclectic\",\"rough\",\"midnight\",\"flow\",\"aria\",\"slowly\",\"current\",\"pasty\",\"indicate\",\"voice\",\"plantain\",\"sucker\",\"sum\",\"horseradish\",\"ribs\",\"aroma\",\"splurge\",\"disgust\",\"olive_garden\",\"satay\",\"appetizing\",\"infuse\",\"manner\",\"lunchtime\",\"sunday_afternoon\",\"canadian\",\"aber\",\"cure\",\"slam\",\"canada\",\"culture\",\"homey\",\"candle\",\"resto\",\"hesitant\",\"tone\",\"unfortunate\",\"milk_tea\",\"increase\",\"imo\",\"ample\",\"operate\",\"refer\",\"albeit\",\"booze\",\"filthy\",\"price_tag\",\"horchata\",\"print\",\"annoy\",\"ahi_tuna\",\"chic\",\"clam_chowder\",\"gut\",\"chow_mein\",\"worried\",\"skinny\",\"citrus\",\"5_min\",\"concert\",\"baked_potato\",\"i.e.\",\"subtle\",\"reflect\",\"draft_beer\",\"trick\",\"steamed\",\"setup\",\"church\",\"quote\",\"male\",\"flour\",\"shopping_center\",\"demand\",\"anticipate\",\"exceed\",\"loaf\",\"pocket\",\"vinaigrette\",\"tall\",\"volume\",\"appealing\",\"content\",\"whatsoever\",\"concerned\",\"worth_every_penny\",\"green_chili\",\"pretty_darn\",\"eager\",\"creation\",\"fuck\",\"understaffed\",\"drip\",\"paint\",\"quiche\",\"attach\",\"hub\",\"seaweed\",\"entertaining\",\"unacceptable\",\"convenience\",\"oppose\",\"nothing_spectacular\",\"polenta\",\"fortunately\",\"encourage\",\"scone\",\"tater_tot\",\"shortly_after\",\"hesitate\",\"90\",\"congee\",\"a+\",\"exceptionally\",\"resist\",\"action\",\"arm\",\"gladly\",\"concoction\",\"wednesday_night\",\"cooler\",\"ate\",\"float\",\"tummy\",\"jalapenos\",\"lamb_chop\",\"e\",\"lick\",\"calm\",\"batch\",\"spit\",\"45_min\",\"seek\",\"inch\",\"mike\",\"hotdog\",\"southwest\",\"sleep\",\"took\",\"flag_down\",\"informative\",\"cracker\",\"smart\",\"doughy\",\"expert\",\"anytime_soon\",\"aspect\",\"paella\",\"mexico\",\"prawn\",\"boot\",\"24_hour\",\"front_desk\",\"ppl\",\"byob\",\"genuinely\",\"personal_favorite\",\"ground_beef\",\"lackluster\",\"red_pepper\",\"purpose\",\"lame\",\"green_chile\",\"cuban\",\"overdone\",\"barista\",\"elevator\",\"stone\",\"bean_sprout\",\"thumbs_up\",\"success\",\"involve\",\"bug\",\"goody\",\"bump\",\"$_60\",\"downside\",\"cranberry\",\"oxtail\",\"definately\",\"mid\",\"unpleasant\",\"negative_review\",\"$_35\",\"timing\",\"health\",\"burst\",\"suspect\",\"insanely\",\"corn_tortilla\",\"pecan\",\"joe\",\"tempt\",\"bench\",\"polish\",\"uptown\",\"$_17\",\"joe_'s\",\"salsas\",\"john\",\"saturday_morning\",\"sooner\",\"inconvenience\",\"instantly\",\"rum\",\"orange_juice\",\"lake\",\"explanation\",\"mountain\",\"liquid\",\"central\",\"ihop\",\"shirt\",\"gigantic\",\"cannoli\",\"sharing\",\"gumbo\",\"lo_mein\",\"politely\",\"deliciously\",\"yellowtail\",\"alas\",\"dance_floor\",\"visitor\",\"furniture\",\"standout\",\"initial\",\"attractive\",\"frankly\",\"grand\",\"thanksgiving\",\"label\",\"spin\",\"flan\",\"dare\",\"interest\",\"whip\",\"unfriendly\",\"wind\",\"kalbi\",\"previous_review\",\"rid\",\"wifi\",\"wide\",\"saturday_afternoon\",\"ice_cold\",\"pas\",\"engage\",\"gilbert\",\"squash\",\"sweat\",\"frustrating\",\"shoot\",\"tree\",\"day_ago\",\"les\",\"jelly\",\"doughnut\",\"security\",\"max\",\"endless\",\"crouton\",\"hangout\",\"timely_manner\",\"macaroon\",\"afford\",\"lobster_tail\",\"vanilla_ice_cream\",\"direct\",\"west_side\",\"san_diego\",\"wander\",\"unhappy\",\"pot_pie\",\"bus\",\"cali\",\"jalape\\u00f1os\",\"stair\",\"skimpy\",\"whim\",\"dim\",\"pizzeria\",\"tower\",\"pickup\",\"inquire\",\"~\",\"million\",\"america\",\"category\",\"cheesecake_factory\",\"magic\",\"nugget\",\"exotic\",\"flat_bread\",\"resemble\",\"nail\",\"hassle\",\"information\",\"vermicelli\",\"exterior\",\"stretch\",\"mimosas\",\"chicken_parm\",\"marinara_sauce\",\"element\",\"cry\",\"cross\",\"reputation\",\"pizza_hut\",\"beet_salad\",\"foie_gras\",\"bargain\",\"en\",\"maple\",\"unable\",\"prep\",\"ale\",\"rose\",\"suffer\",\"hunger\",\"rub\",\"sriracha\",\"mole\",\"old_fashion\",\"exquisite\",\"neighbor\",\"tortilla_chip\",\"firm\",\"leaf\",\"save_room\",\"toilet\",\"smoked_salmon\",\"al_dente\",\"boat\",\"greeting\",\"carnitas\",\"few_week_ago\",\"message\",\"b_c\",\"schedule\",\"opposite\",\"overwhelmed\",\"den\",\"markham\",\"carnita\",\"young_lady\",\"array\",\"bucket\",\"t\",\"most_importantly\",\"flower\",\"accent\",\"separately\",\"ipad\",\"clothe\",\"kobe\",\"earl\",\"accurate\",\"noodles\",\"escargot\",\"vip\",\"sorbet\",\"wicked_spoon\",\"discuss\",\"wedge\",\"kebab\",\"torta\",\"darn\",\"fear\",\"sexy\",\"adventure\",\"gold\",\"dive_bar\",\"conclusion\",\"tradition\",\"sandwhich\",\"sundays\",\"frite\",\"pleasant_surprise\",\"flip\",\"silly\",\"don't\",\"panera\",\"trek\",\"tune\",\"mind_blow\",\"redeem\",\"yep\",\"sticky_rice\",\"unexpected\",\"san\",\"grocery\",\"fig\",\"contrast\",\"cheerful\",\"resturant\",\"gracious\",\"kink\",\"drag\",\"beach\",\"intend\",\"airy\",\"equal\",\"theater\",\"specialize\",\"five_guy\",\"risk\",\"rain\",\"upbeat\",\"stingy\",\"keg\",\"grain\",\"chunky\",\"balsamic\",\"apply\",\"=)\",\"passion\",\"went\",\"matt\",\"des\",\"error\",\"schnitzel\",\"hunt\",\"oder\",\"panda_express\",\"shrimp_tempura\",\"cafeteria\",\"execution\",\"wide_selection\",\"4.5_star\",\"rave_review\",\"slip\",\"rank\",\"free_wifi\",\"authenticity\",\"wake_up\",\"underwhelmed\",\"border\",\"sigh\",\"definite\",\"yelpers\",\"thank_goodness\",\"gorgonzola\",\"eye_contact\",\"san_francisco\",\"badly\",\"kfc\",\"facility\",\"thrilled\",\"ahi\",\"outrageous\",\"forth\",\"bold\",\"4th\",\"cab\",\"kobe_beef\",\"vs\",\"western\",\"colorful\",\"kindly\",\"sloppy\",\"remodel\",\"\\u00e0\",\"mississauga\",\"-the\",\"mongolian_beef\",\"catering\",\"tie\",\"rise\",\"norm\",\"screw\",\"arrival\",\"track\",\"i'm\",\"saucy\",\"chile\",\"variation\",\"tooth\",\"bibimbap\",\"understandable\",\"paste\",\"addict\",\"bread_basket\",\"lentil\",\"lemongrass\",\"defiantly\",\"sink\",\"lettuce_wrap\",\"duty\",\"maple_syrup\",\"wonton_soup\",\"unbelievably\",\"$_2.50\",\"zero_star\",\"noise_level\",\"summerlin\",\"shade\",\"exit\",\"seaweed_salad\",\"joy\",\"celebration\",\"grade\",\"carrot_cake\",\"prix_fixe\",\"dust\",\"upon_enter\",\"exact\",\"wonder_why\",\"uber\",\":d\",\"inattentive\",\"garlic_naan\",\"superior\",\"animal\",\"luke_warm\",\"truth\",\"plat\",\"speedy\",\"nose\",\"replacement\",\"high_school\",\"chimichanga\",\"cider\",\"crumble\",\"low_key\",\"supposedly\",\"open_24_hour\",\"empanadas\",\"duck_confit\",\"patience\",\"carb\",\"biryani\",\"lousy\",\"hush_puppy\",\"ultimate\",\"stuck\",\"rio\",\"hookah\",\"toddler\",\"p.s.\",\"cat\",\"mr.\",\"anybody\",\"sketchy\",\"drool\",\"proud\",\"gta\",\"remake\",\"grape\",\"sprout\",\"sunset\",\"celery\",\"runner\",\"maki\",\"paradise\",\"ultimately\",\"til\",\"attract\",\"reasonably\",\"kale_salad\",\"thoroughly\",\"additionally\",\"somebody\",\"native\",\"marinated\",\"al_pastor\",\"first_timer\",\"eggs_benedict\",\"sage\",\"17\",\"i.\",\"past_weekend\",\"cone\",\"gift\",\"mmmm\",\"witness\",\"breadstick\",\"access\",\"lock\",\"import\",\"los_angeles\",\"pico_de_gallo\",\"approximately\",\"rudely\",\"pretend\",\"organize\",\"mmm\",\"chopstick\",\"sunny\",\"operation\",\"empanada\",\"lineup\",\"busser\",\"absolute_favorite\",\"hidden_gem\",\"social\",\"difference_between\",\"wooden\",\"record\",\"gratuity\",\"no_frill\",\"underneath\",\"embarrassed\",\"varied\",\"adjust\",\"branch\",\"butt\",\"soft_shell_crab\",\"naturally\",\"rip\",\"peak\",\"fourth\",\"lower\",\"fellow\",\"mocha\",\"mug\",\"old_fashioned\",\"spirit\",\"scallion\",\"gamble\",\"fuss\",\"martinis\",\"praise\",\"dang\",\"bird\",\"churro\",\"conference\",\"outlet\",\"fruity\",\"trout\",\"voucher\",\"shoe\",\"seat_promptly\",\"sheet\",\"picky_eater\",\"hardly_any\",\"limp\",\"cosmo\",\"smoking\",\"warrant\",\"connoisseur\",\"stress\",\"escape\",\"football\",\"eine\",\"measure\",\"wings\",\"enthusiastic\",\"stool\",\"relative\",\"reminiscent\",\"$_22\",\"young_man\",\"yellow_curry\",\"mission\",\"cash_register\",\"prop\",\"incorrect\",\"metal\",\"tex_mex\",\"nervous\",\"wendy_'s\",\"self_serve\",\"hoagie\",\"ear\",\"freakin\",\"ethiopian\",\"disaster\",\"dragon\",\"breath\",\"ounce\",\"beg\",\"upon_arrival\",\"lucky_enough\",\"guide\",\"assorted\",\"bustle\",\"effect\",\"weight\",\"planet_hollywood\",\"hood\",\"flour_tortilla\",\"lettuce_tomato\",\"queen\",\"saturday_evening\",\"iced_coffee\",\"pairing\",\"basement\",\"holy\",\"sweet_tooth\",\"obnoxious\",\"campus\",\"cinnamon_roll\",\"down_hill\",\"successful\",\"confusion\",\"ha\",\"boston\",\"cosmopolitan\",\"essen\",\"hashbrown\",\"industrial\",\"thinking\",\"crush\",\"cardboard\",\"addictive\",\"crab_rangoon\",\"ability\",\"weeknight\",\"thinly_slice\",\"account\",\"tao\",\"rave\",\"persian\",\"5-star\",\"zu\",\"teach\",\"compete\",\"public\",\"'ll\",\"property\",\"goat\",\"brick\",\"aunt\",\"slab\",\"caviar\",\"depth\",\"potsticker\",\"inviting\",\"survive\",\"thrill\",\"vintage\",\"thank_god\",\"ur\",\"souvlaki\",\"salami\",\"bao\",\"$_1.50\",\"hall\",\"tavern\",\"seemingly\",\"decade\",\"gin\",\"brilliant\",\"pathetic\",\"summary\",\"samosa\",\"cheat\",\"chick\",\"es\",\"bouchon\",\"wisconsin\",\"'ve\",\"mayonnaise\",\"bouncer\",\"penne\",\"fillet\",\"reliable\",\"narrow\",\"70\",\"revisit\",\"valentine_'s_day\",\"chilly\",\"research\",\"habit\",\"french_dip\",\"enhance\",\"circle\",\"entry\",\"fold\",\"obsess\",\"connect\",\"extraordinary\",\"surf\",\"family_member\",\"spell\",\"gesture\",\"allergic\",\"phx\",\"id\",\"l\",\"provolone\",\"mister\",\"pickled\",\"r\",\"cashew\",\"source\",\"von\",\"ah\",\"blacken\",\"breaded\",\"dining_companion\",\"canned\",\"savoury\",\"teppanyaki\",\"timely\",\"bday\",\"bay\",\"hollandaise_sauce\",\"assist\",\"store_buy\",\"contemporary\",\"english_muffin\",\"snap\",\"peel\",\"university\",\"caper\",\"michael\",\"filler\",\"straw\",\"idiot\",\"cow\",\"shower\",\"award\",\"brioche\",\"tony\",\"insult\",\"thick_cut\",\"deck\",\"crusty\",\"substitution\",\"radish\",\"sind\",\"shoulder\",\"india\",\"mandalay_bay\",\"roughly\",\"understanding\",\"department\",\"chicken_tikka_masala\",\"bottomless\",\"room_temperature\",\"truffle_oil\",\"ohio\",\"tuck\",\"tasteful\",\"renovation\",\"computer\",\"accidentally\",\"feedback\",\"interact\",\"creme_br\\u00fbl\\u00e9e\",\"distract\",\"tacky\",\"glove\",\"network\",\"wraps\",\"component\",\"supply\",\"margaritas\",\"linger\",\"\\u00a3\",\"alle\",\"distance\",\"flavoring\",\"amaze\",\"caprese\",\"pot_sticker\",\"shut\",\"f\",\"frank\",\"distinct\",\"11_pm\",\"garlicky\",\"minor\",\"payment\",\"tostada\",\"substantial\",\"forgive\",\"brand_new\",\"promotion\",\"manhattan\",\"burrata\",\"hilarious\",\"commercial\",\"taiwanese\",\"$_3.50\",\"scrap\",\"sommelier\",\"cobb_salad\",\"smoke_salmon\",\"grand_opening\",\"july\",\"nicely_decorate\",\"horrendous\",\"black_pepper\",\"crumb\",\"reality\",\"tapa\",\"situate\",\"fireplace\",\"edit\",\"stuffy\",\"bore\",\"munch\",\"automatically\",\"freezer\",\"admittedly\",\"hazelnut\",\"button\",\"au\",\"innovative\",\"liver\",\"intense\",\"oatmeal\",\"supreme\",\"rotate\",\"mahi_mahi\",\"costco\",\"swim\",\"swiss\",\"stumble\",\"jambalaya\",\"shitty\",\"supermarket\",\"adore\",\"temp\",\"grandmother\",\"reduce\",\"coconut_milk\",\"atop\",\"dissapoint\",\"cube\",\"roof\",\"flame\",\"notch\",\"powder\",\"hallway\",\"omakase\",\"unsure\",\"dave\",\"boneless\",\"represent\",\"du\",\"sourdough\",\"rent\",\"turf\",\"chip_cookie\",\"asap\",\"relate\",\"ac\",\"magical\",\"breast\",\"master\",\"fried_pickle\",\"friday_evening\",\"triple\",\"associate\",\"bell\",\"rotation\",\"creativity\",\"oh_my\",\"forgettable\",\"bell_pepper\",\"chase\",\"waren\",\"marshmallow\",\"save_grace\",\"35_minute\",\"jason\",\"specially\",\"rabbit\",\"mush\",\"shave\",\"overrated\",\"gas_station\",\"hmmm\",\"practice\",\"dairy\",\"f\\u00fcr\",\"miserable\",\"shake_shack\",\"epic\",\"peruse\",\"em\",\"dice\",\"rainbow\",\"chive\",\"accompaniment\",\"gluten\",\"guinness\",\"beignet\",\"overhear\",\"slap\",\"sizzle\",\"relish\",\"no_clue\",\"presence\",\"10/10\",\"gordon_ramsay\",\"que\",\"glance\",\"festival\",\"complementary\",\"cap\",\"thirsty\",\"randomly\",\"linguine\",\"spotty\",\"occasional\",\"caprese_salad\",\"sundae\",\"baja\",\"dancing\",\"television\",\"1/4\",\"jazz\",\"banchan\",\"trend\",\"unimpressed\",\"tvs\",\"hollandaise\",\"inventive\",\"thailand\",\"palace\",\"outback\",\"pork_bone\",\"reward\",\"extreme\",\"hmm\",\"eggs\",\"yonge\",\"exchange\",\"sauerkraut\",\"belong\",\"remarkable\",\"rye\",\"summerlicious\",\"handmade\",\"treatment\",\"village\",\"new_york_style\",\"significant\",\"second_floor\",\"shortly\",\"proportion\",\"hidden\",\"perfectly_seasoned\",\"mama\",\"gym\",\"root_beer\",\"feta_cheese\",\"6:30\",\"bolognese\",\"caribbean\",\"grind\",\"root\",\"downtown_phoenix\",\"hefty\",\"overbearing\",\"mousse\",\":p\",\"sitting\",\"most_important\",\"vote\",\"gambling\",\"gather\",\"samosas\",\"bum\",\"lesson\",\"matcha\",\"carpaccio\",\"brussels_sprout\",\"okra\",\"google\",\"conveniently_locate\",\"near_future\",\"fellow_yelper\",\"death\",\"loose\",\"dill\",\"snag\",\"ethnic\",\"decently\",\"sparse\",\"$_5.99\",\"meat_eater\",\"compensate\",\"est\",\"$_45\",\"sophisticated\",\"packet\",\"shack\",\"heavily\",\"4.5\",\"metro\",\"eggroll\",\"few_month_ago\",\"creme\",\"thigh\",\"nightmare\",\"coma\",\"european\",\"internet\",\"sam\",\"bravo\",\"viet\",\"yup\",\"speak_english\",\"devil_egg\",\"loaded\",\"wood_fire\",\"shredded\",\"yard\",\"fryer\",\"lotus\",\"passable\",\"gm\",\"fall_short\",\"ease\",\"fond\",\"wok\",\"yea\",\"david\",\"carnivore\",\"nature\",\"palette\",\"heat_lamp\",\"collard_green\",\"hustle\",\"stroll\",\"missing\",\"hash_house\",\"x\",\"35\",\"versus\",\"prevent\",\"smoker\",\"brazilian\",\"retro\",\"friendliness\",\"margherita_pizza\",\"rival\",\"frustrated\",\"bike\",\"tail\",\"peruvian\",\"ugly\",\"panang_curry\",\"scarborough\",\"regular_basis\",\"monster\",\"bubble\",\"sea_salt\",\"private_room\",\"new_orleans\",\"west_coast\",\"dear\",\"wedge_salad\",\"sauteed\",\"tilapia\",\"oddly\",\"signage\",\"taro\",\"auf\",\"towel\",\"deny\",\"pinch\",\"dosa\",\"scratch\",\"painting\",\"savor\",\"15_20_minute\",\"strongly_recommend\",\"interrupt\",\"24\",\"speaker\",\"foam\",\"district\",\"france\",\"primarily\",\"clue\",\"0\",\"cent\",\"most_recent_visit\",\"questionable\",\"tom\",\"dumb\",\"tuesdays\",\"ownership\",\"bacchanal\",\"bleu_cheese\",\"desk\",\"pushy\",\"bust\",\"interaction\",\"apple_pie\",\"boast\",\"lola\",\"wagyu\",\"chutney\",\"chose\",\"shall\",\"alley\",\"taco_tuesday\",\"chickpea\",\"mondays\",\"specify\",\"secondly\",\"carne_asada_burrito\",\"unassuming\",\"equivalent\",\"mile_away\",\"instance\",\"differently\",\"er\",\"sever\",\"red_velvet\",\"observe\",\"excitement\",\"bat\",\"competitor\",\"pita_jungle\",\"thai_iced_tea\",\"repeatedly\",\"barbeque\",\"nick\",\"'d\",\"0_star\",\"debate\",\"das_essen\",\"nightclub\",\"tzatziki\",\"diet_coke\",\"drunken\",\"euro\",\"vs.\",\"pleasantly_surprise_by\",\"instant\",\"urban\",\"dipping_sauce\",\"soooooo\",\"flash\",\"intrigue\",\"unreal\",\"dimly_light\",\"caramelize_onion\",\"king_crab\",\"mixed_green\",\"yum_yum\",\"7:30\",\"2.5_star\",\"g\",\"$_6.99\",\"tartar_sauce\",\"pico\",\"sober\",\"ca_n't\",\"sliced\",\"noch\",\"huh\",\"winterlicious\",\"non_existent\",\"outing\",\"stall\",\"bloody\",\"priority\",\"laptop\",\"quirky\",\"diamond\",\"burgers\",\"sugary\",\"$_7.99\",\"plane\",\"delighted\",\"cob\",\"verdict\",\"hospital\",\"esp\",\"shelf\",\"fixing\",\"$_19\",\"planet\",\"justice\",\"mandarin\",\"stranger\",\"pate\",\"long_story_short\",\"resident\",\"carefully\",\"portuguese\",\"bored\",\"1/3\",\"st\",\"manger\",\"vibes\",\"hier\",\"disorganized\",\"applebee_'s\",\"constant\",\"humor\",\"language\",\"communicate\",\"tandoori_chicken\",\"visible\",\"spare\",\"20%\",\"caesars\",\"t_shirt\",\"americanized\",\"vibrant\",\"oj\",\"naked\",\"saut\\u00e9ed\",\"$_9.99\",\"coating\",\"patronize\",\"icing\",\"dark_chocolate\",\"stare\",\"incident\",\"tastebud\",\"anchovy\",\"asian_fusion\",\"solo\",\"thoughtful\",\"alex\",\"thousand\",\"info\",\"ad\",\"purple\",\"drunken_noodle\",\"lobster_mac\",\"genius\",\"butcher\",\"saltiness\",\"sammy\",\"heater\",\"brat\",\"flair\",\"papaya_salad\",\"horribly\",\"wilt\",\"influence\",\"mochi\",\"pleasing\",\"$_24\",\"artwork\",\"performance\",\"bookmark\",\"appropriately\",\"scary\",\"habanero\",\"nobu\",\"bento\",\"breeze\",\"faf\",\"urge\",\"charcuterie\",\"izakaya\",\"grateful\",\"unpretentious\",\"energetic\",\"thankful\",\"pad_see_ew\",\"eve\",\"bake_potato\",\"cantonese\",\"chicago_style\",\"granola\",\"piss\",\"niece\",\"lentil_soup\",\"pomegranate\",\"idk\",\"marinade\",\"50%\",\"pump\",\"blood\",\"hike\",\"bus_boy\",\"ie\",\"takoyaki\",\"stuttgart\",\"tartar\",\"jean\",\"don\",\"palazzo\",\"fairly_quickly\",\"arepa\",\"iceberg_lettuce\",\"criticism\",\"port\",\"carbonara\",\"ghetto\",\"slimy\",\"adjacent\",\"mystery\",\"degree\",\"shady\",\"flamingo\",\"strictly\",\"2.5\",\"mais\",\"teenager\",\"golf\",\"vast\",\"huevos_rancheros\",\"2/5\",\"irish_pub\",\"fashion\",\"red_robin\",\"deluxe\",\"beauty\",\"marry\",\"sampling\",\"apartment\",\"atm\",\"paneer\",\"brain\",\"satisfaction\",\"walk_distance\",\"margherita\",\"hungover\",\"suddenly\",\"lip\",\"abundance\",\"tripe\",\"pancetta\",\"live_band\",\"status\",\"stiff\",\"philly_cheesesteak\",\"hamachi\",\"surrounding\",\"freaking\",\"exact_same\",\"dime\",\"uniform\",\"chocolate_mousse\",\"shave_ice\",\"chai\",\"loss\",\"explosion\",\"sand\",\"general_tso_'s\",\"bizarre\",\"activity\",\"quit\",\"pant\",\"route\",\"uncle\",\"sneak\",\"mirage\",\"sicilian\",\"charred\",\"hospitable\",\"fennel\",\"shove\",\"chowder\",\"moderate\",\"hakka\",\"brush\",\"renovate\",\"15_minute_later\",\"szechuan\",\"seattle\",\"k\",\"rigatoni\",\"masala\",\"bitch\",\"stuffing\",\"shin\",\"countless\",\"rolls\",\"overcharge\",\"generous_amount\",\"$_200\",\"hong_kong\",\"skirt_steak\",\"personal_preference\",\"richness\",\"grimaldi_'s\",\"video\",\"must_admit\",\"ich\",\"22\",\"pierogie\",\"burro\",\"harsh\",\"facebook\",\"chart\",\"march\",\"midwest\",\"douse\",\"substance\",\"unappetizing\",\"5:30\",\"parsley\",\"well_balanced\",\"bahn_mi\",\"significantly\",\"ooze\",\"tartare\",\"$_70\",\"food-\",\"lid\",\"palm\",\"nur\",\"boo\",\"hover\",\"blonde\",\"mmmmm\",\"pan_roast\",\"raisin\",\"brooklyn\",\"mass\",\"altogether\",\"officially\",\"neglect\",\"iced\",\"intention\",\"50%_off\",\"extend\",\"slather\",\"patiently\",\"carne_asada_tacos\",\"highly_suggest\",\"reference\",\"drinks\",\"high_ceiling\",\"notify\",\"block_away\",\"barbacoa\",\"collection\",\"region\",\"lox\",\"cutlery\",\"uh\",\"shy\",\"honey_mustard\",\"alongside\",\"buffalo_wing\",\"tricky\",\"poster\",\"slot\",\"j\",\"'em\",\"decently_price\",\"peppercorn\",\"junk\",\"pot_roast\",\"supper\",\"terrace\",\"got\",\"halfway_through\",\"occur\",\"bacon_cheeseburger\",\"bellagio_fountain\",\"overflow\",\"deter\",\"general_manager\",\"90%\",\"eastern\",\"mellow\",\"neck\",\"mound\",\"penny\",\"sehr\",\"perform\",\"comforting\",\"surface\",\"partake\",\"george\",\"40_min\",\"creepy\",\"11:30\",\"speciality\",\"maker\",\"pit\",\"purse\",\"pressure\",\"saturdays\",\"steer\",\"sonic\",\"frame\",\"cleaning\",\"mozzarella_stick\",\"heard\",\"drinker\",\"sf\",\"recent_visit\",\"affect\",\"impatient\",\"gas\",\"dingy\",\"construction\",\"downstair\",\"plant\",\"pork_tenderloin\",\"$_4.50\",\"mirror\",\"atrocious\",\"chile_relleno\",\"stout\",\"peking_duck\",\"au_jus\",\"tenderloin\",\"lacking\",\"ocean\",\"pillow\",\"sin_city\",\"busboy\",\"jamaican\",\"roberto_'s\",\"puff\",\"unnecessary\",\"shut_down\",\"plump\",\"yam\",\"kung_pao_chicken\",\"tapas_style\",\"arrange\",\"formal\",\"carpet\",\"childhood\",\"capacity\",\"asia\",\"jumbo\",\"$_28\",\"swallow\",\"buttermilk\",\"dull\",\"weigh\",\"length\",\"scar\",\"sock_off\",\"burnt\",\"kbbq\",\"convert\",\"yo\",\"develop\",\"pleasantly\",\"2015\",\"boneless_wing\",\"fluke\",\"comfortably\",\"snow\",\"roommate\",\"roast_pork\",\"clueless\",\"sahara\",\"pei_wei\",\"fab\",\"asada\",\"reaction\",\"courtesy\",\"unhealthy\",\"hometown\",\"garage\",\"explode\",\"perk\",\"splash\",\"novelty\",\"bisque\",\"mr\",\"refri_bean\",\"human\",\"braise\",\"disagree\",\"gripe\",\"resolve\",\"wie\",\"factory\",\"cell_phone\",\"umami\",\"mask\",\"loudly\",\"unagi\",\"cowboy\",\"river\",\"dash\",\"wine_pairing\",\"grapefruit\",\"leek\",\"uncooked\",\"forgot\",\"jacket\",\"romaine\",\"sufficient\",\"vendor\",\"greatly\",\"tom_yum_soup\",\"behold\",\"tamarind\",\"sharp\",\"steve\",\"chalkboard\",\"browse\",\"lakewood\",\"glorious\",\"satisfactory\",\"journey\",\"$_26\",\"tandoori\",\"plethora\",\"transport\",\"spoonful\",\"wheel\",\"hooters\",\"excessive\",\"alive\",\"8:30\",\"kiss\",\"linguini\",\"firefly\",\"position\",\"only_gripe\",\"2016\",\"prob\",\"latin\",\"tokyo\",\"pakora\",\"pregnant\",\"chicken_marsala\",\"image\",\"tuna_tartare\",\"behavior\",\"mail\",\"mildly\",\"reception\",\"zum\",\"c'mon\",\"met\",\"doctor\",\"succeed\",\"thai_basil\",\"sidewalk\",\"45\",\"entr\\u00e9es\",\"caliber\",\"plating\",\"3.5/5\",\"heap\",\"east_valley\",\"trade\",\"key_lime_pie\",\"stringy\",\"suffice\",\"apparent\",\"mason_jar\",\"race\",\"perspective\",\"include_tax\",\"beautifully_present\",\"gain\",\"lamb_shank\",\"by_accident\",\"collect\",\"green_tea_ice_cream\",\"shrug\",\"loyal_customer\",\"tendon\",\"pad\",\"$_7.50\",\"asu\",\"most_recent\",\"pissed\",\"halal\",\"glendale\",\"grumpy\",\"ol'\",\"bro\",\"channel\",\"toro\",\"$_4.99\",\"queue\",\"towner\",\"dirt\",\"puree\",\"e.g.\",\"privacy\",\"dan\",\"fulfil\",\"overly_salty\",\"yard_house\",\"forward\",\"digres\",\"bison\",\"humble\",\"yolk\",\"poke_bowl\",\"tremendous\",\"lebanese\",\"colour\",\"lychee\",\"panna_cotta\",\"wild_mushroom\",\"watch_sport\",\"king_crab_leg\",\"dynamite\",\"generously\",\"roasted_red_pepper\",\"tub\",\"peep\",\"seal\",\"$_8.99\",\"pronounce\",\"elevate\",\"mal\",\"duh\",\"limited_seating\",\"fridays\",\"porterhouse\",\"condition\",\"danforth\",\"b.\",\"caution\",\"nephew\",\"locally\",\"felt\",\"bay_area\",\"americano\",\"addicting\",\"peace\",\"einen\",\"courtyard\",\"beef_wellington\",\"bummed\",\"unremarkable\",\"quest\",\"nestle\",\"grill_octopus\",\"phone_number\",\"wurde\",\"dimsum\",\"artist\",\"sun_dry_tomato\",\"statement\",\"rotten\",\"stink\",\"rubber\",\"tri_tip\",\"soap\",\"gosh\",\"brian\",\"sesame_seed\",\"title\",\"inhale\",\"rant\",\"partially\",\"player\",\"chick_fil\",\"salmon_sashimi\",\"9:30\",\"baked_bean\",\"drain\",\"panang\",\"karaage\",\"convention\",\"une\",\"disclaimer\",\"ashamed\",\"swap\",\"benny\",\"honesty\",\"disgusted\",\"preface\",\"carolina\",\"twenty_minute\",\"champaign\",\"owe\",\"football_game\",\"worthwhile\",\"navigate\",\"chandelier\",\"nibble\",\"april\",\"pollo\",\"chili_oil\",\"balanced\",\"melon\",\"solely\",\"yuzu\",\"couscous\",\"smashburger\",\"pet_peeve\",\"tonkatsu\",\"trivia\",\"sorta\",\"gathering\",\"blind\",\"favs\",\"stunning\",\"peppery\",\"magnificent\",\"oreo\",\"gift_certificate\",\"giada\",\"bubbly\",\"fettuccine\",\"accordingly\",\"premise\",\"shine\",\"el\",\"stylish\",\"swiss_cheese\",\"map\",\"link\",\"nod\",\"locally_own\",\"cotton_candy\",\"crab_puff\",\"10%\",\"fritter\",\"togo\",\"wird\",\"rotisserie_chicken\",\"boom\",\"cosy\",\"umbrella\",\"music_playing\",\"abundant\",\"stain\",\"dann\",\"dangerous\",\"3/4\",\"british\",\"artichoke_dip\",\"playing\",\"desperate\",\"kevin\",\"balcony\",\"brag_about\",\"turkish\",\"texas_toast\",\"shrimp_scampi\",\"complicated\",\"target\",\"cream_spinach\",\"pepsi\",\"amuse_bouche\",\"determine\",\"aus\",\"themed\",\"under_season\",\"centre\",\"invest\",\"rely\",\"board_game\",\"johnny\",\"stamp\",\"copy\",\"merely\",\"crawl\",\"irritated\",\"good-\",\"swordfish\",\"spotless\",\"northern\",\"ultra\",\"chalk\",\"uninspired\",\"open_24/7\",\"august\",\"pal\",\"20_+\",\"ginormous\",\"ex\",\"southwestern\",\"etwa\",\"whole_wheat\",\"tropical\",\"black_cod\",\"competent\",\"encore\",\"deduct\",\"dim_lighting\",\"ryan\",\"promote\",\"plum\",\"town_square\",\"film\",\"accessible\",\"frost\",\"nc\",\"sp\",\"2014\",\"function\",\"mgm_grand\",\"firstly\",\"modest\",\"scared\",\"overrate\",\"postino\",\"alert\",\"someplace\",\"$_6.50\",\"january\",\"overload\",\"escort\",\"frustration\",\"new_york_strip\",\"flank_steak\",\"preserve\",\"spam\",\"tang\",\"deceive\",\"moscow_mule\",\"s'more\",\"petite\",\"carne\",\"relaxed_atmosphere\",\"swing\",\"monta\",\"stromboli\",\"communication\",\"cuban_sandwich\",\"$_23\",\"experienced\",\"flawless\",\"cesar_salad\",\"2013\",\"confident\",\"hotpot\",\"sliver\",\"descent\",\"spa\",\"greasy_spoon\",\"salivate\",\"scotch\",\"rob\",\"swanky\",\"expansive\",\"19\",\"paul\",\"carve\",\"addicted\",\"8_oz\",\"carafe\",\"interior_design\",\"tahini\",\"dumpl\",\"dc\",\"treasure\",\"spinach_dip\",\"december\",\"grace\",\"wrapper\",\"gate\",\"nerve\",\"critical\",\"identify\",\"worse\",\"eric\",\"moon\",\"p\",\"tom_yum\",\"default\",\"bar_stool\",\"celebrity\",\"first_glance\",\"string\",\"angel\",\"individually\",\"takeaway\",\"program\",\"shwarma\",\"tapioca\",\"esque\",\"episode\",\"crostini\",\"promising\",\"bon\",\"role\",\"june\",\"verde\",\"housemade\",\"russian\",\"shellfish\",\"bottled\",\"croquette\",\"z\",\"10%_off\",\"living\",\"no_biggie\",\"portobello\",\"dollop\",\"sublime\",\"brief\",\"echo\",\"notable\",\"dem\",\"tortellini\",\"chilean_sea_bass\",\"magazine\",\"dated\",\"earthy\",\"downright\",\"munchie\",\"thumb_up\",\"aforementioned\",\"lane\",\"borderline\",\"sensitive\",\"1.5\",\"eaten\",\"goal\",\"mate\",\"dock\",\"cram\",\"estimate\",\"thus_far\",\"recent_trip\",\"bun_bo_hue\",\"wow_factor\",\"blackberry\",\"chimichurri\",\"menudo\",\"irritate\",\"nuts\",\"carving_station\",\"offend\",\"siam\",\"strangely\",\"rowdy\",\"hero\",\"live_nearby\",\"professionalism\",\"fremont\",\"focaccia\",\"perch\",\"$_5.50\",\"rachel\",\"adobo\",\"cane\",\"aromatic\",\"oh_my_god\",\"nach\",\"lobster_ravioli\",\"kung_pao\",\"10:30\",\"asian_cuisine\",\"chaotic\",\"sich\",\"soupy\",\"25_min\",\"oregano_'s\",\"pan_fried\",\"bobby\",\"warmth\",\"panda\",\"sir\",\"oakland\",\"debit\",\"quail\",\"intrusive\",\"oregano\",\"unsatisfied\",\"suite\",\"po_boy\",\"flavor_profile\",\"halfway\",\"ship\",\"$_3.99\",\"await\",\"assign\",\"banana_pudding\",\"more_importantly\",\"mango_lassi\",\"$_5.00\",\"solution\",\"faux\",\"helping\",\"i've\",\"dunno\",\"wide_range\",\"ny_strip\",\"morsel\",\"thickness\",\"headache\",\"hectic\",\"acai_bowl\",\"beef_carpaccio\",\"approve\",\"thumb\",\"cleaner\",\"bei\",\"ranch_dress\",\"theatre\",\"touristy\",\"vomit\",\"only_drawback\",\"sticky_toffee_pudding\",\"indifferent\",\"banana_cream\",\"senior\",\"only_downfall\",\"1.5_hour\",\"haben\",\"outdated\",\"bloor\",\"partial\",\"debit_card\",\"bob\",\"souffle\",\"open_till\",\"bok_choy\",\"pet\",\"fragrant\",\"stir\",\"lap\",\"waiting_area\",\"$_27\",\"delivery_driver\",\"bin\",\"gristle\",\"affair\",\"disrespectful\",\"salt_caramel\",\"de_la\",\"sweeten\",\"schon\",\"sw\",\"approx\",\"socialize\",\"stars\",\"$_75\",\"tempting\",\"college_student\",\"reopen\",\"whilst\",\"hella\",\"hip_hop\",\"remark\",\"proximity\",\"biased\",\"absorb\",\"definition\",\"pierogi\",\"chuck\",\"north_scottsdale\",\"burgh\",\"loco_moco\",\"ra\",\"sapporo\",\"mince\",\"toy\",\"charcoal\",\"louisiana\",\"aesthetic\",\"someday\",\"raw_oyster\",\"tout\",\"usa\",\"fremont_street\",\"anthony\",\"infamous\",\"101\",\"unimpressive\",\"europe\",\"spare_rib\",\"avec\",\"shred_beef\",\"acidic\",\"wander_around\",\"saw\",\"cherry_tomato\",\"enthusiasm\",\"institution\",\"bs\",\"horse\",\"bowling\",\"butternut_squash\",\"horrid\",\"iron\",\"monthly\",\"international\",\"ray\",\"experiment\",\"james\",\"cafeteria_style\",\"lettuce_wraps\",\"blue_moon\",\"corn_dog\",\"hunk\",\"converse\",\"assemble\",\"technically\",\"birthday_celebration\",\"vom\",\"p.s\",\"spicier\",\"afterward\",\"heartbeat\",\"costumer\",\"parm\",\"rim\",\"alike\",\"passionate_about\",\"maki_roll\",\"ness\",\"bind\",\"red_velvet_pancake\",\"happiness\",\"live_closer\",\"tourist_trap\",\"utterly\",\"refrigerator\",\"awesomeness\",\"einem\",\"dort\",\"nonsense\",\"aim\",\"pat\",\"glow\",\"moderately\",\"seed\",\"establish\",\"bias\",\"haddock\",\"carbs\",\"apricot\",\"around_noon\",\"grey\",\"lift\",\"dragon_roll\",\"popularity\",\"2012\",\"simplicity\",\"rainbow_roll\",\"milk_shake\",\"cafe_rio\",\"sunny_side\",\"air_conditioning\",\"turnover\",\"wipe_down\",\"brim\",\"sens\",\"5th\",\"brick_oven\",\"n_juicy\",\"mop\",\"wee\",\"aloha\",\"scallops\",\"brave\",\"fifteen_minute\",\"incompetent\",\"valet_parking\",\"scenery\",\"houston\",\"unorganized\",\"pile_high\",\"toasty\",\"caramelized_onion\",\"storm\",\"meatball_sub\",\"prepp\",\"fox\",\"oasis\",\"pinot_noir\",\"$_8.50\",\"critique\",\"bath\",\"indian_cuisine\",\"caramelize\",\"jimmy\",\"dick\",\"tzatziki_sauce\",\"umm\",\"downtown_toronto\",\"fiancee\",\"compromise\",\"jam_pack\",\"ben\",\"gordon_ramsey\",\"soda_machine\",\"bleh\",\"beef_stew\",\"noticeable\",\"pulled_pork\",\"newbie\",\"low_rating\",\"beef_tongue\",\"nowhere_near\",\"similarly\",\"goodbye\",\"plastic_cup\",\"destroy\",\"q\",\"picnic_table\",\"ripe\",\"competitive\",\"fast_forward\",\"dress_code\",\"nutty\",\"artificial\",\"nostalgic\",\"clever\",\"sardine\",\"chow_down\",\"elbow\",\"passion_fruit\",\"amy\",\"suitable\",\"clock\",\"jeff\",\"advertised\",\"clarify\",\"china_town\",\"ashley\",\"snobby\",\"florida\",\"antipasto\",\"black_olive\",\"parfait\",\"slack\",\"snow_crab\",\"virtually\",\"bachelorette_party\",\"arrangement\",\"chardonnay\",\"evident\",\"imho\",\"corned_beef\",\"unbeatable\",\"ou\",\"avacado\",\"saffron\",\"newspaper\",\"devil\",\"path\",\"powdered_sugar\",\"kimchee\",\"hanger_steak\",\"lo\",\"poached\",\"letter\",\"fancier\",\"anxious\",\"30min\",\"throat\",\"fanatic\",\"brown_sugar\",\"robust\",\"difficulty\",\"24/7\",\"essence\",\"rooftop\",\"lbs\",\"scott\",\"mere\",\"lure\",\"qui\",\"expire\",\"tow\",\"accustomed\",\"vanilla_bean\",\"method\",\"almond_milk\",\"hill\",\"singer\",\"lime_juice\",\"joey\",\"logo\",\"talent\",\"potatoes\",\"handy\",\"$_150\",\"delicacy\",\"pork_shoulder\",\"mon\",\"model\",\"muscle\",\"wth\",\"orient\",\"divey\",\"starch\",\"kiddo\",\"awkwardly\",\"chilaquile\",\"exaggerate\",\"prize\",\"egg_benny\",\"2x\",\"tank\",\"november\",\"$_7.95\",\"paper_towel\",\"peaceful\",\"90_minute\",\"entre\",\"october\",\"gaming\",\"stumble_across\",\"diablo\",\"steer_clear\",\"brio\",\"backyard\",\"commit\",\"bonus_point\",\"acoustic\",\"heirloom_tomato\",\"pancakes\",\"filter\",\"two_thumb\",\"royal\",\"harvest\",\"waffles\",\"adorn\",\"tolerate\",\"yorkville\",\"organized\",\"bien\",\"steamed_rice\",\"fuel\",\"mon_ami_gabi\",\"50_cent\",\"fucking\",\"terminal\",\"bobby_flay\",\"co\",\"teen\",\"task\",\"silver\",\"lemon_pepper\",\"sweetheart\",\"national\",\"lengthy\",\"$_8.95\",\"thursdays\",\"lifetime\",\"$_6.95\",\"vancouver\",\"west_valley\",\"responsive\",\"guu\",\"announce\",\"udon_noodle\",\"instruction\",\"bass\",\"hooter\",\"definetly\",\"wir\",\"arcade\",\"dancer\",\"expense\",\"cumin\",\"malaysian\",\"fire_pit\",\"burgr\",\"pleasantly_surprise\",\"braise_short_rib\",\"griddle\",\"embarrassing\",\"jukebox\",\"jus\",\"transaction\",\"lemony\",\"gave\",\"waterfall\",\"delightfully\",\"stoke\",\"accompanying\",\"miami\",\"nostalgia\",\"artisan\",\"enjoyment\",\"mural\",\"kim\",\"16_oz\",\"bark\",\"curd\",\"lecker\",\"tucson\",\"crispy_skin\",\"bye\",\"afternoon_tea\",\"sprite\",\"tabasco\",\"contribute\",\"cigarette\",\"salsa_verde\",\"priest\",\"venison\",\"broken\",\"ole\",\"amber\",\"steam_bun\",\"nap\",\"friday_afternoon\",\"immediate\",\"camelback\",\"new_mexico\",\"roomy\",\"festive\",\"ny_style_pizza\",\"bachi_burger\",\"lord\",\"field\",\"tuna_melt\",\"posh\",\"outfit\",\"overwhelmingly\",\"je\",\"peach_cobbler\",\"taxi\",\"meaning\",\"fam\",\"anywhere_near\",\"basmati_rice\",\"whisky\",\"holy_crap\",\"korea\",\"balsamic_vinegar\",\"arrogant\",\"pretzel_bun\",\"verify\",\"steak_frite\",\"$_32\",\"checking\",\"ruben\",\"meantime\",\"kicker\",\"pine_nut\",\"respectable\",\"dry_rub\",\"chilis\",\"progress\",\"furthermore\",\"perfectly_cooked\",\"hug\",\"havent\",\"discussion\",\"ma\",\"coin\",\"duo\",\"socal\",\"act_together\",\"scatter\",\"mock\",\"refried_bean\",\"duck_breast\",\"appointment\",\"cordial\",\"dressed\",\"barley\",\"bare\",\"lager\",\"beef_tenderloin\",\"melty\",\"incorrectly\",\"pastor\",\"chow\",\"luxor\",\"absurd\",\"leather\",\"curtain\",\"ummm\",\"storefront\",\"attendant\",\"starbuck\",\"several_occasion\",\"flaw\",\"se\",\"crown\",\"pa\",\"spring_rolls\",\"whoa\",\"lamp\",\"ikea\",\"respectful\",\"spring_mountain\",\"ciabatta\",\"ontario\",\"chaos\",\"educate\",\"mouthful\",\"private_party\",\"chatty\",\"nevada\",\"crumbly\",\"redo\",\"atleast\",\"soju\",\"sweep\",\"lump\",\"cracker_barrel\",\"dining_partner\"],\"x_coord\":{\"__ndarray__\":\"6M6WIxfg9b/2jlhGgAYiQGM8cm1phBhAZ81kvMXcBcC9Sm3oObr+PwUvLfYUjCNA6EKAT2b/BUDar9G/cHsOwBRseOaGmQDADj0DEuTa8r8Yi1sXyG8LwE9rCXuJewXAV06u21Lo1T/SzwTOeiYbQKIGMX1VexVA5Z8QiEEl6z/702PJUKIkQKfhAHVN4yDAkZqkfIKpIkDNJvMe63kZwNVt0Kd1tQDA1MOatuMoC8AlDjbzD/4SQIaru9IH3/u/PVOV5s/bIEBgo/kSjFsjQLhBsb9PWxJAzoTCuSkwEcDklmTRAjQTQHCBa4+4BgLA9h9ak1mWH0CqlDHFizgTwEqAorN5v/g/EeP5QQRoAkA7HZzdxyELwGrzJAe2WBZARiw2the4/r/oztNDSYwPwDH1r2N2Yw9A0vADvPdlHUBZUHIgP08jQCJO1Il53v4/EYvm8XleHcB6T9805f8iwJ9U6pjnZBHAITb4sRDDE0DAjr9drs4MwCc5u1i4ZCDAii/R6QGGGMDkV1I8zgX5P3kAs/qsABRA6ikA1wrzDMCyYMhxhf3zP5LyNbX0cMK/TQcV0A8tIUCQvMx2gesUQHtL6Dre1Q1AaMMYQNwUIEBS8tO6q40SQODfkYzwiCRAbRla0ZwB+z/EZu5EM8kmwOsA4453DB9A4q5LEFVeEcCyDjdkyCoZQMxepLjakg7AdcJ9ouBcI0DF8J+kXnAlwK9ecLA3/wDAJz8JMuOcF8AlZflaLesFwKKq4FfKVOc/N4x0BrpOCMD1SkptyyMPwMLVf/KJGCBAZOqWawvOJsDBBciUCtwnQDGKEiQ5TSDApIuQydTNF8BbhT1Mp8n+P6menDLPTSJAvrYfSliuH0A7dkqFEXgbwA6kageJdCNAiCXyAXXaCEB7ZWaBAeMZwGRHrU++IxBAn6aNm1+lFEAEinUOdagXwPmwrBYUxwvABx6rbXyUCsDTHIVzKCsbQOD7JvkHXyNAXt1/m69r+z+kT1RlAAoawHbcEnmbrQrAYerKUV/IJ0AkiGtzqB8lQEzGTXiJQAHAaYN3D+1HFkB4ERO+vyAZwKJOUmZAIQ7A/Qk+5NcxHcChzgAiBSIQQKORF4PsNfu/WsJFaOWWEcDeUa5VzTwiQC6Ma2mvj/A/7PniwoliFkDCnDzA91MGQLO8if7PgShA+dlmqMUhIECCGx5plKkkQIP9UW10uvS/99Q+82AkFMDJTMivHlUGQJz6Krup1SbAp0Gnpva0BUD7ugSJvA8NwMIetqv5zwbAGHIOn+4hEkAW4R2wN4cYwKUQSxbkJvu/MEwSi8TlBUDD2N3nQmEmQA/Fnzsqrvy/dKzbbsDqI0Bm6H1r1HAOwBIQoHm2rBbAJPlGBnAjJkAl8YBjcNkQQEQm7MDDEgjAIK/6U5zCIsCmAwCqaJEAQFSrpvlydP+/VsibIu4zJ8AD36TEnIcdwH3K0AF0mghAY8f43UdiEcBJDivcUAEAQGKt6NARDSBAa3GY5XzqDUAeTJmDam4PwN+WEhAAjgpAxT9MypCoBECkxnrF69rpP2WdBWqKXCDARq878LIHGcBZCyAgeYv3v/l2kwCBJfW/FXR7o8suJcDMB5W0pMwZwPGisZGGxg7AR7caYJ+K/7/7qwpSwgYYQLKcSBw3QRZAMz/L213wC0BweHY86pcgwPlH8EBeRf2/IgkmHvmb8b9B5T2FOIUhQGC/Q7Dr7AvARlUfvnChBcArKUKE8AfnP92SQCQagR9Aegl5OYgjBkChaeilPaevP8TbVhw0q/G//zObG4OsJsAOXzhFsTghwNJPLWDeMA7A+DjoBdXMDsDfm3usgLYZwLxh0iZw+hFAqrAmJUuyEMDIujb7gQ0SwEZMyi8f+SXA4hf+zIZeHEDAKy5neIoVwMVj1Q/+hxbAqEc4vtkrFcA7/PdzsXEmQHRzBIAxzRjAc+4fsdlP1r9zAZXk/WkjQICq7/fVjRvAMlCsKJ07EsBoXLG4n4AoQPlzhlFX4sW/C8/Jp6CxE0BsnWoszHohQGAgJOe4xRlAlFZ5UwT5E0AfvPtMan0kwD3Pe1BCYyBAitRchnMGDMDxAQ6Zd5cgwMtmo/DOaxHAGIO4i7ry/T8uhImPzPQFQGsNA07EdCfAoRFDnJ67E0AF0q51o3blP7yYStXoMQJAIx5isftoG8CEk2UYCd8FQHhxqUkvEhhA5210JxGFF0D1vhJ8RUL2PyuFWSrv7eO/DSU//c1Q4D9AOrt1NQQgQFxw//O+aCHAQYfqnh6xBcCEbs/mnBQUQCvOJZ7LqydA/cSSkZXO8b8UuGsozzIBQB2HH3X6lyNAnW7mIFSY+z//VHIUfq/2Pwt0+Vek2QVAP08zCilHA0CWqBdQ0MDwv+DjlINNqRLAvEVLzzbnAkBGxykHGuwIwB4ycyjeTAJAoGsoLPMpFsC9LLP4x1MjwNpZAc8yqxVAilwAt2Tk/L+TuCaEDrLuPybv7EmEbBdA3Xsnk3ztBsDV/k0jkBIcwLIzlIADkRZAaxv+ck76J8BGVcbpWe0fwJG4rW3FkBjA4b1QHjQy/L986IJx2D8kQIUaABsuRR3A8iWQs/e6+r/pA3hEJccYQD1IuF+U8grAnPdMET8a/b9H7RVTaMABQK5B8EPSOeA/Ax7b6Gl6IkB1ur8ok4sPQFQgXzbNF+i/ObR/J2Y8IEAJHg3SI4IkQGUc4uVIwBJAuJ9/6fCE/r8KqJzDJaECwFoNPRSH1uG/KQi/Olldur/3hqx58kwjwFfKILwZBQRA1h9e3I4aD8BnGUdZU2ogQAYdK3FRI/M/o5hIMfqkAsDOmqjM26gfQFm9PJp8HOw/mlkbdAcyHEANZVhccGcRwIplK75FcPm/6Xb0B0RnCsCHh53nW67svyHTUQh9SSRAr9IeXD9VF8B2MnkgwjcUwMjRQwCRbBjAXBh7PoDlGcAQjPhFjtEVQFqJOH/Cnfs/e8kruzcE/b9meTUwoGHvPzVD5hlNgNg/TyTICuTwFsA5ZxE0YzUPwECP+tHGtiRA1kP416iDC8DC9kA8VDokwHUI2To5fRdAxPJr7wWm8j8XMfNirEMjwMk+l3+a/by/r4DdU0GcCUBIcdB04joRwCW+uqSOYh3AqBfmWBK/JcCwx4cWiq0SwDP7//BBQw9ABuHc1GaYCEA/20OMp7YnQHqp/wCaXifAx4zrKRyUvj8vl15he2wJQOj/Ed+8yh9AdJsalwKEqj+899oxWVQFQMsYP0DOZhfAhgShirE1HMCyy98CAP7nv0x+RCT6YyLAR94Curb5EUAF7ZZJHvb0v+XKS1PK6f4/yKytSyI3GEC+Dvev+ZcYwJRWAZvKLhRAjl9uw7siBkA6aPiS1O8PQKQG7BacRhTAHoEScVQ0GkDUnOGNugsSwCUvgtwTaQBANP9aYCikJEAoEK+6YAscQO7YRtkrTAVAVXpN8Sa4+T9oGnGuuoYgQBcfbHchTgXAo1RSEUBHFsBvytPRm98RwJEdk/Qfg/i/bE8pOfdWEUDIUTxf/Af5v6mBbRWxqhlAYb+ToKLgI0DOdARVchUYwKFuYOTTyiZAoV5MGBkm5r/mDfUDUWwaQGnH27r2WxLAi/yeK3eHB8DK77xspKchQMnaBHIR+R3AYdW7bivZEsCxKGGTzW0SwF8Jw2ROzQfA6paBynE2FMCJoNmv1KIhQM25VPuAkiDA75coEkig6z+pRz0OK9kaQCh6qh/ZGhHABLBQsBh+FMCviHvU+KMhwAhYqKPU+AvATCNvCWgnJcDnvQjodh4QQLnQnva4byTA0Zyf5U7IBsBkRw5O9eb7P8SI9PRUpPu/LaPzCdihJUDbz2IpuFLhv+DwBllOdxBAW32MAzQRJkC5JkARbRn8v6BBkSlzoBLA21IndxJRBMAg1Dn1ba38vym4a5W33BNAeNH7dpkhDsB5If51XhUXQFB67d2PoiPA/fxJ1PjyG8DbQoeaatkXQOuJvwvmWiXAgwBYdf9DeL+6sq/EYRghwODwE8EMwCLAwggp2s8F+z+vx5bRSaQPwGIq7p6vWNE/0qeC2RqMCcBfTEcQEu8iwLhzgdIuYRPA4NYAS2yGAsCuuxdrjtUOwFYhvK0MtxlAQrAdbqtEEEB7qa4fSqckQLpoMGre1BdA6VGoq1C4FsBE8AUJWZ3jv7828T+TWgJAbcj74wpdC0B9J3DbEcMTwCNsc5qmMxLA2aoou0cWCcCyimgU6YgfQCw0jrf53A7AZWFdBElvGMChdayAuNOkv4t4HLe4lyRAMUuZGjlPIkCoQ9kh783zv1h4C0V6iMs/9ucM8gVHD8B8rxjt9fTcP8oGe2lCVyTAly77XsrTEUBCIGz/E6IkQJsnzZpCeB7AkV6RXDF8EUDVEeEjFnkTwJFgUXv8cA5AuSHNal0iJEAQH8jVxEzxvwS4zbvNNRzA6jkArnFJJMBqQ5S7IpkFwIL2uhiTfQLAWRpa3glXHEDnvcD5wHoGwOnmB1CFRPm/VM5HLJom7j+cujcJMYESwOY201FWfifAdLDZJ/sqEkBJSCFVq6sWQB+8taTyThTAIRFYK5ddEkBf5TDlp3ojwHTLFc0dEBLAyFRpAGRf8j8snMy0H3UHQJ+jHVqgqgrA/9PZeGd5F0CYp8lq0NoSwPhsaFdOzR9AbUmj3hy1E8Cl8QHD3CklwBaVjZHOWSXAM5Wjac5hAkDW9ZzkZdrmPyYWXgwK3xfA0K3Y7JB/GsAdNQaYfRgHQFnc/MSadifAn4l8hFV7GMDKGCZOfrIWQOqEVLfPk+a/K7hWOcNiFMASKc2CKdgdwF2G0mePhiJAaIa5toXR6r+8r1V/yNkfQKFAkgY1pA9AWLPUOaR5IMAdlwgeL8saQLd8hdKgKg5AicrLRcWiCcAYvduSs972P2IE/sCvRB3Ax/E3XF2o8b8lHE88TNoJwNRHqlSKPRRAqjO0961CEsDio8AXYA8YwF/Sj/PkUhbAoaa4hAEPC8ABTi41XJ4awGWvGC8QDBNAkYA7UTE8JkBcXMC+EXUjQMX5JtxuqARAGydNk/sZEsDK9qJiIMTzv5+V2GaUqQNApCF2MVJjIMC7mah0ww4SQDZbGM3zRwDAmlCryktKI0CrY0ygO38WwJ7zeSSkhiZASfNBY9K8JEAzdKyo+GIKwIBPtG1fGQXAlkzNy0M7CsDHYMMK7F4AwEeIwGFPwv2/ka9WktXc/D+j4/O10zckQNL42ZmPpNM/eBbuOVndHEA1WQFDSG8hwCoOV2FCYhVASaA7kmUvFMCvzHzL8CwYwBNnTMYr0CRAGEs80/TaHECrUcfQpqMWQIwaHKBX0iNAKzJbpxFPEsBYyepyyGASwFEALEOjNPy/XXV7KlyrIECDVmXmSU0SQBhsHZvcjhjAVC/8hcZRGEBTU3keU5cIQOdZFzSGZA7AVgjoaF085z+nI1F4m1nRP4P8u02LhyJAIrSMtBJfF8A6c3Ssq8r9PxjbeFjmfvw/gajzs9vDAMASdPbWHDoTQAKjPsCr/gdAInV3BafZAsA5icoU9mTOP1118ssqACBAUdN9gSHm+z9g43iHO3UgwDJiSz/sm/2/9RZ72U1XGMCS0IwvdJYXQIv2yzQHtBbArZ2c5Pcy+79EEe0+aSUSQEs4kdy1WRLAM+fWwyPPF0CeX3ZgGJH/v4DPhmfKAwNAJk3lCIek+L/f00rdJuwkQLugTDmHxxbALnAsrJL8IkAue/8Czd8YQByRdypgi+o/sKxi4t13CkDJUMnYP7n7Py8lw8r7zfa/8/HkkJxyFUCuHJHcOgfsv2W6tcKX/tg/bxd/99pZI0CRm+kiPlgdwHuKXxl6myBAKJ5wjAqr/r/VK/30YMr3vz/uDnurRyRABZmmsWdREMA9i0WhWBzwv6VOj0KYiQBAJatk7kWzA0DAwOMe9V4EwIpO3q+GMuy/5j8Xlq71GED/rzUYhpocQCjXRcjjrRTAG2hGTaOVFkB9onYJ7XElwKdOwu1xnRjAhA3fkHumIkCJTXclclsYQKWxuvCVpv2/MElhrPoTEkAlPYUUtnUYwCBgxWrv8QlAIvcBX0K5JEADIQ91YkclwI3phIX3AR9AA+F7yB3s4z8+4GZPqWcAwId9J5jv3gpA2/RKnPFxCMCtFBO0r6D5vw4dKkukrQ9A8YPmMuw7B8Ay6SlZxDgTwN8SN8XEXe0/s6353CvQor+Z1MZApYsnwC3h7Wq7FwdAxRw2KL4nGsDeOBQP540AQBjruaARcAVAZtvZ5zglIkDbuEDrr2n2Pw5uwc2EghnA+eJdV7aB87+A4tqj/hINwC583/IDTRVAEMZJmBjAJEDrQpXwh4Tvv9r23NS+xhrAGwok6tNrJkAvVqW+GArwv2iyYk0xy/W/a2/BIc20EkANF00cNrYYwO7DBs8JYuI/OGpV3RfYJcBTlGJvidohQLdswCeG7RnAhll5EEZ8J0D7aUIPz8slQEh1XlQq+hVAdPCNeJGMDkBE4jzwLUARQOfshymWMyVA82ZvLtGcC8CVPW9fbsPVP3YeE47NvBFAHiDF8yXa5r97I5wHl7MVwO+e4729HSVAtA6rf40kAkAEUhQyz/EEwI8sCiT97wZA/AWkiva2FECzAoTt8ywbQNLY7TxDaCdAgA1QSmC+CEAIr0+/mrYCQKNFFNQroeQ/blfMEVuf/r8J+GrDErIKQAay6mHH9hVAivuPakvuC8DS8Pxc30/zv5fFPkVP1uW/WCmh39PMIMD+hvOLelgCwKuuZjH9bhdA/a4GaWA98b93t9tpc0wMQOX5m1uwPPe/VYmxE1RCD8CUYG0yui32vwosKY78drC/o9P1mkggJkDZ/FOUGMEgwH0C1m7YqwZADjelI3aCEEAJiD0/1AbxP/f/F9TyRNk/8T8gXNy4+z86ia0g1x4RQIK22ZPqgxDAT57JAt72JcCxsfWidK/+v8kC4TBoO/i/7+3QfsQ/EECCtDInk2IBwJwTlMh84AjAjW2GYMQSJ0CzhObGKnQWwD9QDibuF/e/9eCcx/VMAEBae9kIbfgWQBb688/u7SfAQJjshpgyJUC0tF1PPer+v6imqqJm8BRAl4KWTRcfEsCZfiwbdQAmQOkD/iljGyTAp/+JylfP9b8M+yyMWokgwDm3TmBEdxTAAiLQzmJ59r9ZNYrjqJ8aQMZwpfrpcQrA4dtSWyJSJEDMqkyLygsPwPYh6FA9QAFAkK/JB6sf37+1GXnOb9gFQLTWcAPTzBDASIRr/Hup578zegGONWolQADqaVG+NQ7A/JhyOjCBEsCLDwCMD5vyvwLO6iPRDQ5Atj66HpQqFcCuyQxZ1pnlP6ev6nCU0BTAdt7M+XIkJMCcQRoUsXYkQLxDiChYGxdApelTYcud6r/GMplNjmwbQIqwiDmUciRAG2TnOH+qBkDqwENyPTUiQLBNnaD88iZAjW85LENSHMCg/Lv3nWKmvwxVRSPde/Q/vnhFyg7t9z9Vds3xuaojwM2IYofwQQJAoX01Q4V1B8CCuofJ9cAhQN9DcjDIbQ/AiZYrVcoUKEBCll+0MPQBwKaZxUZHk/o/UYuiLFyNHEBBVWE7lscdwL/s73fqMwZAjTd2bv/N0b9FexIOznUfQExD0bSx5AzAQdfrLSie/T9djHTo/cq6v6qJo9btLfU/LBpuFseQ6L8iQBth3Y38P0av+BgVJADAEXJ2f7KIFcDnsHEMOccRwAbKF9TPTiFAeO8MobIEFkBMNHqz37kDQIw1mz+faiRAgvnZMn51EsALSAPXVvL5P7SttOl8ciNAqsdRDIodAcDYTcUTCXkXQCOtxTaCMvU/Hbi1VmupCEAbpiOddDZfv8s+ZOTEXiVAZygmJEe9FsCFdL53qfUnQB6bR84cDxjA8/EjJr40H0Dc26wsB4LFv2uPA+kXtyfAPRY8wSK/IMDynnL842H6v0VCcsXhNADA1aSCIblgD0CG2ZYH+7oawKoMkBuXdRFAYZoa5pQBF0APnua9T4ISwOkiP9RyQxVAsPw5ZFEU7j8pRcyNwD8UwOHZrdOahRPA56iMyMBWIkBJ9WkbPYoIwH9Od/PSMABAPbxOBRmSDkC+siLVBZchQO/So2JFPhBAU/wLXfCy9T+hF2anjOkjQDSCjnxjkydAC15X6+3eDUCdD17GpMPkP8xhzF/NjOg/IzsAqBabJEA9C480xwQkQMhOGgYYsBFAScGjPnf5I8Dwc7QoqcL+v5dW+Nrl3vK/gVzj27EHy7+k0qgsVpIlwAsQt65EORZAqcuNRfYIAUDS5dZv5MQgQEDT5aSgVfy/W4F2rQx3GMAP5VTKFLQYwPehCNKZmxPAb4wazo1CEsCPR+ZtYNMDQCkMmRtoXxjAqfBaZwU4GsBmbHCQZ8oZQN7KSw8REus/AfFpaYOKBECjTcFQEUskQEo2OEkcdCNAKk0cSU5AEsBfYy2aJLQWwD6QBETxvSBA57EgTXfoC8BJW6K+tXyGPyqNfbMESvG/tWKHffIBF8AHK243t5sgwA86KN4nYRjAcGvuHsTc9T9UhINqHC7/v2/4ZDW9fAbADZ5Qwpdb9L9roD6SXQ0FQIl2Aw0zpiZAIOeX7R2TFcDENA6NQSAfQKcllwfB1w1AWyczEb2DIMDISr/29jQXQN4eGd1BzRbALLSJnhwTBkDl9vWbymUUwIXqvAP+gCZAZpx/rFRLIEDqpb7oOhsUwPyzlQ4BtRZAXS1vax1t/r+LBRqRYtMXwFCcA9Mlux9ALackr4uaFUAcP5C6AxUdwPgZxZHNrRvACAFKUbbEDEBe+L1irEAUQDk4KVAA5QnAzFHjHveaIkAtWO3lmuP6v6qsDpMsTRJAb4wbuOKPGMAZPENnq7LwP7/fxm+DWB9AStnl+0oUBkChdJ6+l4wQwF4c9u/KxiFANsTnc92wJkB3Qj4AY6AVQKcd8hbJmxTAFFw1dbyZIMDncxmdRzwlwOvYtJmXiyfAl2eNcpgfDMA20LGZHcUgQL7PQ8QzFSFA7INryfXStr8+8H1d6ggUwIuUIgxbfBNA732DEQlOFEDRlefQGmT4v2fpoLK+hPY/f0bsqq4mE8BuIoAyf08WQODRCzz4dwDA1nwIJyjtIsCQVpeUoz8YQKHwCb/XKiNAWcIkKs6s3j+ycQRCsJcSwNwRc+rp+hdArNzWknFpCMBbX9mIqJEhQOTKz7kCbBNAGjiediL2FEApkdhPpUTjP8LtXuuXMw5AKO9qGh4fIMAW8ZxzA4UNwPjSAMXB8hlAwnhDF9maFsC3+k1tF3XVPy4JzKR8Q/2/alAGLTNLC8DHCX43DXkNwMrKKPRwoRxAMzVy8GPsJkCaHxZ5LSYhQM3zFiikChfAaelagIX+DkBnswk6Tr8UwL32dSXc9N4/JsDb4dXJCEA+INXlKpUWwIn6Vi4zqRjA14/yo++zGMBCpR3HvVIXQMNugBMjjhjAF+VuxWPMIMCx9ZYbx18jQGNIxYFwXAdAERDmr0h4FECyF/KF/I4YQOpL+r4ElAtAc6CdxHwuC8BaQ+ss56oTQJp1vmeG+wdAOKrR2MHOHUAkGdAs6KUnwLm/pWfdQB5AWBhHlJ2iG0BeAiAVlC8AwM/l5EfxpxdAUOVsvSroEcD58q1eb7YKQAsPtyoEqxDAxNqFEyH/FsC/I5Wb8VcLwDMCnNFEZiNAuD+8oRALGcCYvUDShg0fQEKxQHkgOCdAdosIZ2yJ8T8vS/AYtO8hQAA3llAVTiBAS6qsSWWIFUA9JcfaWQIbQODxqrosnwVAnbt0US0r9r/35I4loEcmwJlOfoJ4cAZAN6ln8VSjG8Ay4gKY4GIhwCY+PDBervq/kfBKIQxoJcDYB1i+NEUBwIEU2TN+rwpAwm2Fgbn9FcCan0xiCVoHwEdict91jgRAjh1ruAVoCcDn/cuRYnYgQCBoTfIPphJA9IPKEZsFHcANSzpPTWgQQPWXngOkWgfAOnif4Bc/oz99qkkRHf8cwAjmHFh2qQHAsGutJlMeJUD/EeU2pE4GwKKsqqbQ7wRA/eA6C1ZnFMDrtN51+Jnsv1JDjLfxPwfA+d0MkPtw8L9YyrkroPQDQFVy8VyInRtAJh9VFwngIsBEWgI8CNUdQNLT1q3t8vC/xp6qnjseBUB7kxB8y5oCwHwoiAD+dCDAgJQWZ5RNEcCHZvW/EBUaQGQMRTVRzeY/kkL4S8foIEBBnVu3/Sj1P+LLXn9t+gfAq9PQaanrGMCwKgS5368mQFm0xSxglCDAnLxsID2+DUCUnPZv7MggQDamkD4/OP8/U5sK3G0xGcDfW03AnwECwM6Cs2bv7RdA0IJRRzGAIECOi4CS62EYwHS1DRf/hxXAW0YA6EU5G8DelvZXkd4MQGwHELchdhRAgc3BjOvwFsBjd2sTyZEfQLFEluQr1xpAeJHMUp4eIUAaGZYl7B0bwGN8dxXK/w7ADQqGtjlxIMDzZtAUcK4EwOWm3CXdFfo/k7SAtOatCUArHBIHLQgNQH8EuB9xkCJAKE6WL+XR6r8AgGEFse8nQNguyRv8ByZAAzKUPKQ7I8ANr2KQcnUdQFA6VRD7uADAVciXufhH+b8oAh306gAMwApiJBGvkBLAdsLQsl379j+WKzBz3cwhwKbbUdgeXBfA3a+GJIsrJ0B0r18yLJAnwDX8Kt1evQrATMl5OITzAkDk5xnfFwggQEwpMV34/hNAYYiqYKMhH0AD8hWLqEMewPs5Fy63gCLArHDbbu+5FMBfhXRyZUTZvwgBKZPRFRlANVAevLvLDUBOOlXNmKEJQGkA4frjhA/ACbmeSq9XI8BPvws7ScAcwHoA98oTUBZAaPCH2wo74D/np5Y5ytQkQAtohQSz8QJAH10t9vAPDMAnc2ZMcGgjQIjicCnMWQdAoIFucD9eEcBQce8HPV8hQDMfAp6ZHx3AmxYZhtMCEEB/ygqAibnlv7961xT+1wpAb2Pek0UtG0ClRd9QcEIjQCZ2yfajGvw/hSOkqEhD4z9ToAoQeY4XQE7i455bkQVA6bS00pvyDcA7GPP7PRYEQOllhvXa0yFAvgTH2tkzGUBFO5gNnOYOQCpjpwiLFAFAL1S4ko65FMC9EG9Xzprhv1U/Oe99HyVA4ylv8oY8KEAaalcVG0f+v66pMc0xhABAbxYb7AxYEkCPu2JgsAsTwAHOWa1DniFA4+sHFl4A3D9yhtLcfGH8v5QIxEdboCJAL+NpTAz1BEAXIBq97wYTQJAtqXv3wAPAJg/xwTGTEMDUrhgISDz4v+y4uKlO6QdAnuN9E3LTGUC3DMiIVmkSwAlBy1ncVw5AurltxXycBED1FAkWIisCQBc6u/R+Kx/AyOdMkGpV9j/OX+u9DIEUQDS7NFUvv+Q/7i2DSoTnI0D+EtN/Vr7xv3wIb4juO+Y/HN+HtdLb/r+a4d+nugkEQDXG+4jInvg/WKidYtUYE8CUYMUO63QkQGyo5MUk4SBAJie1I2tj9j/pQGQaFb4JwJTnfBaTUSJAxsiGFiX9BEDePqpsiBAmwHpfKL5rQsI/a/9Ojm4LGUCUmWWG8FYfQKahzrnU3fY/VmSZUpRP9b82V+hmR48IwEdhIN/QaSHA1HHFRJXKE0A3J7ePe/snwFLaNPpwWvu/L7K+uNI6J8CiL5V8uaoXwIDY+RpuyiNA6NuAFBzjFUDmP/HqQkMWQJyIbmb6Kvu/zEERYY+MFUCXpz17KuXdvyYv0MLQaR9AIObyDJSWAcDztxdsNfUKQDRvocqPfx3AkNHEQTtUF0BsC0hrkWcgwJQFeKf3vhJAq5k6z8F/HUDHkFGoyb0SwKx9hn84MAZAmJX+/axxIUCaGVRcuLQYwGIi0LAoN/K/A3rpCkuJF0AsWF8JwccnwMZG5UKd+AXAgfUh+qSXGMCg20rM5GYUQGKR5Fj/3yLAWY3gKROGIMAwqysp6LAnQEbdbKudnwZA22xBOHjY77+ITbMHb2EhQDmByoieXhdAvD6xYtCz5T8m70o2udwVQFh2nD9zNhpADPQHOanSAsCyq6tWThTXv7uZgvterBpAM9NFwT6cAMAPu5g5v0EXQFpY9hXOcyZAqJ/jO/d/+T+DHDjftIggwCKxiTsBRRjAWe/yvgycBMAu11Po8P7hv+U4bCxQCyXA1BEf2iWGEsCfKHF85mvvv8xt2FoD9CFAOrM3lzQGBkCxYv4SqzEHQBlTxnAp9Pw/k5A217vAAMAWq+duf8MkQBZxRv8asgZAnLqEDu/v9r9sM8KDyh0VwHTKEa+coBbA1+tZKymyB0CPy0rOgLECwEgqlmCndQBAjfMMMFm/GMCjF394JK32P5XKmrApWCBAXOT09hqlkj/ST0j1XHMeQANEO3S+JbS/Py1FEoCmC8DbpX6FrMUkQErLa3p7vQJAMspa5A20EUByMKAWno4DQK8jExjH3iBAge65LWCEHUCqza7Kvl0eQMbgX+SsKxLAVcqwenzIJsAl11hm62cVQCZ84BSbwSFADXpNP1U4EcBi12nGKwQVwEN4VPmoNyPApNqZ6e9RI0C7R3GPWkgWwIJMjO14pxbA5hytjcRnAkAgblhk3BsjQBib5bjplca/30LsaC97GsBLydW8DZYJwDsGaZKbaPS/4/23PVsZ4z8yErpyzT4iwMKV38FeAR1AQKJGkvs6JECI0jBtbIwfwLU0ZRXWXx7ArK9IK/8DFUAGJx3c5fwgQAtQAdytMiRA+KmeVoU5IMAF1NZPIJYOQCLZjRY55AHAr+5XhW8SI0CwkvaW0Rzsv9Vo2qkqhx1A83xS1oj8FkCgjnBpI0cbQEbP3aS6dBfA3tZ3FNhapT9mUKAIwCAKQAxahaE6VPG/aeHzlAikEsDrbYAeuXAUwKihxXVSVuw/ltS2JIKq8z8ZAH0uYJUSQJV7/ZgZN/6/Eca/FZdCFsCzNIKDyWMSQF77c+K+oQJAPCsm0XR4EcAn+Q1XFQoIwJSZvVf0Xfw/pL9tCRXO1L++6yhqntAVQLq3OVNCCPa/n5omQza6C8AsBsVI5ZYCQFElYJoVrhJA0usSaHBFIEB22wlIq+wUwENuw/Y+VKo/eXqDDb9AD0D7xwS9wa3tP2e2seUyox5AVGabuEj0EcBn07kuspQSwERwpr5l2idA+AUx9KkmI8Bq66hi0NgfQL1DyvUnrRLALNRA8Hoj97/YVkYuvbcQwNcLHgP7OxDAJmQ7H4U/FUCa2SXvibkhwBeMSq3w3B3A5npWLnjH479sL3TfsyDwP90FNu42RCHARmKp2tsRFcDqfr6IylX4v+5pW+yOp98/5QbKx60eJMD6ikj9oJQSwGrzokAp3xzASZZ7eBLyEECj88Mi8+0VQDDYBFip1BRAolXI1tO0HkDgu/3qHIYhwLKaHerF1hFAZxgO0GU5JcD35ykkh/4PQHfDB7USlQ3ALqMZXiWqFEDH4J5hhQwoQIlfQqW85+8/rwwAEDJQ7r8t8Pt6l8wdwNfRlbjnpQ1AfYw104tHI8DDBdDFQNkQwLjmJXE0SBRA6NnogAaoJEAb1YwDps0YwPd1u3bwqg5AnbhaKm0Spj8Go0iSknQBwDf7LaENRRPAmubzHshNDkAdHWw4/bVyvwAKIcRVYALArWlxyvoCI8DQL3p9UzISwIz/0JKMTALAvf2T33ak2D900aZPhaMUwLXI4HvT5SRAIiOgx43jCcBvxYYI2cMkwCXXc0BGE+0/lPr2pTju2j+v5yVEGHHzvx/AOyJM0ArAOBsrKh5HI8D/sjSWvD8BQGqgnnoHDgJA2EyrIahDJ8ADO3QBANwkwOLxXjTWs/G/FXg6HhLV8L929Qe+mBIkwLfUT8z6kSFAj1cbmwBQ8z/HonjhHMgiwK6+HRlDGyTAGY7HuBclJMDRTWRrSiwQQBBgqoG+fCNAwNFT9EA24j/Slb7vHHQOQCZok+eQ2vQ/wKClRkzdCsDbiOHo+Y4NQLVZsQUC7x9AUFk1owKLHsA19189au8dwBmw4Ng5nx3AWLR4Y9X1J8C0fsrox9L1P1Ct6JynHvk/A7PpzUe2IEBaD5QeOFcUQEVok909egpABCrTpgDfD8AIXMKuPyYewH5gVM8CaSFAficx6LIL+z9XDDqukDr8v0mpFZ0zYuo/hnr/psraIEBhtt8j1U/9v4O0dv7JRw/AZrANNX7zJ8D7HcJr25kawPjEee98+RjArrhbtxcG9r9219DW7OIaQNKGwOVpMvi/efevEwSgIEA9+7E50aYCwPbwrDuZ9RlA5GtYpm57FUDJlNmko34kQA0ovMxnHBHAJwXOT6Y+AUBgImnClyEbwF8TDDfb0RHAam4uUbGPEkDvXvZqAbwnQEgvi94mAs+/zaD1eQS/GsA1sahUL+MmQKaqIjTj7hHAkigKpXbdJ0Ca1VbVXxoKQEinIIEUPCdAV11qfNd2BkDKMxL/IjXkv+53h1gwauE/nUDGc9XEDMAHBUqaydMAQL/7kUq/4RVA1Zsv7I/oDUC0kq73QVcUwB78pMK0hSDA962OPjj6/z+lqa7Aw9QGQJ65X0F9NgZAFaAEg+hh4794rbg7HuonwKdZgcO3qxhAzWCDspcCC8Ddq3XuoF4hwI8qogfQqhdAct1hLiurF0C0y/PU/Lj4P5fxbEZleRbAem7CT8Z2AkAP6N7R4w4UQOuKdzxxIg9AeBodVqj4J8DxS7gogFn2P8yJx+YIBxbAVI31hw+L6z+DdDvO45jpP39wj92m+R5AvLapb7z8IUDGEMQWA/UVwLHPgA1aEfa/szM+RqcvHkDL76/1sLwYwFHkC28uUfa/8UZ5pdiCIEBYZxkYA+IYwHhsLq4jARpASz9nslPuA8C76pcFZR0QwL1KdcjXDShAmMlAhNTOFMBSljIjr+UjQLsfPr9clyDAGZw0B/RvEsDku5a1kzEgwC/P2tTgJiHAL3KtspxBIECVgQFzU18fwAoM+wGExgvApkC7pG6W9L85H6EEchgOwITCGX93wCbAe/yPnNHQEkC+KIVw8dURwPpEFemHMyBAD9efnZZR1r8uGifJbJwcwKrJwV5LaCFANLCeXA/x8z/AfF7iV1XJv8ji1F+wiRVA9Okeeuw8EMBec/NFwvAbwJ1PivymvhXAfh6qyLEuAMCvTaWNUKgSwHWK2Aoa1BdAv+iu2k3fC0AH2JhTWiUlQONhw5yBJxrAlREZZtTuCsAljLL+pM0BwEhnP9uELg9A7BtxM7V+HUCH2W7bUH4BwBPpI1T++CBAmSzVBzlYC8AXyrvkYp4OwK/CUcZwegJAXjuWguJxIUDeELBeqmEZQGrOwNxEPeo/n+2tiwM4E8DerxdGy7sPQGMXCKdGGxtAbL1w45MDG8BuXy74N6gMQIXUxKDwtRjAGwPijQXAGMA21QXG56wYwNyKh4rcnhHA9wylQsdaIUABM7EnubAnQNHX+NLB3R1Axuwyo984/7/MFTTT1uT5P5ukfw4wGSDAQSO4K9ozDkCxcECupBQfwM74C2FYaSFAtkkIvsEKG8BwN/J4plcSQF0wAgSdYf6/rXuRU8N3G8DmcWDkhjkLwMZpIWSxofi/gsrPgtGaJECq9RybzpcVwA2gzXv2SChAaCxGhbKPIMBtWMIn09IVwIt39qhxziLAyh/65pTp4j8x2VeLoQn8v2aY3tyzzAFATicyglXX8b+3iQfcxBUnQDBLi4Cn6xLAV4j/V9P/C8CC3oMduSsjwPLy8NSDWsC/hn3sq46DEEClsUr2SusSQAiwuSNRjwTA4BBAN9KnIcBl9CeCfdwcQMWquNzpBfY/Y4dlurK4EMCmW7fBEqYSwPdaG11DE+E/RYO9/wFcyD9e5Ox+K+klwLQ+pdZLDCBAWOaM0MwkHMB+pHVCPOUJwAbqEqVq1CBAfiSfYW06GUANw0sWZTYPQJ+EOFBKmBNAC3JQjEy5IUAJTzh0cFAVQIsBtaP6thLA5ozoWdCZvL/SSrOdUl8gwOtAASrCnyNAO6HDPlkzGEC4ltYFwOTvP4uJ+/2gY7U/TkWjexhkCkBrbbF6d50FQNC6ChJIzRbAuL5Wt150C8D3EHAiSBYiQGkLEEg9xBbAw88bOH/z+L+Y6Lbf5xwoQDrCQ4LVKQhAHsxEw5ALvD8YosZjgv4nQPXbAkYcudq/3hnsukVNCsCiFwLz5mAEwJGn3ODpmyhAtPHlph6gAkBDSzWaPS3kv/A5SlRBtwTAk8M6iyG/4D9NmRVY6LT3vy+6VNPktx1AT1O8IOfDFEDhmXkwJwYZwPXGi6hf9rg/mjYhoyxz8T8YWAv5eZDrPx4HCwo95vY/sea7wK0zI0Ao4kye7QwUwEhQuPw86xLAtUM19qPV9b+AHIm0AX8ZwMKzNc5d1va/8BiYiI5PBUA651RNSvQaQHZZBCCyDiNAg3WjA+8IIECb4RORDzcbQIgCFH/LbhrADprauAHq6L9yacrYHpoSwMYBXgTmXxrAB+MVZ46VGsAm6k+sl6HSP1689DSjURXA6l5XLfPwFUCL2sCBbkcUwOM1j25DVQ7Anwsn7IHn+794nXsdfwkkwKSjJsx4Jh9A7EMLE5OjJ0CqIqTV+zsXwB2AaNbGFhdAVT0M2enJ9T9Csp1I5cIhQIpQ5RwlUyhAkmgEh9hDJ8BiCajAnuslQIE+MMfFvPQ/iyqeIn7qCUC3mHzUS1b3v9rN+20EHw9ABCthezR3BUDNwspYwvEmQO9tg+56B+K/HIZ0Dc/XIEB/raRUySEewIFUH7b6EAJAqgNUCxqgBkDecOXqkX4HwMyoVsE3XOA/CNpdp/GNH0Bx+K8i4Fn8Px4p4Ganq/8/QFJ6F3VgGsArnhEZ/2scwPQWYBwEcxzAGLNJoSpXG0DY9aVa0EUQQONzTWaokRXA4SBJNaLwCEBSnJo8HT/jv2I9VKny0uw/eMTw6S+LFUDCpN6Cl6X/vxmirEhtGRLAXAWSU5ugA0ATPqxhE7EfQOQTi6YZXh7AMuN/QpCpGMB5ulbfWHUWQHl/WPb9gg/AGVF6n6YzE8AQsswZPBkaQAZ4DugXqxLAkeY6vKjlJEAgoC+UkbYNwMEZTP5Q8vQ/Lz0vSl/DIEDn/mtc/bQcQM12wd3m9CfAAERQgowNJ0Bsga+9iYMeQEjTmtd3QRVAHQvJBy+gC0DMx2OASDH2P8xQ+FHsggTAQEanuX/5+T/+7mkln5gdwPm/3XxD3P8/rT3LuRToD8B2ILRgrVsTwHpUkTPeq+E/7ZuoUmmf/r8Hh4mzdoMjQPVkQcm86iJAABjU3xiGGUDo1adR204fQBgJHClRjf4/UoN7ojgoJcDz9cpT5UInwMCkLVJU6BZA+7BgcaY6E8Bg8PQlOk8lwInp7wZMhRFAobYjSEelxj+Lp16VAawcQMVpzrR7KhVAWMEbHMJhFcD+bLVJLvEBwFN0cQxbPRVA74gZbbQcF0AguH2BNz8JwERiHq0XPgRAtiAMua2jF0D54l1iuGsCQHwgv01PjgPAwOgjeAHKDMDmyqrP7WklQAR9Nooqvva/99oAZWbpFUDrT+SxphkHQJ/Tk7aoROE/7CiWoulMFkAvGkeonvEDwCdoDx00Y/i/ga9p+YaXAMC1szJ29FoZQA10G0V3IRZAkCzYiZyBB8D/w0GpX6odQAfBpx5vwRFAlLvECj5+IEBB5/OWKY4VwL/PiVpk4A5AqW5EiLhG0T+g7MkdpjPbPw5tNUnuuCDAiIa+uUpbF0CFBLIaurcnwK5Um1Rnovy/1ZMmZji1AkDFXQDxIjkXwAlMkESUDw/AUBSfyfM+4L8cnWs8h2MgQMZNXl4ROiZA9BrRmam3EcClI9viJPogQHcXYHLh0CRAdEP1PnwAEcDjWmbg8GkOQPdj06eKRBfAPPQv/jicJECKXwAVaWwWQLEh91+Tvw3A8EA3kAVnJcDfOXrBPMsiQGxBTd3/6wHAYebrgfQwJcBE4Lpkw/QPQN/RfIh8uO4/bQVAg7B3CcBS2fVv41EQQAlBFW63s/6/+q3bD8clEEB3MM1djdUQQDpC3GpAmf6/dlbvNq0YIkBkdFHmI+0gQKzNcIFbFwHAZVqzdmOa8T9/9rmVSjQTQLdD1l7zsCdA/FEFQ5+m/r9LpOjlW7r0P3GRyIgk/d4/ZkILUL5Z6r/21KBm61AXwCdcxjh/Fe8/kjv6ko2IH0AnXU5d48cnQAnRIaLSyQjAIhlNNglEFsBdIoH6k5PhP83InAhmHBJAk2SIJtSDAUDfRZOF8VMEwG91WnobxxDAMwInRE4RKEB2Q0SUG77BP32k8igW+SXALxVOy0VNJ0B/HHHFYj0jwGXZhLICNCNAkwpnVWy7/r/GB2nYJrfivyBSo5E4Bh9ACZosyLro4z8Fup8YekIkQGbCZ2ogMvM/KicDlS3IEMBjGp7OigQGQBk97LzYlPg/49NlCDyOIEDMymVH89EYwKRltytNXPU//oGsyVNmIkBVYx9det8RQKt+10PDmxzA8v8jtOqBIMA/096lq0gYwMwfgpQ3Geg/z4qTEc8l4r8Qa3QmfVURwKGD7x1BSAdAwUhemQCE/r/mulIewE//vwLCl+RjKAdAyxhg3B4ZEECHfkCgevcNQDwTyN1m5e+//WdW5XlaIcA5agXa/E75v5C6+05C+cS/FzNv8NIAF8DmflNdZUQMwLVpVPZIQBZAPjmGv19n/z9KA1BSLOIjwMdZMSoYMChAmOYKSq68D8DXcy8jU2MRwJqubyhG0yDApj/f0qMs4j/yPtjjTaYmQJdrJsk8fRxARe3GdT5DH8CtcYzzfr4ewF6tXGtZyfy/adx2THmNDMAZphovG3riPwOYVscSGBtAE7YXa7OYF8AEqHWLPY0SwBgT9DG/vwnAGbpWeeGuBEDzKQBmFE0ZQBLaAAjIrP6/o9UAzV3QCECdKxhbJuMKwNiz3skViCLAeTxHTEHOEsAGuob1A68gQFsUBUhYNQzAuIdCqpBpGUBp7fKxsdL0PzePbfV8bApA8hM66lckJMAHEn7VW70eQL9MDQ39t+E/npGHALf4G0CJsZWmLy7zPyXKvkSsdhvAiz6HbOAK/j940nuTlc7hP83V+0PieyDAIDokM213IUDv2sqGjVDmP6vadAR9nBZA4/QUZPrM2D/XcpTPPWAOwOfuYT36Hx9AY/fNETMIzj8T47KfOgAGwLadzhDY5B1A8hYRssYRJ0AAVqscODkXQOg5wrnHIxhABqa55YK2G8AnL8FKAL4KwEZyAKbJJiTAzhHa7lJgaT8Jhz5713wbQJDRnfheNR9AB6iOMg9i/b+bQqzqPzL8v4su1k9rZw3AYdUcCKZmGcA1m1KeSlcowH+Wx3dvLPe/UnWYwmziFcBLeX8fnYEHwML8CgvWbPW/7iEbvlXAEsB6j2f0UEHlv5Z6gOq1MyZAOeZE7rhTHsBiKVjkQTr1vxvxMnvsGidAjOuHDymE7D8AoXcqIuknwGkY6pFAzhFAG+7jhMIUEcDKxydyA4nWv2lVNebRZxVAsCvbGu1QFkCD03vEROERQGcFL1YP/PU/4sG6lZdaF0C147mKjuoQwHgaURTKRyXAhdzBcyw+xr+ecve42HkSQFrfL4GfyxrAnMbK96Z2AkC8fljdWJAQwIuv6BaiXSdAtLECwfY8H0DR8bqUnDMSQJTk2s2eIxDAZXxk84V8IEDUKWGksZAgwESFX+amgvu/GEfeF5nm6T9gICV1aqsfQCK7+ZTxECdAYDrNjblqCcDcfs9sICAbQJG7YhEDRBtAZ6u7lkjK0T/FvwdSqFMcwKQ/4W6hGh7AkIzLxY7EEMD05WZLuC8WQEzAbBaanhVAMu6atzlbIEBYfY2/2NkPQEsjnFkTxxdAbRegcMOC778/oTNsHlkQQF0N4g7q/idAj8/wzgvJIMDdOZ9bLCAPQOa7UpRIsxNAa4aY3JWYJEC7+PhuRTXgP1CFVOO2lxtA8x3mBL0T6D+yJXrxPWwYwNI4sE4odxdAHFe/XPDXIEBLrJRUYmD1P7AR7HMALxbAiAoltnAUHEBoGKIs0cQgwGwegS/I+RPA170DLHdII0B2DQ4ruHAOwBRUPzZM4RXA/Y5gdU11BMBBZtfWDvYTwLYAoRPzDxFA1Xlu162oD0AQdjmGtfAjwD+KoDH+WhdA1+RDBhyxEUCXLgsatUgkQDC+p0pbyCZA6oC7NWiTIMCnQskKDwgNQNPoeSjNUyXAJYDZgX3S7z9rufgG4K/AvxxQMHan9x1AM2fnyrVDF8AnQXa9cOXwP3ujXLD1rxnAw5R5EkjfJkCsIEWGBoIgwKKbwBNOqRRAkmCmL+9BI8D78U+moFvjP4KwGRmZUxVAfLWZNWQBpr/4v5CRq/UmQC406v5TuAVA0dNi1nf4EUD7RTkRdnAewIg6P/pbvfW/OfefHZdY/r9QlmMBRukdQERcXL/IexhAZ8Jb4Esx8b+Gc9o78GkEQJfdrwhn2PU/+AhavElmEkDKrkArLCHvPxIi/Np9HCDAVjiCmWGCIsA+2ly6V4kjQOHWCRxlEdq/cFFrusPE9T9TlOqBxmoMQABxzaHBTiJAWX7jlyv9CEBGTmP/ZRgRwG8/YcMGjR7AiFWAvCmF5D8BV9YEYikgwFySwDFFPBJA5IBq2Ax+C8DbxUo1jaAnwCDe/lmNFgXAJb95kXDVC0ABpKlwNK0PQJrgZdN95ArAWnDcRabFDUDchfzqE/UjwOgbwGlMjBjAYJQdBVt/AcBybqtsxKQnwMbZ1Io7weO/0xNkZ6zA/z+RObdD9hgawC9xZbjTfhXA9SJUv9COJMBiW/umkg4YwFVclEKGrgJAd42YgrtbHMCphXb18/YVQLmvQejRvPQ/V7Zl2xIW5r81Ezz+KX4VwK4CrOS04QjA/Di3ScC0IEDGPQtKqWfqPwx3DKM81gHA/00+x3rLHkDv3Pz4tKwNQO/OvBrxaSdAQajll0C2IUDV2WKRa4QkQIbeosIvlBzA0R3M9o0ZEUCHbofFBYUHQLsCHv/XAxHAvToOZ+4rAMBiuHZ2KscbQIQBLd6VwxFAN3iFj4pp/r/haUQa2dv1P0VFZfTG0iTAyr96Iu0zDsDm9a+JPQzWv27fwEqQpPG/O31RhyPk9j+QGWuduMIVQMQKioZumCRAEhjcDKAABEBR8La/aiMkwIsLzBkq0h3AB33dc+Pp3T+Jlm/r04YdQFoaad7G+hPAMRdjyF0y5j/bp3IJGO8CQHcR7RKgOyBAdZCNoLZQ57+Y5nJDsM7iP7NUv3GMlhJAG2or7T7CJ8DHStXQZHoKwJKCH3wG9yDASPGXQf/iAsBV0FLSNvMiwNHmGN96nAhAgQKFrrBUA0DqwOTo3FKxP+RXfYnJNRTAZiXCM8oj5z8RZhIeQVYNQHlnSC2rfyLAMWHrx34iCsBLKOSbzQ4DQIMHzruz+h5AYRzPGJShEcCzHOlTefUbQIAVvQqi+SfAqy925Wx/CcCV1hAEW28ewBbjfY8buRdA9X/ypE61GMCLGHKhkn4kQAlO25ZNfgtAtXRnbb8yxb+OAmIUIGETQBGkPgF7zRDArti5FExVCsApv0ZJpJ72P/Q+mHI8KRFAGQlMQAMfJ0DHDThc19fmv1x++kYtuSZAEZFtgb9CJEAQZi+nk6kKQOc8seL1Cus/99B74JSYGUBp183KfEgQQFoJrD09eyhAIhWkaKsHGMDxLRvt40AkwJ04Ze9WGAbAsyYlxbTr5j8EVkszIRMBQFcCVtfBoyJAoCwXV4gl3b9Lt0fmHSMUwBFxQZXkLfc/B/spgPDR+7/QiGVUIB4IwK2U1ZSG4/A/HNCSWbHtB0BQaFeOwBIWwDBHjUqM8xFA1oxSmM+4EsCcz8dug5skwGV+hcRY/RDAeLgKfAukE0ARgcCz7+sYQLKJ0sd3LShAa13KE6XxIcAc40AFIUklwDm6cOwbZhZADTRgkB6rCUDokx30FUkhwEhzWFs59dS/yD+wwnyEIUAgseuM66AnQJYJO2gx0A/AgG18GSPWE0Ak8URw56YXQHDO1GcLPBrATYDmspC1GsByiD9VEbLkP3UR6E7lIgdA0v/t20YWCkCoObXG/rPwv261id4kGf6/pRPndQFHEsAB44VZV6YnwHB2pmND1PM/0GLGpQBLHkDa6SM9GuviP3xEXG42MSXAP+QnlfJKFMB94W6JRi4ewEvE79ebb+4/U+Xpl44LD8Ded3KBjGsPQCZOITCqxf8/iCljfKgGAUDOEy4TC/cgQKr+WLuxqR1AkOYjFzJpCECG1HeTnDEgwOoeCu9ATBLAJVKLpl8MCsB6an4v2wciwPwDCTvmFQtABk3WQEI6IEDDUBpj2Fnuv9lFj28yqRxAz8iwAVQrD8AZxq518GH3P/I9auX1MRlABrQLwlmcH0BiWVYSQFUTwI7PRXzA+tk/KkZJO2uWJMAn6ofoqkv7P0SeAC7DShBAj5fHfvAwI8CKQywsEboTwFye6ibz0yVANC5tBnBw1z9RMGLmePIiQEu84JLcLgNAfH6StBY7HsA47qdMWvMKwAZxwDrzAiXAdQk/+2RQEsAM510ShqH+v6Od14LIoPW/3f2TRqlGJEAR78q6weIVQCGFl88ZgQJAqNtiULkQDMCRVtJX9McdwKL9JKkEYyRAEnuOUd/nCsBoRL+zLcMRQBteEfaSYxdAG+F4JqCqF0C0bmKz9vwdwCjy+HX+LAtAJBgPAFM0HEAzydIL9FMkQLLqFzX8SPc/kxU4wEkkFEBuvB5KLn4TQCtJ3EIPsSJAJx9X+nyAAsBF33K0JSkoQPIQOd2LrQ3AhrITzskxJ0BqnwKJ88sHQEY1CwM7D/y/6xsYiLM9A8AOT+DZtDfhv6OV2sH1cQ/AQyvRAHrhBcDhH1wmduzwvwRp4Ecs5RHAmiDRtkOgJ8B5Q3/s8bbjP/CZxfhDWBvAeP6JgzLND0B8TMJYCxwiQBUK0dxhYg5AYbPCTxuWBED7N/4d2rwVwIPcFHfrkwBAvhYQLH2vJMCVKRKBS6QdwIv/gdHT2Q7Ae3y9ljR+H0A0nW8zsd0TwMyFcXMoqSJAipNRy8nrs79d6RrhHYjiP6V5vN8UsRjAzmCXjsdPD8BjjjnYmCIkwIm4/+bNH/c/akfHcQ/XH0DnRvxMBtsDQAkhU6rI7x3AQfNJnbp6E0DYJxxlv6gOQE06VlwGQRXAIvWqTCfTyz8+yvXDPC8RwKGEEJecOBjAfXb1lpJ0CsBXfLVROWYSwLnfVU9SbQ5AOIFzd1ecIEAmMecGOl4mQKrSeU9BOSBARbUaFjZ4DECeXm8UBYvlvxuFKlFomPQ/+0qMNQvJAsD2AhwVSHsfQMekC28tBBnA91r3QUMsIsDpR99SI6MnwJtT1uMvDAtAfTq9hZmP0L8Oat6oiJT+v9dmbedNDwHAOz8YLz/iHcDFqymrBfclwNKduZAc3CNA4CHiIoIoEkDU+IwePN4jwBROnfsqySdAs8AuxP5bIUACLPnrNG7cv3XbY6GzcR9ALzezZhBaEUDrpzjf9M0GwLLZ7kc7YxRA1so1qhJfF8Bn9h5oH7kewPJwtfmztvu/LV2NUWO0HsCgOqLlJdslQL9hns3ArPM/ronV75hlEcCI5Ko1APwjQP310S6/7SDA+cBnpnPJJEDKSaml2qcZQF/MVdS/vABAzajXsK9YC8CAojqhbHodQDmy5uKGuSZA97ZwppOgzz+0WIdo/SL5vy9oeiH5CyRA81KYVqj1HsDN6bWWErEcQKPUecexsRHA1UEUTM8NEsA4cn4C9nEiwBR6oH5ZUBbAX6IFYtFGFcCmzHC7xUYEQNLY5jgM9xdAO8X1QL+YGMAAKyqDhLoiQOrqJkYFL+E/sBCGjH/5IkDBnrWXCXIawA5RoKTsEwVAEvG6TjKSIsAzwyystzb/P/ZmL1b2qyNAYEvrM+cq7D+rBM8htVMLwFS0kXLrzP8/AhyHaVhK7z85YueBlQbwv9y6sidkPue/5ONXdpM1JsAejOZxLJ4LwAeXVQE28h9AlMIdZPanH0A+SBbLXSq5P4e9ZAS8bMO/lOQ8HoZ68T9gd5BVGxP1P8LUmAqOxhfA85dt+K4vIMDSiR2AtCARwHYZ37CkYBLAS5Q8N+J29L+y8+WcFkUDQG4hyXE52SVAacIn8I3TFsCuqKuWVDUoQJeKneYRGwXAJc2mdfKKJ8AQq0t5+Y8lQEtfol2WfA9AWpG+g/SeGMDGj724SJggQEcQmfqBAhPAKew8qFL7H0CXlRLPYggCwHXgQRhPYBdA6gyoTZ+m5z/LCYeEjgsEQFr9d1P8IwRAggiyhlGRI0DCTs+dkWoewCSlBMKEJSTAGZGkPBENFEDN49OHHVAoQMW/0tSZfQPADd1zHXy1EUC9HePKw5QXwIx4s+m6bfw/CGKh8PtWH0BPcwGGE+IkwMYWJEUIGiFAwx66fJnpFMAWffvpaeC6PxSfyMLL2QzABk9PfpfNJEBfg16Kj4frP7FgpVVZsQrAIxJc8htIGcBzHiqQ6gzlvw3VEXCUPhPA31fvzA+IDEDOntyrtXsPQNORmCZ5IyTADYOWPtiXEcBCVKopHUIZwFLAuPvTIBHAKvwTsRvlIsCkYThU/4UeQIOzQb0wdAnA0dHgDIFNC0DLGe/REGESQFQJ5OL4wRJA5Sy8PmKEJ8Da/uTzA8j7v5qZh3KNrQjAPav7gS0RHcCVvLKQsf8nwNDDDVaSP/u/umBLzf8pEsCbxn/svdYBQEnWzYPZn+W/u+/KDLFdFMDRLfyyWAgAwCk/GKgImQ7A5PSUV629A8BfMrAw2lb8vwB+f5/xpv0/E6P9GDVuD8AlVzxZHtwdwIPGDtF/miPABqM965rzGUBs4t1erHYEQGlLAmZVohxAGTOfNp+lFkAK+BGcoPEjQMlFw5X1seA/BMYJ+TXk9T9kcUI7SSoNQLmBdXYkESZA1MUd3FXIEUCWpjMlQmIhQOv6qFGj3wDA0syNuPt9EsC5OfDZe+URwCj2CvXwkf2/UgEcu/wiJMAr/45ndLcXQFqNCjiYoSLAa7T+yk7zFMBct0H1y4j7v08CqSfYgwFAxAu/CVUn6j9mWEBgmeEEwGDjPcCOaA7ATV0M+D097D8/0TXWah0OwAw/uOJOaiFAkkuMfxZr4r9MXwXkF98GQKcilSz8WRNAp2d0c6oEAcD/nyraeBoJwK9yZHFEOhNAkK4OgK5wIEAn8wbZhzylv0LhMHyyFhJATR6x06/gIEBnpoSzinkXwGXO8b9zxh3AgP/KN5ErEUCSB0yOMtYBQDmJi64/1AdAt9yh4Ll8I8BLTU/CST0mQKU6Lj8hOA/AFaVoR8qbE0CH4Ciy8lkhQPS0WV/yj/6/8U2oCbjlJMDkN3O/z7QWQAep6FMmGANAyUQC828YJEDkhqDkomzgv/89DEwGuR9Ae6wVLeW20b+76SdJ480ZQCYkWFCZL+8/NLFKCbLdIMCeOdrDsu8YwD7GehAEXhLAdJmCBUMLI0B6d8R8OH4VwNdEQbSXdxnA1Ik0bza09L9TpVhPCjLwP6tM9lHBmBFAzlLiJl1d5L8533QefhQbQKS8+mM4jxDAuLleOt0EJMB8qsBvNlgRQHroxp92Yfc/hnn4OefGCUDLHAbQFs8YwAcuDD4cBRFAjH0K1/XyIsCvEGhP0QIXQK2FyHgQEw7AHyZVm7FeCkBdv4qCpJH3Pwn/GMN20x/AsgQ2qv4YIUBgSaiZmjLjP1Fcz4+JohRAsnZ77SakIMCjWqRFmZogwGc36jfEfB1AGcWCcoM7B8AEJdPa7CEAQBtljuPp1BnARG2dC0GdAUBO4LYz2+4GQCmSVhOUWRZAcvjUOKdzBMDerHqUtMsQwFK9qkjoaxZAn7k4LrqTE0Co6OaLuTITwDfJV+Wo2AnAWjjNcdBcKMCz97DyatcmQByavdJHiyNA5VqaF5RDFkB5ai7ItNrtv21l/eRJ1iHAZFWcA4vT+L8cbZknBUQFwIjvPrguByFA0cBEw4JWEsAs/DXmMKzaP4VtGYAdGY8/H4htj4RlIEDnzPEXNWXiv3fhER10/hpA7byuYa36FEBVDQrVSGv1P9A2AyFm7+G/4C7jLf/vBEBWXTCpv7bvP3Hbn6lLPOO/DD9iSM/R/r9rTLGtB7QYwKk0AzTyme0/2RDbFoPFBMCT2w/IovUOQJ8aoQx4SAfArD0VsiivIsDBtwRrZ0MhwJKE4IXhPx3AkP8Xiy5pC8D+Nj3jUcASQP9891DeM3c/u8/rUZLVJEBwAxfouXMHwHy+gWuvZgHADH0FvX7AF0ChI+nP5x8OQPhvSbzZDBDAA3BeNpThDkDDTk8KOEH7v2pAy+rDnRnAY2q9HjrkFMDju5IQOQsjwGwNuoNKvB7AgyIBrctlCcCFdVPkSdoIQJ+UFLwKjB5AjivXDT85A0Caz1FcH+oYQA2yh+trHQ7A0P4rqnFZ/D8dJ14RGfsiwCtbX6YMCv+/upRFc9adJ0Ctun2LlcsRwECRM8vUlx/ARcXhf23Y+j+k5M2gbsgbQCBKxj51HBFA1a21lhex+b9C817dKPAEwI1tnFAhftC/kbARAD9tEUDciwTDvaQPQOlDQtPREOE/JHtBOrL8EsA1shgyntEeQAM/EEnb4xVAI0BL9VVYAsBv3YHckUUhwFr9XlkpCR/Ad9nsnoUVF8BpIYQS8UviP86rd2HNjw/AUROs7fTX7T8ezNRTkHkiQCte5UycBwHA3isz76R2FkCzlmt+TvEjwGZHU+QgPx5AEAq/uAfKA8AkRN2t7oDbPxSrEWeGSRrAtUQ3exSH/L+wKf2RyNkYwKEYIMgGy+Y/4hNn/vU6CECZ+Z2BYj0kwBHfB4yfhwTAZdLpY6mlEcAyB7uzEEX0vxEnpR5r0xnAFwCl9JUpFMAUlUVDpAggQP6HfcwsxCBArVeBbISWGcDkJrEEeusVwDyemMtwqP8/D9IrWfOrIECPcETE47IYwBGqh7YYxg9ADE+/Koa8/7+ndxyVw78fQICgAdY6cBpALwTyun30HECl3PhxVlMIQIH1uKBYPCZAEWn1Ob5mGMDIOel6gngjQC+l0LWwOyhAWZ8k5Zcg+L8EWVKArNwkwCnhu5CkWhzAltm4CzAt7z/XxTnMTJIJQOJBQIeSBPW/0cjWjTrzA0Aik9aBLdXzv7zpgkpCbA/AHDd8kYkCDcD1ZUuhpffMPzAnBRhVKApAd9qkKRJxG0AMHGVo89oJwPKD0FqXfAvAwJL+SSrZGUBlP3Dw6eMewFVBUCrBghTAJZvjzN8OJ0BbRyUpysUXwF+o7c0klSHAXWlPnB0oHsCFdGwnHLIMQNqOpxtJ7hHA8b6eYxW0KEDXvS1rZTknwLvL2IVOXBDAunWBmx65GMB9KM3jltMXQKqcYyf7bvK/AIn6IzejHsCOAjbuLyTtP+0126+sguo/IFsA9ha28L+JRSr7VDknwB5eHB1jzR5AXAaCa2bQGEAcuqwCCx4VwMKit/ajdyfA7202XGkrD0A+tEgyCcoZQB/yZpTbGR3A9F9hbL/4EMDZ/9jdjVkZQBVn3Hg0uOu/1IcnTwWLEECveRDWO4McQOauXNfAyB3AVfAxdzGvGMDog78ZJHsTwJSJfwjv1SHA1sbmyPCsHsBgzqwOcS79P4aKj+13EyHAvk6yyY7yEsAAV28MvOIaQII+3trsox/Au2qlRaJ0J0CavYtZRnYRwGp2xc+kcfs/rk0DHVSSD8CXJbGYwKH/Px1I58hSoBjAURZNl5O6EsCAovhvbX0SQDe5CVsUNibA/QIi0NQWFsCXhtZAtfcJQA7uJCsq8QxAUF3MgS4+DEA5dsjCORAVQFRtFq0ONw1AEQeWEJoGE0BBQ5x6V/kGQC3BXU2cuwBAVtgRlrLsGMAaJ43fVxMXwLsqllNrSyZA3s3RubYU6z/oNhohtU8bwIeQdsk0tCBAPasdlrfnJ8Cwkaf5a4QnwFJXF5oDahhAKJsw+kEPH8D2l8RvT5EgwJa+R7FlMPO/HXqJDyA9DkAGvbUstqwUQIvnzClb8BFAn6mbzIUHE0Dm7E2rkjsnwPWR10gJpx1AEKC7lloyFcB0wA6G40cGQEnBxSjtNx9AW2IkTSf1IED1iOJ6kpbyvw6+PYS0O9G/TVoYJBO0EkAzJGP1JYQeQLqOs7DqJyPA59Kp5ByTGEBf3I0800MjQMvdEdurOh/A84hE5Bs9JMC5bcvMFdckQAqErYsHpBtAUkhZQfjxGkDhHrFMrLQIwFSkt+yTsBFA/hAjYXG3DUAHuXPV6l3/P7yIUHgDWhPA2caUUgAZI8DzEXNzEzzvvwGaNV6nBxfA3CHmi75lqL9wKW6C5JMawCbcbRojQxnA/U1mnfgZH8Dds0sLHekjwInfNhWk1BjATCPF4fMwI8A0wITynJMSwMcNFiCREQpAeqSJCL8G8z+fIgtnDqz2PxyfVTufFBlAgh4o7A6h8z+s3JGt7dzyPzLLXsP3iv8/K8eaSap+GsDx/jafGvH/v8N+d7KbgxVAAnvFkOhODEBbEwh5VLoOwMEJBsm5PyZAN1EdBXQcEEA96sCBi/cdwCVwi39RSRxAKvYeWoYRDMBgp8u8eggTwNXmqP+rXxtA0YbdIqxmD0Cqt/1hUy8jwJCLwjU0ZBdAlDSPhYGsEMBRMFjbfd8DQOtIJH9O8SHARLeaL80CCUCOwctj2p33v4Y15HWgwP+/5BUIlOA39z8QaUB3zMgNQFbyxEuzgRPAM4gRhpsiE0BQ0qFoNc7dP2RciN2ZZfW/QZYfrVNFHMCi/gqS4nfrP5gvDHWNqg9AvIDLE5FnIsCeKdi49UklwAQhv4Xz2iFA7SygS8HqFMBi2hquuuPrP8DX4p9ptiNArQzzZRVJCEAXG7s9nT4nwGHxaE/iqvq/qZXIHUvLHkBf/L8xXuYiQD9EPBRfsArAaFs0CtNcBcA+JQVOfwYLwG7bS8p0o9i/Ecn62kEZIsATNqjGe0MKwE5jt72z+g7AMBVtnKTGI0BErJLjtuUFQGMMl9c1wSTAkNJCCr6DAEAJpPX+A7cOQD4YarCbEBHA+2ndd52bFcBet7bFuj0HwEjMjc+jcydA/cxEixFHCkDA4q8G4SUcQCDaaF8HMCVAJFmIb1X1GEBrbb9CRfEOwD1rsc1Izu4/z3NHxuDgCMAjAtX/zmfpv+fFxgdIZATALCQpi+dEJ8B3z7RtjOIWwCysysKZNRBAq/jKhwycF8CUB+riMyEkwPqmvtvrTRBA3eaEUQFKKECympS0u/wSQL4TnOMseRVA9ZyGW0DvCECVD9oCCRoQQEioYNksbBfALJGRktLz9L+VFk+I6uoKQKVe+yIyvR7AE6suHyonFkDAB8MMyociwBkOZ2vSTJ+/j4TE2OA2GcCmRw9elgAUwAlvlff/nwLA18zrD5BbGMDSXoDm1e8DwIEFSCKbcxZAzJq6NaIpFMBa3tFWrhMTwBpcTxOwCw5AljbIXwGQEEBkyfi5qQMZwMV5bxCPm9K/F2wFuXkWEUBKD410t9sKQHXu1xhjyRrAz46vPFFlJEDbWSyS59viv00WZfRZViHAi+AcvrBYFUBjObXSNc8CQP2hiyZSCQDAnOgnP/xHB0AC9D6IaAkYwOyyPVVDpyhAs3mBJkLd/L+b7E2dCUYnwG/+RpL14BjAhqvp+9azEkAMtOWlIykmQKLsC10LDhvAzCQY/wth/L/yDUYEpPcgQM+J8heHr+Q/MdJunou65z+mcbF1zGUSwEtZXwx31B7Aq0W6i0g+5D/SqCKp79ElQFheEDxaPBxAIm2VwET9B0DX7XlKGJTsv27E3xpvCydARDXd1op5BsAHJS0oxNweQIjZKXFiGBpA4l0XQx5pEUCd7pD+XAcYQNhDjuT5fCVAyq+dy5Z+AsADpW4exl76v44Ngl39riZA0FgqkD7ZEcDta3BTr8gdQJhQ+4TJXiZAbKVVxLKbFkDr4k/cWIjuP1ZN8A0L5w5AZ6qAFKStI8AKUhNNS4oYwOiU9wK0GxjA2nN/ZRv4H8DMSsRXTysoQKcIOEi6vwPAq67XYo0wD8CKkm6Y0P8PQJemMO/s3xpArlmRdLwJ5D8qIPH6Gc/ZP3/vVeHh5BvAKrmMmaTh9b++NFN/Ol//vzV0nTtMeRZAHhlogA0F7z/UgOvmWgsfwLVltYH16RFATk+/aDTeCEBzIM1tATYFQH/FjhVsfyhA2D+5EuFj4L+XAaM3XhkIQGGhcKpHiQ3AT6ODa7Cb8r9AusZZHNcSwI3eCM7GxiDAhoNMCCM9I8AnEdNdWJMfQKQgKCakkCFAt7h8l0TXA0CcYD/bh2AAwLhVauQ8dRnA1BAFNlZFI8A5Ps8RW6QUQApZBzSJ1A7A90ZuCGP0E0B2YR2rqOARQCd5IuCgNvw/p1zWrvpyFUC2OTofNqUZQD3D8dK9gxLACW8GQ3C2DsCf7Teh5Q0hQJheW20paSHArnobUUAz4T/KHnlfKVAFQJpq5LEIkgLA9mzBZTHsGsBhKCYTEwvov2uQn7HHVh9A2G3It6uuCMDHe810FtoYwJOczQvwWRPAunuVQH/SH0AGq7MWGXwbQF597KvKsxrAGgPczrrxGkDFeT2It4QRwKVlpj7jMChANRmHwy9zFcDSqrqoVw3zv278uVvfGArAq0cBT9yDzT+DX87w0YAVQCu4QQc58RRABFDmm95aEUCAam04GGnmvzKtTHJTyhvAjUAUIq9bEcDgcr67B0kbQC4JfIYcOSPAo0+aoWgSGcCwDZhNDgMOQHMlGul3chhA4blWr+WoJ8DSb2AnWMogwO9zTi5dmu2/lBPNRKSwHEDVVeJH+mwFwN/wP+f3JxlAwGyfmxnsG8Cv4wexjKoRwMEGuR6vgSDAnaENpF6QHMAKmcDgPY36PyUN4PxJXBPApD6UkAIKJMBBkRbyYy8mwG1ZfgaYixnAypVW5V0lHsCQNP+jloAAwKDfaQGzOhlA2s+XSS+by78BSdxJ3VYWwFdliLPV5wHA5Y+NOvRLI8A9OpUjt4khwAXtn7PYvhHANoVahOsRCUCX5T0RxLYSwEnIb+O5IgVA8+en6Zfl9z9WrK6zzfTuP0LbZYb/ihnAQUO7AlBoF8BvPOPr7PIRQMqT9hPCkx1AkZYllpBCHcCWKL6YW9sKQJoizi9bC+G/+hJFFRVnCcC90CzX/oD2v7Q5jfYIWChAliNtqnerEsBSmrDHkVTyv/BDeNQx7xLAgc3VuqdQ47+60BmWrf7av5cpOi8JXh7Ap7hYI2dJIUCvJYIrXwDzPz5d8AUfmhhAhdYYz7mLH0BrPDW9l60bQD7YoauYGCTAZIuGG4ezGMBGtdD3oJAgQCcqgbJgPRfAL6YTMyk7F0DRkU12uPYFQM4J5q1BXRtANGmoML4SHMCqB3/JwoofwHEgBaicbiBAStLIbI4+EkAU066QXNYWwB0zjOqiKv2/Y5RDYEcoF8BBSWnPkzHlPyK6/TM3AgrAqy+DSMVRDEDxNbcF35QnQNXcV/z02w7AH6vPfvxvEsAyVwWflWsLQC1ja7OlxQfAhP1d0pSKIcA3Cyoq79ERwPflsm18wyXAe0IIQkgnJMCmgCVJcjEEQG2A9YRHHxRAvDz7xR/+CsDyQvxs/1UawMr8ZAc0wB3AUyGIznI2B0AhvcowUYPlP/EP+vMdaxLAx3PIXRTZJUDwA99Y7vUWwAsFRaIakRTAsjdlhGZUAMAcirby/1gUwN3zFG4O/ek/NBnsXZ59/L/Fmxi49hoPwGLfg1u2LhBAM2iVkOMkDMDhuFEZw2EMQJ1t1aPsqvK/fhlfp4o9F0A5yOB/RaT6v+pNiS36ARXAf76RtYJO8b/tcV6GqiASwAPGwQt8mvY/swZqRXamGsBBaMVirb4WwPIm1mb3xwjAGPFSI060HcBE4NvK7FoMQEQYBvf8DCLAhGWl2zsd1L9OLLNOJf0QQCJCN3vQkQ/Aqv5LWJRwGcCVIJhagfEjwLlTu//aaxhAywPQSxCJFcDCSH21ly0SwNQKRiW0gSFA80Fuc9cOIkDit4VSr3cewHAAivxg3xdAsWcA1JgiGkBDczzf8toewIYBlFTsExnAFWONwFrCFUB4ys9190TWv04z5LHcffm/JSgEsvWnGMCRYWcDqoTyP5e5rZApCBPAqCfviFbdDsAsus0ibSckwPaI/XfOmg1A56x84Mtq/D+hvILCiQX2v0Iym9lKBSBAVxEVxYp0J0Dy/QPGK0IiQFTBLf8/myZAsJ2bWkUiDsDzZR0rUTMSwIu8upFr1R9AvKpoh7Z7GMA54FKnTQ4KwHEv1qFJWhfAxmAf01ym+b+ygDVx8q0PQKIOmAZMJCTAAjbJEmCVCsAl1lWh2PwGQF8039P40xfAuz2/FBxbE8DCGs3utm4PwPysUysD0xRAzWJlMpOO9j+RrbIWGmggwBaA8JkiPSBAZh6UuwOsEEC6FRzPWsUjQMOQGHaI6yZAx8a0wBmwAUDiOc4BN4H5vzjvCgMcD8K/dfK7KtSP+D8/NV57hWgDwGFYGuuoo/E/LGWWOsWFDkCzrwwzI9AUQD2NEMgK6ydAR3G1svGC7j9GMJCw0c8fwP/vwvkiOfa/rxhx+/dz+r+KXSmlVLPxv+pKQ81RdiBAdABEKa4mI0D37hP7RHv7P4tclIsksf2/Quw12734EUBJgoifWmXgP1t2MBLR6RHAUahmrAlKJMAF6HR0jyEMwDBK4FP94RPAihCZ0YBl5r9deMSCJvUdQCIvWtFrtxTAkqow7/36J8CYgDCwg+kUQCzFFwlmmxZApuFepI96HsDFAw/cakQowIFvkR2hNQXA4CM8qLSWDsDPjJ24wAoWwP2FESu08xjAP40lLgllEECmy2PjuLsOQHcMGtSsOSJAA6DOb5/tGsCTPXh4v6ofwOsxVrd/leY/rXbDJg3BGUABbfzM740gwF4Ktu0DayJAVPvx6mC2FEBAYRMQk74fwLd3SDlzZ/m/S7glyBvMGcD5vaVq8voKwEBOrzOzTBjAGOQ/Z4QCGcBQJLwd6Xr2P93q/lbX0hRAZ6rocTBuF8AuOU5Zc6AbQEaroL8iw/Y//atVmzc5JECi3uTCuG32Pw2JqBVPJyTARSK1Wqm27j81x8b7p64RQD84hxXh6yJAt35bSwaCIMAO6fKaubofQBS3CAp+1yRAXaxW1ZtJJ0CIyhioU/UOwOWEoTLr4A7ALS5jvGloGMAYtu9sXXQLQFJNMq3bhhHA3vafYwfYH0DQzu/tqo4AQLP3yKqIUQxAQZ+pzNitEEA1AvIJT8jzP3zqP44Q/xjAOs+p94AJGUAdyQs7ahUFwNsKUfYIRB9A7SHy1IhUyj+SME6m8IUcwPkbIngVBAZAk88N0G9pB8Dg+B3BCnEKQHWkhpWX3hFAvYXRrLdqBMAbmvaLyLscwBiAVMDoxSFAKdXqLPDiGcB+fniLF4gkQAZjeKyIyAXAZjzcwfKdG0CX50AzgCIkwIR2TcPVLfW/1vju8PDrCcDfHFcFYI0PwGNHTgmOMSbA6Iamv7lhDMBlqZ/JPLMDQLTE8Htj9RFAnchrBcpgEEC8BOaRfH0oQMhGcuifoxZAD8Z7pBbhFMB0cPnh7UcVwI+hNYg+wQhA2RZhGrBU/b/iK4c3KAIbwLBfaIvzfhTAoUFo55SSFsAS6fMpeToRwOULAhO+gxtAsVLyP+U9HsCJw62SdxzwP0tjl3tMdeC/MhCQWFua4L95jgKRmasPQM5sMjhjZBhA70Sydx5e9D/eMm1l3rQgQL0LWDI6se+/1X76Qbce5T+AsnFBMSYkwFVdTQWHSRvAJKEEVbP+IkDHBsZFvWIjQAzIfqHUlxJAmWp0nTfcJkDvaGQH/HYbwMKSW3NQ4PY/SVqi4jAIA8CBYf0Yyv0jQF6o8oWyURTAiKXkXckSJUApvJU7bRkSwANo0EnCeBnAPY4NejJTI8BrXjjVlN0WQJT1viXxeALAMyFkeFsx+79W0lJ3L18WwOup4WKgcB9AKYUAq0VLFEDCV/Cx92oGwB75RFKzHOe/YbSd4rWa/r+iQ0+jnHfuP8XbItwjhda/C2aAIkRfDcCGjdgVGjQRQNma4oqrqxFAbL+IfAUK/L+1ExZQpMEeQNNUazAVePo/GDuUrucT/D9/ossqF6QbQIM8byR898U/IBtqb3q25D9+MS7yvnsdQExq4nkWMBbAYHK8ro3/GcAKeMJ+JKgHwAqezfF+gANAnjeqcw8KA0DWEwCAaaLqP+H+OF+KLBfAcUnlUovn6D/4ow/fK/gAwJ6kvwN15R1A0B3VpZaUAMCO9p2gbkQnwErt5vtOqA5Al2sB0m5HE0BMgnacfX0kQGT52KrVLhdAiybX24JqCkB0AlObqDcAQJil4JVOmhFAOZF3Ruvq9L/YylQj9+QgQM5kg8eCvBNAqgcx9Tn+IcD1P4NBFsMIQDXoTfdGVPk/hMe6PokK9r+YGokOlJUaQPvGSq+OZiVAFGR9BejVHsDuxiITS8Tev46F+6EE8SFAKl2FPGbzHUAehajGiGS8vzIySDwVRCBAPFPVZ2lAF8DrRkge6vz9P4gnZs6M0RBAEODOdEg8H0D7BH1jymcfwFqlOYJVoidA0gljFjj9DcAffztrEaEDwItYiw5ohhRADfXu+4Jn6L9RVw0IfEUnwFOMpzDTFxJA1YiyWv4ZHsA4TZV5B7kUQAWLGGG+9hlApgezDgsJCMAxYseIToUFwLRnC82xQhbAnoWzrSq6IUDzYnm+dYMUQDsBNUBdxAlA+nypJPtbE0AiAqdS5CwSwOfQVDT/xg1Au3759SMC4j8hSGZuUTIkwHIIdIs/Kf+/t4CSWDIkFkDiF2ngnUYYQKRdSH5BtgRASIqkWD+tGUDzFES1eBEfwN6pTfI9HSTALwMJLhdyHEBfU+gIqhDQv6XfR9m/qP6/hC/paqlSBMCKOk+InJQTQNs41qqCTRRA6gsUqH84J0CBwWi8pfceQMBszIR6lAVAyxx8Y/3f/L+Opw9OFHjpPxwCQXBukQrAezwyEowJCsAlUSdOpyckwBlIcwu9Sh/A+wIQp1QiDUAdcbLoxaMiQBN4mC0EcBrAQKVR2xg09D99GM2YiaQeQPjpXeynrBbAMQF0ENAnG0AD6MOvfaIhQCqQm/duMArAhaRZh/JrH0Ad78vLm6UaQMBf0APpQxzANtXCs8DB8L8TYUlpeowZQIlALVLRkBxAuUQBTgR9AcA1Yl9OVXYNwJrnqdMdqRFA4pWcrU6FBUAOJ6lEjTUnwFuh9ip+ZBvA20ygEcHu/r/tJ50fdTcFQMcW2j2aox1AWx+DbX6wIcALizXha48awJu4cS+T/ifAGVTxSAWr/z/27Fam+SL5v7wtBgBSshJADc4ybQv5G0DYZjhSOrEiwEYyVahf/yTA30rb5APzJcD0AkIWdA8lwMLFY2snYiXA7bXd2uDlJkA3mU6XOYvxvwJl8J61l6e/LBKvOJj6JcBKnxnSR2cLQJ7o+WtwpQ5AvhZTRmRaDMBR77XN4kYPwFXS1+NGVgtAB/7s0nvhJkDMhmXjS2MWwD1s9cRxU/Q/v6hqAhqe6D+SxiBiZvwMQDIy42xdehjAfoaBktslFcCXXGD2srYRQDLpaEcYsPO/XB0Sh2YIIkAZncfrhw0RQLpSXrPTntk/vC29lta9HEBQzU3a3lkawEq2LMbfWgXAPfHP7vPtEMAJHc3rJxEdwCOG6Os6RB7AgwLVkZcyE8CSMH+Hn6EiQP3Wqh+83xPAegAYInb7JECtOkeD4zMewK7lx49vWSHA4dLzNRA1IEBIVzw6lgwYQAQ4uCeoBhTALGv3jG37J8Ds54C2K77+v9VWU2kfUxxA6rLNu4g+6T+cAZhgxu0YwPtR954+jhZARjU16wL0D8Dkn76H4JwcQDiBLMHICu0/FDHSHdCXHMDlE4K/LYAPwI2hrPV/pQlAOM+QipwyJMCV2Di/36ocwG3lIi9H+RFA06j3MUgEEMDCG8ArwKQKwIrbAt4wySBAvotOl+HOEEC5s/3XmBsWQOF/KRd4FBdA1Txdep/XGMB8J3UDTfQXwF0a/cZWYQfAIj527U5nGMCFAeZzSsnlv/zbbbSK1fK/lYhLk7iIG0DaBOpPZ2S/vzxA5BLDo/q/np9gqN+gFUASyZi2x4cMQLhAKKOoZO8/+cDToFabCcDtQIj1RQEUwJ/nMkHHRSfAMcvoOZr94T+ior/nLoADQB636igQQ/A/h5jYpg4Z/L8CsV/uI40jQO0y7OzYURBAVHAeKrr4E8Cmgu1L98UmQLqyzW2vKvC/Q2KSIq33HEAKNe2EskoUQKYVNwarthXA5tVwUOvLIsAQpX6OJEb8v6ynvZiPGBzA5z0/jsLgA8DmIYKVy5QBwP1Na+fnUf2/tXvNebAW7T/iHtWo41UTwBVfm+DG5RNAMO0x7FhEFEBQAy7j6vIQwKAwNWb2sx5ATSr9pPFzG8Do6nyd6yPwPzg4Lfo8OgRAaBVBPS3gBUCDIfUKCw4PwJcBeSwg0wJABsa1wSftDsCyPgVeisoEwPOYIze7ASZANa486Txa6T8mByl/KfUEwEDXp8sD+QnABZhAl8KzGUDPJpi3sDfAv+K7qPRd/RbAUXG/xASaFkBMktrhO+4hwGNFS5536yHAcOVMojtl3z8uYsSh34UMQHnrNKv32SbAu41PyA+7J8BammldWIwCQB/8rY7h1cG/UFcnk86BEsCwqfaxD3D9v4GfJFTKAPw/o1gGNlttCcCtMf1utGQRwIZxTOtOJgdAOkOEBcJ8HsDopHCwqDsiwGVOalX9yARAuSZpngSU/b/qV5pDzo/hv6rFvZ0r4yVAp/SCm1LNGMA+wDu47uX9v5BICgDfBB9AfZffByh8IECia/TahDEdQL4ei+mbyRzAknynjXCRDsAVpw/W1FQTwCzq545AEA/AbjGKbSMyEkAGAE/b5dMZQEDQwNvyORFAibHdmzPSEkAvHLceqp8ewCg8d5rmOyFANsPLRBQmJMA5pUK7g1Hiv0uwWaI+WhHAPZXruTU/BcDe6hjP/QcSQK6cPtMgT/C/abN0HPNC4D+1rCismlPwP0T8Jiboo/6/qPb6CZShCsA1UOK5tTIdwB6erXlBoCfA0m9YDkItJcCTol2TtGIgQL2vWkm3MhfAnBXyoWnREMAJ54cVx+7hv7vSsNcf1AHA2CX5moJNDkC03NvUFwPiP355lNc08ey/KLUKGGOfAEBCoSiTP4wCwGQzufO8lhzAbE/+8G5CE8CvGJNIyukGwGFzx/QoFwzAgyGqwwUeGECc9YfxVhkVwD4FCLCUUBDAWWLr5O+++b/TRhIpybwQwDLZWgrvQRtAwalz6VUkAUB2cfCpO9IGQOqyBvvtehVAu+0xlCFPH0CD7IK7oL8BQPtqT73aRQrACsibJM44FsBKCnC9KxsTwPVehYhf6BdA5uUzjkFeE8BdwjwzDx8RwF2EqsT1iOW/TIzCm4Y8I8CdrFpUt5UUwHUWL7zobwVATVbFYlcHG8DES+lDtez+P1VvYtLqgPs/g/Kgea5pI8C1MkdIkUURwDaWmbbSZxtAzlZsApHfG8BNVw8GFTEEwHQpf0Bz1RXApQbMmTF5B0AOk370QfQNQBug7Fjd7yNAUrZuj+HqGcDVIYDTPpEVQCgEAjTaoQTAo4uQTU27378Ya+lkHgUPQIsOD2CcZBHAuv/cipcfJMD8xoVWkygJwLYAPF394A1AIKic7RzJIEABZJFCQOoiwP2X6ENiHyTAsABZ+w3GAkB8mZFfjQLJP2ryvJjySB9AJdl6usSjAUC6raPL0osfQEBwuMG2nRdABtZB0huFE0CN9sba6hLeP1gAisd4KCNAoa9Ijdc8+z9H8xVba4UWQNIjhIiYUgtA/m7/Qqk4GUA5uxaTG7QiQFX71NnmBxTA6mao5JweEED9pvbx+wP3P4hczszxRu8/7XgTnZM5HkCbsd07Yg4kwAdXumljOyLAj9VinKICzD/wjCKQbUMfQBzJdh0+JCTAOdzFufmj7z+LLzxS7CTZP7c07ZqWM/4/TIFeDPk6G8CZTTXxrEsLwIVmZp4VnxhAEUTHv1QjDsBbsZdCuDIdwFFm6oz+mgFAjUZWQlOtEcD4vionAPoOQNvtiyN1BCBAXqG9ZctI7z8E6XgzFhwjwCkchG+hxbW/j60p9llfF0AmyeHPTe7+vzXtRUORUCHASbLDHR6PE0Aa50Asi53BP82ruMBJexhA3TrrY9um5j9zcXkVeLnVv7cM2HETsuC/s72PuO2XAMDp2MUtJUcgwJd9d06GexFAZtJiqrnX3r818qN/RI8RwM58NAQ9wABAOs96iu0l/b9qNuGOQeAfwNwj0MR+ACXAWzrew0pHGMA37d6tqkQQwIqUTkrxGPo/pV+H56ItJMAgg/2SL2YfwEguHdtBgw1ANKYjRWW/A8DYtyy2W70MwL/BJfEZbBPA9BOeVLhVE8DEWvWfPKcRQMR+lfNa+uE/IRdm4g3B5L8nJ2GlNQkkwDg8W+T3NQ7AxAV/A8viAMBUI9dTUlL2v9XQHxsu2AdAG+dBJILBIEDTw//xM8oSQEVdITJq4xlAxQNPGNML7z94DkQ/oo0jQPkRCT9q1QDA3q556N0sG0DMJIjne28cQFmgvfnd1RvAFkJL9RCHFsCPl+gjd77Kv8cSiQshJhhAC9BK9o0d97+Z5uMGYVogwHCqP4dnVQnAwQD/jLLMBcBMlSwhqzomwLOlVZxDOhfAgoMPSx9U8b8r2M8w+fEOQOG6Ypiu+yVA4Vfu7BsOFUCh/DzTFkwMQEkoYUL6P/a/5AuKuRrSI0DzcHgM5ioBwB/TwidktRfABX6QOF0PEEDWCTfEZjkKQMLEnUXD+SVAsDYrUSbPEUArh62u0U0nQMzDa0C5jvI/uJnp8tRjH0DsdQ8FqYYSQGuTkaIhPOU/tRskja0T4z8f1RKjYNskwG4iUEU1nRjAqKrcfaoBEkA5Ua0mI0Dov6h4tfY85BxAdloo9KNSBUCvncPZ3cAnQLJYrpr2uhbAId/mnMrSCED06uYg/tMQwLBlQPSVjBFA0nqlsB5CH0Bl4V7DxMUHwHLsuoKAvAJAgc40XGYSCMA5Gx9vd9gHwDLi+r7T9iVA6BAUDxuvHkDuYKRRD7wWQHMGRbB5TP+/jua1FFLwEMAD0/ORAUIYQGAPS48fSx3AiADdwhPQIMDHw8vUgAoQQEebuKWKsCBAUnWrSdDo0T+o64TMa9QgQOS2NFiteyTA7kDB8P0h9r/mHsPVvyQIQBwYKeo2riLA346EpNLPEcDiLOBU7BQDQGyHNQ+XqCdATAJh6fEsJMDbRXaRtWkRQIfO0F9gugDADavjpm57+7/UgcJ4znIPwOTNjeINEhLA8VjBOp5XI8DB+7Gr9HMaQD1/vuZ8oRPAQ8yIqiNLHUBxiEg72P4nwBIRetcDAOi/5jT2GnZ2J0BXfC3lVFcgwLBqM6YYUSBApdv2HL9dJUAQkEdIpPHovzaA553P6hXAD4rUrBzu4r+R+LqG/EgQQPhYayYiRSfAkXENSG0NIcBYXEzqbQwlwGkhDQ6xLgtAYioMOa1hIsBtSNZUVlMRQGtxmdYfVPa/WibR9hBQ+7/7MGuWaV4OQOUkPOa3GwpAB/vAK9tYG0DxltkhdFcPwDNcxdD8XANAW9a6hTlIIcDSfXojYecbwCC9JKqVAxJAA34dbymO6L+7xIOjY4IFwG8rYJGk1BnACq6lSMhUEcBxHR7thxciwOIqnKqZIxTA/oe1LyZU8b9h7FrlCYURQM/g6K6ayxlA8SvOWRkpFkBmXDJIgzYlwC/ugLlwzhHAZ4swb5VDJ0DD13P8GboMQMBloKQWMihA/uMusy70+D/gpB1RhtIWQL9eaSxagPM/dLDKK8oP4D8XKRVyxBABwEhJfxVFqhtA5qvyOrmKIED8Tar02Y0hQBEefmq07Oq/bhCaoRhuIkCwz88+DaT6PwRJWf5/JyZA0/6PkUxA9T9V78DzfiAkwHv12o2ZgAPAMC6Q25hZ/L/YngNc7RAfwFaDkcUKWSDATnIJ3ajjvb/8YrMW6AkPwBPau9/nQhHAWT8XYtKxJEBj2o4X0ZwKwF+kK8DZhhhAzMyNAZKx8r8ITgq8W94HQLTfWcyadhRADG3XxF7g/L8ijcOtmZHiv3rB1oguPfy/I6MZX5UaAMCwI0HjDwEmQPOLIAZHQRPAzIb5M2fE9j+YrveeDfsnwC0SfygiGBJAp3npqHUuHMBwxiZrKX4eQO2aWG6mrRlAwSCHioRmJcAx2ZQFJoYoQAc4jrxtAxfAYen7tVXmIUABeiYA9VffP+T1XAqX5wjA3CVRFcOhFUALCc+RTqQZQKxSlGGSvyNACqYpU+tWC0AXUSJOZKYlwHin7CyHygHA7CnB6JMhJMB8t7zMKawnwJFGBR+S1BBAkLeLJeQ8I8ARwvmzBo0JwMjtvmaVHBjADoKw0iyaI0C+gVSlq8ceQGzH6YYF8xLACCrCdPXjIEArGSyDkG4gQHuspW7+LyhAu0Ojq238E8DcSeAMgfcZQKANc7efGiRAY3NPda4vKEDttoyOBcwSQNOhKWEnxiFAa2Up2MMiEUDTdLmSV9/gPyUdmkGZmRhAF0dg+YKoyj8B7p8zrxsWQG8yvIlOJCTArWc+ak8G6D/1tH3FxrARwFKp9QGr7hDAOfqVNm4mGUCu6VrURTYIQM5azLjqRR5Ab3oUV5idEsCMg+EGMSTBv0xgYDU36xBAMrolbrUz+7/pdXsV+9wbwIw8syg/hSFAGYZiSzmrD8Axr6OMBm4WwCMnkETcR/i/qBGBHnHfIECVsuhrttQXwK1P4RBNPSPAZyh9woisCsDrQmCOMXIGwPN6jax30SBA30a3qF5R9D9DaC7z9N0RwB5U2+huxxrAgORD3mwwI8D/Jso5ttcIQIGjlFfptgfAkRRgFOUbEUAcGtEEW0rVv4weLpGM5+k/GTLxt76FFMAGMXJ23aYdQJUHUaULeB1AyuCu2dXEE0CRXqZfLfIXwFXhR4USyOu/MVtyxHVoJMDu1U5z6bb2P5NAqb5YqPQ/DUy4d8dOFEA6QlUlXgwZQBpsfxgRj+8/nCTyl0YLEUDE1DBNnnwNwKmf0jkbGhrAs8i6lX9u7D+Pv0ais2YLwKsHg1UErRLARR2WnfLfD0BoqBLbx4kawBpSal7PBiBA4xYqaNCt4L/JKBlj5CUPwAhlovp/qiTA4ykVoDzRF8DeyaJamKIHQI8qyMG8p/O/YiTgMSphIECIrrJu3xzhP6wVK+mMISTA+/jKI//MJMB1mDK5CA8iQMFTfYTfWdI/eHAeCd7S0T/YIJ/6DPQDwAShULtZrv6/Wsoa8/se6L+xSkkB++wTwGEyncfi7gNAO8KsPN7cCEBn0Am0aWMEQBtft/tz0fm/HveNLdgoIcDz5qyIWksTwPMnrCNAkh7A+6OPj68pEEC+aLP/rMMYwBGpk6JcOOe/n5SaqBgFE0DUZaqCCXEYwLduRvI+IiBA+vRPv9IXE8DSFuRhCDDvv6RwLOGqE+a/ZVnLBbcGH8DUP7RYoxARwAxu6NiF9Ow//87gKvtJIcCGJ70jqBsewNBWhfEDxuw/HDgH4dRWFUACasmGGwzuP8tePg4s3N0/86oopBjJ/D+JdTfjjSsjwA1h/DCBQh9ATwXY/EarJ0DiEOgNkD8dQKE2ERD+jhVAxdNjQ0yQBEC8TAN/Vp4kwB/qfLVUNh5AVJ9O5nWQGMB3iwxXbsURwLVVw4IrV/6/CkIvDVZzEEBywwuAAmwZQOTi33A6pPU/pINNFPxr/r8oyeEWs78kQGbIedclHhdAYOGxll0hJkBC6MfBcFcdQLH+z0R2VMg/16oVHsTWA0BT57WQq9eiPwfwIy+Nrg/AbwTI09BCIsCD6PI4BbILwMfej4bGlB5AEaWrv5965D+ip6cOO28mQKBYYIQn0xxAN6xP0o8lA0BG57Ls6coQQBggo6pm/hfAXi2bma2LDsCjBiutv3gFQP93f8ekgSdAssbMOFDiJkAa1KsFzUv5v8sXGKXwtfI/dIT3NwHa7L+7MtJsQGIjQO4pEaN/1B5AFBMFpvXpE0DmnkID3Zz6v2jqAliuJxvAWjWzwkk3FcB5BziAGoAgwJnblagCthdAOpZfctp/HsDw0pQ9u8kWwLcFIrq1ExBAoPBsDhlfI0DV8HBxgT0jwOLZRVmtXBfA3lv/PP+2DsD9j3y87FoUQGlhnuhu8RLACLgJ+/5uIMDhKpSCJCwiQOsTbUctP/E/dwco3xn8IECPjJZQUrIOQGo+gXgylAdApDHeFKBbAsDDPL1BptIjwLFoSQtVURfALP4sGktTGkDN/2uK+DsVwD2N4jQbnBPALAM4oW9OFcBCzdguXickwPFdZybaKPO/Os4XIW1QGsB5yBkPNlkkQA8OpeOkfiJAxuMs+iaWHcCNZ5kJOywoQEsszSyEAgLAqC8pDd5TGcCtXa7ExqYhQOdGhgtfuec/HcfCwlW5IEB1eDQHgxUYQNN6suy+0idAnJvnmhaHxT+vgISrpWb/vx+E/2GQnBlAuqgjbH+0E0CAdpZfr4r7v1AP0c7qmBFAkbrdcLn+JUBeV/twnuslwEleHn1H9SFAXQd/60nHJECvgCZ/J3sEwE9Ihfrk0LE/I7vCNs/TGsCgXpSYtO0YwI9Cp5Ni0SFAqxyAIkIAB0BS2mUIaQsiwD8zLqQv0+Q/m0UGDXp/EUD5mEx+Q1gJQADsQEiO/RzA9Ojvyt5FIUCPmi2eiUcGwG9DyC9ZjA1AJio4dQmh9j9jvAgR7xzbv9+rHUNhFxTAjttqgSl38r8DrWuCB/8nwHNnmlhEsghApeEzGQHdF8DnIMZVC9YSwJRIp/5S2B5AEh6WO+ZEAMAjKiqT1Bz9vxWZjoQ1RA/ABx7Z+g4cEkCmztlbZ5khwITzToLs+ifAcdXS9ZiT579wF4MDDHcQQC0g7lLBhRrADBmRleM2F8DmV+uUUv0TQC1WbF/TyhfAV5Q3tXMmJMBiP69vfq/hPxozYWKvjhrAQuQpTcpcIcCBZm979an7v+h5y82OgyVA6CRHaBEeGsDH2BPaScsnwPVpTGadRANAy1kK8tddCUAFuGIFvc0VQC2M8j/cWBFAJFGlS+FiIEDtCoGHrswYwJyIBAfuX/a/cZ/F3GEsG0AqApe9NKomQNcMCcWyhfS/QN+RDoO9AcDvMYoWJu7yP4eQHsvsfCPAVhQXjopF2T8saLCazibgP2qyIOyFsCJA1MXc8QYl6b9evTYPdA0VQIeqw9Hc4hnAATl5/Xn8F8A9a7Xmc1MfQHwZAetn3xjAn6W3uwRw/79U8c1WWDsaQLXvYOe95SVAnDgQjDVL7T/xv2WWwJkgwBNzDzDDruy/vrKG1WUwHsAOU8FBRiP1v/QhUnzNnhjAWMlpj/FZH8Bc8gLQlwgGQLJMeXtLbyDAgBC4Gv0MJsDN0j3ilScoQHWV3OaDbO8/f8BICQ5pIcDQ7WXTviIcwGikSxsKatA/Vjn7As8KGkAI8ofTlR4DQD7S1oCD+BzAAIbKNUs4BcB5W9y7fMQbQMYZVCX2EidAfOykBxFbC0BwLqclcA0IwMeBX+bWT8c/yZPNU55rFUCZgKVOqw4HwHOTLBJnLiZA2ifmmJz0J0AxRx1b+50jQAd+KowZB/m/9Z0JSUu2+D++WKxv8eogQO65RZCCFxxAVxyKMO7AFkDa/d7IjNYlwNn8prK/ngpAplYTiE9YKEBFMV7f7SsiQC9H0tm/MBdAXaxvNT9H8D/+gZ+oivMiwMg9Fz02k/I/+sBgInAO7z9bXQx3wxL7vxjLbD9d6yFAObGob8lKJMCFTSZ6PJLtP30GjhoBBiLADaDi3KgxE8DXwUxVEuwVQIX3UoMvEBjAe0Pr9ojJGMBjtG02Iyj3P2KQIyBHJhHAQiswvZziIMDLRtsRbTH2P5iOJ7HTcPs/a45AXgtZE8A39Tu1SoMhQNx7S1XWPiJAReCM5Ihh4r9AFyEk+B0kwMYxmci6jBrArg0QqNBqFUDbRxdzAuYOwLW92Lo6wwRAgrlJx6lcF8DIHIKNzPoUwJW5FcAZ6BBA6Zjk5ZnTGMBHjiIn0yYkwB3PRWx7pCZAhYDh21ys4b/7xDCjaR8XQBWAljZapxbA3uARbUAg9T9T7MfNo/D0P4QeQXJZcidAqwln09mWFkCk2e8C0b/nvzN8jGt5mRdAoe0OFT03BcDPqdNaIQ8dQJ2ut26oK8a/hsjMbNsg7j+Td7ebR48XwCYnbEGrbhFAo7S1TeX0I8Bf5F1Sc3cQQMLEpfWLNyhAHItMmqsaFMBf9mKKvFsWQKPOHE0Q7fK/ozQrksPkJUATlIXXEJ4nQCkspbOqXRzAu8ZSszhFJ8Ds4SirvywKwESlvJ/EExzA1cTvU/kuBMA7gbKnAMQNQFMxFHDvPPG/YELokj4wHsAwtaOvZM4IwP1FOd80nQ3AvY68eOi0/r/zusUzt6YYwPERyQlVheM/3ZIEq3eyJcCJQPKCaCUQQDZABnge+x3AghlIqXI+6D/vob+7CmrsPyLg5qzhxR5ARnl4dEoZI8CxK6YXV+MeQBpnRVHqIyRAX3oeElNCIEDJcnqxw+/hv5k0mM575yFA0UOAGG3yF0BzTb32nnAOQBYFpcbiuxPAqTTl/mYeJ0BcA3ZC7FUlwNaSYIF5rBFAkXHB2DOvG8BaxcD/SkKzv8fYPWpr5QhAJ6ZfRRBpJEDJe8uJDRwlQLRunHzXSSNAVpfEy+YPHEAwHjcDtMgWwEVvBDDYfwRACeFhPAGWJkBNvHQn/vwnwHMLEqn+rxBAZAzatQCP6T/dIWEoWpAZQMPwglYIkSbAdc/O6LaPAUC4FZzLMsgUQDW6JjkDlRjAh8o8pyWX1L85ciH3DFYUwLJyy0TrcQDAhD+CBya2HECrsUGteaQmQEIKvCG9BSTAXKlsq9UiGEDeDG79eI0YwJARfcOGJiTAyq4R5MIfFkCDm/lnEY30v8SRWDr2LwFAX5nwMPuEGMBuUMbcJ0glwC3exWbf3BJAN2wMHSPqib/egvN2BSYkwGpIMyhmzOq/nIeuEeoSJcDeQH1vMFb8vx50gFcJaRJABAZ9/oxAJcCf7i3QXYchwCROnUpHXQXAXRgrhxttGsAQWwof9XIIQJ5NO/Otdfm/zekEDUseFkCwJo4kHvsnwNVZR6Xrzw5ALr6oEQQ7GMDnNJ8AV9oWQKNk5i9RzCBAMrY5gvEODUDf5VkDu1kNwHWk9VjCJCTAvfUCV9fm9j9Iw44XoMEnQBv9YlPlMKM/ikk8HSQVB8C2ggm2hCT4vxCP+cFyhiTAp9hCq8YxA8CG14+jumgYwA05r1iUahfAU1DWnL3LBUDDwRYd3VQiwPa6P2sYYB7AAbJKCZkWIkDkh1PE1wYSQH2LV6jsZug/qgiRrUHWBsB9WN7roRoWQJiZfVp96gHAvD0X5jPrA0BKwPB6DnIZwFhDacoqxB5AGj6QDR4+IMCcLyn+2rAnwHJfsKIP1R9Aihwro11AIMA0S4vYCZ0FwOUXfqCFJSTAbHuW9s1XEkBYbfB+KBwhQDVsYMSu2BFA17e9x0xgC8AN5cRxcfQOwJRg4FA1jA9AXQlbQQXl9z9V+7EGoEgFwM+X2rcT0gHAxbtYhCqmIUAs2EvzNecUwH3Sce78biXA/KnXoSSBIMAwUT6SyUQbQJ8cIWsJhRTAvOdoLWwfAsAVcvO2ndMeQMcIvqtwZhvAPSeD8HfwDsDRBo1+8nHov+sBy899tBVAsWU+pNDlDsC8KpsNtaIFQEacu9aImgpAo6wybd27EcC03Oz0vfMRwHb7qYz5y+0//knEgjrAHkDkocsnSH4iQMs+CnGtsRfAb0dUD9GKGMDFs43VKL8VQLriMAAIzBVAyTwzSq3fG0BTN+NjCXAmQNdPJTnHUCRAZ1lP/dXa2r9QR3ASU3cgQGPw2+mYoxtAgLt8SeDvJcBkEfm08iYjwEjuyB1/XQFA68dpEhpwIsB1r+U8pMwmQE6UOxMwbRHAbvRkwB4XEMCyEdmT7VYhwJ4YHI7m/eQ/wXJddhfSCsCbFJ/taXojQDp/S0RVRxJAImUZ6G3THkAz7ysOKz4JwHAofvd4yyZAk0TuUOtCIEAvRF1xPSMWQEfGqNHgPQ/Aqc3dh7D2979wUsjgCnQfQJLDfWGQzR9AWUMmfi6oBcDua1ve3FQCQDlIzqY0swtAr19oulGlJ8C5/82cHqMEwPxxj+3ApR5AMWKPj5j1GUDaQnrD7jP4P1kr1VnWsh9AFm0Mfvgc9T+tm+Q3LNkNQIeixvMHBSdApFuH/T88E8Ct16/DkVgSwPFGv8TRVBJA7BW39Km5HkAgatasOZEIwM/9nETpBCNAQtjf+8R0IMDthiNrVPQZwCP5RQbB7gnAXO6mVEsjAsDBJuNJsYjyP8Y3mNNTswXARcOwE3moC0A+2rSxSVz2P/FhZU02BiZA52s1EqHhxT9c4BhpwmQawDCF77q/y+y/Gb2E0fXvEUAew9NjvewQQHVdLROwRgPAqJiXkQRSAEBJaf8JSYQYwFjCR/dcCArAlz5j0FeSDkAQfLOw1BwhQM/C8lAvnwdA50eHIytx4r+lvu8cq4kTQB5s5deZnxFANwmrkwtFJ8BO1AlufaEoQKNDe0QnxB5AQPrOwgHlIsBA/kBcG9AcQA8qF1sXA/y/TQ6Dv0aOCUBSmeRPAZQgQO0E4gilpxdALRJ/B5lH9z8wUdRjLyMXwM9Nj56K4xHA998DOQS00z8ESO60b1IVQFoWHXEjtSBAWBJwbg8qI0BQc2kA6eYWwP4UHetLpRjA2LI/n2qLCEBoI0vSkRMkwIVNX5f4+ifAIbA9pP84EkAGaux+RmLxv9t9w9bknO4/My7m7iNrJEC2YA1pt+YUQKa0jbW0GtY/AHVVxRgSEUACPQMqBkMEQG74I25+ciDAifOfyDIWFEB69jeQ8jUQwCLup+KDZSbAFvdsBd6S1T9rLmlOXQ4NwBeShA+rWCDAr5vhpJhKD0CZ1rPAyQcawI3w7bLy5RjAdwN83LM3x78DnkU3Vxbxv/kStVjjxiZAK/t/AicyF0AGkX74XwMgQCOkEpuz1RZAlGLJfsMWI8CWNSKFQ+sdwENztE69nB1AvBeJMwUKCMCFoBBhcMwcwLNyFmtcNQRACBGoQPfAEkBJuUnlzkgjwL6K/tBVog1AJeFN1IhdDsAj2A1LpiwLwDdp16LQexTAXOa68opgEkCZ2KKuRuQQQChWsI8GD+4/i3XK+2vzA8Bw8VoKUikiwMc4DYHK/xBATo37L7teJEBOulBRpecXQIATqVtMKiTAC3k5FFb7J8B6U6eGOxcmQPjeg0vzDBTA61nNbmi1+r/TbWEcfXwfwPD4KAWeIiTAiFUK7jmQJkBnN+W0rqz+v3ODWX5A/wtAPf+8E3ifGUCvJyTxG+gCwJ3M20bmYgXAmo9/5UtyEED+VnsHci3oPyMTsudCBBnAORtOAhiuGsDaPCCIjn0TQJfzdLHxJBDAgz3e66iEGUBVEMB+ZuIewOh+vYCAWA/AByttNuskCUCl1hrKePciQKCvGd35WAvAUKKPO5cF9L/sMZW8TC/vP/H8jrFMehfAr/JbyYMHGcDZG5RVNeUaQIL/y77P9xhA33OSwLeGEkDCSsMkxevtP0ILgexPkxXA4CXRnrtzGkCnWHNCI4chQHlWMTGL2OO/dwdSSid+zT+s4g6Q0fkIQMzUKBq5txVAS1mxltyCIUABhK7bzFMkQCxcY8v4kCHAfQghPs+yIsDkT2l3k2chQHEuyMn7xBBAb3YcDLRcCsCJ1vUPxyPzv0Fk0z2kR+W/nKOnNEIjJMDXzQPtcTodQP5D6jjHxCTAXDip9hQ0/r9KIhJahQIiwOyXgXqTyhLAmopWy9QzG0BkaV0d79YewK46ZqT1+RpAFMxzjyacIMBSqC8nDagSwGe0uHgwEv+/4IaPEvYlJMCg0X+lVizuP6KCzASSbxjADkDzwTKIyz/Lzme20a0ZwOOjZGAu6ALAFULdTbJGG0CfbyIfVM0XwK9Hi+qA8xpAVynHYUpeBUAP1Y8ht30kQKHfKvE4/x9Adx6iXzIL8r8c+DRA+zYdwK7TTV9bL+Q//toaIMxMFcAuOLmT+gPlPz3gHJURESRA2hu0RdOl9D/paFzq+gUewKaogPHTNhxAL++taPdCJ8C3YRFq8PsfQHQTZkIJJyTAPP8+Ury2FcA7hO9vt10mwG/AwDCR6h7ALPIQ/SOUEED5nQnKAcTgP65w1jXIXBFAwhSrcvvsH8DUYArCukD9v7RB5efpEea/8sRC05kMF0DBct7oMUslwGUsHaNyGxfASc9YObbyGcAc8EMHfYYJwB4md/q+JyFAkADWJtw7Yb/V4dcT25EQQM6YNKFq2B9AK7mRk93lGMBZOEQTT6AYwPBraFMfjCZAZLFsgrXpCUCjm89ZKPAgQLpEErvKiR5ADgqLfPLTI8BIM8bH6AUlQIOOk6h3jg3AG1cNBW6f9D/w3S7AmtgGwB/fY7JP+wlAAxEyk5VDJ8CP/I4exNwUwNQXb4CQeBTAiJi4g1rRBMCODZi0vtgDQKPuW5VxUBjAAZ+nzYf4A0Apwoj1rCoRwNbQBKrWJRdAXzfoe8RBJ8B9y2Y6kjgjwIN9WRGmPSVAL+A/gmLeIcAtj/BB+QMhwGdxdoG20RhAHTCPI36vCsBQnMkt+bgEwMoDbc1Ch/0/cWOUGvD2BEDraVUEO9skwB8NP09pBxdAM2m4UjUp+z/ZQTpxFnvGvz8uh8cTnPu/vSIq2+nL/L8vT4NJ46ADwC9wXXmybdS/l5utuLk/BcDRy8lsa/4SQLCcjZzmkiZA1hjXWbfSH0BaVsVcC+cSQGNZIsywYyBAh8j9fCnyHcCRIwIqqLcGQIE3B2G9PPq/C4Bwz588D8AjcCL28iUkwNM7hKrA6+g/DHTVndYyJkAqZBkli2whwCCQvgIDaATAIy/37l8FDsCHp2KWXvwWQLaDHE8jkyBADQGo5SfPHsBJkcILY1sIwIsT25EzPShA9YtoswXsHkAo6sMoNjwOwOFzMwkFJhJAhjoiLKTFA8Cu4o1zAo8MwDYngsHEc/2/N3FUYQ+1FED0JodZgk7jP9E0yaozFyBAxOln8SgkJMBpcXf0jCckwJ8jA4sWXf8/WlUZCVRsCsCa60deqiIBwFnvLE2jmPQ/1/4h5cjMFEAwNEzqGFUcQLxQ3DrvzPS/hHuZbO6XCcDovSnghgkRQEfB1Wk07RNAuc8B/JYgH0CzCBB3aIgSwKOUKakhEg5ARd1bk/cl879gJui/eVUoQAkELuR+lvO/W3ggJLHVHkD4XqTdIpgXQCs5CUMyVyhACfPlRpTtHkBAKRH0fjAQQCpheGu2BwtAYppeqGVnFsBxHGiBBcohwEPpQxHbQeS/+Img7UIRIECG7LYf9XfRv8XmKA1cZuK/mK6JyWT3EMC78RqPfwYbQJDSP8joGOS/aVqrhfsYAEBVN/a3SvUFwLXI8hAUqRFAETQUt6jgIcBk3+scYb7+v9+V6dD5oR7AeqgQHzAcIMCE0huGcCL3P7zVftF3ChPADgr1b5JoH8CQsCYK0yEgQMoK9oqVXyRAX3gD6yS9FkCZPCXRyHIUwFAN2gyUeBHA9LqPFIPsBkCp8hEAx4kIQI8LGXBZ/hHAf7HTGjSUH0BKnRhBWyHtP6V7+a3m1xPAVnzLKUO0IEBrbURct/76v2mFjMQSXCNAliNVEy4lA8A7GwoxGKEHQPLSU54VwQ1At6VrhOFB6z8ufZ3Q5eoYwMn2gUh+jiDAh9a+kGxU5L+KZPgPKsAiwFsfbBbWUgTAWKFIb/eCBUBu2h60UP8MwK6eZuxrXANAFkCJifRCGUBnj7lyPX/lP4bsb4a9xRZAmwKCMFAmGcDyh0hb5KsVwIHlqWjgGxZA6Wm889qG9r+v+79a3swSQOlhTHFBMRPAMENrmqID8T+gjTBOhiHgv1NJegQS7fY//nvUEzY6GsAWaFHC4+QmQHQpuO7NchNAUGKGDd4o9r/1wPkKdvIDwID0H2L/0iRAGZjtTnH2HkAB6FDdalf7P6DSuV+Ytg1AHsl8NKdOD0BF7KpJLyXrP+kKHcLoXfi/AFg9EIF6IEAaHC8DQ6cEwHMcRBfVwxNAygc+xs/zGsBBwJCXW14FwIjyte0m2sw/ANCC1hhiEsA0VR7TagEXwFV8lA7rJwbAqoCcm95cHsA399IFg/4SwHyyKyJR4hFA9f+t3wj+F0B7hhEZVswbQBlq+j2fwADApMirOtS/CkBT1b3Tddz4P/syD5yEpQ/AdEQnPyXs2z9IB7QlcagfQDWSorBuDwHAK55tNEj5BkDYkYcOTIAPQDkY7+9teiNAzn8N8vFCJ8Bh0jZ8otIYQO1Ll/RRIRpAXK2+IaRD8b8qVCr9gYwIQBiB8snXliDAmFvDGLwYHUDyvAEfKNsmQOW9PFyOIBVAx68SQQ4EJsBPpEswacoaQOyi+RE4BhfA0MyVkgEYEUBIDu0krWENwDIFEo0Ur/6/4FeXxA/I8L/zyMemfXsHwDbduTS2HR5AOTzgbrBIJEDTuIZNxtoWwIH8wuEKghnAD6KmEQabHUBsGGZpap0awDdUrtJv6Pg/z8lhbXn1BMAlYzVUy+8lwMrnB4+v/9E/DW6RYRZCJ8CxdTWmY3MVwBlY+rEBMiLAjFGekR1C77+TbcG7BcUcQMgjmE3ZIRDAqkfWbcNsIUCNF58cf9QYwHI50rPRICXAJD8Q0a6pIUApT5ZIa4kDwP5HVr33F+e/pWiisjWiCsB3p/1TguQYQKSo8jBVeRrAXLZVjY8M4D/pUCWDELQgQG1qQ3s1wBZAEvhey29JJ8DF5YH1XqTuv5Vw2VEIxQlAqqw5WAbe8T8t0CwVzSsKwBr/GBtwiPi/Nw4fwi1bFUDY1YR2ymQhwJVPlTWMlBvAapWQXxerIsAw37BWAALqv8YDoEuPNSPAGLG+/hIqDkA2L29LGt0kwLzdR5kJoOU/yJcQtpG/HkCqsJVqojLvP08v/Ljbhd6/NhJ3NPXlA0B5YrGQHvz+vyA628nfMANA2O3dpkbBHkCYYCXsIIckwBLgp/UYRRnAI9QldfytIsDsoJruUEwQwO/P62CMtwpAEqG6P+9qAsAs6pjf7lnVP+pkZYvsxu8/gIO+AJZRJMDeD0WGqOsVQBoTl4n2uhFAkGXj65rsIUDDBAYYvRwRQPXWxbULBxTAxt6w41M09z8ZIaolHfMRQOkF8JX/Uuw/rZwB44BNAsBif3kOSfwYwP/pZ/XDwADAmcURU14/J8A7xfSUKe4kQC2mWj7jKsI/0yoeBuMHDMA+dq7hhhvuPz9hgRco8hVAXQEoHgSgIMBlZCiCr24FQIq49RV/XAHAQFrt8vkDIcDorOHhRe4VwLXXTCNxRARADo5uvBjHE0CknrUdyUQGwPgqOl5O/f2/szOt+wFXF8CJpTpaKvfuP2IdoqYHOxPAp5HxsLM76L/l8NVYLjLvPwkIi1rE1BLAZrY2qCXpGMAx62i1ZEAMwFQxkzxK6R5APia9xnwXEcBgP16K46UmQPs3X9UpFRfAs6ydQHWKEUBO6Ted4h8OQA0MaFqVkALAendNfm0nJMD3JuGFlq4kwDUU4ozHHiXAzJIIUyqU6b8DsLRNoa0cQPwAH9YVvv2/tC0rImfyGcCkPoDKWPgHQBCbaEysob0/DmX/KoB8FUDB59X6jH8LQC1J85dAJB7A69xLq9VJJcCzO/MG/mccQFixCJfdhBnAf9GgD/T3JEAygP2Ycq8LQBJkkDJeGRrAJoBsfi9zI0CDBbqBE/ALwDrNUXEbciFAmEY44hLBEsBUUaNklyz6P800RNXkdv8/75tqp9xkA8B1TqJSh43gP9QJoHd+igTA9tja2iX09z/4KagbaTwRQBr50P5pgBJAkLGPKdkaJMC/P3l1Gy8VwOnndHXmTSRAieJAoYUxE8COAD9hfVsKwK8FJMddzSBA/Or97wudHkDsU00L7sXgv3JGL56IIRHAKQKPeK7rI8AGKP7STlMNQPzZcmdr1RRAYVNr4CFFn7890L1kyAIGQK2cAffd4h5Ai1sDnCnaJ0A9TBNXws4iwHvbZehT9RHAO3bOyRsBFMC/x0fx4rkXwB4CjKd6VQ3AY4kOH+/X+j/K/Pmwt1UEQBBeEk1S7xDAPKFhyQXxCkDGa65uFk0XQNP8hl5cZPM/WfAPHiq2DkApRWKp+LECQIMLgupYJAHANw/4jJYsFUBQQr6bqUMnwOWQAM6w2RpA4cbNGUksIcBAzSXZD7/Ev/rgI+SHdyDARwHP7Ey8+b/miE1u1JURQEww0HwTwh9AQVj42gyyF0B+JpbgQNEOwJPvUySd6RhAMuVMK7R2HsATXZr/Mf4QQAAuLyf2phHAwrXy5HgwFUBI88dZDmHjP6zz3Dou8BnAEWRCaaFIDkB/zwgDN+4HwIqyCmMmsNK/wL0r0NEUGEDhaeLhw+IVQKuM/GmgLBRALkGrZtWyGUDYm6eoD4b4v5YEvgenIei/ltjyBl39JED3LhYHqD0SwJsL14kXggbAXa7OF/Z0HMBGbahTb0USwOotnzPKYN8/+Bm9BNDTBUBcnf+hMT0TwEo3J8JQUgPA0GQi79e94T8pLiPAfqMaQDCLvRFn3iPAvIKD3vSHFEAiVCe3SLwbwLroFURyoAvANzeLPLp1HECkDGZ2wXkYQG/AHufts9U/2prJkfNXH0D2eu/G6RoVQIYiGy1b0CNAVVUHyaBXFMBsSHQxkzgjwKJCn31FLCZAHj1kJDt1D8An4LxtzO0JQEjDeu32DPI/9FSZkIM41D+0EHUpSC7rPxwXwP8qbB/AU5pvMg2rE8AC2FKjfAQSQElR82hIC++/dvbDAT+sE8C07AQH/S4nwJ0jGrpr/gZAU9F8MGf4EsCqwmGGuYgmQNCVelg+SRdAlNO2a9y85z+KQvUFDMjsv/z5v479SAvATsdr8I5RF8DVpLz6IhISQLntkzyHbhTA+btT5rDjIcD/o0Ie+okKwNTZ+FxQcCFA3zWwoQiWHMACbMyr4pUMwMUOyoHKaxbA5zmeEdbPJECEnAupKr4AwPOZWYVDlCXAWlfsIETgIEC4kSJEjUPmv1fSRRQdlCBAX41CAmdUD0C8yF2pFYggwA==\",\"dtype\":\"float64\",\"shape\":[5000]},\"y_coord\":{\"__ndarray__\":\"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\",\"dtype\":\"float64\",\"shape\":[5000]}}},\"id\":\"0c823d03-cd71-43ae-8f77-8722308ebd28\",\"type\":\"ColumnDataSource\"},{\"attributes\":{\"active_drag\":\"auto\",\"active_scroll\":{\"id\":\"41f1d205-5469-4788-bb18-fbfc57459ae4\",\"type\":\"WheelZoomTool\"},\"active_tap\":\"auto\",\"tools\":[{\"id\":\"1b184be3-985c-4ecb-9e2d-4687036dc923\",\"type\":\"PanTool\"},{\"id\":\"41f1d205-5469-4788-bb18-fbfc57459ae4\",\"type\":\"WheelZoomTool\"},{\"id\":\"c45ed44d-2edf-4c83-83e7-387bce80380a\",\"type\":\"BoxZoomTool\"},{\"id\":\"71ae8a07-6247-4b4b-a00f-81d86f18f692\",\"type\":\"BoxSelectTool\"},{\"id\":\"169811ba-ca8d-4a32-8c8e-c831c7443ac3\",\"type\":\"ResizeTool\"},{\"id\":\"31cb9a27-f70e-47ce-8e8c-d3f8ec6a60a8\",\"type\":\"ResetTool\"},{\"id\":\"84c5eaf5-4839-4c2f-9f82-c8e42819ed38\",\"type\":\"HoverTool\"}]},\"id\":\"be815a47-9e02-4d51-b47c-50a85f0e6768\",\"type\":\"Toolbar\"},{\"attributes\":{\"plot\":{\"id\":\"7a7753e7-46a6-406f-8451-b31df11fc232\",\"subtype\":\"Figure\",\"type\":\"Plot\"}},\"id\":\"41f1d205-5469-4788-bb18-fbfc57459ae4\",\"type\":\"WheelZoomTool\"},{\"attributes\":{\"plot\":{\"id\":\"7a7753e7-46a6-406f-8451-b31df11fc232\",\"subtype\":\"Figure\",\"type\":\"Plot\"}},\"id\":\"1b184be3-985c-4ecb-9e2d-4687036dc923\",\"type\":\"PanTool\"},{\"attributes\":{\"bottom_units\":\"screen\",\"fill_alpha\":{\"value\":0.5},\"fill_color\":{\"value\":\"lightgrey\"},\"left_units\":\"screen\",\"level\":\"overlay\",\"line_alpha\":{\"value\":1.0},\"line_color\":{\"value\":\"black\"},\"line_dash\":[4,4],\"line_width\":{\"value\":2},\"plot\":null,\"render_mode\":\"css\",\"right_units\":\"screen\",\"top_units\":\"screen\"},\"id\":\"7b077198-599b-4d56-a18b-a375326cc18d\",\"type\":\"BoxAnnotation\"}],\"root_ids\":[\"7a7753e7-46a6-406f-8451-b31df11fc232\"]},\"title\":\"Bokeh Application\",\"version\":\"0.12.5\"}};\n",
       "            var render_items = [{\"docid\":\"8bc1e15c-4a8d-4bde-b3db-34ac0b36718e\",\"elementid\":\"d5b17324-403b-4007-9769-ce1a59ce39be\",\"modelid\":\"7a7753e7-46a6-406f-8451-b31df11fc232\"}];\n",
       "            \n",
       "            Bokeh.embed.embed_items(docs_json, render_items);\n",
       "          };\n",
       "          if (document.readyState != \"loading\") fn();\n",
       "          else document.addEventListener(\"DOMContentLoaded\", fn);\n",
       "        })();\n",
       "      },\n",
       "      function(Bokeh) {\n",
       "      }\n",
       "    ];\n",
       "  \n",
       "    function run_inline_js() {\n",
       "      \n",
       "      if ((window.Bokeh !== undefined) || (force === true)) {\n",
       "        for (var i = 0; i < inline_js.length; i++) {\n",
       "          inline_js[i](window.Bokeh);\n",
       "        }if (force === true) {\n",
       "          display_loaded();\n",
       "        }} else if (Date.now() < window._bokeh_timeout) {\n",
       "        setTimeout(run_inline_js, 100);\n",
       "      } else if (!window._bokeh_failed_load) {\n",
       "        console.log(\"Bokeh: BokehJS failed to load within specified timeout.\");\n",
       "        window._bokeh_failed_load = true;\n",
       "      } else if (force !== true) {\n",
       "        var cell = $(document.getElementById(\"d5b17324-403b-4007-9769-ce1a59ce39be\")).parents('.cell').data().cell;\n",
       "        cell.output_area.append_execute_result(NB_LOAD_WARNING)\n",
       "      }\n",
       "  \n",
       "    }\n",
       "  \n",
       "    if (window._bokeh_is_loading === 0) {\n",
       "      console.log(\"Bokeh: BokehJS loaded, going straight to plotting\");\n",
       "      run_inline_js();\n",
       "    } else {\n",
       "      load_libs(js_urls, function() {\n",
       "        console.log(\"Bokeh: BokehJS plotting callback run at\", now());\n",
       "        run_inline_js();\n",
       "      });\n",
       "    }\n",
       "  }(this));\n",
       "</script>"
      ]
     },
     "metadata": {},
     "output_type": "display_data"
    }
   ],
   "source": [
    "# add the dataframe as a ColumnDataSource for Bokeh\n",
    "plot_data = ColumnDataSource(tsne_vectors)\n",
    "\n",
    "# create a plot and configure the external variables\n",
    "tsne_plot = figure(title=u't-SNE Word Embeddings',\n",
    "                   plot_width = 800,\n",
    "                   plot_height = 800,\n",
    "                   tools = (u'pan, wheel_zoom, box_zoom',\n",
    "                            u'box_select, resize, reset'),\n",
    "                   active_scroll = u'wheel_zoom')\n",
    "\n",
    "# add a hovel tool to display words on mouse-over\n",
    "tsne_plot.add_tools(HoverTool(tooltips = u'@word'))\n",
    "\n",
    "# draw the words as circles on the plot\n",
    "tsne_plot.circle(u'x_coord', u'y_coord', source=plot_data,\n",
    "                color=u'blue', line_alpha=0.2, fill_alpha=0.1,\n",
    "                size=10, hover_line_color=u'black')\n",
    "\n",
    "# configure the plot's visual elements\n",
    "tsne_plot.title.text_font_size = value(u'16pt')\n",
    "tsne_plot.xaxis.visible = False\n",
    "tsne_plot.yaxis.visible = False\n",
    "tsne_plot.grid.grid_line_color = None\n",
    "tsne_plot.outline_line_color = None\n",
    "\n",
    "# the plot is complete! Let's look at it!\n",
    "show(tsne_plot)"
   ]
  },
  {
   "cell_type": "markdown",
   "metadata": {},
   "source": []
  }
 ],
 "metadata": {
  "kernelspec": {
   "display_name": "Python 3",
   "language": "python",
   "name": "python3"
  },
  "language_info": {
   "codemirror_mode": {
    "name": "ipython",
    "version": 3
   },
   "file_extension": ".py",
   "mimetype": "text/x-python",
   "name": "python",
   "nbconvert_exporter": "python",
   "pygments_lexer": "ipython3",
   "version": "3.6.1"
  }
 },
 "nbformat": 4,
 "nbformat_minor": 2
}
